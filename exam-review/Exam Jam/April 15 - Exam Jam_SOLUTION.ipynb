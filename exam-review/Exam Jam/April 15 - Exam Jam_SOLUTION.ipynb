{
 "cells": [
  {
   "cell_type": "markdown",
   "id": "66c49cfd",
   "metadata": {},
   "source": [
    "## Question 1"
   ]
  },
  {
   "cell_type": "code",
   "execution_count": 16,
   "id": "a9128c43",
   "metadata": {},
   "outputs": [
    {
     "name": "stdout",
     "output_type": "stream",
     "text": [
      "('Apple', 'iOS')\n"
     ]
    }
   ],
   "source": [
    "smartphones = {\n",
    "    'brands': ['Apple', 'Samsung', 'Google', 'OnePlus'],\n",
    "    'specs': {\n",
    "        'Apple': ('iPhone 12', 2020),\n",
    "        'Samsung': ('Galaxy S20', 2020),\n",
    "        'Google': ('Pixel 5', 2020),\n",
    "        'OnePlus': ('8T', 2020)\n",
    "    },\n",
    "    'features': [\n",
    "        ('Apple', 'iOS'),\n",
    "        ('Samsung', 'Android'),\n",
    "        ('Google', 'Stock Android'),\n",
    "        ('OnePlus', 'Fast Charging')\n",
    "    ]\n",
    "}\n",
    "\n",
    "print(smartphones['features'][-4:-2][0])  \n",
    "# remember that smartphones['features'][-4:-2] returns a list for us\n",
    "# with two entries!"
   ]
  },
  {
   "cell_type": "markdown",
   "id": "34e7baf7",
   "metadata": {},
   "source": [
    "## Question 2"
   ]
  },
  {
   "cell_type": "code",
   "execution_count": 5,
   "id": "17726e7d",
   "metadata": {},
   "outputs": [
    {
     "name": "stdout",
     "output_type": "stream",
     "text": [
      "2\n"
     ]
    },
    {
     "ename": "TypeError",
     "evalue": "'set' object is not subscriptable",
     "output_type": "error",
     "traceback": [
      "\u001b[0;31m---------------------------------------------------------------------------\u001b[0m",
      "\u001b[0;31mTypeError\u001b[0m                                 Traceback (most recent call last)",
      "\u001b[0;32m<ipython-input-5-44379293f2c5>\u001b[0m in \u001b[0;36m<module>\u001b[0;34m\u001b[0m\n\u001b[1;32m      4\u001b[0m \u001b[0;34m\u001b[0m\u001b[0m\n\u001b[1;32m      5\u001b[0m \u001b[0mprint\u001b[0m\u001b[0;34m(\u001b[0m\u001b[0mlen\u001b[0m\u001b[0;34m(\u001b[0m\u001b[0mvalues3\u001b[0m\u001b[0;34m)\u001b[0m\u001b[0;34m)\u001b[0m\u001b[0;34m\u001b[0m\u001b[0;34m\u001b[0m\u001b[0m\n\u001b[0;32m----> 6\u001b[0;31m \u001b[0mprint\u001b[0m\u001b[0;34m(\u001b[0m\u001b[0mvalues3\u001b[0m\u001b[0;34m[\u001b[0m\u001b[0;36m0\u001b[0m\u001b[0;34m]\u001b[0m\u001b[0;34m)\u001b[0m\u001b[0;34m\u001b[0m\u001b[0;34m\u001b[0m\u001b[0m\n\u001b[0m",
      "\u001b[0;31mTypeError\u001b[0m: 'set' object is not subscriptable"
     ]
    }
   ],
   "source": [
    "values1 = set(list('heyheyhey')) # {'e','h','y'}\n",
    "values2 = {'h','e','l','l','o','t','h','e','r','e'} # drop duplicates\n",
    "values3 = values1.intersection(values2) # common values -> {'e','h'}\n",
    "\n",
    "print(len(values3))\n",
    "print(values3[0])"
   ]
  },
  {
   "cell_type": "markdown",
   "id": "ed7b8a1c",
   "metadata": {},
   "source": [
    "## Question 3"
   ]
  },
  {
   "cell_type": "code",
   "execution_count": 93,
   "id": "462734c1",
   "metadata": {},
   "outputs": [
    {
     "name": "stdout",
     "output_type": "stream",
     "text": [
      "{'key1': 50, 'key2': 60, 'key3': 70, 'key4': 40}\n"
     ]
    }
   ],
   "source": [
    "def my_func(param = {'key1': 0, 'key2': 0}):\n",
    "    for key in param:\n",
    "        param[key] += 40\n",
    "    \n",
    "    param['key4'] = 40 \n",
    "    # to check for aliasing, print out the id() of variables!\n",
    "    # print(id(param))\n",
    "    param = dict(param)\n",
    "    param['key5'] = 70\n",
    "        \n",
    "arg = {'key1':10, 'key2':20, 'key3': 30}\n",
    "#print(id(arg))\n",
    "my_func(arg)\n",
    "\n",
    "print(arg)"
   ]
  },
  {
   "cell_type": "markdown",
   "id": "b0e7e67f",
   "metadata": {},
   "source": [
    "## Question 4"
   ]
  },
  {
   "cell_type": "code",
   "execution_count": 27,
   "id": "72b40cb7",
   "metadata": {},
   "outputs": [
    {
     "name": "stdout",
     "output_type": "stream",
     "text": [
      "211\n"
     ]
    }
   ],
   "source": [
    "my_result = \"\"\n",
    "\n",
    "# hint always print out what you are iterating over\n",
    "for i in range(221, 209, -4):  # 221, 217, 213\n",
    "    my_result += str(i)[-2] \n",
    "print(my_result)  "
   ]
  },
  {
   "cell_type": "markdown",
   "id": "ea6e2ead",
   "metadata": {},
   "source": [
    "## Question 5"
   ]
  },
  {
   "cell_type": "code",
   "execution_count": 28,
   "id": "30ff1bad",
   "metadata": {},
   "outputs": [
    {
     "name": "stdout",
     "output_type": "stream",
     "text": [
      "True\n"
     ]
    }
   ],
   "source": [
    "class Digit:\n",
    "    def __init__(self, digit):\n",
    "        self.digit = digit \n",
    "\n",
    "class Number:\n",
    "    def __init__(self, digit):\n",
    "        self.number = int(digit.digit)\n",
    "\n",
    "    def printer(self):\n",
    "        return self.number\n",
    "\n",
    "# Creating instances of Digit and Number\n",
    "digit1 = Digit(\"5\")\n",
    "Number1 = Number(digit1) \n",
    "Number2 = Number(Digit(\"3\"))\n",
    "\n",
    "print(Number1.printer() > Number2.printer())"
   ]
  },
  {
   "cell_type": "markdown",
   "id": "742c0de5",
   "metadata": {},
   "source": [
    "## Question 6"
   ]
  },
  {
   "cell_type": "code",
   "execution_count": 69,
   "id": "f8373f2e",
   "metadata": {
    "scrolled": true
   },
   "outputs": [
    {
     "data": {
      "text/plain": [
       "Name          Bob\n",
       "Subject    CIV185\n",
       "Grade          95\n",
       "Name: 1, dtype: object"
      ]
     },
     "execution_count": 69,
     "metadata": {},
     "output_type": "execute_result"
    }
   ],
   "source": [
    "import pandas as pd\n",
    "\n",
    "data = [\n",
    "    [\"Alice\", \"APS106\", 92, \"MY150\"],\n",
    "    [\"Bob\", \"CIV185\", 95, \"BA1150\"],\n",
    "    [\"Charlie\", \"APS112\", 73, \"MY150\"],\n",
    "    [\"Diana\", \"MAT187\", 88, \"MC252\"]\n",
    "]\n",
    "columns = [\"Name\", \"Subject\", \"Grade\", \"Location\"]\n",
    "\n",
    "students_df = pd.DataFrame(data, columns=columns)\n",
    "\n",
    "students_df.sort_values(by = \"Name\")\n",
    "students_df.loc[0:2, \"Name\":\"Grade\"].iloc[-2] # .iloc[-2] == .iloc[-2, :]"
   ]
  },
  {
   "cell_type": "markdown",
   "id": "81235bc7",
   "metadata": {},
   "source": [
    "## Question 7"
   ]
  },
  {
   "cell_type": "code",
   "execution_count": 99,
   "id": "82c56e73",
   "metadata": {},
   "outputs": [
    {
     "name": "stdout",
     "output_type": "stream",
     "text": [
      "[(0, 3, 'Even'), (0, 4, 'Even'), (1, 3, 'Odd'), (1, 4, 'Odd')]\n"
     ]
    }
   ],
   "source": [
    "i = 0\n",
    "results = []\n",
    "while i < 2:\n",
    "    for num in range(3, 5):\n",
    "        if i % 2 == 0:\n",
    "            results.append((i, num, \"Even\")) # notice we append i!\n",
    "        else:\n",
    "            results.append((i, num, \"Odd\"))\n",
    "    i += 1\n",
    "\n",
    "print(results)"
   ]
  },
  {
   "cell_type": "markdown",
   "id": "8df23e4f",
   "metadata": {},
   "source": [
    "## Question 8"
   ]
  },
  {
   "cell_type": "code",
   "execution_count": 102,
   "id": "8a596992",
   "metadata": {},
   "outputs": [
    {
     "name": "stdout",
     "output_type": "stream",
     "text": [
      "HELLO_WORLD.\n"
     ]
    }
   ],
   "source": [
    "input_string = \"  Hello World.  \"\n",
    "input_string = input_string.strip().replace(\" \", \"_\").upper()\n",
    "input_string = input_string.replace('World','APS106') # notice the case sensitivty of World\n",
    "input_string.lower()\n",
    "print(input_string)"
   ]
  },
  {
   "cell_type": "markdown",
   "id": "b53f267f",
   "metadata": {},
   "source": [
    "## Long Questions"
   ]
  },
  {
   "cell_type": "markdown",
   "id": "847603f7",
   "metadata": {},
   "source": [
    "### Text File Formatter\n",
    "\n",
    "Write a program that iterates through the comma-separated file weekly `temperatures.txt`, and writes each week’s temperature (represented by an individual row) to a nested list `weekly_temperatures`. "
   ]
  },
  {
   "cell_type": "code",
   "execution_count": 1,
   "id": "ce7508bf",
   "metadata": {},
   "outputs": [
    {
     "name": "stdout",
     "output_type": "stream",
     "text": [
      "[[20, 22, 21, 19, 18, 17, 21], [22, 24, 23, 25, 26, 24, 22], [21, 23, 22, 20, 19, 20, 21]]\n"
     ]
    }
   ],
   "source": [
    "weekly_temperatures = []\n",
    "\n",
    "with open('weekly_temperatures.txt', mode='r') as file:\n",
    "\n",
    "    for row in file.readlines(): # parses the file into a list, each entry is a row\n",
    "        \n",
    "        row = row.strip('\\n') # removing trailing \\n\n",
    "        \n",
    "        temperatures = []\n",
    "        \n",
    "        for temperature in row.split(','): # iterate over each row\n",
    "            \n",
    "            temperatures.append(int(temperature)) # converting to int automatically removes white-space formatting\n",
    "\n",
    "        weekly_temperatures.append(temperatures)\n",
    "\n",
    "print(weekly_temperatures)"
   ]
  },
  {
   "cell_type": "markdown",
   "id": "e68f955e",
   "metadata": {},
   "source": [
    "### Pet Database"
   ]
  },
  {
   "cell_type": "code",
   "execution_count": 60,
   "id": "22451466",
   "metadata": {},
   "outputs": [],
   "source": [
    "class PetDatabase:\n",
    "    \"\"\"A class that stores information about owners and their pets\"\"\"\n",
    "    \n",
    "    def __init__(self):\n",
    "        \"\"\"\n",
    "        (self) -> None\n",
    "        Initalizes a new instance of the PetDatabase class, creates\n",
    "        an empty dictionary which will store the owner information\n",
    "        as keys and their pets as a list.\n",
    "        \"\"\"\n",
    "        self.database = {}\n",
    "        \n",
    "    def __str__(self):\n",
    "        \"\"\"\n",
    "        (self) -> str\n",
    "        Prints out the database information when print() is\n",
    "        called on the PetDatabase class.\n",
    "        \"\"\"\n",
    "        return str(self.database)\n",
    "\n",
    "    def add_pet(self, pet_name, owner_name):\n",
    "        \"\"\"\n",
    "        (self, str, str) -> None\n",
    "        Adds a pet to the database under the owner's name by \n",
    "        updating the dictionary. If the owner is already present\n",
    "        update the value list to keep all their pet information.\n",
    "        \"\"\"\n",
    "        if owner_name in self.database:\n",
    "            self.database[owner_name].append(pet_name)\n",
    "        else:\n",
    "            self.database[owner_name] = [pet_name]\n",
    "\n",
    "    def remove_pet(self, pet_name, owner_name):\n",
    "        \"\"\"\n",
    "        (self, str, str) -> None\n",
    "        Removes a pet from the dictionary database. \n",
    "        If the owner has no more pets, removes the owner.\n",
    "        \"\"\"\n",
    "        if owner_name in self.database:\n",
    "            \n",
    "            self.database[owner_name].remove(pet_name)\n",
    "            \n",
    "            # if the owner has no more pets, we delete the owner\n",
    "            if not self.database[owner_name]:\n",
    "                del self.database[owner_name]           \n",
    "        else:\n",
    "            print(\"Pet not found\")\n",
    "\n",
    "    def find_pets_by_owner(self, owner_name):\n",
    "        \"\"\"\n",
    "        (self, str) -> \n",
    "        Returns a list of pets owned by the \n",
    "        specified owner. Returns an empty list if no pets are found.\n",
    "        \"\"\"\n",
    "        return self.database.get(owner_name, [])"
   ]
  },
  {
   "cell_type": "code",
   "execution_count": 61,
   "id": "b969d194",
   "metadata": {},
   "outputs": [
    {
     "name": "stdout",
     "output_type": "stream",
     "text": [
      "['Catonio Banderas']\n",
      "{'Katia': ['Tisha', 'Nugget'], 'Ben': ['Catonio Banderas']}\n"
     ]
    }
   ],
   "source": [
    "pet_db = PetDatabase()\n",
    "\n",
    "pet_db.add_pet(\"Tisha\", \"Katia\")\n",
    "pet_db.add_pet(\"Catonio Banderas\", \"Ben\")\n",
    "pet_db.add_pet(\"Nugget\", \"Katia\")\n",
    "pet_db.add_pet(\"Moody\", \"Katia\")\n",
    "\n",
    "pet_db.remove_pet(\"Moody\", \"Katia\") # remove Moody\n",
    "\n",
    "print(pet_db.find_pets_by_owner(\"Ben\")) # Expected output: ['Catonio Banderas']\n",
    "\n",
    "print(pet_db)"
   ]
  },
  {
   "cell_type": "markdown",
   "id": "6530759d",
   "metadata": {},
   "source": [
    "## String Scramble"
   ]
  },
  {
   "cell_type": "code",
   "execution_count": 3,
   "id": "b79c4f47",
   "metadata": {},
   "outputs": [],
   "source": [
    "def scramble_items(sample_list):\n",
    "    \"\"\"[item, item,... ,item] —> [str, str,... ,str] \n",
    "    Input: list of items that could be int, float, or string. \n",
    "    Output: list of scrambled strings. \"\"\"\n",
    "    \n",
    "    scrambled_items = []  # Initialize an empty list to hold the scrambled items\n",
    "    for item in sample_list:\n",
    "        s = str(item)  # Convert the item to a string\n",
    "        odd_chars = ''\n",
    "        even_chars = ''\n",
    "        # Split the characters into odd and even index groups\n",
    "        for i in range(len(s)):\n",
    "            if i % 2 == 0:\n",
    "                even_chars += s[i]  # Characters from even indices\n",
    "            else:\n",
    "                odd_chars += s[i]  # Characters from odd indices\n",
    "                \n",
    "        # Combine characters from odd indices followed by even indices\n",
    "        scrambled = odd_chars + even_chars\n",
    "        # Append the scrambled string to the list\n",
    "        scrambled_items.append(scrambled)\n",
    "        \n",
    "    return scrambled_items"
   ]
  },
  {
   "cell_type": "markdown",
   "id": "4604fbfa",
   "metadata": {},
   "source": [
    "Alternative solution!"
   ]
  },
  {
   "cell_type": "code",
   "execution_count": 1,
   "id": "25af5956",
   "metadata": {},
   "outputs": [],
   "source": [
    "def scramble_items(sample_list):\n",
    "    \"\"\"[item, item,... ,item] —> [str, str,... ,str] \n",
    "    Input: list of items that could be int, float, or string. \n",
    "    Output: list of scrambled strings. \"\"\"\n",
    "    \n",
    "    scrambled_items = []  # Initialize an empty list to hold the scrambled items\n",
    "    for item in sample_list:\n",
    "        s = str(item)  # Convert the item to a string\n",
    "        \n",
    "        odd_chars = s[1::2] # start at index 1, collect every 2 indices\n",
    "        even_chars = s[::2] # start at index 0, collect every 2 indices\n",
    "\n",
    "        # Combine characters from odd indices followed by even indices\n",
    "        scrambled = odd_chars + even_chars\n",
    "        # Append the scrambled string to the list\n",
    "        scrambled_items.append(scrambled)\n",
    "        \n",
    "    return scrambled_items"
   ]
  },
  {
   "cell_type": "code",
   "execution_count": 4,
   "id": "6072b58b",
   "metadata": {},
   "outputs": [
    {
     "name": "stdout",
     "output_type": "stream",
     "text": [
      "['lnTsEo uk', '240', 'asR.Mr d ', 'nier!Egnes']\n"
     ]
    }
   ],
   "source": [
    "sample_list = ['Elon Tusk', 420, 'Mars Rd. ' , \"Engineers!\"] \n",
    "new_list = scramble_items(sample_list) \n",
    "print(new_list)  # Output: ['lnTsEo uk', '240', 'asR.Mr d', '451332'"
   ]
  },
  {
   "cell_type": "code",
   "execution_count": null,
   "id": "cbc232ee",
   "metadata": {},
   "outputs": [],
   "source": []
  }
 ],
 "metadata": {
  "kernelspec": {
   "display_name": "Python 3",
   "language": "python",
   "name": "python3"
  },
  "language_info": {
   "codemirror_mode": {
    "name": "ipython",
    "version": 3
   },
   "file_extension": ".py",
   "mimetype": "text/x-python",
   "name": "python",
   "nbconvert_exporter": "python",
   "pygments_lexer": "ipython3",
   "version": "3.8.5"
  }
 },
 "nbformat": 4,
 "nbformat_minor": 5
}
