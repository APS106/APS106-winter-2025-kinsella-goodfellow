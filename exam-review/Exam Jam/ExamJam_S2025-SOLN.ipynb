{
 "cells": [
  {
   "cell_type": "markdown",
   "metadata": {},
   "source": [
    "# What is the output?"
   ]
  },
  {
   "cell_type": "markdown",
   "metadata": {
    "vscode": {
     "languageId": "plaintext"
    }
   },
   "source": [
    "## Question 1"
   ]
  },
  {
   "cell_type": "code",
   "execution_count": 2,
   "metadata": {},
   "outputs": [
    {
     "name": "stdout",
     "output_type": "stream",
     "text": [
      "['pen', 'notebook', 'eraser']\n",
      "['pencil']\n",
      "['pen', 'notebook', 'eraser']\n",
      "['pen', 'notebook', 'eraser']\n"
     ]
    }
   ],
   "source": [
    "items = [\"pen\", \"notebook\"]\n",
    "\n",
    "def modify_list(lst):\n",
    "    lst.append(\"eraser\")\n",
    "    print(lst)\n",
    "    lst = [\"pencil\"]\n",
    "    print(lst)\n",
    "    print(items)\n",
    "\n",
    "modify_list(items)\n",
    "print(items)\n"
   ]
  },
  {
   "cell_type": "markdown",
   "metadata": {},
   "source": [
    "## Question 2"
   ]
  },
  {
   "cell_type": "code",
   "execution_count": 3,
   "metadata": {},
   "outputs": [
    {
     "name": "stdout",
     "output_type": "stream",
     "text": [
      "milk -> 5\n",
      "eggs -> 6\n",
      "Added: cereal! cereal -> 3\n",
      "bread -> 5\n",
      "Added: cereal! cereal -> 3\n"
     ]
    }
   ],
   "source": [
    "def restock(shelf, new_product=\"bread\"):\n",
    "    shelf[new_product] = 3\n",
    "    for product, stock in shelf.items():\n",
    "        if stock < 2:\n",
    "            shelf[product] = 5\n",
    "        elif product == new_product:\n",
    "            print(\"Added:\", product, end='! ')\n",
    "        else:\n",
    "            shelf[product] += 2\n",
    "        print(product, \"->\", shelf[product], end='\\n')\n",
    "\n",
    "shelves = [{\"milk\": 1, \"eggs\": 4}, {\"bread\" : 0}]\n",
    "\n",
    "for shelf in shelves:\n",
    "    restock(shelf, \"cereal\")\n"
   ]
  },
  {
   "cell_type": "markdown",
   "metadata": {},
   "source": [
    "# Long Answer - Write the Code"
   ]
  },
  {
   "cell_type": "markdown",
   "metadata": {},
   "source": [
    "## Question 1 - Define a Class\n",
    "\n",
    "### Part A\n",
    "Using the provided docstrings, complete the `__init__`, `__str__`, `add_review`, `compute_avg_rating`, and `recommend` methods for the `Restaurant` class below."
   ]
  },
  {
   "cell_type": "code",
   "execution_count": null,
   "metadata": {},
   "outputs": [],
   "source": [
    "class Restaurant:\n",
    "    \n",
    "    def __init__(self, name, cuisine):\n",
    "        \"\"\"\n",
    "        Creates a Restaurant object with three data attributes:\n",
    "        name, cuisine, and ratings. name and cuisine\n",
    "        are strings and given as input parameters, rating is a list of floats and \n",
    "        should be initialized by this method to be an empty list.\n",
    "        \"\"\"\n",
    "        self.name = name\n",
    "        self.cuisine = cuisine\n",
    "        self.ratings = []\n",
    "        \n",
    "        \n",
    "    def __str__(self):\n",
    "        \"\"\"\n",
    "        (Restaurant) -> None\n",
    "        \n",
    "        This method should return the following message:\n",
    "        \n",
    "        The restaurant {name} serves {cuisine} cuisine.\n",
    "        \n",
    "        Where {name} and {cuisine} should be replaced with the name and \n",
    "        cuisine attributes of the Restaurant object. \n",
    "        \"\"\"\n",
    "        return \"The restaurant \" + self.name + \" serves \" + self.cuisine + \"cuisine.\"\n",
    "        \n",
    "        \n",
    "    def add_review(self, score):\n",
    "        \"\"\"\n",
    "        (Restaurant, float) -> None\n",
    "        \n",
    "        This method adds a score passed in as an argument to the list of \n",
    "        ratings for the restaurant\n",
    "        \"\"\"\n",
    "        self.ratings.append(score)\n",
    "\n",
    "    def compute_average_rating(self):\n",
    "        \"\"\"\n",
    "        (Restaurant) -> float\n",
    "        \n",
    "        This method calculates and returns the average rating of the restaurant.\n",
    "        If there are no ratings, this method should return 0.0.\n",
    "        \"\"\"\n",
    "        if len(self.ratings) == 0:\n",
    "            avg = 0.0\n",
    "        else:\n",
    "            avg = sum(self.ratings) / len(self.ratings)\n",
    "        return avg\n",
    "    \n",
    "        # or using a loop\n",
    "        #sum = 0\n",
    "        #for rating in self.ratings:\n",
    "        #    sum += rating\n",
    "\n",
    "        #avg = sum / len(self.ratings)\n",
    "        \n",
    "\n",
    "    def recommend(self, min_rating):\n",
    "        \"\"\"\n",
    "        (Restaurant, float) -> bool\n",
    "        \n",
    "        This method calculates the average rating of a restaurant and \n",
    "        determines if it should be recommended to a customer. If the restaurant's\n",
    "        average rating is greater than or equal to the min_rating parameter,\n",
    "        the method should return True, if the average rating is less than the\n",
    "        min_rating, the method should return False.\n",
    "        \n",
    "        You may assume that the Restaurant will have at least one rating is its\n",
    "        ratings attribute.\n",
    "        \"\"\"\n",
    "        # get the avg rating\n",
    "        avg = self.compute_average_rating()\n",
    "\n",
    "        return avg >= min_rating\n",
    "\n",
    "    def compare(self, other_restaurant):\n",
    "        \"\"\"\n",
    "        (Restaurant, Restaurant) -> None\n",
    "        \n",
    "        Compares the average rating of this restaurant with another restaurant.\n",
    "\n",
    "        Prints a recommendation based on which restaurant has the higher average\n",
    "        rating. If the ratings are equal, a message indicating this is printed \n",
    "        instead.\n",
    "        \"\"\"\n",
    "        # Compute the average rating for both restaurants\n",
    "        self_avg = self.compute_average_rating()\n",
    "        other_avg = other_restaurant.compute_average_rating()\n",
    "        \n",
    "        # Compare the average ratings and print the appropriate message\n",
    "        if self_avg > other_avg:\n",
    "            print(\"I recommend \" + self.name + \" over \" + other_restaurant.name)\n",
    "        elif self_avg < other_avg:\n",
    "            print(\"I recommend \" + other_restaurant.name + \" over \" + self.name)\n",
    "        else:\n",
    "            print(\"Both restaurants have the same rating: \" +  self_avg)\n"
   ]
  },
  {
   "cell_type": "markdown",
   "metadata": {},
   "source": [
    "### Part B - Using Restaurant objects\n",
    "What would be printed by the following code?"
   ]
  },
  {
   "cell_type": "code",
   "execution_count": null,
   "metadata": {},
   "outputs": [],
   "source": [
    "# Create Restaurant objects\n",
    "r1 = Restaurant(\"Pasta Palace\", \"Italian\")\n",
    "r2 = Restaurant(\"Sushi Spot\", \"Japanese\")\n",
    "\n",
    "# Add reviews\n",
    "r1.add_review(4.5)\n",
    "r1.add_review(4.0)\n",
    "\n",
    "r2.add_review(5.0)\n",
    "r2.add_review(4.5)\n",
    "\n",
    "\n",
    "for restaurant in (r1, r2):\n",
    "    print(restaurant)\n",
    "    print(\"Average rating:\", restaurant.compute_average_rating())\n",
    "    print(\"Should be recommended:\", restaurant.recommend(4.0))\n",
    "\n",
    "r1.compare(r2)\n",
    "\n"
   ]
  },
  {
   "cell_type": "markdown",
   "metadata": {},
   "source": [
    "## Question 2 - Restaurant Order System\n",
    "\n",
    "You have been hired by Toronto's newest brunch restaurant - Seb 'n Benedict's - to automate part of their order processing system. Customers place orders by selecting items from a menu, sometimes customizing them.\n",
    "\n",
    "### Part A - Processing the order\n",
    "Write a function called `process_order(order)` that takes a list of strings representing food items in a customer's order and returns a dictionary with the count of each item.\n",
    "\n",
    "Each item in the list may:\n",
    "* Be written in any combination of cases (e.g., \"toast\" or \"Toast\").\n",
    "* Optionally start with a number indicating quantity (e.g., \"2 smoothie\" means 2 smoothies; \"smoothie\" means 1 smoothie), you may assume the number will be less than 10. If there is a number, there will be exactly one space between the number and the order item.\n",
    "* Include a customization tag in parentheses, such as \"salad (cust)\". The customization tag will always be at the end of the string and be preceded by a single space.\n",
    "\n",
    "Your function should return a dictionary where keys are the item names and values are total quantities for each item. The keys in the dictionary should be all lowercase with no leading or trailing whitespace.\n",
    "\n",
    "#### Examples\n",
    "```\n",
    ">>> order = [\"2 pancake\", \"Scrambled Eggs\", \"smoothie\", \"3 SALAD (CUST)\", \"salad (cust)\"]\n",
    ">>> process_order(order)\n",
    "{\"pancake\" : 2, \"scrambled eggs\" : 1, \"smoothie\" : 1, \"salad (cust)\" : 4}\n",
    "```\n",
    "\n",
    "*Hint:* You may find the following string methods to be useful for this function:\n",
    "1. `isdigit()` - method returns `True` if all the characters in the string are digits, otherwise `False`.\n",
    "2. `isalpha()` - method returns `True` if all the characters in the string are letters, otherwise `False`."
   ]
  },
  {
   "cell_type": "code",
   "execution_count": 4,
   "metadata": {},
   "outputs": [],
   "source": [
    "def process_order(order):\n",
    "    \"\"\"\n",
    "    [str, str, str ...] -> {str: int, str: int ...}\n",
    "\n",
    "    This function takes a list of strings representing food items and returns a dictionary\n",
    "    where the keys are the food items and the values are the counts of each item.\n",
    "    \"\"\"\n",
    "\n",
    "    # initialize an empty dictionary to contain the result\n",
    "    order_dict = {}\n",
    "\n",
    "    # iterate over all the strings in the list\n",
    "    for item in order:\n",
    "\n",
    "        # convert to lowercase\n",
    "        item = item.lower()\n",
    "\n",
    "        # check for a leading number\n",
    "        if item[0].isdigit():\n",
    "            quantity = int(item[0])\n",
    "            item = item[2:] # remove the number and space\n",
    "        else:\n",
    "            quantity = 1\n",
    "\n",
    "        # update the order dictionary\n",
    "        if item in order_dict:\n",
    "            order_dict[item] += quantity\n",
    "        else:\n",
    "            order_dict[item] = quantity\n",
    "\n",
    "    return order_dict"
   ]
  },
  {
   "cell_type": "code",
   "execution_count": 7,
   "metadata": {},
   "outputs": [
    {
     "name": "stdout",
     "output_type": "stream",
     "text": [
      "{'pancake': 2, 'scrambled eggs': 1, 'smoothie': 1, 'salad (cust)': 4}\n"
     ]
    }
   ],
   "source": [
    "order = [\"2 pancake\", \"Scrambled Eggs\", \"smoothie\", \"3 SALAD (CUST)\", \"salad (cust)\"]\n",
    "\n",
    "processed_order = process_order(order)\n",
    "print(processed_order)"
   ]
  },
  {
   "cell_type": "markdown",
   "metadata": {},
   "source": [
    "### Part B - Calculating the Tab\n",
    "Write a second function called `calculate_tab(order_dict, prices)` that calculates the total cost of the processed order.\n",
    "\n",
    "The function takes two input parameters:\n",
    "* `order_dict`: a dictionary mapping item names to their quantities (output from process_order()).\n",
    "* `prices`: a dictionary mapping item names to their unit prices (e.g., 'pancake': 7.99).\n",
    "\n",
    "Additional requirements:\n",
    "* If an item in the order dictionary ends with \"(cust)\", apply a 15% surcharge to its base price. For example, if a the order was \"panake (cust)\" and the base price for pancakes is $7.99, the cost for this item would be $7.99 * 1.15 = $9.19 (rounded to the nearest penny).\n",
    "* If the item is not found in the prices dictionary, print an error message but continue processing the rest of the order.\n",
    "\n",
    "Return the total cost as a float rounded to 2 decimal points.\n",
    "\n",
    "#### Example\n",
    "```\n",
    ">>> prices = {\n",
    "    \"pancakes\": 7.99,\n",
    "    \"avocado toast\": 6.50,\n",
    "    \"latte\": 5.25,\n",
    "    \"omelette (cust)\": 8.75\n",
    "}\n",
    "\n",
    ">>> order_dict = {\n",
    "    \"pancakes\": 2,\n",
    "    \"latte\": 3,\n",
    "    \"omelette (cust)\": 1,\n",
    "    \"avocado toast\": 2\n",
    "}\n",
    "\n",
    ">>> calculate_tab(order_dict, prices)\n",
    "54.79\n",
    "```\n"
   ]
  },
  {
   "cell_type": "code",
   "execution_count": 9,
   "metadata": {},
   "outputs": [],
   "source": [
    "def calculate_tab(order_dict, prices):\n",
    "    \"\"\"\n",
    "    {str: int, str: int ...}, {str: float, str: float ...} -> float\n",
    "\n",
    "    This function takes a dictionary of food items and their counts, and a dictionary of prices,\n",
    "    and returns the total cost of the order.\n",
    "    \"\"\"\n",
    "    # initialize a float to accumulate the order cost\n",
    "    total_cost = 0.0\n",
    "\n",
    "    # iterate over items in the dictionary\n",
    "    for item, quantity in order_dict.items():\n",
    "        # check if the item was customized, if so, apply 15% surcharge\n",
    "        cust_index = item.find(\"(cust)\")\n",
    "        if cust_index != -1:\n",
    "            item = item[:cust_index-1]  # remove the customization part, -1 used so we remove the space too\n",
    "            cust_surchange = 1.15\n",
    "        else:\n",
    "            cust_surchange = 1.0\n",
    "\n",
    "        if item in prices:\n",
    "            total_cost += prices[item] * quantity * cust_surchange\n",
    "        else:\n",
    "            print(\"Error! Item not found: \", item)\n",
    "\n",
    "    return round(total_cost,2)"
   ]
  },
  {
   "cell_type": "code",
   "execution_count": 10,
   "metadata": {},
   "outputs": [
    {
     "name": "stdout",
     "output_type": "stream",
     "text": [
      "54.79\n"
     ]
    }
   ],
   "source": [
    "prices = {\n",
    "    \"pancakes\": 7.99,\n",
    "    \"avocado toast\": 6.50,\n",
    "    \"latte\": 5.25,\n",
    "    \"omelette\": 8.75\n",
    "}\n",
    "\n",
    "order_dict = {\n",
    "    \"pancakes\": 2,\n",
    "    \"latte\": 3,\n",
    "    \"omelette (cust)\": 1,\n",
    "    \"avocado toast\": 2\n",
    "}\n",
    "\n",
    "print(calculate_tab(order_dict, prices))"
   ]
  }
 ],
 "metadata": {
  "kernelspec": {
   "display_name": "aps106",
   "language": "python",
   "name": "python3"
  },
  "language_info": {
   "codemirror_mode": {
    "name": "ipython",
    "version": 3
   },
   "file_extension": ".py",
   "mimetype": "text/x-python",
   "name": "python",
   "nbconvert_exporter": "python",
   "pygments_lexer": "ipython3",
   "version": "3.9.18"
  }
 },
 "nbformat": 4,
 "nbformat_minor": 2
}
