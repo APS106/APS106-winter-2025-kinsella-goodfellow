{
 "cells": [
  {
   "cell_type": "markdown",
   "id": "a87910ed",
   "metadata": {},
   "source": [
    "## Question 1"
   ]
  },
  {
   "cell_type": "code",
   "execution_count": 110,
   "id": "369a21f9",
   "metadata": {},
   "outputs": [
    {
     "name": "stdout",
     "output_type": "stream",
     "text": [
      "('Apple', 'iOS')\n"
     ]
    }
   ],
   "source": [
    "smartphones = {\n",
    "    'brands': ['Apple', 'Samsung', 'Google', 'OnePlus'],\n",
    "    'specs': {\n",
    "        'Apple': ('iPhone 12', 2020),\n",
    "        'Samsung': ('Galaxy S20', 2020),\n",
    "        'Google': ('Pixel 5', 2020),\n",
    "        'OnePlus': ('8T', 2020)\n",
    "    },\n",
    "    'features': [\n",
    "        ('Apple', 'iOS'),\n",
    "        ('Samsung', 'Android'),\n",
    "        ('Google', 'Stock Android'),\n",
    "        ('OnePlus', 'Fast Charging')\n",
    "    ]\n",
    "}\n",
    "\n",
    "print(smartphones['features'][-4:-2][0])\n",
    "# print(smartphones['features'][-4:-2][0])  "
   ]
  },
  {
   "cell_type": "markdown",
   "id": "a0786ba6",
   "metadata": {},
   "source": [
    "## Question 2"
   ]
  },
  {
   "cell_type": "code",
   "execution_count": 112,
   "id": "6cb4ca7d",
   "metadata": {},
   "outputs": [
    {
     "name": "stdout",
     "output_type": "stream",
     "text": [
      "{'e', 'h', 'y'}\n"
     ]
    }
   ],
   "source": [
    "values = set(list('heyheyhey'))\n",
    "print(values)"
   ]
  },
  {
   "cell_type": "code",
   "execution_count": 113,
   "id": "a87012e5",
   "metadata": {
    "scrolled": true
   },
   "outputs": [
    {
     "name": "stdout",
     "output_type": "stream",
     "text": [
      "2\n"
     ]
    },
    {
     "ename": "TypeError",
     "evalue": "'set' object is not subscriptable",
     "output_type": "error",
     "traceback": [
      "\u001b[0;31m---------------------------------------------------------------------------\u001b[0m",
      "\u001b[0;31mTypeError\u001b[0m                                 Traceback (most recent call last)",
      "\u001b[0;32m<ipython-input-113-f5381c381c3d>\u001b[0m in \u001b[0;36m<module>\u001b[0;34m\u001b[0m\n\u001b[1;32m      4\u001b[0m \u001b[0;34m\u001b[0m\u001b[0m\n\u001b[1;32m      5\u001b[0m \u001b[0mprint\u001b[0m\u001b[0;34m(\u001b[0m\u001b[0mlen\u001b[0m\u001b[0;34m(\u001b[0m\u001b[0mvalues3\u001b[0m\u001b[0;34m)\u001b[0m\u001b[0;34m)\u001b[0m \u001b[0;31m# 2\u001b[0m\u001b[0;34m\u001b[0m\u001b[0;34m\u001b[0m\u001b[0m\n\u001b[0;32m----> 6\u001b[0;31m \u001b[0mprint\u001b[0m\u001b[0;34m(\u001b[0m\u001b[0mvalues3\u001b[0m\u001b[0;34m[\u001b[0m\u001b[0;36m0\u001b[0m\u001b[0;34m]\u001b[0m\u001b[0;34m)\u001b[0m\u001b[0;34m\u001b[0m\u001b[0;34m\u001b[0m\u001b[0m\n\u001b[0m",
      "\u001b[0;31mTypeError\u001b[0m: 'set' object is not subscriptable"
     ]
    }
   ],
   "source": [
    "values1 = set(list('heyheyhey')) # {'e','h','y'}\n",
    "values2 = {'h','e','l','l','o','t','h','e','r','e'} \n",
    "values3 = values1.intersection(values2) #values3 = {e ,h}\n",
    "\n",
    "print(len(values3)) # 2\n",
    "print(values3[0]) "
   ]
  },
  {
   "cell_type": "code",
   "execution_count": 114,
   "id": "16e38285",
   "metadata": {},
   "outputs": [
    {
     "name": "stdout",
     "output_type": "stream",
     "text": [
      "e\n",
      "h\n"
     ]
    }
   ],
   "source": [
    "for i in values3:\n",
    "    print(i)"
   ]
  },
  {
   "cell_type": "markdown",
   "id": "22f89298",
   "metadata": {},
   "source": [
    "## Question 3"
   ]
  },
  {
   "cell_type": "code",
   "execution_count": 116,
   "id": "2b513603",
   "metadata": {},
   "outputs": [
    {
     "name": "stdout",
     "output_type": "stream",
     "text": [
      "[4, 2, 3]\n"
     ]
    }
   ],
   "source": [
    "lista = [1,2,3]\n",
    "listb = lista\n",
    "listb[0] = 4\n",
    "print(lista)"
   ]
  },
  {
   "cell_type": "code",
   "execution_count": 119,
   "id": "2ee4b8b2",
   "metadata": {},
   "outputs": [
    {
     "name": "stdout",
     "output_type": "stream",
     "text": [
      "140338785601344\n",
      "140338785601344\n",
      "after over-writing: 140338785600256\n",
      "{'key1': 50, 'key2': 60, 'key3': 70, 'key4': 40}\n"
     ]
    }
   ],
   "source": [
    "def my_func(param = {'key1': 0, 'key2': 0}):\n",
    "    \n",
    "    for key in param:\n",
    "        param[key] += 40\n",
    "        \n",
    "        # iteration 1 -> key1 = 50\n",
    "        # iter 2 -> key2 = 60\n",
    "        # iter 3 -> key3 = 70\n",
    "    \n",
    "    param['key4'] = 40  # create a key4\n",
    "    \n",
    "    print(id(param))\n",
    "    \n",
    "    param = dict(param) # local func space is different from global\n",
    "    print('after over-writing:',id(param))\n",
    "    \n",
    "    param['key5'] = 70\n",
    "        \n",
    "arg = {'key1':10, 'key2':20, 'key3': 30}\n",
    "\n",
    "print(id(arg))\n",
    "my_func(arg)\n",
    "\n",
    "\n",
    "print(arg)"
   ]
  },
  {
   "cell_type": "markdown",
   "id": "832b5e2e",
   "metadata": {},
   "source": [
    "## Question 4"
   ]
  },
  {
   "cell_type": "code",
   "execution_count": 120,
   "id": "657920ba",
   "metadata": {},
   "outputs": [
    {
     "name": "stdout",
     "output_type": "stream",
     "text": [
      "211\n"
     ]
    }
   ],
   "source": [
    "my_result = \"\"\n",
    "for i in range(221, 209, -4): # 221, 217, 213\n",
    "    \n",
    "    my_result += str(i)[-2] \n",
    "    \n",
    "    # iter 1 -> '221' -> '2'\n",
    "    # iter 2 -> '217' -> '1'\n",
    "    # iter 3 -> '213' -> '1'\n",
    "    \n",
    "print(my_result)   #211"
   ]
  },
  {
   "cell_type": "markdown",
   "id": "e73e95b4",
   "metadata": {},
   "source": [
    "## Question 5"
   ]
  },
  {
   "cell_type": "code",
   "execution_count": 123,
   "id": "cb937b17",
   "metadata": {},
   "outputs": [
    {
     "name": "stdout",
     "output_type": "stream",
     "text": [
      "1\n",
      "3\n"
     ]
    }
   ],
   "source": [
    "class Digit:\n",
    "    def __init__(self, digit):\n",
    "        self.digit = digit \n",
    "        \n",
    "digit1 = Digit(1)\n",
    "digit2 = Digit(3)\n",
    "print(digit1.digit)\n",
    "print(digit2.digit)"
   ]
  },
  {
   "cell_type": "code",
   "execution_count": 124,
   "id": "dd3826f6",
   "metadata": {},
   "outputs": [
    {
     "name": "stdout",
     "output_type": "stream",
     "text": [
      "True\n"
     ]
    }
   ],
   "source": [
    "class Digit:\n",
    "    def __init__(self, digit):\n",
    "        self.digit = digit \n",
    "\n",
    "class Number:\n",
    "    def __init__(self, digit):\n",
    "        # digit is actually a digit object!\n",
    "        self.number = int(digit.digit)\n",
    "\n",
    "    def printer(self):\n",
    "        return self.number\n",
    "\n",
    "# Creating instances of Digit and Number\n",
    "digit1 = Digit(\"5\") # digit1.digit = \"5\"\n",
    "Number1 = Number(digit1) # Number1.number = 5\n",
    "Number2 = Number(Digit(\"3\")) #Number2.number = 3\n",
    "\n",
    "print(Number1.printer() > Number2.printer()) # Number1.number > Number2.number; 5 >3"
   ]
  },
  {
   "cell_type": "markdown",
   "id": "ee7e7690",
   "metadata": {},
   "source": [
    "## Question 6"
   ]
  },
  {
   "cell_type": "code",
   "execution_count": 130,
   "id": "d382eecc",
   "metadata": {
    "scrolled": true
   },
   "outputs": [
    {
     "data": {
      "text/plain": [
       "Name          Bob\n",
       "Subject    CIV185\n",
       "Grade          95\n",
       "Name: 1, dtype: object"
      ]
     },
     "execution_count": 130,
     "metadata": {},
     "output_type": "execute_result"
    }
   ],
   "source": [
    "import pandas as pd\n",
    "\n",
    "data = [\n",
    "    [\"Alice\", \"APS106\", 92, \"MY150\"],\n",
    "    [\"Bob\", \"CIV185\", 95, \"BA1150\"],\n",
    "    [\"Charlie\", \"APS112\", 73, \"MY150\"],\n",
    "    [\"Diana\", \"MAT187\", 88, \"MC252\"]\n",
    "]\n",
    "columns = [\"Name\", \"Subject\", \"Grade\", \"Location\"]\n",
    "\n",
    "students_df = pd.DataFrame(data, columns=columns)\n",
    "students_df.sort_values(by = \"Name\")\n",
    "students_df.loc[0:2, \"Name\":\"Grade\"].iloc[-2, :]"
   ]
  },
  {
   "cell_type": "code",
   "execution_count": null,
   "id": "0afe5f72",
   "metadata": {},
   "outputs": [],
   "source": []
  },
  {
   "cell_type": "markdown",
   "id": "ca24de5f",
   "metadata": {},
   "source": [
    "## Question 7"
   ]
  },
  {
   "cell_type": "code",
   "execution_count": null,
   "id": "005962cc",
   "metadata": {},
   "outputs": [],
   "source": [
    "i = 0\n",
    "results = []\n",
    "while i < 2:\n",
    "    for num in range(3, 5):\n",
    "        if i % 2 == 0:\n",
    "            results.append((i, num, \"Even\"))\n",
    "        else:\n",
    "            results.append((i, num, \"Odd\"))\n",
    "    i += 1\n",
    "\n",
    "print(results)"
   ]
  },
  {
   "cell_type": "markdown",
   "id": "e3d6bdd0",
   "metadata": {},
   "source": [
    "## Question 8"
   ]
  },
  {
   "cell_type": "code",
   "execution_count": null,
   "id": "4bb0ef70",
   "metadata": {},
   "outputs": [],
   "source": [
    "input_string = \"  Hello World.  \"\n",
    "input_string = input_string.strip().replace(\" \", \"_\").upper()\n",
    "input_string = input_string.replace('World','APS106')\n",
    "print(input_string)"
   ]
  },
  {
   "cell_type": "markdown",
   "id": "83d3170b",
   "metadata": {},
   "source": [
    "## Long Questions"
   ]
  },
  {
   "cell_type": "markdown",
   "id": "7cf88cfe",
   "metadata": {},
   "source": [
    "### Text File Formatter\n",
    "\n",
    "Write a program that iterates through the comma-separated file `weekly_temperatures.txt`, and writes each week’s temperature (represented by an individual row) to a nested list `weekly_temperatures`. "
   ]
  },
  {
   "cell_type": "code",
   "execution_count": 131,
   "id": "206f734f",
   "metadata": {},
   "outputs": [
    {
     "name": "stdout",
     "output_type": "stream",
     "text": [
      "['20, 22, 21, 19, 18, 17, 21\\n', '22, 24, 23, 25, 26, 24, 22\\n', '21, 23, 22, 20, 19, 20, 21']\n"
     ]
    }
   ],
   "source": [
    "\n",
    "with open(\"weekly_temperatures.txt\", \"r\") as file:\n",
    "    \n",
    "    new = file.readlines()\n",
    "    \n",
    "\n",
    "print(new)"
   ]
  },
  {
   "cell_type": "code",
   "execution_count": 133,
   "id": "008197a6",
   "metadata": {},
   "outputs": [
    {
     "name": "stdout",
     "output_type": "stream",
     "text": [
      "['20', ' 22', ' 21', ' 19', ' 18', ' 17', ' 21']\n"
     ]
    }
   ],
   "source": [
    "var = '20, 22, 21, 19, 18, 17, 21'\n",
    "print(var.split(','))"
   ]
  },
  {
   "cell_type": "code",
   "execution_count": 135,
   "id": "9b806953",
   "metadata": {},
   "outputs": [
    {
     "name": "stdout",
     "output_type": "stream",
     "text": [
      "[[20, 22, 21, 19, 18, 17, 21], [22, 24, 23, 25, 26, 24, 22], [21, 23, 22, 20, 19, 20, 21]]\n"
     ]
    }
   ],
   "source": [
    "weekly_temperatures = []\n",
    "with open(\"weekly_temperatures.txt\", \"r\") as file:    \n",
    "    for row in file.readlines():  # break down file into rows     \n",
    "        row = row.strip('\\n')  # remove any newline      \n",
    "        temperatures = []       \n",
    "        for temperature in row.split(','): # loop for individual row\n",
    "            \n",
    "            temperatures.append(int(temperature))\n",
    "        \n",
    "        weekly_temperatures.append(temperatures) # append individ week to weekly_temp\n",
    "    \n",
    "    print(weekly_temperatures)\n",
    " "
   ]
  },
  {
   "cell_type": "markdown",
   "id": "f38c102e",
   "metadata": {},
   "source": [
    "### Pet Database\n",
    "\n",
    "Write a `PetDatabase` class that manages a collection of pets as a Python dictionary with the `owner_name` as the key and their `pet_name` as the value. Note that an individual owner may have more than one pet (hint: use a list for the values). The class should allow owners and pets to be added to and removed from the database, and it should provide a way to search for all pets from a particular owner. If you try print your database object instance, it should return the dictionary with the owners and pets."
   ]
  },
  {
   "cell_type": "code",
   "execution_count": null,
   "id": "caf97cfe",
   "metadata": {},
   "outputs": [],
   "source": [
    "class PetDatabase():\n",
    "    \n",
    "    \n",
    "    ...\n",
    "    "
   ]
  },
  {
   "cell_type": "code",
   "execution_count": null,
   "id": "3cf92cb3",
   "metadata": {},
   "outputs": [],
   "source": [
    "pet_db = PetDatabase()\n",
    "\n",
    "pet_db.add_pet(\"Tisha\", \"Katia\")\n",
    "pet_db.add_pet(\"Catonio Banderas\", \"Ben\")\n",
    "pet_db.add_pet(\"Nugget\", \"Katia\")\n",
    "pet_db.add_pet(\"Moody\", \"Katia\")\n",
    "\n",
    "pet_db.remove_pet(\"Moody\", \"Katia\") # remove Moody\n",
    "\n",
    "print(pet_db.find_pets_by_owner(\"Ben\")) # Expected output: ['Catonio Banderas']\n",
    "\n",
    "print(pet_db)"
   ]
  },
  {
   "cell_type": "markdown",
   "id": "51788004",
   "metadata": {},
   "source": [
    "### String Scramble\n",
    "\n",
    "Write a function `scramble_items` that takes as input a list of strings, ints, floats or a combination of the three types and returns a list of strings with their characters scrambled. The scrambling process will be performed on each item in the list based on indices: characters with even indices are all placed after the characters with odd indices. For example, if the string is `\"Engineers!\"` then the scrambled string will he `\"nier! Egnes\"`"
   ]
  },
  {
   "cell_type": "code",
   "execution_count": 136,
   "id": "0d1e41d4",
   "metadata": {},
   "outputs": [],
   "source": [
    "def scramble_items(sample_list):\n",
    "    \"\"\"[item, item,... ,item] —> [str, str,... ,str] \n",
    "    Input: list of items that could be int, float, or string. \n",
    "    Output: list of scrambled strings. \"\"\"\n",
    "    scrambled_items = []\n",
    "    for item in sample_list: # loop through all samples\n",
    "        \n",
    "        item = str(item) # convert to a string\n",
    "        \n",
    "        odd_char = ''\n",
    "        even_char = ''\n",
    "        \n",
    "        for index in range(len(item)): # iterate through each string\n",
    "             \n",
    "            if index % 2 == 0:\n",
    "                even_char += item[index]\n",
    "            \n",
    "            else:\n",
    "                odd_char += item[index]\n",
    "                \n",
    "        result_string = odd_char + even_char\n",
    "        scrambled_items.append(result_string)\n",
    "        \n",
    "    return scrambled_items\n",
    "        "
   ]
  },
  {
   "cell_type": "code",
   "execution_count": 137,
   "id": "b6dfc61d",
   "metadata": {},
   "outputs": [
    {
     "name": "stdout",
     "output_type": "stream",
     "text": [
      "['lnTsEo uk', '240', 'asR.Mr d ', 'nier!Egnes']\n"
     ]
    }
   ],
   "source": [
    "sample_list = ['Elon Tusk', 420, 'Mars Rd. ' , \"Engineers!\"] \n",
    "new_list = scramble_items(sample_list) \n",
    "print(new_list)  # Output: ['lnTsEo uk', '240', 'asR.Mr d', '451332'"
   ]
  },
  {
   "cell_type": "code",
   "execution_count": null,
   "id": "ead4e60f",
   "metadata": {},
   "outputs": [],
   "source": []
  }
 ],
 "metadata": {
  "kernelspec": {
   "display_name": "Python 3",
   "language": "python",
   "name": "python3"
  },
  "language_info": {
   "codemirror_mode": {
    "name": "ipython",
    "version": 3
   },
   "file_extension": ".py",
   "mimetype": "text/x-python",
   "name": "python",
   "nbconvert_exporter": "python",
   "pygments_lexer": "ipython3",
   "version": "3.8.5"
  }
 },
 "nbformat": 4,
 "nbformat_minor": 5
}
