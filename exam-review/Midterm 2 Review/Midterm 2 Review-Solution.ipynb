{
 "cells": [
  {
   "cell_type": "markdown",
   "id": "96bf3f43",
   "metadata": {},
   "source": [
    "## Question 1"
   ]
  },
  {
   "cell_type": "code",
   "execution_count": 5,
   "id": "14f7b292",
   "metadata": {},
   "outputs": [
    {
     "name": "stdout",
     "output_type": "stream",
     "text": [
      "[('Hyundai', 'Affordable'), ('Tesla', 'Autopilot')]\n"
     ]
    }
   ],
   "source": [
    "# define our vehicles structure\n",
    "vehicles = {\n",
    "    'cars': ['Hyundai', 'Tesla', 'Ford', 'GM'],\n",
    "    'specs': {\n",
    "        'Hyundai': ('Sedan', 2020),\n",
    "        'Tesla': ('Electric', 2021),\n",
    "        'Ford': ('Truck', 2019),\n",
    "        'GM': ('SUV', 2018)\n",
    "    },\n",
    "    'features': [\n",
    "        ('Hyundai', 'Affordable'),\n",
    "        ('Tesla', 'Autopilot'),\n",
    "        ('Ford', 'Durable'),\n",
    "        ('GM', 'Spacious')\n",
    "    ]\n",
    "}\n",
    "\n",
    "print(vehicles['features'][0:2])"
   ]
  },
  {
   "cell_type": "markdown",
   "id": "d56ab3da",
   "metadata": {},
   "source": [
    "## Question 2"
   ]
  },
  {
   "cell_type": "code",
   "execution_count": 26,
   "id": "657f61a2",
   "metadata": {},
   "outputs": [],
   "source": [
    "def f2():\n",
    "    print({True})"
   ]
  },
  {
   "cell_type": "markdown",
   "id": "c6ff20c7",
   "metadata": {},
   "source": [
    "## Question 3"
   ]
  },
  {
   "cell_type": "code",
   "execution_count": 27,
   "id": "5c8fa339",
   "metadata": {},
   "outputs": [
    {
     "name": "stdout",
     "output_type": "stream",
     "text": [
      "{0, 1, 3, 7, 8, 9}\n"
     ]
    }
   ],
   "source": [
    "my_list = [2, 4, 5, 6, 6]\n",
    "my_new_list = range(10)\n",
    "set1 = set(my_list)\n",
    "set2 = set(my_new_list)\n",
    "\n",
    "print(set2.difference(set1))"
   ]
  },
  {
   "cell_type": "markdown",
   "id": "97665ab1",
   "metadata": {},
   "source": [
    "## Question 4"
   ]
  },
  {
   "cell_type": "code",
   "execution_count": 28,
   "id": "027f77d3",
   "metadata": {},
   "outputs": [
    {
     "name": "stdout",
     "output_type": "stream",
     "text": [
      "{27: False, 28: False, 29: True, 30: False}\n"
     ]
    }
   ],
   "source": [
    "import math\n",
    "\n",
    "def my_func(num):\n",
    "    if num < 2:\n",
    "        return False \n",
    "    \n",
    "    if num % 2 == 0 and num > 2:\n",
    "        return False \n",
    "\n",
    "    for factor in range(3, int(math.sqrt(num)) + 1, 2): \n",
    "        if num % factor == 0:\n",
    "            return False\n",
    "    return True\n",
    "\n",
    "prime_status = {}\n",
    "\n",
    "for n in range(27, 31):\n",
    "    prime_status[n] = my_func(n)\n",
    "\n",
    "print(prime_status)"
   ]
  },
  {
   "cell_type": "markdown",
   "id": "8860bc7c",
   "metadata": {},
   "source": [
    "## Question 5"
   ]
  },
  {
   "cell_type": "code",
   "execution_count": 29,
   "id": "2b65b6a1",
   "metadata": {},
   "outputs": [
    {
     "name": "stdout",
     "output_type": "stream",
     "text": [
      "APS106\n",
      "S106\n"
     ]
    }
   ],
   "source": [
    "course_code = \"APS106\"\n",
    "min_length = 3  \n",
    "cut_from_start = True\n",
    "\n",
    "while len(course_code) > min_length:\n",
    "    print(course_code)\n",
    "\n",
    "    if cut_from_start:\n",
    "        course_code = course_code[2:]\n",
    "        course_code = course_code.upper()\n",
    "    else:\n",
    "        course_code = course_code[:-1] \n",
    "        course_code = course_code.lower().replace('1','2')\n",
    "\n",
    "    cut_from_start = not cut_from_start \n"
   ]
  },
  {
   "cell_type": "markdown",
   "id": "9cd0de96",
   "metadata": {},
   "source": [
    "## Question 6"
   ]
  },
  {
   "cell_type": "code",
   "execution_count": 22,
   "id": "cf3be435",
   "metadata": {},
   "outputs": [],
   "source": [
    "weekly_temperatures = [\n",
    "    [20, 22, 21, 19, 18, 17, 21],\n",
    "    [22, 24, 23, 25, 26, 24, 22],\n",
    "    [21, 23, 22, 20, 19, 20, 21]\n",
    "]\n",
    "\n",
    "with open('weekly_temperatures.txt', 'w') as file:\n",
    "    for week in weekly_temperatures:\n",
    "        week_str = ''  \n",
    "        for temp in week:\n",
    "            week_str += str(temp) + ','\n",
    "        \n",
    "        week_str = week_str[:-1] + '\\n'\n",
    "        file.write(week_str)"
   ]
  },
  {
   "cell_type": "markdown",
   "id": "14c861e6",
   "metadata": {},
   "source": [
    "## Question 7"
   ]
  },
  {
   "cell_type": "code",
   "execution_count": 33,
   "id": "182b411c",
   "metadata": {},
   "outputs": [
    {
     "name": "stdout",
     "output_type": "stream",
     "text": [
      "(4, 7)\n"
     ]
    }
   ],
   "source": [
    "def calc_means(points):\n",
    "    '''\n",
    "    ([(num, num), (num, num), …]) -> (num,num)\n",
    "    Input: a list of tuples, each tuple representing a point\n",
    "    Output: a tuple where each entry contains the sum of\n",
    "    corresponding entries in the input tuples (e.g., the first\n",
    "    entry in the returned tuple is the sum of the first entries\n",
    "    in the input tuples, etc.)\n",
    "    '''\n",
    "    x_sum = 0\n",
    "    y_sum = 0\n",
    "    for i in range(len(points)):\n",
    "        x_sum += points[i][0]\n",
    "        y_sum += points[i][1]\n",
    "    return (x_sum, y_sum)\n",
    "\n",
    "\n",
    "output = calc_means([(2,3),(2,4)])\n",
    "print(output)"
   ]
  },
  {
   "cell_type": "markdown",
   "id": "68b5c7cf",
   "metadata": {},
   "source": [
    "## Question 8"
   ]
  },
  {
   "cell_type": "code",
   "execution_count": 35,
   "id": "c52b6f76",
   "metadata": {},
   "outputs": [
    {
     "name": "stdout",
     "output_type": "stream",
     "text": [
      "{'APS112': 'MaryTom', 'CIV100': 'Mary', 'APS106': 'MarySarah', 'CIV185': 'Sarah', 'MIE100': 'John', 'APS100': 'John', 'ECE110': 'John', 'MSE101': 'Tom'}\n"
     ]
    }
   ],
   "source": [
    "student_courses = {\n",
    "    'Mary': {'APS106', 'APS112', 'CIV100'},\n",
    "    'Sarah': {'APS106', 'CIV185'},\n",
    "    'John': {'APS100', 'MIE100', 'ECE110'},\n",
    "    'Tom': {'APS112', 'MSE101'}\n",
    "}\n",
    "\n",
    "def invert_dictionary(original_dict):\n",
    "    inverted_dict = {}\n",
    "    \n",
    "    for key in original_dict:\n",
    "        for value in original_dict[key]:\n",
    "            if value not in inverted_dict:\n",
    "                inverted_dict[value] = key\n",
    "            else:\n",
    "                inverted_dict[value] = inverted_dict[value] + key\n",
    "                \n",
    "    return inverted_dict\n",
    "\n",
    "# Use the function to invert the student_courses dictionary\n",
    "course_students = invert_dictionary(student_courses)\n",
    "print(course_students)"
   ]
  },
  {
   "cell_type": "markdown",
   "id": "ee077507",
   "metadata": {},
   "source": [
    "## Question 9"
   ]
  },
  {
   "cell_type": "code",
   "execution_count": 40,
   "id": "563e1a77",
   "metadata": {},
   "outputs": [],
   "source": [
    "class cookie_jar:\n",
    "    \n",
    "    def __init__(self, amount, name):\n",
    "        self.amount = amount\n",
    "        self.name = name\n",
    "    \n",
    "    def add_cookie(self, add):\n",
    "        return self.amount + add\n",
    "    \n",
    "    def eat_cookie(self, remove):\n",
    "        return self.amount - remove\n",
    "    \n",
    "    def compare_jar(self, cookie):\n",
    "        if self.amount > cookie.amount:\n",
    "            difference = self.amount - cookie.amount\n",
    "            string = str(self.name) + \" has \" + str(difference) + \" more cookies\"\n",
    "            return string\n",
    "            \n",
    "        else:\n",
    "            difference = cookie.amount - self.amount\n",
    "            string = str(cookie.name) + \" has \" + str(difference) + \" more cookies\"\n",
    "            return string\n",
    "    "
   ]
  },
  {
   "cell_type": "code",
   "execution_count": 41,
   "id": "3ffdd09d",
   "metadata": {},
   "outputs": [
    {
     "name": "stdout",
     "output_type": "stream",
     "text": [
      "5\n",
      "Jar2 has 5 more cookies\n"
     ]
    }
   ],
   "source": [
    "cookies1 = cookie_jar(5, \"Jar1\")\n",
    "cookies1.add_cookie(10)\n",
    "cookies1.add_cookie(1)\n",
    "cookies1.eat_cookie(15)\n",
    "cookies2 = cookie_jar(10, \"Jar2\") # define a second jar\n",
    "print(cookies1.amount)  # Expected output: 1\n",
    "print(cookies1.compare_jar(cookies2))  # Expected output: \"Jar2 has 9 more cookies\"  "
   ]
  }
 ],
 "metadata": {
  "kernelspec": {
   "display_name": "Python 3",
   "language": "python",
   "name": "python3"
  },
  "language_info": {
   "codemirror_mode": {
    "name": "ipython",
    "version": 3
   },
   "file_extension": ".py",
   "mimetype": "text/x-python",
   "name": "python",
   "nbconvert_exporter": "python",
   "pygments_lexer": "ipython3",
   "version": "3.8.5"
  }
 },
 "nbformat": 4,
 "nbformat_minor": 5
}
