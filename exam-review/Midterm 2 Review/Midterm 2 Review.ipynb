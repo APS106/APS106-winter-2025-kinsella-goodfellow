{
 "cells": [
  {
   "cell_type": "markdown",
   "id": "5c77b4a2",
   "metadata": {},
   "source": [
    "## Question 1"
   ]
  },
  {
   "cell_type": "code",
   "execution_count": null,
   "id": "46c31d1a",
   "metadata": {},
   "outputs": [],
   "source": [
    "# define our vehicles structure\n",
    "vehicles = {\n",
    "    'cars': ['Hyundai', 'Tesla', 'Ford', 'GM'],\n",
    "    'specs': {\n",
    "        'Hyundai': ('Sedan', 2020),\n",
    "        'Tesla': ('Electric', 2021),\n",
    "        'Ford': ('Truck', 2019),\n",
    "        'GM': ('SUV', 2018)\n",
    "    },\n",
    "    'features': [\n",
    "        ('Hyundai', 'Affordable'),\n",
    "        ('Tesla', 'Autopilot'),\n",
    "        ('Ford', 'Durable'),\n",
    "        ('GM', 'Spacious')\n",
    "    ]\n",
    "}\n",
    "\n",
    "print(vehicles['features'][0:2])"
   ]
  },
  {
   "cell_type": "markdown",
   "id": "c851885d",
   "metadata": {},
   "source": [
    "## Question 2"
   ]
  },
  {
   "cell_type": "code",
   "execution_count": null,
   "id": "1c359e1c",
   "metadata": {},
   "outputs": [],
   "source": [
    "def f2():\n",
    "    print({True}) # printing in local space of function\n",
    "    \n",
    "    # no return means no variables passed back into global space from function\n",
    "    #return None\n",
    "    #return\n",
    "    \n",
    "    \n",
    "variable = f2() # global space\n",
    "print(type(variable))"
   ]
  },
  {
   "cell_type": "code",
   "execution_count": null,
   "id": "13fd2089",
   "metadata": {},
   "outputs": [],
   "source": [
    "fruit_colors = {\n",
    "    \"Apple\": \"Red\",\n",
    "    \"Banana\": \"Yellow\",\n",
    "    \"Grape\": \"Purple\"\n",
    "}\n",
    "\n",
    "print(fruit_colors.get(\"pear\",0)) \n",
    "\n",
    "# \"pear\" is the argument for 'key'\n",
    "# 0 represents the value for the optional argument parameter 'value'\n"
   ]
  },
  {
   "cell_type": "markdown",
   "id": "339a16d6",
   "metadata": {},
   "source": [
    "## Question 3"
   ]
  },
  {
   "cell_type": "code",
   "execution_count": null,
   "id": "bd8f37dd",
   "metadata": {},
   "outputs": [],
   "source": [
    "my_list = [2, 4, 5, 6, 6]\n",
    "my_new_list = range(10) # range() is an iterable, 0 - 9\n",
    "\n",
    "\n",
    "set1 = set(my_list) # -> {2, 4, 5, 6}\n",
    "set2 = set(my_new_list) # -> {0, 1, 2, 3, 4, 5, 6, 7, 8, 9}\n",
    "\n",
    "print(set2.union(set1)) # {0, 1, 2, 3, 4, 5, 6, 7, 8, 9}"
   ]
  },
  {
   "cell_type": "markdown",
   "id": "89044af9",
   "metadata": {},
   "source": [
    "## Question 4"
   ]
  },
  {
   "cell_type": "code",
   "execution_count": null,
   "id": "22c2e899",
   "metadata": {},
   "outputs": [],
   "source": [
    "my_dictionary = {} # empty dictionary\n",
    "\n",
    "my_dictionary['key1'] = 'value1' # we can populate a dictionary like this\n",
    "my_dictionary['key2'] = 'value2' # another entry!\n",
    "\n",
    "print(my_dictionary)"
   ]
  },
  {
   "cell_type": "code",
   "execution_count": null,
   "id": "a33da4e7",
   "metadata": {
    "scrolled": true
   },
   "outputs": [],
   "source": [
    "print(int(math.sqrt(29))+1) # biggest whole number -> 5 (i.e. 5*5 = 25!)"
   ]
  },
  {
   "cell_type": "code",
   "execution_count": null,
   "id": "fd1585b5",
   "metadata": {},
   "outputs": [],
   "source": [
    "print(list(range(3,6,2))) \n",
    "# it's always a good practice to write out the values our variable\n",
    "# can take in the loop"
   ]
  },
  {
   "cell_type": "code",
   "execution_count": null,
   "id": "4474737d",
   "metadata": {},
   "outputs": [],
   "source": [
    "import math\n",
    "\n",
    "def my_func(num):\n",
    "    if num < 2:\n",
    "        return False # first iteration, does not apply\n",
    "                     # second iteration, does not apply\n",
    "                     # third iteration, does not apply\n",
    "    \n",
    "    if num % 2 == 0 and num > 2: # 27%2 -> 1, does not apply\n",
    "                                 # 28%2 -> 0, does apply! return False\n",
    "                                 # 29%2 -> 1, does not apply\n",
    "        return False \n",
    "\n",
    "    for factor in range(3, int(math.sqrt(num)) + 1, 2):  # factor -> 3, 5\n",
    "        if num % factor == 0:\n",
    "            return False \n",
    "            # 1st iteration, 27%3 == 0, return False\n",
    "            # 3rd iteration, 29%3 !=0; 29%5 != 0\n",
    "    return True\n",
    "\n",
    "prime_status = {} # creating an empty dictionary\n",
    "\n",
    "for n in range(27, 30): # possible values for n: 27, 28, 29\n",
    "    prime_status[n] = my_func(n)\n",
    "    \n",
    "    # 1st iteration: {27: False}\n",
    "    # 2nd iteration: {27: False, 28: False}\n",
    "    # 3rd iteration: {27: False, 28: False, 29: True}\n",
    "\n",
    "print(prime_status)"
   ]
  },
  {
   "cell_type": "markdown",
   "id": "74a6e8d6",
   "metadata": {},
   "source": [
    "## Question 5"
   ]
  },
  {
   "cell_type": "code",
   "execution_count": null,
   "id": "60ceb861",
   "metadata": {},
   "outputs": [],
   "source": [
    "course = \"APS106\"\n",
    "print(\"P\" in course)"
   ]
  },
  {
   "cell_type": "code",
   "execution_count": null,
   "id": "d0b090ed",
   "metadata": {},
   "outputs": [],
   "source": [
    "course = \"APS106\"\n",
    "cut_from_start = True\n",
    "\n",
    "while \"P\" in course:\n",
    "    print(course) \n",
    "\n",
    "    if cut_from_start:\n",
    "        course = course[1:] \n",
    "    else:\n",
    "        course = course[:-1]\n",
    "\n",
    "    cut_from_start = not cut_from_start\n",
    "    \n",
    "    # 1st iteration, print APS106, if applies, course = PS106, cut_from_start = False\n",
    "    # 2nd iteration, print PS106, else applies, course = PS10, cut_from_start = True\n",
    "    # 3rd iteration, print PS10, if applies, course = S10, cut_from_start = False\n",
    "    # fail the check, P is not in course"
   ]
  },
  {
   "cell_type": "markdown",
   "id": "6d7c0d74",
   "metadata": {},
   "source": [
    "## Question 6"
   ]
  },
  {
   "cell_type": "code",
   "execution_count": null,
   "id": "3ac1d926",
   "metadata": {},
   "outputs": [],
   "source": [
    "weekly_temperatures = [\n",
    "    [20, 22, 21, 19, 18, 17, 21],\n",
    "    [22, 24, 23, 25, 26, 24, 22],\n",
    "    [21, 23, 22, 20, 19, 20, 21]\n",
    "]\n",
    "\n",
    "# to get an individual week in the list\n",
    "for week in weekly_temperatures:\n",
    "    print(week)\n",
    "#     for temp in week: # to get individual entries\n",
    "#         print(temp)"
   ]
  },
  {
   "cell_type": "markdown",
   "id": "f9137cc8",
   "metadata": {},
   "source": [
    "Note: there are several ways to solve this problem! You so long as your output matches, it's ok :)"
   ]
  },
  {
   "cell_type": "code",
   "execution_count": null,
   "id": "892278ef",
   "metadata": {},
   "outputs": [],
   "source": [
    "weekly_temperatures = [\n",
    "    [20, 22, 21, 19, 18, 17, 21],\n",
    "    [22, 24, 23, 25, 26, 24, 22],\n",
    "    [21, 23, 22, 20, 19, 20, 21]\n",
    "]\n",
    "\n",
    "file = open('weekly_temperatures.txt','w') # create the file, will save in same directory as your code\n",
    "\n",
    "for week in weekly_temperatures: # iterating through the nested list\n",
    "    week_str = ''\n",
    "    for temp in week: # nested loop to get individual entries\n",
    "        week_str += str(temp) + ','\n",
    "    week_str = week_str + '\\n'\n",
    "    file.write(week_str)\n",
    "    \n",
    "file.close() # remember to close"
   ]
  },
  {
   "cell_type": "markdown",
   "id": "aec8b2eb",
   "metadata": {},
   "source": [
    "## Question 7"
   ]
  },
  {
   "cell_type": "code",
   "execution_count": null,
   "id": "01b9a190",
   "metadata": {},
   "outputs": [],
   "source": [
    "variable = [(2,3),(2,4)]\n",
    "\n",
    "for i in range(len(variable)):\n",
    "    print(variable[i][1]) # i iterates through the tuples\n",
    "                          # the [1] always prints the second entry!"
   ]
  },
  {
   "cell_type": "code",
   "execution_count": null,
   "id": "909fe27b",
   "metadata": {},
   "outputs": [],
   "source": [
    "def calc_sum(points):\n",
    "    '''\n",
    "    ([(num, num), (num, num), …]) -> (num,num)\n",
    "    Input: a list of tuples, each tuple representing a point\n",
    "    Output: a tuple where each entry contains the sum of\n",
    "    corresponding entries in the input tuples (e.g., the first\n",
    "    entry in the returned tuple is the sum of the first entries\n",
    "    in the input tuples, etc.)\n",
    "    '''\n",
    "    \n",
    "    x_sum = 0\n",
    "    y_sum = 0\n",
    "    \n",
    "    for i in range(len(points)):\n",
    "        x_sum += points[i][0]\n",
    "        y_sum += points[i][1]\n",
    "        \n",
    "    return (x_sum, y_sum)       "
   ]
  },
  {
   "cell_type": "code",
   "execution_count": null,
   "id": "5170d952",
   "metadata": {},
   "outputs": [],
   "source": [
    "output = calc_sum([(2,3),(2,4)])\n",
    "print(output)"
   ]
  },
  {
   "cell_type": "markdown",
   "id": "38426cfe",
   "metadata": {},
   "source": [
    "## Question 8"
   ]
  },
  {
   "cell_type": "code",
   "execution_count": null,
   "id": "86668ef9",
   "metadata": {},
   "outputs": [],
   "source": [
    "student_courses = {\n",
    "    'Mary': {'APS106', 'APS112', 'CIV100'},\n",
    "    'Sarah': {'APS106', 'CIV185'},\n",
    "    'John': {'APS100', 'MIE100', 'ECE110'},\n",
    "    'Tom': {'APS112', 'MSE101'}\n",
    "}\n",
    "\n",
    "def invert_dictionary(original_dict):\n",
    "    inverted_dict = {}\n",
    "    \n",
    "    for key in original_dict:\n",
    "        for value in original_dict[key]:\n",
    "            if value not in inverted_dict:\n",
    "                inverted_dict[value] = key\n",
    "            else:\n",
    "                inverted_dict[value] = inverted_dict[value] + key\n",
    "                \n",
    "    return inverted_dict\n",
    "\n",
    "# Use the function to invert the student_courses dictionary\n",
    "course_students = invert_dictionary(student_courses)\n",
    "print(course_students)"
   ]
  },
  {
   "cell_type": "markdown",
   "id": "b9452fe9",
   "metadata": {},
   "source": [
    "## Question 9"
   ]
  },
  {
   "cell_type": "code",
   "execution_count": null,
   "id": "ded2c2be",
   "metadata": {},
   "outputs": [],
   "source": [
    "# define our class here!\n",
    "class cookie_jar: # class definition\n",
    "    \n",
    "    def __init__(self, amount, name): # constructor\n",
    "        self.amount = amount # attributes\n",
    "        self.name = name\n",
    "        \n",
    "    def add_cookie(self, add): # a method!\n",
    "        self.amount += add\n",
    "\n",
    "    def eat_cookie(self, subtract): # another method\n",
    "        self.amount -= subtract\n",
    "#         return self.amount # doing this so we print the updated amount\n",
    "        \n",
    "    def compare_jar(self, other_cookie):\n",
    "        \n",
    "        if self.amount > other_cookie.amount:\n",
    "            difference = self.amount - other_cookie.amount\n",
    "            string = str(self.name) + \" has \" + str(difference) + \" more cookies\"\n",
    "            return string\n",
    "        else:\n",
    "            difference = other_cookie.amount - self.amount\n",
    "            string = str(other_cookie.name) + \" has \" + str(difference) + \" more cookies\"\n",
    "            return string"
   ]
  },
  {
   "cell_type": "code",
   "execution_count": null,
   "id": "0facc513",
   "metadata": {},
   "outputs": [],
   "source": [
    "cookies1 = cookie_jar(5, \"Jar1\") # object defined from a class\n",
    "\n",
    "cookies1.add_cookie(10)\n",
    "cookies1.add_cookie(1)\n",
    "cookies1.eat_cookie(15)\n",
    "\n",
    "cookies2 = cookie_jar(10, \"Jar2\") # define a second jar\n",
    "\n",
    "print(cookies1.amount)  # Expected output: 1\n",
    "print(cookies1.compare_jar(cookies2))  # Expected output: \"Jar2 has 9 more cookies\"  "
   ]
  }
 ],
 "metadata": {
  "kernelspec": {
   "display_name": "Python 3",
   "language": "python",
   "name": "python3"
  },
  "language_info": {
   "codemirror_mode": {
    "name": "ipython",
    "version": 3
   },
   "file_extension": ".py",
   "mimetype": "text/x-python",
   "name": "python",
   "nbconvert_exporter": "python",
   "pygments_lexer": "ipython3",
   "version": "3.8.5"
  }
 },
 "nbformat": 4,
 "nbformat_minor": 5
}
