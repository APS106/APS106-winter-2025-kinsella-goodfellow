{
 "cells": [
  {
   "cell_type": "markdown",
   "id": "5c77b4a2",
   "metadata": {},
   "source": [
    "## Question 1"
   ]
  },
  {
   "cell_type": "code",
   "execution_count": 22,
   "id": "46c31d1a",
   "metadata": {},
   "outputs": [
    {
     "name": "stdout",
     "output_type": "stream",
     "text": [
      "dict_items([('cars', ['Hyundai', 'Rivian', 'Ford', 'GM']), ('specs', {'Hyundai': ('Sedan', 2020), 'Rivian': ('Electric SUV', 2021), 'Ford': ('Truck', 2019), 'GM': ('SUV', 2018)}), ('features', [('Hyundai', 'Affordable'), ('Rivian', 'Electric'), ('Ford', 'Durable'), ('GM', 'Spacious')])])\n",
      "cars\n",
      "['Hyundai', 'Rivian', 'Ford', 'GM']\n",
      "specs\n",
      "{'Hyundai': ('Sedan', 2020), 'Rivian': ('Electric SUV', 2021), 'Ford': ('Truck', 2019), 'GM': ('SUV', 2018)}\n",
      "features\n",
      "[('Hyundai', 'Affordable'), ('Rivian', 'Electric'), ('Ford', 'Durable'), ('GM', 'Spacious')]\n"
     ]
    }
   ],
   "source": [
    "# define our vehicles structure\n",
    "vehicles = {\n",
    "    'cars': ['Hyundai', 'Rivian', 'Ford', 'GM'],\n",
    "    'specs': {\n",
    "        'Hyundai': ('Sedan', 2020),\n",
    "        'Rivian': ('Electric SUV', 2021),\n",
    "        'Ford': ('Truck', 2019),\n",
    "        'GM': ('SUV', 2018)\n",
    "    },\n",
    "    'features': [\n",
    "        ('Hyundai', 'Affordable'), # index 0\n",
    "        ('Rivian', 'Electric'),    # index 1\n",
    "        ('Ford', 'Durable'),\n",
    "        ('GM', 'Spacious')\n",
    "    ],\n",
    "}\n",
    "\n",
    "my_list = [\n",
    "    {'key1' : 1, 'key2' : 2},\n",
    "    {'klksf': 343}\n",
    "]\n",
    "\n",
    "print(vehicles.items())\n",
    "\n",
    "for key, value in vehicles.items():\n",
    "    print(key)\n",
    "    print(value)"
   ]
  },
  {
   "cell_type": "code",
   "execution_count": 19,
   "id": "e5249436",
   "metadata": {},
   "outputs": [
    {
     "name": "stdout",
     "output_type": "stream",
     "text": [
      "9\n"
     ]
    }
   ],
   "source": [
    "my_list = [4, 8, 9, 3]\n",
    "print(my_list[2])"
   ]
  },
  {
   "cell_type": "markdown",
   "id": "c851885d",
   "metadata": {},
   "source": [
    "## Question 2"
   ]
  },
  {
   "cell_type": "code",
   "execution_count": null,
   "id": "1c359e1c",
   "metadata": {},
   "outputs": [
    {
     "name": "stdout",
     "output_type": "stream",
     "text": [
      "<class 'list'>\n",
      "[]\n"
     ]
    }
   ],
   "source": [
    "def f2():\n",
    "    return  # printing in local space of function\n",
    "\n",
    "    \n",
    "    \n",
    "variable = f2() # global space\n",
    "print(type(variable))\n",
    "print(variable)"
   ]
  },
  {
   "cell_type": "markdown",
   "id": "5806d745",
   "metadata": {},
   "source": [
    "## Question 3"
   ]
  },
  {
   "cell_type": "code",
   "execution_count": null,
   "id": "06da0981",
   "metadata": {},
   "outputs": [
    {
     "name": "stdout",
     "output_type": "stream",
     "text": [
      "i:  0\n",
      "\tj:  0\n",
      "\tj:  1\n",
      "i:  1\n",
      "\tj:  0\n",
      "\tj:  1\n",
      "[0, 0, 0, 1, 1, 0, 1, 1]\n"
     ]
    }
   ],
   "source": [
    "def fill_list(a_list):\n",
    "    l2 = list(a_list)\n",
    "\n",
    "    for i in range(0,2):\n",
    "        print(\"i: \",i)\n",
    "        for j in range(2):\n",
    "            print(\"\\tj: \", j)\n",
    "            l2 += [i,j]\n",
    "            #l2.append([i,j])\n",
    "\n",
    "    #return l2\n",
    "\n",
    "\n",
    "my_list = []\n",
    "fill_list(my_list)\n",
    "print(my_list)"
   ]
  },
  {
   "cell_type": "markdown",
   "id": "339a16d6",
   "metadata": {},
   "source": [
    "## Question 4"
   ]
  },
  {
   "cell_type": "code",
   "execution_count": 46,
   "id": "bd8f37dd",
   "metadata": {},
   "outputs": [
    {
     "name": "stdout",
     "output_type": "stream",
     "text": [
      "range(0, 10)\n",
      "[2, 4, 5, 6, 6]\n",
      "{2, 4, 5, 6}\n",
      "{0, 1, 2, 3, 4, 5, 6, 7, 8, 9}\n",
      "{0, 1, 2, 3, 4, 5, 6, 7, 8, 9}\n"
     ]
    }
   ],
   "source": [
    "my_list = [2, 4, 5, 6, 6]\n",
    "my_new_range = range(10) # range() is an iterable, 0 - 9\n",
    "print(my_new_range)\n",
    "\n",
    "\n",
    "print(my_list)\n",
    "set1 = set(my_list) # -> {2, 4, 5, 6}\n",
    "print(set1)\n",
    "set2 = set(my_new_range) # -> {0, 1, 2, 3, 4, 5, 6, 7, 8, 9}\n",
    "print(set2)\n",
    "\n",
    "print(set2.union(set1)) # {0, 1, 2, 3, 4, 5, 6, 7, 8, 9}"
   ]
  },
  {
   "cell_type": "markdown",
   "id": "89044af9",
   "metadata": {},
   "source": [
    "## Question 5"
   ]
  },
  {
   "cell_type": "code",
   "execution_count": 48,
   "id": "4474737d",
   "metadata": {},
   "outputs": [
    {
     "name": "stdout",
     "output_type": "stream",
     "text": [
      "Here\n",
      "Here\n",
      "Here\n",
      "{27: False, 28: False, 29: True}\n"
     ]
    }
   ],
   "source": [
    "import math\n",
    "\n",
    "def my_func(num):\n",
    "    def my_inner_func():\n",
    "        print(\"Here\")\n",
    "        return 3\n",
    "    \n",
    "    if num < 2:\n",
    "        return False \n",
    "    \n",
    "    my_inner_func()\n",
    "\n",
    "    if num % 2 == 0 and num > 2:\n",
    "        return False \n",
    "\n",
    "    for factor in range(3, int(math.sqrt(num)) + 1, 2):\n",
    "        if num % factor == 0:\n",
    "            return False \n",
    "    return True\n",
    "\n",
    "prime_status = {}\n",
    "for n in range(27, 30):\n",
    "    prime_status[n] = my_func(n)\n",
    "\n",
    "print(prime_status)"
   ]
  },
  {
   "cell_type": "markdown",
   "id": "74a6e8d6",
   "metadata": {},
   "source": [
    "## Question 6"
   ]
  },
  {
   "cell_type": "code",
   "execution_count": 49,
   "id": "d0b090ed",
   "metadata": {},
   "outputs": [
    {
     "name": "stdout",
     "output_type": "stream",
     "text": [
      "APS106\n",
      "PS106\n",
      "PS10\n"
     ]
    }
   ],
   "source": [
    "course = \"APS106\"\n",
    "cut_from_start = True\n",
    "\n",
    "while \"P\" in course:\n",
    "    print(course) \n",
    "\n",
    "    if cut_from_start:\n",
    "        course = course[1:] \n",
    "    else:\n",
    "        course = course[:-1]\n",
    "\n",
    "    cut_from_start = not cut_from_start"
   ]
  },
  {
   "cell_type": "markdown",
   "id": "f3c21f89",
   "metadata": {},
   "source": [
    "## Question 7"
   ]
  },
  {
   "cell_type": "code",
   "execution_count": null,
   "id": "b3e3f5fa",
   "metadata": {},
   "outputs": [
    {
     "name": "stdout",
     "output_type": "stream",
     "text": [
      "Stanley Park\n",
      "Grouse Grind\n",
      "Dr. Sun Yat-Sen Classical Garden\n"
     ]
    }
   ],
   "source": [
    "with open(\"text.txt\", \"w\") as myfile:\n",
    "    myfile.write('Things to do in Vancouver: ')\n",
    "    sites = ['Stanley Park', 'Grouse Grind', 'Dr. Sun Yat-Sen Classical Garden']\n",
    "    for site in sites:\n",
    "        print(site)\n",
    "        a = site + ', '\n",
    "        myfile.write(a)\n",
    "#myfile.close()\n",
    "\n",
    "myfile = open(\"text.txt\", \"a\")\n",
    "myfile.write('and don\\'t forget to take a stroll on the seawall!')\n",
    "myfile.close()\n"
   ]
  },
  {
   "cell_type": "markdown",
   "id": "6d7c0d74",
   "metadata": {},
   "source": [
    "## Question 8"
   ]
  },
  {
   "cell_type": "markdown",
   "id": "f9137cc8",
   "metadata": {},
   "source": [
    "Note: there are several ways to solve this problem! You so long as your output matches, it's ok :)"
   ]
  },
  {
   "cell_type": "code",
   "execution_count": null,
   "id": "892278ef",
   "metadata": {},
   "outputs": [],
   "source": [
    "weekly_temperatures = [\n",
    "    [20, 22, 21, 19, 18, 17, 21],\n",
    "    [22, 24, 23, 25, 26, 24, 22],\n",
    "    [21, 23, 22, 20, 19, 20, 21]\n",
    "]\n",
    "\n",
    "file = open('weekly_temperatures.txt','w') # create the file, will save in same directory as your code\n",
    "\n",
    "for week in weekly_temperatures: # iterating through the nested list\n"
   ]
  },
  {
   "cell_type": "markdown",
   "id": "aec8b2eb",
   "metadata": {},
   "source": [
    "## Question 9"
   ]
  },
  {
   "cell_type": "code",
   "execution_count": null,
   "id": "01b9a190",
   "metadata": {},
   "outputs": [],
   "source": [
    "pts = [(2,3),(2,4)]\n",
    "\n",
    "for i in range(len(pts)):\n",
    "    print(pts[i][1]) # i iterates through the tuples\n",
    "                     # the [1] always prints the second entry!"
   ]
  },
  {
   "cell_type": "code",
   "execution_count": null,
   "id": "909fe27b",
   "metadata": {},
   "outputs": [],
   "source": [
    "def calc_sum(points):\n",
    "    '''\n",
    "    ([(num, num), (num, num), …]) -> (num,num)\n",
    "    Input: a list of tuples, each tuple representing a point\n",
    "    Output: a tuple where each entry contains the sum of\n",
    "    corresponding entries in the input tuples (e.g., the first\n",
    "    entry in the returned tuple is the sum of the first entries\n",
    "    in the input tuples, etc.)\n",
    "    '''"
   ]
  },
  {
   "cell_type": "code",
   "execution_count": null,
   "id": "5170d952",
   "metadata": {},
   "outputs": [],
   "source": [
    "output = calc_sum([(2,3),(2,4)])\n",
    "print(output)"
   ]
  },
  {
   "cell_type": "markdown",
   "id": "38426cfe",
   "metadata": {},
   "source": [
    "## Question 10"
   ]
  },
  {
   "cell_type": "code",
   "execution_count": 64,
   "id": "86668ef9",
   "metadata": {},
   "outputs": [
    {
     "name": "stdout",
     "output_type": "stream",
     "text": [
      "Mary\n",
      "CIV100\n",
      "APS106\n",
      "APS112\n",
      "Sarah\n",
      "APS106\n",
      "CIV185\n",
      "John\n",
      "APS100\n",
      "MIE100\n",
      "ECE110\n",
      "Tom\n",
      "APS112\n",
      "MSE101\n",
      "{'CIV100': {'Mary'}, 'APS106': {'Mary', 'Sarah'}, 'APS112': {'Mary', 'Tom'}, 'CIV185': {'Sarah'}, 'APS100': {'John'}, 'MIE100': {'John'}, 'ECE110': {'John'}, 'MSE101': {'Tom'}}\n"
     ]
    }
   ],
   "source": [
    "student_courses = {\n",
    "    'Mary': {'APS106', 'APS112', 'CIV100'},\n",
    "    'Sarah': {'APS106', 'CIV185'},\n",
    "    'John': {'APS100', 'MIE100', 'ECE110'},\n",
    "    'Tom': {'APS112', 'MSE101'}\n",
    "}\n",
    "\n",
    "def invert_dictionary(original_dict):\n",
    "    \"\"\"\n",
    "    (dict) -> dict\n",
    "\n",
    "    Invert the keys and values witin a dictionary.\n",
    "    \"\"\"\n",
    "    # create new dictionary\n",
    "    inverted_dict = {}\n",
    "\n",
    "\n",
    "    # nested loop\n",
    "    # iterate over students (keys)\n",
    "    for student in original_dict:\n",
    "        print(student)\n",
    "        \n",
    "        # iterate over all courses for that student\n",
    "        for course in original_dict[student]:\n",
    "            print(course)\n",
    "\n",
    "            # Add each course-student to the new dictionary\n",
    "            if course not in inverted_dict:\n",
    "                inverted_dict[course] = set([student])\n",
    "            else:\n",
    "                inverted_dict[course].add(student)\n",
    "    \n",
    "    return inverted_dict\n",
    "\n",
    "# Use the function to invert the student_courses dictionary\n",
    "course_students = invert_dictionary(student_courses)\n",
    "print(course_students)"
   ]
  },
  {
   "cell_type": "markdown",
   "id": "b9452fe9",
   "metadata": {},
   "source": [
    "## Question 11"
   ]
  },
  {
   "cell_type": "code",
   "execution_count": null,
   "id": "59a6d398",
   "metadata": {},
   "outputs": [],
   "source": [
    "def g1(x=5): \n",
    "    print(x)  \n",
    "    return x * 2  \n",
    "\n",
    "def g2(y=[], z=1, w='*'): \n",
    "    y.append(z)  \n",
    "    return str(len(y) + z)  \n",
    "\n",
    "def g3(w='-', v=[10, 20, 30]): \n",
    "    v.insert(0, w)  \n",
    "    return w  \n",
    "\n",
    "data = [None] * 4  \n",
    "\n",
    "for j in range(len(data)): \n",
    "    data[j] = g2(data, j)  \n",
    "    print(data[j], g1(j+1), sep=g3())\n"
   ]
  },
  {
   "cell_type": "markdown",
   "id": "db678025",
   "metadata": {},
   "source": [
    "## Queston 12"
   ]
  },
  {
   "cell_type": "code",
   "execution_count": 58,
   "id": "af573f2d",
   "metadata": {},
   "outputs": [
    {
     "name": "stdout",
     "output_type": "stream",
     "text": [
      "{'is': 3, 'it': 2, 'string': 1, 'chewy': 0, 'this': 1}\n"
     ]
    }
   ],
   "source": [
    "def count_substrings(library, search_substrings):\n",
    "    \"\"\"\n",
    "    (str, tuple) -> dict\n",
    "\n",
    "    Counts the number of times each substring within search_substrings occurs\n",
    "    within the string library.\n",
    "    \"\"\"\n",
    "    # create empty dictionary\n",
    "    string_counts = {}\n",
    "\n",
    "    # convert library to lowercase\n",
    "    library = library.lower()\n",
    "\n",
    "    # loop over all substrings\n",
    "    for substr in search_substrings:\n",
    "\n",
    "        # use count to determine the number of times substr occurs within library\n",
    "        count = library.count(substr.lower())\n",
    "\n",
    "        # add the substr and count to the dictionary\n",
    "        string_counts[substr] = count\n",
    "\n",
    "    return string_counts\n",
    "\n",
    "library = \"This is the library string It is not that long It also has no punctuation\"\n",
    "search_substrings = (\"is\", \"it\", \"string\", \"chewy\", \"this\")\n",
    "\n",
    "substr_counts = count_substrings(library, search_substrings)\n",
    "print(substr_counts)"
   ]
  },
  {
   "cell_type": "code",
   "execution_count": null,
   "id": "17e1267d",
   "metadata": {},
   "outputs": [],
   "source": [
    "def count_words(library, words):\n",
    "    \"\"\"\n",
    "    (str, tuple) -> dict\n",
    "\n",
    "    Counts the number of times each word within words occurs within the string\n",
    "    library.\n",
    "    \"\"\"\n",
    "\n",
    "library = \"This is the library string It is not that long It also has no punctuation\"\n",
    "search_words = (\"is\", \"it\", \"string\", \"chewy\", \"this\")\n",
    "\n",
    "word_counts = count_words(library, search_words)\n",
    "print(word_counts)\n"
   ]
  }
 ],
 "metadata": {
  "kernelspec": {
   "display_name": "aps106",
   "language": "python",
   "name": "python3"
  },
  "language_info": {
   "codemirror_mode": {
    "name": "ipython",
    "version": 3
   },
   "file_extension": ".py",
   "mimetype": "text/x-python",
   "name": "python",
   "nbconvert_exporter": "python",
   "pygments_lexer": "ipython3",
   "version": "3.9.18"
  }
 },
 "nbformat": 4,
 "nbformat_minor": 5
}
