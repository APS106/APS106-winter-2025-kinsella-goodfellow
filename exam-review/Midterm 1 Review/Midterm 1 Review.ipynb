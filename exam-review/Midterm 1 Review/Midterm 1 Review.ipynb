{
 "cells": [
  {
   "cell_type": "code",
   "execution_count": 1,
   "id": "4c6ca1d8",
   "metadata": {},
   "outputs": [
    {
     "name": "stdout",
     "output_type": "stream",
     "text": [
      "4\n"
     ]
    }
   ],
   "source": [
    "x2 = 4\n",
    "print(x2)"
   ]
  },
  {
   "cell_type": "code",
   "execution_count": 2,
   "id": "f07796b0",
   "metadata": {},
   "outputs": [],
   "source": [
    "man_of_war = 4\n",
    "_Beverly_Hills_90210 = \"beverly_hills\"\n",
    "Medusa_ = 45"
   ]
  },
  {
   "cell_type": "code",
   "execution_count": 3,
   "id": "321d06ee",
   "metadata": {},
   "outputs": [
    {
     "ename": "SyntaxError",
     "evalue": "invalid decimal literal (<ipython-input-3-47753389755e>, line 1)",
     "output_type": "error",
     "traceback": [
      "\u001b[0;36m  File \u001b[0;32m\"<ipython-input-3-47753389755e>\"\u001b[0;36m, line \u001b[0;32m1\u001b[0m\n\u001b[0;31m    90210_Beverly_Hills\u001b[0m\n\u001b[0m         ^\u001b[0m\n\u001b[0;31mSyntaxError\u001b[0m\u001b[0;31m:\u001b[0m invalid decimal literal\n"
     ]
    }
   ],
   "source": [
    "90210_Beverly_Hills # syntax error"
   ]
  },
  {
   "cell_type": "markdown",
   "id": "a7fd8cfd",
   "metadata": {},
   "source": [
    "## Question 2"
   ]
  },
  {
   "cell_type": "code",
   "execution_count": 6,
   "id": "81411085",
   "metadata": {},
   "outputs": [
    {
     "name": "stdout",
     "output_type": "stream",
     "text": [
      "True\n",
      "True\n"
     ]
    }
   ],
   "source": [
    "dollars = 8\n",
    "\n",
    "print(dollars == 8) # ==, or any conditional operators, return bool (True or False)\n",
    "print(8 >= dollars)"
   ]
  },
  {
   "cell_type": "markdown",
   "id": "7a6a9e56",
   "metadata": {},
   "source": [
    "## Question 3"
   ]
  },
  {
   "cell_type": "code",
   "execution_count": 7,
   "id": "5a8c7283",
   "metadata": {},
   "outputs": [
    {
     "data": {
      "text/plain": [
       "72"
      ]
     },
     "execution_count": 7,
     "metadata": {},
     "output_type": "execute_result"
    }
   ],
   "source": [
    "int(72.5) # converting to int removes everything after the decimal point"
   ]
  },
  {
   "cell_type": "markdown",
   "id": "c323a17c",
   "metadata": {},
   "source": [
    "## Question 4"
   ]
  },
  {
   "cell_type": "code",
   "execution_count": 11,
   "id": "53614cac",
   "metadata": {},
   "outputs": [
    {
     "name": "stdout",
     "output_type": "stream",
     "text": [
      "False\n"
     ]
    }
   ],
   "source": [
    "def dummy_function(eggs):\n",
    "#     return not (eggs % 12 == 0)\n",
    "    return eggs % 12 != 0\n",
    "\n",
    "#     if eggs % 12 == 0:\n",
    "#         return False\n",
    "#     else:\n",
    "#         return True\n",
    "\n",
    "eggs = 13\n",
    "print(dummy_function(eggs))"
   ]
  },
  {
   "cell_type": "markdown",
   "id": "1dceabc7",
   "metadata": {},
   "source": [
    "## Question 5"
   ]
  },
  {
   "cell_type": "code",
   "execution_count": 14,
   "id": "d6c41f86",
   "metadata": {},
   "outputs": [
    {
     "name": "stdout",
     "output_type": "stream",
     "text": [
      "True\n"
     ]
    }
   ],
   "source": [
    "def test_function(a_boolean_variable):\n",
    "    \n",
    "#     if a_boolean_variable == True:\n",
    "#         return False\n",
    "#     else:\n",
    "#         return True\n",
    "    return not a_boolean_variable\n",
    "    \n",
    "print(test_function(False))"
   ]
  },
  {
   "cell_type": "markdown",
   "id": "4df75d9e",
   "metadata": {},
   "source": [
    "## Question 6"
   ]
  },
  {
   "cell_type": "code",
   "execution_count": 15,
   "id": "b8ab5a5b",
   "metadata": {},
   "outputs": [
    {
     "data": {
      "text/plain": [
       "False"
      ]
     },
     "execution_count": 15,
     "metadata": {},
     "output_type": "execute_result"
    }
   ],
   "source": [
    "'a' > 'c'"
   ]
  },
  {
   "cell_type": "code",
   "execution_count": 16,
   "id": "93acb958",
   "metadata": {},
   "outputs": [
    {
     "data": {
      "text/plain": [
       "True"
      ]
     },
     "execution_count": 16,
     "metadata": {},
     "output_type": "execute_result"
    }
   ],
   "source": [
    "grade = \"A+\"\n",
    "\n",
    "grade < \"D\""
   ]
  },
  {
   "cell_type": "code",
   "execution_count": 18,
   "id": "b94afd83",
   "metadata": {},
   "outputs": [
    {
     "data": {
      "text/plain": [
       "False"
      ]
     },
     "execution_count": 18,
     "metadata": {},
     "output_type": "execute_result"
    }
   ],
   "source": [
    "\"abaaanefnfwf\" > \"abad\""
   ]
  },
  {
   "cell_type": "code",
   "execution_count": 19,
   "id": "28226d07",
   "metadata": {},
   "outputs": [
    {
     "data": {
      "text/plain": [
       "True"
      ]
     },
     "execution_count": 19,
     "metadata": {},
     "output_type": "execute_result"
    }
   ],
   "source": [
    "\"A+\" > \"A\" #A None-type"
   ]
  },
  {
   "cell_type": "markdown",
   "id": "72defeb7",
   "metadata": {},
   "source": [
    "## Question 7"
   ]
  },
  {
   "cell_type": "code",
   "execution_count": 25,
   "id": "d3fe8457",
   "metadata": {
    "scrolled": true
   },
   "outputs": [
    {
     "name": "stdout",
     "output_type": "stream",
     "text": [
      "3\n",
      "1\n",
      "2\n",
      "4\n",
      "8\n",
      "16\n",
      "Result 16\n"
     ]
    }
   ],
   "source": [
    "j = 6\n",
    "\n",
    "while 0 < j < 10:\n",
    "    \n",
    "    if j % 3 == 0:\n",
    "        j = j // 2\n",
    "        \n",
    "    elif j % 2 == 0:\n",
    "        j = j * 2\n",
    "        \n",
    "    else:\n",
    "        j = j + 1\n",
    "    \n",
    "    print(j)\n",
    "        \n",
    "print(\"Result\", j)\n",
    "\n",
    "# first iteration, j % 3 applies, 6 // 2 -> Result j = 3\n",
    "# second iteration, j % 3 applies, 3 // 2 -> Result j = 1\n",
    "# third iteration, else applies, j = 1 + 1 -> Result j = 2\n",
    "# fourth iteration, elif applies, j = 2 * 2 -> Result j = 4\n",
    "# fifth iteration, elif applies, j = 4 * 2 -> Result j = 8\n",
    "# sixth iteration, elif applies, j = 8 * 2 -> Result j = 16"
   ]
  },
  {
   "cell_type": "markdown",
   "id": "a39f439e",
   "metadata": {},
   "source": [
    "## Coding Problem #1"
   ]
  },
  {
   "cell_type": "code",
   "execution_count": null,
   "id": "f1794fc6",
   "metadata": {},
   "outputs": [],
   "source": [
    "import weather\n",
    "\n",
    "def forecast_high(days_from_now, city):\n",
    "    \"\"\"\n",
    "    days -> int\n",
    "    city -> string\n",
    "    return \n",
    "        Ceclius, integer of days into the future\"\"\"\n",
    "    \n",
    "    ... # function does something here\n",
    "\n",
    "city = input(\"What city do you forecast in?\") # input always is a string\n",
    "days = int(input(\"How many days from now\"))\n",
    "    \n",
    "if ((days < 0) or (days > 6)):\n",
    "    print('Illegal input')\n",
    "else:\n",
    "    forecast = forecast_high(days, city)\n",
    "    \n",
    "    if (forecast <= -30):\n",
    "        print(\"Welcome to Canada\")\n",
    "    elif (forecast < 30):\n",
    "        print(\"We can deal with this\")\n",
    "    else:\n",
    "        print(\"Hot\")"
   ]
  },
  {
   "cell_type": "markdown",
   "id": "c5fd6ef1",
   "metadata": {},
   "source": [
    "## Coding Problem #2"
   ]
  },
  {
   "cell_type": "code",
   "execution_count": 30,
   "id": "9814d4c1",
   "metadata": {},
   "outputs": [
    {
     "name": "stdout",
     "output_type": "stream",
     "text": [
      "Do you want to play? yes\n",
      "Nice, you rolled 1\n",
      "Do you want to keep playing? yes\n",
      "Nice, you rolled 1\n",
      "Do you want to keep playing? YES!\n",
      "Thanks for playing, you rolled this many times 2\n"
     ]
    }
   ],
   "source": [
    "import random\n",
    "\n",
    "play = input(\"Do you want to play? \") # assuming a good input from user\n",
    "\n",
    "# unless we ask you to enforce the input! do not need otherwise\n",
    "# while play != 'yes' and play != 'no': \n",
    "#     play = input(\"Input invalid! Type yes or no only: \")\n",
    "\n",
    "# define a counter\n",
    "counter = 0\n",
    "\n",
    "while play == 'yes':\n",
    "    \n",
    "    # roll the dice\n",
    "    dice = random.randint(1,6)\n",
    "    \n",
    "    # print the dice value\n",
    "    print(\"Nice, you rolled\", dice)\n",
    "    \n",
    "    # test while loop condition\n",
    "    play = input(\"Do you want to keep playing? \") \n",
    "    \n",
    "    # update counter\n",
    "#     counter = counter + 1\n",
    "    counter += 1\n",
    "    \n",
    "print('Thanks for playing, you rolled this many times', counter)"
   ]
  },
  {
   "cell_type": "code",
   "execution_count": null,
   "id": "f9f3f8f8",
   "metadata": {},
   "outputs": [],
   "source": []
  }
 ],
 "metadata": {
  "kernelspec": {
   "display_name": "Python 3",
   "language": "python",
   "name": "python3"
  },
  "language_info": {
   "codemirror_mode": {
    "name": "ipython",
    "version": 3
   },
   "file_extension": ".py",
   "mimetype": "text/x-python",
   "name": "python",
   "nbconvert_exporter": "python",
   "pygments_lexer": "ipython3",
   "version": "3.8.5"
  }
 },
 "nbformat": 4,
 "nbformat_minor": 5
}
