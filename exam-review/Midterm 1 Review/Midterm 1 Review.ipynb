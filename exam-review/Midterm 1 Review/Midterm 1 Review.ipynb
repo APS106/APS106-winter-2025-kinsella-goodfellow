{
 "cells": [
  {
   "cell_type": "markdown",
   "id": "ce1fdf95",
   "metadata": {},
   "source": [
    "# Question 1"
   ]
  },
  {
   "cell_type": "code",
   "execution_count": 2,
   "id": "f07796b0",
   "metadata": {},
   "outputs": [
    {
     "ename": "SyntaxError",
     "evalue": "invalid decimal literal (1777209705.py, line 7)",
     "output_type": "error",
     "traceback": [
      "\u001b[1;36m  Cell \u001b[1;32mIn[2], line 7\u001b[1;36m\u001b[0m\n\u001b[1;33m    4_var = 3\u001b[0m\n\u001b[1;37m     ^\u001b[0m\n\u001b[1;31mSyntaxError\u001b[0m\u001b[1;31m:\u001b[0m invalid decimal literal\n"
     ]
    }
   ],
   "source": [
    "X2 = 3\n",
    "man_of_war = 4\n",
    "_Beverly_Hills_90210 = \"beverly_hills\"\n",
    "Medusa_ = 45\n",
    "\n",
    "\n",
    "4_var = 3"
   ]
  },
  {
   "cell_type": "markdown",
   "id": "a7fd8cfd",
   "metadata": {},
   "source": [
    "## Question 2"
   ]
  },
  {
   "cell_type": "code",
   "execution_count": null,
   "id": "81411085",
   "metadata": {},
   "outputs": [],
   "source": [
    "dollars = 8\n"
   ]
  },
  {
   "cell_type": "markdown",
   "id": "7a6a9e56",
   "metadata": {},
   "source": [
    "## Question 3"
   ]
  },
  {
   "cell_type": "code",
   "execution_count": null,
   "id": "5a8c7283",
   "metadata": {},
   "outputs": [],
   "source": [
    "int(72.8) "
   ]
  },
  {
   "cell_type": "markdown",
   "id": "c323a17c",
   "metadata": {},
   "source": [
    "## Question 4"
   ]
  },
  {
   "cell_type": "code",
   "execution_count": 8,
   "id": "53614cac",
   "metadata": {},
   "outputs": [
    {
     "name": "stdout",
     "output_type": "stream",
     "text": [
      "False\n",
      "True\n"
     ]
    }
   ],
   "source": [
    "def dozen_egg_checker(eggs):\n",
    "    #if eggs % 12 == 0:\n",
    "    #    return False\n",
    "    #else:\n",
    "    #    return True\n",
    "    return not (eggs % 12 != 0)\n",
    "\n",
    "eggs = 13\n",
    "print(dozen_egg_checker(eggs))\n",
    "\n",
    "eggs = 24\n",
    "print(dozen_egg_checker(eggs))"
   ]
  },
  {
   "cell_type": "markdown",
   "id": "26552c37",
   "metadata": {},
   "source": [
    "## Question 5"
   ]
  },
  {
   "cell_type": "code",
   "execution_count": null,
   "id": "a8c6ef6f",
   "metadata": {},
   "outputs": [
    {
     "name": "stdout",
     "output_type": "stream",
     "text": [
      "2.1 88 1.0\n",
      "1.0 -98.0 1.0\n"
     ]
    }
   ],
   "source": [
    "x = 2.1\n",
    "y = 88\n",
    "z = x // 2\n",
    "\n",
    "print(x, y, z)\n",
    "\n",
    "if x >= 2:\n",
    "    y += 10\n",
    "else:\n",
    "    y -= 10\n",
    "\n",
    "y = -y\n",
    "x = (z ** 3) % 4\n",
    "\n",
    "print(x, y, z)"
   ]
  },
  {
   "cell_type": "markdown",
   "id": "1dceabc7",
   "metadata": {},
   "source": [
    "## Question 6"
   ]
  },
  {
   "cell_type": "code",
   "execution_count": null,
   "id": "1dbe54bb",
   "metadata": {},
   "outputs": [],
   "source": [
    "def mystery_func(x, y, z):\n",
    "    \"\"\"\n",
    "    (float, float, float) -> float\n",
    "\n",
    "    Return the min value of the three inputs\n",
    "    \"\"\"\n",
    "\n",
    "    if x - z >= 0 and z - y <= 0:\n",
    "        return z\n",
    "    elif x >= y:\n",
    "        return y\n",
    "    else:\n",
    "        return x"
   ]
  },
  {
   "cell_type": "markdown",
   "id": "a3b014f7",
   "metadata": {},
   "source": [
    "## Question 7"
   ]
  },
  {
   "cell_type": "code",
   "execution_count": null,
   "id": "d6c41f86",
   "metadata": {},
   "outputs": [],
   "source": [
    "def test_function(a_boolean_variable):\n",
    "    \n",
    "    if a_boolean_variable == True:\n",
    "        return False\n",
    "    else:\n",
    "        return True\n",
    "    \n",
    "print(test_function(False))"
   ]
  },
  {
   "cell_type": "markdown",
   "id": "4df75d9e",
   "metadata": {},
   "source": [
    "## Question 8"
   ]
  },
  {
   "cell_type": "code",
   "execution_count": null,
   "id": "b8ab5a5b",
   "metadata": {},
   "outputs": [],
   "source": [
    "course = 'aps106'\n",
    "new_str = ''\n",
    "\n",
    "i = 0\n",
    "while i < len(course):\n",
    "    if i % 2 == 0:\n",
    "        new_str = new_str + course[i].upper()\n",
    "    else:\n",
    "        new_str = new_str + course[i-1] * 2\n",
    "\n",
    "    i += 1\n",
    "\n",
    "print(new_str)"
   ]
  },
  {
   "cell_type": "markdown",
   "id": "a39f439e",
   "metadata": {},
   "source": [
    "## Coding Problem #1"
   ]
  },
  {
   "cell_type": "code",
   "execution_count": null,
   "id": "f1794fc6",
   "metadata": {},
   "outputs": [
    {
     "name": "stdout",
     "output_type": "stream",
     "text": [
      "0.10033534773015874\n"
     ]
    }
   ],
   "source": [
    "# inverse tanh\n",
    "\n",
    "def inverse_tanh(x, N):\n",
    "    \"\"\"\n",
    "    (number, number) -> number\n",
    "\n",
    "    (float, int) -> float -- would also  be acceptable\n",
    "\n",
    "    Calculates an estimate of the inverse hyperbolic tangent function\n",
    "    \"\"\"\n",
    "    # initialize variables\n",
    "    n = 1\n",
    "    result = 0\n",
    "\n",
    "    # loop to compute all terms in the sum\n",
    "    while n <= N:\n",
    "        term = (x ** (2*n - 1)) / (2*n - 1)\n",
    "        result = result + term\n",
    "\n",
    "        # increase n\n",
    "        n += 1\n",
    "\n",
    "    return result\n",
    "\n",
    "\n",
    "# get the values from the user\n",
    "x = float(input(\"Enter a value for x between -1 and 1: \"))\n",
    "N = int(input(\"Enter a positive int: \"))\n",
    "\n",
    "# check that the values are valid, if invalid, get the user to re-enter\n",
    "while x >= 1 or x <= -1:\n",
    "    x = float(input(\"Invalid value, enter a value for x between -1 and 1: \"))\n",
    "\n",
    "while N <= 0:\n",
    "    N = int(input(\"Invalid value, enter a positive int: \"))\n",
    "\n",
    "r = inverse_tanh(x, N)\n",
    "\n",
    "print(r)\n"
   ]
  },
  {
   "cell_type": "markdown",
   "id": "c5fd6ef1",
   "metadata": {},
   "source": [
    "## Coding Problem #2"
   ]
  },
  {
   "cell_type": "code",
   "execution_count": null,
   "id": "9814d4c1",
   "metadata": {},
   "outputs": [
    {
     "name": "stdout",
     "output_type": "stream",
     "text": [
      "nick_20250211_convo_log.txt\n"
     ]
    }
   ],
   "source": [
    "# write conversations to file\n",
    "\n",
    "# get the name and date\n",
    "name = input(\"Enter a name: \")\n",
    "date = input(\"Enter a date (YYYMMDD): \")\n",
    "\n",
    "# assume both are valid\n",
    "\n",
    "# generate the filename\n",
    "filename = name + \"_\" + date + \"_convo_log.txt\"\n",
    "\n",
    "print(filename)\n",
    "\n",
    "# open the file for writing\n",
    "f = open(filename, \"w\")\n",
    "\n",
    "# get text input from user\n",
    "line = input(\"Enter conversation text (or *DONE* to finish): \")\n",
    "\n",
    "# check if done\n",
    "while line != \"*DONE*\":\n",
    "    # write the line to the file\n",
    "    f.write(line + \"\\n\")\n",
    "\n",
    "    # ask for the next line\n",
    "    line = input(\"Enter conversation text (or *DONE* to finish): \")\n",
    "\n",
    "# close the file\n",
    "f.close()\n"
   ]
  },
  {
   "cell_type": "code",
   "execution_count": 18,
   "id": "a697e619",
   "metadata": {},
   "outputs": [
    {
     "name": "stdout",
     "output_type": "stream",
     "text": [
      "hello how are you?\n",
      "\n",
      "Good thanks, good luck on the test on thursday!\n",
      "\n"
     ]
    }
   ],
   "source": [
    "# open file for reading\n",
    "f = open(filename, \"r\")\n",
    "\n",
    "i = 0\n",
    "while i < 2:\n",
    "    content = f.readline()\n",
    "    i += 1\n",
    "\n",
    "    print(content)\n",
    "\n",
    "f.close()"
   ]
  }
 ],
 "metadata": {
  "kernelspec": {
   "display_name": "aps106",
   "language": "python",
   "name": "python3"
  },
  "language_info": {
   "codemirror_mode": {
    "name": "ipython",
    "version": 3
   },
   "file_extension": ".py",
   "mimetype": "text/x-python",
   "name": "python",
   "nbconvert_exporter": "python",
   "pygments_lexer": "ipython3",
   "version": "3.9.18"
  }
 },
 "nbformat": 4,
 "nbformat_minor": 5
}
