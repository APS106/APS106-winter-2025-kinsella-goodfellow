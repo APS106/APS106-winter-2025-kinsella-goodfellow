{
 "cells": [
  {
   "cell_type": "markdown",
   "id": "ce1fdf95",
   "metadata": {},
   "source": [
    "# Question 1"
   ]
  },
  {
   "cell_type": "code",
   "execution_count": null,
   "id": "f07796b0",
   "metadata": {},
   "outputs": [],
   "source": [
    "X2 = 3\n",
    "man_of_war = 4\n",
    "_Beverly_Hills_90210 = \"beverly_hills\"\n",
    "Medusa_ = 45"
   ]
  },
  {
   "cell_type": "markdown",
   "id": "a7fd8cfd",
   "metadata": {},
   "source": [
    "## Question 2"
   ]
  },
  {
   "cell_type": "code",
   "execution_count": null,
   "id": "81411085",
   "metadata": {},
   "outputs": [],
   "source": [
    "dollars = 8\n"
   ]
  },
  {
   "cell_type": "markdown",
   "id": "7a6a9e56",
   "metadata": {},
   "source": [
    "## Question 3"
   ]
  },
  {
   "cell_type": "code",
   "execution_count": null,
   "id": "5a8c7283",
   "metadata": {},
   "outputs": [],
   "source": [
    "int(72.8) "
   ]
  },
  {
   "cell_type": "markdown",
   "id": "c323a17c",
   "metadata": {},
   "source": [
    "## Question 4"
   ]
  },
  {
   "cell_type": "code",
   "execution_count": null,
   "id": "53614cac",
   "metadata": {},
   "outputs": [],
   "source": [
    "def dozen_egg_checker(eggs):\n",
    "    if eggs % 12 == 0:\n",
    "        return False\n",
    "    else:\n",
    "        return True\n",
    "\n",
    "eggs = 13\n",
    "print(dozen_egg_checker(eggs))"
   ]
  },
  {
   "cell_type": "markdown",
   "id": "26552c37",
   "metadata": {},
   "source": [
    "## Question 5"
   ]
  },
  {
   "cell_type": "code",
   "execution_count": null,
   "id": "a8c6ef6f",
   "metadata": {},
   "outputs": [],
   "source": [
    "x = 2.1\n",
    "y = 88\n",
    "z = x // 2\n",
    "\n",
    "if x >= 2:\n",
    "    y += 10\n",
    "else:\n",
    "    y -= 10\n",
    "\n",
    "y = -y\n",
    "x = (z ** 3) % 4\n",
    "\n",
    "print(x, y, z)"
   ]
  },
  {
   "cell_type": "markdown",
   "id": "1dceabc7",
   "metadata": {},
   "source": [
    "## Question 6"
   ]
  },
  {
   "cell_type": "code",
   "execution_count": null,
   "id": "1dbe54bb",
   "metadata": {},
   "outputs": [],
   "source": [
    "def mystery_func(x, y, z):\n",
    "\n",
    "    if x - z >= 0 and z - y <= 0:\n",
    "        return z\n",
    "    elif x >= y:\n",
    "        return y\n",
    "    else:\n",
    "        return x"
   ]
  },
  {
   "cell_type": "markdown",
   "id": "a3b014f7",
   "metadata": {},
   "source": [
    "## Question 7"
   ]
  },
  {
   "cell_type": "code",
   "execution_count": null,
   "id": "d6c41f86",
   "metadata": {},
   "outputs": [],
   "source": [
    "def test_function(a_boolean_variable):\n",
    "    \n",
    "    if a_boolean_variable == True:\n",
    "        return False\n",
    "    else:\n",
    "        return True\n",
    "    \n",
    "print(test_function(False))"
   ]
  },
  {
   "cell_type": "markdown",
   "id": "4df75d9e",
   "metadata": {},
   "source": [
    "## Question 8"
   ]
  },
  {
   "cell_type": "code",
   "execution_count": null,
   "id": "b8ab5a5b",
   "metadata": {},
   "outputs": [],
   "source": [
    "course = 'aps106'\n",
    "new_str = ''\n",
    "\n",
    "i = 0\n",
    "while i < len(course):\n",
    "    if i % 2 == 0:\n",
    "        new_str = new_str + course[i].upper()\n",
    "    else:\n",
    "        new_str = new_str + course[i-1] * 2\n",
    "\n",
    "    i += 1\n",
    "\n",
    "print(new_str)"
   ]
  },
  {
   "cell_type": "markdown",
   "id": "a39f439e",
   "metadata": {},
   "source": [
    "## Coding Problem #1"
   ]
  },
  {
   "cell_type": "code",
   "execution_count": null,
   "id": "f1794fc6",
   "metadata": {},
   "outputs": [],
   "source": [
    "# inverse tanh"
   ]
  },
  {
   "cell_type": "markdown",
   "id": "c5fd6ef1",
   "metadata": {},
   "source": [
    "## Coding Problem #2"
   ]
  },
  {
   "cell_type": "code",
   "execution_count": null,
   "id": "9814d4c1",
   "metadata": {},
   "outputs": [],
   "source": [
    "# write conversations to file"
   ]
  }
 ],
 "metadata": {
  "kernelspec": {
   "display_name": "aps106",
   "language": "python",
   "name": "python3"
  },
  "language_info": {
   "codemirror_mode": {
    "name": "ipython",
    "version": 3
   },
   "file_extension": ".py",
   "mimetype": "text/x-python",
   "name": "python",
   "nbconvert_exporter": "python",
   "pygments_lexer": "ipython3",
   "version": "3.9.18"
  }
 },
 "nbformat": 4,
 "nbformat_minor": 5
}
