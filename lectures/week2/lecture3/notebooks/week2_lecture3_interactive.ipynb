{
 "cells": [
  {
   "cell_type": "markdown",
   "metadata": {},
   "source": [
    "# APS106 - Fundamentals of Computer Programming\n",
    "## Design Project 1: Forward Kinematics\n",
    "\n",
    "Below are the functions we developed in class."
   ]
  },
  {
   "cell_type": "code",
   "execution_count": 12,
   "metadata": {},
   "outputs": [],
   "source": [
    "import math\n",
    "\n",
    "def x_finder(len1, ang1, len2, ang2):\n",
    "    \"\"\"\n",
    "    Calculate the x-coordinate of an arm of length len with angle ang in radians\n",
    "    \"\"\"\n",
    "    # converting angles to radians\n",
    "    ang1_rad = math.radians(ang1)\n",
    "    ang2_rad = math.radians(ang2)\n",
    "    \n",
    "    # use the provided equations to compute dx1 and dx2\n",
    "    dx1 = len1 * math.cos(ang1_rad)\n",
    "    dx2 = len2 * math.cos(ang1_rad + ang2_rad)\n",
    "    \n",
    "    # sum up dx1 and dx2 to get the total x\n",
    "    x = dx1 + dx2\n",
    "    \n",
    "    return dx1, dx2, x\n",
    "\n",
    "def y_finder(len1, ang1, len2, ang2):\n",
    "    \"\"\"\n",
    "    Calculate the y-coordinate of an arm of length len with angle ang in radians\n",
    "    \"\"\"\n",
    "    # converting angles to radians\n",
    "    ang1_rad = math.radians(ang1)\n",
    "    ang2_rad = math.radians(ang2)\n",
    "    \n",
    "    # use the provided equations to compute dy1 and dy2\n",
    "    dy1 = len1 * math.sin(ang1_rad)\n",
    "    dy2 = len2 * math.sin(ang1_rad + ang2_rad)\n",
    "    \n",
    "    # sum up dy1 and dy2 to get the total y\n",
    "    y = dy1 + dy2\n",
    "    \n",
    "    return dy1, dy2, y\n",
    "\n",
    "def calculate_end_effector_position(len1, ang1, len2, ang2):\n",
    "    \"\"\"\n",
    "    (number, number, number, number) -> (number, number)\n",
    "    Calculate the \n",
    "    \"\"\"\n",
    "    dx1, dx2, x = x_finder(len1, ang1, len2, ang2)\n",
    "    dy1, dy2, y = y_finder(len1, ang1, len2, ang2)\n",
    "    \n",
    "    return dx1, dy1, dx2, dy2, x, y"
   ]
  },
  {
   "cell_type": "markdown",
   "metadata": {},
   "source": [
    "Now we have to install two third party packages. These are not a part of APS106. We are using them for this visualization but you are not expected to know how to install them or what they do."
   ]
  },
  {
   "cell_type": "code",
   "execution_count": null,
   "metadata": {},
   "outputs": [],
   "source": [
    "!pip install matplotlib"
   ]
  },
  {
   "cell_type": "code",
   "execution_count": null,
   "metadata": {
    "scrolled": false
   },
   "outputs": [],
   "source": [
    "!pip install ipywidgets"
   ]
  },
  {
   "cell_type": "markdown",
   "metadata": {},
   "source": [
    "Now we can use your functions for a cool visualization. Have fun!"
   ]
  },
  {
   "cell_type": "code",
   "execution_count": 13,
   "metadata": {},
   "outputs": [
    {
     "data": {
      "application/vnd.jupyter.widget-view+json": {
       "model_id": "b6033c75362e474eb970235d078f62a7",
       "version_major": 2,
       "version_minor": 0
      },
      "text/plain": [
       "interactive(children=(IntSlider(value=5, description='len1', max=10), IntSlider(value=45, description='ang1', …"
      ]
     },
     "metadata": {},
     "output_type": "display_data"
    }
   ],
   "source": [
    "from utils import plot_end_effector_position\n",
    "\n",
    "plot_end_effector_position(calculate_end_effector_position)"
   ]
  }
 ],
 "metadata": {
  "kernelspec": {
   "display_name": "Python 3 (ipykernel)",
   "language": "python",
   "name": "python3"
  },
  "language_info": {
   "codemirror_mode": {
    "name": "ipython",
    "version": 3
   },
   "file_extension": ".py",
   "mimetype": "text/x-python",
   "name": "python",
   "nbconvert_exporter": "python",
   "pygments_lexer": "ipython3",
   "version": "3.11.6"
  }
 },
 "nbformat": 4,
 "nbformat_minor": 1
}
