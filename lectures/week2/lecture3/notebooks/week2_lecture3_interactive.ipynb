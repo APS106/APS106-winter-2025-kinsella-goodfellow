{
 "cells": [
  {
   "cell_type": "markdown",
   "metadata": {},
   "source": [
    "# APS106 - Fundamentals of Computer Programming\n",
    "## Design Project 1: Forward Kinematics\n",
    "\n",
    "Below are the functions we developed in class."
   ]
  },
  {
   "cell_type": "code",
   "execution_count": 1,
   "metadata": {},
   "outputs": [],
   "source": [
    "import math\n",
    "\n",
    "def x_finder(len1, ang1, len2, ang2):\n",
    "    \"\"\"\n",
    "    Calculate the x-coordinate of an arm of length len with angle ang in radians\n",
    "    \"\"\"\n",
    "    # converting angles to radians\n",
    "    ang1_rad = math.radians(ang1)\n",
    "    ang2_rad = math.radians(ang2)\n",
    "    \n",
    "    # use the provided equations to compute dx1 and dx2\n",
    "    dx1 = len1 * math.cos(ang1_rad)\n",
    "    dx2 = len2 * math.cos(ang1_rad + ang2_rad)\n",
    "    \n",
    "    # sum up dx1 and dx2 to get the total x\n",
    "    x = dx1 + dx2\n",
    "    \n",
    "    return dx1, dx2, x\n",
    "\n",
    "def y_finder(len1, ang1, len2, ang2):\n",
    "    \"\"\"\n",
    "    Calculate the y-coordinate of an arm of length len with angle ang in radians\n",
    "    \"\"\"\n",
    "    # converting angles to radians\n",
    "    ang1_rad = math.radians(ang1)\n",
    "    ang2_rad = math.radians(ang2)\n",
    "    \n",
    "    # use the provided equations to compute dy1 and dy2\n",
    "    dy1 = len1 * math.sin(ang1_rad)\n",
    "    dy2 = len2 * math.sin(ang1_rad + ang2_rad)\n",
    "    \n",
    "    # sum up dy1 and dy2 to get the total y\n",
    "    y = dy1 + dy2\n",
    "    \n",
    "    return dy1, dy2, y\n",
    "\n",
    "def calculate_end_effector_position(len1, ang1, len2, ang2):\n",
    "    \"\"\"\n",
    "    (number, number, number, number) -> (number, number)\n",
    "    Calculate the \n",
    "    \"\"\"\n",
    "    dx1, dx2, x = x_finder(len1, ang1, len2, ang2)\n",
    "    dy1, dy2, y = y_finder(len1, ang1, len2, ang2)\n",
    "    \n",
    "    return dx1, dy1, dx2, dy2, x, y"
   ]
  },
  {
   "cell_type": "markdown",
   "metadata": {},
   "source": [
    "Now we have to install two third party packages. These are not a part of APS106. We are using them for this visualization but you are not expected to know how to install them or what they do."
   ]
  },
  {
   "cell_type": "code",
   "execution_count": 2,
   "metadata": {},
   "outputs": [
    {
     "name": "stdout",
     "output_type": "stream",
     "text": [
      "\u001b[1;31merror\u001b[0m: \u001b[1mexternally-managed-environment\u001b[0m\r\n",
      "\r\n",
      "\u001b[31m×\u001b[0m This environment is externally managed\r\n",
      "\u001b[31m╰─>\u001b[0m To install Python packages system-wide, try brew install\r\n",
      "\u001b[31m   \u001b[0m xyz, where xyz is the package you are trying to\r\n",
      "\u001b[31m   \u001b[0m install.\r\n",
      "\u001b[31m   \u001b[0m \r\n",
      "\u001b[31m   \u001b[0m If you wish to install a Python library that isn't in Homebrew,\r\n",
      "\u001b[31m   \u001b[0m use a virtual environment:\r\n",
      "\u001b[31m   \u001b[0m \r\n",
      "\u001b[31m   \u001b[0m python3 -m venv path/to/venv\r\n",
      "\u001b[31m   \u001b[0m source path/to/venv/bin/activate\r\n",
      "\u001b[31m   \u001b[0m python3 -m pip install xyz\r\n",
      "\u001b[31m   \u001b[0m \r\n",
      "\u001b[31m   \u001b[0m If you wish to install a Python application that isn't in Homebrew,\r\n",
      "\u001b[31m   \u001b[0m it may be easiest to use 'pipx install xyz', which will manage a\r\n",
      "\u001b[31m   \u001b[0m virtual environment for you. You can install pipx with\r\n",
      "\u001b[31m   \u001b[0m \r\n",
      "\u001b[31m   \u001b[0m brew install pipx\r\n",
      "\u001b[31m   \u001b[0m \r\n",
      "\u001b[31m   \u001b[0m You may restore the old behavior of pip by passing\r\n",
      "\u001b[31m   \u001b[0m the '--break-system-packages' flag to pip, or by adding\r\n",
      "\u001b[31m   \u001b[0m 'break-system-packages = true' to your pip.conf file. The latter\r\n",
      "\u001b[31m   \u001b[0m will permanently disable this error.\r\n",
      "\u001b[31m   \u001b[0m \r\n",
      "\u001b[31m   \u001b[0m If you disable this error, we STRONGLY recommend that you additionally\r\n",
      "\u001b[31m   \u001b[0m pass the '--user' flag to pip, or set 'user = true' in your pip.conf\r\n",
      "\u001b[31m   \u001b[0m file. Failure to do this can result in a broken Homebrew installation.\r\n",
      "\u001b[31m   \u001b[0m \r\n",
      "\u001b[31m   \u001b[0m Read more about this behavior here: <https://peps.python.org/pep-0668/>\r\n",
      "\r\n",
      "\u001b[1;35mnote\u001b[0m: If you believe this is a mistake, please contact your Python installation or OS distribution provider. You can override this, at the risk of breaking your Python installation or OS, by passing --break-system-packages.\r\n",
      "\u001b[1;36mhint\u001b[0m: See PEP 668 for the detailed specification.\r\n"
     ]
    }
   ],
   "source": [
    "!pip install matplotlib"
   ]
  },
  {
   "cell_type": "code",
   "execution_count": 3,
   "metadata": {
    "scrolled": false
   },
   "outputs": [
    {
     "name": "stdout",
     "output_type": "stream",
     "text": [
      "\u001b[1;31merror\u001b[0m: \u001b[1mexternally-managed-environment\u001b[0m\r\n",
      "\r\n",
      "\u001b[31m×\u001b[0m This environment is externally managed\r\n",
      "\u001b[31m╰─>\u001b[0m To install Python packages system-wide, try brew install\r\n",
      "\u001b[31m   \u001b[0m xyz, where xyz is the package you are trying to\r\n",
      "\u001b[31m   \u001b[0m install.\r\n",
      "\u001b[31m   \u001b[0m \r\n",
      "\u001b[31m   \u001b[0m If you wish to install a Python library that isn't in Homebrew,\r\n",
      "\u001b[31m   \u001b[0m use a virtual environment:\r\n",
      "\u001b[31m   \u001b[0m \r\n",
      "\u001b[31m   \u001b[0m python3 -m venv path/to/venv\r\n",
      "\u001b[31m   \u001b[0m source path/to/venv/bin/activate\r\n",
      "\u001b[31m   \u001b[0m python3 -m pip install xyz\r\n",
      "\u001b[31m   \u001b[0m \r\n",
      "\u001b[31m   \u001b[0m If you wish to install a Python application that isn't in Homebrew,\r\n",
      "\u001b[31m   \u001b[0m it may be easiest to use 'pipx install xyz', which will manage a\r\n",
      "\u001b[31m   \u001b[0m virtual environment for you. You can install pipx with\r\n",
      "\u001b[31m   \u001b[0m \r\n",
      "\u001b[31m   \u001b[0m brew install pipx\r\n",
      "\u001b[31m   \u001b[0m \r\n",
      "\u001b[31m   \u001b[0m You may restore the old behavior of pip by passing\r\n",
      "\u001b[31m   \u001b[0m the '--break-system-packages' flag to pip, or by adding\r\n",
      "\u001b[31m   \u001b[0m 'break-system-packages = true' to your pip.conf file. The latter\r\n",
      "\u001b[31m   \u001b[0m will permanently disable this error.\r\n",
      "\u001b[31m   \u001b[0m \r\n",
      "\u001b[31m   \u001b[0m If you disable this error, we STRONGLY recommend that you additionally\r\n",
      "\u001b[31m   \u001b[0m pass the '--user' flag to pip, or set 'user = true' in your pip.conf\r\n",
      "\u001b[31m   \u001b[0m file. Failure to do this can result in a broken Homebrew installation.\r\n",
      "\u001b[31m   \u001b[0m \r\n",
      "\u001b[31m   \u001b[0m Read more about this behavior here: <https://peps.python.org/pep-0668/>\r\n",
      "\r\n",
      "\u001b[1;35mnote\u001b[0m: If you believe this is a mistake, please contact your Python installation or OS distribution provider. You can override this, at the risk of breaking your Python installation or OS, by passing --break-system-packages.\r\n",
      "\u001b[1;36mhint\u001b[0m: See PEP 668 for the detailed specification.\r\n"
     ]
    }
   ],
   "source": [
    "!pip install ipywidgets"
   ]
  },
  {
   "cell_type": "markdown",
   "metadata": {},
   "source": [
    "Now we can use your functions for a cool visualization. Have fun!"
   ]
  },
  {
   "cell_type": "code",
   "execution_count": 4,
   "metadata": {},
   "outputs": [
    {
     "data": {
      "application/vnd.jupyter.widget-view+json": {
       "model_id": "3593d87f60e649418eb3aa4adccb026f",
       "version_major": 2,
       "version_minor": 0
      },
      "text/plain": [
       "interactive(children=(IntSlider(value=5, description='len1', max=10), IntSlider(value=45, description='ang1', …"
      ]
     },
     "metadata": {},
     "output_type": "display_data"
    }
   ],
   "source": [
    "from utils import plot_end_effector_position\n",
    "\n",
    "plot_end_effector_position(calculate_end_effector_position)"
   ]
  },
  {
   "cell_type": "code",
   "execution_count": null,
   "metadata": {},
   "outputs": [],
   "source": []
  }
 ],
 "metadata": {
  "kernelspec": {
   "display_name": "Python 3 (ipykernel)",
   "language": "python",
   "name": "python3"
  },
  "language_info": {
   "codemirror_mode": {
    "name": "ipython",
    "version": 3
   },
   "file_extension": ".py",
   "mimetype": "text/x-python",
   "name": "python",
   "nbconvert_exporter": "python",
   "pygments_lexer": "ipython3",
   "version": "3.10.9"
  }
 },
 "nbformat": 4,
 "nbformat_minor": 1
}
