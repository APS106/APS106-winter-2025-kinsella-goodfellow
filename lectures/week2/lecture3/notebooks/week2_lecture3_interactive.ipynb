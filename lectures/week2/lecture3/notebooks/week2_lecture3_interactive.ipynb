{
 "cells": [
  {
   "cell_type": "markdown",
   "metadata": {},
   "source": [
    "# APS106 - Fundamentals of Computer Programming\n",
    "## Design Project 1: Forward Kinematics\n",
    "\n",
    "Below are the functions we developed in class."
   ]
  },
  {
   "cell_type": "code",
   "execution_count": 1,
   "metadata": {},
   "outputs": [],
   "source": [
    "import math\n",
    "\n",
    "def x_forward_kinematics(length, angle):\n",
    "    \"\"\"\n",
    "    (number, number) -> number\n",
    "    Calculate the x-coordinate of an arm of length len with angle ang in radians\n",
    "    \"\"\"\n",
    "    return length * math.cos(angle)\n",
    "\n",
    "def y_forward_kinematics(length, angle):\n",
    "    \"\"\"\n",
    "    (number, number) -> number\n",
    "    Calculate the y-coordinate of an arm of length len with angle ang in radians\n",
    "    \"\"\"\n",
    "    return length * math.sin(angle)\n",
    "\n",
    "def calculate_end_effector_position(len1, ang1, len2, ang2):\n",
    "    \"\"\"\n",
    "    (number, number, number, number) -> (number, number)\n",
    "    Calculate the \n",
    "    \"\"\"\n",
    "    # Convert angles\n",
    "    ang1 = math.radians(ang1) \n",
    "    ang2 = math.radians(ang2) \n",
    "    \n",
    "    # Calculate end of arm 1\n",
    "    dx1 = x_forward_kinematics(len1, ang1)\n",
    "    dy1 = y_forward_kinematics(len1, ang1)\n",
    "    \n",
    "    # Calculate end of arm 2 (independently of arm 1)\n",
    "    dx2 = x_forward_kinematics(len2, ang1 + ang2)\n",
    "    dy2 = y_forward_kinematics(len2, ang1 + ang2)\n",
    "    \n",
    "    # Sum the individual displacements\n",
    "    x = dx1 + dx2\n",
    "    y = dy1 + dy2\n",
    "    \n",
    "    return x, y"
   ]
  },
  {
   "cell_type": "markdown",
   "metadata": {},
   "source": [
    "Now we have to install two third party packages. These are not a part of APS106. We are using them for this visualization but you are not expected to know how to install them or what they do."
   ]
  },
  {
   "cell_type": "code",
   "execution_count": 2,
   "metadata": {},
   "outputs": [
    {
     "name": "stdout",
     "output_type": "stream",
     "text": [
      "Requirement already satisfied: matplotlib in c:\\users\\seb\\anaconda3\\envs\\aps106-winter-2022\\lib\\site-packages (3.4.3)\n",
      "Requirement already satisfied: numpy>=1.16 in c:\\users\\seb\\anaconda3\\envs\\aps106-winter-2022\\lib\\site-packages (from matplotlib) (1.21.2)\n",
      "Requirement already satisfied: pyparsing>=2.2.1 in c:\\users\\seb\\anaconda3\\envs\\aps106-winter-2022\\lib\\site-packages (from matplotlib) (2.4.7)\n",
      "Requirement already satisfied: cycler>=0.10 in c:\\users\\seb\\anaconda3\\envs\\aps106-winter-2022\\lib\\site-packages (from matplotlib) (0.10.0)\n",
      "Requirement already satisfied: pillow>=6.2.0 in c:\\users\\seb\\anaconda3\\envs\\aps106-winter-2022\\lib\\site-packages (from matplotlib) (8.4.0)\n",
      "Requirement already satisfied: python-dateutil>=2.7 in c:\\users\\seb\\anaconda3\\envs\\aps106-winter-2022\\lib\\site-packages (from matplotlib) (2.8.2)\n",
      "Requirement already satisfied: kiwisolver>=1.0.1 in c:\\users\\seb\\anaconda3\\envs\\aps106-winter-2022\\lib\\site-packages (from matplotlib) (1.3.1)\n",
      "Requirement already satisfied: six in c:\\users\\seb\\anaconda3\\envs\\aps106-winter-2022\\lib\\site-packages (from cycler>=0.10->matplotlib) (1.16.0)\n"
     ]
    }
   ],
   "source": [
    "!pip install matplotlib"
   ]
  },
  {
   "cell_type": "code",
   "execution_count": 3,
   "metadata": {
    "scrolled": false
   },
   "outputs": [
    {
     "name": "stdout",
     "output_type": "stream",
     "text": [
      "Requirement already satisfied: ipywidgets in c:\\users\\seb\\anaconda3\\envs\\aps106-winter-2022\\lib\\site-packages (7.6.4)\n",
      "Requirement already satisfied: nbformat>=4.2.0 in c:\\users\\seb\\anaconda3\\envs\\aps106-winter-2022\\lib\\site-packages (from ipywidgets) (5.1.3)\n",
      "Requirement already satisfied: jupyterlab-widgets>=1.0.0 in c:\\users\\seb\\anaconda3\\envs\\aps106-winter-2022\\lib\\site-packages (from ipywidgets) (1.0.0)\n",
      "Requirement already satisfied: traitlets>=4.3.1 in c:\\users\\seb\\anaconda3\\envs\\aps106-winter-2022\\lib\\site-packages (from ipywidgets) (5.1.0)\n",
      "Requirement already satisfied: ipython-genutils~=0.2.0 in c:\\users\\seb\\anaconda3\\envs\\aps106-winter-2022\\lib\\site-packages (from ipywidgets) (0.2.0)\n",
      "Requirement already satisfied: widgetsnbextension~=3.5.0 in c:\\users\\seb\\anaconda3\\envs\\aps106-winter-2022\\lib\\site-packages (from ipywidgets) (3.5.1)\n",
      "Requirement already satisfied: ipython>=4.0.0 in c:\\users\\seb\\anaconda3\\envs\\aps106-winter-2022\\lib\\site-packages (from ipywidgets) (7.27.0)\n",
      "Requirement already satisfied: ipykernel>=4.5.1 in c:\\users\\seb\\anaconda3\\envs\\aps106-winter-2022\\lib\\site-packages (from ipywidgets) (6.2.0)\n",
      "Requirement already satisfied: debugpy<2.0,>=1.0.0 in c:\\users\\seb\\anaconda3\\envs\\aps106-winter-2022\\lib\\site-packages (from ipykernel>=4.5.1->ipywidgets) (1.4.1)\n",
      "Requirement already satisfied: matplotlib-inline<0.2.0,>=0.1.0 in c:\\users\\seb\\anaconda3\\envs\\aps106-winter-2022\\lib\\site-packages (from ipykernel>=4.5.1->ipywidgets) (0.1.2)\n",
      "Requirement already satisfied: importlib-metadata<5 in c:\\users\\seb\\anaconda3\\envs\\aps106-winter-2022\\lib\\site-packages (from ipykernel>=4.5.1->ipywidgets) (4.8.1)\n",
      "Requirement already satisfied: tornado<7.0,>=4.2 in c:\\users\\seb\\anaconda3\\envs\\aps106-winter-2022\\lib\\site-packages (from ipykernel>=4.5.1->ipywidgets) (6.1)\n",
      "Requirement already satisfied: argcomplete>=1.12.3 in c:\\users\\seb\\anaconda3\\envs\\aps106-winter-2022\\lib\\site-packages (from ipykernel>=4.5.1->ipywidgets) (1.12.3)\n",
      "Requirement already satisfied: jupyter-client<8.0 in c:\\users\\seb\\anaconda3\\envs\\aps106-winter-2022\\lib\\site-packages (from ipykernel>=4.5.1->ipywidgets) (7.0.1)\n",
      "Requirement already satisfied: typing-extensions>=3.6.4 in c:\\users\\seb\\anaconda3\\envs\\aps106-winter-2022\\lib\\site-packages (from importlib-metadata<5->ipykernel>=4.5.1->ipywidgets) (3.10.0.2)\n",
      "Requirement already satisfied: zipp>=0.5 in c:\\users\\seb\\anaconda3\\envs\\aps106-winter-2022\\lib\\site-packages (from importlib-metadata<5->ipykernel>=4.5.1->ipywidgets) (3.5.0)\n",
      "Requirement already satisfied: setuptools>=18.5 in c:\\users\\seb\\anaconda3\\envs\\aps106-winter-2022\\lib\\site-packages (from ipython>=4.0.0->ipywidgets) (61.2.0)\n",
      "Requirement already satisfied: prompt-toolkit!=3.0.0,!=3.0.1,<3.1.0,>=2.0.0 in c:\\users\\seb\\anaconda3\\envs\\aps106-winter-2022\\lib\\site-packages (from ipython>=4.0.0->ipywidgets) (3.0.17)\n",
      "Requirement already satisfied: decorator in c:\\users\\seb\\anaconda3\\envs\\aps106-winter-2022\\lib\\site-packages (from ipython>=4.0.0->ipywidgets) (5.0.9)\n",
      "Requirement already satisfied: pickleshare in c:\\users\\seb\\anaconda3\\envs\\aps106-winter-2022\\lib\\site-packages (from ipython>=4.0.0->ipywidgets) (0.7.5)\n",
      "Requirement already satisfied: jedi>=0.16 in c:\\users\\seb\\anaconda3\\envs\\aps106-winter-2022\\lib\\site-packages (from ipython>=4.0.0->ipywidgets) (0.18.0)\n",
      "Requirement already satisfied: pygments in c:\\users\\seb\\anaconda3\\envs\\aps106-winter-2022\\lib\\site-packages (from ipython>=4.0.0->ipywidgets) (2.10.0)\n",
      "Requirement already satisfied: colorama in c:\\users\\seb\\anaconda3\\envs\\aps106-winter-2022\\lib\\site-packages (from ipython>=4.0.0->ipywidgets) (0.4.4)\n",
      "Requirement already satisfied: backcall in c:\\users\\seb\\anaconda3\\envs\\aps106-winter-2022\\lib\\site-packages (from ipython>=4.0.0->ipywidgets) (0.2.0)\n",
      "Requirement already satisfied: parso<0.9.0,>=0.8.0 in c:\\users\\seb\\anaconda3\\envs\\aps106-winter-2022\\lib\\site-packages (from jedi>=0.16->ipython>=4.0.0->ipywidgets) (0.8.2)\n",
      "Requirement already satisfied: jupyter-core>=4.6.0 in c:\\users\\seb\\anaconda3\\envs\\aps106-winter-2022\\lib\\site-packages (from jupyter-client<8.0->ipykernel>=4.5.1->ipywidgets) (4.7.1)\n",
      "Requirement already satisfied: nest-asyncio>=1.5 in c:\\users\\seb\\anaconda3\\envs\\aps106-winter-2022\\lib\\site-packages (from jupyter-client<8.0->ipykernel>=4.5.1->ipywidgets) (1.5.1)\n",
      "Requirement already satisfied: python-dateutil>=2.1 in c:\\users\\seb\\anaconda3\\envs\\aps106-winter-2022\\lib\\site-packages (from jupyter-client<8.0->ipykernel>=4.5.1->ipywidgets) (2.8.2)\n",
      "Requirement already satisfied: entrypoints in c:\\users\\seb\\anaconda3\\envs\\aps106-winter-2022\\lib\\site-packages (from jupyter-client<8.0->ipykernel>=4.5.1->ipywidgets) (0.3)\n",
      "Requirement already satisfied: pyzmq>=13 in c:\\users\\seb\\anaconda3\\envs\\aps106-winter-2022\\lib\\site-packages (from jupyter-client<8.0->ipykernel>=4.5.1->ipywidgets) (22.2.1)\n",
      "Requirement already satisfied: pywin32>=1.0 in c:\\users\\seb\\anaconda3\\envs\\aps106-winter-2022\\lib\\site-packages (from jupyter-core>=4.6.0->jupyter-client<8.0->ipykernel>=4.5.1->ipywidgets) (228)\n",
      "Requirement already satisfied: jsonschema!=2.5.0,>=2.4 in c:\\users\\seb\\anaconda3\\envs\\aps106-winter-2022\\lib\\site-packages (from nbformat>=4.2.0->ipywidgets) (3.2.0)\n",
      "Requirement already satisfied: pyrsistent>=0.14.0 in c:\\users\\seb\\anaconda3\\envs\\aps106-winter-2022\\lib\\site-packages (from jsonschema!=2.5.0,>=2.4->nbformat>=4.2.0->ipywidgets) (0.17.3)\n",
      "Requirement already satisfied: six>=1.11.0 in c:\\users\\seb\\anaconda3\\envs\\aps106-winter-2022\\lib\\site-packages (from jsonschema!=2.5.0,>=2.4->nbformat>=4.2.0->ipywidgets) (1.16.0)\n",
      "Requirement already satisfied: attrs>=17.4.0 in c:\\users\\seb\\anaconda3\\envs\\aps106-winter-2022\\lib\\site-packages (from jsonschema!=2.5.0,>=2.4->nbformat>=4.2.0->ipywidgets) (21.2.0)\n",
      "Requirement already satisfied: wcwidth in c:\\users\\seb\\anaconda3\\envs\\aps106-winter-2022\\lib\\site-packages (from prompt-toolkit!=3.0.0,!=3.0.1,<3.1.0,>=2.0.0->ipython>=4.0.0->ipywidgets) (0.2.5)\n",
      "Requirement already satisfied: notebook>=4.4.1 in c:\\users\\seb\\anaconda3\\envs\\aps106-winter-2022\\lib\\site-packages (from widgetsnbextension~=3.5.0->ipywidgets) (6.4.3)\n",
      "Requirement already satisfied: nbconvert in c:\\users\\seb\\anaconda3\\envs\\aps106-winter-2022\\lib\\site-packages (from notebook>=4.4.1->widgetsnbextension~=3.5.0->ipywidgets) (6.1.0)\n",
      "Requirement already satisfied: argon2-cffi in c:\\users\\seb\\anaconda3\\envs\\aps106-winter-2022\\lib\\site-packages (from notebook>=4.4.1->widgetsnbextension~=3.5.0->ipywidgets) (20.1.0)\n",
      "Requirement already satisfied: Send2Trash>=1.5.0 in c:\\users\\seb\\anaconda3\\envs\\aps106-winter-2022\\lib\\site-packages (from notebook>=4.4.1->widgetsnbextension~=3.5.0->ipywidgets) (1.8.0)\n",
      "Requirement already satisfied: jinja2 in c:\\users\\seb\\anaconda3\\envs\\aps106-winter-2022\\lib\\site-packages (from notebook>=4.4.1->widgetsnbextension~=3.5.0->ipywidgets) (3.0.1)\n",
      "Requirement already satisfied: terminado>=0.8.3 in c:\\users\\seb\\anaconda3\\envs\\aps106-winter-2022\\lib\\site-packages (from notebook>=4.4.1->widgetsnbextension~=3.5.0->ipywidgets) (0.9.4)\n",
      "Requirement already satisfied: prometheus-client in c:\\users\\seb\\anaconda3\\envs\\aps106-winter-2022\\lib\\site-packages (from notebook>=4.4.1->widgetsnbextension~=3.5.0->ipywidgets) (0.11.0)\n",
      "Requirement already satisfied: pywinpty>=0.5 in c:\\users\\seb\\anaconda3\\envs\\aps106-winter-2022\\lib\\site-packages (from terminado>=0.8.3->notebook>=4.4.1->widgetsnbextension~=3.5.0->ipywidgets) (0.5.7)\n",
      "Requirement already satisfied: cffi>=1.0.0 in c:\\users\\seb\\anaconda3\\envs\\aps106-winter-2022\\lib\\site-packages (from argon2-cffi->notebook>=4.4.1->widgetsnbextension~=3.5.0->ipywidgets) (1.14.6)\n",
      "Requirement already satisfied: pycparser in c:\\users\\seb\\anaconda3\\envs\\aps106-winter-2022\\lib\\site-packages (from cffi>=1.0.0->argon2-cffi->notebook>=4.4.1->widgetsnbextension~=3.5.0->ipywidgets) (2.20)\n",
      "Requirement already satisfied: MarkupSafe>=2.0 in c:\\users\\seb\\anaconda3\\envs\\aps106-winter-2022\\lib\\site-packages (from jinja2->notebook>=4.4.1->widgetsnbextension~=3.5.0->ipywidgets) (2.0.1)\n",
      "Requirement already satisfied: pandocfilters>=1.4.1 in c:\\users\\seb\\anaconda3\\envs\\aps106-winter-2022\\lib\\site-packages (from nbconvert->notebook>=4.4.1->widgetsnbextension~=3.5.0->ipywidgets) (1.4.3)\n",
      "Requirement already satisfied: mistune<2,>=0.8.1 in c:\\users\\seb\\anaconda3\\envs\\aps106-winter-2022\\lib\\site-packages (from nbconvert->notebook>=4.4.1->widgetsnbextension~=3.5.0->ipywidgets) (0.8.4)\n",
      "Requirement already satisfied: defusedxml in c:\\users\\seb\\anaconda3\\envs\\aps106-winter-2022\\lib\\site-packages (from nbconvert->notebook>=4.4.1->widgetsnbextension~=3.5.0->ipywidgets) (0.7.1)\n",
      "Requirement already satisfied: nbclient<0.6.0,>=0.5.0 in c:\\users\\seb\\anaconda3\\envs\\aps106-winter-2022\\lib\\site-packages (from nbconvert->notebook>=4.4.1->widgetsnbextension~=3.5.0->ipywidgets) (0.5.3)\n",
      "Requirement already satisfied: testpath in c:\\users\\seb\\anaconda3\\envs\\aps106-winter-2022\\lib\\site-packages (from nbconvert->notebook>=4.4.1->widgetsnbextension~=3.5.0->ipywidgets) (0.5.0)\n",
      "Requirement already satisfied: bleach in c:\\users\\seb\\anaconda3\\envs\\aps106-winter-2022\\lib\\site-packages (from nbconvert->notebook>=4.4.1->widgetsnbextension~=3.5.0->ipywidgets) (4.0.0)\n",
      "Requirement already satisfied: jupyterlab-pygments in c:\\users\\seb\\anaconda3\\envs\\aps106-winter-2022\\lib\\site-packages (from nbconvert->notebook>=4.4.1->widgetsnbextension~=3.5.0->ipywidgets) (0.1.2)\n",
      "Requirement already satisfied: async-generator in c:\\users\\seb\\anaconda3\\envs\\aps106-winter-2022\\lib\\site-packages (from nbclient<0.6.0,>=0.5.0->nbconvert->notebook>=4.4.1->widgetsnbextension~=3.5.0->ipywidgets) (1.10)\n",
      "Requirement already satisfied: packaging in c:\\users\\seb\\anaconda3\\envs\\aps106-winter-2022\\lib\\site-packages (from bleach->nbconvert->notebook>=4.4.1->widgetsnbextension~=3.5.0->ipywidgets) (21.0)\n",
      "Requirement already satisfied: webencodings in c:\\users\\seb\\anaconda3\\envs\\aps106-winter-2022\\lib\\site-packages (from bleach->nbconvert->notebook>=4.4.1->widgetsnbextension~=3.5.0->ipywidgets) (0.5.1)\n",
      "Requirement already satisfied: pyparsing>=2.0.2 in c:\\users\\seb\\anaconda3\\envs\\aps106-winter-2022\\lib\\site-packages (from packaging->bleach->nbconvert->notebook>=4.4.1->widgetsnbextension~=3.5.0->ipywidgets) (2.4.7)\n"
     ]
    }
   ],
   "source": [
    "!pip install ipywidgets"
   ]
  },
  {
   "cell_type": "markdown",
   "metadata": {},
   "source": [
    "Now we can use your functions for a cool visualization. Have fun!"
   ]
  },
  {
   "cell_type": "code",
   "execution_count": 4,
   "metadata": {},
   "outputs": [
    {
     "data": {
      "application/vnd.jupyter.widget-view+json": {
       "model_id": "6428df9ca3c64a04916bf1766eff41ec",
       "version_major": 2,
       "version_minor": 0
      },
      "text/plain": [
       "interactive(children=(IntSlider(value=5, description='len1', max=10), IntSlider(value=45, description='ang1', …"
      ]
     },
     "metadata": {},
     "output_type": "display_data"
    }
   ],
   "source": [
    "from utils import plot_end_effector_position\n",
    "\n",
    "def calculate_end_effector_position(len1, ang1, len2, ang2):\n",
    "    \"\"\"\n",
    "    (number, number, number, number) -> (number, number)\n",
    "    Calculate the \n",
    "    \"\"\"\n",
    "    # Convert angles\n",
    "    ang1 = math.radians(ang1) \n",
    "    ang2 = math.radians(ang2) \n",
    "    \n",
    "    # Calculate end of arm 1\n",
    "    dx1 = x_forward_kinematics(len1, ang1)\n",
    "    dy1 = y_forward_kinematics(len1, ang1)\n",
    "    \n",
    "    # Calculate end of arm 2 (independently of arm 1)\n",
    "    dx2 = x_forward_kinematics(len2, ang1 + ang2)\n",
    "    dy2 = y_forward_kinematics(len2, ang1 + ang2)\n",
    "    \n",
    "    # Sum the individual displacements\n",
    "    x = dx1 + dx2\n",
    "    y = dy1 + dy2\n",
    "    \n",
    "    return dx1, dy1, dx2, dy2, x, y\n",
    "\n",
    "plot_end_effector_position(calculate_end_effector_position)"
   ]
  }
 ],
 "metadata": {
  "kernelspec": {
   "display_name": "Python 3 (ipykernel)",
   "language": "python",
   "name": "python3"
  },
  "language_info": {
   "codemirror_mode": {
    "name": "ipython",
    "version": 3
   },
   "file_extension": ".py",
   "mimetype": "text/x-python",
   "name": "python",
   "nbconvert_exporter": "python",
   "pygments_lexer": "ipython3",
   "version": "3.7.11"
  }
 },
 "nbformat": 4,
 "nbformat_minor": 1
}
