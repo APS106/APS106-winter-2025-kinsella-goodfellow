{
 "cells": [
  {
   "cell_type": "markdown",
   "id": "7cf98b7f",
   "metadata": {
    "id": "7cf98b7f"
   },
   "source": [
    "# APS106 - Fundamentals of Computer Programming\n",
    "## Design Project 1: Forward Kinematics\n",
    "\n",
    "### Lecture Structure\n",
    "1. [I. An Engineering Design for Programming](#section1)\n",
    "    - [Breakout Session 1: Reminder](#section1-1)\n",
    "2. [II. Design Project 1: Forward Kinematics](#section2)\n",
    "    - [1. Define the Problem](#section2a)\n",
    "    - [2. Define Test Cases](#section2b)\n",
    "    - [3. Generate Creative Solutions](#section2c)\n",
    "    - [4. Select a Solution](#section2d)\n",
    "    - [5. Implement the Solution](#section2e)\n",
    "      - [Programming Step 1: Get input and store it in variables](#section3a)\n",
    "      - [Programming Step 2 – Implement calculation of $\\Delta x_1$ and $\\Delta y_1$ from the inputs and test](#section3b)\n",
    "        - [Breakout Session 2: A Function for computing X](#section1-2)\n",
    "      - [Programming Step 3 – Calculate $\\Delta x_2$ and $\\Delta y_2$ and add up everything to get $x$ and $y$](#section3c)\n",
    "      - [Combining Functions $x-finder$ and $y-finder$ to Compute $x$ and $y$ Simultaneously](#section3d)\n",
    "    - [6. Final Testing – Programming Step 5](#section2f)\n",
    "      - [Breakout Session 3: Your Own Test Case](#section1-3)\n"
   ]
  },
  {
   "cell_type": "markdown",
   "id": "ac9bbf29",
   "metadata": {
    "id": "ac9bbf29"
   },
   "source": [
    "<a id='section1'></a>\n",
    "## I. An Engineering Design for Programming\n",
    "\n",
    "A key part of engineering is the design of objects, processes, and systems. From an engineering perspective, programming is the design, implementation, testing, and documentation of a piece of software that solves a particular problem. The software might be part of a larger system (e.g., the avionics software of an aircraft, the accounting or human resources software of a business), but it represents the solution to a design problem (or part of a design problem). We will therefore approach programing as an engineering design process.\n",
    "\n",
    "### **An Engineering Design Process (for programming):**\n",
    "\n",
    "#### **1. Define the Problem**\n",
    "\n",
    "Develop a clear and detailed problem statement. Be clear on what needs to be done. Sometimes the problem will be easy enough (especially as you are learning programming) that the initial problem statement given by the client/prof is sufficient. More often, the problem is complex enough that forming a complete, explicit definition is a challenge itself and sometimes (even, often) the client doesn’t really understand the problem him/herself. In such cases, research and iteration with the client is necessary.\n",
    "<br>\n",
    "<img src=\"images/1define_problem.png\" alt=\"drawing\" width=\"200\"/>\n",
    "<br>\n",
    "\n",
    "#### **2. Define Test Cases**\n",
    "\n",
    "Work out specific test cases for which you know the answer. This will help in the solidifying the problem definition and provide you with tests once you have working code. Try to cover a reasonable span of possible cases that may come up. Think about strange cases that might break the code. Think about reasonable measures of efficiency, speed, and memory size.\n",
    "<br>\n",
    "<img src=\"images/2test_cases.png\" alt=\"drawing\" width=\"200\"/>\n",
    "<br>\n",
    "\n",
    "#### **3. Generate Many Creative Solutions**\n",
    "\n",
    "Think about solutions and write them down. Try to be as creative as possible.\n",
    "\n",
    "A “solution” at this stage is two things:\n",
    "\n",
    "1. **An Algorithm Plan**: a list of a few (from 4 or 5 to a dozen) steps that your algorithm will execute to solve the problem. These are high-level steps that can correspond to many lines of code. In real projects, these steps will themselves be subject to the design process (i.e. they will in turn be broken down into sub-steps perhaps may layers deep).\n",
    "\n",
    "2. **A Programming Plan**: a list of steps you will take in programming the algorithm. Sometimes this will be the form of programming, testing, and debugging each of the algorithm steps in order. But it doesn’t have to be that way. Especially for larger systems, the algorithm steps may be designed and implemented by different people in parallel or you may choose to program, test, and debug the hardest step first to make sure you understand the problem enough. Or you may decide to do the easiest steps first.\n",
    "\n",
    "<div class=\"alert alert-block alert-danger\">\n",
    "<big><b>The point is that you program not by trying to write all the code at once and then hoping it all works. Rather, you divide it up into a number of steps and make sure each step is implemented and works as you proceed.</b></big>\n",
    "</div>\n",
    "<br>\n",
    "<img src=\"images/3creative_solutions.png\" alt=\"drawing\" width=\"200\"/>\n",
    "<br>\n",
    "\n",
    "#### **4. Select a Solution**\n",
    "\n",
    "Evaluate the algorithm and programming plans you have generated. Does it appear that this solution will truly solve the problem? You may write some prototype code to understand if particular design ideas will work. Pick the best solution. If it is good enough, continue to Step 5, otherwise return to an earlier step (maybe even Step 1 as you have uncovered new parts of the problem definition).\n",
    "<br>\n",
    "<img src=\"images/4select_solution.png\" alt=\"drawing\" width=\"200\"/>\n",
    "<br>\n",
    "\n",
    "#### **5. Implement the Solution**\n",
    "\n",
    "Follow your chosen programming plan to implement the code. For each step in your programming plan, you should ensure that the code is working: it runs some “sub-tests” correctly. Even though it doesn’t solve the whole problem, it should produce intermediate results that you can verify are correct. If it doesn’t, you should debug it before moving onto the next step. Implementation includes the documentation in the code: functions should have well-written docstrings and comments should be used – it is better to over-comment than under-comment.\n",
    "<br>\n",
    "<img src=\"images/5Implement.png\" alt=\"drawing\" width=\"200\"/>\n",
    "<br>\n",
    "\n",
    "#### **6. Perform Final Testing**\n",
    "\n",
    "Evaluate the solution against the test metrics, ensuring everything is in order. If the solution is not satisfactory, you need to either return to Step 5 to debug the code or return to Step 1 to develop a better understanding of the problem.\n",
    "<br>\n",
    "<img src=\"images/6final_testing.png\" alt=\"drawing\" width=\"200\"/>\n",
    "<br>\n",
    "\n",
    "### **Final Remark: Design is Iterative**\n",
    "\n",
    "The above seems very proper and linear. Real programming isn't. Real programming is a but chaotic because you are creating something that doesn't yet exist and figuring out how to solve the problem as you go. Having some structure will help you not get lost.\n",
    "\n",
    "One of the most essential parts of all engineering design processes is iteration. Programming is no different. In fact, iteration may be even more important in programming because it is relatively inexpensive to write prototype code (compared to, say, building a prototype engine). This means that steps in the process are repeated over and over, in a loop. You might realize that you need to jump back to an earlier step because you missed a key requirement or because you mistakenly thought that you understood how to program a particular step. Each iteration brings with it an increased level of understanding of the problem that deepens your knowledge. Iteration may allow you to conceive solutions that were not initially apparent."
   ]
  },
  {
   "cell_type": "markdown",
   "id": "e4f98833",
   "metadata": {},
   "source": [
    "<a id='section1-1'></a>\n",
    "### Breakout Session 1: Reminder\n",
    "\n",
    "Write a Python function named `sina_transformer` that calculates the following mathematical expression:\n",
    "\n",
    "\\begin{align}\n",
    "x = \\frac{\\sin(y \\cdot z) + \\cos(y + z)}{1 + \\tan(|y|^\\pi)}\n",
    "\\end{align}\n",
    "\n",
    "This function takes two inputs (`y` and `z`), and it returns `x`, which is computed based on the formula provided above.\n",
    "\n",
    "Test your function with the following inputs:\n",
    "- $y$ = 45\n",
    "- $z$ = 60\n",
    "\n",
    "**Hint**:\n",
    "* Use `math.sin()`, `math.cos()`, `math.tan()`, and `math.pi` from the `math` module."
   ]
  },
  {
   "cell_type": "code",
   "execution_count": 1,
   "id": "a6d4fb9a",
   "metadata": {},
   "outputs": [
    {
     "data": {
      "text/plain": [
       "-0.0041180182564356325"
      ]
     },
     "execution_count": 1,
     "metadata": {},
     "output_type": "execute_result"
    }
   ],
   "source": [
    "# write your code here\n",
    "import math\n",
    "\n",
    "def sina_transformer(y, z):\n",
    "    x = (math.sin(y*z)+ math.cos(y+z)) / (1 + math.tan(abs(y)**math.pi))\n",
    "    return x\n",
    "\n",
    "# Let's test it out:\n",
    "sina_transformer(45, 60) # Expected answer: -0.0041180182564356325"
   ]
  },
  {
   "cell_type": "markdown",
   "id": "33a53465",
   "metadata": {},
   "source": [
    "🤔 Did you notice something?\n",
    "\n",
    "The `math.sin()` and `math.cos()` functions in Python expect the input angles to be in radians, not degrees. This means that if you directly pass an angle in degrees (like 90), the result will not be what you expect unless the input is first converted to radians using the `math.radians()` function."
   ]
  },
  {
   "cell_type": "code",
   "execution_count": 2,
   "id": "20a99272",
   "metadata": {},
   "outputs": [
    {
     "name": "stdout",
     "output_type": "stream",
     "text": [
      "sine of 90 radians is:  0.8939966636005579\n"
     ]
    }
   ],
   "source": [
    "import math\n",
    "\n",
    "print(\"sine of 90 radians is: \", math.sin(90))"
   ]
  },
  {
   "cell_type": "code",
   "execution_count": 3,
   "id": "7e8274b0",
   "metadata": {},
   "outputs": [
    {
     "name": "stdout",
     "output_type": "stream",
     "text": [
      "sine of pi/2 radians is:  1.0\n"
     ]
    }
   ],
   "source": [
    "print(\"sine of pi/2 radians is: \", math.sin(math.pi/2))"
   ]
  },
  {
   "cell_type": "code",
   "execution_count": 4,
   "id": "051911b8",
   "metadata": {},
   "outputs": [
    {
     "name": "stdout",
     "output_type": "stream",
     "text": [
      "sine of 90 degrees is:  1.0\n"
     ]
    }
   ],
   "source": [
    "print(\"sine of 90 degrees is: \", math.sin(math.radians(90)))\n",
    "\n",
    "math.d"
   ]
  },
  {
   "cell_type": "markdown",
   "id": "c91e5a19",
   "metadata": {
    "id": "c91e5a19"
   },
   "source": [
    "<a id='section2'></a>\n",
    "## II. Design Project #1: Forward Kinematics\n",
    "### Problem Background\n",
    "\n",
    "If you have a robotic arm (e.g., the Canadarm) with joints, it is important to be able to calculate where the end of the arm (i.e., the part usually used for picking something up) will be based on the characteristics of the arm (e.g., the length of the components) and the angles of its joints.\n",
    "\n",
    "Forward kinematics is the use of the kinematic equations of a robot to compute the position of the end of the arm (end-effector) from specified values for the joint parameters. Forward kinematics is used heavily in robotics, computer games, and animation.\n",
    "\n",
    "\n",
    "<br>\n",
    "<img src=\"images/Arm.png\" alt=\"drawing\" width=\"400\"/>\n",
    "<br>\n",
    "<br>\n",
    "<img src=\"images/ArmMath.png\" alt=\"drawing\" width=\"400\"/>\n",
    "<br>\n",
    "<a id='section2a'></a>\n",
    "\n",
    "### 1. Define the Problem\n",
    "Given a robotic arm with two degrees of freedom (see above diagram), determine the position (x,y) of the effector given the component-arm lengths and joint angles.\n",
    "\n",
    "We need to find the `x` and `y` coordinates of the end of the arm. Those coordinates will obviously depend on the location of the base of the arm. And so a relevant question to the client is if we can define our own coordinate system or if there is a larger system that this arm is part of. Let’s assume that we can define our own coordinate system.\n",
    "\n",
    "Something to think about: how expensive will it be if this assumption is wrong? Will we have to throw away all our work and start again? Or is there likely to be an easy way to take a solution with a fixed coordinate system and reuse it in an externally specified coordinate system?\n",
    "\n",
    "<a id='section2b'></a>\n",
    "### 2. Define Test Cases\n",
    "#### Test Case 1\n",
    "`len1 = 1, len2 = 1, ang1 = 60, ang2 = 30`\n",
    "<br>\n",
    "<img src=\"images/test1.png\" alt=\"drawing\" width=\"200\"/>\n",
    "<br>\n",
    "End effector position `x = 0.5, y = 1.87`\n",
    "\n",
    "#### Test Case 2\n",
    "`len1 = 1, len2 = 1, ang1 = 60, ang2 = -30`\n",
    "<br>\n",
    "<img src=\"images/test2.png\" alt=\"drawing\" width=\"200\"/>\n",
    "<br>\n",
    "End effector position `x = 1.37, y = 1.37`\n",
    "\n",
    "#### Test Case 3\n",
    "$\\text{len1} = \\sqrt{8^2 + 4^2} = 8.95 ; \\text{len2} = \\sqrt{2^2 + 4^2} = 4.47 ; \\text{ang1} = {26.6}; \\text{ang2} = {-90}$\n",
    "<br>\n",
    "<img src=\"images/test3.png\" alt=\"drawing\" width=\"400\"/>\n",
    "<br>\n",
    "End effector position `x = 10, y = 0`\n",
    "\n",
    "Where do these test cases come from? Either the client gives them to you or you have to figure out from first principles (or research) how to calculate the answers by hand."
   ]
  },
  {
   "cell_type": "code",
   "execution_count": null,
   "id": "3369ef94",
   "metadata": {},
   "outputs": [],
   "source": [
    "#What tools are in my toolbox that I can use\n",
    "'''\n",
    "input function\n",
    "functions with return statement\n",
    "math module (sin cos, etc.)\n",
    "type casting function (convert string to int/float)\n",
    "print function\n",
    "\n",
    "'''"
   ]
  },
  {
   "cell_type": "markdown",
   "id": "9796b89d",
   "metadata": {
    "id": "9796b89d"
   },
   "source": [
    "<a id='section2c'></a>\n",
    "### 3. Generate Creative Solutions\n",
    "<br>\n",
    "<img src=\"images/xyfinder.png\" alt=\"drawing\" width=\"500\"/>\n",
    "<br>\n",
    "\n",
    "Based on simple physics and math, we can obtain the ($\\Delta x_1$, $\\Delta y_1$) position of the end of the first component arm.\n",
    "\n",
    "\\begin{align}\n",
    "\\Delta x_1 & = L_1\\cos(\\theta_1) \\\\\n",
    "\\Delta y_1 & = L_1\\sin(\\theta_1)\n",
    "\\end{align}\n",
    "\n",
    "Then we can obtain the ($\\Delta x_2$, $\\Delta y_2$) position for arm 2.\n",
    "\n",
    "\\begin{align}\n",
    "\\Delta x_2 & = L_2\\cos(\\theta_2 + \\theta_1) \\\\\n",
    "\\Delta y_2 & = L_2\\sin(\\theta_2 + \\theta_1)\n",
    "\\end{align}\n",
    "\n",
    "Finally we can find the (x,y) position by adding up the components.\n",
    "\n",
    "\\begin{align}\n",
    "x & = \\Delta x_1+ \\Delta x_2 \\\\\n",
    "y & = \\Delta y_1+ \\Delta y_2\n",
    "\\end{align}\n",
    "\n",
    "These steps nicely form an Algorithm Plan\n",
    "\n",
    "1. Get arm lengths and angles from the user.\n",
    "1. Calculate (x,y) position of the end of arm 1.\n",
    "1. Calculate the (x,y) position of the end of arm 2.\n",
    "1. Add up the components.\n",
    "\n",
    "Another solution may arise from the observation that the x and y dimensions can be solved independently. Does this observation fundamentally change the solution?\n",
    "\n",
    "How about a Programming Plan? How should we go about implementing the above?\n",
    "\n",
    "1. Get the input and store them in variables.\n",
    "1. Implement calculation of $\\Delta x_1$ and $\\Delta y_1$ from the inputs and test.\n",
    "1. Implement calculation $\\Delta x_2$ and $\\Delta y_2$ from the inputs and test.\n",
    "1. Calculate x and y from the deltas."
   ]
  },
  {
   "cell_type": "code",
   "execution_count": null,
   "id": "5193242b",
   "metadata": {},
   "outputs": [],
   "source": [
    "# Algorithm Plan:\n",
    "\n",
    "# Inputs: ...\n",
    "\n",
    "# Outputs: ...\n",
    "\n",
    "# Define some functions:\n",
    "# 1. \n",
    "# 2. \n",
    "# 3. "
   ]
  },
  {
   "cell_type": "markdown",
   "id": "61c852e7",
   "metadata": {
    "id": "61c852e7"
   },
   "source": [
    "<a id='section2d'></a>\n",
    "### 4. Select a Solution\n",
    "As the single solution looks straight-forward (since the problem is pretty easy), we can select it and proceed."
   ]
  },
  {
   "cell_type": "markdown",
   "id": "VXbFz8jLeEdI",
   "metadata": {
    "id": "VXbFz8jLeEdI",
    "pycharm": {
     "name": "#%% md\n"
    }
   },
   "source": [
    "\n",
    "<a id='section2e'></a>\n",
    "### 5. Implement the Solution\n",
    "<a id='section3a'></a>\n",
    "### Programming Step 1: Get input and store it in variables"
   ]
  },
  {
   "cell_type": "code",
   "execution_count": 7,
   "id": "HJGAILbweEdI",
   "metadata": {
    "id": "HJGAILbweEdI",
    "pycharm": {
     "name": "#%%\n"
    }
   },
   "outputs": [
    {
     "name": "stdout",
     "output_type": "stream",
     "text": [
      "Enter length of the first arm: 1\n",
      "Enter angle of the first arm: 2\n",
      "Enter length of the second arm: 2\n",
      "Enter angle of the second arm: 3\n",
      "1.0 2.0 2.0 3.0\n"
     ]
    }
   ],
   "source": [
    "len1 = float(input(\"Enter length of the first arm: \"))\n",
    "ang1 = float(input(\"Enter angle of the first arm: \"))\n",
    "len2 = float(input(\"Enter length of the second arm: \"))\n",
    "ang2 = float(input(\"Enter angle of the second arm: \"))\n",
    "\n",
    "print(len1, ang1, len2, ang2)"
   ]
  },
  {
   "cell_type": "markdown",
   "id": "FGIuTngmeEdI",
   "metadata": {
    "id": "FGIuTngmeEdI",
    "pycharm": {
     "name": "#%% md\n"
    }
   },
   "source": [
    "#### <a id='section3b'></a>\n",
    "### Programming Step 2 – Implement calculation of $\\Delta x_1$ and $\\Delta y_1$ from the inputs and test\n",
    "\n",
    "\\begin{align}\n",
    "\\Delta x_1 & = L_1\\cos(\\theta_1) \\\\\n",
    "\\Delta y_1 & = L_1\\sin(\\theta_1)\n",
    "\\end{align}"
   ]
  },
  {
   "cell_type": "code",
   "execution_count": 9,
   "id": "kNLA7CNueEdI",
   "metadata": {
    "id": "kNLA7CNueEdI",
    "pycharm": {
     "name": "#%%\n"
    }
   },
   "outputs": [],
   "source": [
    "dx1 = len1*math.cos(ang1)\n",
    "dy1 = len1*math.sin(ang1)"
   ]
  },
  {
   "cell_type": "markdown",
   "id": "oFPxvGRBeEdI",
   "metadata": {
    "id": "oFPxvGRBeEdI",
    "pycharm": {
     "name": "#%% md\n"
    }
   },
   "source": [
    "Hmm ..."
   ]
  },
  {
   "cell_type": "code",
   "execution_count": null,
   "id": "tbTF6PwBeEdI",
   "metadata": {
    "id": "tbTF6PwBeEdI",
    "pycharm": {
     "name": "#%%\n"
    }
   },
   "outputs": [],
   "source": [
    "import...\n",
    "\n",
    "len1 = input(\"Enter length of the first arm: \")\n",
    "ang1 = input(\"Enter angle of the first arm: \")\n",
    "len2 = input(\"Enter length of the second arm: \")\n",
    "ang2 = input(\"Enter angle of the second arm: \")\n",
    "\n",
    "print(len1, ang1, len2, ang2)\n",
    "\n",
    "dx1 = ...\n",
    "dy1 = ..."
   ]
  },
  {
   "cell_type": "markdown",
   "id": "zV_Z_NqEeEdJ",
   "metadata": {
    "id": "zV_Z_NqEeEdJ",
    "pycharm": {
     "name": "#%% md\n"
    }
   },
   "source": [
    "😡 We still have a problem. What is going on?\n",
    "\n",
    "Can someone tell me what the problem is?"
   ]
  },
  {
   "cell_type": "code",
   "execution_count": 11,
   "id": "iJiP7vLUeEdJ",
   "metadata": {
    "id": "iJiP7vLUeEdJ",
    "pycharm": {
     "name": "#%%\n"
    }
   },
   "outputs": [
    {
     "name": "stdout",
     "output_type": "stream",
     "text": [
      "Enter length of the first arm: 1\n",
      "Enter angle of the first arm: 30\n",
      "Enter length of the second arm: 2\n",
      "Enter angle of the second arm: 60\n",
      "1.0 30.0 2.0 60.0\n",
      "0.15425144988758405 -0.9880316240928618\n"
     ]
    }
   ],
   "source": [
    "import math\n",
    "\n",
    "len1 = float(input(\"Enter length of the first arm: \"))\n",
    "ang1 = float(input(\"Enter angle of the first arm: \"))\n",
    "len2 = float(input(\"Enter length of the second arm: \"))\n",
    "ang2 = float(input(\"Enter angle of the second arm: \"))\n",
    "\n",
    "print(len1, ang1, len2, ang2)\n",
    "\n",
    "dx1 = len1*math.cos(ang1)\n",
    "dy1 = len1*math.sin(ang1)\n",
    "\n",
    "print(dx1, dy1)"
   ]
  },
  {
   "cell_type": "markdown",
   "id": "qe9BQAqueEdJ",
   "metadata": {
    "id": "qe9BQAqueEdJ",
    "pycharm": {
     "name": "#%% md\n"
    }
   },
   "source": [
    "OK, we got answers out. Are they correct? This is supposed to be the x and y coordinates of the end of arm 1. Can they be negative? Are the answers right?"
   ]
  },
  {
   "cell_type": "markdown",
   "id": "7xPpZ4gUeEdJ",
   "metadata": {
    "id": "7xPpZ4gUeEdJ",
    "pycharm": {
     "name": "#%% md\n"
    }
   },
   "source": [
    "<div class=\"alert alert-block alert-info\">\n",
    "<big><b>That was kind of frustrating.</b></big>\n",
    "\n",
    "The bad news is that this is kind of what programming is like. You get better - you probably won't make all these mistakes by the end of the course - but you will be spending most of your time trying to figure out what is wrong. That is why it is really important to test small pieces of code. Otherwise, you will be stuck with no idea where to even start.\n",
    "</div>"
   ]
  },
  {
   "cell_type": "markdown",
   "id": "7bc9be91",
   "metadata": {},
   "source": [
    "<a id='section1-2'></a>\n",
    "### Breakout Session 2: A Function for computing X\n",
    "\n",
    "<br>\n",
    "<img src=\"images/x_finder.png\" alt=\"drawing\" width=\"400\"/>\n",
    "<br>\n",
    "\n",
    "Write a function named `x_finder` that accepts `l1`, `l2`, `ang1`, and `ang2` as inputs and uses the following expressions to calculate the horizontal componenet of the end of the second arm.\n",
    "\n",
    "\\begin{align}\n",
    "\\Delta x_1 & = L_1\\cos(ang_1) \\\\\n",
    "\\Delta x_2 & = L_2\\cos(ang_2 + ang_1) \\\\\n",
    "x & = \\Delta x_1+ \\Delta x_2\n",
    "\\end{align}\n",
    "\n",
    "**Hint**:\n",
    "* Use `math.sin()`, `math.cos()`, `math.radians()` from the `math` module."
   ]
  },
  {
   "cell_type": "code",
   "execution_count": 13,
   "id": "8bf2bd70",
   "metadata": {},
   "outputs": [
    {
     "data": {
      "text/plain": [
       "0.5000000000000002"
      ]
     },
     "execution_count": 13,
     "metadata": {},
     "output_type": "execute_result"
    }
   ],
   "source": [
    "# write your code here\n",
    "import math\n",
    "\n",
    "def x_finder(l1, ang1, l2, ang2):\n",
    "    \n",
    "    # convert angles to radians\n",
    "    ang1_rad = math.radians(ang1)\n",
    "    ang2_rad = math.radians(ang2)\n",
    "    \n",
    "    # use the provided equations to compute dx1 and dx2\n",
    "    dx1 = l1*math.cos(ang1_rad)\n",
    "    dx2 = l2*math.cos(ang1_rad + ang2_rad)\n",
    "    \n",
    "    # sum up dx1 and dx2 to get the total x\n",
    "    x = dx1 + dx2\n",
    "    \n",
    "    return x\n",
    "\n",
    "# Test it out with: \n",
    "x_finder(1, 60, 1, 30)\n",
    "# You should get something around 0.5 for the x"
   ]
  },
  {
   "cell_type": "markdown",
   "id": "5PII34dLeEdJ",
   "metadata": {
    "id": "5PII34dLeEdJ",
    "pycharm": {
     "name": "#%% md\n"
    }
   },
   "source": [
    "\n",
    "<a id='section3c'></a>\n",
    "### Programming Step 3 – Okay, we have developed the `x_finder`. Let's create `y_finder` as well.\n",
    "\n",
    "Notice how the calculations for dx1, dx2, dy1, and dy2 look awfully similar! So, we should pay extra attention to avoid any potential typos!\n",
    "<br>\n",
    "<img src=\"images/xyfinder.png\" alt=\"drawing\" width=\"500\"/>\n",
    "<br>"
   ]
  },
  {
   "cell_type": "code",
   "execution_count": null,
   "id": "34b30dc7",
   "metadata": {},
   "outputs": [],
   "source": [
    "# SPOILER ALERT!\n",
    "# The completed x_finder function should look like this:\n",
    "import math\n",
    "\n",
    "def x_finder(l1, ang1, l2, ang2):\n",
    "    \"\"\"\n",
    "    A function that accepts l1, l2, ang1, and ang2 as inputs and \n",
    "    calculates the horizontal componenet of the end of the second arm.\n",
    "    \"\"\"\n",
    "    # converting angles to radians\n",
    "    ang1_rad = math.radians(ang1)\n",
    "    ang2_rad = math.radians(ang2)\n",
    "    \n",
    "    # use the provided equations to compute dx1 and dx2\n",
    "    dx1 = l1 * math.cos(ang1_rad)\n",
    "    dx2 = l2 * math.cos(ang1_rad + ang2_rad)\n",
    "    \n",
    "    # sum up dx1 and dx2 to get the total x\n",
    "    x = dx1 + dx2\n",
    "    \n",
    "    return x\n",
    "\n",
    "# Test it out with: \n",
    "x_finder(1, 60, 1, 30)\n",
    "# You should get something around 0.5 for the x"
   ]
  },
  {
   "cell_type": "markdown",
   "id": "4d13ee87",
   "metadata": {},
   "source": [
    "Now let's develop another function for finding `y` (the vertical componenet of the end of the second arm.) \n",
    "\n",
    "We should use the expressions below:\n",
    "\n",
    "\\begin{align}\n",
    "\\Delta y_1 & = L_1\\sin(\\theta_1) \\\\\n",
    "\\Delta y_2 & = L_2\\sin(\\theta_2 + \\theta_1) \\\\\n",
    "y & = \\Delta y_1+ \\Delta y_2\n",
    "\\end{align}"
   ]
  },
  {
   "cell_type": "code",
   "execution_count": null,
   "id": "b824b03a",
   "metadata": {},
   "outputs": [],
   "source": [
    "# live coding!\n"
   ]
  },
  {
   "cell_type": "code",
   "execution_count": 14,
   "id": "a9d49db5",
   "metadata": {},
   "outputs": [
    {
     "data": {
      "text/plain": [
       "1.8660254037844386"
      ]
     },
     "execution_count": 14,
     "metadata": {},
     "output_type": "execute_result"
    }
   ],
   "source": [
    "# The completed y_finder function should look like this:\n",
    "import math\n",
    "\n",
    "def y_finder(l1, ang1, l2, ang2):\n",
    "    \"\"\"\n",
    "    A function that accepts l1, l2, ang1, and ang2 as inputs and \n",
    "    calculates the vertical componenet of the end of the second arm.\n",
    "    \"\"\"\n",
    "    # converting angles to radians\n",
    "    ang1_rad = math.radians(ang1)\n",
    "    ang2_rad = math.radians(ang2)\n",
    "    \n",
    "    # use the provided equations to compute dy1 and dy2\n",
    "    dy1 = l1 * math.sin(ang1_rad)\n",
    "    dy2 = l2 * math.sin(ang1_rad + ang2_rad)\n",
    "    \n",
    "    # sum up dy1 and dy2 to get the total y\n",
    "    y = dy1 + dy2\n",
    "    \n",
    "    return y\n",
    "\n",
    "# Test it out with: \n",
    "y_finder(1, 60, 1, 30)\n",
    "# You should get something around 1.87 for the y"
   ]
  },
  {
   "cell_type": "markdown",
   "id": "7a6da2e6",
   "metadata": {},
   "source": [
    "<a id='section3d'></a>\n",
    "### Programming Step 4 – Combining Functions `x_finder` and `y_finder` to Compute `x` and `y` Simultaneously\n",
    "\n",
    "Now that we have both `x_finder` and `y_finder` functions, we can combine them into a single step to compute both `x` and `y` simultaneously based on the four given inputs. This will streamline the process and provide the results in a more convenient format."
   ]
  },
  {
   "cell_type": "code",
   "execution_count": 15,
   "id": "1fbab198",
   "metadata": {
    "id": "1fbab198",
    "outputId": "cc44ceca-e00e-422c-dae2-86920c94d672"
   },
   "outputs": [],
   "source": [
    "import math\n",
    "\n",
    "def calculate_end_effector_position(len1, ang1, len2, ang2):\n",
    "    \"\"\"\n",
    "    A function for calculating the x and y coordinates of the end of arm 2.\n",
    "    This function uses the x_finder and y_finder functions defined previously.\n",
    "    \"\"\"\n",
    "    x = x_finder(len1, ang1, len2, ang2)\n",
    "    y = y_finder(len1, ang1, len2, ang2)\n",
    "    \n",
    "    return x, y"
   ]
  },
  {
   "cell_type": "markdown",
   "id": "AUVDmtyJeEdK",
   "metadata": {
    "id": "AUVDmtyJeEdK",
    "pycharm": {
     "name": "#%% md\n"
    }
   },
   "source": [
    "<a id='section2f'></a>\n",
    "### 6. Final Testing\n",
    "\n",
    "<a id='section3e'></a>\n",
    "### Programming Step 5 – Run tests\n",
    "Run all of our tests to make sure the function is working.\n",
    "\n",
    "#### Test Case 1\n",
    "`len1 = 1, len2 = 1, ang1 = 60, ang2 = 30`\n",
    "<br>\n",
    "<img src=\"images/Test1.png\" alt=\"drawing\" width=\"200\"/>\n",
    "<br>\n",
    "End effector position `x = 0.5, y = 1.87`"
   ]
  },
  {
   "cell_type": "code",
   "execution_count": 16,
   "id": "9A5vO_YdeEdK",
   "metadata": {
    "id": "9A5vO_YdeEdK",
    "pycharm": {
     "name": "#%%\n"
    },
    "scrolled": true
   },
   "outputs": [
    {
     "name": "stdout",
     "output_type": "stream",
     "text": [
      "Length of arm 1:1\n",
      "Angle of arm 1:60\n",
      "Length of arm 2:1\n",
      "Angle of arm 2:30\n"
     ]
    },
    {
     "data": {
      "text/plain": [
       "(0.5000000000000002, 1.8660254037844386)"
      ]
     },
     "execution_count": 16,
     "metadata": {},
     "output_type": "execute_result"
    }
   ],
   "source": [
    "len1 = float(input(\"Length of arm 1:\")) # use 1\n",
    "ang1 = float(input(\"Angle of arm 1:\"))  # use 60 degrees\n",
    "len2 = float(input(\"Length of arm 2:\")) # use 1\n",
    "ang2 = float(input(\"Angle of arm 2:\"))  # use 30 degrees\n",
    "calculate_end_effector_position(len1, ang1, len2, ang2)"
   ]
  },
  {
   "cell_type": "markdown",
   "id": "RLMySiGTeEdK",
   "metadata": {
    "id": "RLMySiGTeEdK",
    "pycharm": {
     "name": "#%% md\n"
    }
   },
   "source": [
    "#### Test Case 2\n",
    "`len1 = 1, len2 = 1, ang1 = 60, ang2 = -30`\n",
    "<br>\n",
    "<img src=\"images/Test2.png\" alt=\"drawing\" width=\"200\"/>\n",
    "<br>\n",
    "End effector position `x = 1.37, y = 1.37`"
   ]
  },
  {
   "cell_type": "code",
   "execution_count": 17,
   "id": "f83b7a1b",
   "metadata": {},
   "outputs": [
    {
     "name": "stdout",
     "output_type": "stream",
     "text": [
      "Length of arm 1:1\n",
      "Angle of arm 1:60\n",
      "Length of arm 2:1\n",
      "Angle of arm 2:-30\n"
     ]
    },
    {
     "data": {
      "text/plain": [
       "(1.3660254037844388, 1.3660254037844386)"
      ]
     },
     "execution_count": 17,
     "metadata": {},
     "output_type": "execute_result"
    }
   ],
   "source": [
    "len1 = float(input(\"Length of arm 1:\")) # use 1\n",
    "ang1 = float(input(\"Angle of arm 1:\"))  # use 60 degrees\n",
    "len2 = float(input(\"Length of arm 2:\")) # use 1\n",
    "ang2 = float(input(\"Angle of arm 2:\"))  # use -30 degrees\n",
    "calculate_end_effector_position(len1, ang1, len2, ang2)"
   ]
  },
  {
   "cell_type": "markdown",
   "id": "c739fa2e",
   "metadata": {
    "id": "RLMySiGTeEdK",
    "pycharm": {
     "name": "#%% md\n"
    }
   },
   "source": [
    "#### Test Case 3\n",
    "$\\text{len1} = \\sqrt{8^2 + 4^2} = 8.95 ; \\text{len2} = \\sqrt{2^2 + 4^2} = 4.47 ; \\text{ang1} = {26.6}; \\text{ang2} = {-90}$\n",
    "<br>\n",
    "<img src=\"images/test3.png\" alt=\"drawing\" width=\"400\"/>\n",
    "<br>\n",
    "End effector position `x = 10, y = 0`"
   ]
  },
  {
   "cell_type": "code",
   "execution_count": 18,
   "id": "KDjtlM2NeEdK",
   "metadata": {
    "id": "KDjtlM2NeEdK",
    "pycharm": {
     "name": "#%%\n"
    }
   },
   "outputs": [
    {
     "name": "stdout",
     "output_type": "stream",
     "text": [
      "Length of arm 1:8.95\n",
      "Angle of arm 1:26.6\n",
      "Length of arm 2:4.47\n",
      "Angle of arm 2:-90\n"
     ]
    },
    {
     "data": {
      "text/plain": [
       "(10.004163542351645, 0.010574397485012987)"
      ]
     },
     "execution_count": 18,
     "metadata": {},
     "output_type": "execute_result"
    }
   ],
   "source": [
    "len1 = float(input(\"Length of arm 1:\")) # use 8.95\n",
    "ang1 = float(input(\"Angle of arm 1:\"))  # use 26.6 degrees\n",
    "len2 = float(input(\"Length of arm 2:\")) # use 4.47\n",
    "ang2 = float(input(\"Angle of arm 2:\"))  # use -90 degrees\n",
    "calculate_end_effector_position(len1, ang1, len2, ang2)"
   ]
  },
  {
   "cell_type": "markdown",
   "id": "10c53527",
   "metadata": {},
   "source": [
    "<a id='section1-3'></a>\n",
    "### Breakout Session 3: Your Own Test Case\n",
    "\n",
    "Create your custom test case using any `len1`, `len2`, `ang1`, and `ang2` that you like and doublecheck if the function is correct.\n",
    "\n",
    "<br>\n",
    "<img src=\"images/test4.png\" alt=\"drawing\" width=\"800\"/>\n",
    "<br>"
   ]
  },
  {
   "cell_type": "code",
   "execution_count": null,
   "id": "eece4b59",
   "metadata": {},
   "outputs": [],
   "source": [
    "# write your code here\n",
    "len1 = ...\n",
    "ang1 = ...\n",
    "len2 = ...\n",
    "ang2 = ...\n",
    "calculate_end_effector_position(len1, ang1, len2, ang2)"
   ]
  }
 ],
 "metadata": {
  "colab": {
   "provenance": []
  },
  "kernelspec": {
   "display_name": "Python 3 (ipykernel)",
   "language": "python",
   "name": "python3"
  },
  "language_info": {
   "codemirror_mode": {
    "name": "ipython",
    "version": 3
   },
   "file_extension": ".py",
   "mimetype": "text/x-python",
   "name": "python",
   "nbconvert_exporter": "python",
   "pygments_lexer": "ipython3",
   "version": "3.10.9"
  }
 },
 "nbformat": 4,
 "nbformat_minor": 5
}
