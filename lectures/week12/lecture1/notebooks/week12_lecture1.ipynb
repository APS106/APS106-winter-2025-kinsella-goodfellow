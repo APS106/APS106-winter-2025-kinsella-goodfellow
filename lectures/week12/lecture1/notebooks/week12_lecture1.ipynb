{
 "cells": [
  {
   "cell_type": "markdown",
   "metadata": {
    "collapsed": true,
    "jupyter": {
     "outputs_hidden": true
    }
   },
   "source": [
    "# APS106 - Fundamentals of Computer Programming\n",
    "## Week 12 | Lecture 1 (12.1) - Data Analytics With Pandas\n",
    "\n",
    "### Lecture Structure\n",
    "1. [csv Module](#section1)\n",
    "2. [DataFrames](#section2)\n",
    "3. [Breakout Session 1](#section3)\n",
    "4. [Series](#section4)\n",
    "5. [Data Extraction](#section5)\n",
    "6. [Breakout Session 2](#section6)\n",
    "7. [Looping](#section7)\n",
    "8. [Saving DataFrames](#section8)"
   ]
  },
  {
   "cell_type": "markdown",
   "metadata": {},
   "source": [
    "<a id='section1'></a>\n",
    "## 1. csv Module\n",
    "Let's first import the `csv` module, that comes pre-installed with Python."
   ]
  },
  {
   "cell_type": "code",
   "execution_count": 2,
   "metadata": {},
   "outputs": [],
   "source": [
    "import csv"
   ]
  },
  {
   "cell_type": "markdown",
   "metadata": {},
   "source": [
    "We will now import a `csv` file which contains the results from past presidential elections in the United States. This file is in the same folder as this notebook and is named `elections.csv`."
   ]
  },
  {
   "cell_type": "code",
   "execution_count": 4,
   "metadata": {},
   "outputs": [
    {
     "name": "stdout",
     "output_type": "stream",
     "text": [
      "['Year', 'Candidate', 'Party', 'Popular vote', 'Result', '%']\n",
      "['1824', 'Andrew Jackson', 'Democratic-Republican', '151271', 'loss', '57.21012204']\n",
      "['1824', 'John Quincy Adams', 'Democratic-Republican', '113142', 'win', '42.78987796']\n",
      "['1828', 'Andrew Jackson', 'Democratic', '642806', 'win', '56.20392707']\n",
      "['1828', 'John Quincy Adams', 'National Republican', '500897', 'loss', '43.79607293']\n",
      "['1832', 'Andrew Jackson', 'Democratic', '702735', 'win', '54.57478905']\n",
      "['1832', 'Henry Clay', 'National Republican', '484205', 'loss', '37.6036283']\n",
      "['1832', 'William Wirt', 'Anti-Masonic', '100715', 'loss', '7.821582644']\n",
      "['1836', 'Hugh Lawson White', 'Whig', '146109', 'loss', '10.00598542']\n",
      "['1836', 'Martin Van Buren', 'Democratic', '763291', 'win', '52.27247202']\n",
      "['1836', 'William Henry Harrison', 'Whig', '550816', 'loss', '37.72154257']\n",
      "['1840', 'Martin Van Buren', 'Democratic', '1128854', 'loss', '46.94878676']\n",
      "['1840', 'William Henry Harrison', 'Whig', '1275583', 'win', '53.05121324']\n",
      "['1844', 'Henry Clay', 'Whig', '1300004', 'loss', '49.250523']\n",
      "['1844', 'James Polk', 'Democratic', '1339570', 'win', '50.749477']\n",
      "['1848', 'Lewis Cass', 'Democratic', '1223460', 'loss', '42.55222948']\n",
      "['1848', 'Martin Van Buren', 'Free Soil', '291501', 'loss', '10.13847404']\n",
      "['1848', 'Zachary Taylor', 'Whig', '1360235', 'win', '47.30929648']\n",
      "['1852', 'Franklin Pierce', 'Democratic', '1605943', 'win', '51.01316828']\n",
      "['1852', 'John P. Hale', 'Free Soil', '155210', 'loss', '4.930283235']\n",
      "['1852', 'Winfield Scott', 'Whig', '1386942', 'loss', '44.05654848']\n",
      "['1856', 'James Buchanan', 'Democratic', '1835140', 'win', '45.30608033']\n",
      "['1856', 'John C. FrÃ©mont', 'Republican', '1342345', 'loss', '33.1399187']\n",
      "['1856', 'Millard Fillmore', 'American', '873053', 'loss', '21.55400097']\n",
      "['1860', 'Abraham Lincoln', 'Republican', '1855993', 'win', '39.69940846']\n",
      "['1860', 'John Bell', 'Constitutional Union', '590901', 'loss', '12.63928267']\n",
      "['1860', 'John C. Breckinridge', 'Southern Democratic', '848019', 'loss', '18.13899765']\n",
      "['1860', 'Stephen A. Douglas', 'Northern Democratic', '1380202', 'loss', '29.52231122']\n",
      "['1864', 'Abraham Lincoln', 'National Union', '2211317', 'win', '54.95151243']\n",
      "['1864', 'George B. McClellan', 'Democratic', '1812807', 'loss', '45.04848757']\n",
      "['1868', 'Horatio Seymour', 'Democratic', '2708744', 'loss', '47.33469473']\n",
      "['1868', 'Ulysses Grant', 'Republican', '3013790', 'win', '52.66530527']\n",
      "['1872', 'Horace Greeley', 'Liberal Republican', '2834761', 'loss', '44.07140636']\n",
      "['1872', 'Ulysses Grant', 'Republican', '3597439', 'win', '55.92859364']\n",
      "['1876', 'Rutherford Hayes', 'Republican', '4034142', 'win', '48.47162359']\n",
      "['1876', 'Samuel J. Tilden', 'Democratic', '4288546', 'loss', '51.52837641']\n",
      "['1880', 'James B. Weaver', 'Greenback', '308649', 'loss', '3.352343585']\n",
      "['1880', 'James Garfield', 'Republican', '4453337', 'win', '48.36923406']\n",
      "['1880', 'Winfield Scott Hancock', 'Democratic', '4444976', 'loss', '48.27842235']\n",
      "['1884', 'Benjamin Butler', 'Anti-Monopoly', '134294', 'loss', '1.335838283']\n",
      "['1884', 'Grover Cleveland', 'Democratic', '4914482', 'win', '48.88493303']\n",
      "['1884', 'James G. Blaine', 'Republican', '4856905', 'loss', '48.31220781']\n",
      "['1884', 'John St. John', 'Prohibition', '147482', 'loss', '1.467020877']\n",
      "['1888', 'Alson Streeter', 'Union Labor', '146602', 'loss', '1.288860686']\n",
      "['1888', 'Benjamin Harrison', 'Republican', '5443633', 'win', '47.85804123']\n",
      "['1888', 'Clinton B. Fisk', 'Prohibition', '249819', 'loss', '2.19629942']\n",
      "['1888', 'Grover Cleveland', 'Democratic', '5534488', 'loss', '48.65679866']\n",
      "['1892', 'Benjamin Harrison', 'Republican', '5176108', 'loss', '42.98410062']\n",
      "['1892', 'Grover Cleveland', 'Democratic', '5553898', 'win', '46.12139284']\n",
      "['1892', 'James B. Weaver', 'Populist', '1041028', 'loss', '8.645038376']\n",
      "['1892', 'John Bidwell', 'Prohibition', '270879', 'loss', '2.24946817']\n",
      "['1896', 'John M. Palmer', 'National Democratic', '134645', 'loss', '0.969565599']\n",
      "['1896', 'Joshua Levering', 'Prohibition', '131312', 'loss', '0.945564989']\n",
      "['1896', 'William Jennings Bryan', 'Democratic', '6509052', 'loss', '46.87105278']\n",
      "['1896', 'William McKinley', 'Republican', '7112138', 'win', '51.21381663']\n",
      "['1900', 'John G. Woolley', 'Prohibition', '210864', 'loss', '1.526820586']\n",
      "['1900', 'William Jennings Bryan', 'Democratic', '6370932', 'loss', '46.13053974']\n",
      "['1900', 'William McKinley', 'Republican', '7228864', 'win', '52.34263967']\n",
      "['1904', 'Alton B. Parker', 'Democratic', '5083880', 'loss', '37.68511564']\n",
      "['1904', 'Eugene V. Debs', 'Socialist', '402810', 'loss', '2.98589688']\n",
      "['1904', 'Silas C. Swallow', 'Prohibition', '259102', 'loss', '1.920637157']\n",
      "['1904', 'Theodore Roosevelt', 'Republican', '7630557', 'win', '56.56278726']\n",
      "['1904', 'Thomas E. Watson', 'Populist', '114070', 'loss', '0.845563062']\n",
      "['1908', 'Eugene V. Debs', 'Socialist', '420852', 'loss', '2.85086565']\n",
      "['1908', 'Eugene W. Chafin', 'Prohibition', '254087', 'loss', '1.721193913']\n",
      "['1908', 'William Jennings Bryan', 'Democratic', '6408979', 'loss', '43.41464003']\n",
      "['1908', 'William Taft', 'Republican', '7678335', 'win', '52.01330041']\n",
      "['1912', 'Eugene V. Debs', 'Socialist', '901551', 'loss', '6.004354059']\n",
      "['1912', 'Eugene W. Chafin', 'Prohibition', '208156', 'loss', '1.386324593']\n",
      "['1912', 'Theodore Roosevelt', 'Progressive', '4122721', 'loss', '27.45743344']\n",
      "['1912', 'William Taft', 'Republican', '3486242', 'loss', '23.21846607']\n",
      "['1912', 'Woodrow Wilson', 'Democratic', '6296284', 'win', '41.93342184']\n",
      "['1916', 'Allan L. Benson', 'Socialist', '590524', 'loss', '3.194193328']\n",
      "['1916', 'Charles Evans Hughes', 'Republican', '8548728', 'loss', '46.24077927']\n",
      "['1916', 'Frank Hanly', 'Prohibition', '221302', 'loss', '1.197040885']\n",
      "['1916', 'Woodrow Wilson', 'Democratic', '9126868', 'win', '49.36798652']\n",
      "['1920', 'Aaron S. Watkins', 'Prohibition', '188787', 'loss', '0.708350618']\n",
      "['1920', 'Eugene V. Debs', 'Socialist', '913693', 'loss', '3.428281615']\n",
      "['1920', 'James M. Cox', 'Democratic', '9139661', 'loss', '34.29306318']\n",
      "['1920', 'Parley P. Christensen', 'Farmerâ€“Labor', '265398', 'loss', '0.995803934']\n",
      "['1920', 'Warren Harding', 'Republican', '16144093', 'win', '60.57450065']\n",
      "['1924', 'Calvin Coolidge', 'Republican', '15723789', 'win', '54.329113']\n",
      "['1924', 'John W. Davis', 'Democratic', '8386242', 'loss', '28.97629123']\n",
      "['1924', 'Robert La Follette', 'Progressive', '4831706', 'loss', '16.69459577']\n",
      "['1928', 'Al Smith', 'Democratic', '15015464', 'loss', '40.90285321']\n",
      "['1928', 'Herbert Hoover', 'Republican', '21427123', 'win', '58.36852373']\n",
      "['1928', 'Norman Thomas', 'Socialist', '267478', 'loss', '0.728623063']\n",
      "['1932', 'Franklin Roosevelt', 'Democratic', '22821277', 'win', '57.67212542']\n",
      "['1932', 'Herbert Hoover', 'Republican', '15761254', 'loss', '39.83059395']\n",
      "['1932', 'Norman Thomas', 'Socialist', '884885', 'loss', '2.236211353']\n",
      "['1932', 'William Z. Foster', 'Communist', '103307', 'loss', '0.261069276']\n",
      "['1936', 'Alf Landon', 'Republican', '16679543', 'loss', '36.64828497']\n",
      "['1936', 'Franklin Roosevelt', 'Democratic', '27752648', 'win', '60.97810669']\n",
      "['1936', 'Norman Thomas', 'Socialist', '187910', 'loss', '0.412875774']\n",
      "['1936', 'William Lemke', 'Union', '892378', 'loss', '1.960732572']\n",
      "['1940', 'Franklin Roosevelt', 'Democratic', '27313945', 'win', '54.87120208']\n",
      "['1940', 'Norman Thomas', 'Socialist', '116599', 'loss', '0.234236662']\n",
      "['1940', 'Wendell Willkie', 'Republican', '22347744', 'loss', '44.89456126']\n",
      "['1944', 'Franklin Roosevelt', 'Democratic', '25612916', 'win', '53.77380141']\n",
      "['1944', 'Thomas E. Dewey', 'Republican', '22017929', 'loss', '46.22619859']\n",
      "['1948', 'Claude A. Watson', 'Prohibition', '103708', 'loss', '0.212746692']\n",
      "['1948', 'Harry Truman', 'Democratic', '24179347', 'win', '49.60153588']\n",
      "['1948', 'Henry A. Wallace', 'Progressive', '1157328', 'loss', '2.374143781']\n",
      "['1948', 'Norman Thomas', 'Socialist', '139569', 'loss', '0.286311982']\n",
      "['1948', 'Strom Thurmond', 'Dixiecrat', '1175930', 'loss', '2.412303942']\n",
      "['1948', 'Thomas E. Dewey', 'Republican', '21991292', 'loss', '45.11295773']\n",
      "['1952', 'Adlai Stevenson', 'Democratic', '27375090', 'loss', '44.44631159']\n",
      "['1952', 'Dwight Eisenhower', 'Republican', '34075529', 'win', '55.32517261']\n",
      "['1952', 'Vincent Hallinan', 'Progressive', '140746', 'loss', '0.228515799']\n",
      "['1956', 'Adlai Stevenson', 'Democratic', '26028028', 'loss', '42.17446362']\n",
      "['1956', 'Dwight Eisenhower', 'Republican', '35579180', 'win', '57.65065384']\n",
      "['1956', 'T. Coleman Andrews', \"States' Rights\", '107929', 'loss', '0.174882541']\n",
      "['1960', 'John Kennedy', 'Democratic', '34220984', 'win', '50.08256141']\n",
      "['1960', 'Richard Nixon', 'Republican', '34108157', 'loss', '49.91743859']\n",
      "['1964', 'Barry Goldwater', 'Republican', '27175754', 'loss', '38.65529671']\n",
      "['1964', 'Lyndon Johnson', 'Democratic', '43127041', 'win', '61.34470329']\n",
      "['1968', 'George Wallace', 'American Independent', '9901118', 'loss', '13.57121768']\n",
      "['1968', 'Hubert Humphrey', 'Democratic', '31271839', 'loss', '42.86353667']\n",
      "['1968', 'Richard Nixon', 'Republican', '31783783', 'win', '43.56524565']\n",
      "['1972', 'George McGovern', 'Democratic', '29173222', 'loss', '37.67067048']\n",
      "['1972', 'John G. Schmitz', 'American Independent', '1100868', 'loss', '1.421524015']\n",
      "['1972', 'Richard Nixon', 'Republican', '47168710', 'win', '60.9078055']\n",
      "['1976', 'Eugene McCarthy', 'Independent', '740460', 'loss', '0.911648689']\n",
      "['1976', 'Gerald Ford', 'Republican', '39148634', 'loss', '48.19949876']\n",
      "['1976', 'Jimmy Carter', 'Democratic', '40831881', 'win', '50.2718996']\n",
      "['1976', 'Lester Maddox', 'American Independent', '170274', 'loss', '0.209640047']\n",
      "['1976', 'Roger MacBride', 'Libertarian', '172557', 'loss', '0.212450859']\n",
      "['1976', 'Thomas J. Anderson', 'American', '158271', 'loss', '0.194862045']\n",
      "['1980', 'Barry Commoner', 'Citizens', '233052', 'loss', '0.270182115']\n",
      "['1980', 'Ed Clark', 'Libertarian', '921128', 'loss', '1.067883181']\n",
      "['1980', 'Jimmy Carter', 'Democratic', '35480115', 'loss', '41.13284806']\n",
      "['1980', 'John B. Anderson', 'Independent', '5719850', 'loss', '6.631143134']\n",
      "['1980', 'Ronald Reagan', 'Republican', '43903230', 'win', '50.89794351']\n",
      "['1984', 'David Bergland', 'Libertarian', '228111', 'loss', '0.247245489']\n",
      "['1984', 'Ronald Reagan', 'Republican', '54455472', 'win', '59.02332553']\n",
      "['1984', 'Walter Mondale', 'Democratic', '37577352', 'loss', '40.72942898']\n",
      "['1988', 'George H. W. Bush', 'Republican', '48886597', 'win', '53.5188446']\n",
      "['1988', 'Lenora Fulani', 'New Alliance', '217221', 'loss', '0.237803767']\n",
      "['1988', 'Michael Dukakis', 'Democratic', '41809074', 'loss', '45.77069118']\n",
      "['1988', 'Ron Paul', 'Libertarian', '431750', 'loss', '0.472660454']\n",
      "['1992', 'Andre Marrou', 'Libertarian', '290087', 'loss', '0.278516275']\n",
      "['1992', 'Bill Clinton', 'Democratic', '44909806', 'win', '43.11848477']\n",
      "['1992', 'Bo Gritz', 'Populist', '106152', 'loss', '0.101917906']\n",
      "['1992', 'George H. W. Bush', 'Republican', '39104550', 'loss', '37.54478351']\n",
      "['1992', 'Ross Perot', 'Independent', '19743821', 'loss', '18.95629754']\n",
      "['1996', 'Bill Clinton', 'Democratic', '47400125', 'win', '49.29693808']\n",
      "['1996', 'Bob Dole', 'Republican', '39197469', 'loss', '40.766036']\n",
      "['1996', 'Harry Browne', 'Libertarian', '485759', 'loss', '0.505197641']\n",
      "['1996', 'Howard Phillips', 'Taxpayers', '184656', 'loss', '0.192045388']\n",
      "['1996', 'John Hagelin', 'Natural Law', '113670', 'loss', '0.118218738']\n",
      "['1996', 'Ralph Nader', 'Green', '685297', 'loss', '0.712720563']\n",
      "['1996', 'Ross Perot', 'Reform', '8085294', 'loss', '8.408843598']\n",
      "['2000', 'Al Gore', 'Democratic', '50999897', 'loss', '48.49181314']\n",
      "['2000', 'George W. Bush', 'Republican', '50456002', 'win', '47.97466592']\n",
      "['2000', 'Harry Browne', 'Libertarian', '384431', 'loss', '0.36552537']\n",
      "['2000', 'Pat Buchanan', 'Reform', '448895', 'loss', '0.426819146']\n",
      "['2000', 'Ralph Nader', 'Green', '2882955', 'loss', '2.741176421']\n",
      "['2004', 'David Cobb', 'Green', '119859', 'loss', '0.098088334']\n",
      "['2004', 'George W. Bush', 'Republican', '62040610', 'win', '50.77182439']\n",
      "['2004', 'John Kerry', 'Democratic', '59028444', 'loss', '48.30677508']\n",
      "['2004', 'Michael Badnarik', 'Libertarian', '397265', 'loss', '0.325107519']\n",
      "['2004', 'Michael Peroutka', 'Constitution', '143630', 'loss', '0.117541674']\n",
      "['2004', 'Ralph Nader', 'Independent', '465151', 'loss', '0.380663003']\n",
      "['2008', 'Barack Obama', 'Democratic', '69498516', 'win', '53.02350971']\n",
      "['2008', 'Bob Barr', 'Libertarian', '523715', 'loss', '0.399565473']\n",
      "['2008', 'Chuck Baldwin', 'Constitution', '199750', 'loss', '0.152398162']\n",
      "['2008', 'Cynthia McKinney', 'Green', '161797', 'loss', '0.123442129']\n",
      "['2008', 'John McCain', 'Republican', '59948323', 'loss', '45.7372426']\n",
      "['2008', 'Ralph Nader', 'Independent', '739034', 'loss', '0.563841917']\n",
      "['2012', 'Barack Obama', 'Democratic', '65915795', 'win', '51.25848423']\n",
      "['2012', 'Gary Johnson', 'Libertarian', '1275971', 'loss', '0.992240773']\n",
      "['2012', 'Jill Stein', 'Green', '469627', 'loss', '0.365198784']\n",
      "['2012', 'Mitt Romney', 'Republican', '60933504', 'loss', '47.38407621']\n",
      "['2016', 'Darrell Castle', 'Constitution', '203091', 'loss', '0.149639515']\n",
      "['2016', 'Donald Trump', 'Republican', '62984828', 'win', '46.40786214']\n",
      "['2016', 'Evan McMullin', 'Independent', '732273', 'loss', '0.539546197']\n",
      "['2016', 'Gary Johnson', 'Libertarian', '4489235', 'loss', '3.307714026']\n",
      "['2016', 'Hillary Clinton', 'Democratic', '65853514', 'loss', '48.52153918']\n",
      "['2016', 'Jill Stein', 'Green', '1457226', 'loss', '1.073698944']\n",
      "['2020', 'Joseph Biden', 'Democratic', '81268924', 'win', '51.3115152']\n",
      "['2020', 'Donald Trump', 'Republican', '74216154', 'loss', '46.8585423']\n",
      "['2020', 'Jo Jorgensen', 'Libertarian', '1865724', 'loss', '1.1779795']\n",
      "['2020', 'Howard Hawkins', 'Green', '405035', 'loss', '0.25573071']\n"
     ]
    }
   ],
   "source": [
    "# Open the file\n",
    "file = open('elections.csv', 'r')\n",
    "\n",
    "# Create a csv reader object\n",
    "csv_reader = csv.reader(file)\n",
    "\n",
    "# Loop through the rows and print our the contents of each row\n",
    "for row in csv_reader:\n",
    "    print(row)\n",
    "    \n",
    "# Close file\n",
    "file.close()"
   ]
  },
  {
   "cell_type": "markdown",
   "metadata": {},
   "source": [
    "So, let's say that we're asked to print the name of the candidate with the lowest popular vote percentage (%) in the year 1996 election. The following code is how we could do this using the pure Python and the `csv` module."
   ]
  },
  {
   "cell_type": "code",
   "execution_count": 5,
   "metadata": {},
   "outputs": [
    {
     "name": "stdout",
     "output_type": "stream",
     "text": [
      "Candidate John Hagelin had the lowest popular vote in 1996, which was 0.118218738 %.\n"
     ]
    }
   ],
   "source": [
    "file = open('elections.csv', 'r')\n",
    "csv_reader = csv.reader(file)\n",
    "\n",
    "row_count = 0\n",
    "name = None\n",
    "popular_vote = 100\n",
    "\n",
    "for row in csv_reader:\n",
    "    \n",
    "    # Skip first row (column names)\n",
    "    if row_count > 0:\n",
    "        \n",
    "        # row[0] is the column \"Year\"\n",
    "        if row[0] == '1996':    \n",
    "            \n",
    "            # row[5] is the column \"%\"\n",
    "            if float(row[5]) < popular_vote:\n",
    "                popular_vote = float(row[5])\n",
    "                \n",
    "                # row[1] is the column \"Candidate\"\n",
    "                name = row[1]\n",
    "   \n",
    "    row_count += 1\n",
    "    \n",
    "print('Candidate', name, 'had the lowest popular vote in 1996, which was', popular_vote, '%.')\n",
    "    \n",
    "file.close()"
   ]
  },
  {
   "cell_type": "markdown",
   "metadata": {},
   "source": [
    "The `csv` module allowed us to get the desired output but the code has some limitations. For starts, it's a lot of code for a fairly simple query. Additionally, we are accessing the columns by an index, which makes the code challenging to interpret and potentially prone to error. Lastly, all the data is imported as strings, which means we must convert to a numeric data type for certain columns.\n",
    "\n",
    "In this lecture, we will introduce the `Pandas` library, which is the standard in academia and industry for working with tabular data in Python. \n",
    "\n",
    "If you're using Anaconda, this package will likely be installed in your `(base)` environment but if not, you can run this code in a notebook cell to install.\n",
    "\n",
    "```python\n",
    "\n",
    "!pip install pandas\n",
    "```"
   ]
  },
  {
   "cell_type": "markdown",
   "metadata": {},
   "source": [
    "First, let's import `Pandas` and give it the name `pd`."
   ]
  },
  {
   "cell_type": "code",
   "execution_count": null,
   "metadata": {},
   "outputs": [],
   "source": [
    "import pandas as pd"
   ]
  },
  {
   "cell_type": "markdown",
   "metadata": {},
   "source": [
    "Now, let's try to write some code to accomplish the above task.\n",
    "\n",
    "Let's first load the `csv` file and print the first 5 rows."
   ]
  },
  {
   "cell_type": "code",
   "execution_count": null,
   "metadata": {},
   "outputs": [],
   "source": [
    "elections = pd.read_csv('elections.csv')\n",
    "elections.head()"
   ]
  },
  {
   "cell_type": "markdown",
   "metadata": {},
   "source": [
    "For starters, this is a much nicer view for getting a quick snap shot of our dataset.\n",
    "\n",
    "But what data type is `elections`?"
   ]
  },
  {
   "cell_type": "code",
   "execution_count": null,
   "metadata": {},
   "outputs": [],
   "source": [
    "print(type(elections))"
   ]
  },
  {
   "cell_type": "markdown",
   "metadata": {},
   "source": [
    "Hmmmm.... what is a `DataFrame`? More on this later.\n",
    "\n",
    "Now, let's try to find the 1996 candidate with the lowest popular vote %."
   ]
  },
  {
   "cell_type": "code",
   "execution_count": null,
   "metadata": {},
   "outputs": [],
   "source": [
    "worse_candidate = elections.loc[elections['Year'] == 1996, :].sort_values('%', ascending=True).iloc[0]\n",
    "print(worse_candidate)"
   ]
  },
  {
   "cell_type": "markdown",
   "metadata": {},
   "source": [
    "And what data type is `worse_candidate`?"
   ]
  },
  {
   "cell_type": "code",
   "execution_count": null,
   "metadata": {},
   "outputs": [],
   "source": [
    "print(type(worse_candidate))"
   ]
  },
  {
   "cell_type": "markdown",
   "metadata": {},
   "source": [
    "Hmmmm.... what is a `Series`? More on this later.\n",
    "\n",
    "Now, let's print out the results as we did with the prvious example."
   ]
  },
  {
   "cell_type": "code",
   "execution_count": null,
   "metadata": {},
   "outputs": [],
   "source": [
    "print('Candidate', worse_candidate['Candidate'], 'had the lowest popular vote in 1996, which was', worse_candidate['%'], '%.')"
   ]
  },
  {
   "cell_type": "markdown",
   "metadata": {},
   "source": [
    "So, how did we do? Well, we have reduced our code from 14 lines to 3. We are accessing columns by their name, not their position. Lastly, the data has been imported and automatically converted to the most likely data type. As you can see below, `'Candidate'` is a `string` and `'%'` is a `float`."
   ]
  },
  {
   "cell_type": "code",
   "execution_count": null,
   "metadata": {},
   "outputs": [],
   "source": [
    "elections.dtypes"
   ]
  },
  {
   "cell_type": "markdown",
   "metadata": {},
   "source": [
    "Note: `object` is a `string` and `dtypes` is a `DataFrame` attribute, which outputs a `Series` showing the name of which column and the corresponding data type.\n",
    "\n",
    "Now, let's learn how this `Pandas` library works."
   ]
  },
  {
   "cell_type": "markdown",
   "metadata": {},
   "source": [
    "<a id='section2'></a>\n",
    "## 2. DataFrames\n",
    "A `DataFrame` is a 2-dimensional labelled data structure with columns of potentially different types. You can think of it like a spreadsheet or SQL table. `DataFrames` were first introduced in the [**R Programming Language**](https://www.r-project.org/) and are generally the most commonly used pandas object. **Pandas** is the most popular Python package for working with `DataFrames`.\n",
    "<br>\n",
    "<img src=\"images/dataframe_overview.png\" alt=\"drawing\" width=\"850\"/>\n",
    "<br>\n",
    "\n",
    "In this lecture, we will see how a `DataFrame` can be created from scratch or loaded from a file.\n",
    "\n",
    "### How to Create a `DataFrame`\n",
    "We can also create a `DataFrame` in a variety of ways. Here, we cover the following:\n",
    "\n",
    "1. From a CSV file\n",
    "1. Using a list and column names\n",
    "1. From a dictionary\n",
    "\n",
    "#### Creating a `DataFrame` from a CSV file\n",
    "For loading data into a `DataFrame`, `pandas` has a number of very useful file reading tools. We'll be using `read_csv` today to load data from a CSV file into a `DataFrame` object."
   ]
  },
  {
   "cell_type": "code",
   "execution_count": null,
   "metadata": {},
   "outputs": [],
   "source": [
    "elections = pd.read_csv(\"elections.csv\")\n",
    "elections"
   ]
  },
  {
   "cell_type": "markdown",
   "metadata": {},
   "source": [
    "Because we did not specify a column which should be used as the `index`, `pandas` creates a default index for us. The default index starts and zero and increases by 1 (`0, 1, 2, 3, 4, ...`)."
   ]
  },
  {
   "cell_type": "markdown",
   "metadata": {},
   "source": [
    "#### Creating a `DataFrame` using a list and column names\n",
    "You can create a `DataFrame` using two lists. One list will contain the column names as seen below."
   ]
  },
  {
   "cell_type": "code",
   "execution_count": null,
   "metadata": {},
   "outputs": [],
   "source": [
    "columns = ['Salary', 'Job Title']"
   ]
  },
  {
   "cell_type": "markdown",
   "metadata": {},
   "source": [
    "The other list will contain the data. Each sub-list represents a row and the number of items in the sub-list must be equal to the number of items in the `columns` list."
   ]
  },
  {
   "cell_type": "code",
   "execution_count": null,
   "metadata": {},
   "outputs": [],
   "source": [
    "data = [\n",
    "    [110000, 'Professor'],\n",
    "    [90000, 'Developer'],\n",
    "    [130000, 'Electrician']\n",
    "]"
   ]
  },
  {
   "cell_type": "markdown",
   "metadata": {},
   "source": [
    "We can then use the pd.DataFrame constructor by passing the columns list to the `columns` parameter and the data list to the `data` parameter."
   ]
  },
  {
   "cell_type": "code",
   "execution_count": null,
   "metadata": {},
   "outputs": [],
   "source": [
    "salaries = pd.DataFrame(data=data, columns=columns)\n",
    "salaries"
   ]
  },
  {
   "cell_type": "markdown",
   "metadata": {},
   "source": [
    "Because we did pass an argument to the `index` parameter, `pandas` creates a default index for us. I could use a custom `index` as follows."
   ]
  },
  {
   "cell_type": "code",
   "execution_count": null,
   "metadata": {},
   "outputs": [],
   "source": [
    "salaries = pd.DataFrame(index=[10, 12, 20], data=data, columns=columns)\n",
    "salaries"
   ]
  },
  {
   "cell_type": "markdown",
   "metadata": {},
   "source": [
    "#### Creating a `DataFrame` from a dictionary\n",
    "You can create a `DataFrame` using a dictionary where the keys are the column names and the values are lists. The length of each list must be the same."
   ]
  },
  {
   "cell_type": "code",
   "execution_count": null,
   "metadata": {},
   "outputs": [],
   "source": [
    "df_dict_1 = pd.DataFrame({\"Fruit\":[\"Strawberry\", \"Orange\", \"Banana\"], \n",
    "                          \"Price\":[5.49, 3.99, 9.99]})\n",
    "df_dict_1"
   ]
  },
  {
   "cell_type": "markdown",
   "metadata": {},
   "source": [
    "Notice how the `\"Fruit\"` list and the `\"Price\"` list have the same number of items in them (3).\n",
    "\n",
    "You can also create a `DataFrame` using a list of dictionaries where each dictionary holds the data for a given row."
   ]
  },
  {
   "cell_type": "code",
   "execution_count": null,
   "metadata": {},
   "outputs": [],
   "source": [
    "df_dict_2 = pd.DataFrame([{\"Fruit\": \"Strawberry\", \"Price\": 5.49}, \n",
    "                          {\"Fruit\": \"Orange\", \"Price\": 3.99},\n",
    "                          {\"Fruit\": \"Banana\", \"Price\": 9.99}])\n",
    "df_dict_2"
   ]
  },
  {
   "cell_type": "markdown",
   "metadata": {},
   "source": [
    "### `DataFrame` attributes: `index`, `columns`,`shape`\n",
    "The figure below displays the different components of a DataFrame, which include: `indices`, `columns`, `axes` (more on these later), and `Series`.\n",
    "<br>\n",
    "<img src=\"images/DataFrame.png\" alt=\"drawing\" width=\"450\"/>\n",
    "<br>\n",
    "Let's check out our `elections` `DataFrame` again."
   ]
  },
  {
   "cell_type": "code",
   "execution_count": null,
   "metadata": {},
   "outputs": [],
   "source": [
    "elections"
   ]
  },
  {
   "cell_type": "markdown",
   "metadata": {},
   "source": [
    "### `index`\n",
    "The `index` can be thought of as row labels. They can be numeric but they do not have to be. They could also be strings or datetimes, for example. If the `index` of a DataFrame is numeric, it does not have to be for the form `0, 1, 2, 3, 4, ...`.\n",
    "\n",
    "#### `index` as a monotonic sequence of integers\n",
    "The example below for `elections` is likely the expected behaviour when thinking about row indices of a data table."
   ]
  },
  {
   "cell_type": "code",
   "execution_count": null,
   "metadata": {},
   "outputs": [],
   "source": [
    "elections.index"
   ]
  },
  {
   "cell_type": "markdown",
   "metadata": {},
   "source": [
    "`index` returns a `RangeIndex()` object, which shows the start, end and step size of the row indices. `RangeIndex` is a memory-saving object used for representing monotonic ranges. This is similar to how we represent a sequence of integers using the `range` function in Python. For example, `range(0, 182, 1)`."
   ]
  },
  {
   "cell_type": "markdown",
   "metadata": {},
   "source": [
    "#### Converting a column into the index\n",
    "Sometimes, it's advantageous to set a column in your DataFrame as the index. Consider our `elections` `DataFrame` again."
   ]
  },
  {
   "cell_type": "code",
   "execution_count": null,
   "metadata": {},
   "outputs": [],
   "source": [
    "elections"
   ]
  },
  {
   "cell_type": "markdown",
   "metadata": {},
   "source": [
    "We can set the `\"Year\"` column as the index."
   ]
  },
  {
   "cell_type": "code",
   "execution_count": null,
   "metadata": {},
   "outputs": [],
   "source": [
    "elections = elections.set_index('Year')\n",
    "elections"
   ]
  },
  {
   "cell_type": "markdown",
   "metadata": {},
   "source": [
    "And we can reset the `index` using a monotonic range."
   ]
  },
  {
   "cell_type": "code",
   "execution_count": null,
   "metadata": {},
   "outputs": [],
   "source": [
    "elections = elections.reset_index()\n",
    "elections"
   ]
  },
  {
   "cell_type": "markdown",
   "metadata": {},
   "source": [
    "#### `index` as an array of numeric values\n",
    "Let's go back to `\"Year\"` being the `index`."
   ]
  },
  {
   "cell_type": "code",
   "execution_count": null,
   "metadata": {},
   "outputs": [],
   "source": [
    "elections = elections.set_index('Year')\n",
    "elections"
   ]
  },
  {
   "cell_type": "markdown",
   "metadata": {},
   "source": [
    "One important property of `index` is that these row labels do not have to be unique, which probably seems counterintuitive. As we can see from the example above, there is more than one row with the index `2020`.\n",
    "\n",
    "Because the index is not longer a monotonic range, the `RangeIndex()` object can no longer be used to represent it."
   ]
  },
  {
   "cell_type": "code",
   "execution_count": null,
   "metadata": {},
   "outputs": [],
   "source": [
    "elections.index"
   ]
  },
  {
   "cell_type": "markdown",
   "metadata": {},
   "source": [
    "Instead, we get a list of index values.\n",
    "\n",
    "#### `index` as an array of non-numeric values\n",
    "In the example below, you can see that we can also create an `index` using non-numeric data."
   ]
  },
  {
   "cell_type": "code",
   "execution_count": null,
   "metadata": {},
   "outputs": [],
   "source": [
    "elections = elections.reset_index()\n",
    "elections = elections.set_index('Candidate')\n",
    "elections"
   ]
  },
  {
   "cell_type": "code",
   "execution_count": null,
   "metadata": {},
   "outputs": [],
   "source": [
    "elections = elections.reset_index()"
   ]
  },
  {
   "cell_type": "markdown",
   "metadata": {},
   "source": [
    "### `columns`\n",
    "`columns` are column labels in the same way the `indices` are row labels. We can get a list of `column` names using the following code."
   ]
  },
  {
   "cell_type": "code",
   "execution_count": null,
   "metadata": {},
   "outputs": [],
   "source": [
    "elections.columns"
   ]
  },
  {
   "cell_type": "markdown",
   "metadata": {},
   "source": [
    "### `shape`\n",
    "`shape` is a `tuple` where the first item is the number of rows and the second item is the number of columns.\n",
    "```python\n",
    ">>> dataframe.shape\n",
    "(num_rows, num_columns)\n",
    "```"
   ]
  },
  {
   "cell_type": "code",
   "execution_count": null,
   "metadata": {},
   "outputs": [],
   "source": [
    "elections"
   ]
  },
  {
   "cell_type": "code",
   "execution_count": null,
   "metadata": {},
   "outputs": [],
   "source": [
    "elections.shape"
   ]
  },
  {
   "cell_type": "code",
   "execution_count": null,
   "metadata": {},
   "outputs": [],
   "source": [
    "df_dict_2 = pd.DataFrame([{\"Fruit\": \"Strawberry\", \"Price\": 5.49}, \n",
    "                          {\"Fruit\": \"Orange\", \"Price\": 3.99},\n",
    "                          {\"Fruit\": \"Banana\", \"Price\": 9.99}])\n",
    "df_dict_2"
   ]
  },
  {
   "cell_type": "code",
   "execution_count": null,
   "metadata": {},
   "outputs": [],
   "source": [
    "df_dict_2.shape"
   ]
  },
  {
   "cell_type": "markdown",
   "metadata": {},
   "source": [
    "<a id='section3'></a>\n",
    "## 3. Breakout Session 1\n",
    "Given the data below, create a `DataFrame` with the columns `phone_number`, `job`, and `years`. The index should be `\"name\"` with the data coming from `data1`. There should be 4 rows in the `DataFrame`. Below is an example of the expected output of your code.\n",
    "\n",
    "<img src=\"images/breakout_session_1.png\" width=\"400\" style=\"margin:auto\"/>"
   ]
  },
  {
   "cell_type": "code",
   "execution_count": null,
   "metadata": {},
   "outputs": [],
   "source": [
    "data1 = {'name': ['John', 'Susan', 'Omid', 'Ava']}\n",
    "data2 = {'phone_number': ['234-5678', '123-4567', '111-4444', '456-0987']}\n",
    "data3 = {'job': ['Pizza Delivery', 'Teacher', 'Chemist', 'Coder']}\n",
    "data4 = {'years_of_experience': [10, 2, 5, 8]}\n",
    "\n",
    "# Write your code here\n",
    "...\n",
    "\n",
    "# Display DataFrame\n",
    "df1"
   ]
  },
  {
   "cell_type": "markdown",
   "metadata": {},
   "source": [
    "<a id='section4'></a>\n",
    "## 4. Series\n",
    "A `Series` is a 1-D labelled array of data. We can think of it as a column of data like you may have seen in an excel spreadsheet.\n",
    "\n",
    "### Creating a new `Series` object\n",
    "Below, we create a `Series` object."
   ]
  },
  {
   "cell_type": "code",
   "execution_count": null,
   "metadata": {},
   "outputs": [],
   "source": [
    "my_series = pd.Series([\"welcome\", \"to\", \"APS106\"])\n",
    "print(my_series)"
   ]
  },
  {
   "cell_type": "markdown",
   "metadata": {},
   "source": [
    "Series have three main components, `index`, `name`, `data` (also referred to as `values`) as you can see in the diagram below. As you can see, `DataFrames` are collections of `Series`. Therefore, a helpful way to think of a `Series` is as a column from a table of data, like an Excel sheet.\n",
    "\n",
    "<img src=\"images/Pandas_Series.png\" width=\"600\" style=\"margin:auto\"/>\n",
    "\n",
    "\n",
    "So, for our new `Series` `my_series`, let's check out these attributes (`index`, `name`, `data`).\n",
    "\n",
    "**name**"
   ]
  },
  {
   "cell_type": "code",
   "execution_count": null,
   "metadata": {},
   "outputs": [],
   "source": [
    "print(my_series.name)"
   ]
  },
  {
   "cell_type": "markdown",
   "metadata": {},
   "source": [
    "We never gave our `Series` a name, so by default, its `None`.\n",
    "\n",
    "**data (values)**"
   ]
  },
  {
   "cell_type": "code",
   "execution_count": null,
   "metadata": {},
   "outputs": [],
   "source": [
    "print(my_series.values)"
   ]
  },
  {
   "cell_type": "markdown",
   "metadata": {},
   "source": [
    "We passed this data to our `Series` constructor (`my_series = pd.Series([\"welcome\", \"to\", \"APS106\"])`)."
   ]
  },
  {
   "cell_type": "markdown",
   "metadata": {},
   "source": [
    "**index**"
   ]
  },
  {
   "cell_type": "code",
   "execution_count": null,
   "metadata": {},
   "outputs": [],
   "source": [
    "print(my_series.index)"
   ]
  },
  {
   "cell_type": "markdown",
   "metadata": {},
   "source": [
    "In the example above, `Pandas` automatically generated an `Index` of integer labels. The first item in the `Series` has `index = 0`, the second item has `index = 1` and so on. We can also create a `Series` object by providing a custom Index. In the case of our example, rather than the index being a long list of monotonically increasing integers, `Pandas` has created a `RangeIndex` object to represent the same information in a simpler and more compact format. `RangeIndex(start=0, stop=3, step=1)` is the same as `[0, 1, 2]` but in the case where you have millions of items in your `Series`, it's much more efficient. This should look familiar to you given `RangeIndex(start=0, stop=3, step=1)` would be very similar to `range(0, 3, 1)` that we learned in **Week 6**. \n",
    "\n",
    "Here is an example where we are specifying an `index`, `data`, and `name` when we create a new `Series`."
   ]
  },
  {
   "cell_type": "code",
   "execution_count": null,
   "metadata": {},
   "outputs": [],
   "source": [
    "my_series = pd.Series(data=[20000, 21000, 100000, 88000, 101000], \n",
    "                      index=[\"Seb\", \"Ben\", \"Katia\", \"Joseph\", \"Tamara\"], \n",
    "                      name=\"salary\")\n",
    "print(my_series)"
   ]
  },
  {
   "cell_type": "markdown",
   "metadata": {},
   "source": [
    "We can see all the `Series` information in the print-out and we can also see it by using the attributes below."
   ]
  },
  {
   "cell_type": "code",
   "execution_count": null,
   "metadata": {},
   "outputs": [],
   "source": [
    "print(my_series.name)\n",
    "print(my_series.values)\n",
    "print(my_series.index)"
   ]
  },
  {
   "cell_type": "markdown",
   "metadata": {},
   "source": [
    "Now, because our index is no longer monotonically increasing integers (e.g. [0, 2, 4, 6, 8]), you can see that the `RangeIndex` object is no longer able to be used to represent the `index`. For this example, the `index` is simply a list of the index values `[\"Seb\", \"Ben\", \"Katia\", \"Joseph\", \"Tamara\"]`.\n",
    "\n",
    "**Note:** The idea of having of having non-numeric indices is new and a bit strange. We'll get into this more shortly.\n",
    "\n",
    "After a `Series` has been created, we can reassign the `Index` of a `Series` to a new `Index`."
   ]
  },
  {
   "cell_type": "code",
   "execution_count": null,
   "metadata": {},
   "outputs": [],
   "source": [
    "my_series.index = ['Goodfellow', 'Kinsella', 'Ossetchkina', 'Sebastian', 'Kecman']\n",
    "print(my_series)"
   ]
  },
  {
   "cell_type": "markdown",
   "metadata": {},
   "source": [
    "We can also do this for `name`."
   ]
  },
  {
   "cell_type": "code",
   "execution_count": null,
   "metadata": {},
   "outputs": [],
   "source": [
    "my_series.name = 'income'\n",
    "print(my_series)"
   ]
  },
  {
   "cell_type": "markdown",
   "metadata": {},
   "source": [
    "But not for `data` (`values`)."
   ]
  },
  {
   "cell_type": "code",
   "execution_count": null,
   "metadata": {},
   "outputs": [],
   "source": [
    "my_series.values = [0, 0, 0, 0, 0]\n",
    "print(my_series)"
   ]
  },
  {
   "cell_type": "markdown",
   "metadata": {},
   "source": [
    "More on how to update column data next lecture."
   ]
  },
  {
   "cell_type": "markdown",
   "metadata": {},
   "source": [
    "<a id='section5'></a>\n",
    "## 5. Data Extraction\n",
    "We can use `.head()` to return the first 5 rows of a DataFrame or `.tail()` to return the last 5 rows of a `DataFrame`."
   ]
  },
  {
   "cell_type": "code",
   "execution_count": null,
   "metadata": {},
   "outputs": [],
   "source": [
    "elections = pd.read_csv(\"elections.csv\")\n",
    "elections"
   ]
  },
  {
   "cell_type": "code",
   "execution_count": null,
   "metadata": {},
   "outputs": [],
   "source": [
    "elections.head() "
   ]
  },
  {
   "cell_type": "code",
   "execution_count": null,
   "metadata": {},
   "outputs": [],
   "source": [
    "elections.tail() "
   ]
  },
  {
   "cell_type": "markdown",
   "metadata": {},
   "source": [
    "If you'd like to see the first `10` rows, simply pass `10` as an argument."
   ]
  },
  {
   "cell_type": "code",
   "execution_count": null,
   "metadata": {},
   "outputs": [],
   "source": [
    "elections.head(10) "
   ]
  },
  {
   "cell_type": "markdown",
   "metadata": {},
   "source": [
    "### Label-Based Extraction using `.loc`\n",
    "The `.loc` method in Pandas is primarily used for label-based indexing. It allows you to select data from a DataFrame based on labels or boolean arrays. The `.loc` method takes two arguments. The first is a row selection and the second is a column selection in the following form:\n",
    "```python\n",
    "dataframe.loc(row-selection, column-selection)\n",
    "```\n",
    "\n",
    "These arguments to `.loc`, `row-selection` and `column-selection` can be:\n",
    "- A list.\n",
    "- A slice (syntax is inclusive of the right-hand side of the slice).\n",
    "- A single value.\n",
    "\n",
    "Consider our `elections` DataFrame."
   ]
  },
  {
   "cell_type": "code",
   "execution_count": null,
   "metadata": {},
   "outputs": [],
   "source": [
    "elections.head()"
   ]
  },
  {
   "cell_type": "markdown",
   "metadata": {},
   "source": [
    "#### Selection using a list.\n",
    "The first argument is a list of row labels. These would be values in `.index`. The second argument is a list of column labels. These would be values in `.columns`.\n",
    "```python\n",
    "dataframe.loc([List-of-row-labels], [List-of-column-labels])\n",
    "```\n",
    "These are the options for the row labels:"
   ]
  },
  {
   "cell_type": "code",
   "execution_count": null,
   "metadata": {},
   "outputs": [],
   "source": [
    "elections.index"
   ]
  },
  {
   "cell_type": "markdown",
   "metadata": {},
   "source": [
    "Basically, numbers between 0 and 181."
   ]
  },
  {
   "cell_type": "code",
   "execution_count": null,
   "metadata": {},
   "outputs": [],
   "source": [
    "print(list(elections.index)[0:10])"
   ]
  },
  {
   "cell_type": "code",
   "execution_count": null,
   "metadata": {},
   "outputs": [],
   "source": [
    "print(list(elections.index)[-10:])"
   ]
  },
  {
   "cell_type": "markdown",
   "metadata": {},
   "source": [
    "And these are the options for columns labels."
   ]
  },
  {
   "cell_type": "code",
   "execution_count": null,
   "metadata": {},
   "outputs": [],
   "source": [
    "elections.columns"
   ]
  },
  {
   "cell_type": "markdown",
   "metadata": {},
   "source": [
    "So, lets try this out."
   ]
  },
  {
   "cell_type": "code",
   "execution_count": null,
   "metadata": {},
   "outputs": [],
   "source": [
    "elections.loc[[87, 25, 179], [\"Year\", \"Candidate\", \"Result\"]]"
   ]
  },
  {
   "cell_type": "markdown",
   "metadata": {},
   "source": [
    "#### Selection using a slice\n",
    "In Pandas, the `:` slice in the `.loc` method is used to select rows and/or columns by label. It represents a range of labels or all labels along a particular axis (rows or columns). Row and column slices can be passed to the `.loc` method in the following way.\n",
    "```python\n",
    "df.loc[row_label_slice, column_label_slice]\n",
    "```\n",
    "- `row_label_slice`: A slice or a sequence of labels representing the range of rows to select.\n",
    "- `column_label_slice`: A slice or a sequence of labels representing the range of columns to select.\n",
    "\n",
    "**Slice of Labels:** If you pass a slice of labels (e.g., `start_label:end_label`), `.loc` selects all rows or columns with labels within the specified range, including both the start and end labels. For example:"
   ]
  },
  {
   "cell_type": "code",
   "execution_count": null,
   "metadata": {},
   "outputs": [],
   "source": [
    "elections.loc[80:85, \"Candidate\":\"%\"]"
   ]
  },
  {
   "cell_type": "markdown",
   "metadata": {},
   "source": [
    "In this case, our row slice was `80:85`, which produced the following list of row labels `[80, 81, 82, 83, 84, 85]` and our column slice `\"Popular vote\":\"%\"` will produce the following list of column labels `[\"Candidate\", \"Party\", \"Popular vote\", \"Result\", \"%\"]`.\n",
    "\n",
    "You can also add a step size with the following syntax: `start_label:end_label:step_size`. For example, using a step size of `2` for the previous example would produce the following output."
   ]
  },
  {
   "cell_type": "code",
   "execution_count": null,
   "metadata": {},
   "outputs": [],
   "source": [
    "elections.loc[80:85:2, \"Candidate\":\"%\":2]"
   ]
  },
  {
   "cell_type": "markdown",
   "metadata": {},
   "source": [
    "**Important:** Compared to what we have previously learned with regards to slicing `strings`, `lists`, `tuples`, etc., the start and stop labels for `.loc` are inclusive. You'll recall that for `string` slicing, `string[0:5]` will include indices `0, 1, 2, 3, 4` and NOT `5`. In the example above, you'll notice row label `85` and column label `\"%\"` are included.\n",
    "\n",
    "`.loc` also supports a negative step size."
   ]
  },
  {
   "cell_type": "code",
   "execution_count": null,
   "metadata": {},
   "outputs": [],
   "source": [
    "elections.loc[80:85:2, \"%\":\"Candidate\":-1]"
   ]
  },
  {
   "cell_type": "markdown",
   "metadata": {},
   "source": [
    "The one area where you can run into an error is when slicing row labels where there are non-unique values. Let's create a dummy DataFrame to show this behavior."
   ]
  },
  {
   "cell_type": "code",
   "execution_count": null,
   "metadata": {},
   "outputs": [],
   "source": [
    "elections_test = elections.loc[80:90, \"Year\":\"%\"]\n",
    "elections_test.index = [0, 1, 2, 3, 2, 5, 10, 12, 13, 8, 30]\n",
    "elections_test"
   ]
  },
  {
   "cell_type": "markdown",
   "metadata": {},
   "source": [
    "Now we have an `index` that is NOT MONOTONIC where monotonically increasing integers are a sequence of numbers where each number is greater than or equal to the preceding number."
   ]
  },
  {
   "cell_type": "code",
   "execution_count": null,
   "metadata": {},
   "outputs": [],
   "source": [
    "elections_test.loc[2:8, \"Year\":\"Party\"]"
   ]
  },
  {
   "cell_type": "markdown",
   "metadata": {},
   "source": [
    "As you can see, we get an error. This means that when our row labels or column labels are not monotonically increasing or decreasing, we cannot use slicing.\n",
    "\n",
    "**Selection of all Labels:**  If you use `:` alone, `.loc` selects all rows or columns. For example, if I want to select all columns but only a few rows, we could do the following:"
   ]
  },
  {
   "cell_type": "code",
   "execution_count": null,
   "metadata": {},
   "outputs": [],
   "source": [
    "elections.loc[[3, 10, 50], :]"
   ]
  },
  {
   "cell_type": "markdown",
   "metadata": {},
   "source": [
    "**Selection of a single value:**  You can pass a single row or column label into the row or column selection arguments of the `loc` method.\n",
    "\n",
    "Below is an example of selecting a single value in a table."
   ]
  },
  {
   "cell_type": "code",
   "execution_count": null,
   "metadata": {},
   "outputs": [],
   "source": [
    "elections.loc[0, 'Candidate']"
   ]
  },
  {
   "cell_type": "markdown",
   "metadata": {},
   "source": [
    "Below is an example of selecting a single row in a table."
   ]
  },
  {
   "cell_type": "code",
   "execution_count": null,
   "metadata": {},
   "outputs": [],
   "source": [
    "elections.loc[0, :]"
   ]
  },
  {
   "cell_type": "markdown",
   "metadata": {},
   "source": [
    "You can see the `type` is a `Series`, which Pandas uses to represent 1-D data, which a row is what a row is. "
   ]
  },
  {
   "cell_type": "code",
   "execution_count": null,
   "metadata": {},
   "outputs": [],
   "source": [
    "type(elections.loc[0, :])"
   ]
  },
  {
   "cell_type": "markdown",
   "metadata": {},
   "source": [
    "However, if you want `.loc` to return a `DataFrame` with a single row, then you need to pass in a list of row labels with only one row label in it."
   ]
  },
  {
   "cell_type": "code",
   "execution_count": null,
   "metadata": {},
   "outputs": [],
   "source": [
    "elections.loc[[0], :]"
   ]
  },
  {
   "cell_type": "code",
   "execution_count": null,
   "metadata": {},
   "outputs": [],
   "source": [
    "type(elections.loc[[0], :])"
   ]
  },
  {
   "cell_type": "markdown",
   "metadata": {},
   "source": [
    "Below is an example of selecting a single column in a table is a `Series`."
   ]
  },
  {
   "cell_type": "code",
   "execution_count": null,
   "metadata": {},
   "outputs": [],
   "source": [
    "elections.loc[:, 'Candidate']"
   ]
  },
  {
   "cell_type": "markdown",
   "metadata": {},
   "source": [
    "And the same example but where a `DataFrame` with one column is returned."
   ]
  },
  {
   "cell_type": "code",
   "execution_count": null,
   "metadata": {},
   "outputs": [],
   "source": [
    "elections.loc[:, ['Candidate']]"
   ]
  },
  {
   "cell_type": "markdown",
   "metadata": {},
   "source": [
    "### Integer-Based Extraction Using iloc `.iloc`\n",
    "In Pandas, the `.iloc` method is used for integer-based indexing, allowing you to select rows and/or columns by their integer position within the DataFrame. It is similar to Python's native indexing we use for `lists`, `string`, `tuples`, and `range`.\n",
    "\n",
    "- When using `.iloc`, integer indexes are used to select rows and columns.\n",
    "- Slices in `.iloc` are exclusive of the end index, meaning the row or column at the end index is not included in the selection.\n",
    "- Negative integer indexes can be used to select rows or columns from the end of the `DataFrame`.\n",
    "- `.iloc` provides a way to access `DataFrame` elements based on their integer position, which can be useful when you want to select rows or columns by their position rather than by their labels.\n",
    "\n",
    "The figure below shows the differences between `loc` and `iloc`.\n",
    "\n",
    "<img src=\"images/iloc_loc.png\" width=\"900\" style=\"margin:auto\"/>\n",
    "\n",
    "Let's check out our `elections` dataset again."
   ]
  },
  {
   "cell_type": "code",
   "execution_count": null,
   "metadata": {},
   "outputs": [],
   "source": [
    "elections.head()"
   ]
  },
  {
   "cell_type": "markdown",
   "metadata": {},
   "source": [
    "Below are some examples of using `iloc`."
   ]
  },
  {
   "cell_type": "code",
   "execution_count": null,
   "metadata": {},
   "outputs": [],
   "source": [
    "elections.iloc[2:, 3:5]"
   ]
  },
  {
   "cell_type": "code",
   "execution_count": null,
   "metadata": {},
   "outputs": [],
   "source": [
    "elections.iloc[::2, 3:5]"
   ]
  },
  {
   "cell_type": "code",
   "execution_count": null,
   "metadata": {},
   "outputs": [],
   "source": [
    "elections.iloc[5:-1, 3:5]"
   ]
  },
  {
   "cell_type": "markdown",
   "metadata": {},
   "source": [
    "#### Caution\n",
    "We will use both `.loc` and `.iloc` in the course. `.loc` is generally preferred for a number of reasons, for example: \n",
    "\n",
    "1. It is harder to make mistakes since you have to literally write out what you want to get.\n",
    "2. Code is easier to read because the reader doesn't have to know e.g. what column **#31** represents.\n",
    "3. It is robust against permutations of the data, e.g. the Social Security administration switches the order of two columns.\n",
    "\n",
    "However, `iloc` is sometimes more convenient. We'll provide examples of when iloc is the superior choice."
   ]
  },
  {
   "cell_type": "markdown",
   "metadata": {},
   "source": [
    "### Data Extraction From A `Series` using `.loc` and `iloc`.\n",
    "`loc` and `iloc` can be used in the same way for a `Series`. The only difference is that they do not require row and column selections because a `Series` is 1D. Let's go back to our `Series` example."
   ]
  },
  {
   "cell_type": "code",
   "execution_count": null,
   "metadata": {},
   "outputs": [],
   "source": [
    "my_series = pd.Series(data=[20000, 21000, 100000, 88000, 101000], \n",
    "                      index=[\"Seb\", \"Ben\", \"Katia\", \"Joseph\", \"Tamara\"], \n",
    "                      name=\"salary\")\n",
    "print(my_series)"
   ]
  },
  {
   "cell_type": "code",
   "execution_count": null,
   "metadata": {},
   "outputs": [],
   "source": [
    "my_series.loc['Ben']"
   ]
  },
  {
   "cell_type": "code",
   "execution_count": null,
   "metadata": {},
   "outputs": [],
   "source": [
    "my_series.loc['Ben':'Joseph']"
   ]
  },
  {
   "cell_type": "code",
   "execution_count": null,
   "metadata": {},
   "outputs": [],
   "source": [
    "my_series.iloc[2]"
   ]
  },
  {
   "cell_type": "code",
   "execution_count": null,
   "metadata": {},
   "outputs": [],
   "source": [
    "my_series.iloc[1:4]"
   ]
  },
  {
   "cell_type": "markdown",
   "metadata": {},
   "source": [
    "<a id='section6'></a>\n",
    "## 6. Breakout Session 2\n",
    "You have been provided with a `DataFrame` containing information about students' scores in different subjects. "
   ]
  },
  {
   "cell_type": "code",
   "execution_count": null,
   "metadata": {},
   "outputs": [],
   "source": [
    "data = {\n",
    "    'Name': ['Alice', 'Bob', 'Charlie', 'David', 'Emma'],\n",
    "    'Math': [80, 85, 90, 95, 75],\n",
    "    'Science': [75, 90, 85, 80, 95],\n",
    "    'English': [85, 80, 75, 70, 90],\n",
    "    'History': [90, 85, 80, 75, 85]\n",
    "}\n",
    "\n",
    "df = pd.DataFrame(data)\n",
    "df"
   ]
  },
  {
   "cell_type": "markdown",
   "metadata": {},
   "source": [
    "#### Question 1\n",
    "Select the scores of the last 2 students in `\"Math\"` and `\"Science\"` using `.loc`."
   ]
  },
  {
   "cell_type": "code",
   "execution_count": null,
   "metadata": {},
   "outputs": [],
   "source": [
    "..."
   ]
  },
  {
   "cell_type": "markdown",
   "metadata": {},
   "source": [
    "#### Question 2\n",
    "Select the scores of the students with row positions 1, 2, and 3 in `\"English\"` and `\"History\"` using `.iloc`."
   ]
  },
  {
   "cell_type": "code",
   "execution_count": null,
   "metadata": {},
   "outputs": [],
   "source": [
    "..."
   ]
  },
  {
   "cell_type": "markdown",
   "metadata": {},
   "source": [
    "#### Question 3\n",
    "Select the scores of students with row position 0, 2, and 4 in all subjects using `.iloc`."
   ]
  },
  {
   "cell_type": "code",
   "execution_count": null,
   "metadata": {},
   "outputs": [],
   "source": [
    "..."
   ]
  },
  {
   "cell_type": "markdown",
   "metadata": {},
   "source": [
    "#### Question 4\n",
    "Select the scores of all students in `\"Math\"` and `\"Science\"` using `.loc`."
   ]
  },
  {
   "cell_type": "code",
   "execution_count": null,
   "metadata": {},
   "outputs": [],
   "source": [
    "..."
   ]
  },
  {
   "cell_type": "markdown",
   "metadata": {},
   "source": [
    "#### Question 5\n",
    "Create a new `DataFrame` including all the rows but with the columns reorder in reverse order using `.loc` and slicing."
   ]
  },
  {
   "cell_type": "code",
   "execution_count": null,
   "metadata": {},
   "outputs": [],
   "source": [
    "..."
   ]
  },
  {
   "cell_type": "markdown",
   "metadata": {},
   "source": [
    "<a id='section7'></a>\n",
    "## 7. Looping\n",
    "There are MANY ways to loop over a `DataFrame`. Some are very fast and others very slow but for `APS106` we will learn two methods, one that relies on `.loc` and the other that relies on `.iloc`. \n",
    "\n",
    "Let's reload our trusty elections dataset."
   ]
  },
  {
   "cell_type": "code",
   "execution_count": null,
   "metadata": {},
   "outputs": [],
   "source": [
    "elections = pd.read_csv(\"elections.csv\")\n",
    "elections.head()"
   ]
  },
  {
   "cell_type": "markdown",
   "metadata": {},
   "source": [
    "### Looping over row labels (`.loc`)\n",
    "In the code below, we are looping over the row labels and then using them to access the candidate using `.loc`. The candidate is saved as a string and then the first name is printed in all lower-case."
   ]
  },
  {
   "cell_type": "code",
   "execution_count": null,
   "metadata": {},
   "outputs": [],
   "source": [
    "for row_label in elections.index:\n",
    "    candidate = elections.loc[row_label, 'Candidate']\n",
    "    print(candidate.split(' ')[0].lower())"
   ]
  },
  {
   "cell_type": "markdown",
   "metadata": {},
   "source": [
    "### Looping over row label positions (`.iloc`)\n",
    "In the code below, we are looping over the row label positions and then using them to access the candidate using `.iloc`. The candidate is saved as a string and then the first name is printed in all lower-case."
   ]
  },
  {
   "cell_type": "code",
   "execution_count": null,
   "metadata": {},
   "outputs": [],
   "source": [
    "for row_id in range(elections.shape[0]):\n",
    "    candidate = elections.iloc[row_id, 1]\n",
    "    print(candidate.split(' ')[0].lower())"
   ]
  },
  {
   "cell_type": "markdown",
   "metadata": {},
   "source": [
    "### Looping over a `Series`\n",
    "We can loop over the values in a `Series` as follows."
   ]
  },
  {
   "cell_type": "code",
   "execution_count": null,
   "metadata": {},
   "outputs": [],
   "source": [
    "for item in my_series:\n",
    "    print(item)"
   ]
  },
  {
   "cell_type": "markdown",
   "metadata": {},
   "source": [
    "Or, we could loop through the indices and then use them to access the values."
   ]
  },
  {
   "cell_type": "code",
   "execution_count": null,
   "metadata": {},
   "outputs": [],
   "source": [
    "for index in my_series.index:\n",
    "    print(index, my_series.loc[index])"
   ]
  },
  {
   "cell_type": "markdown",
   "metadata": {},
   "source": [
    "<a id='section8'></a>\n",
    "## 8. Saving DataFrames\n",
    "In Pandas, saving `DataFrames` as `CSV` (Comma Separated Values) files is a straightforward process and can be done using the `to_csv()` function. This function allows you to save the contents of a `DataFrame` to a `CSV` file with various options for customization.\n",
    "\n",
    "Let's create a custom `DataFrame`."
   ]
  },
  {
   "cell_type": "code",
   "execution_count": null,
   "metadata": {},
   "outputs": [],
   "source": [
    "data = {'Name': ['Alice', 'Bob', 'Charlie'],\n",
    "        'Age': [25, 30, 35],\n",
    "        'Department': ['HR', 'Engineering', 'Marketing']}\n",
    "df = pd.DataFrame(data)\n",
    "df.head()"
   ]
  },
  {
   "cell_type": "markdown",
   "metadata": {},
   "source": [
    "To save a `DataFrame` all we need is to specify the name of the file we're saving."
   ]
  },
  {
   "cell_type": "code",
   "execution_count": null,
   "metadata": {},
   "outputs": [],
   "source": [
    "df.to_csv('example.csv')"
   ]
  },
  {
   "cell_type": "markdown",
   "metadata": {},
   "source": [
    "If we don't want to include the `index`, simply pass `False` to the `index` parameter."
   ]
  },
  {
   "cell_type": "code",
   "execution_count": null,
   "metadata": {},
   "outputs": [],
   "source": [
    "df.to_csv('example.csv', index=False)"
   ]
  }
 ],
 "metadata": {
  "kernelspec": {
   "display_name": "Python 3 (ipykernel)",
   "language": "python",
   "name": "python3"
  },
  "language_info": {
   "codemirror_mode": {
    "name": "ipython",
    "version": 3
   },
   "file_extension": ".py",
   "mimetype": "text/x-python",
   "name": "python",
   "nbconvert_exporter": "python",
   "pygments_lexer": "ipython3",
   "version": "3.11.5"
  }
 },
 "nbformat": 4,
 "nbformat_minor": 4
}
