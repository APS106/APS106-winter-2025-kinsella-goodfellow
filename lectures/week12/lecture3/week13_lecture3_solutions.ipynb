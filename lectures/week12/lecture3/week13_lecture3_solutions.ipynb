{
  "cells": [
    {
      "cell_type": "markdown",
      "source": [
        "# APS106 - MIDTERM REVIEW\n"
      ],
      "metadata": {
        "id": "WSGF5MaO5oY6"
      },
      "id": "WSGF5MaO5oY6"
    },
    {
      "cell_type": "markdown",
      "source": [
        "### Table of Contents"
      ],
      "metadata": {
        "id": "g6dLm1Wv5yP6"
      },
      "id": "g6dLm1Wv5yP6"
    },
    {
      "cell_type": "markdown",
      "source": [
        ">[SpongeCode SquarePants](#scrollTo=ZbyCI7OszN3l)\n",
        "\n",
        ">>>>[$250](#scrollTo=60fbc0c3f365b428)\n",
        "\n",
        ">>>>[$500](#scrollTo=60af9d562d439df1)\n",
        "\n",
        ">>>>[$ 750](#scrollTo=ifyKll2lJnTp)\n",
        "\n",
        ">>>>[$1000](#scrollTo=b5342f01c93fc59d)\n",
        "\n",
        ">[Scooby-Doocode](#scrollTo=kCUUfYfbzsJS)\n",
        "\n",
        ">>>>[$250](#scrollTo=db1cf9f9c738992b)\n",
        "\n",
        ">>>>[$500](#scrollTo=81d24583a78e8ce7)\n",
        "\n",
        ">>>>[$750](#scrollTo=ZFvTulDkDJwF)\n",
        "\n",
        ">>>>[$1000](#scrollTo=908f98546dfcfe56)\n",
        "\n",
        ">[Codeball Z](#scrollTo=2pesKr50zzax)\n",
        "\n",
        ">>>>[$250](#scrollTo=1716b911a1689147)\n",
        "\n",
        ">>>>[$500](#scrollTo=bcded41764f4fd29)\n",
        "\n",
        ">>>>[$ 750](#scrollTo=qLGaoCGjEezf)\n",
        "\n",
        ">>>>[$1000](#scrollTo=b8f2ec1341fc783e)\n",
        "\n",
        ">[The Simpsons.py](#scrollTo=G1ttEqpPz3bY)\n",
        "\n",
        ">>>>[$250](#scrollTo=706a38985873a9ea)\n",
        "\n",
        ">>>>[$500](#scrollTo=c6686c151de1ea2)\n",
        "\n",
        ">>>>[$750](#scrollTo=rZVShIRlGB9O)\n",
        "\n",
        ">>>>[$1000](#scrollTo=45b8cf94db492a72)\n",
        "\n",
        ">[Code Rangers](#scrollTo=dsWr29Slz_FJ)\n",
        "\n",
        ">>>>[$250](#scrollTo=93f463e693949a2a)\n",
        "\n",
        ">>>>[$500](#scrollTo=93801978e4c66c7b)\n",
        "\n",
        ">>>>[$750](#scrollTo=waCNuSpDHO3h)\n",
        "\n",
        ">>>>[$1000](#scrollTo=9ac85334e71b8c61)\n",
        "\n",
        ">[🏆 Final Jeopardy](#scrollTo=Pz6SyokR0CUR)\n",
        "\n",
        ">>[Scramble Time](#scrollTo=23fkmAyk6rm7)\n",
        "\n",
        ">>[Question 1](#scrollTo=f8419438ffdc5d94)\n",
        "\n",
        ">>[Question 2](#scrollTo=gEF-HRAAH2n1)\n",
        "\n",
        ">>[Question 3](#scrollTo=z8YCgJ8UILPn)\n",
        "\n"
      ],
      "metadata": {
        "colab_type": "toc",
        "id": "KdTE2n2c2v6z"
      },
      "id": "KdTE2n2c2v6z"
    },
    {
      "cell_type": "markdown",
      "source": [
        "# SpongeCode SquarePants"
      ],
      "metadata": {
        "id": "ZbyCI7OszN3l"
      },
      "id": "ZbyCI7OszN3l"
    },
    {
      "metadata": {
        "id": "60fbc0c3f365b428"
      },
      "cell_type": "markdown",
      "source": [
        "#### $250"
      ],
      "id": "60fbc0c3f365b428"
    },
    {
      "cell_type": "code",
      "source": [
        "# What is the output?\n",
        "\n",
        "a = [1, 2, 3]\n",
        "b = a\n",
        "a.append(4)\n",
        "b.append(5)\n",
        "print(b)\n"
      ],
      "metadata": {
        "colab": {
          "base_uri": "https://localhost:8080/"
        },
        "id": "cL9_-NVhGGTz",
        "outputId": "cf2745d3-7069-4c40-a9c2-41c0a4359b6c"
      },
      "id": "cL9_-NVhGGTz",
      "execution_count": 2,
      "outputs": [
        {
          "output_type": "stream",
          "name": "stdout",
          "text": [
            "[1, 2, 3, 4, 5]\n"
          ]
        }
      ]
    },
    {
      "cell_type": "markdown",
      "source": [
        "[Back to Questions](#scrollTo=g6dLm1Wv5yP6&line=1&uniqifier=1)"
      ],
      "metadata": {
        "id": "r6c7cIgz8cJz"
      },
      "id": "r6c7cIgz8cJz"
    },
    {
      "cell_type": "code",
      "source": [],
      "metadata": {
        "id": "12TZbjQV65nW"
      },
      "id": "12TZbjQV65nW",
      "execution_count": null,
      "outputs": []
    },
    {
      "cell_type": "code",
      "source": [],
      "metadata": {
        "id": "deoOvciF65ky"
      },
      "id": "deoOvciF65ky",
      "execution_count": null,
      "outputs": []
    },
    {
      "cell_type": "code",
      "source": [],
      "metadata": {
        "id": "j3R5rwpP65h0"
      },
      "id": "j3R5rwpP65h0",
      "execution_count": null,
      "outputs": []
    },
    {
      "cell_type": "code",
      "source": [],
      "metadata": {
        "id": "2EzE_e0n65eo"
      },
      "id": "2EzE_e0n65eo",
      "execution_count": null,
      "outputs": []
    },
    {
      "cell_type": "code",
      "source": [],
      "metadata": {
        "id": "R5aKPOSU65a_"
      },
      "id": "R5aKPOSU65a_",
      "execution_count": null,
      "outputs": []
    },
    {
      "cell_type": "code",
      "source": [],
      "metadata": {
        "id": "jxOzzP6e65V6"
      },
      "id": "jxOzzP6e65V6",
      "execution_count": null,
      "outputs": []
    },
    {
      "cell_type": "code",
      "source": [],
      "metadata": {
        "id": "2g_4XodX65Sc"
      },
      "id": "2g_4XodX65Sc",
      "execution_count": null,
      "outputs": []
    },
    {
      "metadata": {
        "id": "60af9d562d439df1"
      },
      "cell_type": "markdown",
      "source": [
        "#### $500"
      ],
      "id": "60af9d562d439df1"
    },
    {
      "cell_type": "code",
      "id": "4cc699d4",
      "metadata": {
        "jupyter": {
          "is_executing": true
        },
        "id": "4cc699d4",
        "colab": {
          "base_uri": "https://localhost:8080/"
        },
        "outputId": "bc9b4864-bb47-4f1a-eee9-3b54f2532680"
      },
      "source": [
        "# Assuming x is an integer, what best describes what the following function, decide, does?\n",
        "\n",
        "def decide(x):\n",
        "    if x % 1 == 0:\n",
        "        return 1\n",
        "    if x % 2 == 0:\n",
        "        return 2\n",
        "    if x % 3 == 0:\n",
        "        return 3\n",
        "\n",
        "decide(10), decide(12), decide(5)\n",
        "\n",
        "\n",
        "# (i) returns 1\n",
        "\n",
        "# (ii) returns 1, 2, and 3\n",
        "\n",
        "# (iii) returns x if x is equal to 1, 2, or 3\n",
        "\n",
        "# (iv) returns x if x is divisible by 1, 2, or 3\n",
        "\n",
        "# (v) returns 1, 2, or 3, whichever is the largest factor of x"
      ],
      "outputs": [
        {
          "output_type": "execute_result",
          "data": {
            "text/plain": [
              "(1, 1, 1)"
            ]
          },
          "metadata": {},
          "execution_count": 7
        }
      ],
      "execution_count": 7
    },
    {
      "cell_type": "markdown",
      "source": [
        "[Back to Questions](#scrollTo=g6dLm1Wv5yP6&line=1&uniqifier=1)"
      ],
      "metadata": {
        "id": "Afck6Lsa9Jmm"
      },
      "id": "Afck6Lsa9Jmm"
    },
    {
      "cell_type": "code",
      "source": [],
      "metadata": {
        "id": "KJQbpuNs66h1"
      },
      "id": "KJQbpuNs66h1",
      "execution_count": null,
      "outputs": []
    },
    {
      "cell_type": "code",
      "source": [],
      "metadata": {
        "id": "cawO1feb66fq"
      },
      "id": "cawO1feb66fq",
      "execution_count": null,
      "outputs": []
    },
    {
      "cell_type": "code",
      "source": [],
      "metadata": {
        "id": "A8-Os3dZ66cp"
      },
      "id": "A8-Os3dZ66cp",
      "execution_count": null,
      "outputs": []
    },
    {
      "cell_type": "code",
      "source": [],
      "metadata": {
        "id": "3i9v8-0566aa"
      },
      "id": "3i9v8-0566aa",
      "execution_count": null,
      "outputs": []
    },
    {
      "cell_type": "code",
      "source": [],
      "metadata": {
        "id": "0rV6zYkL66Xx"
      },
      "id": "0rV6zYkL66Xx",
      "execution_count": null,
      "outputs": []
    },
    {
      "cell_type": "code",
      "source": [],
      "metadata": {
        "id": "jJwcagTn66VW"
      },
      "id": "jJwcagTn66VW",
      "execution_count": null,
      "outputs": []
    },
    {
      "cell_type": "code",
      "source": [],
      "metadata": {
        "id": "TJMiNO9466S4"
      },
      "id": "TJMiNO9466S4",
      "execution_count": null,
      "outputs": []
    },
    {
      "cell_type": "code",
      "source": [],
      "metadata": {
        "id": "yyu_03-J66QU"
      },
      "id": "yyu_03-J66QU",
      "execution_count": null,
      "outputs": []
    },
    {
      "cell_type": "markdown",
      "source": [
        "#### $ 750"
      ],
      "metadata": {
        "id": "ifyKll2lJnTp"
      },
      "id": "ifyKll2lJnTp"
    },
    {
      "cell_type": "code",
      "source": [
        "# What is the output?\n",
        "\n",
        "def fun1_iterative(n):\n",
        "    while n >= 10:\n",
        "        print(n)\n",
        "        n //= 10\n",
        "    print(n)\n",
        "\n",
        "fun1_iterative(1000)\n"
      ],
      "metadata": {
        "colab": {
          "base_uri": "https://localhost:8080/"
        },
        "id": "ZxF3GvM8Joix",
        "outputId": "1a53fdff-fadc-4a68-a0a8-d804da2e43cf"
      },
      "id": "ZxF3GvM8Joix",
      "execution_count": 44,
      "outputs": [
        {
          "output_type": "stream",
          "name": "stdout",
          "text": [
            "1000\n",
            "100\n",
            "10\n",
            "1\n"
          ]
        }
      ]
    },
    {
      "cell_type": "markdown",
      "source": [
        "[Back to Questions](#scrollTo=g6dLm1Wv5yP6&line=1&uniqifier=1)"
      ],
      "metadata": {
        "id": "OiP6vz9bwF-k"
      },
      "id": "OiP6vz9bwF-k"
    },
    {
      "cell_type": "code",
      "source": [],
      "metadata": {
        "id": "r3ba-T_567fl"
      },
      "id": "r3ba-T_567fl",
      "execution_count": null,
      "outputs": []
    },
    {
      "cell_type": "code",
      "source": [],
      "metadata": {
        "id": "S5JdpL1t67dI"
      },
      "id": "S5JdpL1t67dI",
      "execution_count": null,
      "outputs": []
    },
    {
      "cell_type": "code",
      "source": [],
      "metadata": {
        "id": "eXU36lQt67ap"
      },
      "id": "eXU36lQt67ap",
      "execution_count": null,
      "outputs": []
    },
    {
      "cell_type": "code",
      "source": [],
      "metadata": {
        "id": "wt950A_n67YO"
      },
      "id": "wt950A_n67YO",
      "execution_count": null,
      "outputs": []
    },
    {
      "cell_type": "code",
      "source": [],
      "metadata": {
        "id": "xUzMvO-p67V0"
      },
      "id": "xUzMvO-p67V0",
      "execution_count": null,
      "outputs": []
    },
    {
      "cell_type": "code",
      "source": [],
      "metadata": {
        "id": "BczmKsHt67TG"
      },
      "id": "BczmKsHt67TG",
      "execution_count": null,
      "outputs": []
    },
    {
      "cell_type": "code",
      "source": [],
      "metadata": {
        "id": "GetMBj8U67Qq"
      },
      "id": "GetMBj8U67Qq",
      "execution_count": null,
      "outputs": []
    },
    {
      "metadata": {
        "id": "b5342f01c93fc59d"
      },
      "cell_type": "markdown",
      "source": [
        "#### $1000"
      ],
      "id": "b5342f01c93fc59d"
    },
    {
      "cell_type": "code",
      "source": [
        "# What is the output?\n",
        "\n",
        "number_list = [40, 60, 80, 100, 120]\n",
        "\n",
        "def calculator(s):\n",
        "    \"(list) -> list\"\n",
        "    divisor = len(s)\n",
        "    new_list = [50, 70]\n",
        "    i = 0\n",
        "\n",
        "    while i < 4:\n",
        "        value = s[i] / divisor\n",
        "        new_list.append(s[i])\n",
        "        i += 1\n",
        "\n",
        "    return new_list\n",
        "\n",
        "print(calculator(number_list))"
      ],
      "metadata": {
        "id": "o6m2RD-A_fQP",
        "colab": {
          "base_uri": "https://localhost:8080/"
        },
        "outputId": "18054fb7-1ce9-4ba8-ff87-12d3d003758f"
      },
      "id": "o6m2RD-A_fQP",
      "execution_count": 1,
      "outputs": [
        {
          "output_type": "stream",
          "name": "stdout",
          "text": [
            "[50, 70, 40, 60, 80, 100]\n"
          ]
        }
      ]
    },
    {
      "cell_type": "markdown",
      "source": [
        "[Back to Questions](#scrollTo=g6dLm1Wv5yP6&line=1&uniqifier=1)"
      ],
      "metadata": {
        "id": "Fo5HQCe_9LZJ"
      },
      "id": "Fo5HQCe_9LZJ"
    },
    {
      "cell_type": "code",
      "source": [],
      "metadata": {
        "id": "4-49O_bF68VL"
      },
      "id": "4-49O_bF68VL",
      "execution_count": null,
      "outputs": []
    },
    {
      "cell_type": "code",
      "source": [],
      "metadata": {
        "id": "rSAA6EQm68Sp"
      },
      "id": "rSAA6EQm68Sp",
      "execution_count": null,
      "outputs": []
    },
    {
      "cell_type": "code",
      "source": [],
      "metadata": {
        "id": "rM7STqwh68QP"
      },
      "id": "rM7STqwh68QP",
      "execution_count": null,
      "outputs": []
    },
    {
      "cell_type": "code",
      "source": [],
      "metadata": {
        "id": "NftkWlbk68N5"
      },
      "id": "NftkWlbk68N5",
      "execution_count": null,
      "outputs": []
    },
    {
      "cell_type": "code",
      "source": [],
      "metadata": {
        "id": "own2CNdu68Ln"
      },
      "id": "own2CNdu68Ln",
      "execution_count": null,
      "outputs": []
    },
    {
      "cell_type": "code",
      "source": [],
      "metadata": {
        "id": "nC8Ma2B068I0"
      },
      "id": "nC8Ma2B068I0",
      "execution_count": null,
      "outputs": []
    },
    {
      "cell_type": "code",
      "source": [],
      "metadata": {
        "id": "Nhylacy768Gc"
      },
      "id": "Nhylacy768Gc",
      "execution_count": null,
      "outputs": []
    },
    {
      "cell_type": "code",
      "source": [],
      "metadata": {
        "id": "i40vBRru68EO"
      },
      "id": "i40vBRru68EO",
      "execution_count": null,
      "outputs": []
    },
    {
      "cell_type": "code",
      "source": [],
      "metadata": {
        "id": "1Pk1t6s-68Bf"
      },
      "id": "1Pk1t6s-68Bf",
      "execution_count": null,
      "outputs": []
    },
    {
      "cell_type": "markdown",
      "source": [
        "\n",
        "\n",
        "---\n",
        "\n",
        "\n",
        "# Scooby-Doocode"
      ],
      "metadata": {
        "id": "kCUUfYfbzsJS"
      },
      "id": "kCUUfYfbzsJS"
    },
    {
      "metadata": {
        "id": "db1cf9f9c738992b"
      },
      "cell_type": "markdown",
      "source": [
        "#### $250"
      ],
      "id": "db1cf9f9c738992b"
    },
    {
      "cell_type": "code",
      "id": "6b25f173",
      "metadata": {
        "jupyter": {
          "is_executing": true
        },
        "id": "6b25f173"
      },
      "source": [
        "# What's the missing line here to get the below output?\n",
        "# Tina\n",
        "# Sue\n",
        "# Brad\n",
        "\n",
        "names = ['Tina', 'Sue', 'Brad']\n",
        "myfile = open(\"names.txt\", \"w\")\n",
        "\n",
        "for item in names:\n",
        "    # ??? ← Missing line goes here\n",
        "    myfile.write(item + \"\\n\")\n",
        "\n",
        "myfile.close()"
      ],
      "outputs": [],
      "execution_count": 46
    },
    {
      "cell_type": "code",
      "source": [],
      "metadata": {
        "id": "CUmvA9hf6-QG"
      },
      "id": "CUmvA9hf6-QG",
      "execution_count": null,
      "outputs": []
    },
    {
      "cell_type": "code",
      "source": [],
      "metadata": {
        "id": "vUv3rvOk6-No"
      },
      "id": "vUv3rvOk6-No",
      "execution_count": null,
      "outputs": []
    },
    {
      "cell_type": "code",
      "source": [],
      "metadata": {
        "id": "7VBJOjyo6-K-"
      },
      "id": "7VBJOjyo6-K-",
      "execution_count": null,
      "outputs": []
    },
    {
      "cell_type": "code",
      "source": [],
      "metadata": {
        "id": "1oCATSKK6-ID"
      },
      "id": "1oCATSKK6-ID",
      "execution_count": null,
      "outputs": []
    },
    {
      "cell_type": "code",
      "source": [],
      "metadata": {
        "id": "1NzRe1Qk6-FZ"
      },
      "id": "1NzRe1Qk6-FZ",
      "execution_count": null,
      "outputs": []
    },
    {
      "cell_type": "code",
      "source": [],
      "metadata": {
        "id": "CRbMuT326-Cm"
      },
      "id": "CRbMuT326-Cm",
      "execution_count": null,
      "outputs": []
    },
    {
      "cell_type": "code",
      "source": [],
      "metadata": {
        "id": "30fBlFtu69_5"
      },
      "id": "30fBlFtu69_5",
      "execution_count": null,
      "outputs": []
    },
    {
      "cell_type": "markdown",
      "source": [
        "[Back to Questions](#scrollTo=g6dLm1Wv5yP6&line=1&uniqifier=1)"
      ],
      "metadata": {
        "id": "oPP_cZKMIT9K"
      },
      "id": "oPP_cZKMIT9K"
    },
    {
      "metadata": {
        "id": "81d24583a78e8ce7"
      },
      "cell_type": "markdown",
      "source": [
        "#### $500"
      ],
      "id": "81d24583a78e8ce7"
    },
    {
      "cell_type": "code",
      "source": [
        "import csv\n",
        "\n",
        "data = [\n",
        "    ['APS111', '04', '20', '2017', '9:30'],\n",
        "    ['APS111', '04', '20', '2017', '2:00'],\n",
        "    ['APS164', '04', '18', '2017', '9:30']\n",
        "]\n",
        "\n",
        "with open('test.csv', 'w', newline='') as f:\n",
        "    writer = csv.writer(f)\n",
        "    writer.writerows(data)\n"
      ],
      "metadata": {
        "id": "ncPRYVYZDhST"
      },
      "id": "ncPRYVYZDhST",
      "execution_count": 3,
      "outputs": []
    },
    {
      "metadata": {
        "id": "2c4d67eda01e802f",
        "colab": {
          "base_uri": "https://localhost:8080/"
        },
        "outputId": "93a8f774-a860-4c53-f75b-b1a6f64f99fb"
      },
      "cell_type": "code",
      "outputs": [
        {
          "output_type": "stream",
          "name": "stdout",
          "text": [
            "APS111 exam on 20th at 9:30\n",
            "APS111 exam on 20th at 2:00\n",
            "APS164 exam on 18th at 9:30\n"
          ]
        }
      ],
      "execution_count": 4,
      "source": [
        "# What will be the output?\n",
        "\n",
        "import csv\n",
        "\n",
        "with open('test.csv', newline='') as csvfile:\n",
        "    filereader = csv.reader(csvfile)\n",
        "    for row in filereader:\n",
        "        print(row[0] + ' exam on ' + row[2] + 'th at ' + row[-1])\n"
      ],
      "id": "2c4d67eda01e802f"
    },
    {
      "cell_type": "code",
      "source": [],
      "metadata": {
        "id": "e3lwk0aQ7AbV"
      },
      "id": "e3lwk0aQ7AbV",
      "execution_count": null,
      "outputs": []
    },
    {
      "cell_type": "code",
      "source": [],
      "metadata": {
        "id": "LdqpaJj47AY3"
      },
      "id": "LdqpaJj47AY3",
      "execution_count": null,
      "outputs": []
    },
    {
      "cell_type": "code",
      "source": [],
      "metadata": {
        "id": "ab-wTGDS7AWU"
      },
      "id": "ab-wTGDS7AWU",
      "execution_count": null,
      "outputs": []
    },
    {
      "cell_type": "code",
      "source": [],
      "metadata": {
        "id": "84Z_dwpR7ATw"
      },
      "id": "84Z_dwpR7ATw",
      "execution_count": null,
      "outputs": []
    },
    {
      "cell_type": "code",
      "source": [],
      "metadata": {
        "id": "fy-2Ahpc7ART"
      },
      "id": "fy-2Ahpc7ART",
      "execution_count": null,
      "outputs": []
    },
    {
      "cell_type": "code",
      "source": [],
      "metadata": {
        "id": "od3TP-Qe7AOz"
      },
      "id": "od3TP-Qe7AOz",
      "execution_count": null,
      "outputs": []
    },
    {
      "cell_type": "code",
      "source": [],
      "metadata": {
        "id": "s3wRlJaW7AMV"
      },
      "id": "s3wRlJaW7AMV",
      "execution_count": null,
      "outputs": []
    },
    {
      "cell_type": "code",
      "source": [],
      "metadata": {
        "id": "Bz-_vhGn7AJt"
      },
      "id": "Bz-_vhGn7AJt",
      "execution_count": null,
      "outputs": []
    },
    {
      "cell_type": "code",
      "source": [],
      "metadata": {
        "id": "CQLbtLUX7AHC"
      },
      "id": "CQLbtLUX7AHC",
      "execution_count": null,
      "outputs": []
    },
    {
      "cell_type": "markdown",
      "source": [
        "[Back to Questions](#scrollTo=g6dLm1Wv5yP6&line=1&uniqifier=1)"
      ],
      "metadata": {
        "id": "42tC0pbxIUUJ"
      },
      "id": "42tC0pbxIUUJ"
    },
    {
      "cell_type": "markdown",
      "source": [
        "#### $750"
      ],
      "metadata": {
        "id": "ZFvTulDkDJwF"
      },
      "id": "ZFvTulDkDJwF"
    },
    {
      "cell_type": "code",
      "source": [
        "# What will be the output?\n",
        "\n",
        "for i in range(5):\n",
        "    if i % 2 == 0:\n",
        "        file = open('my_file.txt', 'w')\n",
        "        file.write('Seb')\n",
        "    else:\n",
        "        file = open('my_file.txt', 'a')\n",
        "        file.write('Seb')\n",
        "    file.close()\n",
        "\n",
        "file = open('my_file.txt', 'r')\n",
        "print(file.read())"
      ],
      "metadata": {
        "colab": {
          "base_uri": "https://localhost:8080/"
        },
        "id": "bs-LcHAiDI2J",
        "outputId": "7687c3c4-e439-48b6-ba67-7fd42360a61c"
      },
      "id": "bs-LcHAiDI2J",
      "execution_count": 18,
      "outputs": [
        {
          "output_type": "stream",
          "name": "stdout",
          "text": [
            "Seb\n"
          ]
        }
      ]
    },
    {
      "cell_type": "markdown",
      "source": [
        "[Back to Questions](#scrollTo=g6dLm1Wv5yP6&line=1&uniqifier=1)"
      ],
      "metadata": {
        "id": "u1V71y597Dsa"
      },
      "id": "u1V71y597Dsa"
    },
    {
      "cell_type": "code",
      "source": [],
      "metadata": {
        "id": "QMXEZ2wK7ByG"
      },
      "id": "QMXEZ2wK7ByG",
      "execution_count": null,
      "outputs": []
    },
    {
      "cell_type": "code",
      "source": [],
      "metadata": {
        "id": "yY23z82K7BvG"
      },
      "id": "yY23z82K7BvG",
      "execution_count": null,
      "outputs": []
    },
    {
      "cell_type": "code",
      "source": [],
      "metadata": {
        "id": "6AjpUjwb7Bsi"
      },
      "id": "6AjpUjwb7Bsi",
      "execution_count": null,
      "outputs": []
    },
    {
      "cell_type": "code",
      "source": [],
      "metadata": {
        "id": "iremJ4di7Bp6"
      },
      "id": "iremJ4di7Bp6",
      "execution_count": null,
      "outputs": []
    },
    {
      "cell_type": "code",
      "source": [],
      "metadata": {
        "id": "0uvkH56g7BnV"
      },
      "id": "0uvkH56g7BnV",
      "execution_count": null,
      "outputs": []
    },
    {
      "cell_type": "code",
      "source": [],
      "metadata": {
        "id": "9IZeC6zA7Bkw"
      },
      "id": "9IZeC6zA7Bkw",
      "execution_count": null,
      "outputs": []
    },
    {
      "cell_type": "code",
      "source": [],
      "metadata": {
        "id": "H5W3pQgr7BiS"
      },
      "id": "H5W3pQgr7BiS",
      "execution_count": null,
      "outputs": []
    },
    {
      "cell_type": "code",
      "source": [],
      "metadata": {
        "id": "zsvoF4qq7Bfq"
      },
      "id": "zsvoF4qq7Bfq",
      "execution_count": null,
      "outputs": []
    },
    {
      "cell_type": "code",
      "source": [],
      "metadata": {
        "id": "Od66nQms7BdA"
      },
      "id": "Od66nQms7BdA",
      "execution_count": null,
      "outputs": []
    },
    {
      "metadata": {
        "id": "908f98546dfcfe56"
      },
      "cell_type": "markdown",
      "source": [
        "#### $1000"
      ],
      "id": "908f98546dfcfe56"
    },
    {
      "cell_type": "markdown",
      "source": [
        "Is the output of the below codes same?"
      ],
      "metadata": {
        "id": "3_6KAt4hNcWk"
      },
      "id": "3_6KAt4hNcWk"
    },
    {
      "cell_type": "code",
      "source": [
        "x = 'abcdef'\n",
        "i = 'a'\n",
        "\n",
        "# Question 1\n",
        "while i in x:\n",
        "    x = x[:-1]\n",
        "    print(i, end = ' ')\n"
      ],
      "metadata": {
        "colab": {
          "base_uri": "https://localhost:8080/"
        },
        "id": "07EElzc3Mkwg",
        "outputId": "a3435dab-e7e4-4a6c-b709-e09fb02fbaf8"
      },
      "id": "07EElzc3Mkwg",
      "execution_count": 60,
      "outputs": [
        {
          "output_type": "stream",
          "name": "stdout",
          "text": [
            "a a a a a a "
          ]
        }
      ]
    },
    {
      "cell_type": "code",
      "source": [
        "x = 'abcdef'\n",
        "i = 'a'\n",
        "\n",
        "# Question 2\n",
        "while i in x[:-1]:\n",
        "    print(i, end = ' ')"
      ],
      "metadata": {
        "id": "20Cnqji8Nbas"
      },
      "id": "20Cnqji8Nbas",
      "execution_count": null,
      "outputs": []
    },
    {
      "cell_type": "markdown",
      "source": [
        "[Back to Questions](#scrollTo=g6dLm1Wv5yP6&line=1&uniqifier=1)"
      ],
      "metadata": {
        "id": "7o4UihUoHbDb"
      },
      "id": "7o4UihUoHbDb"
    },
    {
      "cell_type": "code",
      "source": [],
      "metadata": {
        "id": "XCfa6ON27E62"
      },
      "id": "XCfa6ON27E62",
      "execution_count": null,
      "outputs": []
    },
    {
      "cell_type": "code",
      "source": [],
      "metadata": {
        "id": "qr_cM2397E4Y"
      },
      "id": "qr_cM2397E4Y",
      "execution_count": null,
      "outputs": []
    },
    {
      "cell_type": "code",
      "source": [],
      "metadata": {
        "id": "Y0kSbsDr7E19"
      },
      "id": "Y0kSbsDr7E19",
      "execution_count": null,
      "outputs": []
    },
    {
      "cell_type": "code",
      "source": [],
      "metadata": {
        "id": "whK2L_Z07Ezd"
      },
      "id": "whK2L_Z07Ezd",
      "execution_count": null,
      "outputs": []
    },
    {
      "cell_type": "code",
      "source": [],
      "metadata": {
        "id": "1w93WwGL7Ew9"
      },
      "id": "1w93WwGL7Ew9",
      "execution_count": null,
      "outputs": []
    },
    {
      "cell_type": "code",
      "source": [],
      "metadata": {
        "id": "TDAHPDpr7Eus"
      },
      "id": "TDAHPDpr7Eus",
      "execution_count": null,
      "outputs": []
    },
    {
      "cell_type": "code",
      "source": [],
      "metadata": {
        "id": "qQYi6LFi7EsC"
      },
      "id": "qQYi6LFi7EsC",
      "execution_count": null,
      "outputs": []
    },
    {
      "cell_type": "code",
      "source": [],
      "metadata": {
        "id": "i5fVG-y77Epb"
      },
      "id": "i5fVG-y77Epb",
      "execution_count": null,
      "outputs": []
    },
    {
      "cell_type": "markdown",
      "source": [
        "\n",
        "\n",
        "---\n",
        "\n",
        "\n",
        "# Codeball Z"
      ],
      "metadata": {
        "id": "2pesKr50zzax"
      },
      "id": "2pesKr50zzax"
    },
    {
      "metadata": {
        "id": "1716b911a1689147"
      },
      "cell_type": "markdown",
      "source": [
        "#### $250"
      ],
      "id": "1716b911a1689147"
    },
    {
      "cell_type": "code",
      "source": [
        "# What is the output?\n",
        "\n",
        "d = {\"a\": 1, \"b\": 2}\n",
        "print(d.get(\"c\", d.get(\"a\") + d.get(\"b\")))"
      ],
      "metadata": {
        "colab": {
          "base_uri": "https://localhost:8080/"
        },
        "id": "s3P4bezRH431",
        "outputId": "3d8a1f16-5315-4465-b7b0-5c2916567246"
      },
      "id": "s3P4bezRH431",
      "execution_count": 50,
      "outputs": [
        {
          "output_type": "stream",
          "name": "stdout",
          "text": [
            "3\n"
          ]
        }
      ]
    },
    {
      "cell_type": "code",
      "source": [
        "x = {\"apple\", \"banana\", \"carrot\"}\n",
        "y = {\"carrot\", \"eggplant\", \"fish\"}\n",
        "z = {\"fish\", \"grapes\", \"carrot\"}\n",
        "\n",
        "result = y.intersection(z)\n",
        "\n",
        "print(result)\n"
      ],
      "metadata": {
        "colab": {
          "base_uri": "https://localhost:8080/"
        },
        "id": "Coqyx_Ptz7QH",
        "outputId": "b624ac15-a370-40b9-9d08-0a4c7aed7832"
      },
      "id": "Coqyx_Ptz7QH",
      "execution_count": 5,
      "outputs": [
        {
          "output_type": "stream",
          "name": "stdout",
          "text": [
            "{'fish', 'carrot'}\n"
          ]
        }
      ]
    },
    {
      "cell_type": "markdown",
      "source": [
        "[Back to Questions](#scrollTo=g6dLm1Wv5yP6&line=1&uniqifier=1)"
      ],
      "metadata": {
        "id": "iKN-D-rLJJ6J"
      },
      "id": "iKN-D-rLJJ6J"
    },
    {
      "cell_type": "code",
      "source": [],
      "metadata": {
        "id": "lUE6XRRJ7HRH"
      },
      "id": "lUE6XRRJ7HRH",
      "execution_count": null,
      "outputs": []
    },
    {
      "cell_type": "code",
      "source": [],
      "metadata": {
        "id": "QuEQUH8g7HOm"
      },
      "id": "QuEQUH8g7HOm",
      "execution_count": null,
      "outputs": []
    },
    {
      "cell_type": "code",
      "source": [],
      "metadata": {
        "id": "GwYlGn0N7HME"
      },
      "id": "GwYlGn0N7HME",
      "execution_count": null,
      "outputs": []
    },
    {
      "cell_type": "code",
      "source": [],
      "metadata": {
        "id": "lPHaXhwk7HJd"
      },
      "id": "lPHaXhwk7HJd",
      "execution_count": null,
      "outputs": []
    },
    {
      "cell_type": "code",
      "source": [],
      "metadata": {
        "id": "N9Dh8DgB7HG8"
      },
      "id": "N9Dh8DgB7HG8",
      "execution_count": null,
      "outputs": []
    },
    {
      "cell_type": "code",
      "source": [],
      "metadata": {
        "id": "gd50Pa177HEa"
      },
      "id": "gd50Pa177HEa",
      "execution_count": null,
      "outputs": []
    },
    {
      "cell_type": "code",
      "source": [],
      "metadata": {
        "id": "ouD6VTWq7HB6"
      },
      "id": "ouD6VTWq7HB6",
      "execution_count": null,
      "outputs": []
    },
    {
      "cell_type": "code",
      "source": [],
      "metadata": {
        "id": "GJA4vFOr7G_a"
      },
      "id": "GJA4vFOr7G_a",
      "execution_count": null,
      "outputs": []
    },
    {
      "metadata": {
        "id": "bcded41764f4fd29"
      },
      "cell_type": "markdown",
      "source": [
        "#### $500"
      ],
      "id": "bcded41764f4fd29"
    },
    {
      "cell_type": "code",
      "execution_count": 25,
      "id": "9abcb1bc",
      "metadata": {
        "id": "9abcb1bc",
        "colab": {
          "base_uri": "https://localhost:8080/"
        },
        "outputId": "c47b4b3c-1ef4-40e6-e282-09d544d294c6"
      },
      "outputs": [
        {
          "output_type": "stream",
          "name": "stdout",
          "text": [
            "]3 ,2[4lle\n"
          ]
        }
      ],
      "source": [
        "# What is the output?\n",
        "\n",
        "my_string = \"hello\"\n",
        "my_list = [1, 2, 3, 4, 5]\n",
        "\n",
        "result = my_string[1:4] + str(my_list[-2]) + str(my_list[1:3])\n",
        "print(result[::-1])"
      ]
    },
    {
      "cell_type": "markdown",
      "source": [
        "[Back to Questions](#scrollTo=g6dLm1Wv5yP6&line=1&uniqifier=1)"
      ],
      "metadata": {
        "id": "5hK9tcJrJI60"
      },
      "id": "5hK9tcJrJI60"
    },
    {
      "cell_type": "code",
      "source": [],
      "metadata": {
        "id": "QJujUrIG7IyD"
      },
      "id": "QJujUrIG7IyD",
      "execution_count": null,
      "outputs": []
    },
    {
      "cell_type": "code",
      "source": [],
      "metadata": {
        "id": "x3DocZtY7IvQ"
      },
      "id": "x3DocZtY7IvQ",
      "execution_count": null,
      "outputs": []
    },
    {
      "cell_type": "code",
      "source": [],
      "metadata": {
        "id": "18zVTK047Isb"
      },
      "id": "18zVTK047Isb",
      "execution_count": null,
      "outputs": []
    },
    {
      "cell_type": "code",
      "source": [],
      "metadata": {
        "id": "0MlI2HVK7Ipm"
      },
      "id": "0MlI2HVK7Ipm",
      "execution_count": null,
      "outputs": []
    },
    {
      "cell_type": "code",
      "source": [],
      "metadata": {
        "id": "KpvJHoxO7Imm"
      },
      "id": "KpvJHoxO7Imm",
      "execution_count": null,
      "outputs": []
    },
    {
      "cell_type": "code",
      "source": [],
      "metadata": {
        "id": "5B5YYArQ7Ij9"
      },
      "id": "5B5YYArQ7Ij9",
      "execution_count": null,
      "outputs": []
    },
    {
      "cell_type": "code",
      "source": [],
      "metadata": {
        "id": "7-MvXWfR7IhF"
      },
      "id": "7-MvXWfR7IhF",
      "execution_count": null,
      "outputs": []
    },
    {
      "cell_type": "markdown",
      "source": [
        "#### $ 750"
      ],
      "metadata": {
        "id": "qLGaoCGjEezf"
      },
      "id": "qLGaoCGjEezf"
    },
    {
      "cell_type": "code",
      "source": [
        "x = [1, 2]\n",
        "y = (x, x)\n",
        "x.append(3)\n",
        "print(y)\n",
        "\n",
        "\n",
        "# A. ([1, 2, 3], [1, 2, 3])\n",
        "# B. ([1, 2], [1, 2])\n",
        "# C. ([1, 2, 3], [1, 2])\n",
        "# D. ([1, 2], [1, 2, 3])"
      ],
      "metadata": {
        "colab": {
          "base_uri": "https://localhost:8080/"
        },
        "id": "DNeDggVOEFoi",
        "outputId": "3377c385-cce1-413c-9f76-792dc061b1e9"
      },
      "id": "DNeDggVOEFoi",
      "execution_count": 23,
      "outputs": [
        {
          "output_type": "stream",
          "name": "stdout",
          "text": [
            "([1, 2, 3], [1, 2, 3])\n"
          ]
        }
      ]
    },
    {
      "cell_type": "markdown",
      "source": [
        "[Back to Questions](#scrollTo=g6dLm1Wv5yP6&line=1&uniqifier=1)"
      ],
      "metadata": {
        "id": "dLvMW3vM7J6M"
      },
      "id": "dLvMW3vM7J6M"
    },
    {
      "cell_type": "code",
      "source": [],
      "metadata": {
        "id": "kViWrnzx7Kil"
      },
      "id": "kViWrnzx7Kil",
      "execution_count": null,
      "outputs": []
    },
    {
      "cell_type": "code",
      "source": [],
      "metadata": {
        "id": "-YKHCQzR7Kfk"
      },
      "id": "-YKHCQzR7Kfk",
      "execution_count": null,
      "outputs": []
    },
    {
      "cell_type": "code",
      "source": [],
      "metadata": {
        "id": "DMJNEvD77Kc0"
      },
      "id": "DMJNEvD77Kc0",
      "execution_count": null,
      "outputs": []
    },
    {
      "cell_type": "code",
      "source": [],
      "metadata": {
        "id": "FCdL-i2_7KZ_"
      },
      "id": "FCdL-i2_7KZ_",
      "execution_count": null,
      "outputs": []
    },
    {
      "cell_type": "code",
      "source": [],
      "metadata": {
        "id": "-5qNzaRc7KW5"
      },
      "id": "-5qNzaRc7KW5",
      "execution_count": null,
      "outputs": []
    },
    {
      "cell_type": "code",
      "source": [],
      "metadata": {
        "id": "Jr6FktxG7KT8"
      },
      "id": "Jr6FktxG7KT8",
      "execution_count": null,
      "outputs": []
    },
    {
      "cell_type": "code",
      "source": [],
      "metadata": {
        "id": "mvwSVP1b7KRD"
      },
      "id": "mvwSVP1b7KRD",
      "execution_count": null,
      "outputs": []
    },
    {
      "cell_type": "code",
      "source": [],
      "metadata": {
        "id": "VhZF6-F07KOE"
      },
      "id": "VhZF6-F07KOE",
      "execution_count": null,
      "outputs": []
    },
    {
      "metadata": {
        "id": "b8f2ec1341fc783e"
      },
      "cell_type": "markdown",
      "source": [
        "#### $1000"
      ],
      "id": "b8f2ec1341fc783e"
    },
    {
      "metadata": {
        "jupyter": {
          "is_executing": true
        },
        "collapsed": true,
        "id": "7e809e7a01fb95cc",
        "colab": {
          "base_uri": "https://localhost:8080/"
        },
        "outputId": "ecb8abaa-ed4f-475b-8b54-21056b84e258"
      },
      "cell_type": "code",
      "source": [
        "# What's the output?\n",
        "\n",
        "message = \"Hi!\"\n",
        "indices = [0, 2]\n",
        "\n",
        "my_map = {}\n",
        "for idx in indices:\n",
        "    my_map[idx] = message[idx]\n",
        "\n",
        "for idx in range(len(message)):\n",
        "    print(idx, end=\" \")\n",
        "    if idx in my_map:\n",
        "        print(my_map[idx])\n",
        "    else:\n",
        "        print(\"N/A\")\n"
      ],
      "id": "7e809e7a01fb95cc",
      "outputs": [
        {
          "output_type": "stream",
          "name": "stdout",
          "text": [
            "0 H\n",
            "1 N/A\n",
            "2 !\n"
          ]
        }
      ],
      "execution_count": 26
    },
    {
      "cell_type": "markdown",
      "source": [
        "[Back to Questions](#scrollTo=g6dLm1Wv5yP6&line=1&uniqifier=1)"
      ],
      "metadata": {
        "id": "1iPN5QduJLnW"
      },
      "id": "1iPN5QduJLnW"
    },
    {
      "cell_type": "code",
      "source": [],
      "metadata": {
        "id": "eoJXWx2p7Lbt"
      },
      "id": "eoJXWx2p7Lbt",
      "execution_count": null,
      "outputs": []
    },
    {
      "cell_type": "code",
      "source": [],
      "metadata": {
        "id": "9kVugzQG7LY8"
      },
      "id": "9kVugzQG7LY8",
      "execution_count": null,
      "outputs": []
    },
    {
      "cell_type": "code",
      "source": [],
      "metadata": {
        "id": "CbScy27k7LWK"
      },
      "id": "CbScy27k7LWK",
      "execution_count": null,
      "outputs": []
    },
    {
      "cell_type": "code",
      "source": [],
      "metadata": {
        "id": "sGqgWR3l7LTU"
      },
      "id": "sGqgWR3l7LTU",
      "execution_count": null,
      "outputs": []
    },
    {
      "cell_type": "code",
      "source": [],
      "metadata": {
        "id": "HJBWRRne7LQf"
      },
      "id": "HJBWRRne7LQf",
      "execution_count": null,
      "outputs": []
    },
    {
      "cell_type": "code",
      "source": [],
      "metadata": {
        "id": "NP9w0qGX7LOA"
      },
      "id": "NP9w0qGX7LOA",
      "execution_count": null,
      "outputs": []
    },
    {
      "cell_type": "code",
      "source": [],
      "metadata": {
        "id": "nZiVophN7LK_"
      },
      "id": "nZiVophN7LK_",
      "execution_count": null,
      "outputs": []
    },
    {
      "cell_type": "code",
      "source": [],
      "metadata": {
        "id": "jj2Qhs5c7LIC"
      },
      "id": "jj2Qhs5c7LIC",
      "execution_count": null,
      "outputs": []
    },
    {
      "cell_type": "markdown",
      "source": [
        "\n",
        "\n",
        "---\n",
        "\n",
        "\n",
        "# The Simpsons.py"
      ],
      "metadata": {
        "id": "G1ttEqpPz3bY"
      },
      "id": "G1ttEqpPz3bY"
    },
    {
      "metadata": {
        "id": "706a38985873a9ea"
      },
      "cell_type": "markdown",
      "source": [
        "#### $250"
      ],
      "id": "706a38985873a9ea"
    },
    {
      "metadata": {
        "jupyter": {
          "is_executing": true
        },
        "id": "574809ddb519f9c4",
        "colab": {
          "base_uri": "https://localhost:8080/"
        },
        "outputId": "b3fc5106-5a87-4215-9647-36174221d242"
      },
      "cell_type": "code",
      "source": [
        "# What is the outcome of executing the code below?\n",
        "\n",
        "class Animal:\n",
        "    def __init__(self, name):\n",
        "        self.weight = 16\n",
        "        self.name = name\n",
        "        self.age = 10\n",
        "\n",
        "    def __str__(self):\n",
        "        return self.name + \" meows\"\n",
        "\n",
        "    def speak(self):\n",
        "        print(self.name + \" says hi\", end = '')\n",
        "        return 'skers'\n",
        "\n",
        "cat = Animal(\"Whiskers\")\n",
        "print(cat.speak())\n"
      ],
      "id": "574809ddb519f9c4",
      "outputs": [
        {
          "output_type": "stream",
          "name": "stdout",
          "text": [
            "Whiskers says hiskers\n"
          ]
        }
      ],
      "execution_count": 28
    },
    {
      "cell_type": "markdown",
      "source": [
        "[Back to Questions](#scrollTo=g6dLm1Wv5yP6&line=1&uniqifier=1)"
      ],
      "metadata": {
        "id": "sfBi7y0oJN1D"
      },
      "id": "sfBi7y0oJN1D"
    },
    {
      "cell_type": "code",
      "source": [],
      "metadata": {
        "id": "r-KPVaIQ7OGu"
      },
      "id": "r-KPVaIQ7OGu",
      "execution_count": null,
      "outputs": []
    },
    {
      "cell_type": "code",
      "source": [],
      "metadata": {
        "id": "yUjiUxWR7OD-"
      },
      "id": "yUjiUxWR7OD-",
      "execution_count": null,
      "outputs": []
    },
    {
      "cell_type": "code",
      "source": [],
      "metadata": {
        "id": "zY9LIfB_7OBL"
      },
      "id": "zY9LIfB_7OBL",
      "execution_count": null,
      "outputs": []
    },
    {
      "cell_type": "code",
      "source": [],
      "metadata": {
        "id": "DH2sI3Mn7N-k"
      },
      "id": "DH2sI3Mn7N-k",
      "execution_count": null,
      "outputs": []
    },
    {
      "cell_type": "code",
      "source": [],
      "metadata": {
        "id": "-6bzuviH7N7u"
      },
      "id": "-6bzuviH7N7u",
      "execution_count": null,
      "outputs": []
    },
    {
      "cell_type": "code",
      "source": [],
      "metadata": {
        "id": "WV3soiUA7N5L"
      },
      "id": "WV3soiUA7N5L",
      "execution_count": null,
      "outputs": []
    },
    {
      "cell_type": "code",
      "source": [],
      "metadata": {
        "id": "nhqcAfh97N2b"
      },
      "id": "nhqcAfh97N2b",
      "execution_count": null,
      "outputs": []
    },
    {
      "cell_type": "code",
      "source": [],
      "metadata": {
        "id": "KGvjWBVk7Nzu"
      },
      "id": "KGvjWBVk7Nzu",
      "execution_count": null,
      "outputs": []
    },
    {
      "metadata": {
        "id": "c6686c151de1ea2"
      },
      "cell_type": "markdown",
      "source": [
        "#### $500"
      ],
      "id": "c6686c151de1ea2"
    },
    {
      "metadata": {
        "jupyter": {
          "is_executing": true
        },
        "id": "597b6e97d4dab2a8",
        "colab": {
          "base_uri": "https://localhost:8080/"
        },
        "outputId": "3b418414-eee3-4b45-a621-d4242e321523"
      },
      "cell_type": "code",
      "source": [
        "# What is the output?\n",
        "\n",
        "class CityCounter:\n",
        "    def __init__(self, people):\n",
        "        self.people = people\n",
        "\n",
        "    def count_city(self, city_name):\n",
        "        count = 0\n",
        "        for person in self.people:\n",
        "            if person[2].lower() == city_name.lower():\n",
        "                count += 1\n",
        "        return count\n",
        "\n",
        "# Example data and usage\n",
        "people = [\n",
        "    (\"Alice\", \"Female\", \"London\"),\n",
        "    (\"Bob\", \"Male\", \"Paris\"),\n",
        "    (\"Charlie\", \"Male\", \"London\")\n",
        "]\n",
        "\n",
        "counter = CityCounter(people)\n",
        "print(\"People from London:\", counter.count_city(\"London\"))"
      ],
      "id": "597b6e97d4dab2a8",
      "outputs": [
        {
          "output_type": "stream",
          "name": "stdout",
          "text": [
            "People from London: 2\n"
          ]
        }
      ],
      "execution_count": 29
    },
    {
      "cell_type": "markdown",
      "source": [
        "[Back to Questions](#scrollTo=g6dLm1Wv5yP6&line=1&uniqifier=1)"
      ],
      "metadata": {
        "id": "vtt4INVbJPiM"
      },
      "id": "vtt4INVbJPiM"
    },
    {
      "cell_type": "code",
      "source": [],
      "metadata": {
        "id": "ZiE8qPlR7PXi"
      },
      "id": "ZiE8qPlR7PXi",
      "execution_count": null,
      "outputs": []
    },
    {
      "cell_type": "code",
      "source": [],
      "metadata": {
        "id": "B8TjJb9b7PUc"
      },
      "id": "B8TjJb9b7PUc",
      "execution_count": null,
      "outputs": []
    },
    {
      "cell_type": "code",
      "source": [],
      "metadata": {
        "id": "b3cVoXsX7PP6"
      },
      "id": "b3cVoXsX7PP6",
      "execution_count": null,
      "outputs": []
    },
    {
      "cell_type": "code",
      "source": [],
      "metadata": {
        "id": "3IpdaD217PKS"
      },
      "id": "3IpdaD217PKS",
      "execution_count": null,
      "outputs": []
    },
    {
      "cell_type": "code",
      "source": [],
      "metadata": {
        "id": "sjQiJCFP7PG7"
      },
      "id": "sjQiJCFP7PG7",
      "execution_count": null,
      "outputs": []
    },
    {
      "cell_type": "code",
      "source": [],
      "metadata": {
        "id": "5gWvRmk-7PEI"
      },
      "id": "5gWvRmk-7PEI",
      "execution_count": null,
      "outputs": []
    },
    {
      "cell_type": "code",
      "source": [],
      "metadata": {
        "id": "NNJGVpIP7PBL"
      },
      "id": "NNJGVpIP7PBL",
      "execution_count": null,
      "outputs": []
    },
    {
      "cell_type": "code",
      "source": [],
      "metadata": {
        "id": "f8L-GW7X7O9x"
      },
      "id": "f8L-GW7X7O9x",
      "execution_count": null,
      "outputs": []
    },
    {
      "cell_type": "markdown",
      "source": [
        "#### $750"
      ],
      "metadata": {
        "id": "rZVShIRlGB9O"
      },
      "id": "rZVShIRlGB9O"
    },
    {
      "cell_type": "code",
      "source": [
        "# What is the output?\n",
        "\n",
        "class Journey:\n",
        "    def __init__(self, origin, destination, duration):\n",
        "        self.origin = origin\n",
        "        self.destination = destination\n",
        "        self.duration = duration\n",
        "\n",
        "journeys = [Journey('X', 'Y', 2.5), Journey('Y', 'Z', 1.8)]\n",
        "\n",
        "times = []\n",
        "for journey in journeys:\n",
        "    times.append(journey.duration)\n",
        "\n",
        "times.sort()\n",
        "times.reverse()\n",
        "\n",
        "print(times[0], times[1], sep='!', end='!!')"
      ],
      "metadata": {
        "colab": {
          "base_uri": "https://localhost:8080/"
        },
        "id": "xOeRUcaDGDiB",
        "outputId": "af61e66d-b10d-4784-c4fd-b675b1c4d3dc"
      },
      "id": "xOeRUcaDGDiB",
      "execution_count": 30,
      "outputs": [
        {
          "output_type": "stream",
          "name": "stdout",
          "text": [
            "2.5!1.8!!"
          ]
        }
      ]
    },
    {
      "cell_type": "markdown",
      "source": [
        "[Back to Questions](#scrollTo=g6dLm1Wv5yP6&line=1&uniqifier=1)"
      ],
      "metadata": {
        "id": "PfPhtOFz7QLe"
      },
      "id": "PfPhtOFz7QLe"
    },
    {
      "cell_type": "code",
      "source": [],
      "metadata": {
        "id": "si7dKd2V7Qz6"
      },
      "id": "si7dKd2V7Qz6",
      "execution_count": null,
      "outputs": []
    },
    {
      "cell_type": "code",
      "source": [],
      "metadata": {
        "id": "JVOhb0_17Qw5"
      },
      "id": "JVOhb0_17Qw5",
      "execution_count": null,
      "outputs": []
    },
    {
      "cell_type": "code",
      "source": [],
      "metadata": {
        "id": "1mY0vM217Qt7"
      },
      "id": "1mY0vM217Qt7",
      "execution_count": null,
      "outputs": []
    },
    {
      "cell_type": "code",
      "source": [],
      "metadata": {
        "id": "bLP86S997Qq4"
      },
      "id": "bLP86S997Qq4",
      "execution_count": null,
      "outputs": []
    },
    {
      "cell_type": "code",
      "source": [],
      "metadata": {
        "id": "O7zXaCSo7Qn6"
      },
      "id": "O7zXaCSo7Qn6",
      "execution_count": null,
      "outputs": []
    },
    {
      "cell_type": "code",
      "source": [],
      "metadata": {
        "id": "L5yvVNp_7Qk2"
      },
      "id": "L5yvVNp_7Qk2",
      "execution_count": null,
      "outputs": []
    },
    {
      "cell_type": "code",
      "source": [],
      "metadata": {
        "id": "XQzClTDJ7Qhm"
      },
      "id": "XQzClTDJ7Qhm",
      "execution_count": null,
      "outputs": []
    },
    {
      "cell_type": "code",
      "source": [],
      "metadata": {
        "id": "do-Ifn7T7Qex"
      },
      "id": "do-Ifn7T7Qex",
      "execution_count": null,
      "outputs": []
    },
    {
      "cell_type": "code",
      "source": [],
      "metadata": {
        "id": "ImkjHo9r7Qbr"
      },
      "id": "ImkjHo9r7Qbr",
      "execution_count": null,
      "outputs": []
    },
    {
      "metadata": {
        "id": "45b8cf94db492a72"
      },
      "cell_type": "markdown",
      "source": [
        "#### $1000"
      ],
      "id": "45b8cf94db492a72"
    },
    {
      "cell_type": "code",
      "source": [
        "# What's the output?\n",
        "\n",
        "class Student_record:\n",
        "    def __init__(self, name, midterm=0, project=0, final=0):\n",
        "        self.name = name\n",
        "        self.grades = [midterm, project, final]\n",
        "\n",
        "    def remark(self, grade_component, number):\n",
        "        self.grades[grade_component] += number\n",
        "\n",
        "grade = 90\n",
        "sr = Student_record(\"Ana Rao\", grade, grade + 6, final = 90)\n",
        "sr.remark(1, 3)\n",
        "print(sum(sr.grades)/3)\n"
      ],
      "metadata": {
        "id": "qynUsaXWPtBx",
        "colab": {
          "base_uri": "https://localhost:8080/"
        },
        "outputId": "102a67b5-c170-4309-b14d-6c78926de54c"
      },
      "id": "qynUsaXWPtBx",
      "execution_count": 31,
      "outputs": [
        {
          "output_type": "stream",
          "name": "stdout",
          "text": [
            "93.0\n"
          ]
        }
      ]
    },
    {
      "cell_type": "markdown",
      "source": [
        "[Back to Questions](#scrollTo=g6dLm1Wv5yP6&line=1&uniqifier=1)"
      ],
      "metadata": {
        "id": "ORkJsYpAJR59"
      },
      "id": "ORkJsYpAJR59"
    },
    {
      "cell_type": "code",
      "source": [],
      "metadata": {
        "id": "dbV-1qkH7Rsj"
      },
      "id": "dbV-1qkH7Rsj",
      "execution_count": null,
      "outputs": []
    },
    {
      "cell_type": "code",
      "source": [],
      "metadata": {
        "id": "lQ7cRBvz7Rpv"
      },
      "id": "lQ7cRBvz7Rpv",
      "execution_count": null,
      "outputs": []
    },
    {
      "cell_type": "code",
      "source": [],
      "metadata": {
        "id": "iVCRp78J7Rmi"
      },
      "id": "iVCRp78J7Rmi",
      "execution_count": null,
      "outputs": []
    },
    {
      "cell_type": "code",
      "source": [],
      "metadata": {
        "id": "7qJ1eJE57Rjk"
      },
      "id": "7qJ1eJE57Rjk",
      "execution_count": null,
      "outputs": []
    },
    {
      "cell_type": "code",
      "source": [],
      "metadata": {
        "id": "G_R5sFi_7Rgg"
      },
      "id": "G_R5sFi_7Rgg",
      "execution_count": null,
      "outputs": []
    },
    {
      "cell_type": "code",
      "source": [],
      "metadata": {
        "id": "m5O6uq1i7Rds"
      },
      "id": "m5O6uq1i7Rds",
      "execution_count": null,
      "outputs": []
    },
    {
      "cell_type": "code",
      "source": [],
      "metadata": {
        "id": "DWAOCrtb7Ra7"
      },
      "id": "DWAOCrtb7Ra7",
      "execution_count": null,
      "outputs": []
    },
    {
      "cell_type": "code",
      "source": [],
      "metadata": {
        "id": "Tlv8Wb5u7RYA"
      },
      "id": "Tlv8Wb5u7RYA",
      "execution_count": null,
      "outputs": []
    },
    {
      "cell_type": "markdown",
      "source": [
        "\n",
        "\n",
        "---\n",
        "\n",
        "\n",
        "\n",
        "# Code Rangers"
      ],
      "metadata": {
        "id": "dsWr29Slz_FJ"
      },
      "id": "dsWr29Slz_FJ"
    },
    {
      "metadata": {
        "id": "93f463e693949a2a"
      },
      "cell_type": "markdown",
      "source": [
        "#### $250"
      ],
      "id": "93f463e693949a2a"
    },
    {
      "cell_type": "code",
      "source": [
        "andy = 'python'\n",
        "andy[0] = 'r'\n",
        "print(andy)"
      ],
      "metadata": {
        "colab": {
          "base_uri": "https://localhost:8080/",
          "height": 180
        },
        "collapsed": true,
        "id": "XloWn2TbGvjy",
        "outputId": "d6cb482d-c7fd-4187-f977-a14a91eff19c"
      },
      "id": "XloWn2TbGvjy",
      "execution_count": 33,
      "outputs": [
        {
          "output_type": "error",
          "ename": "TypeError",
          "evalue": "'str' object does not support item assignment",
          "traceback": [
            "\u001b[0;31m---------------------------------------------------------------------------\u001b[0m",
            "\u001b[0;31mTypeError\u001b[0m                                 Traceback (most recent call last)",
            "\u001b[0;32m<ipython-input-33-d297dd7d2f04>\u001b[0m in \u001b[0;36m<cell line: 0>\u001b[0;34m()\u001b[0m\n\u001b[1;32m      1\u001b[0m \u001b[0mandy\u001b[0m \u001b[0;34m=\u001b[0m \u001b[0;34m'python'\u001b[0m\u001b[0;34m\u001b[0m\u001b[0;34m\u001b[0m\u001b[0m\n\u001b[0;32m----> 2\u001b[0;31m \u001b[0mandy\u001b[0m\u001b[0;34m[\u001b[0m\u001b[0;36m0\u001b[0m\u001b[0;34m]\u001b[0m \u001b[0;34m=\u001b[0m \u001b[0;34m'r'\u001b[0m\u001b[0;34m\u001b[0m\u001b[0;34m\u001b[0m\u001b[0m\n\u001b[0m\u001b[1;32m      3\u001b[0m \u001b[0mprint\u001b[0m\u001b[0;34m(\u001b[0m\u001b[0mandy\u001b[0m\u001b[0;34m)\u001b[0m\u001b[0;34m\u001b[0m\u001b[0;34m\u001b[0m\u001b[0m\n",
            "\u001b[0;31mTypeError\u001b[0m: 'str' object does not support item assignment"
          ]
        }
      ]
    },
    {
      "cell_type": "markdown",
      "source": [
        "[Back to Questions](#scrollTo=g6dLm1Wv5yP6&line=1&uniqifier=1)"
      ],
      "metadata": {
        "id": "f5lFYSzyJT8C"
      },
      "id": "f5lFYSzyJT8C"
    },
    {
      "cell_type": "code",
      "source": [],
      "metadata": {
        "id": "6g88vK317T6I"
      },
      "id": "6g88vK317T6I",
      "execution_count": null,
      "outputs": []
    },
    {
      "cell_type": "code",
      "source": [],
      "metadata": {
        "id": "b0hCbPp77T3T"
      },
      "id": "b0hCbPp77T3T",
      "execution_count": null,
      "outputs": []
    },
    {
      "cell_type": "code",
      "source": [],
      "metadata": {
        "id": "pofYy78I7T0l"
      },
      "id": "pofYy78I7T0l",
      "execution_count": null,
      "outputs": []
    },
    {
      "cell_type": "code",
      "source": [],
      "metadata": {
        "id": "RyRTbRi07Txr"
      },
      "id": "RyRTbRi07Txr",
      "execution_count": null,
      "outputs": []
    },
    {
      "cell_type": "code",
      "source": [],
      "metadata": {
        "id": "lv8baeCS7Tu7"
      },
      "id": "lv8baeCS7Tu7",
      "execution_count": null,
      "outputs": []
    },
    {
      "cell_type": "code",
      "source": [],
      "metadata": {
        "id": "zzyWhrBU7TsA"
      },
      "id": "zzyWhrBU7TsA",
      "execution_count": null,
      "outputs": []
    },
    {
      "cell_type": "code",
      "source": [],
      "metadata": {
        "id": "R6rBi6wT7TpA"
      },
      "id": "R6rBi6wT7TpA",
      "execution_count": null,
      "outputs": []
    },
    {
      "metadata": {
        "id": "93801978e4c66c7b"
      },
      "cell_type": "markdown",
      "source": [
        "#### $500"
      ],
      "id": "93801978e4c66c7b"
    },
    {
      "metadata": {
        "id": "770fd48610020462",
        "colab": {
          "base_uri": "https://localhost:8080/"
        },
        "outputId": "d955a821-d702-47ad-8245-73b25feb6a9f"
      },
      "cell_type": "code",
      "outputs": [
        {
          "output_type": "stream",
          "name": "stdout",
          "text": [
            "Erin-Emily-95\n"
          ]
        }
      ],
      "execution_count": 6,
      "source": [
        "# What is the output?\n",
        "\n",
        "students = {\"Erin\": 92, \"Emily\": 92, \"Laura\": 95}\n",
        "\n",
        "year = students.pop('Laura')\n",
        "students['Erin'] = 31\n",
        "students['Emily'] = students['Erin']\n",
        "\n",
        "for i in students.keys():\n",
        "    print(i, end='-')\n",
        "\n",
        "print(year)"
      ],
      "id": "770fd48610020462"
    },
    {
      "cell_type": "markdown",
      "source": [
        "[Back to Questions](#scrollTo=g6dLm1Wv5yP6&line=1&uniqifier=1)"
      ],
      "metadata": {
        "id": "n287XZZ57VIu"
      },
      "id": "n287XZZ57VIu"
    },
    {
      "cell_type": "code",
      "source": [],
      "metadata": {
        "id": "7Yg_tYCB7Ux3"
      },
      "id": "7Yg_tYCB7Ux3",
      "execution_count": null,
      "outputs": []
    },
    {
      "cell_type": "code",
      "source": [],
      "metadata": {
        "id": "a7QZnPjM7Uuo"
      },
      "id": "a7QZnPjM7Uuo",
      "execution_count": null,
      "outputs": []
    },
    {
      "cell_type": "code",
      "source": [],
      "metadata": {
        "id": "e4qFFmEu7UrN"
      },
      "id": "e4qFFmEu7UrN",
      "execution_count": null,
      "outputs": []
    },
    {
      "cell_type": "code",
      "source": [],
      "metadata": {
        "id": "4xtOMD6k7Un8"
      },
      "id": "4xtOMD6k7Un8",
      "execution_count": null,
      "outputs": []
    },
    {
      "cell_type": "code",
      "source": [],
      "metadata": {
        "id": "qL7tcT0R7Ukf"
      },
      "id": "qL7tcT0R7Ukf",
      "execution_count": null,
      "outputs": []
    },
    {
      "cell_type": "code",
      "source": [],
      "metadata": {
        "id": "a5u_YXEw7UhB"
      },
      "id": "a5u_YXEw7UhB",
      "execution_count": null,
      "outputs": []
    },
    {
      "cell_type": "code",
      "source": [],
      "metadata": {
        "id": "Lc0RmDZw7Udw"
      },
      "id": "Lc0RmDZw7Udw",
      "execution_count": null,
      "outputs": []
    },
    {
      "cell_type": "code",
      "source": [],
      "metadata": {
        "id": "FoCkkojN7Uar"
      },
      "id": "FoCkkojN7Uar",
      "execution_count": null,
      "outputs": []
    },
    {
      "cell_type": "markdown",
      "source": [
        "#### $750"
      ],
      "metadata": {
        "id": "waCNuSpDHO3h"
      },
      "id": "waCNuSpDHO3h"
    },
    {
      "metadata": {
        "jupyter": {
          "is_executing": true
        },
        "id": "a0cca985d84a7788",
        "colab": {
          "base_uri": "https://localhost:8080/"
        },
        "outputId": "5e077cbb-1272-4c1d-ecfe-b37a727a5b5b"
      },
      "cell_type": "code",
      "source": [
        "# what will the code print?\n",
        "\n",
        "class Tester:\n",
        "  def __init__(self, id) -> None:\n",
        "      self.id = str(id)\n",
        "      id = \"224\"\n",
        "\n",
        "temp = Tester(123)\n",
        "print(temp.id)"
      ],
      "id": "a0cca985d84a7788",
      "outputs": [
        {
          "output_type": "stream",
          "name": "stdout",
          "text": [
            "123\n"
          ]
        }
      ],
      "execution_count": 8
    },
    {
      "cell_type": "markdown",
      "source": [
        "[Back to Questions](#scrollTo=g6dLm1Wv5yP6&line=1&uniqifier=1)"
      ],
      "metadata": {
        "id": "pBgXyLZMJV0I"
      },
      "id": "pBgXyLZMJV0I"
    },
    {
      "cell_type": "code",
      "source": [],
      "metadata": {
        "id": "DZye0wWZ7WPr"
      },
      "id": "DZye0wWZ7WPr",
      "execution_count": null,
      "outputs": []
    },
    {
      "cell_type": "code",
      "source": [],
      "metadata": {
        "id": "jIRaM0l07WMX"
      },
      "id": "jIRaM0l07WMX",
      "execution_count": null,
      "outputs": []
    },
    {
      "cell_type": "code",
      "source": [],
      "metadata": {
        "id": "6iCBd5TX7WJH"
      },
      "id": "6iCBd5TX7WJH",
      "execution_count": null,
      "outputs": []
    },
    {
      "cell_type": "code",
      "source": [],
      "metadata": {
        "id": "1kCDqj-X7WFr"
      },
      "id": "1kCDqj-X7WFr",
      "execution_count": null,
      "outputs": []
    },
    {
      "cell_type": "code",
      "source": [],
      "metadata": {
        "id": "qHf8JSIB7WCe"
      },
      "id": "qHf8JSIB7WCe",
      "execution_count": null,
      "outputs": []
    },
    {
      "cell_type": "code",
      "source": [],
      "metadata": {
        "id": "Cb5vhfK07V_F"
      },
      "id": "Cb5vhfK07V_F",
      "execution_count": null,
      "outputs": []
    },
    {
      "cell_type": "code",
      "source": [],
      "metadata": {
        "id": "u_dYfYuF7V7u"
      },
      "id": "u_dYfYuF7V7u",
      "execution_count": null,
      "outputs": []
    },
    {
      "cell_type": "code",
      "source": [],
      "metadata": {
        "id": "WNikrVKc7V4f"
      },
      "id": "WNikrVKc7V4f",
      "execution_count": null,
      "outputs": []
    },
    {
      "metadata": {
        "id": "9ac85334e71b8c61"
      },
      "cell_type": "markdown",
      "source": [
        "#### $1000"
      ],
      "id": "9ac85334e71b8c61"
    },
    {
      "cell_type": "code",
      "source": [
        "count = {}\n",
        "count[(1, 2, 4)] = 5\n",
        "count[(4, 2, 1)] = 7\n",
        "count[(1, 2)] = 6\n",
        "count[(4, 2, 1)] = 2\n",
        "tot = 0\n",
        "\n",
        "for i in count:\n",
        "    tot += count[i]\n",
        "print(len(count) + tot)\n",
        "\n",
        "\n",
        "# a. 25\n",
        "# b. 17\n",
        "# c. 16\n",
        "# d. Tuples can't be made keys of a dictionary"
      ],
      "metadata": {
        "colab": {
          "base_uri": "https://localhost:8080/"
        },
        "id": "EcCjwK5lLnp6",
        "outputId": "98af45c3-e17e-47c7-d65d-8cfc01ef6ca3"
      },
      "id": "EcCjwK5lLnp6",
      "execution_count": 9,
      "outputs": [
        {
          "output_type": "stream",
          "name": "stdout",
          "text": [
            "16\n"
          ]
        }
      ]
    },
    {
      "cell_type": "markdown",
      "source": [
        "[Back to Questions](#scrollTo=g6dLm1Wv5yP6&line=1&uniqifier=1)"
      ],
      "metadata": {
        "id": "LFvrULF1JXnX"
      },
      "id": "LFvrULF1JXnX"
    },
    {
      "cell_type": "code",
      "source": [],
      "metadata": {
        "id": "pdUxjmK_7XVb"
      },
      "id": "pdUxjmK_7XVb",
      "execution_count": null,
      "outputs": []
    },
    {
      "cell_type": "code",
      "source": [],
      "metadata": {
        "id": "7xgPPaEV7XRy"
      },
      "id": "7xgPPaEV7XRy",
      "execution_count": null,
      "outputs": []
    },
    {
      "cell_type": "code",
      "source": [],
      "metadata": {
        "id": "mfBNMn477XN1"
      },
      "id": "mfBNMn477XN1",
      "execution_count": null,
      "outputs": []
    },
    {
      "cell_type": "code",
      "source": [],
      "metadata": {
        "id": "2Li0Rgl17XJu"
      },
      "id": "2Li0Rgl17XJu",
      "execution_count": null,
      "outputs": []
    },
    {
      "cell_type": "code",
      "source": [],
      "metadata": {
        "id": "F1t2XyZE7XFk"
      },
      "id": "F1t2XyZE7XFk",
      "execution_count": null,
      "outputs": []
    },
    {
      "cell_type": "code",
      "source": [],
      "metadata": {
        "id": "MDcPIkL17XCP"
      },
      "id": "MDcPIkL17XCP",
      "execution_count": null,
      "outputs": []
    },
    {
      "cell_type": "code",
      "source": [],
      "metadata": {
        "id": "xTiqvl127W-t"
      },
      "id": "xTiqvl127W-t",
      "execution_count": null,
      "outputs": []
    },
    {
      "cell_type": "code",
      "source": [],
      "metadata": {
        "id": "kvVG7ouI7W7e"
      },
      "id": "kvVG7ouI7W7e",
      "execution_count": null,
      "outputs": []
    },
    {
      "cell_type": "code",
      "source": [],
      "metadata": {
        "id": "f4vxkXBF7W33"
      },
      "id": "f4vxkXBF7W33",
      "execution_count": null,
      "outputs": []
    },
    {
      "cell_type": "code",
      "source": [],
      "metadata": {
        "id": "u6ck7uGE7Wza"
      },
      "id": "u6ck7uGE7Wza",
      "execution_count": null,
      "outputs": []
    },
    {
      "cell_type": "markdown",
      "source": [
        "\n",
        "\n",
        "---\n",
        "\n",
        "\n",
        "# 🏆 Final Jeopardy"
      ],
      "metadata": {
        "id": "Pz6SyokR0CUR"
      },
      "id": "Pz6SyokR0CUR"
    },
    {
      "cell_type": "markdown",
      "source": [
        "## Scramble Time"
      ],
      "metadata": {
        "id": "23fkmAyk6rm7"
      },
      "id": "23fkmAyk6rm7"
    },
    {
      "cell_type": "code",
      "source": [
        "def scramble_items(item_list):\n",
        "    \"\"\"\n",
        "    Scrambles characters in each item of the input list based on character indices.\n",
        "\n",
        "    Each item in the input list is converted to a string (if not already a string),\n",
        "    and its characters are rearranged such that:\n",
        "    - Characters at **odd indices** appear **first**\n",
        "    - Characters at **even indices** appear **afterwards**\n",
        "\n",
        "    This scrambling is applied to each item in the list individually.\n",
        "\n",
        "    Parameters:\n",
        "    -----------\n",
        "    item_list : list\n",
        "        A list containing elements of type str, int, float, or a mix of all.\n",
        "        Each element will be processed as a string.\n",
        "\n",
        "    Returns:\n",
        "    --------\n",
        "    list\n",
        "        A list of scrambled strings, where each string has characters re-ordered\n",
        "        with odd-index characters first followed by even-index characters.\n",
        "\n",
        "    Example:\n",
        "    --------\n",
        "    >>> scramble_items(['Engineers!'])\n",
        "    ['nier!Egnes']\n",
        "\n",
        "    >>> scramble_items(['Elon Tusk', 420, 'Mars Rd.', 343521])\n",
        "    ['l nTsEo uk', '240', 'asR Mr.d ', '451332']\n",
        "    \"\"\"\n",
        "    scrambled = []\n",
        "\n",
        "    # Iterate over each item in the input list\n",
        "    for item in item_list:\n",
        "        s = str(item)  # Ensure the item is treated as a string\n",
        "        odd_index_chars = ''   # To store characters at odd indices\n",
        "        even_index_chars = ''  # To store characters at even indices\n",
        "\n",
        "        # Iterate through characters by index\n",
        "        for i in range(len(s)):\n",
        "            if i % 2 == 1:\n",
        "                odd_index_chars += s[i]  # Odd index → goes to front\n",
        "            else:\n",
        "                even_index_chars += s[i]  # Even index → goes to back\n",
        "\n",
        "        # Concatenate odd-index characters first, then even-index\n",
        "        scrambled.append(odd_index_chars + even_index_chars)\n",
        "\n",
        "    return scrambled\n"
      ],
      "metadata": {
        "id": "msCsXFVl6RD9"
      },
      "id": "msCsXFVl6RD9",
      "execution_count": 12,
      "outputs": []
    },
    {
      "cell_type": "code",
      "source": [
        "sample_list = ['Elon Tusk', 420, 'Mars Rd.', 343521]\n",
        "new_list = scramble_items(sample_list)\n",
        "print(new_list)\n"
      ],
      "metadata": {
        "colab": {
          "base_uri": "https://localhost:8080/"
        },
        "id": "Npbf78ep6T6h",
        "outputId": "3b68677f-bc49-45c6-c001-e950aae01391"
      },
      "id": "Npbf78ep6T6h",
      "execution_count": 13,
      "outputs": [
        {
          "output_type": "stream",
          "name": "stdout",
          "text": [
            "['lnTsEo uk', '240', 'asR.Mr d', '451332']\n"
          ]
        }
      ]
    },
    {
      "cell_type": "code",
      "source": [],
      "metadata": {
        "id": "Xg4qa58M6mdF"
      },
      "id": "Xg4qa58M6mdF",
      "execution_count": null,
      "outputs": []
    },
    {
      "cell_type": "code",
      "source": [],
      "metadata": {
        "id": "V3juN0tk6ma3"
      },
      "id": "V3juN0tk6ma3",
      "execution_count": null,
      "outputs": []
    },
    {
      "cell_type": "code",
      "source": [],
      "metadata": {
        "id": "RoorYuH76mYE"
      },
      "id": "RoorYuH76mYE",
      "execution_count": null,
      "outputs": []
    },
    {
      "cell_type": "code",
      "source": [],
      "metadata": {
        "id": "xp5GB62H6mTW"
      },
      "id": "xp5GB62H6mTW",
      "execution_count": null,
      "outputs": []
    },
    {
      "cell_type": "code",
      "source": [],
      "metadata": {
        "id": "aoTmrDrP6mOr"
      },
      "id": "aoTmrDrP6mOr",
      "execution_count": null,
      "outputs": []
    },
    {
      "metadata": {
        "id": "f8419438ffdc5d94"
      },
      "cell_type": "markdown",
      "source": [
        "## Question 1: What is the output of this code?"
      ],
      "id": "f8419438ffdc5d94"
    },
    {
      "cell_type": "code",
      "source": [
        "data = [4, 8]\n",
        "\n",
        "new_data = []\n",
        "for i in range(len(data)):\n",
        "    if data[i] % 4 == 0:\n",
        "        new_data.append(data[i])\n",
        "\n",
        "data.extend(new_data)\n",
        "data.sort()\n",
        "data.insert(3, sum(data[:]))\n",
        "\n",
        "for i in data:\n",
        "    print(i)\n"
      ],
      "metadata": {
        "colab": {
          "base_uri": "https://localhost:8080/"
        },
        "id": "1i1_a6AwHxNg",
        "outputId": "8ab54b6f-e99d-4844-975a-20ffe50cab85"
      },
      "id": "1i1_a6AwHxNg",
      "execution_count": 39,
      "outputs": [
        {
          "output_type": "stream",
          "name": "stdout",
          "text": [
            "4\n",
            "4\n",
            "8\n",
            "24\n",
            "8\n"
          ]
        }
      ]
    },
    {
      "cell_type": "markdown",
      "source": [
        "## Question 2:"
      ],
      "metadata": {
        "id": "gEF-HRAAH2n1"
      },
      "id": "gEF-HRAAH2n1"
    },
    {
      "cell_type": "markdown",
      "source": [
        "Given poem.txt contains:\n",
        "\n",
        "```\n",
        "Whiskers brush the keys,\n",
        "Debugging in midnight glow,\n",
        "Cat's code, secrets flow.\n",
        "```"
      ],
      "metadata": {
        "id": "89Fl8FZdH4EQ"
      },
      "id": "89Fl8FZdH4EQ"
    },
    {
      "cell_type": "code",
      "source": [
        "poem = \"\"\"Whiskers brush the keys,\n",
        "Debugging in midnight glow,\n",
        "Cat's code, secrets flow.\"\"\"\n",
        "\n",
        "with open(\"poem.txt\", \"w\") as file:\n",
        "    file.write(poem)\n"
      ],
      "metadata": {
        "id": "S9MXat-wIRzI"
      },
      "id": "S9MXat-wIRzI",
      "execution_count": 41,
      "outputs": []
    },
    {
      "cell_type": "markdown",
      "source": [
        "Given the above poem.txt file, what is the printed output of the code below?\n",
        "Assume the text file opens (i.e., is in this Python file’s working directory).\n",
        "Write your answer in the box below.\n",
        "\n"
      ],
      "metadata": {
        "id": "dYW2cMbBIwfX"
      },
      "id": "dYW2cMbBIwfX"
    },
    {
      "cell_type": "code",
      "source": [
        "a_file = open(\"poem.txt\", \"r\")\n",
        "phrases = a_file.readlines()\n",
        "\n",
        "count = 1\n",
        "\n",
        "for phrase in phrases:\n",
        "    num = phrase.count('t')\n",
        "    print(count, num, end='+', sep='*')\n",
        "    count += 1"
      ],
      "metadata": {
        "colab": {
          "base_uri": "https://localhost:8080/"
        },
        "id": "pR_Azl1WIEEc",
        "outputId": "923bb5e5-6900-4419-ae15-6290edaa5828"
      },
      "id": "pR_Azl1WIEEc",
      "execution_count": 42,
      "outputs": [
        {
          "output_type": "stream",
          "name": "stdout",
          "text": [
            "1*1+2*1+3*2+"
          ]
        }
      ]
    },
    {
      "cell_type": "markdown",
      "source": [
        "## Question 3: What is the output of the following code?"
      ],
      "metadata": {
        "id": "z8YCgJ8UILPn"
      },
      "id": "z8YCgJ8UILPn"
    },
    {
      "cell_type": "code",
      "source": [
        "class Mystery:\n",
        "    def __init__(self, x, y = True):\n",
        "        self.x = x\n",
        "        self.y = y\n",
        "\n",
        "    def __str__(self):\n",
        "        return str(self.x) + \" \" + str(self.y)\n",
        "\n",
        "    def my_method(self):\n",
        "        if self.y:\n",
        "            self.x += 1\n",
        "        else:\n",
        "            self.x *= 2\n",
        "        self.y = not self.y\n",
        "\n",
        "m1 = Mystery(2)\n",
        "m2 = Mystery(0, False)\n",
        "\n",
        "while m1.x + m2.x < 10:\n",
        "    print(m1, m2, sep=\";\")\n",
        "    m1.my_method()\n",
        "    m2.my_method()\n"
      ],
      "metadata": {
        "colab": {
          "base_uri": "https://localhost:8080/"
        },
        "id": "wYrcQvKEINmZ",
        "outputId": "953bca44-90cc-4f12-bc4c-9cfb65a80c89"
      },
      "id": "wYrcQvKEINmZ",
      "execution_count": 40,
      "outputs": [
        {
          "output_type": "stream",
          "name": "stdout",
          "text": [
            "2 True;0 False\n",
            "3 False;0 True\n",
            "6 True;1 False\n",
            "7 False;2 True\n"
          ]
        }
      ]
    },
    {
      "cell_type": "markdown",
      "source": [
        "[Back to Questions](#scrollTo=g6dLm1Wv5yP6&line=1&uniqifier=1)"
      ],
      "metadata": {
        "id": "J7BVWduvJaFF"
      },
      "id": "J7BVWduvJaFF"
    },
    {
      "cell_type": "code",
      "source": [],
      "metadata": {
        "id": "VJk4o-zZQsxy"
      },
      "id": "VJk4o-zZQsxy",
      "execution_count": null,
      "outputs": []
    }
  ],
  "metadata": {
    "kernelspec": {
      "display_name": "Python 3 (ipykernel)",
      "language": "python",
      "name": "python3"
    },
    "language_info": {
      "codemirror_mode": {
        "name": "ipython",
        "version": 3
      },
      "file_extension": ".py",
      "mimetype": "text/x-python",
      "name": "python",
      "nbconvert_exporter": "python",
      "pygments_lexer": "ipython3",
      "version": "3.8.12"
    },
    "colab": {
      "provenance": [],
      "collapsed_sections": [
        "ZbyCI7OszN3l",
        "kCUUfYfbzsJS",
        "2pesKr50zzax",
        "G1ttEqpPz3bY",
        "dsWr29Slz_FJ",
        "Pz6SyokR0CUR",
        "23fkmAyk6rm7",
        "f8419438ffdc5d94",
        "gEF-HRAAH2n1",
        "z8YCgJ8UILPn"
      ]
    }
  },
  "nbformat": 4,
  "nbformat_minor": 5
}