{
 "cells": [
  {
   "cell_type": "code",
   "execution_count": null,
   "id": "a8b59885",
   "metadata": {},
   "outputs": [],
   "source": [
    "names = ['Tina', 'Sue', 'Brad']\n",
    "myfile = open(\"names.txt\", \"w\")\n",
    "for item in names:\n",
    "    myfile.write(item + '\\n')\n",
    "myfile.close() "
   ]
  },
  {
   "cell_type": "code",
   "execution_count": null,
   "id": "ab50e0e2",
   "metadata": {},
   "outputs": [],
   "source": []
  },
  {
   "cell_type": "code",
   "execution_count": null,
   "id": "340326fd",
   "metadata": {},
   "outputs": [],
   "source": []
  },
  {
   "cell_type": "code",
   "execution_count": null,
   "id": "f6c1ecac",
   "metadata": {},
   "outputs": [],
   "source": []
  },
  {
   "cell_type": "code",
   "execution_count": 1,
   "id": "8f6bc679",
   "metadata": {
    "scrolled": true
   },
   "outputs": [
    {
     "name": "stdout",
     "output_type": "stream",
     "text": [
      "APS111 exam on 20th at 9:30\n",
      "\n",
      "APS111 exam on 20th at 2:00\n",
      "\n",
      "APS164 exam on 18th at 9:30\n"
     ]
    }
   ],
   "source": [
    "myfile = open('test.txt', 'r')\n",
    "for row in myfile:\n",
    "    print(row[0:6] + ' exam on ' + row[12:14] + 'th at ' + row[22:28])\n",
    "myfile.close()"
   ]
  },
  {
   "cell_type": "code",
   "execution_count": null,
   "id": "b43b9ae2",
   "metadata": {},
   "outputs": [],
   "source": []
  },
  {
   "cell_type": "code",
   "execution_count": null,
   "id": "6241896a",
   "metadata": {},
   "outputs": [],
   "source": []
  },
  {
   "cell_type": "code",
   "execution_count": null,
   "id": "0633cd00",
   "metadata": {},
   "outputs": [],
   "source": []
  },
  {
   "cell_type": "code",
   "execution_count": null,
   "id": "14ba3104",
   "metadata": {},
   "outputs": [],
   "source": [
    "f = open(\"grades.txt\", \"r\")\n",
    "print(len(f.readlines()))\n",
    "f.close()"
   ]
  },
  {
   "cell_type": "code",
   "execution_count": null,
   "id": "bac80d21",
   "metadata": {},
   "outputs": [],
   "source": []
  },
  {
   "cell_type": "code",
   "execution_count": null,
   "id": "9b79d41b",
   "metadata": {},
   "outputs": [],
   "source": []
  },
  {
   "cell_type": "code",
   "execution_count": null,
   "id": "0db2f437",
   "metadata": {},
   "outputs": [],
   "source": []
  },
  {
   "cell_type": "code",
   "execution_count": 3,
   "id": "52380d57",
   "metadata": {},
   "outputs": [
    {
     "name": "stdout",
     "output_type": "stream",
     "text": [
      "AP\n",
      "BA\n",
      "KI\n"
     ]
    }
   ],
   "source": [
    "grocery_list = open(\"groceries.txt\", \"r\")\n",
    "for item in grocery_list:\n",
    "    \n",
    "    item = item.upper()   \n",
    "    print(item[0:2])\n",
    "    \n",
    "grocery_list.close() "
   ]
  },
  {
   "cell_type": "code",
   "execution_count": null,
   "id": "de02515c",
   "metadata": {},
   "outputs": [],
   "source": []
  },
  {
   "cell_type": "code",
   "execution_count": null,
   "id": "6c939bd3",
   "metadata": {},
   "outputs": [],
   "source": []
  },
  {
   "cell_type": "code",
   "execution_count": null,
   "id": "9a972796",
   "metadata": {},
   "outputs": [],
   "source": []
  },
  {
   "cell_type": "code",
   "execution_count": null,
   "id": "8839178a",
   "metadata": {},
   "outputs": [],
   "source": [
    "string_a = \"What a lovely day today!\"\n",
    "string_a[5:-5]"
   ]
  },
  {
   "cell_type": "code",
   "execution_count": null,
   "id": "6c50eaac",
   "metadata": {},
   "outputs": [],
   "source": []
  },
  {
   "cell_type": "code",
   "execution_count": null,
   "id": "a01af468",
   "metadata": {},
   "outputs": [],
   "source": []
  },
  {
   "cell_type": "code",
   "execution_count": null,
   "id": "faba34e0",
   "metadata": {},
   "outputs": [],
   "source": [
    "andy = 'randy'\n",
    "andy[0] = 'r'\n",
    "print(andy)"
   ]
  },
  {
   "cell_type": "code",
   "execution_count": null,
   "id": "89f01a40",
   "metadata": {},
   "outputs": [],
   "source": []
  },
  {
   "cell_type": "code",
   "execution_count": null,
   "id": "66d2b743",
   "metadata": {},
   "outputs": [],
   "source": []
  },
  {
   "cell_type": "code",
   "execution_count": null,
   "id": "7a2fa5a2",
   "metadata": {},
   "outputs": [],
   "source": []
  },
  {
   "cell_type": "code",
   "execution_count": null,
   "id": "f6cbac82",
   "metadata": {},
   "outputs": [],
   "source": [
    "def my_func(x,y):\n",
    "    print(x,y)\n",
    "    return x, y\n",
    "\n",
    "maxnum = 3\n",
    "           \n",
    "for i in range(1,maxnum):\n",
    "    for j in range(1,maxnum):\n",
    "        print(my_func(i,i))"
   ]
  },
  {
   "cell_type": "code",
   "execution_count": null,
   "id": "31a6c53c",
   "metadata": {},
   "outputs": [],
   "source": []
  },
  {
   "cell_type": "code",
   "execution_count": null,
   "id": "c288e28a",
   "metadata": {},
   "outputs": [],
   "source": []
  },
  {
   "cell_type": "code",
   "execution_count": null,
   "id": "fa439424",
   "metadata": {},
   "outputs": [],
   "source": []
  },
  {
   "cell_type": "code",
   "execution_count": 2,
   "id": "09463431",
   "metadata": {
    "scrolled": true
   },
   "outputs": [
    {
     "name": "stdout",
     "output_type": "stream",
     "text": [
      "0 H\n",
      "1 N/A\n",
      "2 !\n"
     ]
    }
   ],
   "source": [
    "message = \"Hi!\"\n",
    "indices = [0, 2]\n",
    "\n",
    "my_map = {}\n",
    "for idx in indices:\n",
    "    my_map[idx] = message[idx]\n",
    "\n",
    "for idx in range(len(message)):\n",
    "    print(idx, end=\" \")\n",
    "    if idx in my_map:\n",
    "        print(my_map[idx])\n",
    "    else:\n",
    "        print(\"N/A\")    "
   ]
  },
  {
   "cell_type": "code",
   "execution_count": null,
   "id": "4e1913dc",
   "metadata": {},
   "outputs": [],
   "source": []
  },
  {
   "cell_type": "code",
   "execution_count": null,
   "id": "29beddab",
   "metadata": {},
   "outputs": [],
   "source": []
  },
  {
   "cell_type": "code",
   "execution_count": null,
   "id": "cdf3342f",
   "metadata": {},
   "outputs": [],
   "source": []
  },
  {
   "cell_type": "code",
   "execution_count": null,
   "id": "ad3c5f3b",
   "metadata": {},
   "outputs": [],
   "source": [
    "number_list = [40,60,80,100,120]\n",
    "\n",
    "def calculator(s):\n",
    "    \" (list) -> list\"\n",
    "    divisor = len(s)\n",
    "    new_list = [50, 70]\n",
    "    i = 0\n",
    "    \n",
    "    while i<4:\n",
    "        value = s[i] / divisor\n",
    "        new_list.append(s[i])\n",
    "        i +=1\n",
    "        \n",
    "    return new_list\n",
    "\n",
    "\n",
    "print(calculator(number_list))"
   ]
  },
  {
   "cell_type": "code",
   "execution_count": null,
   "id": "9725a11a",
   "metadata": {},
   "outputs": [],
   "source": []
  },
  {
   "cell_type": "code",
   "execution_count": null,
   "id": "f310a6be",
   "metadata": {},
   "outputs": [],
   "source": []
  },
  {
   "cell_type": "code",
   "execution_count": null,
   "id": "52cad86a",
   "metadata": {},
   "outputs": [],
   "source": []
  },
  {
   "cell_type": "code",
   "execution_count": null,
   "id": "937ce137",
   "metadata": {},
   "outputs": [],
   "source": [
    "d= {'Running': 45, 'Hiking': 101, 'Biking': 29, 'Walking': 9000}\n",
    "d['Swimming']=10\n",
    "\n",
    "d['Hiking']=20\n",
    "d.pop('Running')\n",
    "\n",
    "d.values()"
   ]
  },
  {
   "cell_type": "code",
   "execution_count": null,
   "id": "3274cb89",
   "metadata": {},
   "outputs": [],
   "source": []
  },
  {
   "cell_type": "code",
   "execution_count": null,
   "id": "621ed655",
   "metadata": {},
   "outputs": [],
   "source": []
  },
  {
   "cell_type": "code",
   "execution_count": null,
   "id": "413a4ee1",
   "metadata": {},
   "outputs": [],
   "source": []
  },
  {
   "cell_type": "code",
   "execution_count": null,
   "id": "85499222",
   "metadata": {},
   "outputs": [],
   "source": [
    "def fun1_iterative(n):\n",
    "    while n >= 10:\n",
    "        print(n)\n",
    "        n //= 10\n",
    "    print(n)\n",
    "\n",
    "fun1_iterative(1000)"
   ]
  },
  {
   "cell_type": "code",
   "execution_count": null,
   "id": "af0b2c45",
   "metadata": {},
   "outputs": [],
   "source": []
  },
  {
   "cell_type": "code",
   "execution_count": null,
   "id": "284359e7",
   "metadata": {},
   "outputs": [],
   "source": []
  },
  {
   "cell_type": "code",
   "execution_count": null,
   "id": "4677ac55",
   "metadata": {},
   "outputs": [],
   "source": []
  },
  {
   "cell_type": "code",
   "execution_count": 16,
   "id": "619964df",
   "metadata": {},
   "outputs": [
    {
     "name": "stdout",
     "output_type": "stream",
     "text": [
      "2.5!1.8!!"
     ]
    }
   ],
   "source": [
    "class Journey:\n",
    "    def __init__(self, origin, destination, duration):\n",
    "        self.origin = origin\n",
    "        self.destination = destination\n",
    "        self.duration = duration\n",
    "\n",
    "journeys = [Journey('X', 'Y', 2.5), Journey('Y', 'Z', 1.8)]\n",
    "\n",
    "times = []\n",
    "for journey in journeys:\n",
    "    times.append(journey.duration)\n",
    "times.sort()\n",
    "times.reverse()\n",
    "\n",
    "print(times[0], times[1], sep = '!', end = '!!')"
   ]
  },
  {
   "cell_type": "code",
   "execution_count": null,
   "id": "0d3e962d",
   "metadata": {},
   "outputs": [],
   "source": []
  },
  {
   "cell_type": "code",
   "execution_count": null,
   "id": "df906914",
   "metadata": {},
   "outputs": [],
   "source": []
  },
  {
   "cell_type": "code",
   "execution_count": null,
   "id": "7d11a0eb",
   "metadata": {},
   "outputs": [],
   "source": []
  },
  {
   "cell_type": "code",
   "execution_count": 1,
   "id": "18b2c1a6",
   "metadata": {},
   "outputs": [
    {
     "name": "stdout",
     "output_type": "stream",
     "text": [
      "5\n"
     ]
    }
   ],
   "source": [
    "import pandas as pd\n",
    "\n",
    "data = {'Name': ['Anna', 'Bob', 'Charlie', 'Diana', 'Evan'],\n",
    "        'Age': [23, 35, 45, 32, 28],\n",
    "        'City': ['New York', 'Los Angeles', 'Chicago', 'Houston', 'Phoenix']}\n",
    "\n",
    "df = pd.DataFrame(data, index=['e', 'c', 'd', 'a', 'b'])\n",
    "df.iloc[1:3].loc['d'].iloc[]"
   ]
  },
  {
   "cell_type": "code",
   "execution_count": null,
   "id": "8f98dac4",
   "metadata": {},
   "outputs": [],
   "source": []
  },
  {
   "cell_type": "code",
   "execution_count": null,
   "id": "a85b9e09",
   "metadata": {},
   "outputs": [],
   "source": []
  },
  {
   "cell_type": "code",
   "execution_count": null,
   "id": "89ff50b9",
   "metadata": {},
   "outputs": [],
   "source": []
  },
  {
   "cell_type": "code",
   "execution_count": null,
   "id": "10003576",
   "metadata": {},
   "outputs": [],
   "source": [
    "class CityCounter:\n",
    "    def __init__(self, people):\n",
    "        self.people = people\n",
    "    \n",
    "    def count_city(self, city_name):\n",
    "        count = 0\n",
    "        for person in self.people:\n",
    "            if person[2].lower() == city_name.lower():\n",
    "                count += 1\n",
    "        return count\n",
    "\n",
    "# Example data and usage\n",
    "people = [\n",
    "    (\"Alice\", \"Female\", \"London\"),\n",
    "    (\"Bob\", \"Male\", \"Paris\"),\n",
    "    (\"Charlie\", \"Male\", \"London\")\n",
    "]\n",
    "\n",
    "counter = CityCounter(people)\n",
    "print(\"People from London:\", counter.count_city(\"London\"))"
   ]
  },
  {
   "cell_type": "code",
   "execution_count": null,
   "id": "dd626b61",
   "metadata": {},
   "outputs": [],
   "source": []
  },
  {
   "cell_type": "code",
   "execution_count": null,
   "id": "c2eebe82",
   "metadata": {},
   "outputs": [],
   "source": []
  },
  {
   "cell_type": "code",
   "execution_count": null,
   "id": "55f1ec5b",
   "metadata": {},
   "outputs": [],
   "source": []
  }
 ],
 "metadata": {
  "kernelspec": {
   "display_name": "Python 3 (ipykernel)",
   "language": "python",
   "name": "python3"
  },
  "language_info": {
   "codemirror_mode": {
    "name": "ipython",
    "version": 3
   },
   "file_extension": ".py",
   "mimetype": "text/x-python",
   "name": "python",
   "nbconvert_exporter": "python",
   "pygments_lexer": "ipython3",
   "version": "3.11.6"
  }
 },
 "nbformat": 4,
 "nbformat_minor": 5
}
