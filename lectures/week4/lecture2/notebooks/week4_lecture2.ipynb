{
 "cells": [
  {
   "metadata": {},
   "cell_type": "markdown",
   "source": [
    "# APS106 - Fundamentals of Computer Programming\n",
    "## Week 4 | Lecture 2 (4.2) - More while loops\n",
    "\n",
    "### Lecture Structure\n",
    "1. [Refresher](#section1)\n",
    "2. [Lazy Evaluation](#section2)\n",
    "5. [`random` Module](#section3)\n",
    "4. [Breakout Session 1](#section4)\n",
    "4. [Breakout Session 2](#section5)\n",
    "6. [A Simple Guessing Game](#section6)\n",
    "7. [Breakout Session 3](#section7)"
   ]
  },
  {
   "metadata": {},
   "cell_type": "markdown",
   "source": [
    "<a id='section1'></a>\n",
    "## 1. Refesher\n",
    "The form of a while-loop is:\n",
    "\n",
    "```python\n",
    "while expression:    \n",
    "    do something (body)\n",
    "```\n",
    "\n",
    "### How many printouts will the following while loop produce?"
   ]
  },
  {
   "metadata": {},
   "cell_type": "code",
   "outputs": [],
   "execution_count": null,
   "source": [
    "x = 1\n",
    "while x < 4:\n",
    "    print(x)\n",
    "    x = x + 1"
   ]
  },
  {
   "metadata": {},
   "cell_type": "markdown",
   "source": [
    "<a id='section2'></a>\n",
    "## 2. Lazy Evaluation\n",
    "Just like for if-statements, if you use `and` or `or` in a while-loop `expression`, it is subject to lazy evaluation."
   ]
  },
  {
   "metadata": {},
   "cell_type": "code",
   "outputs": [],
   "execution_count": null,
   "source": [
    "def my_func(x):\n",
    "    print(\"Inside my_func, x =\", x)\n",
    "    return True"
   ]
  },
  {
   "metadata": {},
   "cell_type": "code",
   "outputs": [],
   "execution_count": null,
   "source": [
    "x = 13\n",
    "while 10 > 10 and my_func(10):\n",
    "    #print(x)\n",
    "    x = x - 1"
   ]
  },
  {
   "metadata": {},
   "cell_type": "code",
   "outputs": [],
   "execution_count": null,
   "source": [
    "x = 13\n",
    "while my_func(x) and 10 > 10:\n",
    "    #print(x)\n",
    "    x = x - 1"
   ]
  },
  {
   "metadata": {},
   "cell_type": "markdown",
   "source": [
    "<a id='section3'></a>\n",
    "## 3. Random Module\n",
    "Let's import the `random` module."
   ]
  },
  {
   "metadata": {},
   "cell_type": "code",
   "outputs": [],
   "execution_count": null,
   "source": "import random"
  },
  {
   "metadata": {},
   "cell_type": "markdown",
   "source": "Check out the `help` function."
  },
  {
   "metadata": {},
   "cell_type": "code",
   "outputs": [],
   "execution_count": null,
   "source": "help(random)"
  },
  {
   "metadata": {},
   "cell_type": "markdown",
   "source": [
    "#### `randint(a, b)`\n",
    "Return a random integer N such that a <= N <= b."
   ]
  },
  {
   "metadata": {},
   "cell_type": "code",
   "outputs": [],
   "execution_count": null,
   "source": "random.randint(5, 10)"
  },
  {
   "metadata": {},
   "cell_type": "markdown",
   "source": [
    "#### `random()`\n",
    "Return the next random floating point number in the range 0.0 to 1.0."
   ]
  },
  {
   "metadata": {},
   "cell_type": "code",
   "outputs": [],
   "execution_count": null,
   "source": "random.random()"
  },
  {
   "metadata": {},
   "cell_type": "markdown",
   "source": [
    "#### `uniform(a, b)`\n",
    "Return a random floating point number N such that a <= N <= b."
   ]
  },
  {
   "metadata": {},
   "cell_type": "code",
   "outputs": [],
   "execution_count": null,
   "source": "random.uniform(2, 10)"
  },
  {
   "metadata": {},
   "cell_type": "markdown",
   "source": [
    "<a id='section4'></a>\n",
    "## 4. Breakout Session 1\n",
    "You are rolling a six-sided die, but there's a problem: you keep rolling unlucky numbers! Write a function `roll_until_lucky(lucky_number)` that:\n",
    "\n",
    "- Starts by rolling a six-sided die (`random.randint(1, 6)`).\n",
    "- Continues rolling until the lucky number appears.\n",
    "- Prints each roll along the way.\n",
    "- When the lucky number appears, prints `\"Lucky roll! Stopping now.\"`.\n",
    "- Finally, print out the number of rolls it took `\"It took 4 rolls to roll your lucky number.\"`.\n",
    "\n",
    "**Example (lucky number = 5):**\n",
    "```python\n",
    ">>> roll_until_lucky(5)\n",
    "Rolling... 3\n",
    "Rolling... 1\n",
    "Rolling... 6\n",
    "Rolling... 5\n",
    "Lucky roll! Stopping now.\n",
    "It took 4 rolls to roll your lucky number.\n",
    "```"
   ]
  },
  {
   "metadata": {},
   "cell_type": "code",
   "outputs": [],
   "execution_count": null,
   "source": [
    "import random\n",
    "\n",
    "def roll_until_lucky(lucky_number):\n",
    "    \"\"\"\n",
    "    (int) -> None\n",
    "    Write a function that roles a 6 sided dice until lucky_number is rolled.\n",
    "    \"\"\"\n",
    "    roll = random.randint(1, 6)\n",
    "    count = 1\n",
    "    print(\"Rolling...\", roll)\n",
    "    \n",
    "    while roll != lucky_number:\n",
    "        roll = random.randint(1, 6)\n",
    "        print(\"Rolling...\", roll)\n",
    "        count += 1\n",
    "    \n",
    "    print(\"Lucky roll! Stopping now.\")\n",
    "    print(\"It took\", count, \"rolls to roll your lucky number.\")"
   ]
  },
  {
   "metadata": {},
   "cell_type": "markdown",
   "source": "Let's try our function."
  },
  {
   "metadata": {},
   "cell_type": "code",
   "outputs": [],
   "execution_count": null,
   "source": "roll_until_lucky(4)"
  },
  {
   "metadata": {},
   "cell_type": "markdown",
   "source": [
    "<a id='section5'></a>\n",
    "## 5. Breakout Session 2\n",
    "Let's import the `utils` module that I have created an includes a function called `play_rpsls`, which allows you to play Rock, Paper, Scissors, Lizard, Spock against the computer."
   ]
  },
  {
   "metadata": {},
   "cell_type": "code",
   "outputs": [],
   "execution_count": null,
   "source": "import week4_lecture2_utils as utils"
  },
  {
   "metadata": {},
   "cell_type": "markdown",
   "source": "Let's see how it works."
  },
  {
   "metadata": {},
   "cell_type": "code",
   "outputs": [],
   "execution_count": null,
   "source": "result = utils.play_rpsls()"
  },
  {
   "metadata": {},
   "cell_type": "code",
   "outputs": [],
   "execution_count": null,
   "source": "print(result)"
  },
  {
   "metadata": {},
   "cell_type": "markdown",
   "source": [
    "Below is the `play_rpsls` docstring.\n",
    "\n",
    "```python\n",
    "\"\"\"\n",
    "() -> int\n",
    "Prompt the user to enter \"rock\", \"paper\", \"scissors\", \"lizard\", or \"spock\".\n",
    "Returns:\n",
    "    - Returns -1 if the player beats the computer.\n",
    "    - Returns 0 if its a tie.\n",
    "    - Returns 1 is the computer beats the player.\n",
    "\"\"\"\n",
    "```"
   ]
  },
  {
   "metadata": {},
   "cell_type": "markdown",
   "source": "Write some code to allow someone to play Rock, Paper, Scissors, Lizard, Spock over and over again until they beat the computer `3` times."
  },
  {
   "metadata": {},
   "cell_type": "code",
   "outputs": [],
   "execution_count": null,
   "source": [
    "# Write your code here.\n",
    "win_count = 0\n",
    "\n",
    "while False:\n",
    "    result = utils.play_rpsls()\n",
    "    if result == -1:\n",
    "        win_count += 1\n",
    "        print(\"You have won\", win_count, \"times.\")\n",
    "\n",
    "print('Game Over')"
   ]
  },
  {
   "metadata": {},
   "cell_type": "markdown",
   "source": [
    "<a id='section6'></a>\n",
    "## 6.  A Simple Guessing Game\n",
    "### Step 1: Get the computer to choose a random integer from 0 to 100.\n",
    "Let's use another package that comes preinstalled with Python, `random`.\n",
    "\n",
    "Notice that its different every time you run the code.\n",
    "\n",
    "**`Question`**: Which `random` function should we use?"
   ]
  },
  {
   "metadata": {},
   "cell_type": "code",
   "outputs": [],
   "execution_count": null,
   "source": [
    "import random\n",
    "\n",
    "# Define guess limits\n",
    "num_min = 0\n",
    "num_max = 100\n",
    "\n",
    "# Generate a random initial guess\n",
    "num_to_guess = random.randint(num_min, num_max)\n",
    "\n",
    "# Print guess for debugging\n",
    "print(\"The number to guess is\", num_to_guess)"
   ]
  },
  {
   "metadata": {},
   "cell_type": "markdown",
   "source": [
    "### Step 2: Ask the user for a guess and allow the user to input a guess or `'q'`.\n",
    "### &\n",
    "### Step 3: If the user inputs `'q'` print a nice message and end the program."
   ]
  },
  {
   "metadata": {},
   "cell_type": "code",
   "outputs": [],
   "execution_count": null,
   "source": [
    "import random\n",
    "\n",
    "# Initial guess\n",
    "num_min = 0\n",
    "num_max = 100\n",
    "num_to_guess = random.randint(num_min, num_max)\n",
    "\n",
    "# Debug mode\n",
    "print('Number to guess:', num_to_guess, '(for debugging)\\n')\n",
    "\n",
    "# Get initial guess from player\n",
    "guess = input(\"Guess a number between \" + str(num_min) + ' and ' + str(num_max) + ' (\"q\" to quit)')\n",
    "\n",
    "# Check user input\n",
    "while False:\n",
    "\n",
    "    # Print what the user guessed\n",
    "    print(\"You guessed\", guess)\n",
    "    \n",
    "    # Get another guess from player\n",
    "    guess = input(\"Guess a number between \" + str(num_min) + ' and ' + str(num_max) + ' (\"q\" to quit)')\n",
    "    \n",
    "# Print message when game is over\n",
    "print(\"GAME OVER\")"
   ]
  },
  {
   "metadata": {},
   "cell_type": "markdown",
   "source": [
    "### Step 4: If the user enters a guess, tell them if they should guess higher, lower, or if they got it right.\n",
    "### &\n",
    "### Step 5: If they got it right, print a nice message and quit."
   ]
  },
  {
   "metadata": {},
   "cell_type": "code",
   "outputs": [],
   "execution_count": null,
   "source": [
    "import random\n",
    "\n",
    "# Initial guess\n",
    "num_min = 0\n",
    "num_max = 100\n",
    "num_to_guess = random.randint(num_min, num_max)\n",
    "\n",
    "# Debug mode\n",
    "print('Number to guess:', num_to_guess, '(for debugging)\\n')\n",
    "\n",
    "# Initial guess from user\n",
    "guess = input(\"Guess a number between 0 and 100 inclusive. ('q' to end): \")\n",
    "\n",
    "# Check user input\n",
    "while guess != 'q':\n",
    "    \n",
    "    print(\"You guessed: \", guess)\n",
    "    \n",
    "    # Is the guess correc or higher or lower?\n",
    "    guess_int = int(guess)\n",
    "    \n",
    "    if guess_int == num_to_guess:\n",
    "        print(\"You Win\")\n",
    "    elif guess_int > num_to_guess:\n",
    "        print(\"Lower\")\n",
    "    else:\n",
    "        print(\"Higher\")\n",
    "        \n",
    "    # Make another guess\n",
    "    guess = input(\"Guess a number between 0 and 100 inclusive. ('q' to end): \")\n",
    "    \n",
    "print('Game Over\\n')"
   ]
  },
  {
   "metadata": {},
   "cell_type": "markdown",
   "source": [
    "OK works pretty well but asks again for a guess at the end of the game which doesn't make much sense. \n",
    "\n",
    "What can we do? We only want to ask for a guess if the user hasn't found the right number. This suggests that we should re-organize the if-statement."
   ]
  },
  {
   "metadata": {},
   "cell_type": "code",
   "outputs": [],
   "execution_count": null,
   "source": [
    "import random\n",
    "\n",
    "# Initial guess\n",
    "num_min = 0\n",
    "num_max = 100\n",
    "num_to_guess = random.randint(num_min, num_max)\n",
    "\n",
    "# Debug mode\n",
    "print('Number to guess:', num_to_guess, '(for debugging)\\n')\n",
    "\n",
    "# Initial guess from user\n",
    "guess = input(\"Guess a number between 0 and 100 inclusive. ('q' to end): \")\n",
    "\n",
    "# Check user input\n",
    "while guess != 'q':\n",
    "    \n",
    "    print(\"You guessed: \", guess)\n",
    "    \n",
    "    # Higher, lowers, or you got it!\n",
    "    guess_int = int(guess) \n",
    "    \n",
    "    if guess_int == num_to_guess:\n",
    "        print(\"You got it!\")\n",
    "    else:\n",
    "        # Is the guess higher or lower?\n",
    "        if guess_int > num_to_guess:\n",
    "            print(\"Lower\")\n",
    "        else:\n",
    "            print(\"Higher\")\n",
    "        \n",
    "        # Make another guess\n",
    "        guess = input(\"Guess a number between 0 and 100 inclusive. ('q' to end): \")\n",
    "        \n",
    "print('Game Over\\n')"
   ]
  },
  {
   "metadata": {},
   "cell_type": "markdown",
   "source": [
    "## `#infiniteloop`\n",
    "This is called an infinite loop which is a type of runtime error and occurs when there is no code that end the loop. It just does on forever. You can press the 'STOP' button at the top to end it."
   ]
  },
  {
   "metadata": {},
   "cell_type": "code",
   "outputs": [],
   "execution_count": null,
   "source": [
    "import random\n",
    "\n",
    "# Initial guess\n",
    "num_min = 0\n",
    "num_max = 100\n",
    "num_to_guess = random.randint(num_min, num_max)\n",
    "\n",
    "# Debug mode\n",
    "print('Number to guess:', num_to_guess, '(for debugging)\\n')\n",
    "\n",
    "# Initial guess from user\n",
    "guess = input(\"Guess a number between 0 and 100 inclusive. ('q' to end): \")\n",
    "\n",
    "# Check user input\n",
    "while guess != 'q':\n",
    "    \n",
    "    print(\"You guessed: \", guess)\n",
    "    \n",
    "    # Higher, lowers, or you got it!\n",
    "    guess_int = int(guess) \n",
    "    \n",
    "    if guess_int == num_to_guess:\n",
    "        print(\"You got it!\")\n",
    "        guess = 'q'\n",
    "    else:\n",
    "        if guess_int > num_to_guess:\n",
    "            print(\"Lower\")\n",
    "        else:\n",
    "            print(\"Higher\")\n",
    "        \n",
    "        # Make another guess\n",
    "        guess = input(\"Guess a number between 0 and 100 inclusive. ('q' to end): \")\n",
    "        \n",
    "print('Game Over\\n')"
   ]
  },
  {
   "metadata": {},
   "cell_type": "markdown",
   "source": [
    "<a id='section7'></a>\n",
    "## 7. Breakout Session 3\n",
    "The code that we previously wrote has been turned into a function called `play_guessing_game`, which you can see below. The function has three parameters `num_min`, `num_max`, and `debug`, which have the following default values `0`, `100`, and `False`. The function returns a boolean. If the player guesses the correct number, `play_guessing_game` returns `True` and if the users quits, `play_guessing_game` returns `False`.\n",
    "\n",
    "### Turn Code Into A Funtion"
   ]
  },
  {
   "metadata": {},
   "cell_type": "code",
   "outputs": [],
   "execution_count": null,
   "source": [
    "import random\n",
    "\n",
    "def play_guessing_game(debug):\n",
    "    \n",
    "    \"\"\"\n",
    "    (boolean) -> boolean\n",
    "    Pick a number and let the user guess until they get it or quit.\n",
    "    Returns true if the player guesses the right number.\n",
    "    Returns False if the player quits.\n",
    "    \"\"\"\n",
    "    \n",
    "    # Initial guess\n",
    "    num_to_guess = random.randint(0, 100)\n",
    "\n",
    "    # Debug mode\n",
    "    if debug:\n",
    "        print('Number to guess:', num_to_guess, '(for debugging)\\n')\n",
    "\n",
    "    # Initial guess from user\n",
    "    guess = input(\"Guess a number between 0 and 100 inclusive. ('q' to end): \")\n",
    "\n",
    "    # Check user input\n",
    "    while guess != 'q':\n",
    "\n",
    "        print(\"You guessed: \", guess)\n",
    "\n",
    "        # Higher, lowers, or you got it!\n",
    "        guess_int = int(guess) \n",
    "\n",
    "        if guess_int == num_to_guess:\n",
    "            print(\"You got it!\")\n",
    "            return True\n",
    "        else:\n",
    "            if guess_int > num_to_guess:\n",
    "                print(\"Lower\")\n",
    "            else:\n",
    "                print(\"Higher\")\n",
    "\n",
    "            # Make another guess\n",
    "            guess = input(\"Guess a number between 0 and 100 inclusive. ('q' to end): \")\n",
    "        \n",
    "    print('Game Over\\n')\n",
    "    \n",
    "    return False"
   ]
  },
  {
   "metadata": {},
   "cell_type": "markdown",
   "source": "Ok, let's try the function. Note: These function has default values for the parameters so we do not have to provide arguments for all of them. See below."
  },
  {
   "metadata": {},
   "cell_type": "code",
   "outputs": [],
   "execution_count": null,
   "source": "out = play_guessing_game(True)"
  },
  {
   "metadata": {},
   "cell_type": "code",
   "outputs": [],
   "execution_count": null,
   "source": "print(out)"
  },
  {
   "metadata": {},
   "cell_type": "markdown",
   "source": [
    "Write code to allow a user to play multiple games. Your code must:\n",
    "\n",
    "- Launch an initial game.\n",
    "- If the player wins the game by guessing the right number, ask them if they want to play again.\n",
    "    - If they want to play again, launch another game.\n",
    "    - If they do not want to play again, end the program.\n",
    "- If the player quits the game, end the program."
   ]
  },
  {
   "metadata": {},
   "cell_type": "code",
   "outputs": [],
   "execution_count": null,
   "source": [
    "play_again = 'y'\n",
    "\n",
    "while ...\n",
    "\n",
    "    # Play game\n",
    "    ...\n",
    "    \n",
    "    # Did the player win or quit or want to play again\n",
    "    ..."
   ]
  }
 ],
 "metadata": {
  "kernelspec": {
   "display_name": "Python 3 (ipykernel)",
   "language": "python",
   "name": "python3"
  },
  "language_info": {
   "codemirror_mode": {
    "name": "ipython",
    "version": 3
   },
   "file_extension": ".py",
   "mimetype": "text/x-python",
   "name": "python",
   "nbconvert_exporter": "python",
   "pygments_lexer": "ipython3",
   "version": "3.11.5"
  }
 },
 "nbformat": 4,
 "nbformat_minor": 4
}
