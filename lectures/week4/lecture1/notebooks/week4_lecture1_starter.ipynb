{
 "cells": [
  {
   "cell_type": "markdown",
   "metadata": {
    "collapsed": true,
    "jupyter": {
     "outputs_hidden": true
    }
   },
   "source": [
    "# APS106 - Fundamentals of Computer Programming\n",
    "## Week 4 | Lecture 1 (4.1) - While Loops, Build Your Own Counters\n",
    "\n",
    "### This Week\n",
    "| Lecture | Topics |\n",
    "| --- | --- |\n",
    "| **4.1** | **while loops, build your own counters** |\n",
    "| 4.2 | more while loops |\n",
    "| 4.3 | Midterm Review |\n",
    "\n",
    "### Lecture Structure\n",
    "1. [Function Use Cases](#section1)\n",
    "2. [Parameters & Arguments](#section2)\n",
    "3. [`print` v.s. `return`](#section3)\n",
    "4. [When is a function done?](#section4)\n",
    "5. [Asking the User a Question](#section5)\n",
    "6. [While Loops](#section6)\n",
    "7. [Infinite Loops](#section7)\n",
    "8. [Back to User Input](#section8)\n",
    "9. [Breakout Session 1](#section9)\n",
    "10. [Turtles and While Loops](#section10)\n",
    "11. [Random Module](#section11)"
   ]
  },
  {
   "cell_type": "markdown",
   "metadata": {},
   "source": [
    "<a id='section1'></a>\n",
    "## 1. Function Use Cases\n",
    "Let's consider a use case for writing multiple functions. Let's say you want to write functions to calculate the volume and surface area of a cylinder.\n",
    "\n",
    "We will need the math module so let's import it."
   ]
  },
  {
   "cell_type": "code",
   "execution_count": null,
   "metadata": {},
   "outputs": [],
   "source": [
    "import math"
   ]
  },
  {
   "cell_type": "markdown",
   "metadata": {},
   "source": [
    "### Function 1: Area of a circle"
   ]
  },
  {
   "cell_type": "code",
   "execution_count": null,
   "metadata": {},
   "outputs": [],
   "source": [
    "def circle_area(radius):\n",
    "    \"\"\"\n",
    "    (number) -> number\n",
    "    Calculates the area of a circle given the radius.\n",
    "    \"\"\"\n",
    "    return math.pi * radius**2"
   ]
  },
  {
   "cell_type": "markdown",
   "metadata": {},
   "source": [
    "### Function 2: Circumference of a Circle"
   ]
  },
  {
   "cell_type": "code",
   "execution_count": null,
   "metadata": {},
   "outputs": [],
   "source": [
    "def circle_circumference(radius):\n",
    "    \"\"\"\n",
    "    (number) -> number\n",
    "    Calculates the circumference of a circle given the radius.\n",
    "    \"\"\"\n",
    "    return 2 * math.pi * radius"
   ]
  },
  {
   "cell_type": "markdown",
   "metadata": {},
   "source": [
    "### Function 3: Volume of a cylinder"
   ]
  },
  {
   "cell_type": "code",
   "execution_count": null,
   "metadata": {},
   "outputs": [],
   "source": [
    "def cylinder_volume(radius, height):\n",
    "    \"\"\"\n",
    "    (number, number) -> number\n",
    "    Calculates the volume of a cylinder given the radius and height.\n",
    "    \"\"\"\n",
    "    area = circle_area(radius) \n",
    "    return area * height"
   ]
  },
  {
   "cell_type": "markdown",
   "metadata": {},
   "source": [
    "### Function 4: Surface area of a cylinder"
   ]
  },
  {
   "cell_type": "code",
   "execution_count": null,
   "metadata": {},
   "outputs": [],
   "source": [
    "def cylinder_surface_area(radius, height):\n",
    "    \"\"\"\n",
    "    (number, number) -> number\n",
    "    Calculates the surface area of a cylinder given the radius and height.\n",
    "    \"\"\"\n",
    "    circumference = circle_circumference(radius)\n",
    "    area = circle_area(radius)\n",
    "    return circumference * height + 2 * area"
   ]
  },
  {
   "cell_type": "markdown",
   "metadata": {},
   "source": [
    "Great, now let's try using it."
   ]
  },
  {
   "cell_type": "code",
   "execution_count": null,
   "metadata": {},
   "outputs": [],
   "source": [
    "radius = 1\n",
    "height = 1"
   ]
  },
  {
   "cell_type": "markdown",
   "metadata": {},
   "source": [
    "Let's calculate the volume."
   ]
  },
  {
   "cell_type": "code",
   "execution_count": null,
   "metadata": {},
   "outputs": [],
   "source": [
    "cylinder_volume(radius, height)"
   ]
  },
  {
   "cell_type": "markdown",
   "metadata": {},
   "source": [
    "An now the surface area."
   ]
  },
  {
   "cell_type": "code",
   "execution_count": null,
   "metadata": {},
   "outputs": [],
   "source": [
    "cylinder_surface_area(radius, height)"
   ]
  },
  {
   "cell_type": "markdown",
   "metadata": {},
   "source": [
    "The point of this example is to show that generally speaking, functions will have input and output. We return outputs using the `return` statement, not `print`."
   ]
  },
  {
   "cell_type": "markdown",
   "metadata": {},
   "source": [
    "<a id='section2'></a>\n",
    "## 2. Parameters & Arguments\n",
    "Let's start by creating a function to calculate the area of a triangle."
   ]
  },
  {
   "cell_type": "code",
   "execution_count": null,
   "metadata": {},
   "outputs": [],
   "source": [
    "def triangle_area(base, height):\n",
    "    \"\"\"\n",
    "    (number, number) -> number\n",
    "    Calculate the area of a triangle given the base length and height.\n",
    "    \"\"\"\n",
    "    return 0.5 * base * height"
   ]
  },
  {
   "cell_type": "code",
   "execution_count": null,
   "metadata": {},
   "outputs": [],
   "source": [
    "base = 1\n",
    "height = 2\n",
    "\n",
    "area = triangle_area(base, height)\n",
    "\n",
    "print(area)"
   ]
  },
  {
   "cell_type": "markdown",
   "metadata": {},
   "source": [
    "Let's see what happens if we change the variable names from `base` and `height` to `x` and `y`.\n",
    "\n",
    "Do you think this will have any effect of the code?"
   ]
  },
  {
   "cell_type": "code",
   "execution_count": null,
   "metadata": {},
   "outputs": [],
   "source": [
    "x = 1\n",
    "y = 2\n",
    "\n",
    "area = triangle_area(x, y)\n",
    "\n",
    "print(area)"
   ]
  },
  {
   "cell_type": "markdown",
   "metadata": {},
   "source": [
    "<a id='section3'></a>\n",
    "## 3. `print` v.s. `return`\n",
    "Let's take a look at our functions from earlier that compute the volume and surface area of a cylinder."
   ]
  },
  {
   "cell_type": "code",
   "execution_count": null,
   "metadata": {},
   "outputs": [],
   "source": [
    "import math\n",
    "\n",
    "def circle_area(radius):\n",
    "    \"\"\"\n",
    "    (number) -> number\n",
    "    Calculates the area of a circle given the radius.\n",
    "    \"\"\"\n",
    "    return math.pi * radius**2\n",
    "\n",
    "def circle_circumference(radius):\n",
    "    \"\"\"\n",
    "    (number) -> number\n",
    "    Calculates the circumference of a circle given the radius.\n",
    "    \"\"\"\n",
    "    return 2 * math.pi * radius\n",
    "\n",
    "def cylinder_volume(radius, height):\n",
    "    \"\"\"\n",
    "    (number, number) -> number\n",
    "    Calculates the volume of a cylinder given the radius and height.\n",
    "    \"\"\"\n",
    "    area = circle_area(radius) \n",
    "    return area * height\n",
    "\n",
    "def cylinder_surface_area(radius, height):\n",
    "    \"\"\"\n",
    "    (number, number) -> number\n",
    "    Calculates the surface area of a cylinder given the radius and height.\n",
    "    \"\"\"\n",
    "    circumference = circle_circumference(radius)\n",
    "    area = circle_area(radius)\n",
    "    return circumference * height + 2 * area"
   ]
  },
  {
   "cell_type": "markdown",
   "metadata": {},
   "source": [
    "Now, let's compute the volume and surface area of a cylinder with `length` and `height`."
   ]
  },
  {
   "cell_type": "code",
   "execution_count": null,
   "metadata": {},
   "outputs": [],
   "source": [
    "radius = 1\n",
    "height = 1\n",
    "\n",
    "volume = cylinder_volume(radius, height)\n",
    "print('The volume is', volume)\n",
    "\n",
    "area = cylinder_surface_area(radius, height)\n",
    "print('The surface area is', area)"
   ]
  },
  {
   "cell_type": "markdown",
   "metadata": {},
   "source": [
    "If `print` and `return` were the same thing, we should be able to replace the `return` statements with `print` statements and the functions should work as expected."
   ]
  },
  {
   "cell_type": "code",
   "execution_count": null,
   "metadata": {},
   "outputs": [],
   "source": [
    "import math\n",
    "\n",
    "def circle_area(radius):\n",
    "    \"\"\"\n",
    "    (number) -> number\n",
    "    Calculates the area of a circle given the radius.\n",
    "    \"\"\"\n",
    "    print(math.pi * radius**2)\n",
    "\n",
    "def circle_circumference(radius):\n",
    "    \"\"\"\n",
    "    (number) -> number\n",
    "    Calculates the circumference of a circle given the radius.\n",
    "    \"\"\"\n",
    "    print(2 * math.pi * radius)\n",
    "\n",
    "def cylinder_volume(radius, height):\n",
    "    \"\"\"\n",
    "    (number, number) -> number\n",
    "    Calculates the volume of a cylinder given the radius and height.\n",
    "    \"\"\"\n",
    "    area = circle_area(radius) \n",
    "    print(area * height)\n",
    "\n",
    "def cylinder_surface_area(radius, height):\n",
    "    \"\"\"\n",
    "    (number, number) -> number\n",
    "    Calculates the surface area of a cylinder given the radius and height.\n",
    "    \"\"\"\n",
    "    circumference = circle_circumference(radius)\n",
    "    area = circle_area(radius)\n",
    "    print(circumference * height + 2 * area)"
   ]
  },
  {
   "cell_type": "markdown",
   "metadata": {},
   "source": [
    "Now, let's compute the volume and surface area of a cylinder with `length` and `height`."
   ]
  },
  {
   "cell_type": "code",
   "execution_count": null,
   "metadata": {},
   "outputs": [],
   "source": [
    "radius = 1\n",
    "height = 1\n",
    "\n",
    "volume = cylinder_volume(radius, height)\n",
    "print('The volume is', volume)\n",
    "\n",
    "area = cylinder_surface_area(radius, height)\n",
    "print('The surface area is', area)"
   ]
  },
  {
   "cell_type": "markdown",
   "metadata": {},
   "source": [
    "### `print` usecase 1\n",
    "#### Debugging"
   ]
  },
  {
   "cell_type": "code",
   "execution_count": null,
   "metadata": {},
   "outputs": [],
   "source": [
    "import math\n",
    "\n",
    "def circle_area(radius):\n",
    "    \"\"\"\n",
    "    (number) -> number\n",
    "    Calculates the area of a circle given the radius.\n",
    "    \"\"\"\n",
    "    return math.pi * radius**2\n",
    "\n",
    "def circle_volume(radius, height):\n",
    "    \"\"\"\n",
    "    (number, number) -> number\n",
    "    Calculates the volume of a circle given the radius and height.\n",
    "    \"\"\"\n",
    "    area = circle_area(radius) \n",
    "    volume = area + height    \n",
    "    \n",
    "    return volume"
   ]
  },
  {
   "cell_type": "code",
   "execution_count": null,
   "metadata": {},
   "outputs": [],
   "source": [
    "radius = 1\n",
    "height = 1\n",
    "\n",
    "volume = circle_volume(radius, height)\n",
    "print('The volume is', volume)"
   ]
  },
  {
   "cell_type": "markdown",
   "metadata": {},
   "source": [
    "### `print` usecase 2\n",
    "#### Progress/process output"
   ]
  },
  {
   "cell_type": "code",
   "execution_count": 1,
   "metadata": {},
   "outputs": [
    {
     "name": "stdout",
     "output_type": "stream",
     "text": [
      "Downloading data from cloud...\n",
      "Download complete.\n",
      "\n",
      "Prepare data for training...\n",
      "Preprocessing complete.\n",
      "\n",
      "Training AI model...\n",
      "10% complete...\n",
      "20% complete...\n",
      "30% complete...\n",
      "40% complete...\n",
      "50% complete...\n",
      "60% complete...\n",
      "70% complete...\n",
      "80% complete...\n",
      "90% complete...\n",
      "100% complete...\n",
      "\n",
      "Uploading final model and results to the cloud...\n",
      "Upload complete.\n",
      "\n",
      "Training complete.\n"
     ]
    }
   ],
   "source": [
    "import week4_lecture1_utils as utils\n",
    "\n",
    "utils.train_ai_model()"
   ]
  },
  {
   "cell_type": "markdown",
   "metadata": {},
   "source": [
    "### Term Test Prep\n",
    "#### Question 1: (A) or (B)\n",
    "Write a function to calculate and return the area of a triangle given a base length and height.\n",
    "\n",
    "##### (A)"
   ]
  },
  {
   "cell_type": "code",
   "execution_count": null,
   "metadata": {},
   "outputs": [],
   "source": [
    "def triangle_ara(base, height):\n",
    "    \"\"\"\n",
    "    (number, number) -> number\n",
    "    \"\"\"\n",
    "    return 0.5 * base * height"
   ]
  },
  {
   "cell_type": "markdown",
   "metadata": {},
   "source": [
    "##### (B)"
   ]
  },
  {
   "cell_type": "code",
   "execution_count": null,
   "metadata": {},
   "outputs": [],
   "source": [
    "def triangle_ara(base, height):\n",
    "    \"\"\"\n",
    "    (number, number) -> number\n",
    "    \"\"\"\n",
    "    print(0.5 * base * height)"
   ]
  },
  {
   "cell_type": "markdown",
   "metadata": {},
   "source": [
    "#### Question 2: (A) or (B)\n",
    "Write a function to display the following message to a user: `\"Have a nice day!\"`.\n",
    "##### (A)"
   ]
  },
  {
   "cell_type": "code",
   "execution_count": null,
   "metadata": {},
   "outputs": [],
   "source": [
    "def triangle_ara():\n",
    "    \"\"\"\n",
    "    () -> None\n",
    "    \"\"\"\n",
    "    print(\"Have a nice day!\")"
   ]
  },
  {
   "cell_type": "markdown",
   "metadata": {},
   "source": [
    "##### (B)"
   ]
  },
  {
   "cell_type": "code",
   "execution_count": null,
   "metadata": {},
   "outputs": [],
   "source": [
    "def triangle_ara(base, height):\n",
    "    \"\"\"\n",
    "    () -> str\n",
    "    \"\"\"\n",
    "    return \"Have a nice day!\""
   ]
  },
  {
   "cell_type": "code",
   "execution_count": null,
   "metadata": {},
   "outputs": [],
   "source": [
    "def triangle_ara():\n",
    "    \"\"\"\n",
    "    () -> None\n",
    "    \"\"\"\n",
    "    print(\"Have a nice day!\")"
   ]
  },
  {
   "cell_type": "markdown",
   "metadata": {},
   "source": [
    "##### (B)"
   ]
  },
  {
   "cell_type": "code",
   "execution_count": null,
   "metadata": {},
   "outputs": [],
   "source": [
    "def triangle_ara(base, height):\n",
    "    \"\"\"\n",
    "    () -> str\n",
    "    \"\"\"\n",
    "    return \"Have a nice day!\""
   ]
  },
  {
   "cell_type": "markdown",
   "metadata": {},
   "source": [
    "<a id='section4'></a>\n",
    "## 4. When is a function done?\n",
    "#### What line is the last to be executed when this function is called and what does it return?"
   ]
  },
  {
   "cell_type": "code",
   "execution_count": null,
   "metadata": {},
   "outputs": [],
   "source": [
    "def func(x):\n",
    "    x+=1\n",
    "    x+=1\n",
    "    x+=1\n",
    "    return x"
   ]
  },
  {
   "cell_type": "code",
   "execution_count": null,
   "metadata": {},
   "outputs": [],
   "source": [
    "out = func(1)\n",
    "print(out)"
   ]
  },
  {
   "cell_type": "markdown",
   "metadata": {},
   "source": [
    "#### What line is the last to be executed when this function is called and what does it return?"
   ]
  },
  {
   "cell_type": "code",
   "execution_count": null,
   "metadata": {},
   "outputs": [],
   "source": [
    "def func(x):\n",
    "    x+=1\n",
    "    x+=1\n",
    "    x+=1\n",
    "    x-=1\n",
    "    x/=1\n",
    "    return x\n",
    "    x+=1\n",
    "    x+=1\n",
    "    x+=1"
   ]
  },
  {
   "cell_type": "code",
   "execution_count": null,
   "metadata": {},
   "outputs": [],
   "source": [
    "out = func(1)\n",
    "print(out)"
   ]
  },
  {
   "cell_type": "markdown",
   "metadata": {},
   "source": [
    "#### What line is the last to be executed when this function is called and what does it return?"
   ]
  },
  {
   "cell_type": "code",
   "execution_count": null,
   "metadata": {},
   "outputs": [],
   "source": [
    "def func(x):\n",
    "    x+=1\n",
    "    x+=1\n",
    "    x+=1\n",
    "    x-=1\n",
    "    x/=1\n",
    "    x+=1\n",
    "    x+=1\n",
    "    x+=1"
   ]
  },
  {
   "cell_type": "code",
   "execution_count": null,
   "metadata": {},
   "outputs": [],
   "source": [
    "out = func(1)\n",
    "print(out)"
   ]
  },
  {
   "cell_type": "markdown",
   "metadata": {},
   "source": [
    "#### What line is the last to be executed when this function is called and what does it return?"
   ]
  },
  {
   "cell_type": "code",
   "execution_count": null,
   "metadata": {},
   "outputs": [],
   "source": [
    "def func(x):\n",
    "    if x == 0:\n",
    "        return x\n",
    "    if x < 1:\n",
    "        return x\n",
    "    if x >= 1:\n",
    "        x+=1\n",
    "    else:\n",
    "        return x"
   ]
  },
  {
   "cell_type": "code",
   "execution_count": null,
   "metadata": {},
   "outputs": [],
   "source": [
    "out = func(1)\n",
    "print(out)"
   ]
  },
  {
   "cell_type": "markdown",
   "metadata": {},
   "source": [
    "<a id='section5'></a>\n",
    "## 5. Asking the User a Question\n",
    "\n",
    "Let's say you want to ask the user a question that has a yes-or-no answer. For example, \"Do you think the Toronto Maple Leafs will win the Stanley Cup in your lifetime?\"\n",
    "\n",
    "With what we have studied so far, this should be pretty easy."
   ]
  },
  {
   "cell_type": "code",
   "execution_count": null,
   "metadata": {},
   "outputs": [],
   "source": [
    "..."
   ]
  },
  {
   "cell_type": "markdown",
   "metadata": {},
   "source": [
    "<br>\n",
    "<img src=\"images/sens.png\" alt=\"drawing\" width=\"400\"/>\n",
    "<br>\n",
    "\n",
    "OK, so we've written code that satisfied our problem requirements. \n",
    "\n",
    "But, what if a user inputs a `'t'` when they meant to input a `'y'`?\n",
    "\n",
    "Well, we could add as `else` statement to catch this error."
   ]
  },
  {
   "cell_type": "code",
   "execution_count": null,
   "metadata": {},
   "outputs": [],
   "source": [
    "answer = input(\"Do you think the Toronto Maple Leafs will win the Stanley Cup in your lifetime? (y/n): \")\n",
    "\n",
    "if answer == 'y':\n",
    "    print(\"You are going to live for a very long time.\")\n",
    "elif answer == 'n':\n",
    "    print(\"Well, sometimes miracles happen.\")\n",
    "..."
   ]
  },
  {
   "cell_type": "markdown",
   "metadata": {},
   "source": [
    "Ok, this kinda works.\n",
    "\n",
    "But, the user was not able to try again given they clearly made a typo.\n",
    "\n",
    "We could try copying our code again into the `else` statement."
   ]
  },
  {
   "cell_type": "code",
   "execution_count": null,
   "metadata": {},
   "outputs": [],
   "source": [
    "answer = input(\"Do you think the Toronto Maple Leafs will win the Stanley Cup in your lifetime? (y/n): \")\n",
    "\n",
    "if answer == 'y':\n",
    "    print(\"You are going to live for a very long time.\")\n",
    "elif answer == 'n':\n",
    "    print(\"Well, sometimes miracles happen.\")\n",
    "else:\n",
    "    print(\"Sorry, that was not one of the options.\")\n",
    "    \n",
    "    # Copied code\n",
    "    ..."
   ]
  },
  {
   "cell_type": "markdown",
   "metadata": {},
   "source": [
    "But, what if the user inputs two incorrect values?\n",
    "\n",
    "We can keep pasting that code forever because we don't know how many mistakes a user will make.\n",
    "\n",
    "We could use a `while` loop to continue to prompt the user for an input until a correct value (either `'y'` or `'n'`) is entered.\n",
    "\n",
    "Let's learn about `while` loops and then revisit this problem."
   ]
  },
  {
   "cell_type": "markdown",
   "metadata": {},
   "source": [
    "<a id='section6'></a>\n",
    "## 6. While Loops\n",
    "The form of a while-loop is:\n",
    "\n",
    "```python\n",
    "while expression:    \n",
    "    body\n",
    "```\n",
    "\n",
    "`expression` is a boolean expression: it evaluates to `True` or `False`. While it is `True` the code in `body` is executed and then the execution returns to the `while` line and evaluates `expression` again. If it is still `True`, execute `body`, loop back, and test `expression` again. If `expression` is `False`, skip `body` and go to the next line after it.\n",
    "\n",
    "How can we use a while-loop to print the integers between 0 and 9?"
   ]
  },
  {
   "cell_type": "code",
   "execution_count": null,
   "metadata": {},
   "outputs": [],
   "source": [
    "x = 0\n",
    "while x < 10:\n",
    "    print('x is now:', x)\n",
    "    x += 1\n",
    "    \n",
    "print('\\nFinished')\n",
    "print('x =', x)"
   ]
  },
  {
   "cell_type": "markdown",
   "metadata": {},
   "source": [
    "Wow, that was fast! Let's slow things down so we can see what's going on."
   ]
  },
  {
   "cell_type": "code",
   "execution_count": null,
   "metadata": {},
   "outputs": [],
   "source": [
    "import time\n",
    "\n",
    "x = 0\n",
    "print('x is initially set to:', x)\n",
    "\n",
    "print('Starting While loop\\n')\n",
    "while x < 10:\n",
    "    \n",
    "    time.sleep(1.5)\n",
    "    print('Starting an iteration, x =', x)\n",
    "    \n",
    "    time.sleep(1.5)\n",
    "    print('Updating x,', x, '+ 1 = ', x + 1)\n",
    "    x += 1\n",
    "    \n",
    "    time.sleep(1.5)\n",
    "    if x < 10:\n",
    "        print('Condition', x, '< 10 is True')\n",
    "        print('Continuing to next iteration\\n')\n",
    "    else:\n",
    "        print('Condition', x, '< 10 is False')\n",
    "        print('Exiting While loop')"
   ]
  },
  {
   "cell_type": "markdown",
   "metadata": {},
   "source": [
    "What if we wanted to know which integers have a squared value less than 200?"
   ]
  },
  {
   "cell_type": "code",
   "execution_count": null,
   "metadata": {},
   "outputs": [],
   "source": [
    "x = 0\n",
    "while x*x < 200:\n",
    "    print(x)\n",
    "    x = x + 1"
   ]
  },
  {
   "cell_type": "markdown",
   "metadata": {},
   "source": [
    "<a id='section7'></a>\n",
    "## 7. Infinite Loops\n",
    "Let's go back to our original code and remove the indentation of `x +=1`.\n",
    "\n",
    "What do you think will happen?"
   ]
  },
  {
   "cell_type": "code",
   "execution_count": null,
   "metadata": {},
   "outputs": [],
   "source": [
    "x = 0\n",
    "while x < 10:\n",
    "    print('x is now:', x)"
   ]
  },
  {
   "cell_type": "markdown",
   "metadata": {},
   "source": [
    "Yikes! Click the `stop` button to break out of the loop.\n",
    "\n",
    "### Question: What type of error is this?\n",
    "#### Syntax, Logic, Semantic, Runtime?"
   ]
  },
  {
   "cell_type": "markdown",
   "metadata": {},
   "source": [
    "<a id='section8'></a>\n",
    "## 8. Back to User Input\n",
    "Now, let's go back to our user input example.\n",
    "\n",
    "How can we use a `while` loop to keep asking the user the question until they answer `'y'` or `'n'`?\n",
    "\n",
    "Let's start with some of the code we wrote above. How are we going to adapt it?"
   ]
  },
  {
   "cell_type": "code",
   "execution_count": null,
   "metadata": {},
   "outputs": [],
   "source": [
    "answer = input(\"Do you think the Toronto Maple Leafs will win the Stanley Cup in your lifetime? (y/n): \")\n",
    "\n",
    "if answer == 'y':\n",
    "    print(\"You are going to live for a very long time.\")\n",
    "elif answer == 'n':\n",
    "    print(\"Well, sometimes miracles happen.\")\n",
    "else:\n",
    "    print(\"Sorry, that was not one of the options.\")"
   ]
  },
  {
   "cell_type": "markdown",
   "metadata": {},
   "source": [
    "We can use a `while` loop to continue asking the question `\"Do you think the Toronto Maple Leafs will win the Stanley Cup in your lifetime? (y/n): \"` until the user enters `'y'` or `'n'`."
   ]
  },
  {
   "cell_type": "code",
   "execution_count": null,
   "metadata": {},
   "outputs": [],
   "source": [
    "answer = input(\"Do you think the Toronto Maple Leafs will win the Stanley Cup in your lifetime? (y/n): \")\n",
    "\n",
    "# Write code to ask the user for an answer until they input a valid response ('y' or 'n')\n",
    "...\n",
    "    \n",
    "if answer == 'y':\n",
    "    print(\"You are going to live for a very long time.\")\n",
    "else:\n",
    "    print(\"Well, sometimes miracles happen.\")"
   ]
  },
  {
   "cell_type": "markdown",
   "metadata": {},
   "source": [
    "### Question: Why is it OK to just use an `else` (not an `elif`)?"
   ]
  },
  {
   "cell_type": "markdown",
   "metadata": {},
   "source": [
    "<a id='section9'></a>\n",
    "## 9. Breakout Session 1\n",
    "Wire a code to print all the numbers from 0 to 20 that aren’t evenly divisible by either 3 or 5.\n",
    "\n",
    "Zero is divisible by everything and should not appear in the output.\n",
    "\n",
    "Your code should output the following:\n",
    "```python\n",
    "1\n",
    "2\n",
    "4\n",
    "7\n",
    "8\n",
    "11\n",
    "13\n",
    "14\n",
    "16\n",
    "17\n",
    "19\n",
    "```"
   ]
  },
  {
   "cell_type": "code",
   "execution_count": null,
   "metadata": {},
   "outputs": [],
   "source": [
    "# Write your code here"
   ]
  },
  {
   "cell_type": "markdown",
   "metadata": {},
   "source": [
    "<a id='section10'></a>\n",
    "## 10. Turtles and While Loops"
   ]
  },
  {
   "cell_type": "markdown",
   "metadata": {},
   "source": [
    "Install the Turtles package `mobilechelonian` that renders in the notebook. "
   ]
  },
  {
   "cell_type": "code",
   "execution_count": null,
   "metadata": {},
   "outputs": [],
   "source": [
    "!pip install mobilechelonian"
   ]
  },
  {
   "cell_type": "markdown",
   "metadata": {},
   "source": [
    "There is a built-in turtles packaged called `turtle` with more functionality but it doesn't render in the notebook. We'll use `mobilechelonian` for an easy introduction to `Turtle`.\n",
    "\n",
    "The turtle takes steps to the right of size `step_size`. How many steps does it need to take until it hits the wall.\n",
    "\n",
    "We have a useful function called `continue_walking`, which outputs `False` when the turtle hits the wall but otherwise outputs `True`.\n",
    "\n",
    "Let's try out the function."
   ]
  },
  {
   "cell_type": "code",
   "execution_count": 2,
   "metadata": {},
   "outputs": [
    {
     "data": {
      "application/vnd.jupyter.widget-view+json": {
       "model_id": "438510969ef34749ae290d73bfb6cff8",
       "version_major": 2,
       "version_minor": 0
      },
      "text/plain": [
       "Turtle()"
      ]
     },
     "metadata": {},
     "output_type": "display_data"
    },
    {
     "data": {
      "text/plain": [
       "False"
      ]
     },
     "execution_count": 2,
     "metadata": {},
     "output_type": "execute_result"
    }
   ],
   "source": [
    "from week4_lecture1_utils import continue_walking\n",
    "from mobilechelonian import Turtle\n",
    "\n",
    "turtle = Turtle()\n",
    "continue_walking(turtle, 2000)"
   ]
  },
  {
   "cell_type": "markdown",
   "metadata": {},
   "source": [
    "Ok, let's try coding this up."
   ]
  },
  {
   "cell_type": "code",
   "execution_count": null,
   "metadata": {},
   "outputs": [],
   "source": [
    "import time\n",
    "from week4_lecture1_utils import continue_walking\n",
    "from mobilechelonian import Turtle\n",
    "\n",
    "turtle = Turtle()\n",
    "\n",
    "step_size = 50\n",
    "step_count = 0\n",
    "\n",
    "while continue_walking(turtle, step_size):\n",
    "    \n",
    "    turtle.forward(step_size)\n",
    "    step_count += 1\n",
    "    \n",
    "    print('Turtle has made', step_count, 'step.')\n",
    "    print('Condition is:', continue_walking(turtle, step_size), '\\n')\n",
    "    \n",
    "    time.sleep(2)\n",
    "    \n",
    "print('Distance to the wall is:', step_count * step_size)"
   ]
  },
  {
   "cell_type": "markdown",
   "metadata": {},
   "source": [
    "<a id='section11'></a>\n",
    "## 11. Random Module\n",
    "Let's import the `random` module."
   ]
  },
  {
   "cell_type": "code",
   "execution_count": null,
   "metadata": {},
   "outputs": [],
   "source": [
    "import random"
   ]
  },
  {
   "cell_type": "markdown",
   "metadata": {},
   "source": [
    "Check out the `help` function."
   ]
  },
  {
   "cell_type": "code",
   "execution_count": null,
   "metadata": {},
   "outputs": [],
   "source": [
    "help(random)"
   ]
  },
  {
   "cell_type": "markdown",
   "metadata": {},
   "source": [
    "#### `randint(a, b)`\n",
    "Return a random integer N such that a <= N <= b."
   ]
  },
  {
   "cell_type": "code",
   "execution_count": null,
   "metadata": {},
   "outputs": [],
   "source": [
    "random.randint(5, 10)"
   ]
  },
  {
   "cell_type": "markdown",
   "metadata": {},
   "source": [
    "#### `random()`\n",
    "Return the next random floating point number in the range 0.0 to 1.0."
   ]
  },
  {
   "cell_type": "code",
   "execution_count": null,
   "metadata": {},
   "outputs": [],
   "source": [
    "random.random()"
   ]
  },
  {
   "cell_type": "markdown",
   "metadata": {},
   "source": [
    "#### `uniform(a, b)`\n",
    "Return a random floating point number N such that a <= N <= b."
   ]
  },
  {
   "cell_type": "code",
   "execution_count": null,
   "metadata": {},
   "outputs": [],
   "source": [
    "random.uniform(5, 10)"
   ]
  }
 ],
 "metadata": {
  "kernelspec": {
   "display_name": "Python 3",
   "language": "python",
   "name": "python3"
  },
  "language_info": {
   "codemirror_mode": {
    "name": "ipython",
    "version": 3
   },
   "file_extension": ".py",
   "mimetype": "text/x-python",
   "name": "python",
   "nbconvert_exporter": "python",
   "pygments_lexer": "ipython3",
   "version": "3.6.15"
  }
 },
 "nbformat": 4,
 "nbformat_minor": 4
}
