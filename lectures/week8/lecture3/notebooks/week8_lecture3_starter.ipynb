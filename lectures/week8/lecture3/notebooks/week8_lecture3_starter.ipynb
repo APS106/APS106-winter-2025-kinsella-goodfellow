{
 "cells": [
  {
   "cell_type": "markdown",
   "id": "b3c9130e",
   "metadata": {},
   "source": [
    "# APS106 Design Problem\n",
    "\n",
    "## Wordle - Problem Background\n",
    "\n",
    "Your good friend just introduced you to Wordle, the New York Times word-guessing game that went viral during the pandemic. As a problem-solver, this game has captivated your attention, but alas the NY Times only gives you one word a day, limiting how much you can be playing this game.\n",
    "\n",
    "You realize that with your recent knowledge of string manipulation you know enough to be dangerous and design your own (and maybe better!) Wordle game in Python. To design this game, you will be relying on your knowledge of strings and string methods, while and for loops, and escape characters for print formatting.\n",
    "\n",
    "Make sure your code is efficient, well-thought-out, and accounts for all possibilities so can start to Wordle as soon as possible.\n",
    "\n",
    "Here is a link to the original Wordle game online, play here: https://www.nytimes.com/games/wordle/index.html\n",
    "\n",
    "If you wanted to read a bit about Wordle instead, plus an infographic: https://www.cnet.com/how-to/wordle-explained-what-you-need-to-know-about-the-viral-word-game/\n",
    "\n",
    "<br>\n",
    "<img src=\"images/wordle.png\" alt=\"drawing\" width=\"600\"/>\n",
    "<br>"
   ]
  },
  {
   "cell_type": "markdown",
   "id": "38514613",
   "metadata": {},
   "source": [
    "## Define the problem\n",
    "This is a word guessing game relying on string inputs, where we have to have an acceptable (real, 5-letter) word which is the solution, have acceptable user guesses, allow the user up to 6 guesses, and indicate to the user the correctness of their guess by color coding the letters, based on if they are correct and in correct position (green), the correct letter in wrong position (yellow) or not in the word (grey). The final program will obey the game's rules and account for all possible scenarios to be as comprehensive as possible.\n",
    "\n",
    "The difficult part of this programming exercise will be to define all the checks on the user input and indicating to the end user how close they are to the correct solution. Escape characters will be used to do the color coding part of the game, but you should still consider how to make your program respond once the user gets the correct guess (i.e. if you are using a loop to check the guess each time, how could you indicate when the game should stop?).\n",
    "\n",
    "Let's discuss some test cases."
   ]
  },
  {
   "cell_type": "markdown",
   "id": "f9033f0d",
   "metadata": {},
   "source": [
    "## Define Test Cases\n",
    "\n",
    "Firstly, using the dictionaries make sure that user input for solution and any guesses are real words, with 5 letters. Make sure to account for incorrect user inputs, by asking for a new input (and checking that one as well).\n",
    "\n",
    "Make sure that the user gets 6 attempts to guess the word.\n",
    "\n",
    "What happens if the user gets the word right? Does the game end or does it continue to use their remaining attempts?\n",
    "\n",
    "Are the correct letters being color coded, and in the correct positions?\n",
    "\n",
    "Is your string of incorrect guesses containing the correct letters?"
   ]
  },
  {
   "cell_type": "markdown",
   "id": "d730092a",
   "metadata": {},
   "source": [
    "## Generate multiple solutions\n",
    "Based on what we have learned so far, our program must:\n",
    "1. Use input statements to get a solution and user guesses\n",
    "2. Use loops to keep track of the # of attempts \n",
    "3. Use loops to check the guess string compared to the solution string and display this result\n",
    "4. Have a string keeping track of all the incorrect letters (i.e. guessed letters not in solution).\n",
    "5. Finish the game if either the user has no more attempts, or the correct word is guessed\n",
    "\n",
    "One possible programming plan would be:\n",
    "1. Get a list of all valid words\n",
    "2. Get a random word from that list of all valid words\n",
    "3. Get a valid (5-letter and a real word) guess from the user\n",
    "4. Provide feedback to the user if the guess/word is invalid and why\n",
    "5. Compare each letter of guess to the solution letters.\n",
    "6. Indicate which letters are correct, which are incorrect in a clear print output to users.\n",
    "7. Keep an internal score, to indicate if all 5 letters in a guess are correct.\n",
    "8. Track number of attempts, as well as all incorrect letters in guesses (see image near bottom of notebook).\n",
    "\n",
    "## What tools do you have in our coding toolbox that might allow us to implement this cleanly or easily?"
   ]
  },
  {
   "cell_type": "code",
   "execution_count": null,
   "id": "c87b4508",
   "metadata": {},
   "outputs": [],
   "source": [
    "#what tools can you think of that you've learned that might be helpful for each step?\n",
    "\n"
   ]
  },
  {
   "cell_type": "markdown",
   "id": "a2b1bf4a",
   "metadata": {},
   "source": [
    "## Select a Solution\n",
    "As we know how to do each of the individual pieces in this plan, we can select it and proceed.\n",
    "\n",
    "### Breakout Session 1: Load a list of valid words\n",
    "The file `valid-wordle-words.txt` contains a list of all acceptable words for the game. Let's open the file and store the words in a list."
   ]
  },
  {
   "cell_type": "code",
   "execution_count": null,
   "id": "cb30fd63",
   "metadata": {},
   "outputs": [],
   "source": [
    "# create an empty list that will be used to store the words\n",
    "valid_words = []\n",
    "\n",
    "# open the file for reading\n",
    "\n",
    "\n",
    "# each line in the file contains a word\n",
    "# loop over the lines and add (append) each word to the valid_words list\n",
    "# hint: 'for line in file' iterates over each line.\n",
    "# hint: the 'strip' method removes the newline '\\n' character after each word\n",
    "\n",
    "#close the file\n"
   ]
  },
  {
   "cell_type": "markdown",
   "id": "921cdeba",
   "metadata": {},
   "source": [
    "### Test it!\n",
    "Below should print the number of words in the file, and the first 10 words in the file."
   ]
  },
  {
   "cell_type": "code",
   "execution_count": null,
   "id": "bc81f26d",
   "metadata": {},
   "outputs": [],
   "source": [
    "print(\"The number of valid words is: \", len(valid_words))\n",
    "print(\"The first 10 valid words are: \", valid_words[:10])"
   ]
  },
  {
   "cell_type": "markdown",
   "id": "2757d7bb",
   "metadata": {},
   "source": [
    "### Breakout Session 2: Select a random word as the solution\n",
    "\n",
    "Next, let's write a function called `get_solution` to select a random word from the list to use as a solution. We'll use the `randint` function from the `random` module to pick a word from a random index in the list.\n",
    "\n",
    "We will ask the user for input and lower the case of their input. After this, we'll check the user's input to see if its valid and if not, we'll give them some feedback and ask them to input their guess again.\n"
   ]
  },
  {
   "cell_type": "code",
   "execution_count": 13,
   "id": "4fd9902b",
   "metadata": {},
   "outputs": [
    {
     "name": "stdout",
     "output_type": "stream",
     "text": [
      "Help on method randint in module random:\n",
      "\n",
      "randint(a, b) method of random.Random instance\n",
      "    Return random integer in range [a, b], including both end points.\n",
      "\n"
     ]
    }
   ],
   "source": [
    "import random\n",
    "help(random.randint)"
   ]
  },
  {
   "cell_type": "code",
   "execution_count": 16,
   "id": "ae012bec",
   "metadata": {},
   "outputs": [],
   "source": [
    "import random\n",
    "\n",
    "def get_solution(valid_words):\n",
    "    \"\"\"\n",
    "    (list of strings) -> str\n",
    "    Pick a random string from the list and return it\n",
    "    \"\"\"\n",
    "    # use random to get a random index value\n",
    "    # hint: randint(a,b) returns random integer in range [a,b]\n",
    "    \n",
    "    #return one random word"
   ]
  },
  {
   "cell_type": "markdown",
   "id": "64850bdd",
   "metadata": {},
   "source": [
    "### Test it!\n",
    "\n",
    "Run the below cell multiple times.  \n",
    "Does your function return a random word each time?"
   ]
  },
  {
   "cell_type": "code",
   "execution_count": null,
   "id": "abe233a3",
   "metadata": {
    "scrolled": true
   },
   "outputs": [],
   "source": [
    "solution = get_solution(valid_words)\n",
    "print(\"The super secret solution is: \", solution)"
   ]
  },
  {
   "cell_type": "markdown",
   "id": "6d752ace",
   "metadata": {},
   "source": [
    "## Get a guess from the user\n",
    "\n",
    "Now that we have a list of acceptable words and a secret solution word, we want to get guesses from the user. We know that we can use the `input` function to get user input. However, the `input` function alone won't check whether the input is a valid 5 letter word, so we'll write a function called `get_guess` that:\n",
    "1. prompts the user to enter a guess\n",
    "2. checks if the word is valid\n",
    "3. if the word is invalid, tell the user why it is invalid, and ask them to enter another word\n",
    "4. if the word is valid, return the word\n",
    "\n",
    "The `get_guess` function is written below. It calls an additional function `get_input_feedback` which checks if the entered guess string is valid."
   ]
  },
  {
   "cell_type": "markdown",
   "id": "b2da869f",
   "metadata": {},
   "source": [
    "## Breakout Session 3: Check a user's guess for validity\n",
    "\n",
    "The function `get_input_feedback` takes in a user's guess and prints one of the following messages if the guess is invalid:\n",
    "- String longer than 5 character: `'Your word is too long!'`\n",
    "- String shorter than 5 character: `'Your word is too short!'`\n",
    "- String contains non-letter characters: `'Your word contains invalid characters!'`\n",
    "- String is not a real word: `'This isn't a real word!'`\n",
    "\n",
    "The function should return `True` if the guess is valid and `False` if the guess is invalid.\n",
    "\n",
    "#### Hint: the string method .isalpha() returns True if string is only Alphabetical characters"
   ]
  },
  {
   "cell_type": "code",
   "execution_count": 21,
   "id": "2c000c3e",
   "metadata": {},
   "outputs": [],
   "source": [
    "def get_input_feedback(guess, valid_words):\n",
    "    \"\"\"\n",
    "    (str, list of str) -> bool\n",
    "    Check the string and provide feedback to the user.\n",
    "    Returns true if the guess is valid, false otherwise.\n",
    "    \"\"\"\n",
    "    \n",
    "    #check for word length and the word being real\n",
    "    \n",
    "    #return boolean representing validity\n"
   ]
  },
  {
   "cell_type": "markdown",
   "id": "1541fe9a",
   "metadata": {},
   "source": [
    "### Test Cases\n",
    "#### Test 1 - too long: "
   ]
  },
  {
   "cell_type": "code",
   "execution_count": null,
   "id": "7d3d6318",
   "metadata": {},
   "outputs": [],
   "source": [
    "get_input_feedback('Joseph', valid_words)"
   ]
  },
  {
   "cell_type": "markdown",
   "id": "0ecfb1d9",
   "metadata": {},
   "source": [
    "#### Test 2 - invalid characters"
   ]
  },
  {
   "cell_type": "code",
   "execution_count": null,
   "id": "7be1a82d",
   "metadata": {},
   "outputs": [],
   "source": [
    "get_input_feedback('99!!!', valid_words)"
   ]
  },
  {
   "cell_type": "markdown",
   "id": "cddfa944",
   "metadata": {},
   "source": [
    "## Breakout Session 4: Ask the user for a guess until valid\n",
    "\n",
    "The function should ask for the user to input a word until they input a valid word.  \n",
    "\n",
    "If the word is invalid (not 5 letters, or not a real word) it will give the user a meaningful message and prompt them to input another word."
   ]
  },
  {
   "cell_type": "code",
   "execution_count": 26,
   "id": "970e2a6a",
   "metadata": {},
   "outputs": [],
   "source": [
    "def get_guess(valid_words):\n",
    "    \"\"\"\n",
    "    (list of strings) -> str\n",
    "    \n",
    "    Ask the user to guess a 5 letter word and check if its valid.\n",
    "    The first valid entry is returned.\n",
    "    \"\"\"\n",
    "    \n",
    "    #Ask user for a guess\n",
    "    \n",
    "    # convert the guess to lower-case\n",
    "    \n",
    "    #If not a valid word, ask again (hint: use get_input_feedback)\n",
    "    \n",
    "    #Return a valid word\n",
    "    "
   ]
  },
  {
   "cell_type": "markdown",
   "id": "03855ff8",
   "metadata": {},
   "source": [
    "### Test it!\n",
    "\n",
    "The function should ask for the user to input a word until they input a valid word. \n",
    "\n",
    "Does your function work for less than 5 letters?  \n",
    "Does your function work for more than 5 letters?  \n",
    "Does your function work if it's not a real word?  \n",
    "Does your function end when a valid word is entered?"
   ]
  },
  {
   "cell_type": "code",
   "execution_count": null,
   "id": "4ab8dfd6",
   "metadata": {},
   "outputs": [],
   "source": [
    "get_guess(valid_words) #requires the previous cells to be called and working"
   ]
  },
  {
   "cell_type": "markdown",
   "id": "713a1d1a",
   "metadata": {},
   "source": [
    "## Put together the game\n",
    "\n",
    "Now that we can get solutions and guesses, let's code up the actual game.\n",
    "\n",
    "Below is an example of what the output from this game looks like. Let's walk through it step by step.\n",
    "<br>\n",
    "<img src=\"images/sample.png\" alt=\"drawing\" width=\"600\"/>\n",
    "<br>\n"
   ]
  },
  {
   "cell_type": "markdown",
   "id": "54bc9785",
   "metadata": {},
   "source": [
    "# Wordle Part 1 ends here.  \n",
    "\n",
    "## We will continue Part 2 next week, but challenge yourself to finish it on your own!\n",
    "____________________\n",
    "\n",
    "## Bonus Breakout Session: Let's Generate Random UofT Email Addresses!\n",
    "\n",
    "Tools: `random.randint`, `string methods`, `for or while loop`, `list`\n",
    "\n",
    "Write a program that generates three random UofT email addresses using a list of fun adjectives, a given first and last name, a random birth year (between 1990 and 2000), and the UofT email domain (@mail.utoronto.ca). Each email should follow this format:\n",
    "\n",
    "`[adjective].[firstname].[lastname][year]@mail.utoronto.ca`\n",
    "\n",
    "Print all three generated email addresses in a list."
   ]
  },
  {
   "cell_type": "code",
   "execution_count": 9,
   "id": "02173ba2",
   "metadata": {},
   "outputs": [
    {
     "name": "stdout",
     "output_type": "stream",
     "text": [
      "What is your first name? s\n",
      "What is your last name? Davari\n",
      "Suggested emails: ['lazy.s.davari.1993@mail.utoronto.ca', 'lazy.s.davari.1999@mail.utoronto.ca', 'awesome.s.davari.1999@mail.utoronto.ca']\n"
     ]
    }
   ],
   "source": [
    "import random\n",
    "\n",
    "# Define a list of adjectives like \"Cool\", \"Lazy\", and \"Awesome\"\n",
    "adjective = ...\n",
    "first_name = ... # get user input\n",
    "last_name = ... # get user input\n",
    "domain = ...\n",
    "\n",
    "emails = []\n",
    "# A simple way to repeat an action serveral times using a for loop without needing a loop variable:\n",
    "for _ in range(3):\n",
    "    email = ... # ToDo\n",
    "    emails.append(email)\n",
    "\n",
    "print(\"Suggested emails:\", emails)"
   ]
  },
  {
   "cell_type": "markdown",
   "id": "0200a8f9",
   "metadata": {},
   "source": [
    "# Wordle Part 2\n",
    "\n",
    "## Evaluate a guess\n",
    "\n",
    "Let's start by writing code to evaluate a single guess. The function `check_guess` below evaluates a single guess. It returns three items:\n",
    "1. A score for the guess. Each correct letter in the correct position is worth one point.\n",
    "2. A string containing all incorrect letters within the guess.\n",
    "3. A list of escape sequence codes defining green, yellow, or grey backgrounds used for printing the results.\n",
    "\n",
    "The function uses a loop to evaluate each letter of the guess individually. Within the loop, the function `check_letter` is called to evaluate a letter at a specified index.\n",
    "\n",
    "## Breakout session 2.1: Check a single letter's correctness\n",
    "The function `check_letter` has three parameters:\n",
    "1. `guess` - a string representing the user's guess\n",
    "2. `solution` - a string representing the solution\n",
    "3. `index` - an int defining the character index to be evaluated\n",
    "\n",
    "The function should return two values:\n",
    "1. A score for the letter at the given index. 1 if the letter is correct, 0 otherwise.\n",
    "2. A boolean indicating if the letter at the given index is contained anywhere within the solution."
   ]
  },
  {
   "cell_type": "code",
   "execution_count": null,
   "id": "9ef5ce95",
   "metadata": {},
   "outputs": [],
   "source": [
    "def check_letter(guess, solution, index):\n",
    "    \"\"\"\n",
    "    (str,str,int) -> int, bool\n",
    "    \n",
    "    Checks if the letter at a specified index is correct\n",
    "    or if the letter is contained within the solution.\n",
    "    \n",
    "    The first return value is a 1 if the letter is correct, otherwise 0 is returned.\n",
    "    The second return value is True if the letter at the specified index is within\n",
    "    the solution, false otherwise.\n",
    "    \"\"\"\n",
    "    \n",
    "    # breakout session 2\n",
    "    "
   ]
  },
  {
   "cell_type": "markdown",
   "id": "33953c70",
   "metadata": {},
   "source": [
    "### Test Cases\n",
    "\n",
    "#### Example test case 1\n",
    "solution: \"throw\"<br>\n",
    "guess: \"grown\"<br>\n",
    "index: 3\n",
    "\n",
    "expected result: (0, True)"
   ]
  },
  {
   "cell_type": "code",
   "execution_count": null,
   "id": "966016b1",
   "metadata": {},
   "outputs": [],
   "source": [
    "check_letter(\"grown\", \"throw\", 3)"
   ]
  },
  {
   "cell_type": "markdown",
   "id": "c6a22d35",
   "metadata": {},
   "source": [
    "#### Example test case 2\n",
    "solution: \"crest\"<br>\n",
    "guess: \"crane\"<br>\n",
    "index: 0\n",
    "\n",
    "expected result: (1, True)"
   ]
  },
  {
   "cell_type": "code",
   "execution_count": null,
   "id": "d28a9f23",
   "metadata": {},
   "outputs": [],
   "source": [
    "check_letter(\"crane\", \"crest\", 0)"
   ]
  },
  {
   "cell_type": "markdown",
   "id": "249e047f",
   "metadata": {},
   "source": [
    "## What tool can we use to add colour? Escape sequences!\n",
    "\n",
    "Below are some string sequences you can use to add background colour to your print statements, just like in Wordle!"
   ]
  },
  {
   "cell_type": "code",
   "execution_count": 49,
   "id": "1093a179",
   "metadata": {},
   "outputs": [],
   "source": [
    "green = \"\\x1b[42m\"\n",
    "yellow = \"\\x1b[43m\"\n",
    "grey = \"\\x1b[47m\"\n",
    "white = \"\\x1b[0m\""
   ]
  },
  {
   "cell_type": "code",
   "execution_count": 50,
   "id": "a0832baa",
   "metadata": {},
   "outputs": [
    {
     "name": "stdout",
     "output_type": "stream",
     "text": [
      "\u001b[43mdog\n"
     ]
    }
   ],
   "source": [
    "print(yellow + 'dog')"
   ]
  },
  {
   "cell_type": "code",
   "execution_count": 51,
   "id": "b7659360",
   "metadata": {},
   "outputs": [
    {
     "name": "stdout",
     "output_type": "stream",
     "text": [
      "\u001b[43mdog\u001b[42mcat\n"
     ]
    }
   ],
   "source": [
    "print(yellow + 'dog' + green + 'cat')"
   ]
  },
  {
   "cell_type": "code",
   "execution_count": 52,
   "id": "a9b80993",
   "metadata": {},
   "outputs": [
    {
     "name": "stdout",
     "output_type": "stream",
     "text": [
      "\u001b[42m1 \u001b[43m2 \u001b[47m3 \u001b[43m4 \u001b[42m5 \n"
     ]
    }
   ],
   "source": [
    "print(green + '1 ' + yellow + '2 ' + grey + '3 ' + yellow + '4 ' + green + '5 ')"
   ]
  },
  {
   "cell_type": "code",
   "execution_count": 53,
   "id": "ebb45d6b",
   "metadata": {},
   "outputs": [
    {
     "name": "stdout",
     "output_type": "stream",
     "text": [
      "\u001b[0mIncorrect letters: \u001b[47mabcd\n"
     ]
    }
   ],
   "source": [
    "#something like this might be useful for later...\n",
    "print(white + 'Incorrect letters: ' + grey + 'abcd')"
   ]
  },
  {
   "cell_type": "markdown",
   "id": "501d99e8",
   "metadata": {},
   "source": [
    "## Breakout Session 2.2 : Use check_letter to check the entire guess"
   ]
  },
  {
   "cell_type": "code",
   "execution_count": null,
   "id": "265e5c1b",
   "metadata": {},
   "outputs": [],
   "source": [
    "def check_guess(guess, solution):\n",
    "    \"\"\"\n",
    "    (str, str) -> int, str, list of escape sequences\n",
    "    \n",
    "    Evaluates a guess against a solution and returns the \n",
    "    score of the guess, the incorrect letters contained within\n",
    "    the guess, and a list of escape sequences defining the \n",
    "    background colours to be printed behind the letters.\n",
    "    \"\"\"\n",
    "    \n",
    "    # define escape sequences for fancy printing\n",
    "    green_background = \"\\x1b[42m\"\n",
    "    yellow_background = \"\\x1b[43m\"\n",
    "    grey_background = \"\\x1b[47m\"\n",
    "    \n",
    "    # initalize score, incorrect letters, and print colours\n",
    "    word_score = 0\n",
    "    incorrect_letters = \"\"\n",
    "    print_colours = []\n",
    "    \n",
    "    # loop through all indices of the guess\n",
    "    for i in range(len(guess)):\n",
    "        # evaluate the letter at the current index\n",
    "        letter_score, in_solution = check_letter(guess, solution, i)\n",
    "        \n",
    "        # append the correct background colour for the index\n",
    "        \n",
    "        ...\n",
    "            \n",
    "            # update incorrect letters as needed\n",
    "            ...\n",
    "        \n",
    "        word_score += letter_score\n",
    "        \n",
    "    return word_score, incorrect_letters, print_colours"
   ]
  },
  {
   "cell_type": "markdown",
   "id": "fcb43072",
   "metadata": {},
   "source": [
    "### Test Cases\n",
    "\n",
    "Outputs are a tuple in the format:\n",
    "\n",
    "(score, str_of_incorrect_letters, list_of_colour_sequences)\n",
    "\n",
    "#### Example test case 1: All letters correct.  Score == 5.  No incorrect letters.\n",
    "Expected output should be:\n",
    "\n",
    "(5, '', ['\\x1b[42m', '\\x1b[42m', '\\x1b[42m', '\\x1b[42m', '\\x1b[42m'])\n",
    "\n",
    "Note that '\\x1b[42m' represents the colour green"
   ]
  },
  {
   "cell_type": "code",
   "execution_count": null,
   "id": "fb6ef5e7",
   "metadata": {},
   "outputs": [],
   "source": [
    "check_guess('hello','hello')"
   ]
  },
  {
   "cell_type": "markdown",
   "id": "80983da0",
   "metadata": {},
   "source": [
    "#### Example test case 2: No letters correct\n",
    "Expected output should be:\n",
    "\n",
    "(0, 'helo', ['\\x1b[47m', '\\x1b[47m', '\\x1b[47m', '\\x1b[47m', '\\x1b[47m'])\n",
    "\n",
    "Note that:\n",
    "- Score == 0 because 0 letters are correct \n",
    "- 'h', 'e', 'l', and 'o' are the incorrect letters in the guess\n",
    "- '\\x1b[47m' represents the colour grey"
   ]
  },
  {
   "cell_type": "code",
   "execution_count": null,
   "id": "0e6f375f",
   "metadata": {},
   "outputs": [],
   "source": [
    "check_guess('hello','aback')"
   ]
  },
  {
   "cell_type": "markdown",
   "id": "3c804ffc",
   "metadata": {},
   "source": [
    "#### Example test case 3: Combination of correct letters, some in correct place and some in wrong place\n",
    "Expected output should be:\n",
    "\n",
    "(2, 'e', ['\\x1b[42m', '\\x1b[47m', '\\x1b[42m', '\\x1b[43m', '\\x1b[43m'])\n",
    "\n",
    "Note that:\n",
    "\n",
    "- A score of 2 because 2 letters are correct\n",
    "- 'e' is the one incorrect letter guessed\n",
    "- '\\x1b[42m' represents the colour green\n",
    "- '\\x1b[43m' represents the colour yellow\n",
    "- '\\x1b[47m' represents the colour grey"
   ]
  },
  {
   "cell_type": "code",
   "execution_count": null,
   "id": "8d641b80",
   "metadata": {},
   "outputs": [],
   "source": [
    "check_guess('hello','halos')"
   ]
  },
  {
   "cell_type": "markdown",
   "id": "f5273694",
   "metadata": {},
   "source": [
    "## Breakout Session 2.3: Printing in Colour"
   ]
  },
  {
   "cell_type": "code",
   "execution_count": null,
   "id": "f80c07f1",
   "metadata": {},
   "outputs": [],
   "source": [
    "def print_guess(guess, colours, incorrect_letters):\n",
    "    \"\"\"\n",
    "    (str, list of strs, str of incorrect_letters) -> None\n",
    "    This function will generate a very fancy printing of the user's guess and its correctness.\n",
    "    \"\"\"\n",
    "\n",
    "    white = \"\\x1b[0m\"\n",
    "    grey = \"\\x1b[47m\"\n",
    "\n",
    "    # print the guess with each letter coloured appropriately\n",
    "       \n",
    "    # print a white space with a tab\n",
    "\n",
    "    # print the incorrect letters\n",
    "    "
   ]
  },
  {
   "cell_type": "markdown",
   "id": "fafdbc83",
   "metadata": {},
   "source": [
    "### Test it!\n",
    "\n",
    "#### Example test case: \n",
    "\n",
    "Change the colours below to test how your print_guess function works.\n",
    "\n",
    "h e `l` l o  &nbsp;&nbsp;&nbsp;&nbsp;&nbsp;&nbsp; Incorrect Letters:  `a b c`"
   ]
  },
  {
   "cell_type": "code",
   "execution_count": null,
   "id": "9987c8ef",
   "metadata": {},
   "outputs": [],
   "source": [
    "# use the variables below to experiment with your print_guess function\n",
    "\n",
    "green = \"\\x1b[42m\"\n",
    "yellow = \"\\x1b[43m\"\n",
    "grey = \"\\x1b[47m\"\n",
    "white = \"\\x1b[0m\"\n",
    "\n",
    "\n",
    "print_guess('hello',[ white, white, grey, green, yellow], 'abc')"
   ]
  },
  {
   "cell_type": "markdown",
   "id": "24ee5e1c",
   "metadata": {},
   "source": [
    "# Complete the game\n",
    "\n",
    "As a final step, we'll write code to control the gameplay. We will use the function `print_guess` to help us with the fancy printing.\n",
    "\n",
    "## Breakout session 2.4: Control the game flow and number of attempts\n",
    "Complete the code below to control the game."
   ]
  },
  {
   "cell_type": "code",
   "execution_count": null,
   "id": "9cbc5908",
   "metadata": {},
   "outputs": [],
   "source": [
    "# Get the random solution using get_solution\n",
    "\n",
    "# Initialize some variables\n",
    "remaining_attempts = 6\n",
    "incorrect_letters = \"\"\n",
    "score = 0\n",
    "\n",
    "#play the game while there are still attempts left and they have not yet won\n",
    "    \n",
    "    # get the user's next guess\n",
    "    \n",
    "    # evaluate the guess\n",
    "    \n",
    "    # update incorrect letters, without adding duplicates\n",
    "    \n",
    "    # update the number of remaining attempts\n",
    "    \n",
    "    # print the guess using print_guess\n",
    "    \n",
    "\n",
    "#print a message telling them they either won or lost"
   ]
  },
  {
   "cell_type": "markdown",
   "id": "d9e59f7f",
   "metadata": {},
   "source": [
    "## Let's Play!\n",
    "Here you can import a packaged version in case you were unable to get the game working during class."
   ]
  },
  {
   "cell_type": "code",
   "execution_count": null,
   "id": "07d8b683",
   "metadata": {},
   "outputs": [],
   "source": [
    "from wordle import play_wordle\n",
    "play_wordle()"
   ]
  }
 ],
 "metadata": {
  "kernelspec": {
   "display_name": "Python 3 (ipykernel)",
   "language": "python",
   "name": "python3"
  },
  "language_info": {
   "codemirror_mode": {
    "name": "ipython",
    "version": 3
   },
   "file_extension": ".py",
   "mimetype": "text/x-python",
   "name": "python",
   "nbconvert_exporter": "python",
   "pygments_lexer": "ipython3",
   "version": "3.11.6"
  }
 },
 "nbformat": 4,
 "nbformat_minor": 5
}
