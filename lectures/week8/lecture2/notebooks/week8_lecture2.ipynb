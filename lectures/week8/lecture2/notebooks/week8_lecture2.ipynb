{
 "cells": [
  {
   "cell_type": "markdown",
   "metadata": {
    "collapsed": true
   },
   "source": [
    "# APS106 - Fundamentals of Computer Programming\n",
    "## Week 8 | Lecture 1 (8.2) - dictionaries\n",
    "\n",
    "### This Week\n",
    "| Lecture | Topics |\n",
    "| --- | --- |\n",
    "| 8.1 | tuples and sets |\n",
    "| **8.2** | **dictionaries** |\n",
    "| 8.3 | Design Problem: Wordle Part 1 |\n",
    "\n",
    "### Lecture Structure\n",
    "1. [Dictionaries](#section1)\n",
    "2. [Dictionary Operations](#section2)\n",
    "3. [Dictionary Methods](#section3)\n",
    "4. [Breakout Session 1](#section4)\n",
    "5. [Iterating](#section5)\n",
    "6. [Breakout Session 2](#section6)\n",
    "7. [Dictionary Inversion](#section7)\n",
    "8. [Breakout Session 3](#section8)\n",
    "9. [Dictionaries as Data Structures](#section9)"
   ]
  },
  {
   "cell_type": "markdown",
   "metadata": {},
   "source": [
    "<a id='section1'></a>\n",
    "## 1. Dictionaries\n",
    "We can store student grades."
   ]
  },
  {
   "cell_type": "code",
   "execution_count": 156,
   "metadata": {},
   "outputs": [
    {
     "name": "stdout",
     "output_type": "stream",
     "text": [
      "{'Tina': 'A+', 'Brad': 'C-'}\n"
     ]
    }
   ],
   "source": [
    "grades = {'Tina': 'A+', 'Brad': 'C-'}\n",
    "print(grades)"
   ]
  },
  {
   "cell_type": "markdown",
   "metadata": {},
   "source": [
    "Use `tuples` are keys."
   ]
  },
  {
   "cell_type": "code",
   "execution_count": 157,
   "metadata": {},
   "outputs": [
    {
     "name": "stdout",
     "output_type": "stream",
     "text": [
      "{(1, 0): 'East', (0, 1): 'North', (-1, 0): 'West', (0, -1): 'South'}\n"
     ]
    }
   ],
   "source": [
    "directions = {(1, 0): 'East',\n",
    "              (0, 1): 'North',\n",
    "              (-1, 0): 'West',\n",
    "              (0, -1): 'South'}\n",
    "print(directions)"
   ]
  },
  {
   "cell_type": "markdown",
   "metadata": {},
   "source": [
    "We can even place dictionaries within dictionaries."
   ]
  },
  {
   "cell_type": "code",
   "execution_count": 158,
   "metadata": {},
   "outputs": [
    {
     "name": "stdout",
     "output_type": "stream",
     "text": [
      "{'0323442785': {'first name': 'Sebastian', 'last name': 'Goodfellow', 'address': '555 Code Street', 'phone number': '555-7654'}, '9764327492': {'first name': 'Ben', 'last name': 'Kinsella', 'address': '555 Python Street', 'phone number': '555-2345'}}\n"
     ]
    }
   ],
   "source": [
    "users = {'0323442785': {'first name': 'Sebastian',\n",
    "                        'last name': 'Goodfellow',\n",
    "                        'address': '555 Code Street',\n",
    "                        'phone number': '555-7654'},\n",
    "         '9764327492': {'first name': 'Ben',\n",
    "                        'last name': 'Kinsella',\n",
    "                        'address': '555 Python Street',\n",
    "                        'phone number': '555-2345'}}\n",
    "print(users)"
   ]
  },
  {
   "cell_type": "markdown",
   "metadata": {},
   "source": [
    "Now, this isn't the easiest `print` output to read. I have created a function called `dict_print` to allow you to generate nicer print outputs for certain dictionaties. "
   ]
  },
  {
   "cell_type": "code",
   "execution_count": 159,
   "metadata": {},
   "outputs": [
    {
     "name": "stdout",
     "output_type": "stream",
     "text": [
      "{\n",
      "    \"0323442785\": {\n",
      "        \"address\": \"555 Code Street\",\n",
      "        \"first name\": \"Sebastian\",\n",
      "        \"last name\": \"Goodfellow\",\n",
      "        \"phone number\": \"555-7654\"\n",
      "    },\n",
      "    \"9764327492\": {\n",
      "        \"address\": \"555 Python Street\",\n",
      "        \"first name\": \"Ben\",\n",
      "        \"last name\": \"Kinsella\",\n",
      "        \"phone number\": \"555-2345\"\n",
      "    }\n",
      "}\n"
     ]
    }
   ],
   "source": [
    "from utils import dict_print\n",
    "dict_print(users)"
   ]
  },
  {
   "cell_type": "markdown",
   "metadata": {},
   "source": [
    "<a id='section2'></a>\n",
    "## 2. Dictionary Operations\n",
    "The table below shows some common `dictionary` operations.\n",
    "\n",
    "Operation|Description|Example code\n",
    "---------|-----------|------------\n",
    "my_dict[key]|Indexing operation – retrieves the value associated with key.|john_grade = my_dict['John']\n",
    "my_dict[key] = value|Adds an entry if the entry does not exist, else modifies the existing entry.|\tmy_dict['John'] = 'B+'\n",
    "del my_dict[key]|Deletes the key:value from a dict.|del my_dict['John']\n",
    "key in my_dict|Tests for existence of key in my_dict|if 'John' in my_dict:   ..."
   ]
  },
  {
   "cell_type": "markdown",
   "metadata": {},
   "source": [
    "Let's start with the following `dictionary`."
   ]
  },
  {
   "cell_type": "code",
   "execution_count": 160,
   "metadata": {},
   "outputs": [
    {
     "name": "stdout",
     "output_type": "stream",
     "text": [
      "{'Tina': 'A+', 'Omid': 'A-', 'Lenny': 'B-', 'Maggie': 'C+'}\n"
     ]
    }
   ],
   "source": [
    "grades = {'Tina': 'A+', 'Omid': 'A-', 'Lenny': 'B-', 'Maggie': 'C+'}\n",
    "print(grades)"
   ]
  },
  {
   "cell_type": "markdown",
   "metadata": {},
   "source": [
    "#### Indexing\n",
    "Retrieve the `value` associated with a `key`.\n",
    "\n",
    "Retrieve the `value` associated with the `key` `'Omid'`."
   ]
  },
  {
   "cell_type": "code",
   "execution_count": 161,
   "metadata": {},
   "outputs": [
    {
     "name": "stdout",
     "output_type": "stream",
     "text": [
      "A-\n"
     ]
    }
   ],
   "source": [
    "print(grades['Omid'])"
   ]
  },
  {
   "cell_type": "markdown",
   "metadata": {},
   "source": [
    "Retrieve the `value` associated with the `key` `'Maggie'`."
   ]
  },
  {
   "cell_type": "code",
   "execution_count": 162,
   "metadata": {},
   "outputs": [
    {
     "name": "stdout",
     "output_type": "stream",
     "text": [
      "C+\n"
     ]
    }
   ],
   "source": [
    "print(grades['Maggie'])"
   ]
  },
  {
   "cell_type": "markdown",
   "metadata": {},
   "source": [
    "Retrieve the `value` associated with the `key` `'Ben'`."
   ]
  },
  {
   "cell_type": "code",
   "execution_count": 163,
   "metadata": {},
   "outputs": [
    {
     "ename": "KeyError",
     "evalue": "'Ben'",
     "output_type": "error",
     "traceback": [
      "\u001b[1;31m---------------------------------------------------------------------------\u001b[0m",
      "\u001b[1;31mKeyError\u001b[0m                                  Traceback (most recent call last)",
      "Cell \u001b[1;32mIn[163], line 1\u001b[0m\n\u001b[1;32m----> 1\u001b[0m \u001b[38;5;28mprint\u001b[39m(grades[\u001b[38;5;124m'\u001b[39m\u001b[38;5;124mBen\u001b[39m\u001b[38;5;124m'\u001b[39m])\n",
      "\u001b[1;31mKeyError\u001b[0m: 'Ben'"
     ]
    }
   ],
   "source": [
    "print(grades['Ben'])"
   ]
  },
  {
   "cell_type": "markdown",
   "metadata": {},
   "source": [
    "#### Add or Modify Entry\n",
    "Adds an entry if the entry does not exist, otherwise it modifies the existing entry.\n",
    "\n",
    "Modify the `value` associated with the `key` `'Lenny'`."
   ]
  },
  {
   "cell_type": "code",
   "execution_count": 164,
   "metadata": {},
   "outputs": [
    {
     "name": "stdout",
     "output_type": "stream",
     "text": [
      "{'Tina': 'A+', 'Omid': 'A-', 'Lenny': 'B-', 'Maggie': 'C+'}\n"
     ]
    }
   ],
   "source": [
    "print(grades)"
   ]
  },
  {
   "cell_type": "code",
   "execution_count": 165,
   "metadata": {},
   "outputs": [
    {
     "name": "stdout",
     "output_type": "stream",
     "text": [
      "{'Tina': 'A+', 'Omid': 'A-', 'Lenny': 'B', 'Maggie': 'C+'}\n"
     ]
    }
   ],
   "source": [
    "grades['Lenny'] = 'B'\n",
    "print(grades)"
   ]
  },
  {
   "cell_type": "markdown",
   "metadata": {},
   "source": [
    "Add a `key: value` pair for `'Ben'`."
   ]
  },
  {
   "cell_type": "code",
   "execution_count": 166,
   "metadata": {},
   "outputs": [
    {
     "name": "stdout",
     "output_type": "stream",
     "text": [
      "{'Tina': 'A+', 'Omid': 'A-', 'Lenny': 'B', 'Maggie': 'C+', 'Ben': 'F'}\n"
     ]
    }
   ],
   "source": [
    "grades['Ben'] = 'F'\n",
    "print(grades)"
   ]
  },
  {
   "cell_type": "markdown",
   "metadata": {},
   "source": [
    "#### Delete Entry\n",
    "Removes the key and it’s value from a dictionary.\n",
    "\n",
    "It turns out `'Ben'` didn't take our course so we need to remove him and his grade from the `dictionary`."
   ]
  },
  {
   "cell_type": "code",
   "execution_count": 167,
   "metadata": {},
   "outputs": [
    {
     "name": "stdout",
     "output_type": "stream",
     "text": [
      "{'Tina': 'A+', 'Omid': 'A-', 'Lenny': 'B', 'Maggie': 'C+', 'Ben': 'F'}\n"
     ]
    }
   ],
   "source": [
    "print(grades)"
   ]
  },
  {
   "cell_type": "code",
   "execution_count": 168,
   "metadata": {},
   "outputs": [
    {
     "name": "stdout",
     "output_type": "stream",
     "text": [
      "{'Tina': 'A+', 'Omid': 'A-', 'Lenny': 'B', 'Maggie': 'C+'}\n"
     ]
    }
   ],
   "source": [
    "del grades['Ben']\n",
    "print(grades)"
   ]
  },
  {
   "cell_type": "markdown",
   "metadata": {},
   "source": [
    "#### Check for `key`\n",
    "Tests for existence of key in the dictionary (it does not check the values).\n",
    "\n",
    "Check to see if `'Tina'` is in the `dictionary`."
   ]
  },
  {
   "cell_type": "code",
   "execution_count": 169,
   "metadata": {},
   "outputs": [
    {
     "data": {
      "text/plain": [
       "True"
      ]
     },
     "execution_count": 169,
     "metadata": {},
     "output_type": "execute_result"
    }
   ],
   "source": [
    "'Tina' in grades"
   ]
  },
  {
   "cell_type": "markdown",
   "metadata": {},
   "source": [
    "Check to see if `'Ben'` is in the `dictionary`."
   ]
  },
  {
   "cell_type": "code",
   "execution_count": 170,
   "metadata": {},
   "outputs": [
    {
     "data": {
      "text/plain": [
       "False"
      ]
     },
     "execution_count": 170,
     "metadata": {},
     "output_type": "execute_result"
    }
   ],
   "source": [
    "'Ben' in grades"
   ]
  },
  {
   "cell_type": "markdown",
   "metadata": {},
   "source": [
    "Lastly, let's check to see if the grade `'A+'` is in the `dictionary`."
   ]
  },
  {
   "cell_type": "code",
   "execution_count": 171,
   "metadata": {},
   "outputs": [
    {
     "data": {
      "text/plain": [
       "False"
      ]
     },
     "execution_count": 171,
     "metadata": {},
     "output_type": "execute_result"
    }
   ],
   "source": [
    "'A+' in grades"
   ]
  },
  {
   "cell_type": "markdown",
   "metadata": {},
   "source": [
    "#### Indexing Nested Dictionaries\n",
    "Dictionaries can, of course, be nested."
   ]
  },
  {
   "cell_type": "code",
   "execution_count": 172,
   "metadata": {},
   "outputs": [
    {
     "name": "stdout",
     "output_type": "stream",
     "text": [
      "{}\n"
     ]
    }
   ],
   "source": [
    "students = {}\n",
    "print(students)"
   ]
  },
  {
   "cell_type": "code",
   "execution_count": 173,
   "metadata": {},
   "outputs": [
    {
     "name": "stdout",
     "output_type": "stream",
     "text": [
      "{'John': {'Grade': 'A+', 'StudentID': 22321}}\n"
     ]
    }
   ],
   "source": [
    "students[\"John\"] = {\"Grade\": \"A+\", \"StudentID\": 22321}\n",
    "print(students)"
   ]
  },
  {
   "cell_type": "markdown",
   "metadata": {},
   "source": [
    "- The variable `students` is first created as an empty dictionary. \n",
    "- Then a new entry is added with the key `'John'` and the value associated with `John` is another dictionary. \n",
    "- Indexing operations can be applied to the nested dictionary by using consecutive sets of brackets `[][][][]` just like for nested lists. "
   ]
  },
  {
   "cell_type": "code",
   "execution_count": 174,
   "metadata": {},
   "outputs": [
    {
     "name": "stdout",
     "output_type": "stream",
     "text": [
      "{'John': {'Grade': 'A+', 'StudentID': 22321}}\n"
     ]
    }
   ],
   "source": [
    "print(students)"
   ]
  },
  {
   "cell_type": "code",
   "execution_count": 175,
   "metadata": {},
   "outputs": [
    {
     "name": "stdout",
     "output_type": "stream",
     "text": [
      "{'Grade': 'A+', 'StudentID': 22321}\n"
     ]
    }
   ],
   "source": [
    "print(students[\"John\"])"
   ]
  },
  {
   "cell_type": "code",
   "execution_count": 176,
   "metadata": {},
   "outputs": [
    {
     "name": "stdout",
     "output_type": "stream",
     "text": [
      "A+\n"
     ]
    }
   ],
   "source": [
    "print(students[\"John\"][\"Grade\"])"
   ]
  },
  {
   "cell_type": "markdown",
   "metadata": {},
   "source": [
    "#### Quick Aside on { } and Sets."
   ]
  },
  {
   "cell_type": "code",
   "execution_count": 177,
   "metadata": {},
   "outputs": [
    {
     "name": "stdout",
     "output_type": "stream",
     "text": [
      "<class 'dict'>\n"
     ]
    }
   ],
   "source": [
    "data = {'Ben': 'F'}\n",
    "print(type(data))"
   ]
  },
  {
   "cell_type": "code",
   "execution_count": 178,
   "metadata": {},
   "outputs": [
    {
     "name": "stdout",
     "output_type": "stream",
     "text": [
      "<class 'set'>\n"
     ]
    }
   ],
   "source": [
    "data = {'ford', 'tesla', 'bmw'}\n",
    "print(type(data))"
   ]
  },
  {
   "cell_type": "code",
   "execution_count": 179,
   "metadata": {},
   "outputs": [
    {
     "name": "stdout",
     "output_type": "stream",
     "text": [
      "<class 'dict'>\n"
     ]
    }
   ],
   "source": [
    "data = {}\n",
    "print(type(data))"
   ]
  },
  {
   "cell_type": "markdown",
   "metadata": {},
   "source": [
    "How do we create an empty set?"
   ]
  },
  {
   "cell_type": "code",
   "execution_count": 180,
   "metadata": {},
   "outputs": [
    {
     "name": "stdout",
     "output_type": "stream",
     "text": [
      "<class 'set'>\n"
     ]
    }
   ],
   "source": [
    "data = set()\n",
    "print(type(data))"
   ]
  },
  {
   "cell_type": "markdown",
   "metadata": {},
   "source": [
    "<a id='section3'></a>\n",
    "## 3. Dictionary Methods\n",
    "Like `lists`, `tuples`, and `sets`, `dictionaries` are objects and have methods that can be applied on them."
   ]
  },
  {
   "cell_type": "code",
   "execution_count": 181,
   "metadata": {
    "collapsed": true
   },
   "outputs": [
    {
     "name": "stdout",
     "output_type": "stream",
     "text": [
      "Help on class dict in module builtins:\n",
      "\n",
      "class dict(object)\n",
      " |  dict() -> new empty dictionary\n",
      " |  dict(mapping) -> new dictionary initialized from a mapping object's\n",
      " |      (key, value) pairs\n",
      " |  dict(iterable) -> new dictionary initialized as if via:\n",
      " |      d = {}\n",
      " |      for k, v in iterable:\n",
      " |          d[k] = v\n",
      " |  dict(**kwargs) -> new dictionary initialized with the name=value pairs\n",
      " |      in the keyword argument list.  For example:  dict(one=1, two=2)\n",
      " |  \n",
      " |  Built-in subclasses:\n",
      " |      StgDict\n",
      " |  \n",
      " |  Methods defined here:\n",
      " |  \n",
      " |  __contains__(self, key, /)\n",
      " |      True if the dictionary has the specified key, else False.\n",
      " |  \n",
      " |  __delitem__(self, key, /)\n",
      " |      Delete self[key].\n",
      " |  \n",
      " |  __eq__(self, value, /)\n",
      " |      Return self==value.\n",
      " |  \n",
      " |  __ge__(self, value, /)\n",
      " |      Return self>=value.\n",
      " |  \n",
      " |  __getattribute__(self, name, /)\n",
      " |      Return getattr(self, name).\n",
      " |  \n",
      " |  __getitem__(...)\n",
      " |      x.__getitem__(y) <==> x[y]\n",
      " |  \n",
      " |  __gt__(self, value, /)\n",
      " |      Return self>value.\n",
      " |  \n",
      " |  __init__(self, /, *args, **kwargs)\n",
      " |      Initialize self.  See help(type(self)) for accurate signature.\n",
      " |  \n",
      " |  __ior__(self, value, /)\n",
      " |      Return self|=value.\n",
      " |  \n",
      " |  __iter__(self, /)\n",
      " |      Implement iter(self).\n",
      " |  \n",
      " |  __le__(self, value, /)\n",
      " |      Return self<=value.\n",
      " |  \n",
      " |  __len__(self, /)\n",
      " |      Return len(self).\n",
      " |  \n",
      " |  __lt__(self, value, /)\n",
      " |      Return self<value.\n",
      " |  \n",
      " |  __ne__(self, value, /)\n",
      " |      Return self!=value.\n",
      " |  \n",
      " |  __or__(self, value, /)\n",
      " |      Return self|value.\n",
      " |  \n",
      " |  __repr__(self, /)\n",
      " |      Return repr(self).\n",
      " |  \n",
      " |  __reversed__(self, /)\n",
      " |      Return a reverse iterator over the dict keys.\n",
      " |  \n",
      " |  __ror__(self, value, /)\n",
      " |      Return value|self.\n",
      " |  \n",
      " |  __setitem__(self, key, value, /)\n",
      " |      Set self[key] to value.\n",
      " |  \n",
      " |  __sizeof__(...)\n",
      " |      D.__sizeof__() -> size of D in memory, in bytes\n",
      " |  \n",
      " |  clear(...)\n",
      " |      D.clear() -> None.  Remove all items from D.\n",
      " |  \n",
      " |  copy(...)\n",
      " |      D.copy() -> a shallow copy of D\n",
      " |  \n",
      " |  get(self, key, default=None, /)\n",
      " |      Return the value for key if key is in the dictionary, else default.\n",
      " |  \n",
      " |  items(...)\n",
      " |      D.items() -> a set-like object providing a view on D's items\n",
      " |  \n",
      " |  keys(...)\n",
      " |      D.keys() -> a set-like object providing a view on D's keys\n",
      " |  \n",
      " |  pop(...)\n",
      " |      D.pop(k[,d]) -> v, remove specified key and return the corresponding value.\n",
      " |      \n",
      " |      If the key is not found, return the default if given; otherwise,\n",
      " |      raise a KeyError.\n",
      " |  \n",
      " |  popitem(self, /)\n",
      " |      Remove and return a (key, value) pair as a 2-tuple.\n",
      " |      \n",
      " |      Pairs are returned in LIFO (last-in, first-out) order.\n",
      " |      Raises KeyError if the dict is empty.\n",
      " |  \n",
      " |  setdefault(self, key, default=None, /)\n",
      " |      Insert key with a value of default if key is not in the dictionary.\n",
      " |      \n",
      " |      Return the value for key if key is in the dictionary, else default.\n",
      " |  \n",
      " |  update(...)\n",
      " |      D.update([E, ]**F) -> None.  Update D from dict/iterable E and F.\n",
      " |      If E is present and has a .keys() method, then does:  for k in E: D[k] = E[k]\n",
      " |      If E is present and lacks a .keys() method, then does:  for k, v in E: D[k] = v\n",
      " |      In either case, this is followed by: for k in F:  D[k] = F[k]\n",
      " |  \n",
      " |  values(...)\n",
      " |      D.values() -> an object providing a view on D's values\n",
      " |  \n",
      " |  ----------------------------------------------------------------------\n",
      " |  Class methods defined here:\n",
      " |  \n",
      " |  __class_getitem__(...) from builtins.type\n",
      " |      See PEP 585\n",
      " |  \n",
      " |  fromkeys(iterable, value=None, /) from builtins.type\n",
      " |      Create a new dictionary with keys from iterable and values set to value.\n",
      " |  \n",
      " |  ----------------------------------------------------------------------\n",
      " |  Static methods defined here:\n",
      " |  \n",
      " |  __new__(*args, **kwargs) from builtins.type\n",
      " |      Create and return a new object.  See help(type) for accurate signature.\n",
      " |  \n",
      " |  ----------------------------------------------------------------------\n",
      " |  Data and other attributes defined here:\n",
      " |  \n",
      " |  __hash__ = None\n",
      "\n"
     ]
    }
   ],
   "source": [
    "help(dict)"
   ]
  },
  {
   "cell_type": "markdown",
   "metadata": {},
   "source": [
    "Let's look at some examples.\n",
    "\n",
    "### `.keys()`\n",
    "Returns a set-like object containing all keys found in a given dictionary."
   ]
  },
  {
   "cell_type": "code",
   "execution_count": 182,
   "metadata": {},
   "outputs": [
    {
     "name": "stdout",
     "output_type": "stream",
     "text": [
      "{'Bob': 32, 'Jane': 42, 'Juan': 38}\n"
     ]
    }
   ],
   "source": [
    "friends = {\"Bob\": 32, \"Jane\": 42, 'Juan': 38}\n",
    "print(friends)"
   ]
  },
  {
   "cell_type": "code",
   "execution_count": 183,
   "metadata": {},
   "outputs": [
    {
     "name": "stdout",
     "output_type": "stream",
     "text": [
      "dict_keys(['Bob', 'Jane', 'Juan'])\n"
     ]
    }
   ],
   "source": [
    "print(friends.keys())"
   ]
  },
  {
   "cell_type": "code",
   "execution_count": 185,
   "metadata": {},
   "outputs": [
    {
     "data": {
      "text/plain": [
       "'Bob'"
      ]
     },
     "execution_count": 185,
     "metadata": {},
     "output_type": "execute_result"
    }
   ],
   "source": [
    "list(friends.keys())[0]"
   ]
  },
  {
   "cell_type": "markdown",
   "metadata": {},
   "source": [
    "hmmmmm, why a set-like object?"
   ]
  },
  {
   "cell_type": "code",
   "execution_count": null,
   "metadata": {},
   "outputs": [],
   "source": [
    "print({'hi': 10, 'hi': 1, 'hi': -1})"
   ]
  },
  {
   "cell_type": "markdown",
   "metadata": {},
   "source": [
    "### `.values()`\n",
    "Returns a list-like object containing all values found in a given dictionary."
   ]
  },
  {
   "cell_type": "code",
   "execution_count": 186,
   "metadata": {},
   "outputs": [
    {
     "name": "stdout",
     "output_type": "stream",
     "text": [
      "{'Bob': 32, 'Jane': 42, 'Juan': 38}\n"
     ]
    }
   ],
   "source": [
    "friends = {\"Bob\": 32, \"Jane\": 42, 'Juan': 38}\n",
    "print(friends)"
   ]
  },
  {
   "cell_type": "code",
   "execution_count": 187,
   "metadata": {},
   "outputs": [
    {
     "name": "stdout",
     "output_type": "stream",
     "text": [
      "dict_values([32, 42, 38])\n"
     ]
    }
   ],
   "source": [
    "print(friends.values())"
   ]
  },
  {
   "cell_type": "markdown",
   "metadata": {},
   "source": [
    "### `.items()`\n",
    "Returns a list-like object containing tuples of `key-value-pairs`."
   ]
  },
  {
   "cell_type": "code",
   "execution_count": 188,
   "metadata": {},
   "outputs": [
    {
     "name": "stdout",
     "output_type": "stream",
     "text": [
      "{'Bob': 32, 'Jane': 42, 'Juan': 38}\n"
     ]
    }
   ],
   "source": [
    "friends = {\"Bob\": 32, \"Jane\": 42, 'Juan': 38}\n",
    "print(friends)"
   ]
  },
  {
   "cell_type": "code",
   "execution_count": 189,
   "metadata": {},
   "outputs": [
    {
     "name": "stdout",
     "output_type": "stream",
     "text": [
      "dict_items([('Bob', 32), ('Jane', 42), ('Juan', 38)])\n"
     ]
    }
   ],
   "source": [
    "print(friends.items())"
   ]
  },
  {
   "cell_type": "markdown",
   "metadata": {},
   "source": [
    "### `.clear()`\n",
    "Remove all the elements from a dictionary."
   ]
  },
  {
   "cell_type": "code",
   "execution_count": 190,
   "metadata": {},
   "outputs": [
    {
     "name": "stdout",
     "output_type": "stream",
     "text": [
      "{'Bob': 32, 'Jane': 42, 'Juan': 38}\n"
     ]
    }
   ],
   "source": [
    "friends = {\"Bob\": 32, \"Jane\": 42, 'Juan': 38}\n",
    "print(friends)"
   ]
  },
  {
   "cell_type": "code",
   "execution_count": 191,
   "metadata": {},
   "outputs": [
    {
     "name": "stdout",
     "output_type": "stream",
     "text": [
      "{}\n"
     ]
    }
   ],
   "source": [
    "friends.clear()\n",
    "print(friends)"
   ]
  },
  {
   "cell_type": "markdown",
   "metadata": {},
   "source": [
    "### `.get()`\n",
    "Returns the value of the key entry from the dict. "
   ]
  },
  {
   "cell_type": "code",
   "execution_count": 192,
   "metadata": {},
   "outputs": [
    {
     "name": "stdout",
     "output_type": "stream",
     "text": [
      "{'Bob': 32, 'Jane': 42, 'Juan': 38}\n"
     ]
    }
   ],
   "source": [
    "friends = {\"Bob\": 32, \"Jane\": 42, 'Juan': 38}\n",
    "print(friends)"
   ]
  },
  {
   "cell_type": "markdown",
   "metadata": {},
   "source": [
    "Let's try getting the `value` for `'Jane'`."
   ]
  },
  {
   "cell_type": "code",
   "execution_count": 193,
   "metadata": {},
   "outputs": [
    {
     "name": "stdout",
     "output_type": "stream",
     "text": [
      "42\n"
     ]
    }
   ],
   "source": [
    "print(friends.get('Jane'))"
   ]
  },
  {
   "cell_type": "markdown",
   "metadata": {},
   "source": [
    "Now, let's try getting the `value` for a `key` that doesn't exist."
   ]
  },
  {
   "cell_type": "code",
   "execution_count": 194,
   "metadata": {},
   "outputs": [
    {
     "name": "stdout",
     "output_type": "stream",
     "text": [
      "None\n"
     ]
    }
   ],
   "source": [
    "print(friends.get('Ava'))"
   ]
  },
  {
   "cell_type": "markdown",
   "metadata": {},
   "source": [
    "If we want to specify what gets returned if the `key` doesn't exist, we can include a second argument."
   ]
  },
  {
   "cell_type": "code",
   "execution_count": 195,
   "metadata": {},
   "outputs": [
    {
     "name": "stdout",
     "output_type": "stream",
     "text": [
      "N/A\n"
     ]
    }
   ],
   "source": [
    "print(friends.get('Ava', 'N/A'))"
   ]
  },
  {
   "cell_type": "markdown",
   "metadata": {},
   "source": [
    "`.get` is a lot like `dict['key']` but it will handle the key not existing without throwing an error."
   ]
  },
  {
   "cell_type": "code",
   "execution_count": 196,
   "metadata": {},
   "outputs": [
    {
     "ename": "KeyError",
     "evalue": "'Ava'",
     "output_type": "error",
     "traceback": [
      "\u001b[1;31m---------------------------------------------------------------------------\u001b[0m",
      "\u001b[1;31mKeyError\u001b[0m                                  Traceback (most recent call last)",
      "Cell \u001b[1;32mIn[196], line 1\u001b[0m\n\u001b[1;32m----> 1\u001b[0m \u001b[38;5;28mprint\u001b[39m(friends[\u001b[38;5;124m'\u001b[39m\u001b[38;5;124mAva\u001b[39m\u001b[38;5;124m'\u001b[39m])\n",
      "\u001b[1;31mKeyError\u001b[0m: 'Ava'"
     ]
    }
   ],
   "source": [
    "print(friends['Ava'])"
   ]
  },
  {
   "cell_type": "markdown",
   "metadata": {},
   "source": [
    "### `.update()`\n",
    "Merges a dictionary `dict_1` with another dictionary `dict_2`. Existing entries in `dict_1` are overwritten if the same keys exist in `dict_2`."
   ]
  },
  {
   "cell_type": "code",
   "execution_count": 197,
   "metadata": {},
   "outputs": [
    {
     "name": "stdout",
     "output_type": "stream",
     "text": [
      "{'Bob': 32, 'Jane': 42, 'Juan': 38}\n",
      "{'Seb': 36, 'Ben': 30}\n"
     ]
    }
   ],
   "source": [
    "dict_1 = {\"Bob\": 32, \"Jane\": 42, 'Juan': 38}\n",
    "dict_2 = {'Seb': 36, 'Ben': 30}\n",
    "print(dict_1)\n",
    "print(dict_2)"
   ]
  },
  {
   "cell_type": "code",
   "execution_count": 198,
   "metadata": {},
   "outputs": [
    {
     "name": "stdout",
     "output_type": "stream",
     "text": [
      "{'Bob': 32, 'Jane': 42, 'Juan': 38, 'Seb': 36, 'Ben': 30}\n"
     ]
    }
   ],
   "source": [
    "dict_1.update(dict_2)\n",
    "print(dict_1)"
   ]
  },
  {
   "cell_type": "markdown",
   "metadata": {},
   "source": [
    "Existing entries in `dict_1` are overwritten if the same keys exist in `dict_2`. \n",
    "\n",
    "Let's try again with a the key `Seb` being in each dictionary."
   ]
  },
  {
   "cell_type": "code",
   "execution_count": null,
   "metadata": {},
   "outputs": [],
   "source": [
    "dict_1 = {\"Bob\": 32, \"Jane\": 42, 'Juan': 38, 'Seb': 25}\n",
    "dict_2 = {'Seb': 36, 'Ben': 30}\n",
    "print(dict_1)\n",
    "print(dict_2)"
   ]
  },
  {
   "cell_type": "code",
   "execution_count": 199,
   "metadata": {},
   "outputs": [
    {
     "name": "stdout",
     "output_type": "stream",
     "text": [
      "{'Bob': 32, 'Jane': 42, 'Juan': 38, 'Seb': 36, 'Ben': 30}\n"
     ]
    }
   ],
   "source": [
    "dict_1.update(dict_2)\n",
    "print(dict_1)"
   ]
  },
  {
   "cell_type": "markdown",
   "metadata": {},
   "source": [
    "### `.pop()`\n",
    "Removes and returns the `value` corresponding to the specified `key` from the dictionary. If `key` does not exist, then `None` or a user-specified default is returned."
   ]
  },
  {
   "cell_type": "code",
   "execution_count": 200,
   "metadata": {},
   "outputs": [
    {
     "name": "stdout",
     "output_type": "stream",
     "text": [
      "{'Bob': 32, 'Jane': 42, 'Juan': 38}\n"
     ]
    }
   ],
   "source": [
    "friends = {\"Bob\": 32, \"Jane\": 42, 'Juan': 38}\n",
    "print(friends)"
   ]
  },
  {
   "cell_type": "code",
   "execution_count": 201,
   "metadata": {},
   "outputs": [
    {
     "name": "stdout",
     "output_type": "stream",
     "text": [
      "32\n",
      "{'Jane': 42, 'Juan': 38}\n"
     ]
    }
   ],
   "source": [
    "val = friends.pop(\"Bob\")\n",
    "print(val)\n",
    "print(friends)"
   ]
  },
  {
   "cell_type": "code",
   "execution_count": 202,
   "metadata": {},
   "outputs": [
    {
     "ename": "KeyError",
     "evalue": "'John'",
     "output_type": "error",
     "traceback": [
      "\u001b[1;31m---------------------------------------------------------------------------\u001b[0m",
      "\u001b[1;31mKeyError\u001b[0m                                  Traceback (most recent call last)",
      "Cell \u001b[1;32mIn[202], line 1\u001b[0m\n\u001b[1;32m----> 1\u001b[0m val2 \u001b[38;5;241m=\u001b[39m friends\u001b[38;5;241m.\u001b[39mpop(\u001b[38;5;124m\"\u001b[39m\u001b[38;5;124mJohn\u001b[39m\u001b[38;5;124m\"\u001b[39m)\n\u001b[0;32m      2\u001b[0m \u001b[38;5;28mprint\u001b[39m(val2)\n\u001b[0;32m      3\u001b[0m \u001b[38;5;28mprint\u001b[39m(friends)\n",
      "\u001b[1;31mKeyError\u001b[0m: 'John'"
     ]
    }
   ],
   "source": [
    "val2 = friends.pop(\"John\")\n",
    "print(val2)\n",
    "print(friends)"
   ]
  },
  {
   "cell_type": "code",
   "execution_count": 204,
   "metadata": {},
   "outputs": [
    {
     "name": "stdout",
     "output_type": "stream",
     "text": [
      "Missing KEy\n",
      "{'Jane': 42, 'Juan': 38}\n"
     ]
    }
   ],
   "source": [
    "val2 = friends.pop(\"John\", \"Missing KEy\")\n",
    "print(val2)\n",
    "print(friends)"
   ]
  },
  {
   "cell_type": "markdown",
   "metadata": {},
   "source": [
    "<a id='section4'></a>\n",
    "## 4. Breakout Session 1\n",
    "Complete the following exercises.\n",
    "\n",
    "#### Exercise 1\n",
    "Merge two Python `dictionaries` `dict1` and `dict2` into one."
   ]
  },
  {
   "cell_type": "code",
   "execution_count": 206,
   "metadata": {},
   "outputs": [
    {
     "name": "stdout",
     "output_type": "stream",
     "text": [
      "{'Ten': 10, 'Twenty': 20, 'Thirty': 30, 'Fourty': 40, 'Fifty': 50}\n"
     ]
    }
   ],
   "source": [
    "dict1 = {'Ten': 10, 'Twenty': 20, 'Thirty': 30}\n",
    "dict2 = {'Thirty': 30, 'Fourty': 40, 'Fifty': 50}\n",
    "\n",
    "# Write your code here\n",
    "dict1.update(dict2)\n",
    "print(dict1)"
   ]
  },
  {
   "cell_type": "markdown",
   "metadata": {},
   "source": [
    "#### Exercise 2\n",
    "Print Mike's Physics midterm grade in `dict3`."
   ]
  },
  {
   "cell_type": "code",
   "execution_count": 211,
   "metadata": {},
   "outputs": [
    {
     "name": "stdout",
     "output_type": "stream",
     "text": [
      "67\n"
     ]
    }
   ],
   "source": [
    "dict3 = {\n",
    "    \"class\": {\n",
    "        \"student\": {\n",
    "            \"name\": \"Mike\",\n",
    "            \"marks\": {\n",
    "                \"physics\": {\n",
    "                    \"midterm\": 67, \n",
    "                    \"exam\": 81\n",
    "                },\n",
    "                \"history\": {\n",
    "                    \"midterm\": 56, \n",
    "                    \"exam\": 78\n",
    "                }\n",
    "            }\n",
    "        }\n",
    "    }\n",
    "}\n",
    "\n",
    "# Write your code here\n",
    "print(dict3['class']['student']['marks']['physics']['midterm'])"
   ]
  },
  {
   "cell_type": "markdown",
   "metadata": {},
   "source": [
    "#### Exercise 3\n",
    "Write a Python expression that evaluated to `True` if the value 200 exists in the `keys` or `values` of `dict4`."
   ]
  },
  {
   "cell_type": "code",
   "execution_count": 212,
   "metadata": {},
   "outputs": [
    {
     "data": {
      "text/plain": [
       "True"
      ]
     },
     "execution_count": 212,
     "metadata": {},
     "output_type": "execute_result"
    }
   ],
   "source": [
    "dict4 = {'a': 100, 'b': 200, 'c': 300}\n",
    "\n",
    "# Write your code here\n",
    "200 in dict4.keys() or 200 in dict4.values()"
   ]
  },
  {
   "cell_type": "markdown",
   "metadata": {},
   "source": [
    "#### Exercise 4\n",
    "Write a program to rename the `'city'` key to be called `'location'` in the following dictionary."
   ]
  },
  {
   "cell_type": "code",
   "execution_count": 214,
   "metadata": {},
   "outputs": [
    {
     "name": "stdout",
     "output_type": "stream",
     "text": [
      "{'name': 'Seb', 'age': 36, 'salary': 8000, 'location': 'Toronto'}\n"
     ]
    }
   ],
   "source": [
    "dict5 = {\n",
    "  \"name\": \"Seb\",\n",
    "  \"age\": 36,\n",
    "  \"salary\": 8000,\n",
    "  \"city\": \"Toronto\"\n",
    "}\n",
    "\n",
    "# Write your code here\n",
    "dict5['location'] = dict5.pop('city')\n",
    "print(dict5)"
   ]
  },
  {
   "cell_type": "markdown",
   "metadata": {},
   "source": [
    "<a id='section5'></a>\n",
    "## 5. Iterating\n",
    "Let's start with a dictionary of employee information."
   ]
  },
  {
   "cell_type": "code",
   "execution_count": 215,
   "metadata": {},
   "outputs": [],
   "source": [
    "employees = {\n",
    "    'emp1': {'name': 'John', 'salary': 7500},\n",
    "    'emp2': {'name': 'Emma', 'salary': 8000},\n",
    "    'emp3': {'name': 'Brad', 'salary': 5300},\n",
    "    'emp4': {'name': 'Ava', 'salary': 9870},\n",
    "    'emp5': {'name': 'Qi', 'salary': 2450},\n",
    "    'emp6': {'name': 'Ben', 'salary': 4560},\n",
    "    'emp7': {'name': 'Seb', 'salary': 8900}\n",
    "}"
   ]
  },
  {
   "cell_type": "markdown",
   "metadata": {},
   "source": [
    "### Default: `for key in employees:`\n",
    "The default interation for a dicitonary is over the `keys`."
   ]
  },
  {
   "cell_type": "code",
   "execution_count": 216,
   "metadata": {},
   "outputs": [
    {
     "name": "stdout",
     "output_type": "stream",
     "text": [
      "emp1\n",
      "emp2\n",
      "emp3\n",
      "emp4\n",
      "emp5\n",
      "emp6\n",
      "emp7\n"
     ]
    }
   ],
   "source": [
    "for employee in employees:\n",
    "    print(employee)"
   ]
  },
  {
   "cell_type": "markdown",
   "metadata": {},
   "source": [
    "### Keys: `for key in employees.key():`\n",
    "If you want to be explicit and write slightly more readable code, you can use the `.keys()` method."
   ]
  },
  {
   "cell_type": "code",
   "execution_count": 217,
   "metadata": {},
   "outputs": [
    {
     "name": "stdout",
     "output_type": "stream",
     "text": [
      "emp1\n",
      "emp2\n",
      "emp3\n",
      "emp4\n",
      "emp5\n",
      "emp6\n",
      "emp7\n"
     ]
    }
   ],
   "source": [
    "for employee in employees.keys():\n",
    "    print(employee)"
   ]
  },
  {
   "cell_type": "markdown",
   "metadata": {},
   "source": [
    "### Values: `for value in employees.values():`\n",
    "To iterature through the dictionary values, you can use the `.values()` method."
   ]
  },
  {
   "cell_type": "code",
   "execution_count": 218,
   "metadata": {},
   "outputs": [
    {
     "name": "stdout",
     "output_type": "stream",
     "text": [
      "{'name': 'John', 'salary': 7500}\n",
      "{'name': 'Emma', 'salary': 8000}\n",
      "{'name': 'Brad', 'salary': 5300}\n",
      "{'name': 'Ava', 'salary': 9870}\n",
      "{'name': 'Qi', 'salary': 2450}\n",
      "{'name': 'Ben', 'salary': 4560}\n",
      "{'name': 'Seb', 'salary': 8900}\n"
     ]
    }
   ],
   "source": [
    "for employee_info in employees.values():\n",
    "    print(employee_info)"
   ]
  },
  {
   "cell_type": "markdown",
   "metadata": {},
   "source": [
    "### Item: `for item in employees.items():`\n",
    "If you want to iterate through the items (key:value pairs) in a dictionary, you can use the `.items()` method."
   ]
  },
  {
   "cell_type": "code",
   "execution_count": 219,
   "metadata": {},
   "outputs": [
    {
     "name": "stdout",
     "output_type": "stream",
     "text": [
      "('emp1', {'name': 'John', 'salary': 7500})\n",
      "('emp2', {'name': 'Emma', 'salary': 8000})\n",
      "('emp3', {'name': 'Brad', 'salary': 5300})\n",
      "('emp4', {'name': 'Ava', 'salary': 9870})\n",
      "('emp5', {'name': 'Qi', 'salary': 2450})\n",
      "('emp6', {'name': 'Ben', 'salary': 4560})\n",
      "('emp7', {'name': 'Seb', 'salary': 8900})\n"
     ]
    }
   ],
   "source": [
    "for item in employees.items():\n",
    "    print(item)"
   ]
  },
  {
   "cell_type": "markdown",
   "metadata": {},
   "source": [
    "You can see that we get a bunch of `tuples` and from last lecture, we learned that we can unpack them."
   ]
  },
  {
   "cell_type": "code",
   "execution_count": 220,
   "metadata": {},
   "outputs": [
    {
     "name": "stdout",
     "output_type": "stream",
     "text": [
      "emp1     {'name': 'John', 'salary': 7500}\n",
      "emp2     {'name': 'Emma', 'salary': 8000}\n",
      "emp3     {'name': 'Brad', 'salary': 5300}\n",
      "emp4     {'name': 'Ava', 'salary': 9870}\n",
      "emp5     {'name': 'Qi', 'salary': 2450}\n",
      "emp6     {'name': 'Ben', 'salary': 4560}\n",
      "emp7     {'name': 'Seb', 'salary': 8900}\n"
     ]
    }
   ],
   "source": [
    "for employee, employee_info in employees.items():\n",
    "    print(employee, '   ', employee_info)"
   ]
  },
  {
   "cell_type": "markdown",
   "metadata": {},
   "source": [
    "<a id='section6'></a>\n",
    "## 6. Breakout Session 2\n",
    "### `#feelthebern`\n",
    "Below is a picture of Vermont Senator Bernie Sanders at the inauguration of Joe Biden sporting a pair of hand-knit mittens.\n",
    "<br>\n",
    "<img src=\"images/sanders_mittens.jpg\" alt=\"drawing\" width=\"400\"/>\n",
    "<br>\n",
    "We have sourced three tweets from Bernie and have made them available in the file `data.json`. Never seen a `.json` file before? Thats ok, you don't need to know what it is. We've made a simple function `load_data` that imports the data as a dictionary.\n",
    "\n",
    "In the code below, we're importing a `JOSN` file containing Bernie's tweets and assigning them to a variable called `tweets`."
   ]
  },
  {
   "cell_type": "code",
   "execution_count": 221,
   "metadata": {
    "scrolled": false
   },
   "outputs": [],
   "source": [
    "from utils import load_data\n",
    "tweets = load_data()"
   ]
  },
  {
   "cell_type": "markdown",
   "metadata": {},
   "source": [
    "What type of data structure is `tweets`?"
   ]
  },
  {
   "cell_type": "code",
   "execution_count": 222,
   "metadata": {},
   "outputs": [
    {
     "data": {
      "text/plain": [
       "list"
      ]
     },
     "execution_count": 222,
     "metadata": {},
     "output_type": "execute_result"
    }
   ],
   "source": [
    "type(tweets)"
   ]
  },
  {
   "cell_type": "markdown",
   "metadata": {},
   "source": [
    "Ok, `tweets` is a list. Let's print its contents."
   ]
  },
  {
   "cell_type": "code",
   "execution_count": 223,
   "metadata": {},
   "outputs": [
    {
     "name": "stdout",
     "output_type": "stream",
     "text": [
      "[{'created_at': 'Sat Feb 06 22:43:03 +0000 2021', 'id': 1358184460794163202, 'full_text': 'Why would we want to impeach and convict Donald Trump – a president who is now out of office? Because it must be made clear that no president, now or in the future, can lead an insurrection against the government he or she is sworn to protect.', 'retweet_count': 2272, 'favorite_count': 13299}, {'created_at': 'Sat Feb 06 21:09:04 +0000 2021', 'id': 1358160808627363847, 'full_text': 'Walton family wealth in 2018: $146 billion\\nWalton family wealth in 2021: $228 billion\\n\\nWalmart minimum wage in 2018: $11 an hour\\nWalmart minimum wage in 2021: $11 an hour\\n\\nIt is a moral outrage that the richest family in America pays workers at Walmart starvation wages.', 'retweet_count': 8354, 'favorite_count': 39896}, {'created_at': 'Fri Feb 05 22:32:02 +0000 2021', 'id': 1357819298841059328, 'full_text': 'The budget resolution the Senate passed today puts us on a path to finally raise the minimum wage to $15 an hour. It is a moral imperative in the richest country in the world that no one is forced to live on a starvation wage, and the American Rescue Plan will get it done.', 'retweet_count': 3702, 'favorite_count': 34128}]\n"
     ]
    }
   ],
   "source": [
    "print(tweets)"
   ]
  },
  {
   "cell_type": "markdown",
   "metadata": {},
   "source": [
    "Hmmm, this is hard to read, let's try using `dict_print()`."
   ]
  },
  {
   "cell_type": "code",
   "execution_count": 224,
   "metadata": {},
   "outputs": [
    {
     "name": "stdout",
     "output_type": "stream",
     "text": [
      "[\n",
      "    {\n",
      "        \"created_at\": \"Sat Feb 06 22:43:03 +0000 2021\",\n",
      "        \"favorite_count\": 13299,\n",
      "        \"full_text\": \"Why would we want to impeach and convict Donald Trump \\u2013 a president who is now out of office? Because it must be made clear that no president, now or in the future, can lead an insurrection against the government he or she is sworn to protect.\",\n",
      "        \"id\": 1358184460794163202,\n",
      "        \"retweet_count\": 2272\n",
      "    },\n",
      "    {\n",
      "        \"created_at\": \"Sat Feb 06 21:09:04 +0000 2021\",\n",
      "        \"favorite_count\": 39896,\n",
      "        \"full_text\": \"Walton family wealth in 2018: $146 billion\\nWalton family wealth in 2021: $228 billion\\n\\nWalmart minimum wage in 2018: $11 an hour\\nWalmart minimum wage in 2021: $11 an hour\\n\\nIt is a moral outrage that the richest family in America pays workers at Walmart starvation wages.\",\n",
      "        \"id\": 1358160808627363847,\n",
      "        \"retweet_count\": 8354\n",
      "    },\n",
      "    {\n",
      "        \"created_at\": \"Fri Feb 05 22:32:02 +0000 2021\",\n",
      "        \"favorite_count\": 34128,\n",
      "        \"full_text\": \"The budget resolution the Senate passed today puts us on a path to finally raise the minimum wage to $15 an hour. It is a moral imperative in the richest country in the world that no one is forced to live on a starvation wage, and the American Rescue Plan will get it done.\",\n",
      "        \"id\": 1357819298841059328,\n",
      "        \"retweet_count\": 3702\n",
      "    }\n",
      "]\n"
     ]
    }
   ],
   "source": [
    "from utils import dict_print\n",
    "dict_print(tweets)"
   ]
  },
  {
   "cell_type": "markdown",
   "metadata": {},
   "source": [
    "`tweets` looks to be a `list` of `dictionaries`. It should look something like this:\n",
    "\n",
    "```python\n",
    "[{tweet1}, {tweet2}, {tweet3}]\n",
    "```\n",
    "\n",
    "We're familiar with these data types. Let's try printing the firtst item in the `list` `tweets`."
   ]
  },
  {
   "cell_type": "code",
   "execution_count": 226,
   "metadata": {},
   "outputs": [
    {
     "name": "stdout",
     "output_type": "stream",
     "text": [
      "{\n",
      "    \"created_at\": \"Sat Feb 06 21:09:04 +0000 2021\",\n",
      "    \"favorite_count\": 39896,\n",
      "    \"full_text\": \"Walton family wealth in 2018: $146 billion\\nWalton family wealth in 2021: $228 billion\\n\\nWalmart minimum wage in 2018: $11 an hour\\nWalmart minimum wage in 2021: $11 an hour\\n\\nIt is a moral outrage that the richest family in America pays workers at Walmart starvation wages.\",\n",
      "    \"id\": 1358160808627363847,\n",
      "    \"retweet_count\": 8354\n",
      "}\n"
     ]
    }
   ],
   "source": [
    "dict_print(tweets[1])"
   ]
  },
  {
   "cell_type": "markdown",
   "metadata": {},
   "source": [
    "This looks like a `dictionary` containing information about one tweet from Bernie. We know that the file we imported contains three tweets, so let's use `len()` to see how many tweets are in the list."
   ]
  },
  {
   "cell_type": "code",
   "execution_count": 227,
   "metadata": {},
   "outputs": [
    {
     "data": {
      "text/plain": [
       "3"
      ]
     },
     "execution_count": 227,
     "metadata": {},
     "output_type": "execute_result"
    }
   ],
   "source": [
    "len(tweets)"
   ]
  },
  {
   "cell_type": "markdown",
   "metadata": {},
   "source": [
    "Three! I think we understand what we're dealing with now. Let's see what `keys` are in a tweet `dictionary`."
   ]
  },
  {
   "cell_type": "markdown",
   "metadata": {},
   "source": [
    "### Question\n",
    "Write a function that returns the `\"id\"` of the tweet with the highest `\"retweet_count\"` and what that retweet count was.\n",
    "\n",
    "**Example of first `tweet`** `tweets[0]`\n",
    "\n",
    "```python\n",
    "{\n",
    "    \"created_at\": \"Sat Feb 06 22:43:03 +0000 2021\",\n",
    "    \"favorite_count\": 13299,\n",
    "    \"full_text\": \"Why would we want to impeach and convict Donald Trump \\u2013 a president who is now out of office? Because it must be made clear that no president, now or in the future, can lead an insurrection against the government he or she is sworn to protect.\",\n",
    "    \"id\": 1358184460794163202,\n",
    "    \"retweet_count\": 2272\n",
    "}\n",
    "```"
   ]
  },
  {
   "cell_type": "code",
   "execution_count": 228,
   "metadata": {},
   "outputs": [],
   "source": [
    "def find_max_retweets(tweets):\n",
    "    \"\"\"\n",
    "    (list(dict, dict, dict, ...)) -> int, int\n",
    "    Returns the \"id\" of the tweet with the highest \"retweet_count\" and what that retweet count was.\n",
    "    \n",
    "    Example:\n",
    "    find_max_retweets([{\"id\": 234, \"retweet_count\": 10}, {\"id\": 467, \"retweet_count\": 3}, {\"id\": 865, \"retweet_count\": 8}])\n",
    "    >>> 234, 10\n",
    "    \"\"\"\n",
    "    max_retweets = 0\n",
    "    tweet_id = None\n",
    "    \n",
    "    for tweet in tweets:\n",
    "        \n",
    "        if tweet['retweet_count'] > max_retweets:\n",
    "            max_retweets = tweet['retweet_count']\n",
    "            tweet_id = tweet['id']\n",
    "            \n",
    "    return (max_retweets, tweet_id)"
   ]
  },
  {
   "cell_type": "markdown",
   "metadata": {},
   "source": [
    "#### Test\n",
    "Expected output.\n",
    "```python\n",
    ">>> max_retweets, tweet_id = find_max_retweets(tweets)\n",
    "'tweet id 1358160808627363847 had the most retweets at 8354 '\n",
    "```"
   ]
  },
  {
   "cell_type": "code",
   "execution_count": 229,
   "metadata": {},
   "outputs": [
    {
     "name": "stdout",
     "output_type": "stream",
     "text": [
      "tweet id 1358160808627363847 had the most retweets at 8354\n"
     ]
    }
   ],
   "source": [
    "max_retweets, tweet_id = find_max_retweets(tweets)\n",
    "\n",
    "print('tweet id', tweet_id, 'had the most retweets at', max_retweets)"
   ]
  },
  {
   "cell_type": "markdown",
   "metadata": {},
   "source": [
    "<a id='section7'></a>\n",
    "## 7. Dictionary Inversion\n",
    "Reversing a dictionary is not the same as reversing a list; it entails inverting or switching the dictionary's key and value parts.\n",
    "\n",
    "Let's consider our `eng2spa` dictionary."
   ]
  },
  {
   "cell_type": "code",
   "execution_count": null,
   "metadata": {},
   "outputs": [],
   "source": [
    "eng2spa = {\"two\": \"dos\", \"one\": \"uno\"}"
   ]
  },
  {
   "cell_type": "markdown",
   "metadata": {},
   "source": [
    "Now, let's try to invert it so it looks like this:\n",
    "```python\n",
    "spa2eng = {\"dos\": \"two\", \"uno\": \"one\"}\n",
    "```"
   ]
  },
  {
   "cell_type": "code",
   "execution_count": 230,
   "metadata": {},
   "outputs": [
    {
     "name": "stdout",
     "output_type": "stream",
     "text": [
      "{'dos': 'two', 'uno': 'one'}\n"
     ]
    }
   ],
   "source": [
    "spa2eng = {}\n",
    "\n",
    "for eng_word in eng2spa.keys():\n",
    "    spa_word = eng2spa[eng_word]\n",
    "    spa2eng[spa_word] = eng_word\n",
    "    \n",
    "print(spa2eng)"
   ]
  },
  {
   "cell_type": "markdown",
   "metadata": {},
   "source": [
    "Let's try the same thing with a more complex dictionary of movies (`keys`) and lead actors (`values`)."
   ]
  },
  {
   "cell_type": "code",
   "execution_count": 231,
   "metadata": {},
   "outputs": [],
   "source": [
    "movies = {\n",
    "    'Inception': 'Leonardo DiCaprio',\n",
    "    'Titanic': 'Leonardo DiCaprio',\n",
    "    'Snatch': 'Brad Pitt',\n",
    "    'I, Tonya': 'Margo Robbie',\n",
    "    'Moneyball': 'Brad Pitt', \n",
    "    'Troy': 'Brad Pitt',\n",
    "    'The Revenant': 'Leonardo DiCaprio' \n",
    "}"
   ]
  },
  {
   "cell_type": "code",
   "execution_count": 232,
   "metadata": {},
   "outputs": [
    {
     "name": "stdout",
     "output_type": "stream",
     "text": [
      "{\n",
      "    \"I, Tonya\": \"Margo Robbie\",\n",
      "    \"Inception\": \"Leonardo DiCaprio\",\n",
      "    \"Moneyball\": \"Brad Pitt\",\n",
      "    \"Snatch\": \"Brad Pitt\",\n",
      "    \"The Revenant\": \"Leonardo DiCaprio\",\n",
      "    \"Titanic\": \"Leonardo DiCaprio\",\n",
      "    \"Troy\": \"Brad Pitt\"\n",
      "}\n"
     ]
    }
   ],
   "source": [
    "from utils import dict_print\n",
    "dict_print(movies)"
   ]
  },
  {
   "cell_type": "code",
   "execution_count": 233,
   "metadata": {},
   "outputs": [
    {
     "name": "stdout",
     "output_type": "stream",
     "text": [
      "{\n",
      "    \"Brad Pitt\": \"Troy\",\n",
      "    \"Leonardo DiCaprio\": \"The Revenant\",\n",
      "    \"Margo Robbie\": \"I, Tonya\"\n",
      "}\n"
     ]
    }
   ],
   "source": [
    "actors = {}\n",
    "\n",
    "for movie in movies:\n",
    "    actor = movies[movie]\n",
    "    actors[actor] = movie\n",
    "    \n",
    "dict_print(actors)"
   ]
  },
  {
   "cell_type": "markdown",
   "metadata": {},
   "source": [
    "<a id='section8'></a>\n",
    "## 8. Breakout Session 3"
   ]
  },
  {
   "cell_type": "markdown",
   "metadata": {},
   "source": [
    "What should you notice about the inverted dictionary? How do we fix this?\n",
    "\n",
    "This is what I want:\n",
    "\n",
    "```python\n",
    "{\n",
    "    \"Brad Pitt\": [\n",
    "        \"Snatch\",\n",
    "        \"Moneyball\",\n",
    "        \"Troy\"\n",
    "    ],\n",
    "    \"Leonardo DiCaprio\": [\n",
    "        \"Inception\",\n",
    "        \"Titanic\",\n",
    "        \"The Revenant\"\n",
    "    ],\n",
    "    \"Margo Robbie\": [\n",
    "        \"I, Tonya\"\n",
    "    ]\n",
    "}\n",
    "```"
   ]
  },
  {
   "cell_type": "code",
   "execution_count": 234,
   "metadata": {},
   "outputs": [
    {
     "name": "stdout",
     "output_type": "stream",
     "text": [
      "{\n",
      "    \"Brad Pitt\": [\n",
      "        \"Snatch\",\n",
      "        \"Moneyball\",\n",
      "        \"Troy\"\n",
      "    ],\n",
      "    \"Leonardo DiCaprio\": [\n",
      "        \"Inception\",\n",
      "        \"Titanic\",\n",
      "        \"The Revenant\"\n",
      "    ],\n",
      "    \"Margo Robbie\": [\n",
      "        \"I, Tonya\"\n",
      "    ]\n",
      "}\n"
     ]
    }
   ],
   "source": [
    "actors = {}\n",
    "\n",
    "for movie in movies:\n",
    "    \n",
    "    actor = movies[movie]\n",
    "    \n",
    "    if actor not in actors:\n",
    "        actors[actor] = [movie]\n",
    "    else:\n",
    "        actors[actor].append(movie)\n",
    "    \n",
    "dict_print(actors)"
   ]
  },
  {
   "cell_type": "markdown",
   "metadata": {},
   "source": [
    "<a id='section9'></a>\n",
    "## 9. Dictionaries as Data Structures\n",
    "`Dictionaries` are useful as `\"quick and dirty\"` data structures. \n",
    "\n",
    "For production code that will be used and maintained for a long time it would be better to use `objects` - we'll see those in a few weeks.\n",
    "\n",
    "Below is a dictionary (indexed by a string - the students name), with another `dictionary` as a value, index by strings `'Homework'`, `'Midterm'`, `'Final'` and with elements (of the inner `dictionary` being lists and ints)"
   ]
  },
  {
   "cell_type": "code",
   "execution_count": null,
   "metadata": {},
   "outputs": [],
   "source": [
    "students = {\n",
    "    'John Ponting': {\n",
    "        'Homework': [79, 80, 74],\n",
    "        'Midterm': 85,\n",
    "        'Final': 92\n",
    "    },\n",
    "    'Jacqueline Kallis': {\n",
    "        'Homework': [90, 92, 65],\n",
    "        'Midterm': 87,\n",
    "        'Final': 75\n",
    "    },\n",
    "    'Ricky Bobby': {\n",
    "        'Homework': [50, 52, 78],\n",
    "        'Midterm': 40,\n",
    "        'Final': 65\n",
    "    },\n",
    "}"
   ]
  },
  {
   "cell_type": "markdown",
   "metadata": {},
   "source": [
    "Let's say a students `course_mark` is calculated using the following formula.\n",
    "\n",
    "```python\n",
    "course_mark = (0.1 * averge homework mark) + (0.4 * midterm mark) + (0.5 * final mark)\n",
    "```\n",
    "Let's write some code to calculate the `course_mark` for a student specificed by user input."
   ]
  },
  {
   "cell_type": "code",
   "execution_count": null,
   "metadata": {
    "pycharm": {
     "name": "#%%\n"
    }
   },
   "outputs": [],
   "source": [
    "user_input = ''\n",
    "\n",
    "while user_input != 'exit':    \n",
    "    \n",
    "    user_input = input('Enter student name: ')\n",
    "    \n",
    "    if user_input in students.keys():\n",
    "\n",
    "        # Get values from nested dict\n",
    "        homework = students[user_input]['Homework']\n",
    "        midterm = students[user_input]['Midterm']\n",
    "        final = students[user_input]['Final']\n",
    "\n",
    "        # Compute student course mark \n",
    "        course_mark = (0.1 * sum(homework) / len(homework) + \n",
    "                       0.4 * midterm + \n",
    "                       0.5 * final)\n",
    "\n",
    "        # Print course mark\n",
    "        print(user_input, \"'s final mark is:\", course_mark, '\\n')\n",
    "        \n",
    "    else:\n",
    "        print(user_input, 'is not a student in this course.\\n')"
   ]
  }
 ],
 "metadata": {
  "kernelspec": {
   "display_name": "Python 3 (ipykernel)",
   "language": "python",
   "name": "python3"
  },
  "language_info": {
   "codemirror_mode": {
    "name": "ipython",
    "version": 3
   },
   "file_extension": ".py",
   "mimetype": "text/x-python",
   "name": "python",
   "nbconvert_exporter": "python",
   "pygments_lexer": "ipython3",
   "version": "3.11.5"
  }
 },
 "nbformat": 4,
 "nbformat_minor": 1
}
