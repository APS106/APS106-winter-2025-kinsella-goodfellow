{
 "cells": [
  {
   "cell_type": "markdown",
   "metadata": {
    "id": "CyvZB_Sboroe"
   },
   "source": [
    "### APS106 Lecture Notes - Week 3, Design Problem\n",
    "\n",
    "## Problem Background\n",
    "\n",
    "You just finished your APS106 midterm and heading to dinner with a few friends. However, no one can decide what to eat. Recently, your friends have been watching the Big Bang Theory and are planning on using Rock-Paper-Scissors-Lizard-Spock to decide.\n",
    "\n",
    "However, to truly make the game fun, you will be playing each other! The person with the best record in this round-robin tournament will decide what to eat. Thus, write a Python program using conditional statements and two user inputs to play Rock-Paper-Scissors-Lizard-Spock against your friend.\n",
    "\n",
    "Keep in mind that you are hungry! Make sure your code is efficient, well-thought-out, and accounts for all possibilities.\n",
    "\n",
    "Here is a link to how the game works, courtesy of the Big Bang Theory: https://www.youtube.com/watch?v=IFurn06BDuc (upto 1:14)\n",
    "\n",
    "And a visual for those who do not want to watch the clip: https://files.realpython.com/media/rps-lizardspock.88cf9623a6f0.png"
   ]
  },
  {
   "cell_type": "markdown",
   "metadata": {
    "id": "Xs5JehFEoroh"
   },
   "source": [
    "## Define the problem\n",
    "Given the spin on the classic rock-paper-scissors-game, we must develop a Python program with two user inputs and conditional statements, that obeys the game's rules, and accounts for all possible scenarios.\n",
    "\n",
    "<br>\n",
    "<p align=\"center\">\n",
    "<img src=\"images/RockPaperScissors.jpg\" alt=\"drawing\" width=\"600\"/>\n",
    "</p>\n",
    "<br>\n",
    "\n",
    "<br>\n",
    "<p align=\"center\">\n",
    "<img src=\"images/RockPaperScissorsLizardSpock.jpg\" alt=\"drawing\" width=\"600\"/>\n",
    "</p>\n",
    "<br>\n",
    "\n",
    "The difficulty in this problem lies in the implementation of the game with the comparison of user inputs. Do we want to use many if-statements? Is there a simpler way to do it? Let's consider some test cases first."
   ]
  },
  {
   "cell_type": "markdown",
   "metadata": {
    "id": "fTmcH9JXoroh"
   },
   "source": [
    "## Define Test Cases\n",
    "\n",
    "Let's start with the easiest case of rock and scissors.\n",
    "It is quite simple, if User 1 selects rock and User 2 selects scissors then our program must decide who wins!\n",
    "\n",
    "What if the users tie? How would we recognize that?\n",
    "\n",
    "But what if either of the users makes a typo? Or selects an option not present?\n",
    "Our program must be able to recognize this and correct for it!"
   ]
  },
  {
   "cell_type": "markdown",
   "metadata": {
    "id": "J5_pQSyCoroi"
   },
   "source": [
    "## Define Test Cases\n",
    "\n",
    "Let's start with the easiest case of rock and scissors.\n",
    "\n",
    "<br>\n",
    "<p align=\"center\">\n",
    "<img src=\"images/rock_scissors.jpeg\" alt=\"drawing\" width=\"450\"/>\n",
    "</p>\n",
    "<br>\n",
    "\n",
    "Let's think through the different possible cases step by step:\n",
    "<br>\n",
    "\n",
    "Case 1: User 1 selects rock and User 2 selects scissors\n",
    "<br>Result: System prints \"User 1 wins\".\n",
    "\n",
    "Case 2: User 1 selects scissors and User 2 selects rock\n",
    "<br>Result: System prints \"User 2 wins\".\n",
    "\n",
    "Case 3: User 1 and User 2 tie!\n",
    "<br>Result: System prints \"It's a tie!\".\n",
    "\n",
    "It is quite simple, if User 1 selects rock and User 2 selects scissors then our program must decide who wins!\n",
    "\n",
    "What if the users tie? How would we recognize that?\n",
    "\n",
    "<br>\n",
    "But what if either of the users makes a typo? Or selects an option not present?\n",
    "Our program must be able to recognize this and correct for it!"
   ]
  },
  {
   "cell_type": "markdown",
   "metadata": {
    "id": "5dtJG9Mgzt8B"
   },
   "source": [
    "## Generate multiple solutions\n",
    "Based on what we have learned so far, our program must:\n",
    "\n",
    " 1) Use if-statements to outline all possibilities\n",
    " <br>\n",
    " 2) Use a `select_winner` function to determine who won between the user inputs\n",
    "\n",
    "Thus, a fantastic algorithmic plan would be:\n",
    "1. Get Rock-Paper-Scissors-Lizard-Spock (RPSLS) selection from the users\n",
    "2. Compare to determine who wins\n",
    "3. Display winner on the screen!\n",
    "\n",
    "What about a Programming Plan?\n",
    "\n",
    "The first and last steps look easy, while Step 2 may require some thinking. So let's try the following:\n",
    "\n",
    "1. Write code to get input from the users and store in two variables.\n",
    "2. Figure out how to compare inputs and compute to see who won.\n",
    "3. Write code to display the winner.\n",
    "\n",
    "\n",
    "Let's start with the first step - seems simple!?\n",
    "<br>\n",
    "\n",
    "\n",
    "### Step 1: Write code to get input from the users and store in two variables."
   ]
  },
  {
   "cell_type": "code",
   "execution_count": null,
   "metadata": {
    "id": "2RZbBGQEoroi"
   },
   "outputs": [],
   "source": [
    "print(\"\\n--- Welcome to Rock, Paper, Scissors, Lizard, Spock! ---\\n\")\n",
    "\n",
    "print('Your options are:\\n🪨 Rock\\n📄 Paper\\n✂️ Scissors\\n🦎 Lizard\\n🖖 Spock\\n')\n",
    "player1_guess = input('Enter your choice Player 1: ')\n",
    "player2_guess = input('Enter your choice Player 2: ')"
   ]
  },
  {
   "cell_type": "markdown",
   "metadata": {
    "id": "R6o4l7LMoroi"
   },
   "source": [
    "Now let's move on to the most important part of the program—deciding the winner!\n",
    "\n",
    "### Step 2: Write code to determine the winner\n",
    "A function `select_winner` is provided below to implement the game. Read through the code and test it out to understand how it works."
   ]
  },
  {
   "cell_type": "markdown",
   "metadata": {
    "id": "_idCmykSz_Kg"
   },
   "source": [
    "# Here's the algorithm from Big Bang Theory\n",
    "\n",
    "<br>\n",
    "<p align=\"center\">\n",
    "<img src=\"images/rpsls.jpg\" alt=\"drawing\" width=\"450\"/>\n",
    "</p>"
   ]
  },
  {
   "cell_type": "markdown",
   "metadata": {
    "id": "oNZI-7Ul0FXj"
   },
   "source": [
    "It's better to check the base condition first, which is if the inputs are the same.\n",
    "This saves our time as we won't have to go through every condition."
   ]
  },
  {
   "cell_type": "code",
   "execution_count": null,
   "metadata": {
    "id": "VfZdiVQgoroj"
   },
   "outputs": [],
   "source": [
    "# function which selects the winner\n",
    "def select_winner(input1, input2):\n",
    "    \"\"\"\n",
    "    (str, str) -> int\n",
    "\n",
    "    Determine winner of a two person rock-paper-scissors-lizard-spock game from two user inputs\n",
    "    If input1 wins, return -1\n",
    "    If input2 wins, return 1\n",
    "    If it's a tie, return 0\n",
    "\n",
    "    \"\"\"\n",
    "\n",
    "    # If it's a tie\n",
    "    if (input1 == input2):\n",
    "        return 0\n",
    "\n",
    "    # Scissors cuts Paper\n",
    "    elif (input1 == 'scissors') and (input2 == 'paper'):\n",
    "        return -1\n",
    "    elif (input1 == 'paper') and (input2 == 'scissors'):\n",
    "        return 1\n",
    "\n",
    "    # Paper covers Rock\n",
    "    elif (input1 == 'paper') and (input2 == 'rock'):\n",
    "        return -1\n",
    "    elif (input1 == 'rock') and (input2 == 'paper'):\n",
    "        return 1\n",
    "\n",
    "    # Lizard eats Paper\n",
    "    elif (input1 == 'lizard') and (input2 == 'paper'):\n",
    "        return -1\n",
    "    elif (input1 == 'paper') and (input2 == 'lizard'):\n",
    "        return 1\n",
    "\n",
    "    # Rock crushes Lizard\n",
    "    elif (input1 == 'rock') and (input2 == 'lizard'):\n",
    "        return -1\n",
    "    elif (input1 == 'lizard') and (input2 == 'rock'):\n",
    "        return 1\n",
    "\n",
    "    # Lizard poisons Spock\n",
    "    elif (input1 == 'spock') and (input2 == 'lizard'):\n",
    "        return 1\n",
    "    elif (input1 == 'lizard') and (input2 == 'spock'):\n",
    "        return -1\n",
    "\n",
    "    # Paper disproves Spock\n",
    "    elif (input1 == 'paper') and (input2 == 'spock'):\n",
    "        return 1\n",
    "    elif (input1 == 'spock') and (input2 == 'paper'):\n",
    "        return -1\n",
    "\n",
    "    # Scissors decapitates Lizard\n",
    "    elif (input1 == 'lizard') and (input2 == 'scissors'):\n",
    "        return 1\n",
    "    elif (input1 == 'scissors') and (input2 == 'lizard'):\n",
    "        return -1\n",
    "\n",
    "    # Spock vapourises Rock\n",
    "    elif (input1 == 'rock') and (input2 == 'spock'):\n",
    "        return 1\n",
    "    elif (input1 == 'spock') and (input2 == 'rock'):\n",
    "        return -1\n",
    "\n",
    "    # Spock smashes Scissors\n",
    "    elif (input1 == 'scissors') and (input2 == 'spock'):\n",
    "        return 1\n",
    "    elif (input1 == 'spock') and (input2 == 'scissors'):\n",
    "        return -1\n",
    "\n",
    "    # Rock crushes Scissors\n",
    "    elif (input1 == 'rock') and (input2 == 'scissors'):\n",
    "        return -1\n",
    "    elif (input1 == 'scissors') and (input2 == 'rock'):\n",
    "        return 1\n",
    "\n",
    "    # since we can't determine who wins\n",
    "    else:\n",
    "        print (\"Input is not a character in RPSLS\")\n",
    "        return 0"
   ]
  },
  {
   "cell_type": "code",
   "execution_count": null,
   "metadata": {
    "id": "ttHo1JWa0MgZ"
   },
   "outputs": [],
   "source": [
    "print(\"\\n--- Welcome to Rock, Paper, Scissors, Lizard, Spock! ---\\n\")\n",
    "\n",
    "print('Your options are:\\n🪨 Rock\\n📄 Paper\\n✂️ Scissors\\n🦎 Lizard\\n🖖 Spock\\n')\n",
    "player1_guess = input('Enter your choice Player 1: ')\n",
    "player2_guess = input('Enter your choice Player 2: ')\n",
    "\n",
    "\n",
    "# Call the function to select winner\n",
    "winner = select_winner(str(player1_guess), str(player2_guess))\n",
    "\n",
    "print(\"\\n🥁 Drumrolls... 🥁\\n\")\n",
    "\n",
    "if winner == 1:\n",
    "    print(\"Player 2 wins!\")\n",
    "elif winner == -1:\n",
    "    print(\"Player 1 wins!\")\n",
    "else:\n",
    "    print(\"It's a tie!\")"
   ]
  },
  {
   "cell_type": "markdown",
   "metadata": {
    "id": "z41iIkF1oroj"
   },
   "source": [
    "### What do we think?  \n",
    "The code is pretty straightforward and might be a good place to start. However, as engineers and programmers, one crucial question should come to mind: *Can we do better?*  \n",
    "\n",
    "### (Potential) Problems with the Current Solution  \n",
    "\n",
    "1. **Hardcoded Choices**  \n",
    "   - One challenge with this version is that we have to manually hardcode every single option. This approach quickly becomes unrealistic and difficult to scale.\n",
    "\n",
    "2. **Excessive Conditional Statements**  \n",
    "   - The current `select_winner` function relies heavily on numerous if-elif statements. Writing too much code for such a simple game isn't ideal, and there's a need for a more concise solution.\n",
    "\n",
    "<br>\n",
    "<p align=\"center\">\n",
    "  <img src=\"images/reboot.jpg\" alt=\"drawing\" width=\"600\"/>\n",
    "</p>\n",
    "<br>\n",
    "\n",
    "### A Better Approach  \n",
    "\n",
    "Instead of jumping straight into optimizing the entire game, let's take a step back and focus on solving a smaller part of the problem—just rock-paper-scissors. This will help us visualize a cleaner and more efficient solution."
   ]
  },
  {
   "cell_type": "markdown",
   "metadata": {
    "id": "yoB56Py6oroj"
   },
   "source": [
    "## Breakout Session! ⏰\n",
    "Complete the function below using the following table that combines similar outcomes in a game of rock-paper-scissors.\n",
    "\n",
    "\n",
    "<p align=\"center\"> <img src=\"images/rps.png\" alt=\"drawing\" width=\"600\"/> </p>\n",
    "\n",
    "\n",
    "\n",
    "| **Player 1** | **Player 2** | **Outcome** |\n",
    "| --- | --- | --- |\n",
    "| Rock | Rock | Tie |\n",
    "| Paper | Paper | Tie |\n",
    "| Scissors | Scissors | Tie |\n",
    "| --- | --- | --- |\n",
    "| Rock | Scissors | P1 Win |\n",
    "| Paper | Rock | P1 Win  |\n",
    "| Scissors | Paper | P1 Win |\n",
    "| --- | --- | --- |\n",
    "| Rock | Paper | P2 Win |\n",
    "| Paper | Scissors | P2 Win  |\n",
    "| Scissors | Rock | P2 Win |"
   ]
  },
  {
   "cell_type": "code",
   "execution_count": null,
   "metadata": {
    "id": "FpugatG7oroj"
   },
   "outputs": [],
   "source": [
    "def rps_winner(input1, input2):\n",
    "    \"\"\"\n",
    "    (str, str) -> int\n",
    "    Determine winner of a two person rock-paper-scissors-lizard-spock game from two user inputs\n",
    "        rock beats scissors\n",
    "        paper beats rock\n",
    "        scissors beats paper\n",
    "    If input1 wins, return -1\n",
    "    If input2 wins, return 1\n",
    "    \"\"\"\n",
    "    # Combine the conditions from the first implementation for the 3 possible outcomes\n",
    "    # Hint - does one of the outcomes have a shorter condition to check?\n",
    "\n",
    "    # determine if players tie\n",
    "    if input1 == input2:\n",
    "        return 0\n",
    "\n",
    "    # else if determine if player1 actually wins\n",
    "    elif ((input1 == 'rock') and (input2 == 'scissors')) or \\\n",
    "         ((input1 == 'paper') and (input2 == 'rock')) or \\\n",
    "         ((input1 == 'scissors') and (input2 == 'paper')):\n",
    "        return -1\n",
    "\n",
    "    # else player 2 won\n",
    "    else:\n",
    "        return 1"
   ]
  },
  {
   "cell_type": "code",
   "execution_count": null,
   "metadata": {
    "id": "a4K24Otc0Ya9"
   },
   "outputs": [],
   "source": [
    "print(\"\\n--- Welcome to Rock, Paper, Scissors! ---\\n\")\n",
    "\n",
    "print('Your options are:\\n🪨 Rock\\n📄 Paper\\n✂️ Scissors\\n')\n",
    "player1_guess = input('Enter your choice Player 1: ')\n",
    "player2_guess = input('Enter your choice Player 2: ')\n",
    "\n",
    "\n",
    "# Call the function rps_winner\n",
    "winner = rps_winner(str(player1_guess), str(player2_guess))\n",
    "\n",
    "# Print your results here\n",
    "print(\"\\n🥁 Drumrolls... 🥁\\n\")\n",
    "\n",
    "if winner == 1:\n",
    "    print(\"Player 2 wins!\")\n",
    "elif winner == -1:\n",
    "    print(\"Player 1 wins!\")\n",
    "else:\n",
    "    print(\"It's a tie!\")"
   ]
  },
  {
   "cell_type": "markdown",
   "metadata": {
    "id": "UYh6uGO7oroj"
   },
   "source": [
    "#### Good Game! 🌟\n",
    "\n",
    "\n",
    "Let's look at our function. It seems pretty reasonable. Can we extend it to the full game? One problem is that in the full game for each choice of player 1 there are two other choices that beat it and two other choices that it beats. Can we incorporate that easily?\n",
    "<br>\n",
    "\n",
    "## Breakout Session! ⏰\n",
    "\n",
    "<br>\n",
    "<p align=\"center\"> <img src=\"images/rpsls2.jpg\" alt=\"drawing\" width=\"600\"/> </p>\n",
    "<br>\n",
    "\n",
    "Modify the logic of `rps_winner` and write complete the function `rpsls_winner to extend it for a game of rock-paper-scissors-lizard-spock.\n",
    "\n",
    "| **Player 1** | **Player 2** | **Player 2** | **Outcome** |\n",
    "| --- | --- | --- | --- |\n",
    "| Rock | Scissors | Lizard | P1 Win |\n",
    "| Paper | Rock | Spock | P1 Win  |\n",
    "| Scissors | Paper | Lizard | P1 Win |\n",
    "| Lizard | Paper | Spock | P1 Win  |\n",
    "| Spock | Scissors | Rock | P1 Win |"
   ]
  },
  {
   "cell_type": "code",
   "execution_count": null,
   "metadata": {
    "id": "gwKiRzc3orok"
   },
   "outputs": [],
   "source": [
    "# function which selects the winner\n",
    "def rpsls_winner(input1, input2):\n",
    "    \"\"\"\n",
    "    (str, str) -> int\n",
    "    Determine winner of a two person rock-paper-scissors-lizard-Spock game from two user inputs\n",
    "        rock beats scissors and lizard\n",
    "        paper beats rock and Spock\n",
    "        scissors beats paper and lizard\n",
    "        lizard beats paper and Spock\n",
    "        Spock beats scissors and rock\n",
    "    If input1 wins, return -1\n",
    "    If input2 wins, return 1\n",
    "    \"\"\"\n",
    "    # Combine the conditions from the first implementation for the 3 possible outcomes\n",
    "    # Hint - can you shorten the conidition for one of the 3 outcomes?\n",
    "\n",
    "    # determine if players tie\n",
    "    if input1 == input2:\n",
    "        return 0\n",
    "\n",
    "    # else if determine if player1 actually wins\n",
    "    elif ((input1 == 'rock') and (input2 == 'scissors' or input2 == 'lizard')) or \\\n",
    "        ((input1 == 'paper') and (input2 == 'rock' or input2 == 'spock')) or \\\n",
    "        ((input1 == 'scissors') and (input2 == 'paper' or input2 == 'lizard')) or \\\n",
    "        ((input1 == 'lizard') and (input2 == 'paper' or input2 == 'spock')) or \\\n",
    "        ((input1 == 'spock') and (input2 == 'scissors' or input2 == 'rock')):\n",
    "        return -1\n",
    "\n",
    "    # else player 2 won\n",
    "    else:\n",
    "        return 1"
   ]
  },
  {
   "cell_type": "markdown",
   "metadata": {
    "id": "-FaTnfQIorok"
   },
   "source": [
    "### Extension\n",
    "Here is another version just to showcase another example of accomplishing the same goal. In this version, we will initially assume that the game is a tie. If that condition is not true, we will further assume player 2 will win and then check whether player 1 actually wins the game.\n",
    "\n",
    "<br>\n",
    "\n",
    "The check for tie happens first, and then player 2 is assumed to win, which reduces redundancy by avoiding the else block."
   ]
  },
  {
   "cell_type": "code",
   "execution_count": null,
   "metadata": {
    "id": "zg8ukrKAorok"
   },
   "outputs": [],
   "source": [
    "def rpsls_winner(input1, input2):\n",
    "    \"\"\"\n",
    "    (str, str) -> int\n",
    "    Determine winner of a two person rock-paper-scissors-lizard-spock game from two user inputs\n",
    "        rock beats scissors and lizard\n",
    "        paper beats rock and Spock\n",
    "        scissors beats paper and lizard\n",
    "        lizard beats paper and Spock\n",
    "        Spock beats scissors and rock\n",
    "    If input1 wins, return -1\n",
    "    If input2 wins, return 1\n",
    "    \"\"\"\n",
    "\n",
    "    # Our initial assumption is that the game is a tie\n",
    "    return_value = 0\n",
    "\n",
    "    # Check the assumption that the game is a tie\n",
    "    if input1 != input2:\n",
    "        # If not a tie, Assume player2 wins\n",
    "        return_value = 1\n",
    "\n",
    "    # Determine if player1 actually wins\n",
    "    if ((input1 == 'rock') and (input2 == 'scissors' or input2 == 'lizard')) or \\\n",
    "        ((input1 == 'paper') and (input2 == 'rock' or input2 == 'spock')) or \\\n",
    "        ((input1 == 'scissors') and (input2 == 'paper' or input2 == 'lizard')) or \\\n",
    "        ((input1 == 'lizard') and (input2 == 'paper' or input2 == 'spock')) or \\\n",
    "        ((input1 == 'spock') and (input2 == 'scissors' or input2 == 'rock')):\n",
    "        return_value = -1\n",
    "\n",
    "    return return_value"
   ]
  },
  {
   "cell_type": "code",
   "execution_count": null,
   "metadata": {
    "id": "CYI2hUlUorok"
   },
   "outputs": [],
   "source": [
    "# Test your code!\n",
    "print(\"\\n--- Welcome to Rock, Paper, Scissors, Lizard, Spock! ---\\n\")\n",
    "\n",
    "print('Your options are:\\n🪨 Rock\\n📄 Paper\\n✂️ Scissors\\n🦎 Lizard\\n🖖 Spock\\n')\n",
    "player1_guess = input('Enter your choice Player 1: ')\n",
    "player2_guess = input('Enter your choice Player 2: ')\n",
    "\n",
    "# Call the function to select winner\n",
    "winner = rpsls_winner(player1_guess, player2_guess)\n",
    "\n",
    "print(\"\\n🥁 Drumrolls... 🥁\\n\")\n",
    "\n",
    "if  winner == -1:\n",
    "    print(\"Player 1 wins\")\n",
    "elif winner == 1:\n",
    "    print(\"Player 2 wins\")\n",
    "else:\n",
    "    print(\"It's a tie.\")"
   ]
  },
  {
   "cell_type": "markdown",
   "metadata": {
    "id": "7Qhte0nQorok"
   },
   "source": [
    "## Select a Solution\n",
    "\n",
    "Now that we have it working, we need to think about whether this is a good approach. The code we've written is quite clear and easy to follow - and with practice, your coding skills will only get better!\n",
    "\n",
    "Another way to solve the problem is to encode each choice as a number and then subtract the two players' choices. Based on the result, can you tell who won? (We'll leave that as a challenge).\n",
    "\n",
    "For now, it looks like the code is reasonable and so we can select it as a solution."
   ]
  },
  {
   "cell_type": "markdown",
   "metadata": {
    "id": "r8CNX1Wqorok"
   },
   "source": [
    "## Breakout Session! ⏰\n",
    "\n",
    "### What if we want to play against a computer? How would we handle that? We want the game to be truly random!"
   ]
  },
  {
   "cell_type": "code",
   "execution_count": null,
   "metadata": {
    "id": "aAbe2YvB0-rm"
   },
   "outputs": [],
   "source": [
    "def rpsls_winner(input1, input2):\n",
    "    \"\"\"\n",
    "    (str, str) -> int\n",
    "    Determine winner of a two person rock-paper-scissors-lizard-Spock game from two user inputs\n",
    "        rock beats scissors and lizard\n",
    "        paper beats rock and Spock\n",
    "        scissors beats paper and lizard\n",
    "        lizard beats paper and Spock\n",
    "        Spock beats scissors and rock\n",
    "    If input1 wins, return -1\n",
    "    If input2 wins, return 1\n",
    "    \"\"\"\n",
    "    return_value = 0\n",
    "    if input1 != input2:\n",
    "        # not a tie\n",
    "        return_value = 1 # assume player2 wins\n",
    "\n",
    "        # determine if player1 actually wins\n",
    "        if ((input1 == 'rock') and (input2 == 'scissors' or input2 == 'lizard')) or \\\n",
    "           ((input1 == 'scissors') and (input2 == 'paper' or input2 == 'lizard')) or \\\n",
    "           ((input1 == 'paper') and (input2 == 'rock' or input2 == 'spock')) or \\\n",
    "           ((input1 == 'lizard') and (input2 == 'paper' or input2 == 'spock')) or \\\n",
    "           ((input1 == 'spock') and (input2 == 'scissors' or input2 == 'rock')):\n",
    "            return_value = -1\n",
    "\n",
    "    return return_value"
   ]
  },
  {
   "cell_type": "markdown",
   "metadata": {
    "id": "VhVJddcy1Moi"
   },
   "source": [
    "We'll see in a few weeks that there is a better way to do this using lists for now, let's go with what we know"
   ]
  },
  {
   "cell_type": "code",
   "execution_count": null,
   "metadata": {
    "id": "n8bQF78Oorok"
   },
   "outputs": [],
   "source": [
    "import random\n",
    "\n",
    "\n",
    "def generate_guess():\n",
    "    \"\"\"\n",
    "    Converts int number to a string name (choice in RPLS)\n",
    "    number_to_name(number) -> string\n",
    "    \"\"\"\n",
    "\n",
    "    # The below code generates a random integer between 0 and 5\n",
    "    # This includes 0 but excludes 5 -> 0, 1, 2, 3, 4\n",
    "    guess_number = random.randrange(0,5)\n",
    "    guess_str = \"\"\n",
    "\n",
    "    # Code to complete the number to name conversion\n",
    "    if guess_number == 0:\n",
    "        guess_str = \"rock\"\n",
    "    elif guess_number == 1:\n",
    "        guess_str = \"spock\"\n",
    "    elif guess_number == 2:\n",
    "        guess_str = \"paper\"\n",
    "    elif guess_number == 3:\n",
    "        guess_str = \"lizard\"\n",
    "    elif guess_number == 4:\n",
    "        guess_str = \"scissors\"\n",
    "\n",
    "    return guess_str"
   ]
  },
  {
   "cell_type": "markdown",
   "metadata": {
    "id": "7eIB9TAe1Dt8"
   },
   "source": [
    "# Awesome Job! 🎉  \n",
    "\n",
    "<br>\n",
    "<p align=\"center\">\n",
    "  <img src=\"images/bbt.jpg\" alt=\"drawing\" width=\"600\"/>\n",
    "</p>\n",
    "<br>\n",
    "\n",
    "Time to bring your code to life with some cool visualizations! 🚀"
   ]
  },
  {
   "cell_type": "code",
   "execution_count": null,
   "metadata": {
    "id": "5jF1LL-worok"
   },
   "outputs": [],
   "source": [
    "from utils import visualizer\n",
    "\n",
    "print(\"\\n--- Welcome to Rock, Paper, Scissors, Lizard, Spock! ---\\n\")\n",
    "\n",
    "print('Your options are:\\n🪨 Rock\\n📄 Paper\\n✂️ Scissors\\n🦎 Lizard\\n🖖 Spock\\n')\n",
    "player1_guess = input('Enter your choice: ')\n",
    "computer_guess = generate_guess()\n",
    "\n",
    "print(\"\\nPlayer:\",player1_guess, \"\\nComputer:\", computer_guess)\n",
    "\n",
    "winner = rpsls_winner(player1_guess, computer_guess)\n",
    "\n",
    "print(\"\\n🥁 Drumrolls... 🥁\\n\")\n",
    "\n",
    "if  winner == -1:\n",
    "    print(\"Player 1 wins\")\n",
    "elif winner == 1:\n",
    "    print(\"Computer wins\")\n",
    "else:\n",
    "    print(\"It's a tie.\")\n",
    "\n",
    "# Just for fun we have a visualizer of the game\n",
    "visualizer(player1_guess, computer_guess, winner)"
   ]
  },
  {
   "cell_type": "code",
   "execution_count": null,
   "metadata": {
    "id": "DHTTDJoR13vS"
   },
   "outputs": [],
   "source": []
  }
 ],
 "metadata": {
  "colab": {
   "provenance": []
  },
  "kernelspec": {
   "display_name": "Python [conda env:base] *",
   "language": "python",
   "name": "conda-base-py"
  },
  "language_info": {
   "codemirror_mode": {
    "name": "ipython",
    "version": 3
   },
   "file_extension": ".py",
   "mimetype": "text/x-python",
   "name": "python",
   "nbconvert_exporter": "python",
   "pygments_lexer": "ipython3",
   "version": "3.12.7"
  }
 },
 "nbformat": 4,
 "nbformat_minor": 4
}
