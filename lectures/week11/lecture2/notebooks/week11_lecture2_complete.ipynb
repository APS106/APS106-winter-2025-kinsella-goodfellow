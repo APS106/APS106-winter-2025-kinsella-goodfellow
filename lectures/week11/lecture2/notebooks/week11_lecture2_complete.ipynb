{
 "cells": [
  {
   "cell_type": "markdown",
   "metadata": {
    "jupyter": {
     "outputs_hidden": true
    }
   },
   "source": [
    "# APS106 - Fundamentals of Computer Programming\n",
    "## Week 11 | Lecture 1 (11.2) - More files, file methods, CSV module, creating your own modules\n",
    "\n",
    "### This Week\n",
    "| Lecture | Topics |\n",
    "| --- | --- |\n",
    "| 12.1 | Object-Oriented Examples |\n",
    "| **12.1** | **More files, file methods, CSV module, creating your own modules** |\n",
    "| 12.3 | Cancelled |\n",
    "\n",
    "### Lecture Structure\n",
    "1. [Writing a dictionary to file](#section1)\n",
    "2. [More advanced file reading](#section2)\n",
    "3. [The with statement](#section3)\n",
    "4. [CSV files](#section4)\n",
    "5. [Modules](#section5)"
   ]
  },
  {
   "cell_type": "markdown",
   "metadata": {},
   "source": [
    " <a id='section1'></a>\n",
    " \n",
    "## 1. Writing a dictionary to file"
   ]
  },
  {
   "cell_type": "code",
   "execution_count": 3,
   "metadata": {},
   "outputs": [],
   "source": [
    "students = {'Kendrick': 'A+', 'Dre': 'C-', 'Snoop': 'B'} \n",
    "\n",
    "# create a file\n",
    "myfile = open(\"grades.txt\", \"w\")\n",
    "\n",
    "# store dictionary items to the file\n",
    "for student in students:\n",
    "    myfile.write(student + ',' + students[student] + '\\n')\n",
    "\n",
    "# close the file    \n",
    "myfile.close()"
   ]
  },
  {
   "cell_type": "markdown",
   "metadata": {
    "tags": []
   },
   "source": [
    "<a id='section2'></a>\n",
    " \n",
    "## 2. More advanced file reading\n",
    "\n",
    "### for line in file"
   ]
  },
  {
   "cell_type": "code",
   "execution_count": 5,
   "metadata": {},
   "outputs": [],
   "source": [
    "#declaring filename to change easily if you want to try with different files\n",
    "filename = 'grades.txt'"
   ]
  },
  {
   "cell_type": "code",
   "execution_count": 6,
   "metadata": {},
   "outputs": [
    {
     "name": "stdout",
     "output_type": "stream",
     "text": [
      "Kendrick,A+\n",
      "Dre,C-\n",
      "Snoop,B\n",
      "\n"
     ]
    }
   ],
   "source": [
    "# Approach: for line in file\n",
    "# When to use it: When you want to process the file line-by-line\n",
    "# Example code\n",
    "\n",
    "myfile = open(filename, 'r')\n",
    "contents = ''\n",
    "for line in myfile: # each time through the loop line contains one line of the file\n",
    "    contents += line\n",
    "    #print(line)  #why is there a gap between rows?\n",
    "myfile.close()\n",
    "\n",
    "print(contents)\n",
    "# by the end of this contents contains the entire contets of the file"
   ]
  },
  {
   "cell_type": "markdown",
   "metadata": {},
   "source": [
    "### readlines"
   ]
  },
  {
   "cell_type": "code",
   "execution_count": 37,
   "metadata": {},
   "outputs": [
    {
     "name": "stdout",
     "output_type": "stream",
     "text": [
      "['Kendrick,A+\\n', 'Dre,C-\\n', 'Snoop,B\\n']\n"
     ]
    }
   ],
   "source": [
    "# Approach: readlines\n",
    "# When to use it: When you want to process the file line-by-line with an index\n",
    "# Example code\n",
    "myfile = open(filename, 'r')\n",
    "lines = myfile.readlines() # lines is a list of strings. Each entry in lines is a line of the file\n",
    "myfile.close()\n",
    "print(lines)"
   ]
  },
  {
   "cell_type": "code",
   "execution_count": 12,
   "metadata": {},
   "outputs": [
    {
     "name": "stdout",
     "output_type": "stream",
     "text": [
      "{'Kendrick': 'A+', 'Dre': 'C-', 'Snoop': 'B'}\n"
     ]
    }
   ],
   "source": [
    "\n",
    "students = {}\n",
    "myfile = open(\"grades.txt\", \"r\")\n",
    "\n",
    "# read each line of the file\n",
    "for line in myfile:\n",
    "    # find indices for slicing each line\n",
    "    ind1 = line.find(',')\n",
    "    ind2 = line.find('\\\\')\n",
    "    name = line[:ind1]\n",
    "    grade = line[ind1+1:ind2]\n",
    "    students[name] = grade\n",
    "\n",
    "myfile.close()\n",
    "\n",
    "print(students)"
   ]
  },
  {
   "cell_type": "markdown",
   "metadata": {
    "tags": []
   },
   "source": [
    "<a id='section3'></a>\n",
    "## 3. The with Statement\n",
    "\n",
    "Notice that whenever we open a file, we need to be careful to close it again. Python provides a nice way to open and then automatically close a file using a `with` block.\n",
    "\n",
    "```\n",
    "with open(«filename», «mode») as «variable»:\n",
    "      «body»\n",
    "```\n",
    "\n",
    "The file is opened at the beginning and **automatically closed** at the end of the body. \n"
   ]
  },
  {
   "cell_type": "code",
   "execution_count": 48,
   "metadata": {},
   "outputs": [
    {
     "name": "stdout",
     "output_type": "stream",
     "text": [
      "CATS!\n",
      "I <3 my second sentence\n",
      "\n",
      "The next line\n"
     ]
    }
   ],
   "source": [
    "def f(file):\n",
    "    print(file.read())\n",
    "\n",
    "with open('test.txt', 'r') as file:  #test.txt is from beginning of notebook\n",
    "    f(file)\n",
    "    \n",
    "print(\"The next line\")"
   ]
  },
  {
   "cell_type": "code",
   "execution_count": null,
   "metadata": {},
   "outputs": [],
   "source": [
    "with open(\"flanders.txt\", 'w') as flanders_file:\n",
    "    \n",
    "    content = flanders_file.()\n",
    "    \n",
    "    for line in flanders_file:\n",
    "        print(line, end=\"\")\n",
    "print('hello')"
   ]
  },
  {
   "cell_type": "markdown",
   "metadata": {},
   "source": [
    " <a id='section4'></a>\n",
    "## 4. CSV Files\n",
    "\n",
    "The CSV format (comma separated values) is very commonly used to represent the data in a spreadsheet. \n",
    "\n",
    "For example a spreadsheet such as:\n",
    "\n",
    "Name|Test1|Test2|Final\n",
    "----|-----|-----|-----\n",
    "Kendrick|100|50|29\n",
    "Dre|76|32|33\n",
    "Snoop|25|75|95\n",
    "\n",
    "is represented as a file like this:\n",
    "\n",
    "```\n",
    "Name,Test1,Test2,Final\n",
    "Kendrick,100,50,29\n",
    "Lamar,76,32,33\n",
    "Snoop,25,75,95\n",
    "```\n",
    "\n",
    "We can, of course, access this files using the techniques above."
   ]
  },
  {
   "cell_type": "code",
   "execution_count": 8,
   "metadata": {},
   "outputs": [],
   "source": [
    "csv_file = open('grades.csv','w')\n",
    "csv_file.write('''Name,Test1,Test2,Final\n",
    "Kendrick,100,50,29\n",
    "Dre,76,32,33\n",
    "Snoop,25,75,95\n",
    "''')\n",
    "csv_file.close()"
   ]
  },
  {
   "cell_type": "code",
   "execution_count": 22,
   "metadata": {},
   "outputs": [],
   "source": [
    "with open('grades.csv','w') as csv_file:\n",
    "    csv_file.write('Name,Test1,Test2,Final\\nKendrick,100,50,29\\nDre,76,32,33\\nSnoop,25,75,95')\n"
   ]
  },
  {
   "cell_type": "code",
   "execution_count": 11,
   "metadata": {},
   "outputs": [
    {
     "name": "stdout",
     "output_type": "stream",
     "text": [
      "Name,Test1,Test2,Final\n",
      "Kendrick,100,50,29\n",
      "Dre,76,32,33\n",
      "Snoop,25,75,95"
     ]
    }
   ],
   "source": [
    "with open('grades.csv', 'r') as file:\n",
    "    for line in file:\n",
    "        print(line, end='')"
   ]
  },
  {
   "cell_type": "markdown",
   "metadata": {},
   "source": [
    "Notice that you have the information about each row and also the commas. If you are going to process this data, you are going to need to **parse** it. That means , for example, to discard the commas (as they just separate the data and are not otherwise meaningful), to extract the integers from the string.\n",
    "\n",
    "One of the great things about Python is the existence of many modules that give us the ability to easily do many things, like reading and writing CSV files. \n",
    "\n",
    "Reading of CSV files can be done using the CSV reader. You can construct a reader object using `csv.reader()` which takes the file object as input. The reader object can be used to iterate through the contents of the CSV file, similarly to how a file object was used to iterate through the contents in a text file.\n",
    "\n",
    "The difference between the two is that the file method `read(`) returns the entire contents of the file as one long string, whereas, the CSV `reader()` returns an object which can be iterated through. The reader object holds each row as a list of strings and can be iterated through row by row. \n",
    "\n",
    "Example: Read each row of a CSV file"
   ]
  },
  {
   "cell_type": "code",
   "execution_count": 23,
   "metadata": {
    "scrolled": true
   },
   "outputs": [
    {
     "name": "stdout",
     "output_type": "stream",
     "text": [
      "<_io.TextIOWrapper name='grades.csv' mode='r' encoding='UTF-8'>\n",
      "<_csv.reader object at 0x7fd650cae190>\n",
      "['Name', 'Test1', 'Test2', 'Final']\n",
      "['Kendrick', '100', '50', '29']\n",
      "['Dre', '76', '32', '33']\n",
      "['Snoop', '25', '75', '95']\n"
     ]
    }
   ],
   "source": [
    "import csv\n",
    "\n",
    "with open('grades.csv', 'r') as file:\n",
    "    print(file)\n",
    "    grades_reader = csv.reader(file) # create csv.reader object with an open file\n",
    "    print(grades_reader) #what does grades_reader look like? just some object, but it is iterable!\n",
    "    row_num = 1\n",
    "    for row in grades_reader:           # the cvs.reader is an iterable!\n",
    "        print(row)\n",
    "        #print('Row #', row_num, ':', row)\n",
    "        row_num += 1"
   ]
  },
  {
   "cell_type": "markdown",
   "metadata": {},
   "source": [
    "If we didn’t have a CSV file created, we could create one by:\n",
    "- creating a CSV writer object\n",
    "- using the writerow() method to populate it with data\n",
    "\n",
    "Example: In the previous grade example there were a few marking errors on the final exam. \n"
   ]
  },
  {
   "cell_type": "code",
   "execution_count": 19,
   "metadata": {},
   "outputs": [
    {
     "name": "stdout",
     "output_type": "stream",
     "text": [
      "<_io.TextIOWrapper name='grades_new.csv' mode='w' encoding='UTF-8'>\n",
      "<_csv.writer object at 0x7fd670cca590>\n",
      "Help on built-in function writerow:\n",
      "\n",
      "writerow(...) method of _csv.writer instance\n",
      "    writerow(iterable)\n",
      "    \n",
      "    Construct and write a CSV record from an iterable of fields.  Non-string\n",
      "    elements will be converted to string.\n",
      "\n"
     ]
    }
   ],
   "source": [
    "import csv\n",
    "\n",
    "rows = [['Name', 'Test1', 'Test2', 'Final'],\n",
    "        ['Kendrick', '100', '50', '69'],\n",
    "        ['Dre', '76', '32', '53'],\n",
    "        ['Snoop', '25', '75', '100']]\n",
    "\n",
    "with open('grades_new.csv', 'w') as csvfile:\n",
    "    print(csvfile)\n",
    "    grades_writer = csv.writer(csvfile)\n",
    "    print(grades_writer)\n",
    "\n",
    "    for row in rows:\n",
    "        grades_writer.writerow(row)\n",
    "        "
   ]
  },
  {
   "cell_type": "markdown",
   "metadata": {},
   "source": [
    "<a id='section5'></a>\n",
    "## 5. Modules\n",
    "### What is a Module?\n",
    "A module in Python is a file containing Python definitions and statements. A module can define functions, classes, and variables, and it can also include executable code. You can use a module in your code by importing it. Python comes with many built-in modules, such as the `math`, `random`, `csv`, and `turtle` modules that we have learned about thus far in the course.\n",
    "\n",
    "### Importing Modules\n",
    "To use a module in your code, you need to import it. The syntax for importing a module is:\n",
    "\n",
    "```python\n",
    "import module_name\n",
    "```\n",
    "For example, let's import the `math` module."
   ]
  },
  {
   "cell_type": "code",
   "execution_count": 2,
   "metadata": {},
   "outputs": [],
   "source": [
    "import math"
   ]
  },
  {
   "cell_type": "markdown",
   "metadata": {},
   "source": [
    "Once you have imported a module, you can use its functions and variables by prefixing them with the module name. For example, to use the `pi` constant from the `math` module, you would use:"
   ]
  },
  {
   "cell_type": "code",
   "execution_count": 3,
   "metadata": {},
   "outputs": [
    {
     "name": "stdout",
     "output_type": "stream",
     "text": [
      "3.141592653589793\n"
     ]
    }
   ],
   "source": [
    "print(math.pi)"
   ]
  },
  {
   "cell_type": "markdown",
   "metadata": {},
   "source": [
    "Or, we can use functions to calculate the sine of an angle."
   ]
  },
  {
   "cell_type": "code",
   "execution_count": 4,
   "metadata": {},
   "outputs": [
    {
     "name": "stdout",
     "output_type": "stream",
     "text": [
      "1.0\n"
     ]
    }
   ],
   "source": [
    "print(math.sin(math.radians(90)))"
   ]
  },
  {
   "cell_type": "markdown",
   "metadata": {},
   "source": [
    "#### from X import Y Syntax\n",
    "Sometimes, you might only want to import specific functions or variables from a module, rather than importing the entire module. In this case, you can use the `from X import Y` syntax. The syntax for using this syntax is:\n",
    "```python\n",
    "from module_name import variable_name\n",
    "from module_name import function_name\n",
    "from module_name import class_name\n",
    "```\n",
    "For example, to import only the `pi` constant from the `math` module, you would use:"
   ]
  },
  {
   "cell_type": "code",
   "execution_count": 5,
   "metadata": {},
   "outputs": [
    {
     "name": "stdout",
     "output_type": "stream",
     "text": [
      "3.141592653589793\n"
     ]
    }
   ],
   "source": [
    "from math import pi\n",
    "\n",
    "print(pi)"
   ]
  },
  {
   "cell_type": "markdown",
   "metadata": {},
   "source": [
    "This creates a variable named `pi` in the global space with the value `3.141592653589793` of type `float`."
   ]
  },
  {
   "cell_type": "code",
   "execution_count": 6,
   "metadata": {},
   "outputs": [
    {
     "data": {
      "text/plain": [
       "float"
      ]
     },
     "execution_count": 6,
     "metadata": {},
     "output_type": "execute_result"
    }
   ],
   "source": [
    "type(pi)"
   ]
  },
  {
   "cell_type": "markdown",
   "metadata": {},
   "source": [
    "You can also import multiple functions or variables from a module by separating them with commas, like this:"
   ]
  },
  {
   "cell_type": "code",
   "execution_count": 7,
   "metadata": {},
   "outputs": [
    {
     "name": "stdout",
     "output_type": "stream",
     "text": [
      "3.141592653589793\n",
      "2.0\n"
     ]
    }
   ],
   "source": [
    "from math import pi, sqrt\n",
    "\n",
    "print(pi)\n",
    "print(sqrt(4))"
   ]
  },
  {
   "cell_type": "markdown",
   "metadata": {},
   "source": [
    "In this case, there is now a function definition called `sqrt` in the global space that is callable.\n",
    "\n",
    "You'll notice that when you import functions, classes or variables in this way, we no longer need to access them using `math.`"
   ]
  },
  {
   "cell_type": "markdown",
   "metadata": {},
   "source": [
    "#### from X import * Syntax\n",
    "In Python, the from X import * syntax allows you to import all functions and variables from a module into your current namespace. This means that you can use the imported functions and variables without prefixing them with the module name (`math.`). For example, if you import all functions and variables from the math module, you could use `pi` directly, like this:"
   ]
  },
  {
   "cell_type": "code",
   "execution_count": null,
   "metadata": {},
   "outputs": [],
   "source": [
    "from math import *\n",
    "\n",
    "print(pi)"
   ]
  },
  {
   "cell_type": "markdown",
   "metadata": {},
   "source": [
    "However, using the from `X import * syntax` is generally not recommended for several reasons.\n",
    "\n",
    "1. It can make your code harder to read and understand. When you use the `from X import *` syntax, it’s not always clear where a function or variable is coming from. This can make it difficult to trace the source of bugs and errors in your code.\n",
    "\n",
    "2. It can lead to naming conflicts. If you import all functions and variables from two different modules that have the same name, you’ll end up with naming conflicts. For example, if you import all functions and variables from both the `math` module and the `statistics` module, you’ll end up with two functions named `fabs()`. This can cause confusion and errors in your code.\n",
    "\n",
    "3. It can make your code less efficient. When you use the `from X import *` syntax, Python has to load and compile all the functions and variables from the module, even if you’re only going to use a few of them. This can slow down the loading time of your program and use up more memory than necessary.\n",
    "\n",
    "In general, it’s better to be explicit about which functions and variables you’re importing from a module. This makes your code easier to read and understand, reduces the risk of naming conflicts, and can make your code more efficient. If you need to import a large number of functions and variables from a module, it’s better to import them explicitly, like this:"
   ]
  },
  {
   "cell_type": "code",
   "execution_count": null,
   "metadata": {},
   "outputs": [],
   "source": [
    "from math import pi, sin, cos, tan"
   ]
  },
  {
   "cell_type": "markdown",
   "metadata": {},
   "source": [
    "This way, you can be sure which functions and variables you’re using and avoid naming conflicts.\n",
    "\n",
    "#### import X as Syntax\n",
    "The default name given to modules in your code is the name of the module. For example, `math`, `random`, etc.\n",
    "\n",
    "However, you can override the default module name using the `as` keyword. This is useful if the name of a module conflicts with a variable you have declared in your code. It is also useful if you want to reference another module that shares the same name.\n",
    "\n",
    "Suppose we want to import the `turtle` module into your code but you already have a function called `turtle`."
   ]
  },
  {
   "cell_type": "code",
   "execution_count": 9,
   "metadata": {},
   "outputs": [
    {
     "name": "stdout",
     "output_type": "stream",
     "text": [
      "<module 'turtle' from '/Users/benkinsella/anaconda3/lib/python3.10/turtle.py'>\n"
     ]
    }
   ],
   "source": [
    "turtle = 'Stewart'\n",
    "\n",
    "import turtle\n",
    "\n",
    "print(turtle)"
   ]
  },
  {
   "cell_type": "markdown",
   "metadata": {},
   "source": [
    "Not I have overwritten the variable `turtle` with the module `tutle`. So avoid this error, I would use an alias when importing the `turtle` module. The syntax for importing a module is an alias is:\n",
    "\n",
    "```python\n",
    "import module_name as alias_name\n",
    "```"
   ]
  },
  {
   "cell_type": "code",
   "execution_count": 10,
   "metadata": {},
   "outputs": [
    {
     "name": "stdout",
     "output_type": "stream",
     "text": [
      "Stewart\n"
     ]
    }
   ],
   "source": [
    "turtle = 'Stewart'\n",
    "\n",
    "import turtle as t\n",
    "\n",
    "print(turtle)"
   ]
  },
  {
   "cell_type": "markdown",
   "metadata": {},
   "source": [
    "Now, when I want to use the turtle module, I can use the alias to access the functions, classes, and variables in the `turtle` module."
   ]
  },
  {
   "cell_type": "code",
   "execution_count": 11,
   "metadata": {},
   "outputs": [],
   "source": [
    "new_turtle = t.Turtle()  #running this may cause your Jupyter kernel to crash..."
   ]
  },
  {
   "cell_type": "markdown",
   "metadata": {},
   "source": [
    "### How to Create Your Own Module in Python\n",
    "Creating your own module is useful when the variables, functions, or classes you're creating in a `.py` file or `.ipynb` file are generic and likely to be used across many notebooks, projects, assignments, etc. For example, it would be silly to continually create `sine` functions in everythin notebook. This is why someone created the `math` module.\n",
    "\n",
    "A module in Python is simply a file with a `.py` extension that contains Python code. To create a module, you just need to write your code in a `.py` file and save it with an appropriate name. When you import a module in Python, the interpreter searches for the module in the following locations:\n",
    "\n",
    "- The current directory\n",
    "- The directories listed in the PYTHONPATH environment variable\n",
    "- The installation-dependent default directory\n",
    "\n",
    "To ensure Python is able to file our modules, we will be placing our `.py` files in the same folder as this `ipynb` file. \n",
    "\n",
    "```bash\n",
    "├── lectures\n",
    "│   ├── week1\n",
    "│   ├── week2\n",
    "│   ├── week3\n",
    "│   ├── week4\n",
    "│   ├── week5\n",
    "│   ├── week6\n",
    "│   ├── week7\n",
    "│   ├── week8\n",
    "│   ├── week9\n",
    "│   ├── week10\n",
    "│   ├── week11\n",
    "│   |   ├── lecture1\n",
    "│   |   ├── lecture2\n",
    "│   |   |   ├── notebooks\n",
    "│   |   |   |   ├── week11_lecture1.ipynb\n",
    "│   |   |   |   ├── geometry_calculations.py\n",
    "│   |   |   ├── slides\n",
    "│   |   ├── lecture3\n",
    "│   ├── week12\n",
    "│   ├── week13\n",
    "```\n",
    "In you're using `JupyterHub`, you can see that `geometry_calculations.py` is placed in the same folder as `week11_lecture1.ipynb`. If you're downloading these files from Quercus, please place them in the same folder.\n",
    "\n",
    "Here is the code we have in `geometry_calculations.py`>\n",
    "\n",
    "```python\n",
    "import math\n",
    "\n",
    "\n",
    "def rectangle_area(length, width):\n",
    "    \"\"\"\n",
    "    (number, number) -> number\n",
    "    Calculate the area of a rectangle.\n",
    "    \"\"\"\n",
    "    return length * width\n",
    "\n",
    "\n",
    "def circle_area(radius):\n",
    "    \"\"\"\n",
    "    (number) -> number\n",
    "    Calculate the area of a circle.\n",
    "    \"\"\"\n",
    "    return math.pi * radius**2\n",
    "\n",
    "\n",
    "def cylinder_volume(radius, height):\n",
    "    \"\"\"\n",
    "    (number, number) -> number\n",
    "    Calculate the volume of a cylinder.\n",
    "    \"\"\"\n",
    "    return math.pi * radius**2 * height\n",
    "\n",
    "\n",
    "def rectangular_prism_volume(length, width, height):\n",
    "    \"\"\"\n",
    "    (number, numner, number) -> number\n",
    "    Calculate the volume of a rectangular prism (3D rectangle).\n",
    "    \"\"\"\n",
    "    return length * width * height\n",
    "\n",
    "\n",
    "def cylinder_surface_area(radius, height):\n",
    "    \"\"\"\n",
    "    (number, number) -> number\n",
    "    Calculate the surface area of a cylinder.\n",
    "    \"\"\"\n",
    "    return 2 * math.pi * radius * (radius + height)\n",
    "\n",
    "\n",
    "def rectangular_prism_surface_area(length, width, height):\n",
    "    \"\"\"\n",
    "    (number, number, number) -> number\n",
    "    Calculate the surface area of a rectangular prism (3D rectangle).\n",
    "    \"\"\"\n",
    "    return 2 * (length*width + length*height + width*height)\n",
    "```\n",
    "\n",
    "We have six functions and we have also imported the math module to access the `pi` constant.\n",
    "\n",
    "Now, you can use this module in your other Python programs by importing it. We can import the circle and use its functionality:"
   ]
  },
  {
   "cell_type": "code",
   "execution_count": 1,
   "metadata": {},
   "outputs": [
    {
     "name": "stdout",
     "output_type": "stream",
     "text": [
      "The area of a circle with radius 5 is 78.53981633974483.\n"
     ]
    }
   ],
   "source": [
    "import geometry_calculations\n",
    "\n",
    "radius = 5\n",
    "area = geometry_calculations.circle_area(radius)\n",
    "\n",
    "print('The area of a circle with radius ', radius, ' is ', area, '.', sep='')"
   ]
  },
  {
   "cell_type": "markdown",
   "metadata": {},
   "source": [
    "You can see all the functions in `geometry_calculations.py` by clicking TAB below."
   ]
  },
  {
   "cell_type": "code",
   "execution_count": null,
   "metadata": {},
   "outputs": [],
   "source": [
    "geometry_calculations.  #<--- place your cursor after the . and press TAB."
   ]
  },
  {
   "cell_type": "markdown",
   "metadata": {},
   "source": [
    "Interestingly, because we imported the `math` module in `geometry_calculations.py`, we can access is as follows:"
   ]
  },
  {
   "cell_type": "code",
   "execution_count": null,
   "metadata": {},
   "outputs": [],
   "source": [
    "geometry_calculations.math.pi"
   ]
  },
  {
   "cell_type": "markdown",
   "metadata": {},
   "source": [
    "<a id='section6'></a>\n",
    "## 6. Challenge: Build Your Own Module\n",
    "Create a module called `basic_math`, with the following functions:\n",
    "\n",
    "### Add: 1 + 2 = 3\n",
    "```python\n",
    ">>> print(add(1, 2))\n",
    "3\n",
    "```\n",
    "\n",
    "### Subtract: 5 - 1 = 4\n",
    "```python\n",
    ">>> print(subtract(5, 1))\n",
    "4\n",
    "```\n",
    "\n",
    "### Multiply: 2 * 3 = 6\n",
    "```python\n",
    ">>> print(multiply(2, 3))\n",
    "6\n",
    "```\n",
    "\n",
    "### Divide: 6 / 12 = 0.5\n",
    "```python\n",
    ">>> print(divide(6, 12))\n",
    "0.5\n",
    "```\n",
    "This function should return the following error if the user tries to divide by 0.\n",
    "```python\n",
    ">>> print(divide(6, 0))\n",
    "Error. You cannot divide by zero.\n",
    "```\n",
    "Import your module."
   ]
  },
  {
   "cell_type": "code",
   "execution_count": null,
   "metadata": {},
   "outputs": [],
   "source": [
    "import basic_math"
   ]
  },
  {
   "cell_type": "code",
   "execution_count": null,
   "metadata": {},
   "outputs": [],
   "source": [
    "print(basic_math.add(1, 2))"
   ]
  },
  {
   "cell_type": "code",
   "execution_count": null,
   "metadata": {},
   "outputs": [],
   "source": [
    "print(basic_math.subtract(5, 1))"
   ]
  },
  {
   "cell_type": "code",
   "execution_count": null,
   "metadata": {},
   "outputs": [],
   "source": [
    "print(basic_math.multiply(2, 3))"
   ]
  },
  {
   "cell_type": "code",
   "execution_count": null,
   "metadata": {},
   "outputs": [],
   "source": [
    "print(basic_math.divide(6, 12))"
   ]
  },
  {
   "cell_type": "code",
   "execution_count": null,
   "metadata": {},
   "outputs": [],
   "source": [
    "print(basic_math.divide(6, 0))"
   ]
  }
 ],
 "metadata": {
  "kernelspec": {
   "display_name": "Python 3 (ipykernel)",
   "language": "python",
   "name": "python3"
  },
  "language_info": {
   "codemirror_mode": {
    "name": "ipython",
    "version": 3
   },
   "file_extension": ".py",
   "mimetype": "text/x-python",
   "name": "python",
   "nbconvert_exporter": "python",
   "pygments_lexer": "ipython3",
   "version": "3.10.9"
  }
 },
 "nbformat": 4,
 "nbformat_minor": 4
}
