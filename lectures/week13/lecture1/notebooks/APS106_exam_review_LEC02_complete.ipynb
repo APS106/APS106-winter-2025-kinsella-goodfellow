{
 "cells": [
  {
   "cell_type": "markdown",
   "id": "intro",
   "metadata": {
    "id": "intro"
   },
   "source": [
    "# **APS106: Fundamentals of Computer Programming**\n",
    "\n",
    "# Exam Review Session\n",
    "\n",
    "Welcome to the exam review session! In this interactive notebook, you'll work through a series of breakout sessions designed to practice the key topics covered in the course. Each session challenges you with a creative problem—ranging from file I/O and nested loops to classes and string manipulation.\n",
    "\n",
    "Let's dive in and have some fun coding!"
   ]
  },
  {
   "cell_type": "markdown",
   "id": "breakout1",
   "metadata": {
    "id": "breakout1"
   },
   "source": [
    "## Breakout Session 1: Pattern Printing - Part 1\n",
    "\n",
    "**Task:** Write a function that takes a single integer `max_num` (e.g., `9`) and prints a pattern where odd numbers from 1 up to `max_num` are joined by exclamation marks (!).\n",
    "\n",
    "Basically, `print_pattern(9)` should print `1!3!5!7!9!`\n",
    "\n",
    "Fill in the code below."
   ]
  },
  {
   "cell_type": "code",
   "execution_count": null,
   "id": "pattern_printing",
   "metadata": {
    "colab": {
     "base_uri": "https://localhost:8080/"
    },
    "id": "pattern_printing",
    "outputId": "8c33554c-852d-46f7-8e0b-5bb799ab970c"
   },
   "outputs": [],
   "source": [
    "def print_pattern(max_num):\n",
    "    '''\n",
    "    (int) -> None\n",
    "    Prints numbers from 1 to max_num with a '!' after each odd number.\n",
    "    '''\n",
    "    ##################### Start coding here #####################\n",
    "    result = \"\"\n",
    "    for num in range(1, max_num + 1, 2):\n",
    "        result += str(num) + \"!\"\n",
    "    print(result)\n",
    "    #############################################################\n",
    "\n",
    "# Test the function\n",
    "print_pattern(9)"
   ]
  },
  {
   "cell_type": "markdown",
   "id": "5-PTvM7lyyam",
   "metadata": {
    "id": "5-PTvM7lyyam"
   },
   "source": [
    "## Breakout Session 1: Pattern Printing - Part 2\n",
    "\n",
    "**Task:** Write another function that takes one argument, `level`, and prints a centered pyramid made of `$` symbols. Each level of the pyramid should have an increasing number of $ signs, and the pyramid should be properly aligned with spaces to maintain its shape.\n",
    "\n",
    "`create_pyramid(5)` should print:\n",
    "```\n",
    "    $\n",
    "   $$$\n",
    "  $$$$$\n",
    " $$$$$$$\n",
    "$$$$$$$$$\n",
    "```\n",
    "Fill in the code below."
   ]
  },
  {
   "cell_type": "code",
   "execution_count": null,
   "id": "iWxH8vW0vTbz",
   "metadata": {
    "colab": {
     "base_uri": "https://localhost:8080/"
    },
    "id": "iWxH8vW0vTbz",
    "outputId": "e999b283-f07f-491c-8443-3054756de085"
   },
   "outputs": [],
   "source": [
    "def create_pyramid(level):\n",
    "    ##################### Start coding here #####################\n",
    "    n_spaces = range(level-1, -1, -1) #4, 3, 2, 1, 0\n",
    "    n_hash = range(1, level*2, 2)\n",
    "    for i in range(level):\n",
    "        print(n_spaces[i]*\" \" + n_hash[i]*\"$\")\n",
    "    #############################################################\n",
    "\n",
    "# Example usage:\n",
    "create_pyramid(5)"
   ]
  },
  {
   "cell_type": "markdown",
   "id": "breakout2",
   "metadata": {
    "id": "breakout2"
   },
   "source": [
    "## Breakout Session 2: CSV Tool Challenge - Part 1 (Save Data)\n",
    "\n",
    "**Task:** Write a function that accepts new data (a list of lists) and saves it to a new CSV file.\n",
    "\n",
    "Fill in the code below."
   ]
  },
  {
   "cell_type": "code",
   "execution_count": null,
   "id": "csv_save",
   "metadata": {
    "colab": {
     "base_uri": "https://localhost:8080/"
    },
    "id": "csv_save",
    "outputId": "7984dae5-4b14-40bc-e2b1-1667c187d09c"
   },
   "outputs": [],
   "source": [
    "import csv\n",
    "\n",
    "def save_csv(data):\n",
    "    '''\n",
    "    (list of lists, str) -> None\n",
    "    Saves the provided data into a CSV file with the given filename.\n",
    "    '''\n",
    "    ##################### Start coding here #####################\n",
    "    with open('new_data.csv', 'w') as f:\n",
    "        writer = csv.writer(f)\n",
    "        for row in data:\n",
    "            writer.writerow(row)\n",
    "    #print(f\"CSV file '{'new_data.csv'}' has been saved.\")\n",
    "    #############################################################\n",
    "\n",
    "# Example usage\n",
    "data = [[\"Name\", \"Age\"], [\"Seb\", 40], [\"Sina\", 27]]\n",
    "save_csv(data)"
   ]
  },
  {
   "cell_type": "code",
   "execution_count": null,
   "id": "H2B-qZZwfFTP",
   "metadata": {
    "colab": {
     "base_uri": "https://localhost:8080/"
    },
    "id": "H2B-qZZwfFTP",
    "outputId": "786f83e4-397b-4d2e-b806-8d1983e474f5"
   },
   "outputs": [],
   "source": [
    "# Test out your function by reading the saved CSV file:\n",
    "with open('new_data.csv', 'r') as f:\n",
    "    reader = csv.reader(f)\n",
    "    for row in reader:\n",
    "        print(row)"
   ]
  },
  {
   "cell_type": "markdown",
   "id": "breakout3",
   "metadata": {
    "id": "breakout3"
   },
   "source": [
    "## Breakout Session 3: CSV Tool Challenge - Part 2 (Update File)\n",
    "\n",
    "**Task:** Now extend the previous CSV tool by adding an update feature.\n",
    "\n",
    "Write a new function that accepts an existing CSV file name and new data as input, opens the existing CSV file and appends the new data.\n",
    "\n",
    "Fill in the code below."
   ]
  },
  {
   "cell_type": "code",
   "execution_count": null,
   "id": "csv_update",
   "metadata": {
    "colab": {
     "base_uri": "https://localhost:8080/"
    },
    "id": "csv_update",
    "outputId": "53c79be4-72d7-4f92-c092-845d5e5aed9d"
   },
   "outputs": [],
   "source": [
    "def update_csv(new_data, filename='new_data.csv'):\n",
    "    '''\n",
    "    (list of lists, str) -> None\n",
    "    Updates the CSV file by appending new data rows.\n",
    "    '''\n",
    "    ##################### Start coding here #####################\n",
    "    with open(filename, 'a') as f:\n",
    "        writer = csv.writer(f)\n",
    "        for row in new_data:\n",
    "            writer.writerow(row)  # Append new rows\n",
    "    #print(f\"CSV file '{filename}' has been updated with new data.\")\n",
    "    #############################################################\n",
    "\n",
    "# Example usage\n",
    "additional_data = [[\"Charlie\", 18], [\"Dana\", 35], [\"Joe\", 55]]\n",
    "update_csv(additional_data, 'new_data.csv')"
   ]
  },
  {
   "cell_type": "code",
   "execution_count": null,
   "id": "vTybr5v6gA01",
   "metadata": {
    "colab": {
     "base_uri": "https://localhost:8080/"
    },
    "id": "vTybr5v6gA01",
    "outputId": "455cc08b-bc62-4795-9ab5-7cbe91e17696"
   },
   "outputs": [],
   "source": [
    "# Test out your function by reading the saved CSV file:\n",
    "with open('new_data.csv', 'r') as f:\n",
    "    lines = f.readlines()\n",
    "    for line in lines:\n",
    "        row = line.strip().split(',')\n",
    "        print(row)"
   ]
  },
  {
   "cell_type": "markdown",
   "id": "breakout4",
   "metadata": {
    "id": "breakout4"
   },
   "source": [
    "## Breakout Session 4: Negative Image Transformation\n",
    "\n",
    "**Task:** Write a function that takes a 2D list representing a grayscale image and creates its negative.\n",
    "\n",
    "In a grayscale image, each pixel's value ranges from 0 (black) to 255 (white). To create a negative image, subtract each pixel value from 255.\n",
    "\n",
    "For example, if a pixel value is 100, its negative will be 255 - 100 = 155.\n",
    "\n",
    "Fill in the code below."
   ]
  },
  {
   "cell_type": "code",
   "execution_count": null,
   "id": "Jg99KN2X8wb_",
   "metadata": {
    "id": "Jg99KN2X8wb_"
   },
   "outputs": [],
   "source": [
    "def invert_grayscale_image(image):\n",
    "    \"\"\"\n",
    "    (list of lists, str) -> None\n",
    "    Inverts a black-and-white image (2D list of pixel values 0-255).\n",
    "    Returns the negative image.\n",
    "    \"\"\"\n",
    "    ##################### Start coding here #####################\n",
    "    inverted = []\n",
    "    for row in image:\n",
    "        inverted_row = []\n",
    "        for pixel in row:\n",
    "            inverted_pixel = 255 - pixel\n",
    "            inverted_row.append(inverted_pixel)\n",
    "        inverted.append(inverted_row)\n",
    "    return inverted\n",
    "    #############################################################"
   ]
  },
  {
   "cell_type": "code",
   "execution_count": null,
   "id": "U8kjzQEBjC3x",
   "metadata": {
    "colab": {
     "base_uri": "https://localhost:8080/"
    },
    "id": "U8kjzQEBjC3x",
    "outputId": "96173542-6165-434a-e12f-c19a70329def"
   },
   "outputs": [],
   "source": [
    "# Example usage:\n",
    "original = [\n",
    "    [0, 255, 0, 255, 0],\n",
    "    [255, 127, 255, 127, 255],\n",
    "    [0, 255, 127, 255, 0],\n",
    "    [255, 127, 255, 127, 255],\n",
    "    [0, 255, 0, 255, 0],\n",
    "]\n",
    "\n",
    "inverted = invert_grayscale_image(original)\n",
    "inverted"
   ]
  },
  {
   "cell_type": "code",
   "execution_count": null,
   "id": "zyblnxF5jSUm",
   "metadata": {
    "colab": {
     "base_uri": "https://localhost:8080/",
     "height": 420
    },
    "id": "zyblnxF5jSUm",
    "outputId": "a5a5f01c-0d94-4024-c8e8-bff49c0dd1c8"
   },
   "outputs": [],
   "source": [
    "# Just for fun! (You don't need to understand this visualization code)\n",
    "# This part creates a side-by-side comparison of the original and inverted images\n",
    "\n",
    "import matplotlib.pyplot as plt\n",
    "import numpy as np\n",
    "\n",
    "# Convert to NumPy arrays for plotting (simple usage)\n",
    "original_array = np.array(original, dtype=np.uint8)\n",
    "inverted_array = np.array(inverted, dtype=np.uint8)\n",
    "\n",
    "# Plot side by side\n",
    "plt.figure(figsize=(8, 4))\n",
    "\n",
    "# Original image\n",
    "plt.subplot(1, 2, 1)\n",
    "plt.imshow(original_array, cmap='gray')\n",
    "plt.title(\"Original Image\")\n",
    "plt.axis('off')\n",
    "\n",
    "# Inverted image\n",
    "plt.subplot(1, 2, 2)\n",
    "plt.imshow(inverted_array, cmap='gray')\n",
    "plt.title(\"Negative Image\")\n",
    "plt.axis('off')\n",
    "\n",
    "plt.tight_layout()\n",
    "plt.show()"
   ]
  },
  {
   "cell_type": "markdown",
   "id": "breakout5",
   "metadata": {
    "id": "breakout5"
   },
   "source": [
    "## Breakout Session 5: Inventory Dictionary\n",
    "\n",
    "**Task:** Write a function that adds new items to an inventory dictionary. The dictionary's keys are item names and the values are their quantities.\n",
    "\n",
    "For example, if the current inventory is `{'apple': 5, 'banana': 3}` and you add `apple` (2 more) and `orange` (4), the updated inventory should reflect the changes.\n",
    "\n",
    "Fill in the function below."
   ]
  },
  {
   "cell_type": "code",
   "execution_count": null,
   "id": "inventory_dict",
   "metadata": {
    "id": "inventory_dict"
   },
   "outputs": [],
   "source": [
    "def update_inventory(inventory, item, quantity):\n",
    "    '''\n",
    "    (dict, str, int) -> dict\n",
    "    Updates the inventory by adding the quantity to the item. If the item does not exist, add it.\n",
    "    '''\n",
    "    ##################### Start coding here #####################\n",
    "    if item in inventory:\n",
    "        inventory[item] += quantity\n",
    "    else:\n",
    "        inventory[item] = quantity\n",
    "    return inventory\n",
    "    #############################################################"
   ]
  },
  {
   "cell_type": "code",
   "execution_count": null,
   "id": "k-sHAXEI_LXv",
   "metadata": {
    "colab": {
     "base_uri": "https://localhost:8080/"
    },
    "id": "k-sHAXEI_LXv",
    "outputId": "269c42a7-9371-4267-df9c-77803eb2d742"
   },
   "outputs": [],
   "source": [
    "# Test the function\n",
    "inventory = {'apple': 5, 'banana': 3}\n",
    "inventory = update_inventory(inventory, 'apple', 2)\n",
    "inventory = update_inventory(inventory, 'orange', 4)\n",
    "print(inventory)"
   ]
  },
  {
   "cell_type": "markdown",
   "id": "breakout6",
   "metadata": {
    "id": "breakout6"
   },
   "source": [
    "## Breakout Session 6: Soccer Players Class\n",
    "\n",
    "**Task:** Create a Python class named `SoccerPlayer` with attributes such as name, height, age, weight, and role. Implement methods: `dribble`, `pass_ball`, `shoot`, and `score`.\n",
    "\n",
    "Now, instead of just printing a simple message, simulate a dramatic game moment. For example, have the player dribble through defenders and score a winning goal. Your methods can print multi-step narratives that describe the action.\n",
    "\n",
    "Fill in the code below."
   ]
  },
  {
   "cell_type": "code",
   "execution_count": null,
   "id": "soccer_class",
   "metadata": {
    "id": "soccer_class"
   },
   "outputs": [],
   "source": [
    "##################### Start coding here #####################\n",
    "class SoccerPlayer:\n",
    "    def __init__(self, name, height, age, weight, role):\n",
    "        self.name = name\n",
    "        self.height = height\n",
    "        self.age = age\n",
    "        self.weight = weight\n",
    "        self.role = role\n",
    "\n",
    "    def __str__(self):\n",
    "        return f\"Name: {self.name}, Height: {self.height}, Age: {self.age}, Weight: {self.weight}, Role: {self.role}\"\n",
    "\n",
    "    def dribble(self):\n",
    "        print(f\"{self.name} is dribbling past defenders...\")\n",
    "\n",
    "    def pass_ball(self):\n",
    "        print(f\"{self.name} makes a precise pass!\")\n",
    "\n",
    "    def shoot(self):\n",
    "        print(f\"{self.name} takes a powerful shot at goal!\")\n",
    "\n",
    "    def score(self):\n",
    "        print(f\"Goal! {self.name} scores the winning goal after an amazing solo run!\")\n",
    "        ######################################################################"
   ]
  },
  {
   "cell_type": "code",
   "execution_count": null,
   "id": "01-r6hCy_eU6",
   "metadata": {
    "colab": {
     "base_uri": "https://localhost:8080/"
    },
    "id": "01-r6hCy_eU6",
    "outputId": "f12ca5ed-0318-42be-eefc-be34142d3d90"
   },
   "outputs": [],
   "source": [
    "# Test the class with an example scenario\n",
    "player = SoccerPlayer('Lionel Messi', 170, 34, 72, 'Forward')\n",
    "print(player, end='\\n\\n')\n",
    "player.dribble()\n",
    "player.pass_ball()\n",
    "player.shoot()\n",
    "player.score()"
   ]
  },
  {
   "cell_type": "markdown",
   "id": "breakout7",
   "metadata": {
    "id": "breakout7"
   },
   "source": [
    "## Breakout Session 7: Monte Carlo π estimation problem\n",
    "\n",
    "**Task:** Write a function `estimate_pi(num_samples)` that approximates π by (1) Randomly throwing \"darts\" (points) at a 1×1 square, and (2) Counting how many land inside the quarter-circle of radius 1 using the following ratio to estimate π:\n",
    "\n",
    "$$\n",
    "\\pi \\approx 4 \\times \\frac{\\text{Points inside circle}}{\\text{Total points}}\n",
    "$$\n",
    "\n",
    "You can see this in action [here](https://upload.wikimedia.org/wikipedia/commons/8/84/Pi_30K.gif).\n",
    "\n",
    "Fill in the code below."
   ]
  },
  {
   "cell_type": "code",
   "execution_count": null,
   "id": "4gbn5xEAGrUS",
   "metadata": {
    "id": "4gbn5xEAGrUS"
   },
   "outputs": [],
   "source": [
    "import random\n",
    "\n",
    "def estimate_pi(num):\n",
    "    ##################### Start coding here #####################\n",
    "    count = 0\n",
    "    for _ in range(num):\n",
    "        x, y = random.random(), random.random()\n",
    "        if x**2 + y**2 <= 1:\n",
    "            count += 1\n",
    "    return 4*count/num\n",
    "    ############################################################"
   ]
  },
  {
   "cell_type": "code",
   "execution_count": null,
   "id": "vJ6Vk-M6Hzb4",
   "metadata": {
    "colab": {
     "base_uri": "https://localhost:8080/"
    },
    "id": "vJ6Vk-M6Hzb4",
    "outputId": "11f47189-30e2-4ef6-895a-7ee4dda80817"
   },
   "outputs": [],
   "source": [
    "estimate_pi(100000)"
   ]
  },
  {
   "cell_type": "markdown",
   "id": "breakout8",
   "metadata": {
    "id": "breakout8"
   },
   "source": [
    "## Breakout Session 8: Tic-Tac-Toe Game\n",
    "\n",
    "We are creating a simple Tic-Tac-Toe game. The class `TicTacToe` below (1) initializes a 3x3 board (using a 2D list), (2) allows two players to place their marks (e.g., 'X' and 'O'), and (3) checks for a winner after each move.\n",
    "\n",
    "**Task:** Fill in the code for `check_winner` method below."
   ]
  },
  {
   "cell_type": "code",
   "execution_count": null,
   "id": "tic_tac_toe",
   "metadata": {
    "id": "tic_tac_toe"
   },
   "outputs": [],
   "source": [
    "class TicTacToe:\n",
    "    def __init__(self):\n",
    "        # Initialize a 3x3 board with empty spaces\n",
    "        self.board = [[' ' for _ in range(3)] for _ in range(3)]\n",
    "        self.current_player = 'X'\n",
    "\n",
    "    def display_board(self):\n",
    "        for row in self.board:\n",
    "            print('|'.join(row))\n",
    "            print('-'*5)\n",
    "\n",
    "    def make_move(self, row, col):\n",
    "        '''\n",
    "        Place the current player's mark on the board at the given row and col if the cell is empty.\n",
    "        '''\n",
    "        if self.board[row][col] == ' ':\n",
    "            self.board[row][col] = self.current_player\n",
    "            if self.check_winner(self.current_player):\n",
    "                print(f\"\\nPlayer {self.current_player} wins!\")\n",
    "            else:\n",
    "                self.current_player = 'O' if self.current_player == 'X' else 'X'\n",
    "        else:\n",
    "            print(\"Cell already taken. Try again.\")\n",
    "\n",
    "\n",
    "    def check_winner(self, player):\n",
    "        \"\"\"\n",
    "        player (str) => True/False (bool)\n",
    "        Check if the specified player has won the game by having 3 marks in a row,\n",
    "        column, or diagonal.\n",
    "\n",
    "        Example:\n",
    "            For player 'X' and board:\n",
    "            [['X', ' ', ' '],\n",
    "            ['X', 'O', ' '],\n",
    "            ['X', ' ', 'O']]\n",
    "            Returns True because of first column.\n",
    "        \"\"\"\n",
    "        # Check rows, columns, and diagonals\n",
    "        board = self.board\n",
    "\n",
    "        ##################### Start coding here #####################\n",
    "        # Check rows and columns\n",
    "        for i in range(3):\n",
    "            if (board[i][0] == board[i][1] == board[i][2] == player) or \\\n",
    "             (board[0][i] == board[1][i] == board[2][i] == player):\n",
    "                return True\n",
    "        if board[0][0] == board[1][1] == board[2][2] == player:\n",
    "            return True\n",
    "        if board[0][2] == board[1][1] == board[2][0] == player:\n",
    "            return True\n",
    "        return False\n",
    "        ##############################################################"
   ]
  },
  {
   "cell_type": "code",
   "execution_count": null,
   "id": "Eaoi6NAkRTUS",
   "metadata": {
    "colab": {
     "base_uri": "https://localhost:8080/"
    },
    "id": "Eaoi6NAkRTUS",
    "outputId": "c707a704-4245-4de1-fe1e-f0ab73fe4239"
   },
   "outputs": [],
   "source": [
    "# Example usage\n",
    "game = TicTacToe()\n",
    "game.display_board()\n",
    "\n",
    "# Simulate a few moves (in a real scenario, you would loop and ask for user input)\n",
    "game.make_move(0, 0)  # X\n",
    "game.make_move(1, 1)  # O\n",
    "game.make_move(0, 1)  # X\n",
    "game.make_move(2, 2)  # O\n",
    "game.make_move(0, 2)  # X - this should complete the top row and win the game\n",
    "game.display_board()"
   ]
  },
  {
   "cell_type": "code",
   "execution_count": null,
   "id": "gUtNalBbKyqg",
   "metadata": {
    "colab": {
     "base_uri": "https://localhost:8080/"
    },
    "id": "gUtNalBbKyqg",
    "outputId": "1486ff33-0792-4224-d77c-738cb30c97da"
   },
   "outputs": [],
   "source": [
    "# Let's play once more\n",
    "game = TicTacToe()\n",
    "game.make_move(0, 2)  # X\n",
    "game.make_move(0, 0)  # O\n",
    "game.make_move(2, 0)  # X\n",
    "game.make_move(1, 1)  # O\n",
    "game.make_move(1, 2)  # X\n",
    "game.make_move(2, 2)  # O\n",
    "game.display_board()"
   ]
  },
  {
   "cell_type": "markdown",
   "id": "conclusion",
   "metadata": {
    "id": "conclusion"
   },
   "source": [
    "## Wrap-up\n",
    "\n",
    "Great job working through these breakout sessions! Review your solutions, ask questions, and feel free to experiment with the code further. These exercises cover file I/O, loops (including nested loops), functions (including nested functions), dictionaries, classes, and module design – all essential topics for your exam and future projects.\n",
    "\n",
    "Happy coding and good luck on your exam!"
   ]
  },
  {
   "cell_type": "code",
   "execution_count": null,
   "id": "8dc86954",
   "metadata": {},
   "outputs": [],
   "source": [
    "def moving_avg(data, k):\n",
    "    '''\n",
    "    (list of num, int) -> list of num\n",
    "\n",
    "    Returns the moving average of the data using a\n",
    "    window of length k.\n",
    " \n",
    "    If k is larger than the length of data, an empty list is\n",
    "    returned.\n",
    "    '''\n",
    "    if k > len(data):\n",
    "        return []\n",
    "    \n",
    "    moving_sum = sum(data[:k])\n",
    "    moving_avg = [moving_sum / k]\n",
    "    \n",
    "    for i in range(k,len(data)):\n",
    "        moving_sum += (data[i] - data[i-k])\n",
    "        moving_avg.append(moving_sum / k)\n",
    "        \n",
    "    return moving_avg\n"
   ]
  },
  {
   "cell_type": "code",
   "execution_count": null,
   "id": "d8a8e9f8",
   "metadata": {},
   "outputs": [],
   "source": [
    "moving_avg([1,2,3,4,5],2)"
   ]
  },
  {
   "cell_type": "code",
   "execution_count": null,
   "id": "aba56795",
   "metadata": {},
   "outputs": [],
   "source": [
    "def num_level_crossings(data, n):\n",
    "    '''\n",
    "    (list of num, num) -> int\n",
    "    Returns the number of times the function represented by\n",
    "    data crosses n. \n",
    "\n",
    "    The data is above the level when it is greater than or\n",
    "    equal to n.\n",
    "    The data is below the level when it is less than n.\n",
    "    '''\n",
    "\n",
    "    level_crossings = 0\n",
    "    \n",
    "    above_before = data[0] >= n\n",
    "    for i in range(1,len(data)):\n",
    "        above_now = data[i] >= n\n",
    "        level_crossings += (above_now != above_before)\n",
    "        above_before = above_now\n",
    "        \n",
    "    return level_crossings"
   ]
  },
  {
   "cell_type": "code",
   "execution_count": null,
   "id": "b6869714",
   "metadata": {},
   "outputs": [],
   "source": [
    "class Game:\n",
    "    '''\n",
    "    Stores and represents data for a Video Game\n",
    "    Attributes:\n",
    "    title (string), platform (string),\n",
    "    release year (int), and rating (int)\n",
    "    '''\n",
    "    def __init__(self, title='', platform='', year=0, rating=-1):\n",
    "        self.title = title\n",
    "        self.platform = platform\n",
    "        self.year = year\n",
    "        self.rating = rating\n",
    "        \n",
    "    def __str__(self):\n",
    "        return ('Title: ' + str(self.title)\n",
    "            + '\\nPlatform: ' + str(self.platform)\n",
    "            + '\\nRelease Year: ' + str(self.year)\n",
    "            + '\\nRating: ' + str(self.rating))"
   ]
  },
  {
   "cell_type": "code",
   "execution_count": null,
   "id": "27e716ae",
   "metadata": {},
   "outputs": [],
   "source": [
    "class Game_Library:\n",
    "    '''\n",
    "    Stores and represents data for a Video Game Library.\n",
    "    '''\n",
    "    def __init__(self, list_of_games=[]):\n",
    "        '''\n",
    "        (Game_Library, list of Games) -> None\n",
    "        Initializer method for class Game_Library.\n",
    "        '''\n",
    "        self.list_of_games = list_of_games\n",
    "        self.size = len(list_of_games)\n",
    "\n",
    "    def add_game(self, game):\n",
    "        '''\n",
    "        (Game_Library, Game) -> None\n",
    "        Adds game to the end of list_of_games.\n",
    "        '''\n",
    "        self.list_of_games.append(game)\n",
    "        self.size = len(self.list_of_games)\n",
    "        \n",
    "    def read_games(csv_name):\n",
    "        '''\n",
    "        (str) -> Game_Library\n",
    "        csv_name is a filename for a csv in the current folder.\n",
    "        Read csv file and return a Game_Library with a Game object for each row in the csv.\n",
    "        '''\n",
    "        import csv\n",
    "        myfile = open(csv_name,'r')\n",
    "        csvfile = csv.reader(myfile)\n",
    "        game_list = []\n",
    "        for line in csvfile:\n",
    "            game_list.append(Game(line[0], line[1], int(line[2]), int(line[3])))\n",
    "        \n",
    "        myfile.close()\n",
    "        return Game_Library(game_list)\n",
    "    "
   ]
  },
  {
   "cell_type": "code",
   "execution_count": null,
   "id": "8a5156e8",
   "metadata": {},
   "outputs": [],
   "source": [
    "def scramble_items(item_list):\n",
    "    \"\"\"\n",
    "    Scrambles characters in each item of the input list based on character indices.\n",
    "\n",
    "    Each item in the input list is converted to a string (if not already a string),\n",
    "    and its characters are rearranged such that:\n",
    "    - Characters at **odd indices** appear **first**\n",
    "    - Characters at **even indices** appear **afterwards**\n",
    "\n",
    "    This scrambling is applied to each item in the list individually.\n",
    "\n",
    "    Parameters:\n",
    "    -----------\n",
    "    item_list : list\n",
    "        A list containing elements of type str, int, float, or a mix of all.\n",
    "        Each element will be processed as a string.\n",
    "\n",
    "    Returns:\n",
    "    --------\n",
    "    list\n",
    "        A list of scrambled strings, where each string has characters re-ordered\n",
    "        with odd-index characters first followed by even-index characters.\n",
    "\n",
    "    Example:\n",
    "    --------\n",
    "    >>> scramble_items(['Engineers!'])\n",
    "    ['nier!Egnes']\n",
    "\n",
    "    >>> scramble_items(['Elon Tusk', 420, 'Mars Rd.', 343521])\n",
    "    ['l nTsEo uk', '240', 'asR Mr.d ', '451332']\n",
    "    \"\"\"\n",
    "    scrambled = []\n",
    "\n",
    "    # Iterate over each item in the input list\n",
    "    for item in item_list:\n",
    "        s = str(item)  # Ensure the item is treated as a string\n",
    "        odd_index_chars = ''   # To store characters at odd indices\n",
    "        even_index_chars = ''  # To store characters at even indices\n",
    "\n",
    "        # Iterate through characters by index\n",
    "        for i in range(len(s)):\n",
    "            if i % 2 == 1:\n",
    "                odd_index_chars += s[i]  # Odd index → goes to front\n",
    "            else:\n",
    "                even_index_chars += s[i]  # Even index → goes to back\n",
    "\n",
    "        # Concatenate odd-index characters first, then even-index\n",
    "        scrambled.append(odd_index_chars + even_index_chars)\n",
    "\n",
    "    return scrambled"
   ]
  }
 ],
 "metadata": {
  "colab": {
   "provenance": []
  },
  "kernelspec": {
   "display_name": "Python 3 (ipykernel)",
   "language": "python",
   "name": "python3"
  },
  "language_info": {
   "codemirror_mode": {
    "name": "ipython",
    "version": 3
   },
   "file_extension": ".py",
   "mimetype": "text/x-python",
   "name": "python",
   "nbconvert_exporter": "python",
   "pygments_lexer": "ipython3",
   "version": "3.10.9"
  }
 },
 "nbformat": 4,
 "nbformat_minor": 5
}
