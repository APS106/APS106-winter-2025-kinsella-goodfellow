{
 "cells": [
  {
   "cell_type": "markdown",
   "id": "1f8e7417",
   "metadata": {},
   "source": [
    "# APS106 Design Problem - Stocks revisted with pandas\n",
    "\n",
    "Last week, we looked at analyzing financial stock data with objects. Today, we're going to revisit stock data and computing returns on investment (ROI), but instead of creating classes and objects to analyze the data, we're going to use the `pandas` library.\n"
   ]
  },
  {
   "cell_type": "markdown",
   "id": "afdd0d29",
   "metadata": {},
   "source": [
    "## Part 1 - Read stock price data from csv file\n",
    "\n",
    "**Note:** This part of the problem uses the `concat` function from pandas. Since we did not cover this in the lectures, you are **NOT** responsible for understanding how to use `concat` on the final exam. \n",
    "\n",
    "### Define the problem\n",
    "In the first part of our problem, we want to read historical stock price data from a file and store it within a `pandas` **DataFrame** object.\n",
    "We have a number of `.csv` files containing data from different companies. All the files are named \"*company*_stock_data.csv\" where *company* is the name of the company. \n",
    "We want to read the data from all of these files and store them within a single **DataFrame**.\n",
    "\n",
    "### Define test cases\n",
    "We can use our set of files as a testcase. Some things that we will want to consider when determining if our solution is correct:\n",
    "* Does the DataFrame contain the columns we expect?\n",
    "* Does the DataFrame contain all the dates and price information from each file?\n",
    "* Is there any useful information missing from our DataFrame?\n",
    "\n",
    "### Generate solutions\n",
    "Based on the problem definition, here are some things that our program will need to do:\n",
    "* Create a DataFrame object to hold all of the data\n",
    "* Load the contents of a csv file into a DataFrame\n",
    "* Concatenate the data from each file into our DataFrame\n",
    "\n",
    "An algorithm plan could be:\n",
    "1. Create an empty DataFrame, `stock_df`\n",
    "2. Use a for loop to iterate over each company name\n",
    "    * Use string concatenation to define the filename for that company\n",
    "    * Load the file contents into a DataFrame, `company_df`\n",
    "    * Concatenate the file data `company_df` to `stock_df` "
   ]
  },
  {
   "cell_type": "code",
   "execution_count": null,
   "id": "64a04781",
   "metadata": {},
   "outputs": [],
   "source": [
    "# just in case, make sure pandas is installed\n",
    "!pip install pandas"
   ]
  },
  {
   "cell_type": "code",
   "execution_count": null,
   "id": "9cb6d9ad",
   "metadata": {},
   "outputs": [],
   "source": [
    "# pt 1 - open files concatenate them into a single dataframe\n",
    "import pandas as pd\n",
    "\n",
    "companies = ['apple', 'gamestop', 'netflix', 'td_bank', 'tesla']\n",
    "\n",
    "stock_df = pd.DataFrame() # create an empty dataframe that we will add to\n",
    "\n",
    "for company in companies:\n",
    "    filename = company + '_stock_data.csv'\n",
    "\n",
    "    # read file and add it to our dataframe\n",
    "    file_df = pd.read_csv(filename)\n",
    "\n",
    "    # add a column to the dataframe to store the name of the company\n",
    "    file_df['Company'] = company\n",
    "\n",
    "    # concatenate the file dataframe to our full DataFrame\n",
    "    stock_df = pd.concat([stock_df, file_df], ignore_index=True)\n",
    "\n",
    "print(stock_df.head())\n",
    "\n"
   ]
  },
  {
   "cell_type": "markdown",
   "id": "4617f6a1",
   "metadata": {},
   "source": [
    "## Remove dollar signs and convert dollar amounts from strings to floats\n",
    "In the next part of this problem, we're going to do some analysis of the stock prices. Before we can do that, we'll need to convert the dollar values in our DataFrame from strings to floats. The dollar amounts are currently stored as strings included a '$' symbol. The code below will remove those dollar signs and convert the values from strings to floats. **We haven't talked about `replace` and `astype` in APS106, so don't worry if you're a bit confused by the code below. These methods are beyond the scope of APS106.**"
   ]
  },
  {
   "cell_type": "code",
   "execution_count": null,
   "id": "0793189c",
   "metadata": {},
   "outputs": [],
   "source": [
    "# remove the dollar sign from the 'Close' column and convert it to a float\n",
    "stock_df = stock_df.replace('[\\$]', value='', regex=True)\n",
    "stock_df.loc[:,['Close/Last', 'Open', 'High', 'Low']] = stock_df.loc[:, ['Close/Last', 'Open', 'High', 'Low']].astype(float)\n",
    "# format and sort by date\n",
    "stock_df.loc[:,'Date'] = pd.to_datetime(stock_df['Date']).dt.strftime(\"%Y-%m-%d\")\n",
    "stock_df.sort_values(by='Date', inplace=True)\n",
    "stock_df = stock_df.reset_index(drop=True)\n",
    "print(stock_df.head())"
   ]
  },
  {
   "cell_type": "markdown",
   "id": "fa7be118-3784-4cfd-9b95-a76be46203db",
   "metadata": {},
   "source": [
    "## Part 2 - Analyze the stock price for a specific company\n",
    "\n",
    "### Define the problem\n",
    "Now let's use our `stock_df` DataFrame to analyze the stock prices of individual companies.\n",
    "Specifically, we will:\n",
    "1. Extract the price of a stock at a specific date.\n",
    "2. Compute the price change of a stock between two dates.\n",
    "3. Compute the mean \"Close/Last\" price of a company.\n",
    "4. Plot the \"Close/Last\" price of a company vs. the date.\n",
    "\n",
    "### Generate solutions\n",
    "1. Filter the `stock_df` DataFrame to generate a new DataFrame with only data from the company we want to analyze\n",
    "2. Index the dataframe using the date to get the prices at specific dates\n",
    "3. Use the `mean` method to compute the mean of the \"Close/Last\" column\n",
    "4. Use the `plot` method to plot values of the \"Close/Last\" column vs. the \"Date\" column\n"
   ]
  },
  {
   "cell_type": "code",
   "execution_count": null,
   "id": "e50b1c27",
   "metadata": {},
   "outputs": [],
   "source": [
    "# pt 2 - compute the average stock price a specific company\n",
    "company = 'netflix'\n",
    "\n",
    "## BREAKOUT 2\n",
    "# filter the dataframe to only include the company we are interested in\n",
    "company_df = stock_df[stock_df['Company'] == company]\n",
    "\n",
    "# index the dataframe to get the prices at specific dates\n",
    "date1 = \"2023-04-05\"\n",
    "date2 = \"2024-04-03\"\n",
    "\n",
    "## PART 1 - Extract the price for date1\n",
    "\n",
    "print(\"The value of company \", company, \" on \", date1, \" is $\", price1)\n",
    "\n",
    "## PART 2 - get the price for date2 and compute the price change\n",
    "\n",
    "print(\"Price change: \", price_change)\n",
    "\n",
    "## PART 3 - compute the average stock price\n",
    "\n",
    "print(\"The average stock price for\", company, \"is\", avg_stock_price)\n",
    "\n",
    "# PART 4 - plot the stock price over time\n"
   ]
  },
  {
   "cell_type": "markdown",
   "id": "061b5890-2bd9-49ef-ac5f-c6e16a637836",
   "metadata": {},
   "source": [
    "## Part 3 - Compute ROI\n",
    "Now let's write a function that uses a DataFrame to compute a hypothetical return on investment (ROI) for a group of stocks. Remember from last week, that ROI is calculated as:\n",
    "$$ROI = {current\\:value - initial\\:cost \\over initial\\:cost} * 100\\%$$\n",
    "\n",
    "### Define the problem\n",
    "Imagine that you purchased stocks from a few companies at some date in the past. Now you want to check how your investment is doing by calculating the ROI of your combined stocks. To compute your ROI, you need to calculate the initial cost of purchasing the stocks and their current value. The initial cost is the sum of the stock prices for the companies you purchased on the purchase date. The current value is the sum of stock prices for these companies on the current date.\n",
    "\n",
    "Write a function called `compute_ROI` that has the following parameters:\n",
    "* `df` - A dataframe object that has the same columns as the `stock_df` DataFrame\n",
    "* `companies` - A list of strings defining the company stocks that were purchased\n",
    "* `purchase_date` - A string defining the purchase date of the stocks\n",
    "* `current_date` - A sting defining the current date\n",
    "\n",
    "The function should return the total initial price, the total current value, and the ROI (as a percentage). All returned values should be rounded to 2 decimal places.\n",
    "\n",
    "### Define test cases\n",
    "To test our function, let's imagine we purchased Apple and TD Bank stocks on 2023-04-05 and we want to compute our ROI on 2024-04-03. On the purchase date, the stock prices of Apple and TD Bank were \\\\$163.76 and \\\\$58.98, respectively. On the current date, the prices are \\\\$169.65 and \\\\$59.61.\n",
    "$$initial\\:cost = \\$163.76 + \\$58.98 = \\$222.74$$\n",
    "$$current\\:value = \\$169.65 + \\$59.61 = \\$229.26$$\n",
    "$$ROI = {\\$229.26 - \\$222.74 \\over \\$222.74} \\approx 0.0293 = 2.93\\%$$\n",
    "\n",
    "### Generate Solutions\n",
    "1. Initialize variables `total_purchase_price = 0` and `total_current_value = 0`; these will be used to accumulate the sum of the prices for each stock on the purchase and current dates\n",
    "2. Iterate through the companies: For `company` in `companies`\n",
    "    * use `loc` to extract the rows from the DataFrame where the company column is equal to `company` and the date column is equal to `purchase_date`\n",
    "    * use `values` to extract the numerical value from the Close/Last column\n",
    "    * Add the values to the `total_purchase_price`\n",
    "    * Repeat the above with `current_date` and `total_current_value`\n",
    "3. Compute the ROI\n",
    "4. Round the values to 2 decimal places\n"
   ]
  },
  {
   "cell_type": "code",
   "execution_count": null,
   "id": "3be6b885-c58e-4dff-96f2-b7f17d5bfbbe",
   "metadata": {},
   "outputs": [],
   "source": [
    "def compute_ROI(df, companies, purchase_date, current_date):\n",
    "    '''\n",
    "    (DataFrame, list of str, str, str) -> float, float, float\n",
    "\n",
    "    Computes the ROI for a group of company stocks between \n",
    "    two dates. Returns the total purchase cost, current value,\n",
    "    and ROI.\n",
    "    '''\n",
    "    total_purchase_price = 0\n",
    "    total_current_value = 0\n",
    "\n",
    "    # BREAKOUT 3 - Complete the function\n",
    "\n",
    "\n",
    "    # round the values\n",
    "    total_current_value = round(total_current_value, 2)\n",
    "    total_purchase_price = round(total_purchase_price, 2)\n",
    "    roi = round(roi, 2)\n",
    "    \n",
    "    return total_purchase_price, total_current_value, roi"
   ]
  },
  {
   "cell_type": "code",
   "execution_count": null,
   "id": "2f43541e-6d15-4923-a8e5-17e7a69ead7f",
   "metadata": {},
   "outputs": [],
   "source": [
    "companies = ['apple', 'td_bank']\n",
    "purchase_date = '2023-04-05'\n",
    "current_date = '2024-04-03'\n",
    "init_investment, current_value, ROI = compute_ROI(stock_df, companies, purchase_date, current_date)\n",
    "print(\"The initial investment was\", init_investment, \"and the current value is\", current_value, \"with a ROI of\", ROI, \"percent\")"
   ]
  }
 ],
 "metadata": {
  "kernelspec": {
   "display_name": "Python 3 (ipykernel)",
   "language": "python",
   "name": "python3"
  },
  "language_info": {
   "codemirror_mode": {
    "name": "ipython",
    "version": 3
   },
   "file_extension": ".py",
   "mimetype": "text/x-python",
   "name": "python",
   "nbconvert_exporter": "python",
   "pygments_lexer": "ipython3",
   "version": "3.9.18"
  }
 },
 "nbformat": 4,
 "nbformat_minor": 5
}
