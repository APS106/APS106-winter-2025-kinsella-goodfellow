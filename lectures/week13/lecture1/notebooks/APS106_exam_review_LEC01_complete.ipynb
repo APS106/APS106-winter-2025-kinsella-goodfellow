{
  "cells": [
    {
      "cell_type": "markdown",
      "id": "intro",
      "metadata": {
        "id": "intro"
      },
      "source": [
        "# **APS106: Fundamentals of Computer Programming**\n",
        "\n",
        "# Exam Review Session\n",
        "\n",
        "Welcome to the exam review session! In this interactive notebook, you'll work through a series of breakout sessions designed to practice the key topics covered in the course. Each session challenges you with a creative problem—ranging from file I/O and nested loops to classes and string manipulation.\n",
        "\n",
        "Let's dive in and have some fun coding!"
      ]
    },
    {
      "cell_type": "markdown",
      "id": "breakout1",
      "metadata": {
        "id": "breakout1"
      },
      "source": [
        "## Breakout Session 1: Pattern Printing - Part 1\n",
        "\n",
        "**Task:** Write a function that takes a single integer `max_num` (e.g., `9`) and prints a pattern where odd numbers from 1 up to `max_num` are joined by exclamation marks (!).\n",
        "\n",
        "Basically, `print_pattern(9)` should print `1!3!5!7!9!`\n",
        "\n",
        "Fill in the code below."
      ]
    },
    {
      "cell_type": "code",
      "id": "pattern_printing",
      "metadata": {
        "colab": {
          "base_uri": "https://localhost:8080/"
        },
        "id": "pattern_printing",
        "outputId": "8c33554c-852d-46f7-8e0b-5bb799ab970c"
      },
      "source": [
        "def print_pattern(max_num):\n",
        "    '''\n",
        "    (int) -> None\n",
        "    Prints numbers from 1 to max_num with a '!' after each odd number.\n",
        "    '''\n",
        "    ##################### Start coding here #####################\n",
        "    result = \"\"\n",
        "    for num in range(1, max_num + 1, 2):\n",
        "        result += str(num) + \"!\"\n",
        "    print(result)\n",
        "    #############################################################\n",
        "\n",
        "# Test the function\n",
        "print_pattern(9)"
      ],
      "execution_count": null,
      "outputs": [
        {
          "output_type": "stream",
          "name": "stdout",
          "text": [
            "1!3!5!7!9!\n"
          ]
        }
      ]
    },
    {
      "cell_type": "markdown",
      "source": [
        "## Breakout Session 1: Pattern Printing - Part 2\n",
        "\n",
        "**Task:** Write another function that takes one argument, `level`, and prints a centered pyramid made of `$` symbols. Each level of the pyramid should have an increasing number of $ signs, and the pyramid should be properly aligned with spaces to maintain its shape.\n",
        "\n",
        "`create_pyramid(5)` should print:\n",
        "```\n",
        "    $\n",
        "   $$$\n",
        "  $$$$$\n",
        " $$$$$$$\n",
        "$$$$$$$$$\n",
        "```\n",
        "Fill in the code below."
      ],
      "metadata": {
        "id": "5-PTvM7lyyam"
      },
      "id": "5-PTvM7lyyam"
    },
    {
      "cell_type": "code",
      "source": [
        "def create_pyramid(level):\n",
        "    ##################### Start coding here #####################\n",
        "    n_spaces = range(level-1, -1, -1)\n",
        "    n_doll = range(1, level*2, 2)\n",
        "    for i in range(level):\n",
        "      print(n_spaces[i]*\" \" + n_doll[i]*\"$\")\n",
        "    #############################################################\n",
        "\n",
        "# Example usage:\n",
        "create_pyramid(5)"
      ],
      "metadata": {
        "colab": {
          "base_uri": "https://localhost:8080/"
        },
        "id": "iWxH8vW0vTbz",
        "outputId": "e999b283-f07f-491c-8443-3054756de085"
      },
      "id": "iWxH8vW0vTbz",
      "execution_count": null,
      "outputs": [
        {
          "output_type": "stream",
          "name": "stdout",
          "text": [
            "    $\n",
            "   $$$\n",
            "  $$$$$\n",
            " $$$$$$$\n",
            "$$$$$$$$$\n"
          ]
        }
      ]
    },
    {
      "cell_type": "markdown",
      "id": "breakout2",
      "metadata": {
        "id": "breakout2"
      },
      "source": [
        "## Breakout Session 2: CSV Tool Challenge - Part 1 (Save Data)\n",
        "\n",
        "**Task:** Write a function that accepts new data (a list of lists) and saves it to a new CSV file.\n",
        "\n",
        "Fill in the code below."
      ]
    },
    {
      "cell_type": "code",
      "id": "csv_save",
      "metadata": {
        "id": "csv_save"
      },
      "source": [
        "import csv\n",
        "\n",
        "def save_csv(data):\n",
        "    '''\n",
        "    (list of lists, str) -> None\n",
        "    Saves the provided data into a CSV file with the given filename.\n",
        "    '''\n",
        "    ##################### Start coding here #####################\n",
        "    with open('new_data.csv', 'w') as f:\n",
        "        writer = csv.writer(f)\n",
        "        for row in data:\n",
        "            writer.writerow(row)\n",
        "    # print(f\"CSV file '{'new_data.csv'}' has been saved.\")\n",
        "    #############################################################\n",
        "\n",
        "# Example usage\n",
        "data = [[\"Name\", \"Age\"], [\"Seb\", 40], [\"Sina\", 27]]\n",
        "save_csv(data)"
      ],
      "execution_count": null,
      "outputs": []
    },
    {
      "cell_type": "code",
      "source": [
        "# Test out your function by reading the saved CSV file:\n",
        "with open('new_data.csv', 'r') as f:\n",
        "    reader = csv.reader(f)\n",
        "    for row in reader:\n",
        "        print(row)"
      ],
      "metadata": {
        "colab": {
          "base_uri": "https://localhost:8080/"
        },
        "id": "H2B-qZZwfFTP",
        "outputId": "786f83e4-397b-4d2e-b806-8d1983e474f5"
      },
      "id": "H2B-qZZwfFTP",
      "execution_count": null,
      "outputs": [
        {
          "output_type": "stream",
          "name": "stdout",
          "text": [
            "['Name', 'Age']\n",
            "['Seb', '40']\n",
            "['Sina', '27']\n"
          ]
        }
      ]
    },
    {
      "cell_type": "markdown",
      "id": "breakout3",
      "metadata": {
        "id": "breakout3"
      },
      "source": [
        "## Breakout Session 3: CSV Tool Challenge - Part 2 (Update File)\n",
        "\n",
        "**Task:** Now extend the previous CSV tool by adding an update feature.\n",
        "\n",
        "Write a new function that accepts an existing CSV file name and new data as input, opens the existing CSV file and appends the new data.\n",
        "\n",
        "Fill in the code below."
      ]
    },
    {
      "cell_type": "code",
      "id": "csv_update",
      "metadata": {
        "id": "csv_update"
      },
      "source": [
        "def update_csv(new_data, filename='new_data.csv'):\n",
        "    '''\n",
        "    (list of lists, str) -> None\n",
        "    Updates the CSV file by appending new data rows.\n",
        "    '''\n",
        "    ##################### Start coding here #####################\n",
        "    with open(filename, 'a') as f:\n",
        "        writer = csv.writer(f)\n",
        "        for row in new_data:\n",
        "            writer.writerow(row)  # Append new rows\n",
        "    print(f\"CSV file '{filename}' has been updated with new data.\")\n",
        "    #############################################################\n",
        "\n",
        "# Example usage\n",
        "additional_data = [[\"Charlie\", 18], [\"Dana\", 35], [\"Joe\", 55]]\n",
        "update_csv(additional_data, 'new_data.csv')"
      ],
      "execution_count": null,
      "outputs": []
    },
    {
      "cell_type": "code",
      "source": [
        "# Test out your function by reading the saved CSV file:\n",
        "with open('new_data.csv', 'r') as f:\n",
        "    lines = f.readlines()\n",
        "    for line in lines:\n",
        "        row = line.strip().split(',')\n",
        "        print(row)"
      ],
      "metadata": {
        "colab": {
          "base_uri": "https://localhost:8080/"
        },
        "id": "vTybr5v6gA01",
        "outputId": "455cc08b-bc62-4795-9ab5-7cbe91e17696"
      },
      "id": "vTybr5v6gA01",
      "execution_count": null,
      "outputs": [
        {
          "output_type": "stream",
          "name": "stdout",
          "text": [
            "['Name', 'Age']\n",
            "['Seb', '40']\n",
            "['Sina', '27']\n",
            "['Charlie', '18']\n",
            "['Dana', '35']\n",
            "['Joe', '55']\n"
          ]
        }
      ]
    },
    {
      "cell_type": "markdown",
      "id": "breakout4",
      "metadata": {
        "id": "breakout4"
      },
      "source": [
        "## Breakout Session 4: Negative Image Transformation\n",
        "\n",
        "**Task:** Write a function that takes a 2D list representing a grayscale image and creates its negative.\n",
        "\n",
        "In a grayscale image, each pixel's value ranges from 0 (black) to 255 (white). To create a negative image, subtract each pixel value from 255.\n",
        "\n",
        "For example, if a pixel value is 100, its negative will be 255 - 100 = 155.\n",
        "\n",
        "Fill in the code below."
      ]
    },
    {
      "cell_type": "code",
      "source": [
        "def invert_grayscale_image(image):\n",
        "    \"\"\"\n",
        "    (list of lists, str) -> None\n",
        "    Inverts a black-and-white image (2D list of pixel values 0-255).\n",
        "    Returns the negative image.\n",
        "    \"\"\"\n",
        "    ##################### Start coding here #####################\n",
        "    inverted = []\n",
        "    for i in original:\n",
        "      inverted_row = []\n",
        "      for j in i:\n",
        "        inverted_row.append(255 - j)\n",
        "      inverted.append(inverted_row)\n",
        "    return inverted\n",
        "    #############################################################"
      ],
      "metadata": {
        "id": "Jg99KN2X8wb_"
      },
      "id": "Jg99KN2X8wb_",
      "execution_count": null,
      "outputs": []
    },
    {
      "cell_type": "code",
      "source": [
        "# Example usage:\n",
        "original = [\n",
        "    [0, 255, 0, 255, 0],\n",
        "    [255, 127, 255, 127, 255],\n",
        "    [0, 255, 127, 255, 0],\n",
        "    [255, 127, 255, 127, 255],\n",
        "    [0, 255, 0, 255, 0],\n",
        "]\n",
        "\n",
        "inverted = invert_grayscale_image(original)\n",
        "inverted"
      ],
      "metadata": {
        "colab": {
          "base_uri": "https://localhost:8080/"
        },
        "id": "U8kjzQEBjC3x",
        "outputId": "e31a1999-a9ca-41f4-84c9-e60e1976e877"
      },
      "id": "U8kjzQEBjC3x",
      "execution_count": null,
      "outputs": [
        {
          "output_type": "execute_result",
          "data": {
            "text/plain": [
              "[[255, 0, 255, 0, 255],\n",
              " [0, 128, 0, 128, 0],\n",
              " [255, 0, 128, 0, 255],\n",
              " [0, 128, 0, 128, 0],\n",
              " [255, 0, 255, 0, 255]]"
            ]
          },
          "metadata": {},
          "execution_count": 55
        }
      ]
    },
    {
      "cell_type": "code",
      "source": [
        "# Just for fun! (You don't need to understand this visualization code)\n",
        "# This part creates a side-by-side comparison of the original and inverted images\n",
        "\n",
        "import matplotlib.pyplot as plt\n",
        "import numpy as np\n",
        "\n",
        "# Convert to NumPy arrays for plotting (simple usage)\n",
        "original_array = np.array(original, dtype=np.uint8)\n",
        "inverted_array = np.array(inverted, dtype=np.uint8)\n",
        "\n",
        "# Plot side by side\n",
        "plt.figure(figsize=(8, 4))\n",
        "\n",
        "# Original image\n",
        "plt.subplot(1, 2, 1)\n",
        "plt.imshow(original_array, cmap='gray')\n",
        "plt.title(\"Original Image\")\n",
        "plt.axis('off')\n",
        "\n",
        "# Inverted image\n",
        "plt.subplot(1, 2, 2)\n",
        "plt.imshow(inverted_array, cmap='gray')\n",
        "plt.title(\"Negative Image\")\n",
        "plt.axis('off')\n",
        "\n",
        "plt.tight_layout()\n",
        "plt.show()"
      ],
      "metadata": {
        "id": "zyblnxF5jSUm"
      },
      "id": "zyblnxF5jSUm",
      "execution_count": null,
      "outputs": []
    },
    {
      "cell_type": "markdown",
      "id": "breakout5",
      "metadata": {
        "id": "breakout5"
      },
      "source": [
        "## Breakout Session 5: Inventory Dictionary\n",
        "\n",
        "**Task:** Write a function that adds new items to an inventory dictionary. The dictionary's keys are item names and the values are their quantities.\n",
        "\n",
        "For example, if the current inventory is `{'apple': 5, 'banana': 3}` and you add `apple` (2 more) and `orange` (4), the updated inventory should reflect the changes.\n",
        "\n",
        "Fill in the function below."
      ]
    },
    {
      "cell_type": "code",
      "source": [
        "class"
      ],
      "metadata": {
        "id": "vC8yZD4WTP-V"
      },
      "id": "vC8yZD4WTP-V",
      "execution_count": null,
      "outputs": []
    },
    {
      "cell_type": "code",
      "id": "inventory_dict",
      "metadata": {
        "id": "inventory_dict"
      },
      "source": [
        "def update_inventory(inventory, item, quantity):\n",
        "    '''\n",
        "    (dict, str, int) -> dict\n",
        "    Updates the inventory by adding the quantity to the item. If the item does not exist, add it.\n",
        "    '''\n",
        "    ##################### Start coding here #####################\n",
        "    if item in inventory:\n",
        "        inventory[item] += quantity\n",
        "    else:\n",
        "        inventory[item] = quantity\n",
        "    return inventory\n",
        "    #############################################################"
      ],
      "execution_count": null,
      "outputs": []
    },
    {
      "cell_type": "code",
      "source": [
        "# Test the function\n",
        "inventory = {'apple': 5, 'banana': 3}\n",
        "inventory = update_inventory(inventory, 'apple', 2)\n",
        "inventory = update_inventory(inventory, 'orange', 4)\n",
        "print(inventory)"
      ],
      "metadata": {
        "colab": {
          "base_uri": "https://localhost:8080/"
        },
        "id": "k-sHAXEI_LXv",
        "outputId": "737aca44-ad87-4988-ec79-677ed11f2f46"
      },
      "id": "k-sHAXEI_LXv",
      "execution_count": null,
      "outputs": [
        {
          "output_type": "stream",
          "name": "stdout",
          "text": [
            "{'apple': 7, 'banana': 3, 'orange': 4}\n"
          ]
        }
      ]
    },
    {
      "cell_type": "markdown",
      "id": "breakout6",
      "metadata": {
        "id": "breakout6"
      },
      "source": [
        "## Breakout Session 6: Soccer Players Class\n",
        "\n",
        "**Task:** Create a Python class named `SoccerPlayer` with attributes such as `name`, `height`, and `age`. Implement methods: `dribble` and `score` to explain which player is doing what! Example: `Lionel Messi is dribbling past defenders...`\n",
        "\n",
        "Now, instead of just printing a simple message, simulate a dramatic game moment. For example, have the player dribble through defenders and score a winning goal. Your methods can print multi-step narratives that describe the action.\n",
        "\n",
        "Fill in the code below."
      ]
    },
    {
      "cell_type": "code",
      "id": "soccer_class",
      "metadata": {
        "id": "soccer_class"
      },
      "source": [
        "##################### Start coding here #####################\n",
        "class SoccerPlayer:\n",
        "    def __init__(self, name, height, age, weight, role): # instance of obj itself, allowing access to its attributes and methods from within the class.\n",
        "        self.name = name\n",
        "        self.height = height\n",
        "        self.age = age\n",
        "\n",
        "    def __str__(self):\n",
        "        return f\"Name: {self.name}, Height: {self.height}, Age: {self.age}, Weight: {self.weight}, Role: {self.role}\"\n",
        "\n",
        "    def dribble(self):\n",
        "        print(f\"{self.name} is dribbling past defenders...\")\n",
        "\n",
        "    def score(self):\n",
        "        print(f\"Goal! {self.name} scores the winning goal after an amazing solo run!\")\n",
        "##############################################################"
      ],
      "execution_count": null,
      "outputs": []
    },
    {
      "cell_type": "code",
      "source": [
        "# Test the class with an example scenario\n",
        "player = SoccerPlayer('Lionel Messi', 170, 34, 72, 'Forward')\n",
        "print(player, end='\\n\\n')\n",
        "player.dribble()\n",
        "player.score()"
      ],
      "metadata": {
        "colab": {
          "base_uri": "https://localhost:8080/"
        },
        "id": "01-r6hCy_eU6",
        "outputId": "f12ca5ed-0318-42be-eefc-be34142d3d90"
      },
      "id": "01-r6hCy_eU6",
      "execution_count": null,
      "outputs": [
        {
          "output_type": "stream",
          "name": "stdout",
          "text": [
            "Name: Lionel Messi, Height: 170, Age: 34, Weight: 72, Role: Forward\n",
            "\n",
            "Lionel Messi is dribbling past defenders...\n",
            "Lionel Messi makes a precise pass!\n",
            "Lionel Messi takes a powerful shot at goal!\n",
            "Goal! Lionel Messi scores the winning goal after an amazing solo run!\n"
          ]
        }
      ]
    },
    {
      "cell_type": "markdown",
      "id": "breakout7",
      "metadata": {
        "id": "breakout7"
      },
      "source": [
        "## Breakout Session 7: Monte Carlo π estimation problem\n",
        "\n",
        "**Task:** Write a function `estimate_pi(num_samples)` that approximates π by (1) Randomly throwing \"darts\" (points) at a 1×1 square, and (2) Counting how many land inside the quarter-circle of radius 1 using the following ratio to estimate π:\n",
        "\n",
        "$$\n",
        "\\pi \\approx 4 \\times \\frac{\\text{Points inside circle}}{\\text{Total points}}\n",
        "$$\n",
        "\n",
        "You can see this in action [here](https://upload.wikimedia.org/wikipedia/commons/8/84/Pi_30K.gif).\n",
        "\n",
        "Fill in the code below."
      ]
    },
    {
      "cell_type": "code",
      "source": [
        "import random\n",
        "\n",
        "def estimate_pi(num):\n",
        "  ##################### Start coding here #####################\n",
        "  count = 0\n",
        "  for _ in range(num):\n",
        "    x, y = random.random(), random.random()\n",
        "    if x**2 + y**2 <= 1:\n",
        "      count += 1\n",
        "  return 4*count/num\n",
        "  ############################################################"
      ],
      "metadata": {
        "id": "4gbn5xEAGrUS"
      },
      "id": "4gbn5xEAGrUS",
      "execution_count": null,
      "outputs": []
    },
    {
      "cell_type": "code",
      "source": [
        "estimate_pi(10000)"
      ],
      "metadata": {
        "colab": {
          "base_uri": "https://localhost:8080/"
        },
        "id": "vJ6Vk-M6Hzb4",
        "outputId": "28005414-dae4-46b7-8a57-665836df5bc5"
      },
      "id": "vJ6Vk-M6Hzb4",
      "execution_count": null,
      "outputs": [
        {
          "output_type": "execute_result",
          "data": {
            "text/plain": [
              "3.1436"
            ]
          },
          "metadata": {},
          "execution_count": 68
        }
      ]
    },
    {
      "cell_type": "markdown",
      "id": "breakout8",
      "metadata": {
        "id": "breakout8"
      },
      "source": [
        "## Breakout Session 8: Tic-Tac-Toe Game\n",
        "\n",
        "We are creating a simple Tic-Tac-Toe game. The class `TicTacToe` below (1) initializes a 3x3 board (using a 2D list), (2) allows two players to place their marks (e.g., 'X' and 'O'), and (3) checks for a winner after each move.\n",
        "\n",
        "**Task:** Fill in the code for `check_winner` method below."
      ]
    },
    {
      "cell_type": "code",
      "id": "tic_tac_toe",
      "metadata": {
        "id": "tic_tac_toe"
      },
      "source": [
        "class TicTacToe:\n",
        "    def __init__(self):\n",
        "        # Initialize a 3x3 board with empty spaces\n",
        "        self.board = [[' ' for _ in range(3)] for _ in range(3)]\n",
        "        self.current_player = 'X'\n",
        "\n",
        "    def display_board(self):\n",
        "        for row in self.board:\n",
        "            print('|'.join(row))\n",
        "            print('-'*5)\n",
        "\n",
        "    def make_move(self, row, col):\n",
        "        '''\n",
        "        Place the current player's mark on the board at the given row and col if the cell is empty.\n",
        "        '''\n",
        "        if self.board[row][col] == ' ':\n",
        "            self.board[row][col] = self.current_player\n",
        "            if self.check_winner(self.current_player):\n",
        "                print(f\"\\nPlayer {self.current_player} wins!\")\n",
        "            else:\n",
        "                self.current_player = 'O' if self.current_player == 'X' else 'X'\n",
        "        else:\n",
        "            print(\"Cell already taken. Try again.\")\n",
        "\n",
        "\n",
        "    def check_winner(self, player):\n",
        "        \"\"\"\n",
        "        player (str) => True/False (bool)\n",
        "        Check if the specified player has won the game by having 3 marks in a row,\n",
        "        column, or diagonal.\n",
        "\n",
        "        Example:\n",
        "            For player 'X' and board:\n",
        "            [['X', ' ', ' '],\n",
        "            ['X', 'O', ' '],\n",
        "            ['X', ' ', 'O']]\n",
        "            Returns True because of first column.\n",
        "        \"\"\"\n",
        "        # Check rows, columns, and diagonals\n",
        "        board = self.board\n",
        "\n",
        "        ##################### Start coding here #####################\n",
        "        # Check rows and columns\n",
        "        for i in range(3):\n",
        "            if (board[i][0] == board[i][1] == board[i][2] == player) or \\\n",
        "             (board[0][i] == board[1][i] == board[2][i] == player):\n",
        "                return True\n",
        "        if board[0][0] == board[1][1] == board[2][2] == player:\n",
        "            return True\n",
        "        if board[0][2] == board[1][1] == board[2][0] == player:\n",
        "            return True\n",
        "        return False\n",
        "        ##############################################################"
      ],
      "execution_count": null,
      "outputs": []
    },
    {
      "cell_type": "code",
      "source": [
        "# Example usage\n",
        "game = TicTacToe()\n",
        "game.display_board()\n",
        "\n",
        "# Simulate a few moves (in a real scenario, you would loop and ask for user input)\n",
        "game.make_move(0, 0)  # X\n",
        "game.make_move(1, 1)  # O\n",
        "game.make_move(0, 1)  # X\n",
        "game.make_move(2, 2)  # O\n",
        "game.make_move(0, 2)  # X - this should complete the top row and win the game\n",
        "game.display_board()"
      ],
      "metadata": {
        "colab": {
          "base_uri": "https://localhost:8080/"
        },
        "id": "Eaoi6NAkRTUS",
        "outputId": "c707a704-4245-4de1-fe1e-f0ab73fe4239"
      },
      "id": "Eaoi6NAkRTUS",
      "execution_count": null,
      "outputs": [
        {
          "output_type": "stream",
          "name": "stdout",
          "text": [
            " | | \n",
            "-----\n",
            " | | \n",
            "-----\n",
            " | | \n",
            "-----\n",
            "\n",
            "Player X wins!\n",
            "X|X|X\n",
            "-----\n",
            " |O| \n",
            "-----\n",
            " | |O\n",
            "-----\n"
          ]
        }
      ]
    },
    {
      "cell_type": "code",
      "source": [
        "# Let's play once more\n",
        "game = TicTacToe()\n",
        "game.make_move(0, 2)  # X\n",
        "game.make_move(0, 0)  # O\n",
        "game.make_move(2, 0)  # X\n",
        "game.make_move(1, 1)  # O\n",
        "game.make_move(1, 2)  # X\n",
        "game.make_move(2, 2)  # O\n",
        "game.display_board()"
      ],
      "metadata": {
        "colab": {
          "base_uri": "https://localhost:8080/"
        },
        "id": "gUtNalBbKyqg",
        "outputId": "1486ff33-0792-4224-d77c-738cb30c97da"
      },
      "id": "gUtNalBbKyqg",
      "execution_count": null,
      "outputs": [
        {
          "output_type": "stream",
          "name": "stdout",
          "text": [
            "\n",
            "Player O wins!\n",
            "O| |X\n",
            "-----\n",
            " |O|X\n",
            "-----\n",
            "X| |O\n",
            "-----\n"
          ]
        }
      ]
    },
    {
      "cell_type": "markdown",
      "source": [
        "## Breakout Session 9:  The moving average\n",
        "\n",
        "Write a function `moving_avg(data, k)` that takes as input a list of numbers `data` and an integer `k`, and returns a list of the moving averages computed over a sliding window of size `k`.\n",
        "\n",
        "* The moving average at position `i` is the average of the `k` numbers ending at index `i`.\n",
        "\n",
        "* If `k` is greater than the length of data, return an empty list.\n",
        "\n",
        "* Hint: Your function should compute the averages efficiently by updating the sum as the window slides."
      ],
      "metadata": {
        "id": "ZOgwM3x5Wdgx"
      },
      "id": "ZOgwM3x5Wdgx"
    },
    {
      "cell_type": "code",
      "source": [
        "def moving_avg(data, k):\n",
        "    '''\n",
        "    (list of num, int) -> list of num\n",
        "\n",
        "    Returns the moving average of the data using a\n",
        "    window of length k.\n",
        "\n",
        "    If k is larger than the length of data, an empty list is\n",
        "    returned.\n",
        "    '''\n",
        "    if k > len(data):\n",
        "        return []\n",
        "    ##################### Start coding here #####################\n",
        "    moving_sum = []\n",
        "    moving_avg = []\n",
        "\n",
        "    for i in range(len(data) - k + 1):\n",
        "      sum_k = sum(data[i:i+k])\n",
        "      moving_sum.append(sum_k)\n",
        "      moving_avg.append(sum_k / k)\n",
        "    return moving_avg\n",
        "    #############################################################"
      ],
      "metadata": {
        "id": "KcHnTY8jZV1Z"
      },
      "id": "KcHnTY8jZV1Z",
      "execution_count": 31,
      "outputs": []
    },
    {
      "cell_type": "code",
      "source": [
        "moving_avg([1,2,3,4,5],2)"
      ],
      "metadata": {
        "colab": {
          "base_uri": "https://localhost:8080/"
        },
        "id": "qAOrnhZ-W-BN",
        "outputId": "b793d56c-9cb2-4e4e-d627-1e166de28fca"
      },
      "id": "qAOrnhZ-W-BN",
      "execution_count": 32,
      "outputs": [
        {
          "output_type": "execute_result",
          "data": {
            "text/plain": [
              "[1.5, 2.5, 3.5, 4.5, 2.5]"
            ]
          },
          "metadata": {},
          "execution_count": 32
        }
      ]
    },
    {
      "cell_type": "code",
      "source": [
        "# Again, This is just for fun! (You don't need to understand this visualization code)\n",
        "# This part creates a side-by-side comparison of the original and inverted images\n",
        "\n",
        "import matplotlib.pyplot as plt\n",
        "import numpy as np\n",
        "\n",
        "# Generate a random signal\n",
        "np.random.seed(0)\n",
        "data = np.random.randn(100) * 5 + 10  # Random signal centered around 10\n",
        "\n",
        "# Apply moving average with different window sizes\n",
        "k = 7\n",
        "smoothed_data = moving_avg(data, k)\n",
        "\n",
        "# Pad the smoothed data to align lengths for plotting\n",
        "padded_smoothed = [None]*(k-1) + smoothed_data\n",
        "\n",
        "# Plot the original and smoothed signals\n",
        "plt.figure(figsize=(10, 6))\n",
        "plt.plot(data, label='Original Signal', alpha=0.6)\n",
        "plt.plot(padded_smoothed, label=f'Moving Average (k={k})', linewidth=3)\n",
        "plt.title('Effect of Moving Average on Random Signal')\n",
        "plt.xlabel('Time')\n",
        "plt.ylabel('Value')\n",
        "plt.legend()\n",
        "plt.grid(True)\n",
        "plt.show()"
      ],
      "metadata": {
        "id": "3wyQdoQ7XBE3"
      },
      "id": "3wyQdoQ7XBE3",
      "execution_count": null,
      "outputs": []
    },
    {
      "cell_type": "markdown",
      "id": "conclusion",
      "metadata": {
        "id": "conclusion"
      },
      "source": [
        "## Wrap-up\n",
        "\n",
        "Great job working through these breakout sessions! Review your solutions, ask questions, and feel free to experiment with the code further. These exercises cover file I/O, loops (including nested loops), functions (including nested functions), dictionaries, classes, and module design – all essential topics for your exam and future projects.\n",
        "\n",
        "Happy coding and good luck on your exam!"
      ]
    }
  ],
  "metadata": {
    "kernelspec": {
      "display_name": "Python 3",
      "language": "python",
      "name": "python3"
    },
    "language_info": {
      "name": "python",
      "version": "3.x"
    },
    "colab": {
      "provenance": []
    }
  },
  "nbformat": 4,
  "nbformat_minor": 5
}
