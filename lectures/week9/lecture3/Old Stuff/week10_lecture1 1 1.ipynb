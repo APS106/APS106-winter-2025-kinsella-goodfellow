{
 "cells": [
  {
   "cell_type": "code",
   "execution_count": null,
   "id": "9418335a",
   "metadata": {},
   "outputs": [],
   "source": [
    "myfile = open('test.txt', 'r')\n",
    "for row in myfile:\n",
    "    print(row[0:6] + ' exam on ' + row[12:14] + 'th at ' + row[22:28])\n",
    "myfile.close()"
   ]
  },
  {
   "cell_type": "code",
   "execution_count": null,
   "id": "d06d62ae",
   "metadata": {},
   "outputs": [],
   "source": [
    "d= {'Running': 45, 'Hiking': 101, 'Biking': 29, 'Walking': 9000}\n",
    "d['Swimming']=10\n",
    "\n",
    "d['Hiking']=20\n",
    "d.pop('Running')\n",
    "\n",
    "d.values()"
   ]
  },
  {
   "cell_type": "code",
   "execution_count": null,
   "id": "9c9ee597",
   "metadata": {},
   "outputs": [],
   "source": [
    "string_a = \"What a lovely day today!\"\n",
    "string_a[5:-5]"
   ]
  },
  {
   "cell_type": "code",
   "execution_count": null,
   "id": "18b2c1a6",
   "metadata": {},
   "outputs": [],
   "source": [
    "x = ['ab', 'cD']\n",
    "for i in x:\n",
    "    i = i.upper()\n",
    "    print(x)"
   ]
  },
  {
   "cell_type": "code",
   "execution_count": null,
   "id": "d3bec173",
   "metadata": {},
   "outputs": [],
   "source": [
    "number_list = [20,40,20,20,60,80]\n",
    "new_number_list = []\n",
    "\n",
    "for i in range(len(number_list)):\n",
    "    if i % 2 == 1:\n",
    "        number_list[i] += 10\n",
    "        new_number_list.append(number_list[i])\n",
    "\n",
    "new_number_list"
   ]
  },
  {
   "cell_type": "code",
   "execution_count": null,
   "id": "33ee17b6",
   "metadata": {},
   "outputs": [],
   "source": [
    "class Date:\n",
    "    def __init__(self, year, month, day):\n",
    "        self.year = year\n",
    "        self.month = month\n",
    "        self.day = day \n",
    "\n",
    "class Dog:\n",
    "    def __init__(self, first_name, adoption_date):\n",
    "        self.first_name = first_name\n",
    "        self.adoption_date = adoption_date\n",
    "\n",
    "adoption_date = Date(2019, 3, 28)\n",
    "my_dog = Dog(\"Fido\", adoption_date)\n",
    "adoption_date = Date(2017, 1, 1)\n",
    "adoption_date.year = 2018\n",
    "print(my_dog.adoption_date.year)"
   ]
  },
  {
   "cell_type": "code",
   "execution_count": null,
   "id": "8d1d49ec",
   "metadata": {},
   "outputs": [],
   "source": [
    "import math\n",
    "\n",
    "class pet_newt:\n",
    "    \n",
    "    def __init__(self, name, weight, age):\n",
    "        self.name = name\n",
    "        self.weight = weight\n",
    "        self.age = age\n",
    "        \n",
    "    def info(self):\n",
    "        self.name = self.name[::-2]\n",
    "        self.name = self.name.upper()\n",
    "        self.weight = math.floor(self.weight)\n",
    "        self.age = type(str(self.age))\n",
    "        return str(str(self.name) + ' ' + str(self.weight) + ' ' + str(self.age))\n",
    "\n",
    "    \n",
    "my_pet = pet_newt('Moody',16.7, 5.6)\n",
    "print(pet_newt.info(my_pet))"
   ]
  },
  {
   "cell_type": "code",
   "execution_count": null,
   "id": "5a29e92d",
   "metadata": {},
   "outputs": [],
   "source": [
    "class MyGrades:\n",
    "    def __init__(self, year, month, day, course, grade):\n",
    "        self.year = year\n",
    "        self.month = month\n",
    "        self.day = day \n",
    "        self.course = course\n",
    "        self.grade = grade\n",
    "        \n",
    "    def info(self):\n",
    "        return str(\"my mark in \" + self.course + \" was \" + self.grade)\n",
    "        \n",
    "\n",
    "my_mark = MyGrades(2022,'04','23','APS-106','93')\n",
    "\n",
    "print(MyGrades.info(my_mark))"
   ]
  },
  {
   "cell_type": "code",
   "execution_count": null,
   "id": "ae898cc6",
   "metadata": {},
   "outputs": [],
   "source": [
    "class Slide_Deck:\n",
    "    def __init__(self, title, length = 0) :\n",
    "        self.title = title\n",
    "        self.length = length\n",
    "        \n",
    "    def add_slides(self, amount) :\n",
    "        self.length += amount\n",
    "\n",
    "lecture1 = Slide_Deck('APS106 Lecture 1.1', 9)\n",
    "lecture1.add_slides(2)\n",
    "print(lecture1.length)"
   ]
  },
  {
   "cell_type": "code",
   "execution_count": null,
   "id": "dcf40b36",
   "metadata": {},
   "outputs": [],
   "source": [
    "# Example usage:\n",
    "drone1 = Drone(drone_id=1, battery_level=80, location=(43.6532, -79.3832))\n",
    "print(f\"Drone {drone1.get_id()} is currently at {drone1.get_location()} with battery level {drone1.get_battery_level()}%.\")\n",
    "drone1.update_battery(new_level=70)\n",
    "drone1.move_to(new_location=(40.7128, -74.0060))\n",
    "print(f\"Updated battery level: {drone1.get_battery_level()}%\")\n",
    "print(f\"New location: {drone1.get_location()}\")\n"
   ]
  },
  {
   "cell_type": "code",
   "execution_count": null,
   "id": "83e4f5f7",
   "metadata": {},
   "outputs": [],
   "source": [
    "class Drone:\n",
    "    def __init__(self, drone_id, battery_level, location):\n",
    "        self.drone_id = drone_id\n",
    "        self.battery_level = max(0, min(battery_level, 100))  # Ensure battery level is within [0, 100]\n",
    "        self.location = location\n",
    "\n",
    "    def get_id(self):\n",
    "        return self.drone_id\n",
    "\n",
    "    def get_battery_level(self):\n",
    "        return self.battery_level\n",
    "\n",
    "    def get_location(self):\n",
    "        return self.location\n",
    "\n",
    "    def move_to(self, new_location):\n",
    "        self.location = new_location\n"
   ]
  },
  {
   "cell_type": "code",
   "execution_count": null,
   "id": "bb2dbd46",
   "metadata": {},
   "outputs": [],
   "source": [
    "drone1 = Drone(drone_id=1, battery_level=80, location=(43.6532, -79.3832))\n",
    "print(\"Drone\", drone1.get_id(),\"is currently at\",drone1.get_location(), \n",
    "      \"with battery level\", drone1.get_battery_level())\n",
    "drone1.move_to(new_location=(40.7128, -74.0060))\n",
    "print(\"New location:\", drone1.get_location())"
   ]
  }
 ],
 "metadata": {
  "kernelspec": {
   "display_name": "Python 3 (ipykernel)",
   "language": "python",
   "name": "python3"
  },
  "language_info": {
   "codemirror_mode": {
    "name": "ipython",
    "version": 3
   },
   "file_extension": ".py",
   "mimetype": "text/x-python",
   "name": "python",
   "nbconvert_exporter": "python",
   "pygments_lexer": "ipython3",
   "version": "3.11.6"
  }
 },
 "nbformat": 4,
 "nbformat_minor": 5
}
