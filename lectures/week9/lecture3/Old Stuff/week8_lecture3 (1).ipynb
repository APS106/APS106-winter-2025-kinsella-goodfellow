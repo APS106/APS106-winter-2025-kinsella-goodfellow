{
 "cells": [
  {
   "cell_type": "markdown",
   "metadata": {},
   "source": [
    "# Jeopardy Questions - Scroll Down for Final Jeopardy Solutions"
   ]
  },
  {
   "cell_type": "code",
   "execution_count": 1,
   "metadata": {},
   "outputs": [
    {
     "data": {
      "text/plain": [
       "'a lovely day t'"
      ]
     },
     "execution_count": 1,
     "metadata": {},
     "output_type": "execute_result"
    }
   ],
   "source": [
    "string_a = \"What a lovely day today!\"\n",
    "string_a[5:-5]"
   ]
  },
  {
   "cell_type": "code",
   "execution_count": 5,
   "metadata": {},
   "outputs": [
    {
     "data": {
      "text/plain": [
       "' NO'"
      ]
     },
     "execution_count": 5,
     "metadata": {},
     "output_type": "execute_result"
    }
   ],
   "source": [
    "string_b = \"Going to do awesome on my midterm!\"\n",
    "string_b = string_b.upper()\n",
    "string_b.lower()\n",
    "string_b = string_b[5:0:-2]\n",
    "string_b"
   ]
  },
  {
   "cell_type": "code",
   "execution_count": 6,
   "metadata": {},
   "outputs": [
    {
     "name": "stdout",
     "output_type": "stream",
     "text": [
      "0\n",
      "4\n",
      "16\n"
     ]
    }
   ],
   "source": [
    "for number in range(6):\n",
    "    power = number**2\n",
    "    if power % 2 == 0:\n",
    "        print(power)"
   ]
  },
  {
   "cell_type": "code",
   "execution_count": 7,
   "metadata": {},
   "outputs": [
    {
     "name": "stdout",
     "output_type": "stream",
     "text": [
      "e\n",
      "c\n",
      "e\n",
      "c\n"
     ]
    }
   ],
   "source": [
    "my_food = ['apples', 'carrots', 'pears', 'tacos']\n",
    "\n",
    "for food in my_food:\n",
    "    for letter in food:\n",
    "        if letter > 'a' and letter < 'f':\n",
    "            print(letter)"
   ]
  },
  {
   "cell_type": "code",
   "execution_count": 15,
   "metadata": {},
   "outputs": [
    {
     "name": "stdout",
     "output_type": "stream",
     "text": [
      "T\n",
      "i\n",
      "s\n",
      "h\n",
      "a\n",
      " \n",
      "t\n",
      "h\n",
      "e\n",
      " \n",
      "c\n",
      "a\n",
      "t\n"
     ]
    }
   ],
   "source": [
    "string = \"Tisha the cat\"\n",
    "\n",
    "\n",
    "for i in string:\n",
    "    print(i)"
   ]
  },
  {
   "cell_type": "code",
   "execution_count": 10,
   "metadata": {},
   "outputs": [
    {
     "name": "stdout",
     "output_type": "stream",
     "text": [
      "T\n",
      "i\n",
      "s\n",
      "h\n",
      "a\n",
      " \n",
      "t\n",
      "h\n",
      "e\n",
      " \n",
      "c\n",
      "a\n",
      "t\n"
     ]
    }
   ],
   "source": [
    "string = \"Tisha the cat\"\n",
    "\n",
    "\n",
    "for i in range(len(string)):\n",
    "    print(string[i])"
   ]
  },
  {
   "cell_type": "code",
   "execution_count": 14,
   "metadata": {},
   "outputs": [
    {
     "name": "stdout",
     "output_type": "stream",
     "text": [
      "T\n",
      "i\n",
      "s\n",
      "h\n",
      "a\n",
      " \n",
      "t\n",
      "h\n",
      "e\n",
      " \n",
      "c\n",
      "a\n",
      "t\n"
     ]
    }
   ],
   "source": [
    "string = \"Tisha the cat\"\n",
    "i=0\n",
    "\n",
    "while i<len(string): \n",
    "    print(string[i])\n",
    "    i+=1"
   ]
  },
  {
   "cell_type": "code",
   "execution_count": 19,
   "metadata": {},
   "outputs": [
    {
     "name": "stdout",
     "output_type": "stream",
     "text": [
      "['ab', 'cD']\n",
      "['ab', 'cD']\n"
     ]
    }
   ],
   "source": [
    "x = ['ab', 'cD']\n",
    "for i in x:\n",
    "    i = i.upper()\n",
    "    print(x)"
   ]
  },
  {
   "cell_type": "code",
   "execution_count": 20,
   "metadata": {},
   "outputs": [
    {
     "data": {
      "text/plain": [
       "['red', 'blue', 'yellow']"
      ]
     },
     "execution_count": 20,
     "metadata": {},
     "output_type": "execute_result"
    }
   ],
   "source": [
    "colours = ['red','yellow','blue','black']\n",
    "colours.append('pink')\n",
    "colours[4] = colours[1]\n",
    "colours[::2]"
   ]
  },
  {
   "cell_type": "code",
   "execution_count": null,
   "metadata": {},
   "outputs": [],
   "source": []
  },
  {
   "cell_type": "code",
   "execution_count": null,
   "metadata": {},
   "outputs": [],
   "source": []
  },
  {
   "cell_type": "code",
   "execution_count": 34,
   "metadata": {},
   "outputs": [
    {
     "ename": "AttributeError",
     "evalue": "'tuple' object has no attribute 'sort'",
     "output_type": "error",
     "traceback": [
      "\u001B[0;31m---------------------------------------------------------------------------\u001B[0m",
      "\u001B[0;31mAttributeError\u001B[0m                            Traceback (most recent call last)",
      "\u001B[0;32m<ipython-input-34-3d3f9474c746>\u001B[0m in \u001B[0;36m<module>\u001B[0;34m\u001B[0m\n\u001B[1;32m      1\u001B[0m \u001B[0mtuple_a\u001B[0m \u001B[0;34m=\u001B[0m \u001B[0;34m(\u001B[0m\u001B[0;36m1\u001B[0m\u001B[0;34m,\u001B[0m\u001B[0;36m2\u001B[0m\u001B[0;34m,\u001B[0m\u001B[0;36m3\u001B[0m\u001B[0;34m,\u001B[0m\u001B[0;36m4\u001B[0m\u001B[0;34m,\u001B[0m\u001B[0;36m5\u001B[0m\u001B[0;34m)\u001B[0m\u001B[0;34m\u001B[0m\u001B[0;34m\u001B[0m\u001B[0m\n\u001B[0;32m----> 2\u001B[0;31m \u001B[0mtuple_a\u001B[0m\u001B[0;34m.\u001B[0m\u001B[0msort\u001B[0m\u001B[0;34m(\u001B[0m\u001B[0;34m)\u001B[0m\u001B[0;34m\u001B[0m\u001B[0;34m\u001B[0m\u001B[0m\n\u001B[0m",
      "\u001B[0;31mAttributeError\u001B[0m: 'tuple' object has no attribute 'sort'"
     ]
    }
   ],
   "source": [
    "tuple_a = (1,2,3,4,5)\n",
    "tuple_a.sort()"
   ]
  },
  {
   "cell_type": "code",
   "execution_count": 32,
   "metadata": {},
   "outputs": [
    {
     "ename": "AttributeError",
     "evalue": "'tuple' object has no attribute 'sort'",
     "output_type": "error",
     "traceback": [
      "\u001B[0;31m---------------------------------------------------------------------------\u001B[0m",
      "\u001B[0;31mAttributeError\u001B[0m                            Traceback (most recent call last)",
      "\u001B[0;32m<ipython-input-32-05f8375ce4e1>\u001B[0m in \u001B[0;36m<module>\u001B[0;34m\u001B[0m\n\u001B[1;32m      1\u001B[0m \u001B[0mtuple_a\u001B[0m \u001B[0;34m=\u001B[0m \u001B[0;34m(\u001B[0m\u001B[0;34m-\u001B[0m\u001B[0;36m50\u001B[0m\u001B[0;34m,\u001B[0m\u001B[0;36m60\u001B[0m\u001B[0;34m,\u001B[0m\u001B[0;36m400\u001B[0m\u001B[0;34m,\u001B[0m\u001B[0;36m3000\u001B[0m\u001B[0;34m,\u001B[0m\u001B[0;36m33\u001B[0m\u001B[0;34m)\u001B[0m\u001B[0;34m\u001B[0m\u001B[0;34m\u001B[0m\u001B[0m\n\u001B[0;32m----> 2\u001B[0;31m \u001B[0mtuple_a\u001B[0m\u001B[0;34m.\u001B[0m\u001B[0msort\u001B[0m\u001B[0;34m(\u001B[0m\u001B[0;34m)\u001B[0m\u001B[0;34m\u001B[0m\u001B[0;34m\u001B[0m\u001B[0m\n\u001B[0m\u001B[1;32m      3\u001B[0m \u001B[0mtuple_a\u001B[0m\u001B[0;34m.\u001B[0m\u001B[0mreverse\u001B[0m\u001B[0;34m(\u001B[0m\u001B[0;34m)\u001B[0m\u001B[0;34m\u001B[0m\u001B[0;34m\u001B[0m\u001B[0m\n\u001B[1;32m      4\u001B[0m \u001B[0;34m(\u001B[0m\u001B[0mprint\u001B[0m\u001B[0;34m(\u001B[0m\u001B[0mtuple_a\u001B[0m\u001B[0;34m)\u001B[0m\u001B[0;34m)\u001B[0m\u001B[0;34m\u001B[0m\u001B[0;34m\u001B[0m\u001B[0m\n",
      "\u001B[0;31mAttributeError\u001B[0m: 'tuple' object has no attribute 'sort'"
     ]
    }
   ],
   "source": [
    "tuple_a = (-50,60,400,3000,33)\n",
    "tuple_a.sort()\n",
    "tuple_a.reverse()\n",
    "(print(li_a))"
   ]
  },
  {
   "cell_type": "code",
   "execution_count": 38,
   "metadata": {},
   "outputs": [
    {
     "data": {
      "text/plain": [
       "dict_values([20, 29, 9000, 10])"
      ]
     },
     "execution_count": 38,
     "metadata": {},
     "output_type": "execute_result"
    }
   ],
   "source": [
    "d= {'Running': 45, 'Hiking': 101, 'Biking': 29, 'Walking': 9000}\n",
    "d['Swimming']=10\n",
    "\n",
    "d['Hiking']=20\n",
    "d.pop('Running')\n",
    "\n",
    "d.values()"
   ]
  },
  {
   "cell_type": "code",
   "execution_count": 42,
   "metadata": {},
   "outputs": [
    {
     "name": "stdout",
     "output_type": "stream",
     "text": [
      "d\n",
      "h\n",
      "l\n",
      "p\n"
     ]
    }
   ],
   "source": [
    "my_letters_list = ['abcd','efgh','ijkl','mnop']\n",
    "\n",
    "for string in my_letters_list:\n",
    "    print(string[-1])"
   ]
  },
  {
   "cell_type": "code",
   "execution_count": 132,
   "metadata": {},
   "outputs": [
    {
     "data": {
      "text/plain": [
       "'Etude in D Minor'"
      ]
     },
     "execution_count": 132,
     "metadata": {},
     "output_type": "execute_result"
    }
   ],
   "source": [
    "my_tuple = (\n",
    "    (['Bach','Invention in A Minor'], 1720),\n",
    "    (['Dussek','Sonatina in E Flat Major'], 1790),\n",
    "    (['Chopin','Prelude in B Minor'],1840),\n",
    "    (['Piazzolla', 'Milogna del Angel'], 1968),\n",
    "    (['Heller', 'Etude in D Minor'], 1844)\n",
    ")\n",
    "\n",
    "my_tuple[-1][0][-1]"
   ]
  },
  {
   "cell_type": "code",
   "execution_count": 140,
   "metadata": {},
   "outputs": [
    {
     "data": {
      "text/plain": [
       "[50, 30, 90]"
      ]
     },
     "execution_count": 140,
     "metadata": {},
     "output_type": "execute_result"
    }
   ],
   "source": [
    "number_list = [20,40,20,20,60,80]\n",
    "new_number_list = []\n",
    "\n",
    "for i in range(len(number_list)):\n",
    "    if i % 2 == 1:\n",
    "        number_list[i] += 10\n",
    "        new_number_list.append(number_list[i])\n",
    "\n",
    "new_number_list"
   ]
  },
  {
   "cell_type": "code",
   "execution_count": 127,
   "metadata": {},
   "outputs": [
    {
     "name": "stdout",
     "output_type": "stream",
     "text": [
      " J\n",
      "\t o\n",
      "\t\t s\n",
      "\t\t\t e\n",
      "\t\t\t\t p\n",
      "\t\t\t\t\t h\n"
     ]
    }
   ],
   "source": [
    "my_name = \"Joseph\"\n",
    "\n",
    "for i in range(len(my_name)):\n",
    "    print('\\t'*i , my_name[i])   "
   ]
  },
  {
   "cell_type": "markdown",
   "metadata": {},
   "source": [
    "# Solutions to Final Jeopardy"
   ]
  },
  {
   "attachments": {},
   "cell_type": "markdown",
   "metadata": {},
   "source": [
    "## Coding Question: Sine and Cosine Dictionary\n",
    "\n",
    "- Create a function that takes an angle in degrees as the argument, and outputs a list of the sine and cosine for each angle value (hint: use math functions radians, sin and cos)\n",
    "- Analyze a list of angles using your function: ```angles = [30, 40, 50, 60, 70]```\n",
    "- Insert the results into a dictionary that looks like this:\n",
    "```\n",
    "{30: [0.49999999999999994, 0.8660254037844387],\n",
    " 40: [0.6427876096865393, 0.7660444431189781],\n",
    " 50: [0.766044443118978, 0.6427876096865394],\n",
    " 60: [0.8660254037844386, 0.5000000000000001],\n",
    " 70: [0.9396926207859083, 0.3420201433256688]}\n",
    "```"
   ]
  },
  {
   "cell_type": "code",
   "execution_count": 85,
   "metadata": {},
   "outputs": [
    {
     "data": {
      "text/plain": [
       "{30: [0.49999999999999994, 0.8660254037844387],\n",
       " 40: [0.6427876096865393, 0.7660444431189781],\n",
       " 50: [0.766044443118978, 0.6427876096865394],\n",
       " 60: [0.8660254037844386, 0.5000000000000001],\n",
       " 70: [0.9396926207859083, 0.3420201433256688]}"
      ]
     },
     "execution_count": 85,
     "metadata": {},
     "output_type": "execute_result"
    }
   ],
   "source": [
    "import math\n",
    "\n",
    "angle_dictionary = {}\n",
    "\n",
    "def find_values(angle):\n",
    "    sine = math.sin(math.radians(angle))\n",
    "    cosine = math.cos(math.radians(angle))\n",
    "    \n",
    "    angle_list = [sine, cosine]\n",
    "    \n",
    "    return angle_list\n",
    "\n",
    "\n",
    "angles = [30, 40, 50, 60, 70]\n",
    "\n",
    "for angle in angles:\n",
    "    angle_dictionary[angle] = find_values(angle)\n",
    "    \n",
    "angle_dictionary"
   ]
  }
 ],
 "metadata": {
  "kernelspec": {
   "display_name": "Python 3",
   "language": "python",
   "name": "python3"
  },
  "language_info": {
   "codemirror_mode": {
    "name": "ipython",
    "version": 3
   },
   "file_extension": ".py",
   "mimetype": "text/x-python",
   "name": "python",
   "nbconvert_exporter": "python",
   "pygments_lexer": "ipython3",
   "version": "3.8.5"
  }
 },
 "nbformat": 4,
 "nbformat_minor": 4
}