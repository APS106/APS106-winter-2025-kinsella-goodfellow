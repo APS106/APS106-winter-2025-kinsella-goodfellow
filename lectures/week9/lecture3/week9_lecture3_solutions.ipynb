{
 "cells": [
  {
   "cell_type": "markdown",
   "id": "WSGF5MaO5oY6",
   "metadata": {
    "id": "WSGF5MaO5oY6"
   },
   "source": [
    "# APS106 - TERM TEST 2 JEOPARDY\n"
   ]
  },
  {
   "cell_type": "markdown",
   "id": "g6dLm1Wv5yP6",
   "metadata": {
    "id": "g6dLm1Wv5yP6"
   },
   "source": [
    "### Table of Contents"
   ]
  },
  {
   "cell_type": "markdown",
   "id": "KdTE2n2c2v6z",
   "metadata": {
    "colab_type": "toc",
    "id": "KdTE2n2c2v6z"
   },
   "source": [
    ">[🌀 STRANGER STRINGS](#scrollTo=ZbyCI7OszN3l)\n",
    "\n",
    ">>>>[🧪 Hawkins Lab Experiment - $250](#scrollTo=60fbc0c3f365b428)\n",
    "\n",
    ">>>>[📡 Dustin’s Secret Transmission - $500](#scrollTo=60af9d562d439df1)\n",
    "\n",
    ">>>>[🎭 Not everyone is who they seem - $1000](#scrollTo=b5342f01c93fc59d)\n",
    "\n",
    ">[🎮 Loop Wars](#scrollTo=kCUUfYfbzsJS)\n",
    "\n",
    ">>>>[💀 Loops of the Sith - $250](#scrollTo=db1cf9f9c738992b)\n",
    "\n",
    ">>>>[⚡ Descent into Darkness - $500](#scrollTo=81d24583a78e8ce7)\n",
    "\n",
    ">>>>[⚔️ \"Battle of Loops: The Files of Fate\" - $1000](#scrollTo=908f98546dfcfe56)\n",
    "\n",
    ">[🤖 The Boolean Identity](#scrollTo=2pesKr50zzax)\n",
    "\n",
    ">>>>[🕶 Agent Smith’s Logic Trap - $250](#scrollTo=1716b911a1689147)\n",
    "\n",
    ">>>>[💊 The Pill Dillema - $500](#scrollTo=bcded41764f4fd29)\n",
    "\n",
    ">>>>[☝️ The One Condition - $1000](#scrollTo=b8f2ec1341fc783e)\n",
    "\n",
    ">[🦇 The Batcode Rises](#scrollTo=G1ttEqpPz3bY)\n",
    "\n",
    ">>>>[💪 True power of the Dark Knight - $250](#scrollTo=706a38985873a9ea)\n",
    "\n",
    ">>>>[🃏 The Dark Knight’s Moral Code - $500](#scrollTo=c6686c151de1ea2)\n",
    "\n",
    ">>>>[🌉 WHERE IS HE?! - $1000](#scrollTo=45b8cf94db492a72)\n",
    "\n",
    ">[🔍 Mission: Code Extraction](#scrollTo=dsWr29Slz_FJ)\n",
    "\n",
    ">>>>[⌚ Timer Reset - $250](#scrollTo=93f463e693949a2a)\n",
    "\n",
    ">>>>[💣 The Countdown Protocol - $500](#scrollTo=93801978e4c66c7b)\n",
    "\n",
    ">>>>[🪤 The Loop Trap - $1000](#scrollTo=9ac85334e71b8c61)\n",
    "\n",
    ">[🏆 Final Jeopardy](#scrollTo=Pz6SyokR0CUR)\n",
    "\n",
    ">>>>[🌊 Mastering the ocean's flow](#scrollTo=f8419438ffdc5d94)\n",
    "\n"
   ]
  },
  {
   "cell_type": "markdown",
   "id": "ZbyCI7OszN3l",
   "metadata": {
    "id": "ZbyCI7OszN3l",
    "jp-MarkdownHeadingCollapsed": true
   },
   "source": [
    "# 🌀 LISTS\n"
   ]
  },
  {
   "cell_type": "markdown",
   "id": "60fbc0c3f365b428",
   "metadata": {
    "id": "60fbc0c3f365b428"
   },
   "source": [
    "#### 🧪 Hawkins Lab Experiment - $250"
   ]
  },
  {
   "cell_type": "code",
   "execution_count": 2,
   "id": "4cc699d4",
   "metadata": {
    "colab": {
     "base_uri": "https://localhost:8080/"
    },
    "id": "4cc699d4",
    "jupyter": {
     "is_executing": true
    },
    "outputId": "0a1ab9be-eb08-4526-fe6b-47e39a7c02fd"
   },
   "outputs": [
    {
     "data": {
      "text/plain": [
       "['red', 'blue', 'yellow']"
      ]
     },
     "execution_count": 2,
     "metadata": {},
     "output_type": "execute_result"
    }
   ],
   "source": [
    "# What is the output?\n",
    "\n",
    "colours = ['red', 'yellow', 'blue', 'black']\n",
    "colours.append('pink')\n",
    "colours[4] = colours[1]\n",
    "colours[::2]"
   ]
  },
  {
   "cell_type": "markdown",
   "id": "r6c7cIgz8cJz",
   "metadata": {
    "id": "r6c7cIgz8cJz"
   },
   "source": [
    "[Back to Questions](#scrollTo=g6dLm1Wv5yP6&line=1&uniqifier=1)"
   ]
  },
  {
   "cell_type": "markdown",
   "id": "60af9d562d439df1",
   "metadata": {
    "id": "60af9d562d439df1"
   },
   "source": [
    "#### 📡 Dustin’s Secret Transmission - $500"
   ]
  },
  {
   "cell_type": "code",
   "execution_count": 10,
   "id": "5f459630424563b8",
   "metadata": {
    "colab": {
     "base_uri": "https://localhost:8080/"
    },
    "id": "5f459630424563b8",
    "jupyter": {
     "is_executing": true
    },
    "outputId": "3d54d67a-999e-478a-8816-59e742877e50"
   },
   "outputs": [
    {
     "name": "stdout",
     "output_type": "stream",
     "text": [
      "[3000, 400, 60, 33, -50]\n"
     ]
    }
   ],
   "source": [
    "# How would you achieve this output from the below list (hint: 2 steps) -> [3000, 400, 60, 33, -50]?\n",
    "\n",
    "list_a = [-50, 60, 400, 3000, 33]\n",
    "list_a.sort() # Guess this 1\n",
    "list_a.reverse() # Guess this 2\n",
    "print(list_a)"
   ]
  },
  {
   "cell_type": "markdown",
   "id": "Afck6Lsa9Jmm",
   "metadata": {
    "id": "Afck6Lsa9Jmm"
   },
   "source": [
    "[Back to Questions](#scrollTo=g6dLm1Wv5yP6&line=1&uniqifier=1)"
   ]
  },
  {
   "cell_type": "markdown",
   "id": "b5342f01c93fc59d",
   "metadata": {
    "id": "b5342f01c93fc59d"
   },
   "source": [
    "#### 🎭 Not everyone is who they seem - $1000"
   ]
  },
  {
   "cell_type": "code",
   "execution_count": 12,
   "id": "o6m2RD-A_fQP",
   "metadata": {
    "colab": {
     "base_uri": "https://localhost:8080/"
    },
    "id": "o6m2RD-A_fQP",
    "outputId": "36411798-5d7b-4a04-bf01-ff979245f4cf"
   },
   "outputs": [
    {
     "data": {
      "text/plain": [
       "[50, 30, 90]"
      ]
     },
     "execution_count": 12,
     "metadata": {},
     "output_type": "execute_result"
    }
   ],
   "source": [
    "# What is the output?\n",
    "\n",
    "number_list = [20, 40, 20, 20, 60, 80]\n",
    "new_number_list = []\n",
    "\n",
    "for i in range(len(number_list)):\n",
    "    if i % 2 == 1:\n",
    "        number_list[i] += 10\n",
    "        new_number_list.append(number_list[i])\n",
    "\n",
    "new_number_list"
   ]
  },
  {
   "cell_type": "markdown",
   "id": "Fo5HQCe_9LZJ",
   "metadata": {
    "id": "Fo5HQCe_9LZJ"
   },
   "source": [
    "[Back to Questions](#scrollTo=g6dLm1Wv5yP6&line=1&uniqifier=1)"
   ]
  },
  {
   "cell_type": "markdown",
   "id": "kCUUfYfbzsJS",
   "metadata": {
    "id": "kCUUfYfbzsJS",
    "jp-MarkdownHeadingCollapsed": true
   },
   "source": [
    "\n",
    "\n",
    "---\n",
    "\n",
    "\n",
    "# 🎮 TUPLES AND SETS"
   ]
  },
  {
   "cell_type": "markdown",
   "id": "db1cf9f9c738992b",
   "metadata": {
    "id": "db1cf9f9c738992b"
   },
   "source": [
    "#### 💀 Loops of the Sith - $250"
   ]
  },
  {
   "cell_type": "code",
   "execution_count": 30,
   "id": "6b25f173",
   "metadata": {
    "colab": {
     "base_uri": "https://localhost:8080/",
     "height": 211
    },
    "id": "6b25f173",
    "jupyter": {
     "is_executing": true
    },
    "outputId": "10ba65d8-29fb-4fe4-c149-33db9cf3005e"
   },
   "outputs": [
    {
     "name": "stdout",
     "output_type": "stream",
     "text": [
      "Air Canada 5 ['Singapore Airlines', 'Emirates']\n"
     ]
    }
   ],
   "source": [
    "# What is the output?\n",
    "\n",
    "def airline_info():\n",
    "    airlines = ('Delta', 'Emirates', 'Ryanair', 'Singapore Airlines', 'Air Canada')\n",
    "    return sorted(airlines), len(airlines)\n",
    "\n",
    "sorted_airlines, count = airline_info()\n",
    "a, b, c, d, e = sorted_airlines\n",
    "cde = [c, d, e]\n",
    "\n",
    "print(a, count, cde[::-2])"
   ]
  },
  {
   "cell_type": "markdown",
   "id": "oPP_cZKMIT9K",
   "metadata": {
    "id": "oPP_cZKMIT9K"
   },
   "source": [
    "[Back to Questions](#scrollTo=g6dLm1Wv5yP6&line=1&uniqifier=1)"
   ]
  },
  {
   "cell_type": "markdown",
   "id": "81d24583a78e8ce7",
   "metadata": {
    "id": "81d24583a78e8ce7"
   },
   "source": [
    "#### ⚡ Descent into Darkness - $500"
   ]
  },
  {
   "cell_type": "code",
   "execution_count": 18,
   "id": "a5d4915ff9bb62e0",
   "metadata": {
    "colab": {
     "base_uri": "https://localhost:8080/"
    },
    "id": "a5d4915ff9bb62e0",
    "jupyter": {
     "is_executing": true
    },
    "outputId": "f143b3ba-07ad-4c0d-fb05-5330fa1b4049"
   },
   "outputs": [
    {
     "name": "stdout",
     "output_type": "stream",
     "text": [
      "Singapore Airlines\n",
      "Emirates\n"
     ]
    }
   ],
   "source": [
    "# What is the output?\n",
    "\n",
    "# This tuple contains the airline name, lsit of services, description\n",
    "my_tuple = (\n",
    "    ('Air Canada', ['Chartered', 'Domestic', 'International'], 'Skytrax 4-Star Airline'),\n",
    "    ('Delta Airlines', ['Domestic', 'International'], 'Major US Carrier'),\n",
    "    ('Ryanair', ['Chartered', 'Budget'], 'Low-Cost European Airline'),\n",
    "    ('Singapore Airlines', ['International', 'Luxury'], 'Awarded Best Airline'),\n",
    "    ('Emirates', ['International', 'Luxury'], 'Known for Premium Services')\n",
    ")\n",
    "\n",
    "x = my_tuple[-1][1][-1]\n",
    "for t in my_tuple:\n",
    "    if x in t[1]:\n",
    "        print(t[0])\n",
    "\n",
    "\n",
    "# Options\n",
    "\n",
    "# Singapore Airlines # Correct Answer\n",
    "# Emirates\n",
    "\n",
    "# Domestic\n",
    "# International\n",
    "# Luxury\n",
    "\n",
    "# Awarded\n",
    "# Best\n",
    "# Airline"
   ]
  },
  {
   "cell_type": "markdown",
   "id": "42tC0pbxIUUJ",
   "metadata": {
    "id": "42tC0pbxIUUJ"
   },
   "source": [
    "[Back to Questions](#scrollTo=g6dLm1Wv5yP6&line=1&uniqifier=1)"
   ]
  },
  {
   "cell_type": "markdown",
   "id": "908f98546dfcfe56",
   "metadata": {
    "id": "908f98546dfcfe56"
   },
   "source": [
    "#### ⚔️ \"Battle of Loops: The Files of Fate\" - $1000"
   ]
  },
  {
   "cell_type": "code",
   "execution_count": 35,
   "id": "2c4d67eda01e802f",
   "metadata": {
    "id": "2c4d67eda01e802f"
   },
   "outputs": [
    {
     "name": "stdout",
     "output_type": "stream",
     "text": [
      "{'Alice', 'Grace', 'Hannah', 'Charlie', 'Bob', 'Frank', 'David', 'Eve'}\n",
      "{'Charlie', 'Eve'}\n",
      "{'David', 'Alice', 'Bob'}\n"
     ]
    }
   ],
   "source": [
    "# Identify which output will give \n",
    "# A. Unique gift recipients, \n",
    "# B. Children appearing in both lists, \n",
    "# C. Forgotten kids\n",
    "\n",
    "def distribute_gifts():\n",
    "    santas_list = {'Alice', 'Bob', 'Charlie', 'David', 'Eve'}\n",
    "    elves_list = {'Charlie', 'Eve', 'Frank', 'Grace', 'Hannah'}\n",
    "\n",
    "    # Find final unique gift recipients using a loop (Union alternative)\n",
    "    x = set()\n",
    "    for child in santas_list | elves_list:  # Loop over the union\n",
    "        x.add(child)\n",
    "\n",
    "    # Children appearing in both lists (Using Intersection operator &)\n",
    "    y = santas_list & elves_list\n",
    "\n",
    "    # Forgotten kids (Originally planned but not in final list) using Difference operator (-)\n",
    "    z = santas_list - elves_list\n",
    "\n",
    "    print(x)\n",
    "    print(y)\n",
    "    print(z)\n",
    "\n",
    "distribute_gifts()\n"
   ]
  },
  {
   "cell_type": "markdown",
   "id": "7o4UihUoHbDb",
   "metadata": {
    "id": "7o4UihUoHbDb"
   },
   "source": [
    "[Back to Questions](#scrollTo=g6dLm1Wv5yP6&line=1&uniqifier=1)"
   ]
  },
  {
   "cell_type": "markdown",
   "id": "2pesKr50zzax",
   "metadata": {
    "id": "2pesKr50zzax",
    "jp-MarkdownHeadingCollapsed": true
   },
   "source": [
    "\n",
    "\n",
    "---\n",
    "\n",
    "\n",
    "# 🤖 Dictionary"
   ]
  },
  {
   "cell_type": "markdown",
   "id": "1716b911a1689147",
   "metadata": {
    "id": "1716b911a1689147"
   },
   "source": [
    "#### 🕶 Agent Smith’s Logic Trap - $250"
   ]
  },
  {
   "cell_type": "code",
   "execution_count": 38,
   "id": "185a638d",
   "metadata": {
    "id": "185a638d",
    "jupyter": {
     "is_executing": true
    }
   },
   "outputs": [
    {
     "data": {
      "text/plain": [
       "dict_values([20, 29, 9000, 10])"
      ]
     },
     "execution_count": 38,
     "metadata": {},
     "output_type": "execute_result"
    }
   ],
   "source": [
    "# What is the output?\n",
    "\n",
    "d = {'Running': 45, 'Hiking': 101, 'Biking': 29, 'Walking': 9000}\n",
    "d['Swimming'] = 10\n",
    "\n",
    "d['Hiking'] = 20\n",
    "d.pop('Running')\n",
    "\n",
    "d.values()"
   ]
  },
  {
   "cell_type": "markdown",
   "id": "iKN-D-rLJJ6J",
   "metadata": {
    "id": "iKN-D-rLJJ6J"
   },
   "source": [
    "[Back to Questions](#scrollTo=g6dLm1Wv5yP6&line=1&uniqifier=1)"
   ]
  },
  {
   "cell_type": "markdown",
   "id": "bcded41764f4fd29",
   "metadata": {
    "id": "bcded41764f4fd29"
   },
   "source": [
    "#### 💊 The Pill Dillema - $500"
   ]
  },
  {
   "cell_type": "code",
   "execution_count": 222,
   "id": "d38849b0-1de5-4f3d-b739-778dbf4442d2",
   "metadata": {},
   "outputs": [
    {
     "name": "stdout",
     "output_type": "stream",
     "text": [
      "apple 3\n"
     ]
    }
   ],
   "source": [
    "# What does the following code do?\n",
    "\n",
    "s = ['apple', 'banana', 'apple', 'orange', 'banana', 'apple']\n",
    "d = {}\n",
    "for w in s:\n",
    "    if w in d:\n",
    "        d[w] += 1\n",
    "    else:\n",
    "        d[w] = 1\n",
    "\n",
    "m = list(d.keys())[0]\n",
    "for key, value in d.items():\n",
    "    if d[key] > d[m]:\n",
    "        m = key\n",
    "\n",
    "print(m,d[m])\n",
    "\n",
    "# A) Finds the longest word in the string.\n",
    "\n",
    "# B) Counts occurrences of each word and prints the most frequent one.\n",
    "\n",
    "# C) Sorts words alphabetically and prints the first one.\n",
    "\n",
    "# D) Counts the number of unique words and prints the total."
   ]
  },
  {
   "cell_type": "markdown",
   "id": "5hK9tcJrJI60",
   "metadata": {
    "id": "5hK9tcJrJI60"
   },
   "source": [
    "[Back to Questions](#scrollTo=g6dLm1Wv5yP6&line=1&uniqifier=1)"
   ]
  },
  {
   "cell_type": "markdown",
   "id": "b8f2ec1341fc783e",
   "metadata": {
    "id": "b8f2ec1341fc783e"
   },
   "source": [
    "#### ☝️ The One Condition - $1000"
   ]
  },
  {
   "cell_type": "code",
   "execution_count": 149,
   "id": "7e809e7a01fb95cc",
   "metadata": {
    "id": "7e809e7a01fb95cc",
    "jupyter": {
     "is_executing": true
    }
   },
   "outputs": [],
   "source": [
    "# Only the output of this text file will be shown in the PPT\n",
    "\n",
    "# Writing a dictionary of grocery items and their counts to a file\n",
    "with open(\"grocery_dict.txt\", \"w\") as file:\n",
    "    file.write(str({\n",
    "        'apples': 5,\n",
    "        'bananas': 10,\n",
    "        'kiwi': 3,\n",
    "        'oranges': 8,\n",
    "        'grapes': 15\n",
    "    }))"
   ]
  },
  {
   "cell_type": "code",
   "execution_count": 151,
   "id": "jrgQLZkQKzJB",
   "metadata": {
    "colab": {
     "base_uri": "https://localhost:8080/"
    },
    "id": "jrgQLZkQKzJB",
    "outputId": "b9124c5c-c1ff-4c5c-ea7c-bdfdec288257"
   },
   "outputs": [
    {
     "name": "stdout",
     "output_type": "stream",
     "text": [
      "Original Dictionary (After Removal):\n",
      "{'apples': 5, 'kiwi': 3, 'oranges': 8, 'grapes': 15}\n",
      "\n",
      "Reversed Dictionary (With Reinsertion):\n",
      "{5: 'apples', 8: 'oranges', 15: 'grapes', 'bananas': 100}\n"
     ]
    }
   ],
   "source": [
    "# What is the output?\n",
    "\n",
    "with open(\"grocery_dict.txt\", \"r\") as file:\n",
    "    data = file.read()\n",
    "    grocery_dict = eval(data)\n",
    "\n",
    "removed_item = grocery_dict.pop(\"bananas\")\n",
    "\n",
    "reversed_dict = {}\n",
    "for item, quantity in grocery_dict.items():\n",
    "    reversed_dict[quantity] = item  \n",
    "\n",
    "reversed_dict[\"bananas\"] = 100\n",
    "\n",
    "removed_reversed_item = reversed_dict.pop(3) \n",
    "\n",
    "print(\"Original Dictionary (After Removal):\")\n",
    "print(grocery_dict)\n",
    "\n",
    "print(\"\\nReversed Dictionary (With Reinsertion):\")\n",
    "print(reversed_dict)"
   ]
  },
  {
   "cell_type": "markdown",
   "id": "1iPN5QduJLnW",
   "metadata": {
    "id": "1iPN5QduJLnW"
   },
   "source": [
    "[Back to Questions](#scrollTo=g6dLm1Wv5yP6&line=1&uniqifier=1)"
   ]
  },
  {
   "cell_type": "markdown",
   "id": "dsWr29Slz_FJ",
   "metadata": {
    "id": "dsWr29Slz_FJ",
    "jp-MarkdownHeadingCollapsed": true
   },
   "source": [
    "\n",
    "\n",
    "---\n",
    "\n",
    "\n",
    "\n",
    "# 🔍 Advanced Functions"
   ]
  },
  {
   "cell_type": "markdown",
   "id": "93f463e693949a2a",
   "metadata": {
    "id": "93f463e693949a2a"
   },
   "source": [
    "#### ⌚ Timer Reset - $250"
   ]
  },
  {
   "cell_type": "code",
   "execution_count": 117,
   "id": "43eed43bed35aeac",
   "metadata": {
    "colab": {
     "base_uri": "https://localhost:8080/"
    },
    "id": "43eed43bed35aeac",
    "jupyter": {
     "is_executing": true
    },
    "outputId": "3c87f64b-c145-4571-d5bf-52e648b934a8"
   },
   "outputs": [
    {
     "name": "stdout",
     "output_type": "stream",
     "text": [
      "False\n"
     ]
    }
   ],
   "source": [
    "# What is the output?\n",
    "\n",
    "x = [1, 1, 1, 2, 2, 3]\n",
    "\n",
    "def f(y=None):\n",
    "    if y is not None:\n",
    "        y = y\n",
    "    else:\n",
    "        y = set(x)\n",
    "    return sum(y)\n",
    "\n",
    "sum1 = f([1, 2, 3])\n",
    "sum2 = f()\n",
    "\n",
    "print(sum1 < sum2)"
   ]
  },
  {
   "cell_type": "markdown",
   "id": "f5lFYSzyJT8C",
   "metadata": {
    "id": "f5lFYSzyJT8C"
   },
   "source": [
    "[Back to Questions](#scrollTo=g6dLm1Wv5yP6&line=1&uniqifier=1)"
   ]
  },
  {
   "cell_type": "markdown",
   "id": "93801978e4c66c7b",
   "metadata": {
    "id": "93801978e4c66c7b"
   },
   "source": [
    "#### 💣 The Countdown Protocol - $500"
   ]
  },
  {
   "cell_type": "code",
   "execution_count": 153,
   "id": "770fd48610020462",
   "metadata": {
    "colab": {
     "base_uri": "https://localhost:8080/"
    },
    "id": "770fd48610020462",
    "outputId": "692a1e57-cda0-4361-f5ce-6284b3360ea7"
   },
   "outputs": [
    {
     "name": "stdout",
     "output_type": "stream",
     "text": [
      "1!10!20\n",
      "2!5!20\n",
      "3!10!15\n",
      "4&10&20\n"
     ]
    }
   ],
   "source": [
    "def f(x, y=10, z=20, sep=\"!\"):\n",
    "    print(x, y, z, sep=sep)\n",
    "\n",
    "f(1)\n",
    "f(2, 5)\n",
    "f(3, z=15)\n",
    "f(4, sep=\"&\")"
   ]
  },
  {
   "cell_type": "markdown",
   "id": "pBgXyLZMJV0I",
   "metadata": {
    "id": "pBgXyLZMJV0I"
   },
   "source": [
    "[Back to Questions](#scrollTo=g6dLm1Wv5yP6&line=1&uniqifier=1)"
   ]
  },
  {
   "cell_type": "markdown",
   "id": "9ac85334e71b8c61",
   "metadata": {
    "id": "9ac85334e71b8c61"
   },
   "source": [
    "#### 🪤 The Loop Trap - $1000"
   ]
  },
  {
   "cell_type": "code",
   "execution_count": 196,
   "id": "a0cca985d84a7788",
   "metadata": {
    "colab": {
     "base_uri": "https://localhost:8080/"
    },
    "id": "a0cca985d84a7788",
    "jupyter": {
     "is_executing": true
    },
    "outputId": "53d90ac2-fa60-46be-8743-15cd75ab4ad9"
   },
   "outputs": [
    {
     "name": "stdout",
     "output_type": "stream",
     "text": [
      "True\n"
     ]
    }
   ],
   "source": [
    "# What is the output?\n",
    "\n",
    "stop_words = {\"the\", \"and\", \"to\", \"a\", \"in\", \"is\", \"it\", \"you\", \"that\"}\n",
    "html_tags = [\"<p>\", \"</p>\", \"<div>\", \"</div>\", \"<br>\", \"<span>\", \"</span>\"]\n",
    "\n",
    "data = [\"<p>\", \"this\", \"is\", \"a\", \"sample\", \"post\", \"from\", \"reddit\", \"</p>\", \"with\", \"html\", \"tags\", \"and\", \"stop\", \"words\", \"like\", \"the\", \"and\", \"it\"]\n",
    "\n",
    "def clean_text(words, remove_stop=True, remove_tags=True):\n",
    "    result = []\n",
    "    for w in words:\n",
    "        if remove_stop and w in stop_words:\n",
    "            continue\n",
    "        if remove_tags and w in html_tags:\n",
    "            continue\n",
    "        result.append(w)\n",
    "    return result\n",
    "\n",
    "\n",
    "output = clean_text(data)\n",
    "\n",
    "print(clean_text(output, remove_tags=False) == output)"
   ]
  },
  {
   "cell_type": "markdown",
   "id": "LFvrULF1JXnX",
   "metadata": {
    "id": "LFvrULF1JXnX"
   },
   "source": [
    "[Back to Questions](#scrollTo=g6dLm1Wv5yP6&line=1&uniqifier=1)"
   ]
  },
  {
   "cell_type": "markdown",
   "id": "Pz6SyokR0CUR",
   "metadata": {
    "id": "Pz6SyokR0CUR"
   },
   "source": [
    "\n",
    "\n",
    "---\n",
    "\n",
    "\n",
    "# 🏆 Final Jeopardy"
   ]
  },
  {
   "cell_type": "markdown",
   "id": "QdNmmH1BL3tq",
   "metadata": {
    "id": "QdNmmH1BL3tq"
   },
   "source": [
    "### **Algorithm for Organizing and Filtering Scraped Book Data**  \n",
    "\n",
    "#### **Step 1: Define the Function `organize_books_by_genre`**\n",
    "1. **Initialize an empty dictionary** called `book_dict` to store genres and their books.  \n",
    "2. **Loop through each book tuple** in `book_list`:  \n",
    "   - Extract **title** (index `0`) and **genre** (index `3`).  \n",
    "   - **Check if the genre is already in the dictionary**:  \n",
    "     - If **YES**, add the book title to the existing list.  \n",
    "     - If **NO**, first create a new list for that genre, then add the book title.  \n",
    "3. **Return the final dictionary** where genres are keys and lists of book titles are values.  \n",
    "\n",
    "\n",
    "#### **Step 2: Define the Function `filter_books_by_price`**\n",
    "1. **Initialize an empty list** (`filtered_books`) to store books meeting the price condition.  \n",
    "2. **Loop through the book list**:  \n",
    "   - Extract **price** (index `2`).  \n",
    "   - If the price is **greater than or equal** to `min_price` (default `10.0`), add the book to `filtered_books`.  \n",
    "3. **Call `organize_books_by_genre`** on the filtered list and return the result.  \n",
    "\n",
    "\n",
    "Finally, call `filter_books_by_price(scraped_books)`"
   ]
  },
  {
   "cell_type": "code",
   "execution_count": 54,
   "id": "c0ebef12",
   "metadata": {
    "colab": {
     "base_uri": "https://localhost:8080/"
    },
    "id": "c0ebef12",
    "outputId": "834947a4-fd0a-4531-b801-199c8c48bc98"
   },
   "outputs": [],
   "source": [
    "scraped_books = [\n",
    "    (\"The Hobbit\", \"J.R.R. Tolkien\", 12.99, \"Fantasy\"),\n",
    "    (\"A Brief History of Time\", \"Stephen Hawking\", 15.50, \"Science\"),\n",
    "    (\"The Great Gatsby\", \"F. Scott Fitzgerald\", 10.99, \"Classic\"),\n",
    "    (\"1984\", \"George Orwell\", 9.99, \"Dystopian\"),\n",
    "    (\"The Catcher in the Rye\", \"J.D. Salinger\", 8.99, \"Classic\"),\n",
    "    (\"Harry Potter\", \"J.K. Rowling\", 20.99, \"Fantasy\"),\n",
    "    (\"The Theory of Everything\", \"Stephen Hawking\", 14.75, \"Science\"),\n",
    "    (\"Brave New World\", \"Aldous Huxley\", 11.50, \"Dystopian\"),\n",
    "]\n"
   ]
  },
  {
   "cell_type": "code",
   "execution_count": 56,
   "id": "IgencKa4lstN",
   "metadata": {
    "colab": {
     "base_uri": "https://localhost:8080/"
    },
    "id": "IgencKa4lstN",
    "outputId": "4946cbf2-928b-400b-e2a7-bb78e36bcb9a"
   },
   "outputs": [],
   "source": [
    "def organize_books_by_genre(book_list):\n",
    "    \"\"\"\n",
    "    Organizes books into a dictionary categorized by genre.\n",
    "    \"\"\"\n",
    "    book_dict = {}  # Initialize empty dictionary\n",
    "\n",
    "    for book in book_list:\n",
    "        title = book[0]  # Extract title\n",
    "        genre = book[3]  # Extract genre\n",
    "\n",
    "        if genre not in book_dict:\n",
    "            book_dict[genre] = []  # Create a new list if genre not present\n",
    "\n",
    "        book_dict[genre].append(title)  # Add book title to the genre list\n",
    "\n",
    "    return book_dict"
   ]
  },
  {
   "cell_type": "code",
   "execution_count": 60,
   "id": "39a6868a-be34-4788-a6cd-85db0f6fa4fe",
   "metadata": {},
   "outputs": [
    {
     "data": {
      "text/plain": [
       "{'Fantasy': ['The Hobbit', 'Harry Potter'],\n",
       " 'Science': ['A Brief History of Time', 'The Theory of Everything'],\n",
       " 'Classic': ['The Great Gatsby'],\n",
       " 'Dystopian': ['Brave New World']}"
      ]
     },
     "execution_count": 60,
     "metadata": {},
     "output_type": "execute_result"
    }
   ],
   "source": [
    "def filter_books_by_price(book_list, min_price=10.0):\n",
    "    \"\"\"\n",
    "    Filters books based on a minimum price and then organizes them by genre.\n",
    "    Uses the default parameter min_price=10.0 unless specified.\n",
    "    \"\"\"\n",
    "    filtered_books = []  # Create empty list for filtered books\n",
    "\n",
    "    for book in book_list:\n",
    "        price = book[2]  # Extract price\n",
    "        if price >= min_price:\n",
    "            filtered_books.append(book)  # Add book to the new list\n",
    "\n",
    "    return organize_books_by_genre(filtered_books)\n",
    "\n",
    "filter_books_by_price(scraped_books, min_price=10.0)"
   ]
  },
  {
   "cell_type": "markdown",
   "id": "J7BVWduvJaFF",
   "metadata": {
    "id": "J7BVWduvJaFF"
   },
   "source": [
    "[Back to Questions](#scrollTo=g6dLm1Wv5yP6&line=1&uniqifier=1)"
   ]
  },
  {
   "cell_type": "code",
   "execution_count": null,
   "id": "abd05abc-1674-4125-880f-972577373793",
   "metadata": {},
   "outputs": [],
   "source": []
  },
  {
   "cell_type": "markdown",
   "id": "38b36314-6f90-4ec0-8a40-6367985bb7ce",
   "metadata": {},
   "source": [
    "# OR"
   ]
  },
  {
   "cell_type": "markdown",
   "id": "8433f064-0dae-4cbf-bf10-c038af9156dc",
   "metadata": {},
   "source": [
    "### **Algorithm for `generate_email_recommendations`**  \n",
    "\n",
    "#### **Input:**  \n",
    "- `customers`: A list of dictionaries, where each dictionary contains:  \n",
    "  - `\"first_name\"` (string) → Customer’s first name  \n",
    "  - `\"purchases\"` (set) → Set of past purchases  \n",
    "  - `\"email\"` (string) → Customer’s email address  \n",
    "- `set_of_gadgets_in_stock`: A set containing available gadgets  \n",
    "- `email_template` (optional, default: `\"Check out our latest gadgets!\"`): A string used as the base email message  \n",
    "\n",
    "#### **Output:**  \n",
    "- A dictionary where:  \n",
    "  - The **keys** are customer emails  \n",
    "  - The **values** are dictionaries containing:  \n",
    "    - `\"email\"` → The customer's email address  \n",
    "    - `\"email_message\"` → A personalized message with recommendations  \n",
    "\n",
    "\n",
    "### **Steps:**  \n",
    "1. **Iterate through each customer** in `customers`:  \n",
    "   - Extract `\"first_name\"` from the customer dictionary.  \n",
    "   - Extract `\"email\"` from the customer dictionary.  \n",
    "   - Extract `\"purchases\"` (set of past purchases).  \n",
    "3. **Find the intersection** of the customer’s past purchases and `set_of_gadgets_in_stock` to determine the recommended gadgets.  \n",
    "4. **Construct the email message**:  \n",
    "   - Start with `\"Hello \" + first_name + \",\"` (Greeting).  \n",
    "   - Add the `email_template`.  \n",
    "   - Append the `recommendation_set` (converted to a string).  \n",
    "   - End with `\"Thank you\"`.  \n",
    "5. **Store the result in `email_dict`** with the email as the key and a dictionary containing the email and message as the value.  \n",
    "6. **Return `email_dict`** containing all the personalized recommendations."
   ]
  },
  {
   "cell_type": "code",
   "execution_count": 155,
   "id": "VJk4o-zZQsxy",
   "metadata": {
    "id": "VJk4o-zZQsxy"
   },
   "outputs": [],
   "source": [
    "customers = [\n",
    "    {\"first_name\": \"Alice\", \"purchases\": {\"iPhone\", \"MacBook\", \"AirPods\"}, \"email\": \"alice@example.com\"},\n",
    "    {\"first_name\": \"Bob\", \"purchases\": {\"Galaxy S21\", \"MacBook\", \"Surface Pro\"}, \"email\": \"bob@example.com\"}\n",
    "]\n",
    "\n",
    "set_of_gadgets_in_stock = {\"MacBook\", \"iPad\", \"Galaxy S21\"}"
   ]
  },
  {
   "cell_type": "code",
   "execution_count": 165,
   "id": "eabb96c8-dd63-4794-a6d3-de937bed4d56",
   "metadata": {},
   "outputs": [],
   "source": [
    "def generate_email_recommendations(customers, set_of_gadgets_in_stock, email_template=\"Check out our latest gadgets!\"):\n",
    "    \"\"\"\n",
    "    Generates a dictionary of email messages with recommended gadgets.\n",
    "    \"\"\"\n",
    "    email_dict = {}  # Store customer emails and messages\n",
    "    \n",
    "    for customer in customers:\n",
    "        first_name = customer[\"first_name\"]\n",
    "        email = customer[\"email\"]\n",
    "        past_purchases = customer[\"purchases\"]\n",
    "        \n",
    "        # Find intersection of past purchases and available stock\n",
    "        recommendation_set = past_purchases.intersection(set_of_gadgets_in_stock)\n",
    "        \n",
    "        # Create email message\n",
    "        email_message = \"Hello \" + first_name + \",\\n\" + email_template + \"\\n\" + str(recommendation_set) + \"\\nThank you\"\n",
    "\n",
    "        # Store in dictionary\n",
    "        email_dict[email] = {\"email\": email, \"email_message\": email_message}\n",
    "    \n",
    "    return email_dict\n"
   ]
  },
  {
   "cell_type": "code",
   "execution_count": 163,
   "id": "8cad3913-52bd-4d78-9fea-1f64683739fe",
   "metadata": {},
   "outputs": [
    {
     "data": {
      "text/plain": [
       "{'alice@example.com': {'email': 'alice@example.com',\n",
       "  'email_message': \"Hello Alice,\\nCheck out our latest gadgets!\\n{'MacBook'}\\nThank you\"},\n",
       " 'bob@example.com': {'email': 'bob@example.com',\n",
       "  'email_message': \"Hello Bob,\\nCheck out our latest gadgets!\\n{'MacBook', 'Galaxy S21'}\\nThank you\"}}"
      ]
     },
     "execution_count": 163,
     "metadata": {},
     "output_type": "execute_result"
    }
   ],
   "source": [
    "generate_email_recommendations(customers, set_of_gadgets_in_stock)"
   ]
  },
  {
   "cell_type": "code",
   "execution_count": null,
   "id": "3a50b61c-b3ca-425f-a618-f9efbf0a8694",
   "metadata": {},
   "outputs": [],
   "source": []
  }
 ],
 "metadata": {
  "colab": {
   "collapsed_sections": [
    "g6dLm1Wv5yP6",
    "ZbyCI7OszN3l",
    "60fbc0c3f365b428",
    "60af9d562d439df1",
    "b5342f01c93fc59d",
    "kCUUfYfbzsJS",
    "db1cf9f9c738992b",
    "81d24583a78e8ce7",
    "908f98546dfcfe56",
    "2pesKr50zzax",
    "1716b911a1689147",
    "bcded41764f4fd29",
    "b8f2ec1341fc783e",
    "G1ttEqpPz3bY",
    "706a38985873a9ea",
    "c6686c151de1ea2",
    "45b8cf94db492a72",
    "dsWr29Slz_FJ",
    "93f463e693949a2a",
    "93801978e4c66c7b",
    "9ac85334e71b8c61",
    "f8419438ffdc5d94"
   ],
   "provenance": []
  },
  "kernelspec": {
   "display_name": "Python [conda env:base] *",
   "language": "python",
   "name": "conda-base-py"
  },
  "language_info": {
   "codemirror_mode": {
    "name": "ipython",
    "version": 3
   },
   "file_extension": ".py",
   "mimetype": "text/x-python",
   "name": "python",
   "nbconvert_exporter": "python",
   "pygments_lexer": "ipython3",
   "version": "3.12.7"
  }
 },
 "nbformat": 4,
 "nbformat_minor": 5
}
