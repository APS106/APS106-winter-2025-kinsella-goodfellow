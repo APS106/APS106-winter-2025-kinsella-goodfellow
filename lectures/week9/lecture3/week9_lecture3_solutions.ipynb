{
 "cells": [
  {
   "cell_type": "markdown",
   "id": "WSGF5MaO5oY6",
   "metadata": {
    "id": "WSGF5MaO5oY6"
   },
   "source": [
    "# APS106 - TERM TEST 2 JEOPARDY"
   ]
  },
  {
   "cell_type": "markdown",
   "id": "g6dLm1Wv5yP6",
   "metadata": {
    "id": "g6dLm1Wv5yP6",
    "jp-MarkdownHeadingCollapsed": true
   },
   "source": [
    "### Table of Contents"
   ]
  },
  {
   "cell_type": "markdown",
   "id": "KdTE2n2c2v6z",
   "metadata": {
    "colab_type": "toc",
    "id": "KdTE2n2c2v6z"
   },
   "source": [
    ">[🎒 Pokémon GO: Catch ‘Em All](#scrollTo=ZbyCI7OszN3l)\n",
    "\n",
    ">>>>[Rearranging Pokémon Stats - $250](#scrollTo=60fbc0c3f365b428)\n",
    "\n",
    ">>>>[Pokémon Power Rankings - $500](#scrollTo=60af9d562d439df1)\n",
    "\n",
    ">>>>[Pokémon Training Boost - $1000](#scrollTo=b5342f01c93fc59d)\n",
    "\n",
    ">[🍄 Mario’s Coin Rush: Collect, Stack, and Win!](#scrollTo=kCUUfYfbzsJS)\n",
    "\n",
    ">>>>[Sorting Power-Ups in Mario’s Inventory - $250](#scrollTo=db1cf9f9c738992b)\n",
    "\n",
    ">>>>[Navigating the Warp Zones - $500](#scrollTo=81d24583a78e8ce7)\n",
    "\n",
    ">>>>[Collecting Coins and Bonus Lives - $1000](#scrollTo=908f98546dfcfe56)\n",
    "\n",
    ">[⛏️ Minecraft: Mastering Resources & Trades](#scrollTo=2pesKr50zzax)\n",
    "\n",
    ">>>>[Managing Your Minecraft Inventor - $250](#scrollTo=1716b911a1689147)\n",
    "\n",
    ">>>>[Resources in Your Chest - $500](#scrollTo=bcded41764f4fd29)\n",
    "\n",
    ">>>>[Trading with Villagers - $1000](#scrollTo=b8f2ec1341fc783e)\n",
    "\n",
    ">[🔥 Super Contra: Power-Up Tactics](#scrollTo=dsWr29Slz_FJ)\n",
    "\n",
    ">>>>[Extra Lives & Score Calculation - $250](#scrollTo=93f463e693949a2a)\n",
    "\n",
    ">>>>[Weapon Loadout Configuration - $500](#scrollTo=93801978e4c66c7b)\n",
    "\n",
    ">>>>[Filtering Enemy Waves & Obstacles - $1000](#scrollTo=9ac85334e71b8c61)\n",
    "\n",
    ">[🏆 The Squid Game Challenge: The Library of Survival](#scrollTo=Pz6SyokR0CUR)\n",
    "\n"
   ]
  },
  {
   "cell_type": "markdown",
   "id": "ZbyCI7OszN3l",
   "metadata": {
    "id": "ZbyCI7OszN3l",
    "jp-MarkdownHeadingCollapsed": true
   },
   "source": [
    "# 🎒 Pokémon GO: Catch ‘Em All"
   ]
  },
  {
   "cell_type": "markdown",
   "id": "60fbc0c3f365b428",
   "metadata": {
    "id": "60fbc0c3f365b428",
    "jp-MarkdownHeadingCollapsed": true
   },
   "source": [
    "#### Rearranging Pokémon Stats - $250"
   ]
  },
  {
   "cell_type": "code",
   "execution_count": null,
   "id": "4cc699d4",
   "metadata": {
    "colab": {
     "base_uri": "https://localhost:8080/"
    },
    "id": "4cc699d4",
    "jupyter": {
     "is_executing": true
    },
    "outputId": "0a1ab9be-eb08-4526-fe6b-47e39a7c02fd"
   },
   "outputs": [
    {
     "data": {
      "text/plain": [
       "['Pikachu', 'Squirtle', 'yellow']"
      ]
     },
     "execution_count": 234,
     "metadata": {},
     "output_type": "execute_result"
    }
   ],
   "source": [
    "# What is the output?\n",
    "\n",
    "pokemons = ['Pikachu', 'Charizard', 'Squirtle', 'Gengar']\n",
    "pokemons.append('pink')\n",
    "pokemons[4] = colours[1]\n",
    "pokemons[::2]"
   ]
  },
  {
   "cell_type": "markdown",
   "id": "r6c7cIgz8cJz",
   "metadata": {
    "id": "r6c7cIgz8cJz"
   },
   "source": [
    "[Back to Questions](#scrollTo=g6dLm1Wv5yP6&line=1&uniqifier=1)"
   ]
  },
  {
   "cell_type": "code",
   "execution_count": null,
   "id": "_zdaEfcITJc6",
   "metadata": {
    "id": "_zdaEfcITJc6"
   },
   "outputs": [],
   "source": []
  },
  {
   "cell_type": "code",
   "execution_count": null,
   "id": "gu5EbaQzTJbG",
   "metadata": {
    "id": "gu5EbaQzTJbG"
   },
   "outputs": [],
   "source": []
  },
  {
   "cell_type": "code",
   "execution_count": null,
   "id": "JqaV02ieTJY0",
   "metadata": {
    "id": "JqaV02ieTJY0"
   },
   "outputs": [],
   "source": []
  },
  {
   "cell_type": "code",
   "execution_count": null,
   "id": "1rNnJP8vTJV8",
   "metadata": {
    "id": "1rNnJP8vTJV8"
   },
   "outputs": [],
   "source": []
  },
  {
   "cell_type": "code",
   "execution_count": null,
   "id": "uYcD4nrsTI7Z",
   "metadata": {
    "id": "uYcD4nrsTI7Z"
   },
   "outputs": [],
   "source": []
  },
  {
   "cell_type": "markdown",
   "id": "60af9d562d439df1",
   "metadata": {
    "id": "60af9d562d439df1",
    "jp-MarkdownHeadingCollapsed": true
   },
   "source": [
    "#### Pokémon Power Rankings - $500"
   ]
  },
  {
   "cell_type": "code",
   "execution_count": null,
   "id": "5f459630424563b8",
   "metadata": {
    "colab": {
     "base_uri": "https://localhost:8080/"
    },
    "id": "5f459630424563b8",
    "jupyter": {
     "is_executing": true
    },
    "outputId": "3d54d67a-999e-478a-8816-59e742877e50"
   },
   "outputs": [
    {
     "name": "stdout",
     "output_type": "stream",
     "text": [
      "[3000, 400, 60, 33, -50]\n"
     ]
    }
   ],
   "source": [
    "# How would you achieve this output from the below list (hint: 2 steps) -> [3000, 400, 60, 33, -50]?\n",
    "\n",
    "pokemon_power_list = [-50, 60, 400, 3000, 33]\n",
    "pokemon_power_list.sort() # Guess this 1\n",
    "pokemon_power_list.reverse() # Guess this 2\n",
    "print(pokemon_power_list)"
   ]
  },
  {
   "cell_type": "markdown",
   "id": "Afck6Lsa9Jmm",
   "metadata": {
    "id": "Afck6Lsa9Jmm"
   },
   "source": [
    "[Back to Questions](#scrollTo=g6dLm1Wv5yP6&line=1&uniqifier=1)"
   ]
  },
  {
   "cell_type": "code",
   "execution_count": null,
   "id": "M1LuvurcTLPP",
   "metadata": {
    "id": "M1LuvurcTLPP"
   },
   "outputs": [],
   "source": []
  },
  {
   "cell_type": "code",
   "execution_count": null,
   "id": "QkP_DV_rTLNT",
   "metadata": {
    "id": "QkP_DV_rTLNT"
   },
   "outputs": [],
   "source": []
  },
  {
   "cell_type": "code",
   "execution_count": null,
   "id": "QkhVNj9ATLLA",
   "metadata": {
    "id": "QkhVNj9ATLLA"
   },
   "outputs": [],
   "source": []
  },
  {
   "cell_type": "code",
   "execution_count": null,
   "id": "Mk4hoYmsTLIs",
   "metadata": {
    "id": "Mk4hoYmsTLIs"
   },
   "outputs": [],
   "source": []
  },
  {
   "cell_type": "code",
   "execution_count": null,
   "id": "e-KWG300TLGS",
   "metadata": {
    "id": "e-KWG300TLGS"
   },
   "outputs": [],
   "source": []
  },
  {
   "cell_type": "code",
   "execution_count": null,
   "id": "Wcg9WSBwTLEK",
   "metadata": {
    "id": "Wcg9WSBwTLEK"
   },
   "outputs": [],
   "source": []
  },
  {
   "cell_type": "markdown",
   "id": "b5342f01c93fc59d",
   "metadata": {
    "id": "b5342f01c93fc59d",
    "jp-MarkdownHeadingCollapsed": true
   },
   "source": [
    "#### Pokémon Training Boost - $1000"
   ]
  },
  {
   "cell_type": "code",
   "execution_count": null,
   "id": "o6m2RD-A_fQP",
   "metadata": {
    "colab": {
     "base_uri": "https://localhost:8080/"
    },
    "id": "o6m2RD-A_fQP",
    "outputId": "36411798-5d7b-4a04-bf01-ff979245f4cf"
   },
   "outputs": [
    {
     "data": {
      "text/plain": [
       "[50, 30, 90]"
      ]
     },
     "execution_count": 227,
     "metadata": {},
     "output_type": "execute_result"
    }
   ],
   "source": [
    "# What is the output?\n",
    "\n",
    "pokemon_power_list = [20, 40, 20, 20, 60, 80]\n",
    "new_pokemon_power_list = []\n",
    "\n",
    "for i in range(len(pokemon_power_list)):\n",
    "    if i % 2 == 1:\n",
    "        pokemon_power_list[i] += 10\n",
    "        new_pokemon_power_list.append(pokemon_power_list[i])\n",
    "\n",
    "new_pokemon_power_list"
   ]
  },
  {
   "cell_type": "markdown",
   "id": "Fo5HQCe_9LZJ",
   "metadata": {
    "id": "Fo5HQCe_9LZJ"
   },
   "source": [
    "[Back to Questions](#scrollTo=g6dLm1Wv5yP6&line=1&uniqifier=1)"
   ]
  },
  {
   "cell_type": "code",
   "execution_count": null,
   "id": "kacTPxswTM0t",
   "metadata": {
    "id": "kacTPxswTM0t"
   },
   "outputs": [],
   "source": []
  },
  {
   "cell_type": "code",
   "execution_count": null,
   "id": "fE2ICD-bTMx9",
   "metadata": {
    "id": "fE2ICD-bTMx9"
   },
   "outputs": [],
   "source": []
  },
  {
   "cell_type": "code",
   "execution_count": null,
   "id": "tvlYhHsHTMvr",
   "metadata": {
    "id": "tvlYhHsHTMvr"
   },
   "outputs": [],
   "source": []
  },
  {
   "cell_type": "code",
   "execution_count": null,
   "id": "0YHpKf96TMtN",
   "metadata": {
    "id": "0YHpKf96TMtN"
   },
   "outputs": [],
   "source": []
  },
  {
   "cell_type": "code",
   "execution_count": null,
   "id": "GX69-UzgTMq7",
   "metadata": {
    "id": "GX69-UzgTMq7"
   },
   "outputs": [],
   "source": []
  },
  {
   "cell_type": "code",
   "execution_count": null,
   "id": "ESGbC02NTMoa",
   "metadata": {
    "id": "ESGbC02NTMoa"
   },
   "outputs": [],
   "source": []
  },
  {
   "cell_type": "markdown",
   "id": "kCUUfYfbzsJS",
   "metadata": {
    "id": "kCUUfYfbzsJS"
   },
   "source": [
    "\n",
    "\n",
    "---\n",
    "\n",
    "\n",
    "# 🍄 Mario’s Coin Rush: Collect, Stack, and Win!"
   ]
  },
  {
   "cell_type": "markdown",
   "id": "908f98546dfcfe56",
   "metadata": {
    "id": "908f98546dfcfe56",
    "jp-MarkdownHeadingCollapsed": true
   },
   "source": [
    "#### Collecting Coins and Bonus Lives - $250"
   ]
  },
  {
   "cell_type": "code",
   "execution_count": 85,
   "id": "2c4d67eda01e802f",
   "metadata": {
    "id": "2c4d67eda01e802f",
    "outputId": "cc467c2d-70c1-47a1-dadb-e69a9ea89c15"
   },
   "outputs": [
    {
     "name": "stdout",
     "output_type": "stream",
     "text": [
      "Coin C\n",
      "Coin E\n"
     ]
    }
   ],
   "source": [
    "# What is the output?\n",
    "\n",
    "world_1_coins = ('Coin A', 'Coin B', 'Coin C', 'Coin D', 'Coin E')\n",
    "world_2_coins = ('Coin C', 'Coin E', 'Coin F', 'Coin G', 'Coin H')\n",
    "\n",
    "for coin in world_1_coins:\n",
    "    if world_2_coins.count(coin) == 1:\n",
    "        print(coin)"
   ]
  },
  {
   "cell_type": "markdown",
   "id": "7o4UihUoHbDb",
   "metadata": {
    "id": "7o4UihUoHbDb"
   },
   "source": [
    "[Back to Questions](#scrollTo=g6dLm1Wv5yP6&line=1&uniqifier=1)"
   ]
  },
  {
   "cell_type": "code",
   "execution_count": null,
   "id": "ZTol0LKgTSD3",
   "metadata": {
    "id": "ZTol0LKgTSD3"
   },
   "outputs": [],
   "source": []
  },
  {
   "cell_type": "code",
   "execution_count": null,
   "id": "K0hX9ETeTSBk",
   "metadata": {
    "id": "K0hX9ETeTSBk"
   },
   "outputs": [],
   "source": []
  },
  {
   "cell_type": "code",
   "execution_count": null,
   "id": "FVJR7MuJTR_S",
   "metadata": {
    "id": "FVJR7MuJTR_S"
   },
   "outputs": [],
   "source": []
  },
  {
   "cell_type": "code",
   "execution_count": null,
   "id": "aGxFSJmUTR8-",
   "metadata": {
    "id": "aGxFSJmUTR8-"
   },
   "outputs": [],
   "source": []
  },
  {
   "cell_type": "code",
   "execution_count": null,
   "id": "Kh82kCc7TR6c",
   "metadata": {
    "id": "Kh82kCc7TR6c"
   },
   "outputs": [],
   "source": []
  },
  {
   "cell_type": "code",
   "execution_count": null,
   "id": "3wffNWiOTRzQ",
   "metadata": {
    "id": "3wffNWiOTRzQ"
   },
   "outputs": [],
   "source": []
  },
  {
   "cell_type": "code",
   "execution_count": null,
   "id": "P6cib8FHTRL2",
   "metadata": {
    "id": "P6cib8FHTRL2"
   },
   "outputs": [],
   "source": []
  },
  {
   "cell_type": "markdown",
   "id": "db1cf9f9c738992b",
   "metadata": {
    "id": "db1cf9f9c738992b",
    "jp-MarkdownHeadingCollapsed": true
   },
   "source": [
    "#### Power-Ups in Mario’s Inventory - $500"
   ]
  },
  {
   "cell_type": "code",
   "execution_count": 92,
   "id": "6b25f173",
   "metadata": {
    "colab": {
     "base_uri": "https://localhost:8080/",
     "height": 211
    },
    "id": "6b25f173",
    "jupyter": {
     "is_executing": true
    },
    "outputId": "10ba65d8-29fb-4fe4-c149-33db9cf3005e"
   },
   "outputs": [
    {
     "name": "stdout",
     "output_type": "stream",
     "text": [
      "Mushroom 5 ['Mega Mushroom', 'Super Star']\n"
     ]
    }
   ],
   "source": [
    "# What is the output?\n",
    "\n",
    "def power_up_info():\n",
    "    power_ups = ('Mushroom', 'Fire Flower', 'Super Star', '1-Up', 'Mega Mushroom')\n",
    "    return power_ups, len(power_ups)\n",
    "\n",
    "new_power_ups, count = power_up_info()\n",
    "a, b, c, d, e = new_power_ups\n",
    "cde = [c, d, e]\n",
    "\n",
    "print(a, count, cde[::-2])\n"
   ]
  },
  {
   "cell_type": "markdown",
   "id": "oPP_cZKMIT9K",
   "metadata": {
    "id": "oPP_cZKMIT9K"
   },
   "source": [
    "[Back to Questions](#scrollTo=g6dLm1Wv5yP6&line=1&uniqifier=1)"
   ]
  },
  {
   "cell_type": "code",
   "execution_count": null,
   "id": "PdF1m_FMTPi9",
   "metadata": {
    "id": "PdF1m_FMTPi9"
   },
   "outputs": [],
   "source": []
  },
  {
   "cell_type": "code",
   "execution_count": null,
   "id": "JUqj1N9yTPgt",
   "metadata": {
    "id": "JUqj1N9yTPgt"
   },
   "outputs": [],
   "source": []
  },
  {
   "cell_type": "code",
   "execution_count": null,
   "id": "pIcQEAdrTPee",
   "metadata": {
    "id": "pIcQEAdrTPee"
   },
   "outputs": [],
   "source": []
  },
  {
   "cell_type": "code",
   "execution_count": null,
   "id": "0zNeo5vGTPcT",
   "metadata": {
    "id": "0zNeo5vGTPcT"
   },
   "outputs": [],
   "source": []
  },
  {
   "cell_type": "code",
   "execution_count": null,
   "id": "Vb5ayc4ITPaQ",
   "metadata": {
    "id": "Vb5ayc4ITPaQ"
   },
   "outputs": [],
   "source": []
  },
  {
   "cell_type": "code",
   "execution_count": null,
   "id": "am_oUa5QTPXe",
   "metadata": {
    "id": "am_oUa5QTPXe"
   },
   "outputs": [],
   "source": []
  },
  {
   "cell_type": "markdown",
   "id": "81d24583a78e8ce7",
   "metadata": {
    "id": "81d24583a78e8ce7",
    "jp-MarkdownHeadingCollapsed": true
   },
   "source": [
    "#### Navigating the Warp Zones - $1000"
   ]
  },
  {
   "cell_type": "code",
   "execution_count": null,
   "id": "a5d4915ff9bb62e0",
   "metadata": {
    "colab": {
     "base_uri": "https://localhost:8080/"
    },
    "id": "a5d4915ff9bb62e0",
    "jupyter": {
     "is_executing": true
    },
    "outputId": "f143b3ba-07ad-4c0d-fb05-5330fa1b4049"
   },
   "outputs": [
    {
     "name": "stdout",
     "output_type": "stream",
     "text": [
      "Underwater\n",
      "Secret Warp\n"
     ]
    }
   ],
   "source": [
    "# This tuple contains the warp zone name, list of levels it connects to, and points earned\n",
    "warp_zones = (\n",
    "    ('Underground', ['Level 1', 'Level 2'], 100),\n",
    "    ('Sky', ['Level 2', 'Level 3'], 200),\n",
    "    ('Castle', ['Level 3', 'Level 4'], 300),\n",
    "    ('Underwater', ['Level 3', 'Level 4', 'Final Level'], 400),\n",
    "    ('Secret Warp', ['Level 4', 'Final Level'], 500)\n",
    ")\n",
    "\n",
    "x = warp_zones[-1][1][-1]\n",
    "for warp in warp_zones:\n",
    "    if x in warp[1]:\n",
    "        print(warp[0])\n",
    "\n",
    "\n",
    "# Options\n",
    "\n",
    "# Underwater\n",
    "# Secret Warp\n",
    "\n",
    "# Level 3\n",
    "# Level 4\n",
    "# Final Level\n",
    "\n",
    "# 100\n",
    "# 200\n",
    "# 300"
   ]
  },
  {
   "cell_type": "markdown",
   "id": "42tC0pbxIUUJ",
   "metadata": {
    "id": "42tC0pbxIUUJ"
   },
   "source": [
    "[Back to Questions](#scrollTo=g6dLm1Wv5yP6&line=1&uniqifier=1)"
   ]
  },
  {
   "cell_type": "code",
   "execution_count": null,
   "id": "QymNRRRXTQl8",
   "metadata": {
    "id": "QymNRRRXTQl8"
   },
   "outputs": [],
   "source": []
  },
  {
   "cell_type": "code",
   "execution_count": null,
   "id": "jogbeKiWTQjw",
   "metadata": {
    "id": "jogbeKiWTQjw"
   },
   "outputs": [],
   "source": []
  },
  {
   "cell_type": "code",
   "execution_count": null,
   "id": "qkX20VzXTQhJ",
   "metadata": {
    "id": "qkX20VzXTQhJ"
   },
   "outputs": [],
   "source": []
  },
  {
   "cell_type": "code",
   "execution_count": null,
   "id": "rd5C6pAsTQcl",
   "metadata": {
    "id": "rd5C6pAsTQcl"
   },
   "outputs": [],
   "source": []
  },
  {
   "cell_type": "code",
   "execution_count": null,
   "id": "vbh3ki7DTQaK",
   "metadata": {
    "id": "vbh3ki7DTQaK"
   },
   "outputs": [],
   "source": []
  },
  {
   "cell_type": "markdown",
   "id": "2pesKr50zzax",
   "metadata": {
    "id": "2pesKr50zzax"
   },
   "source": [
    "\n",
    "\n",
    "---\n",
    "\n",
    "\n",
    "# ⛏️ Minecraft: Mastering Resources & Trades"
   ]
  },
  {
   "cell_type": "markdown",
   "id": "1716b911a1689147",
   "metadata": {
    "id": "1716b911a1689147",
    "jp-MarkdownHeadingCollapsed": true
   },
   "source": [
    "#### Managing Your Minecraft Inventor - $250"
   ]
  },
  {
   "cell_type": "code",
   "execution_count": 53,
   "id": "185a638d",
   "metadata": {
    "id": "185a638d",
    "jupyter": {
     "is_executing": true
    },
    "outputId": "f761fdf7-59f0-4150-fee6-8460bd8096dd"
   },
   "outputs": [
    {
     "name": "stdout",
     "output_type": "stream",
     "text": [
      "dict_values([20, 29, 9000, 10])\n"
     ]
    }
   ],
   "source": [
    "# What is the output?\n",
    "\n",
    "inventory = {'Wood': 45, 'Stone': 101, 'Iron': 29, 'Diamond': 9000}\n",
    "inventory['Gold'] = 10\n",
    "\n",
    "inventory['Stone'] = 20\n",
    "inventory.pop('Wood')\n",
    "\n",
    "print(inventory.values())"
   ]
  },
  {
   "cell_type": "markdown",
   "id": "iKN-D-rLJJ6J",
   "metadata": {
    "id": "iKN-D-rLJJ6J"
   },
   "source": [
    "[Back to Questions](#scrollTo=g6dLm1Wv5yP6&line=1&uniqifier=1)"
   ]
  },
  {
   "cell_type": "code",
   "execution_count": null,
   "id": "WrzkFvelTbOX",
   "metadata": {
    "id": "WrzkFvelTbOX"
   },
   "outputs": [],
   "source": []
  },
  {
   "cell_type": "code",
   "execution_count": null,
   "id": "dv3XNFB5TbLj",
   "metadata": {
    "id": "dv3XNFB5TbLj"
   },
   "outputs": [],
   "source": []
  },
  {
   "cell_type": "code",
   "execution_count": null,
   "id": "jtZ4pyqVTbJB",
   "metadata": {
    "id": "jtZ4pyqVTbJB"
   },
   "outputs": [],
   "source": []
  },
  {
   "cell_type": "code",
   "execution_count": null,
   "id": "PjXQInYpTbGl",
   "metadata": {
    "id": "PjXQInYpTbGl"
   },
   "outputs": [],
   "source": []
  },
  {
   "cell_type": "code",
   "execution_count": null,
   "id": "c361rvbdTbER",
   "metadata": {
    "id": "c361rvbdTbER"
   },
   "outputs": [],
   "source": []
  },
  {
   "cell_type": "code",
   "execution_count": null,
   "id": "Na5WREGUTbBx",
   "metadata": {
    "id": "Na5WREGUTbBx"
   },
   "outputs": [],
   "source": []
  },
  {
   "cell_type": "code",
   "execution_count": null,
   "id": "RTjpA75FTa-4",
   "metadata": {
    "id": "RTjpA75FTa-4"
   },
   "outputs": [],
   "source": []
  },
  {
   "cell_type": "markdown",
   "id": "bcded41764f4fd29",
   "metadata": {
    "id": "bcded41764f4fd29",
    "jp-MarkdownHeadingCollapsed": true
   },
   "source": [
    "#### Resources in Your Chest - $500"
   ]
  },
  {
   "cell_type": "code",
   "execution_count": 75,
   "id": "d38849b0-1de5-4f3d-b739-778dbf4442d2",
   "metadata": {
    "id": "d38849b0-1de5-4f3d-b739-778dbf4442d2",
    "outputId": "dd4b93ef-0863-4c3e-d485-a22083e798ac"
   },
   "outputs": [
    {
     "name": "stdout",
     "output_type": "stream",
     "text": [
      "{'Iron': 3, 'Gold': 2, 'Diamond': 1}\n"
     ]
    }
   ],
   "source": [
    "# What does the following code do?\n",
    "\n",
    "resources = ['Iron', 'Gold', 'Iron', 'Diamond', 'Gold', 'Iron']\n",
    "inventory = {}\n",
    "\n",
    "for item in resources:\n",
    "    if item in inventory:\n",
    "        inventory[item] += 1\n",
    "    else:\n",
    "        inventory[item] = 1\n",
    "\n",
    "print(inventory)\n",
    "\n",
    "\n",
    "# A) stores the longest word in the string.\n",
    "\n",
    "# B) Counts occurrences of each word and stores it in a dictionary.\n",
    "\n",
    "# C) Sorts words alphabetically and stores the first one.\n",
    "\n",
    "# D) Counts the number of unique words and stores the total."
   ]
  },
  {
   "cell_type": "markdown",
   "id": "5hK9tcJrJI60",
   "metadata": {
    "id": "5hK9tcJrJI60"
   },
   "source": [
    "[Back to Questions](#scrollTo=g6dLm1Wv5yP6&line=1&uniqifier=1)"
   ]
  },
  {
   "cell_type": "code",
   "execution_count": null,
   "id": "f08Rb6VoTcm4",
   "metadata": {
    "id": "f08Rb6VoTcm4"
   },
   "outputs": [],
   "source": []
  },
  {
   "cell_type": "code",
   "execution_count": null,
   "id": "pHWEhYIpTckV",
   "metadata": {
    "id": "pHWEhYIpTckV"
   },
   "outputs": [],
   "source": []
  },
  {
   "cell_type": "code",
   "execution_count": null,
   "id": "C0BhraAPTch9",
   "metadata": {
    "id": "C0BhraAPTch9"
   },
   "outputs": [],
   "source": []
  },
  {
   "cell_type": "code",
   "execution_count": null,
   "id": "IiN2SQuITcfz",
   "metadata": {
    "id": "IiN2SQuITcfz"
   },
   "outputs": [],
   "source": []
  },
  {
   "cell_type": "code",
   "execution_count": null,
   "id": "QmqmjBzgTcaX",
   "metadata": {
    "id": "QmqmjBzgTcaX"
   },
   "outputs": [],
   "source": []
  },
  {
   "cell_type": "code",
   "execution_count": null,
   "id": "jAcy1QRKTcW7",
   "metadata": {
    "id": "jAcy1QRKTcW7"
   },
   "outputs": [],
   "source": []
  },
  {
   "cell_type": "code",
   "execution_count": null,
   "id": "jpFtux5hTbz8",
   "metadata": {
    "id": "jpFtux5hTbz8"
   },
   "outputs": [],
   "source": []
  },
  {
   "cell_type": "markdown",
   "id": "b8f2ec1341fc783e",
   "metadata": {
    "id": "b8f2ec1341fc783e",
    "jp-MarkdownHeadingCollapsed": true
   },
   "source": [
    "#### Trading with Villagers - $1000"
   ]
  },
  {
   "cell_type": "code",
   "execution_count": 69,
   "id": "jrgQLZkQKzJB",
   "metadata": {
    "colab": {
     "base_uri": "https://localhost:8080/"
    },
    "id": "jrgQLZkQKzJB",
    "outputId": "b9124c5c-c1ff-4c5c-ea7c-bdfdec288257"
   },
   "outputs": [
    {
     "name": "stdout",
     "output_type": "stream",
     "text": [
      "{5: 'Emerald', 10: 'Gold Ingot', 8: 'Diamond', 15: 'Redstone'}\n"
     ]
    }
   ],
   "source": [
    "# What is the output?\n",
    "\n",
    "trade_inventory = {\n",
    "        'Emerald': 5,\n",
    "        'Gold Ingot': 10,\n",
    "        'Iron Ingot': 3,\n",
    "        'Diamond': 8,\n",
    "        'Redstone': 15\n",
    "    }\n",
    "\n",
    "x = {}\n",
    "for item, quantity in trade_inventory.items():\n",
    "    x[quantity] = item\n",
    "\n",
    "removed_item = x.pop(3)\n",
    "\n",
    "print(x)"
   ]
  },
  {
   "cell_type": "markdown",
   "id": "1iPN5QduJLnW",
   "metadata": {
    "id": "1iPN5QduJLnW"
   },
   "source": [
    "[Back to Questions](#scrollTo=g6dLm1Wv5yP6&line=1&uniqifier=1)"
   ]
  },
  {
   "cell_type": "code",
   "execution_count": null,
   "id": "V5zh0_6jTc_h",
   "metadata": {
    "id": "V5zh0_6jTc_h"
   },
   "outputs": [],
   "source": []
  },
  {
   "cell_type": "code",
   "execution_count": null,
   "id": "PRa9etYjTdxu",
   "metadata": {
    "id": "PRa9etYjTdxu"
   },
   "outputs": [],
   "source": []
  },
  {
   "cell_type": "code",
   "execution_count": null,
   "id": "clPtFRlVTdu7",
   "metadata": {
    "id": "clPtFRlVTdu7"
   },
   "outputs": [],
   "source": []
  },
  {
   "cell_type": "code",
   "execution_count": null,
   "id": "sIwjd91aTdsh",
   "metadata": {
    "id": "sIwjd91aTdsh"
   },
   "outputs": [],
   "source": []
  },
  {
   "cell_type": "code",
   "execution_count": null,
   "id": "gcs1dNFiTdqk",
   "metadata": {
    "id": "gcs1dNFiTdqk"
   },
   "outputs": [],
   "source": []
  },
  {
   "cell_type": "code",
   "execution_count": null,
   "id": "kUJeY-1ZTdoD",
   "metadata": {
    "id": "kUJeY-1ZTdoD"
   },
   "outputs": [],
   "source": []
  },
  {
   "cell_type": "code",
   "execution_count": null,
   "id": "682yuvWVTdla",
   "metadata": {
    "id": "682yuvWVTdla"
   },
   "outputs": [],
   "source": []
  },
  {
   "cell_type": "markdown",
   "id": "dsWr29Slz_FJ",
   "metadata": {
    "id": "dsWr29Slz_FJ"
   },
   "source": [
    "\n",
    "\n",
    "---\n",
    "\n",
    "\n",
    "\n",
    "# 🔥 Super Contra: Power-Up Tactics"
   ]
  },
  {
   "cell_type": "markdown",
   "id": "93f463e693949a2a",
   "metadata": {
    "id": "93f463e693949a2a",
    "jp-MarkdownHeadingCollapsed": true
   },
   "source": [
    "#### Upgrading Weapons - $250"
   ]
  },
  {
   "cell_type": "code",
   "execution_count": 73,
   "id": "e5b17420-de9c-4772-9ab0-720e254e52c6",
   "metadata": {},
   "outputs": [
    {
     "name": "stdout",
     "output_type": "stream",
     "text": [
      "[1, 2, 3, 4]\n"
     ]
    }
   ],
   "source": [
    "# What is the output?\n",
    "\n",
    "def modify_list(a):\n",
    "    a.append(4)\n",
    "    a = [5, 6, 7]\n",
    "    a.append(8)\n",
    " \n",
    "x = [1, 2, 3]\n",
    "modify_list(x)\n",
    "print(x)\n",
    "\n",
    "# MACHINE GUN\n",
    "# LASER\n",
    "\n",
    "# ['machine gun', 'Laser']\n",
    "# ['machine gun', 'Laser']"
   ]
  },
  {
   "cell_type": "markdown",
   "id": "f5lFYSzyJT8C",
   "metadata": {
    "id": "f5lFYSzyJT8C"
   },
   "source": [
    "[Back to Questions](#scrollTo=g6dLm1Wv5yP6&line=1&uniqifier=1)"
   ]
  },
  {
   "cell_type": "code",
   "execution_count": null,
   "id": "U80k4dQrThMK",
   "metadata": {
    "id": "U80k4dQrThMK"
   },
   "outputs": [],
   "source": []
  },
  {
   "cell_type": "code",
   "execution_count": null,
   "id": "O3CdXIsXThKQ",
   "metadata": {
    "id": "O3CdXIsXThKQ"
   },
   "outputs": [],
   "source": []
  },
  {
   "cell_type": "code",
   "execution_count": null,
   "id": "EYFt1un9ThH2",
   "metadata": {
    "id": "EYFt1un9ThH2"
   },
   "outputs": [],
   "source": []
  },
  {
   "cell_type": "code",
   "execution_count": null,
   "id": "sLYScuK7ThF2",
   "metadata": {
    "id": "sLYScuK7ThF2"
   },
   "outputs": [],
   "source": []
  },
  {
   "cell_type": "code",
   "execution_count": null,
   "id": "vsKwdznTThDw",
   "metadata": {
    "id": "vsKwdznTThDw"
   },
   "outputs": [],
   "source": []
  },
  {
   "cell_type": "code",
   "execution_count": null,
   "id": "vw1gAuoeThAl",
   "metadata": {
    "id": "vw1gAuoeThAl"
   },
   "outputs": [],
   "source": []
  },
  {
   "cell_type": "markdown",
   "id": "93801978e4c66c7b",
   "metadata": {
    "id": "93801978e4c66c7b",
    "jp-MarkdownHeadingCollapsed": true
   },
   "source": [
    "#### Weapon Loadout Configuration - $500"
   ]
  },
  {
   "cell_type": "code",
   "execution_count": null,
   "id": "770fd48610020462",
   "metadata": {
    "colab": {
     "base_uri": "https://localhost:8080/"
    },
    "id": "770fd48610020462",
    "outputId": "692a1e57-cda0-4361-f5ce-6284b3360ea7"
   },
   "outputs": [
    {
     "name": "stdout",
     "output_type": "stream",
     "text": [
      "1 Single 10 Single 20\n",
      "2 Single 5 Single 20\n",
      "3 Single 10 Single 15\n",
      "4 Rapid-Fire 10 Rapid-Fire 20\n"
     ]
    }
   ],
   "source": [
    "# What's the output?\n",
    "\n",
    "def equip_weapon(ammo, grenades=10, rockets=20, sep=\" Single \"):\n",
    "    print(ammo, grenades, rockets, sep=sep)\n",
    "\n",
    "equip_weapon(1)\n",
    "equip_weapon(2, 5)\n",
    "equip_weapon(3, rockets=15)\n",
    "equip_weapon(4, sep=\" Rapid-Fire \")"
   ]
  },
  {
   "cell_type": "markdown",
   "id": "pBgXyLZMJV0I",
   "metadata": {
    "id": "pBgXyLZMJV0I"
   },
   "source": [
    "[Back to Questions](#scrollTo=g6dLm1Wv5yP6&line=1&uniqifier=1)"
   ]
  },
  {
   "cell_type": "code",
   "execution_count": null,
   "id": "q2AMBoGCTijh",
   "metadata": {
    "id": "q2AMBoGCTijh"
   },
   "outputs": [],
   "source": []
  },
  {
   "cell_type": "code",
   "execution_count": null,
   "id": "uBYd6f4XTihG",
   "metadata": {
    "id": "uBYd6f4XTihG"
   },
   "outputs": [],
   "source": []
  },
  {
   "cell_type": "code",
   "execution_count": null,
   "id": "Dki_tXLlTifF",
   "metadata": {
    "id": "Dki_tXLlTifF"
   },
   "outputs": [],
   "source": []
  },
  {
   "cell_type": "code",
   "execution_count": null,
   "id": "WBWPBusmTic2",
   "metadata": {
    "id": "WBWPBusmTic2"
   },
   "outputs": [],
   "source": []
  },
  {
   "cell_type": "code",
   "execution_count": null,
   "id": "DHJJ89UeTiaU",
   "metadata": {
    "id": "DHJJ89UeTiaU"
   },
   "outputs": [],
   "source": []
  },
  {
   "cell_type": "code",
   "execution_count": null,
   "id": "BgLmAg0NTiXU",
   "metadata": {
    "id": "BgLmAg0NTiXU"
   },
   "outputs": [],
   "source": []
  },
  {
   "cell_type": "markdown",
   "id": "9ac85334e71b8c61",
   "metadata": {
    "id": "9ac85334e71b8c61",
    "jp-MarkdownHeadingCollapsed": true
   },
   "source": [
    "#### Extra Lives & Score Calculation - $1000"
   ]
  },
  {
   "cell_type": "code",
   "execution_count": 88,
   "id": "a0cca985d84a7788",
   "metadata": {
    "colab": {
     "base_uri": "https://localhost:8080/"
    },
    "id": "a0cca985d84a7788",
    "jupyter": {
     "is_executing": true
    },
    "outputId": "53d90ac2-fa60-46be-8743-15cd75ab4ad9"
   },
   "outputs": [
    {
     "name": "stdout",
     "output_type": "stream",
     "text": [
      "((1, 2, 3, 1), [3, 5, 8])\n",
      "((4, 5, 2), [3, 5, 8])\n",
      "((6, 7, 8, 3), [3, 5, 8])\n"
     ]
    }
   ],
   "source": [
    "# What is the output?\n",
    "\n",
    "def modify_values(numbers=(1, 2, 3), data=[]):\n",
    "    data.append(numbers[-1])\n",
    "    numbers = numbers + (len(data),)\n",
    "    return numbers, data\n",
    "\n",
    "result1 = modify_values()\n",
    "result2 = modify_values((4, 5))\n",
    "result3 = modify_values((6, 7, 8))\n",
    "\n",
    "print(result1)\n",
    "print(result2)\n",
    "print(result3)"
   ]
  },
  {
   "cell_type": "markdown",
   "id": "LFvrULF1JXnX",
   "metadata": {
    "id": "LFvrULF1JXnX"
   },
   "source": [
    "[Back to Questions](#scrollTo=g6dLm1Wv5yP6&line=1&uniqifier=1)"
   ]
  },
  {
   "cell_type": "code",
   "execution_count": null,
   "id": "Vr4nlL5ZTlvL",
   "metadata": {
    "id": "Vr4nlL5ZTlvL"
   },
   "outputs": [],
   "source": []
  },
  {
   "cell_type": "code",
   "execution_count": null,
   "id": "fOp7l45MTlrW",
   "metadata": {
    "id": "fOp7l45MTlrW"
   },
   "outputs": [],
   "source": []
  },
  {
   "cell_type": "code",
   "execution_count": null,
   "id": "qm0wwfuETlof",
   "metadata": {
    "id": "qm0wwfuETlof"
   },
   "outputs": [],
   "source": []
  },
  {
   "cell_type": "code",
   "execution_count": null,
   "id": "tlwSPEaQTlkg",
   "metadata": {
    "id": "tlwSPEaQTlkg"
   },
   "outputs": [],
   "source": []
  },
  {
   "cell_type": "code",
   "execution_count": null,
   "id": "lYgBHh2fTlhk",
   "metadata": {
    "id": "lYgBHh2fTlhk"
   },
   "outputs": [],
   "source": []
  },
  {
   "cell_type": "code",
   "execution_count": null,
   "id": "XDyZYUOKTlfO",
   "metadata": {
    "id": "XDyZYUOKTlfO"
   },
   "outputs": [],
   "source": []
  },
  {
   "cell_type": "code",
   "execution_count": null,
   "id": "piiUnET5Tlc7",
   "metadata": {
    "id": "piiUnET5Tlc7"
   },
   "outputs": [],
   "source": []
  },
  {
   "cell_type": "markdown",
   "id": "Pz6SyokR0CUR",
   "metadata": {
    "id": "Pz6SyokR0CUR",
    "jp-MarkdownHeadingCollapsed": true
   },
   "source": [
    "\n",
    "\n",
    "---\n",
    "\n",
    "\n",
    "# 🏆 The Squid Game Challenge: The Library of Survival"
   ]
  },
  {
   "cell_type": "markdown",
   "id": "eb3c2aaf-e953-4a8f-8df1-664a33b51337",
   "metadata": {
    "id": "eb3c2aaf-e953-4a8f-8df1-664a33b51337"
   },
   "source": [
    "You are given access to a massive library, you must pass this Test to advance. Fail, and you’re eliminated!"
   ]
  },
  {
   "cell_type": "markdown",
   "id": "QdNmmH1BL3tq",
   "metadata": {
    "id": "QdNmmH1BL3tq"
   },
   "source": [
    "### **Task: Filter and Organize Books by Genre**  \n",
    "\n",
    "#### **Task Description:**  \n",
    "You need to **write a function** that:  \n",
    "- Takes a **list of book tuples** and a **minimum price** (`default = 10.0`).\n",
    "  - The input list contains tuples with 4 elements:\n",
    "  - (Title (str), Author (str), Price (float), Genre (str))\n",
    "- Filters books based on the **minimum price condition**.  \n",
    "- Organizes them into a **dictionary**, where:  \n",
    "  - The **key** is the genre.  \n",
    "  - The **value** is a **list of book titles** under that genre.  \n",
    "- **Returns** the dictionary containing books categorized by genre.  \n",
    "\n",
    "\n",
    "### **Expected Output:**  \n",
    "```python\n",
    "{\n",
    "    'Fantasy': ['The Hobbit', 'Harry Potter'],\n",
    "    'Science': ['A Brief History of Time', 'The Theory of Everything'],\n",
    "    'Classic': ['The Great Gatsby'],\n",
    "    'Dystopian': ['Brave New World']\n",
    "}\n",
    "```\n",
    "\n",
    "\n",
    "Finally, call `filter_and_organize_books(scraped_books)`"
   ]
  },
  {
   "cell_type": "code",
   "execution_count": null,
   "id": "c0ebef12",
   "metadata": {
    "id": "c0ebef12"
   },
   "outputs": [],
   "source": [
    "scraped_books = [\n",
    "    (\"The Hobbit\", \"J.R.R. Tolkien\", 12.99, \"Fantasy\"),\n",
    "    (\"A Brief History of Time\", \"Stephen Hawking\", 15.50, \"Science\"),\n",
    "    (\"The Great Gatsby\", \"F. Scott Fitzgerald\", 10.99, \"Classic\"),\n",
    "    (\"1984\", \"George Orwell\", 9.99, \"Dystopian\"),\n",
    "    (\"The Catcher in the Rye\", \"J.D. Salinger\", 8.99, \"Classic\"),\n",
    "    (\"Harry Potter\", \"J.K. Rowling\", 20.99, \"Fantasy\"),\n",
    "    (\"The Theory of Everything\", \"Stephen Hawking\", 14.75, \"Science\"),\n",
    "    (\"Brave New World\", \"Aldous Huxley\", 11.50, \"Dystopian\"),\n",
    "]"
   ]
  },
  {
   "cell_type": "code",
   "execution_count": null,
   "id": "39a6868a-be34-4788-a6cd-85db0f6fa4fe",
   "metadata": {
    "id": "39a6868a-be34-4788-a6cd-85db0f6fa4fe"
   },
   "outputs": [],
   "source": [
    "def filter_and_organize_books(book_list, min_price=10.0):\n",
    "    \"\"\"\n",
    "    Filters books based on a minimum price and organizes them by genre.\n",
    "\n",
    "    Parameters:\n",
    "    - book_list (list of tuples): Each tuple contains (title, author, price, genre).\n",
    "    - min_price (float, optional): Minimum price to include a book. Default is 10.0.\n",
    "\n",
    "    Returns:\n",
    "    - dict: A dictionary where the keys are genres and the values are lists of book titles\n",
    "            that meet the price condition.\n",
    "    \"\"\"\n",
    "\n",
    "    book_dict = {}\n",
    "\n",
    "    for book in book_list:\n",
    "        price = book[2]  # Extract price\n",
    "\n",
    "        if price >= min_price:\n",
    "            title = book[0]  # Extract title\n",
    "            genre = book[3]  # Extract genre\n",
    "\n",
    "            if genre not in book_dict:\n",
    "                book_dict[genre] = []  # Create a new list if genre not present\n",
    "\n",
    "            book_dict[genre].append(title)  # Add book title to the genre list\n",
    "\n",
    "    return book_dict"
   ]
  },
  {
   "cell_type": "code",
   "execution_count": null,
   "id": "36d82e8b-5ac2-430a-b5e0-dd389b3d5039",
   "metadata": {
    "id": "36d82e8b-5ac2-430a-b5e0-dd389b3d5039",
    "outputId": "0bc1018d-06fb-4b9c-8e46-98145dbab6e8"
   },
   "outputs": [
    {
     "name": "stdout",
     "output_type": "stream",
     "text": [
      "Filtered books with user defined minimum price: {'Fantasy': ['The Hobbit', 'Harry Potter'], 'Science': ['A Brief History of Time', 'The Theory of Everything']}\n",
      "\n",
      "Filtered books with default minimum price: {'Fantasy': ['The Hobbit', 'Harry Potter'], 'Science': ['A Brief History of Time', 'The Theory of Everything'], 'Classic': ['The Great Gatsby'], 'Dystopian': ['Brave New World']}\n"
     ]
    }
   ],
   "source": [
    "# Test\n",
    "user_defined_min_price = 12\n",
    "print(\"Filtered books with user defined minimum price:\", filter_books_by_price(scraped_books, user_defined_min_price))\n",
    "print(\"\\nFiltered books with default minimum price:\", filter_books_by_price(scraped_books))"
   ]
  },
  {
   "cell_type": "markdown",
   "id": "J7BVWduvJaFF",
   "metadata": {
    "id": "J7BVWduvJaFF"
   },
   "source": [
    "[Back to Questions](#scrollTo=g6dLm1Wv5yP6&line=1&uniqifier=1)"
   ]
  },
  {
   "cell_type": "code",
   "execution_count": null,
   "id": "abd05abc-1674-4125-880f-972577373793",
   "metadata": {
    "id": "abd05abc-1674-4125-880f-972577373793"
   },
   "outputs": [],
   "source": []
  },
  {
   "cell_type": "markdown",
   "id": "38b36314-6f90-4ec0-8a40-6367985bb7ce",
   "metadata": {
    "id": "38b36314-6f90-4ec0-8a40-6367985bb7ce"
   },
   "source": [
    "# OR"
   ]
  },
  {
   "cell_type": "markdown",
   "id": "8433f064-0dae-4cbf-bf10-c038af9156dc",
   "metadata": {
    "id": "8433f064-0dae-4cbf-bf10-c038af9156dc"
   },
   "source": [
    "### **Algorithm for `generate_email_recommendations`**  \n",
    "\n",
    "#### **Input:**  \n",
    "- `customers`: A list of dictionaries, where each dictionary contains:  \n",
    "  - `\"first_name\"` (string) → Customer’s first name  \n",
    "  - `\"purchases\"` (set) → Set of past purchases  \n",
    "  - `\"email\"` (string) → Customer’s email address  \n",
    "- `set_of_gadgets_in_stock`: A set containing available gadgets  \n",
    "- `email_template` (optional, default: `\"Check out our latest gadgets!\"`): A string used as the base email message  \n",
    "\n",
    "#### **Output:**  \n",
    "- A dictionary where:  \n",
    "  - The **keys** are customer emails  \n",
    "  - The **values** are dictionaries containing:  \n",
    "    - `\"email\"` → The customer's email address  \n",
    "    - `\"email_message\"` → A personalized message with recommendations  \n",
    "\n",
    "\n",
    "### **Steps:**  \n",
    "1. **Iterate through each customer** in `customers`:  \n",
    "   - Extract `\"first_name\"` from the customer dictionary.  \n",
    "   - Extract `\"email\"` from the customer dictionary.  \n",
    "   - Extract `\"purchases\"` (set of past purchases).  \n",
    "3. **Find the intersection** of the customer’s past purchases and `set_of_gadgets_in_stock` to determine the recommended gadgets.  \n",
    "4. **Construct the email message**:  \n",
    "   - Start with `\"Hello \" + first_name + \",\"` (Greeting).  \n",
    "   - Add the `email_template`.  \n",
    "   - Append the `recommendation_set` (converted to a string).  \n",
    "   - End with `\"Thank you\"`.  \n",
    "5. **Store the result in `email_dict`** with the email as the key and a dictionary containing the email and message as the value.  \n",
    "6. **Return `email_dict`** containing all the personalized recommendations."
   ]
  },
  {
   "cell_type": "code",
   "execution_count": null,
   "id": "VJk4o-zZQsxy",
   "metadata": {
    "id": "VJk4o-zZQsxy"
   },
   "outputs": [],
   "source": [
    "customers = [\n",
    "    {\"first_name\": \"Alice\", \"purchases\": {\"iPhone\", \"MacBook\", \"AirPods\"}, \"email\": \"alice@example.com\"},\n",
    "    {\"first_name\": \"Bob\", \"purchases\": {\"Galaxy S21\", \"MacBook\", \"Surface Pro\"}, \"email\": \"bob@example.com\"}\n",
    "]\n",
    "\n",
    "set_of_gadgets_in_stock = {\"MacBook\", \"iPad\", \"Galaxy S21\"}"
   ]
  },
  {
   "cell_type": "code",
   "execution_count": null,
   "id": "eabb96c8-dd63-4794-a6d3-de937bed4d56",
   "metadata": {
    "id": "eabb96c8-dd63-4794-a6d3-de937bed4d56"
   },
   "outputs": [],
   "source": [
    "def generate_email_recommendations(customers, set_of_gadgets_in_stock, email_template=\"Check out our latest gadgets!\"):\n",
    "    \"\"\"\n",
    "    Generates a dictionary of email messages with recommended gadgets.\n",
    "    \"\"\"\n",
    "    email_dict = {}  # Store customer emails and messages\n",
    "\n",
    "    for customer in customers:\n",
    "        first_name = customer[\"first_name\"]\n",
    "        email = customer[\"email\"]\n",
    "        past_purchases = customer[\"purchases\"]\n",
    "\n",
    "        # Find intersection of past purchases and available stock\n",
    "        recommendation_set = past_purchases.intersection(set_of_gadgets_in_stock)\n",
    "\n",
    "        # Create email message\n",
    "        email_message = \"Hello \" + first_name + \",\\n\" + email_template + \"\\n\" + str(recommendation_set) + \"\\nThank you\"\n",
    "\n",
    "        # Store in dictionary\n",
    "        email_dict[email] = {\"email\": email, \"email_message\": email_message}\n",
    "\n",
    "    return email_dict\n"
   ]
  },
  {
   "cell_type": "code",
   "execution_count": null,
   "id": "8cad3913-52bd-4d78-9fea-1f64683739fe",
   "metadata": {
    "id": "8cad3913-52bd-4d78-9fea-1f64683739fe",
    "outputId": "66ebe4d4-a4d5-4cec-9b1c-573ef6c68b0d"
   },
   "outputs": [
    {
     "data": {
      "text/plain": [
       "{'alice@example.com': {'email': 'alice@example.com',\n",
       "  'email_message': \"Hello Alice,\\nCheck out our latest gadgets!\\n{'MacBook'}\\nThank you\"},\n",
       " 'bob@example.com': {'email': 'bob@example.com',\n",
       "  'email_message': \"Hello Bob,\\nCheck out our latest gadgets!\\n{'MacBook', 'Galaxy S21'}\\nThank you\"}}"
      ]
     },
     "execution_count": 163,
     "metadata": {},
     "output_type": "execute_result"
    }
   ],
   "source": [
    "generate_email_recommendations(customers, set_of_gadgets_in_stock)"
   ]
  },
  {
   "cell_type": "code",
   "execution_count": null,
   "id": "3a50b61c-b3ca-425f-a618-f9efbf0a8694",
   "metadata": {
    "id": "3a50b61c-b3ca-425f-a618-f9efbf0a8694"
   },
   "outputs": [],
   "source": []
  }
 ],
 "metadata": {
  "colab": {
   "collapsed_sections": [
    "g6dLm1Wv5yP6",
    "ZbyCI7OszN3l",
    "60fbc0c3f365b428",
    "60af9d562d439df1",
    "b5342f01c93fc59d",
    "kCUUfYfbzsJS",
    "db1cf9f9c738992b",
    "81d24583a78e8ce7",
    "908f98546dfcfe56",
    "2pesKr50zzax",
    "1716b911a1689147",
    "bcded41764f4fd29",
    "b8f2ec1341fc783e",
    "93f463e693949a2a",
    "93801978e4c66c7b",
    "9ac85334e71b8c61",
    "Pz6SyokR0CUR"
   ],
   "provenance": []
  },
  "kernelspec": {
   "display_name": "Python [conda env:base] *",
   "language": "python",
   "name": "conda-base-py"
  },
  "language_info": {
   "codemirror_mode": {
    "name": "ipython",
    "version": 3
   },
   "file_extension": ".py",
   "mimetype": "text/x-python",
   "name": "python",
   "nbconvert_exporter": "python",
   "pygments_lexer": "ipython3",
   "version": "3.12.7"
  }
 },
 "nbformat": 4,
 "nbformat_minor": 5
}
