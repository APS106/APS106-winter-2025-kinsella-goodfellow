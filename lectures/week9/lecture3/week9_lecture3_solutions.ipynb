{
  "cells": [
    {
      "cell_type": "markdown",
      "id": "WSGF5MaO5oY6",
      "metadata": {
        "id": "WSGF5MaO5oY6"
      },
      "source": [
        "# APS106 - TERM TEST 2 JEOPARDY"
      ]
    },
    {
      "cell_type": "markdown",
      "id": "g6dLm1Wv5yP6",
      "metadata": {
        "id": "g6dLm1Wv5yP6",
        "jp-MarkdownHeadingCollapsed": true
      },
      "source": [
        "### Table of Contents"
      ]
    },
    {
      "cell_type": "markdown",
      "id": "KdTE2n2c2v6z",
      "metadata": {
        "colab_type": "toc",
        "id": "KdTE2n2c2v6z"
      },
      "source": [
        ">[🎒 Pokémon GO: Catch ‘Em All](#scrollTo=ZbyCI7OszN3l)\n",
        "\n",
        ">>>>[Rearranging Pokémon Stats - $250](#scrollTo=60fbc0c3f365b428)\n",
        "\n",
        ">>>>[Pokémon Power Rankings - $500](#scrollTo=60af9d562d439df1)\n",
        "\n",
        ">>>>[Pokémon Training Boost - $1000](#scrollTo=b5342f01c93fc59d)\n",
        "\n",
        ">[🍄 Mario’s Coin Rush: Collect, Stack, and Win!](#scrollTo=kCUUfYfbzsJS)\n",
        "\n",
        ">>>>[Collecting Coins and Bonus Lives - $250](#scrollTo=908f98546dfcfe56)\n",
        "\n",
        ">>>>[Power-Ups in Mario’s Inventory - $500](#scrollTo=db1cf9f9c738992b)\n",
        "\n",
        ">>>>[Navigating the Warp Zones - $1000](#scrollTo=81d24583a78e8ce7)\n",
        "\n",
        ">[⛏️ Minecraft: Mastering Resources & Trades](#scrollTo=2pesKr50zzax)\n",
        "\n",
        ">>>>[Managing Your Minecraft Inventor - $250](#scrollTo=1716b911a1689147)\n",
        "\n",
        ">>>>[Resources in Your Chest - $500](#scrollTo=bcded41764f4fd29)\n",
        "\n",
        ">>>>[Trading with Villagers - $1000](#scrollTo=b8f2ec1341fc783e)\n",
        "\n",
        ">[🔥 Super Contra: Power-Up Tactics](#scrollTo=dsWr29Slz_FJ)\n",
        "\n",
        ">>>>[Upgrading Weapons - $250](#scrollTo=93f463e693949a2a)\n",
        "\n",
        ">>>>[Weapon Loadout Configuration - $500](#scrollTo=93801978e4c66c7b)\n",
        "\n",
        ">>>>[Extra Lives & Score Calculation - $1000](#scrollTo=9ac85334e71b8c61)\n",
        "\n",
        ">[🏆 The Squid Game Challenge: The Library of Survival](#scrollTo=Pz6SyokR0CUR)\n"
      ]
    },
    {
      "cell_type": "markdown",
      "id": "ZbyCI7OszN3l",
      "metadata": {
        "id": "ZbyCI7OszN3l",
        "jp-MarkdownHeadingCollapsed": true
      },
      "source": [
        "# 🎒 Pokémon GO: Catch ‘Em All"
      ]
    },
    {
      "cell_type": "markdown",
      "id": "60fbc0c3f365b428",
      "metadata": {
        "id": "60fbc0c3f365b428",
        "jp-MarkdownHeadingCollapsed": true
      },
      "source": [
        "#### Rearranging Pokémon Stats - $250"
      ]
    },
    {
      "cell_type": "code",
      "execution_count": 28,
      "id": "4cc699d4",
      "metadata": {
        "colab": {
          "base_uri": "https://localhost:8080/"
        },
        "id": "4cc699d4",
        "jupyter": {
          "is_executing": true
        },
        "outputId": "0e53150e-ac17-4e11-dbe7-e6a614e23d00"
      },
      "outputs": [
        {
          "output_type": "execute_result",
          "data": {
            "text/plain": [
              "['Pikachu', 'Squirtle', 'Charizard']"
            ]
          },
          "metadata": {},
          "execution_count": 28
        }
      ],
      "source": [
        "# What is the output?\n",
        "\n",
        "pokemons = ['Pikachu', 'Charizard', 'Squirtle', 'Gengar']\n",
        "pokemons.append('pink')\n",
        "pokemons[4] = pokemons[1]\n",
        "pokemons[::2]"
      ]
    },
    {
      "cell_type": "markdown",
      "id": "r6c7cIgz8cJz",
      "metadata": {
        "id": "r6c7cIgz8cJz"
      },
      "source": [
        "[Back to Questions](#scrollTo=g6dLm1Wv5yP6&line=1&uniqifier=1)"
      ]
    },
    {
      "cell_type": "code",
      "execution_count": null,
      "id": "_zdaEfcITJc6",
      "metadata": {
        "id": "_zdaEfcITJc6"
      },
      "outputs": [],
      "source": []
    },
    {
      "cell_type": "code",
      "execution_count": null,
      "id": "gu5EbaQzTJbG",
      "metadata": {
        "id": "gu5EbaQzTJbG"
      },
      "outputs": [],
      "source": []
    },
    {
      "cell_type": "code",
      "execution_count": null,
      "id": "JqaV02ieTJY0",
      "metadata": {
        "id": "JqaV02ieTJY0"
      },
      "outputs": [],
      "source": []
    },
    {
      "cell_type": "code",
      "execution_count": null,
      "id": "1rNnJP8vTJV8",
      "metadata": {
        "id": "1rNnJP8vTJV8"
      },
      "outputs": [],
      "source": []
    },
    {
      "cell_type": "code",
      "execution_count": null,
      "id": "uYcD4nrsTI7Z",
      "metadata": {
        "id": "uYcD4nrsTI7Z"
      },
      "outputs": [],
      "source": []
    },
    {
      "cell_type": "markdown",
      "id": "60af9d562d439df1",
      "metadata": {
        "id": "60af9d562d439df1",
        "jp-MarkdownHeadingCollapsed": true
      },
      "source": [
        "#### Pokémon Power Rankings - $500"
      ]
    },
    {
      "cell_type": "code",
      "execution_count": 29,
      "id": "5f459630424563b8",
      "metadata": {
        "colab": {
          "base_uri": "https://localhost:8080/"
        },
        "id": "5f459630424563b8",
        "jupyter": {
          "is_executing": true
        },
        "outputId": "defe3d1d-154f-474c-ec51-9806bf6dc699"
      },
      "outputs": [
        {
          "output_type": "stream",
          "name": "stdout",
          "text": [
            "[3000, 400, 60, 33, -50]\n"
          ]
        }
      ],
      "source": [
        "# How would you achieve this output from the below list (hint: 2 steps) -> [3000, 400, 60, 33, -50]?\n",
        "\n",
        "pokemon_power_list = [-50, 60, 400, 3000, 33]\n",
        "pokemon_power_list.sort() # Step 1\n",
        "pokemon_power_list.reverse() # Step 2\n",
        "print(pokemon_power_list)"
      ]
    },
    {
      "cell_type": "markdown",
      "id": "Afck6Lsa9Jmm",
      "metadata": {
        "id": "Afck6Lsa9Jmm"
      },
      "source": [
        "[Back to Questions](#scrollTo=g6dLm1Wv5yP6&line=1&uniqifier=1)"
      ]
    },
    {
      "cell_type": "code",
      "execution_count": null,
      "id": "M1LuvurcTLPP",
      "metadata": {
        "id": "M1LuvurcTLPP"
      },
      "outputs": [],
      "source": []
    },
    {
      "cell_type": "code",
      "execution_count": null,
      "id": "QkP_DV_rTLNT",
      "metadata": {
        "id": "QkP_DV_rTLNT"
      },
      "outputs": [],
      "source": []
    },
    {
      "cell_type": "code",
      "execution_count": null,
      "id": "QkhVNj9ATLLA",
      "metadata": {
        "id": "QkhVNj9ATLLA"
      },
      "outputs": [],
      "source": []
    },
    {
      "cell_type": "code",
      "execution_count": null,
      "id": "Mk4hoYmsTLIs",
      "metadata": {
        "id": "Mk4hoYmsTLIs"
      },
      "outputs": [],
      "source": []
    },
    {
      "cell_type": "code",
      "execution_count": null,
      "id": "e-KWG300TLGS",
      "metadata": {
        "id": "e-KWG300TLGS"
      },
      "outputs": [],
      "source": []
    },
    {
      "cell_type": "code",
      "execution_count": null,
      "id": "Wcg9WSBwTLEK",
      "metadata": {
        "id": "Wcg9WSBwTLEK"
      },
      "outputs": [],
      "source": []
    },
    {
      "cell_type": "markdown",
      "id": "b5342f01c93fc59d",
      "metadata": {
        "id": "b5342f01c93fc59d",
        "jp-MarkdownHeadingCollapsed": true
      },
      "source": [
        "#### Pokémon Training Boost - $1000"
      ]
    },
    {
      "cell_type": "code",
      "execution_count": 30,
      "id": "o6m2RD-A_fQP",
      "metadata": {
        "colab": {
          "base_uri": "https://localhost:8080/"
        },
        "id": "o6m2RD-A_fQP",
        "outputId": "78a6d540-d4b0-442f-a7d8-69b5f37d1215"
      },
      "outputs": [
        {
          "output_type": "execute_result",
          "data": {
            "text/plain": [
              "[50, 30, 90]"
            ]
          },
          "metadata": {},
          "execution_count": 30
        }
      ],
      "source": [
        "# What is the output?\n",
        "\n",
        "pokemon_power_list = [20, 40, 20, 20, 60, 80]\n",
        "new_pokemon_power_list = []\n",
        "\n",
        "for i in range(len(pokemon_power_list)):\n",
        "    if i % 2 == 1:\n",
        "        pokemon_power_list[i] += 10\n",
        "        new_pokemon_power_list.append(pokemon_power_list[i])\n",
        "\n",
        "new_pokemon_power_list"
      ]
    },
    {
      "cell_type": "markdown",
      "id": "Fo5HQCe_9LZJ",
      "metadata": {
        "id": "Fo5HQCe_9LZJ"
      },
      "source": [
        "[Back to Questions](#scrollTo=g6dLm1Wv5yP6&line=1&uniqifier=1)"
      ]
    },
    {
      "cell_type": "code",
      "execution_count": null,
      "id": "kacTPxswTM0t",
      "metadata": {
        "id": "kacTPxswTM0t"
      },
      "outputs": [],
      "source": []
    },
    {
      "cell_type": "code",
      "execution_count": null,
      "id": "fE2ICD-bTMx9",
      "metadata": {
        "id": "fE2ICD-bTMx9"
      },
      "outputs": [],
      "source": []
    },
    {
      "cell_type": "code",
      "execution_count": null,
      "id": "tvlYhHsHTMvr",
      "metadata": {
        "id": "tvlYhHsHTMvr"
      },
      "outputs": [],
      "source": []
    },
    {
      "cell_type": "code",
      "execution_count": null,
      "id": "0YHpKf96TMtN",
      "metadata": {
        "id": "0YHpKf96TMtN"
      },
      "outputs": [],
      "source": []
    },
    {
      "cell_type": "code",
      "execution_count": null,
      "id": "GX69-UzgTMq7",
      "metadata": {
        "id": "GX69-UzgTMq7"
      },
      "outputs": [],
      "source": []
    },
    {
      "cell_type": "code",
      "execution_count": null,
      "id": "ESGbC02NTMoa",
      "metadata": {
        "id": "ESGbC02NTMoa"
      },
      "outputs": [],
      "source": []
    },
    {
      "cell_type": "markdown",
      "id": "kCUUfYfbzsJS",
      "metadata": {
        "id": "kCUUfYfbzsJS"
      },
      "source": [
        "\n",
        "\n",
        "---\n",
        "\n",
        "\n",
        "# 🍄 Mario’s Coin Rush: Collect, Stack, and Win!"
      ]
    },
    {
      "cell_type": "markdown",
      "id": "908f98546dfcfe56",
      "metadata": {
        "id": "908f98546dfcfe56",
        "jp-MarkdownHeadingCollapsed": true
      },
      "source": [
        "#### Collecting Coins and Bonus Lives - $250"
      ]
    },
    {
      "cell_type": "code",
      "execution_count": 31,
      "id": "2c4d67eda01e802f",
      "metadata": {
        "id": "2c4d67eda01e802f",
        "outputId": "95060f7e-f8f2-400b-b4c7-1ca4e39b3dd0",
        "colab": {
          "base_uri": "https://localhost:8080/"
        }
      },
      "outputs": [
        {
          "output_type": "stream",
          "name": "stdout",
          "text": [
            "Coin C\n",
            "Coin E\n"
          ]
        }
      ],
      "source": [
        "# What is the output?\n",
        "\n",
        "world_1_coins = ('Coin A', 'Coin B', 'Coin C', 'Coin D', 'Coin E')\n",
        "world_2_coins = ('Coin C', 'Coin E', 'Coin F', 'Coin G', 'Coin H')\n",
        "\n",
        "for coin in world_1_coins:\n",
        "    if world_2_coins.count(coin) == 1:\n",
        "        print(coin)"
      ]
    },
    {
      "cell_type": "markdown",
      "id": "7o4UihUoHbDb",
      "metadata": {
        "id": "7o4UihUoHbDb"
      },
      "source": [
        "[Back to Questions](#scrollTo=g6dLm1Wv5yP6&line=1&uniqifier=1)"
      ]
    },
    {
      "cell_type": "code",
      "execution_count": null,
      "id": "ZTol0LKgTSD3",
      "metadata": {
        "id": "ZTol0LKgTSD3"
      },
      "outputs": [],
      "source": []
    },
    {
      "cell_type": "code",
      "execution_count": null,
      "id": "K0hX9ETeTSBk",
      "metadata": {
        "id": "K0hX9ETeTSBk"
      },
      "outputs": [],
      "source": []
    },
    {
      "cell_type": "code",
      "execution_count": null,
      "id": "FVJR7MuJTR_S",
      "metadata": {
        "id": "FVJR7MuJTR_S"
      },
      "outputs": [],
      "source": []
    },
    {
      "cell_type": "code",
      "execution_count": null,
      "id": "aGxFSJmUTR8-",
      "metadata": {
        "id": "aGxFSJmUTR8-"
      },
      "outputs": [],
      "source": []
    },
    {
      "cell_type": "code",
      "execution_count": null,
      "id": "Kh82kCc7TR6c",
      "metadata": {
        "id": "Kh82kCc7TR6c"
      },
      "outputs": [],
      "source": []
    },
    {
      "cell_type": "code",
      "execution_count": null,
      "id": "3wffNWiOTRzQ",
      "metadata": {
        "id": "3wffNWiOTRzQ"
      },
      "outputs": [],
      "source": []
    },
    {
      "cell_type": "code",
      "execution_count": null,
      "id": "P6cib8FHTRL2",
      "metadata": {
        "id": "P6cib8FHTRL2"
      },
      "outputs": [],
      "source": []
    },
    {
      "cell_type": "markdown",
      "id": "db1cf9f9c738992b",
      "metadata": {
        "id": "db1cf9f9c738992b",
        "jp-MarkdownHeadingCollapsed": true
      },
      "source": [
        "#### Power-Ups in Mario’s Inventory - $500"
      ]
    },
    {
      "cell_type": "code",
      "execution_count": 32,
      "id": "6b25f173",
      "metadata": {
        "colab": {
          "base_uri": "https://localhost:8080/"
        },
        "id": "6b25f173",
        "jupyter": {
          "is_executing": true
        },
        "outputId": "99c6d10d-5f0e-4162-c558-71ecc6ee37f2"
      },
      "outputs": [
        {
          "output_type": "stream",
          "name": "stdout",
          "text": [
            "Mushroom 5 ('Mega Mushroom', 'Super Star')\n"
          ]
        }
      ],
      "source": [
        "# What is the output?\n",
        "\n",
        "def power_up_info():\n",
        "    power_ups = ('Mushroom', 'Fire Flower', 'Super Star', '1-Up', 'Mega Mushroom')\n",
        "    return power_ups, len(power_ups)\n",
        "\n",
        "new_power_ups, count = power_up_info()\n",
        "a, b, c, d, e = new_power_ups\n",
        "cde = (c, d, e)\n",
        "\n",
        "print(a, count, cde[::-2])\n"
      ]
    },
    {
      "cell_type": "markdown",
      "id": "oPP_cZKMIT9K",
      "metadata": {
        "id": "oPP_cZKMIT9K"
      },
      "source": [
        "[Back to Questions](#scrollTo=g6dLm1Wv5yP6&line=1&uniqifier=1)"
      ]
    },
    {
      "cell_type": "code",
      "execution_count": null,
      "id": "PdF1m_FMTPi9",
      "metadata": {
        "id": "PdF1m_FMTPi9"
      },
      "outputs": [],
      "source": []
    },
    {
      "cell_type": "code",
      "execution_count": null,
      "id": "JUqj1N9yTPgt",
      "metadata": {
        "id": "JUqj1N9yTPgt"
      },
      "outputs": [],
      "source": []
    },
    {
      "cell_type": "code",
      "execution_count": null,
      "id": "pIcQEAdrTPee",
      "metadata": {
        "id": "pIcQEAdrTPee"
      },
      "outputs": [],
      "source": []
    },
    {
      "cell_type": "code",
      "execution_count": null,
      "id": "0zNeo5vGTPcT",
      "metadata": {
        "id": "0zNeo5vGTPcT"
      },
      "outputs": [],
      "source": []
    },
    {
      "cell_type": "code",
      "execution_count": null,
      "id": "Vb5ayc4ITPaQ",
      "metadata": {
        "id": "Vb5ayc4ITPaQ"
      },
      "outputs": [],
      "source": []
    },
    {
      "cell_type": "code",
      "execution_count": null,
      "id": "am_oUa5QTPXe",
      "metadata": {
        "id": "am_oUa5QTPXe"
      },
      "outputs": [],
      "source": []
    },
    {
      "cell_type": "markdown",
      "id": "81d24583a78e8ce7",
      "metadata": {
        "id": "81d24583a78e8ce7",
        "jp-MarkdownHeadingCollapsed": true
      },
      "source": [
        "#### Navigating the Warp Zones - $1000"
      ]
    },
    {
      "cell_type": "code",
      "execution_count": 33,
      "id": "a5d4915ff9bb62e0",
      "metadata": {
        "colab": {
          "base_uri": "https://localhost:8080/"
        },
        "id": "a5d4915ff9bb62e0",
        "jupyter": {
          "is_executing": true
        },
        "outputId": "d00f920e-e755-4eb4-8ff8-8f63238cde74"
      },
      "outputs": [
        {
          "output_type": "stream",
          "name": "stdout",
          "text": [
            "Underwater\n",
            "Secret Warp\n"
          ]
        }
      ],
      "source": [
        "# This tuple contains the warp zone name, list of levels it connects to, and points earned\n",
        "warp_zones = (\n",
        "    ('Underground', ['Level 1', 'Level 2'], 100),\n",
        "    ('Sky', ['Level 2', 'Level 3'], 200),\n",
        "    ('Castle', ['Level 3', 'Level 4'], 300),\n",
        "    ('Underwater', ['Level 3', 'Level 4', 'Final Level'], 400),\n",
        "    ('Secret Warp', ['Level 4', 'Final Level'], 500)\n",
        ")\n",
        "\n",
        "x = warp_zones[-1][1][-1]\n",
        "for warp in warp_zones:\n",
        "    if x in warp[1]:\n",
        "        print(warp[0])"
      ]
    },
    {
      "cell_type": "markdown",
      "id": "42tC0pbxIUUJ",
      "metadata": {
        "id": "42tC0pbxIUUJ"
      },
      "source": [
        "[Back to Questions](#scrollTo=g6dLm1Wv5yP6&line=1&uniqifier=1)"
      ]
    },
    {
      "cell_type": "code",
      "execution_count": null,
      "id": "QymNRRRXTQl8",
      "metadata": {
        "id": "QymNRRRXTQl8"
      },
      "outputs": [],
      "source": []
    },
    {
      "cell_type": "code",
      "execution_count": null,
      "id": "jogbeKiWTQjw",
      "metadata": {
        "id": "jogbeKiWTQjw"
      },
      "outputs": [],
      "source": []
    },
    {
      "cell_type": "code",
      "execution_count": null,
      "id": "qkX20VzXTQhJ",
      "metadata": {
        "id": "qkX20VzXTQhJ"
      },
      "outputs": [],
      "source": []
    },
    {
      "cell_type": "code",
      "execution_count": null,
      "id": "rd5C6pAsTQcl",
      "metadata": {
        "id": "rd5C6pAsTQcl"
      },
      "outputs": [],
      "source": []
    },
    {
      "cell_type": "code",
      "execution_count": null,
      "id": "vbh3ki7DTQaK",
      "metadata": {
        "id": "vbh3ki7DTQaK"
      },
      "outputs": [],
      "source": []
    },
    {
      "cell_type": "markdown",
      "id": "2pesKr50zzax",
      "metadata": {
        "id": "2pesKr50zzax"
      },
      "source": [
        "\n",
        "\n",
        "---\n",
        "\n",
        "\n",
        "# ⛏️ Minecraft: Mastering Resources & Trades"
      ]
    },
    {
      "cell_type": "markdown",
      "id": "1716b911a1689147",
      "metadata": {
        "id": "1716b911a1689147",
        "jp-MarkdownHeadingCollapsed": true
      },
      "source": [
        "#### Managing Your Minecraft Inventor - $250"
      ]
    },
    {
      "cell_type": "code",
      "execution_count": 34,
      "id": "185a638d",
      "metadata": {
        "id": "185a638d",
        "jupyter": {
          "is_executing": true
        },
        "outputId": "13e7e4f7-3bca-4a98-b5f1-ce735d00dda5",
        "colab": {
          "base_uri": "https://localhost:8080/"
        }
      },
      "outputs": [
        {
          "output_type": "stream",
          "name": "stdout",
          "text": [
            "[20, 29, 9000, 10]\n"
          ]
        }
      ],
      "source": [
        "# What is the output?\n",
        "\n",
        "inventory = {'Wood': 45, 'Stone': 101, 'Iron': 29, 'Diamond': 9000}\n",
        "inventory['Gold'] = 10\n",
        "\n",
        "inventory['Stone'] = 20\n",
        "inventory.pop('Wood')\n",
        "\n",
        "print(list(inventory.values()))"
      ]
    },
    {
      "cell_type": "markdown",
      "id": "iKN-D-rLJJ6J",
      "metadata": {
        "id": "iKN-D-rLJJ6J"
      },
      "source": [
        "[Back to Questions](#scrollTo=g6dLm1Wv5yP6&line=1&uniqifier=1)"
      ]
    },
    {
      "cell_type": "code",
      "execution_count": null,
      "id": "WrzkFvelTbOX",
      "metadata": {
        "id": "WrzkFvelTbOX"
      },
      "outputs": [],
      "source": []
    },
    {
      "cell_type": "code",
      "execution_count": null,
      "id": "dv3XNFB5TbLj",
      "metadata": {
        "id": "dv3XNFB5TbLj"
      },
      "outputs": [],
      "source": []
    },
    {
      "cell_type": "code",
      "execution_count": null,
      "id": "jtZ4pyqVTbJB",
      "metadata": {
        "id": "jtZ4pyqVTbJB"
      },
      "outputs": [],
      "source": []
    },
    {
      "cell_type": "code",
      "execution_count": null,
      "id": "PjXQInYpTbGl",
      "metadata": {
        "id": "PjXQInYpTbGl"
      },
      "outputs": [],
      "source": []
    },
    {
      "cell_type": "code",
      "execution_count": null,
      "id": "c361rvbdTbER",
      "metadata": {
        "id": "c361rvbdTbER"
      },
      "outputs": [],
      "source": []
    },
    {
      "cell_type": "code",
      "execution_count": null,
      "id": "Na5WREGUTbBx",
      "metadata": {
        "id": "Na5WREGUTbBx"
      },
      "outputs": [],
      "source": []
    },
    {
      "cell_type": "code",
      "execution_count": null,
      "id": "RTjpA75FTa-4",
      "metadata": {
        "id": "RTjpA75FTa-4"
      },
      "outputs": [],
      "source": []
    },
    {
      "cell_type": "markdown",
      "id": "bcded41764f4fd29",
      "metadata": {
        "id": "bcded41764f4fd29",
        "jp-MarkdownHeadingCollapsed": true
      },
      "source": [
        "#### Resources in Your Chest - $500"
      ]
    },
    {
      "cell_type": "code",
      "execution_count": 35,
      "id": "d38849b0-1de5-4f3d-b739-778dbf4442d2",
      "metadata": {
        "id": "d38849b0-1de5-4f3d-b739-778dbf4442d2",
        "outputId": "4b5a5df5-1df3-4459-9c65-4bd3ef039a4e",
        "colab": {
          "base_uri": "https://localhost:8080/"
        }
      },
      "outputs": [
        {
          "output_type": "stream",
          "name": "stdout",
          "text": [
            "{'Iron': 3, 'Gold': 2, 'Diamond': 1}\n"
          ]
        }
      ],
      "source": [
        "# What does the following code do?\n",
        "\n",
        "resources = ['Iron', 'Gold', 'Iron', 'Diamond', 'Gold', 'Iron']\n",
        "inventory = {}\n",
        "\n",
        "for item in resources:\n",
        "    if item in inventory:\n",
        "        inventory[item] += 1\n",
        "    else:\n",
        "        inventory[item] = 1\n",
        "\n",
        "print(inventory)\n",
        "\n",
        "\n",
        "# A) stores the longest word in the string.\n",
        "\n",
        "# B) Counts occurrences of each word and stores it in a dictionary.\n",
        "\n",
        "# C) Sorts words alphabetically and stores the first one.\n",
        "\n",
        "# D) Counts the number of unique words and stores the total."
      ]
    },
    {
      "cell_type": "markdown",
      "id": "5hK9tcJrJI60",
      "metadata": {
        "id": "5hK9tcJrJI60"
      },
      "source": [
        "[Back to Questions](#scrollTo=g6dLm1Wv5yP6&line=1&uniqifier=1)"
      ]
    },
    {
      "cell_type": "code",
      "execution_count": null,
      "id": "f08Rb6VoTcm4",
      "metadata": {
        "id": "f08Rb6VoTcm4"
      },
      "outputs": [],
      "source": []
    },
    {
      "cell_type": "code",
      "execution_count": null,
      "id": "pHWEhYIpTckV",
      "metadata": {
        "id": "pHWEhYIpTckV"
      },
      "outputs": [],
      "source": []
    },
    {
      "cell_type": "code",
      "execution_count": null,
      "id": "C0BhraAPTch9",
      "metadata": {
        "id": "C0BhraAPTch9"
      },
      "outputs": [],
      "source": []
    },
    {
      "cell_type": "code",
      "execution_count": null,
      "id": "IiN2SQuITcfz",
      "metadata": {
        "id": "IiN2SQuITcfz"
      },
      "outputs": [],
      "source": []
    },
    {
      "cell_type": "code",
      "execution_count": null,
      "id": "QmqmjBzgTcaX",
      "metadata": {
        "id": "QmqmjBzgTcaX"
      },
      "outputs": [],
      "source": []
    },
    {
      "cell_type": "code",
      "execution_count": null,
      "id": "jAcy1QRKTcW7",
      "metadata": {
        "id": "jAcy1QRKTcW7"
      },
      "outputs": [],
      "source": []
    },
    {
      "cell_type": "code",
      "execution_count": null,
      "id": "jpFtux5hTbz8",
      "metadata": {
        "id": "jpFtux5hTbz8"
      },
      "outputs": [],
      "source": []
    },
    {
      "cell_type": "markdown",
      "id": "b8f2ec1341fc783e",
      "metadata": {
        "id": "b8f2ec1341fc783e"
      },
      "source": [
        "#### Trading with Villagers - $1000"
      ]
    },
    {
      "cell_type": "code",
      "execution_count": 36,
      "id": "jrgQLZkQKzJB",
      "metadata": {
        "colab": {
          "base_uri": "https://localhost:8080/"
        },
        "id": "jrgQLZkQKzJB",
        "outputId": "d8419a6b-37f2-4b0a-b11d-629990644453"
      },
      "outputs": [
        {
          "output_type": "stream",
          "name": "stdout",
          "text": [
            "{5: 'Emerald', 10: 'Gold Ingot', 8: 'Diamond', 15: 'Redstone Block'}\n"
          ]
        }
      ],
      "source": [
        "# What is the output?\n",
        "\n",
        "trade_inventory = {\n",
        "        'Emerald': 5,\n",
        "        'Gold Ingot': 10,\n",
        "        'Iron Ingot': 3,\n",
        "        'Diamond': 8,\n",
        "        'Redstone': 15\n",
        "    }\n",
        "\n",
        "x = {}\n",
        "for a, b in trade_inventory.items():\n",
        "    x[b] = a\n",
        "\n",
        "x.pop(min(x))\n",
        "x[max(x)] += ' Block'\n",
        "\n",
        "print(x)"
      ]
    },
    {
      "cell_type": "markdown",
      "id": "1iPN5QduJLnW",
      "metadata": {
        "id": "1iPN5QduJLnW"
      },
      "source": [
        "[Back to Questions](#scrollTo=g6dLm1Wv5yP6&line=1&uniqifier=1)"
      ]
    },
    {
      "cell_type": "code",
      "execution_count": null,
      "id": "V5zh0_6jTc_h",
      "metadata": {
        "id": "V5zh0_6jTc_h"
      },
      "outputs": [],
      "source": []
    },
    {
      "cell_type": "code",
      "execution_count": null,
      "id": "PRa9etYjTdxu",
      "metadata": {
        "id": "PRa9etYjTdxu"
      },
      "outputs": [],
      "source": []
    },
    {
      "cell_type": "code",
      "execution_count": null,
      "id": "clPtFRlVTdu7",
      "metadata": {
        "id": "clPtFRlVTdu7"
      },
      "outputs": [],
      "source": []
    },
    {
      "cell_type": "code",
      "execution_count": null,
      "id": "sIwjd91aTdsh",
      "metadata": {
        "id": "sIwjd91aTdsh"
      },
      "outputs": [],
      "source": []
    },
    {
      "cell_type": "code",
      "execution_count": null,
      "id": "gcs1dNFiTdqk",
      "metadata": {
        "id": "gcs1dNFiTdqk"
      },
      "outputs": [],
      "source": []
    },
    {
      "cell_type": "code",
      "execution_count": null,
      "id": "kUJeY-1ZTdoD",
      "metadata": {
        "id": "kUJeY-1ZTdoD"
      },
      "outputs": [],
      "source": []
    },
    {
      "cell_type": "code",
      "execution_count": null,
      "id": "682yuvWVTdla",
      "metadata": {
        "id": "682yuvWVTdla"
      },
      "outputs": [],
      "source": []
    },
    {
      "cell_type": "markdown",
      "id": "dsWr29Slz_FJ",
      "metadata": {
        "id": "dsWr29Slz_FJ"
      },
      "source": [
        "\n",
        "\n",
        "---\n",
        "\n",
        "\n",
        "\n",
        "# 🔥 Super Contra: Power-Up Tactics"
      ]
    },
    {
      "cell_type": "markdown",
      "id": "93f463e693949a2a",
      "metadata": {
        "id": "93f463e693949a2a",
        "jp-MarkdownHeadingCollapsed": true
      },
      "source": [
        "#### Upgrading Weapons - $250"
      ]
    },
    {
      "cell_type": "code",
      "execution_count": 37,
      "id": "e5b17420-de9c-4772-9ab0-720e254e52c6",
      "metadata": {
        "colab": {
          "base_uri": "https://localhost:8080/"
        },
        "id": "e5b17420-de9c-4772-9ab0-720e254e52c6",
        "outputId": "968dee2a-cf2b-41f6-d296-461c20fd8d1a"
      },
      "outputs": [
        {
          "output_type": "stream",
          "name": "stdout",
          "text": [
            "[1, 2, 3, 4]\n"
          ]
        }
      ],
      "source": [
        "# What is the output?\n",
        "\n",
        "def modify_list(a):\n",
        "    a.append(4)\n",
        "    a = [5, 6, 7]\n",
        "    a.append(8)\n",
        "\n",
        "x = [1, 2, 3]\n",
        "modify_list(x)\n",
        "print(x)"
      ]
    },
    {
      "cell_type": "markdown",
      "id": "f5lFYSzyJT8C",
      "metadata": {
        "id": "f5lFYSzyJT8C"
      },
      "source": [
        "[Back to Questions](#scrollTo=g6dLm1Wv5yP6&line=1&uniqifier=1)"
      ]
    },
    {
      "cell_type": "code",
      "execution_count": null,
      "id": "U80k4dQrThMK",
      "metadata": {
        "id": "U80k4dQrThMK"
      },
      "outputs": [],
      "source": []
    },
    {
      "cell_type": "code",
      "execution_count": null,
      "id": "O3CdXIsXThKQ",
      "metadata": {
        "id": "O3CdXIsXThKQ"
      },
      "outputs": [],
      "source": []
    },
    {
      "cell_type": "code",
      "execution_count": null,
      "id": "EYFt1un9ThH2",
      "metadata": {
        "id": "EYFt1un9ThH2"
      },
      "outputs": [],
      "source": []
    },
    {
      "cell_type": "code",
      "execution_count": null,
      "id": "sLYScuK7ThF2",
      "metadata": {
        "id": "sLYScuK7ThF2"
      },
      "outputs": [],
      "source": []
    },
    {
      "cell_type": "code",
      "execution_count": null,
      "id": "vsKwdznTThDw",
      "metadata": {
        "id": "vsKwdznTThDw"
      },
      "outputs": [],
      "source": []
    },
    {
      "cell_type": "code",
      "execution_count": null,
      "id": "vw1gAuoeThAl",
      "metadata": {
        "id": "vw1gAuoeThAl"
      },
      "outputs": [],
      "source": []
    },
    {
      "cell_type": "markdown",
      "id": "93801978e4c66c7b",
      "metadata": {
        "id": "93801978e4c66c7b",
        "jp-MarkdownHeadingCollapsed": true
      },
      "source": [
        "#### Weapon Loadout Configuration - $500"
      ]
    },
    {
      "cell_type": "code",
      "execution_count": 38,
      "id": "770fd48610020462",
      "metadata": {
        "colab": {
          "base_uri": "https://localhost:8080/"
        },
        "id": "770fd48610020462",
        "outputId": "6db224b2-1c75-47f3-f46c-685c42e1ffee"
      },
      "outputs": [
        {
          "output_type": "stream",
          "name": "stdout",
          "text": [
            "1 Single 10 Single 20\n",
            "2 Single 5 Single 20\n",
            "3 Single 10 Single 15\n",
            "4 Rapid-Fire 10 Rapid-Fire 20\n"
          ]
        }
      ],
      "source": [
        "# What's the output?\n",
        "\n",
        "def equip_weapon(ammo, grenades=10, rockets=20, sep=\" Single \"):\n",
        "    print(ammo, grenades, rockets, sep=sep)\n",
        "\n",
        "equip_weapon(1)\n",
        "equip_weapon(2, 5)\n",
        "equip_weapon(3, rockets=15)\n",
        "equip_weapon(4, sep=\" Rapid-Fire \")"
      ]
    },
    {
      "cell_type": "markdown",
      "id": "pBgXyLZMJV0I",
      "metadata": {
        "id": "pBgXyLZMJV0I"
      },
      "source": [
        "[Back to Questions](#scrollTo=g6dLm1Wv5yP6&line=1&uniqifier=1)"
      ]
    },
    {
      "cell_type": "code",
      "execution_count": null,
      "id": "q2AMBoGCTijh",
      "metadata": {
        "id": "q2AMBoGCTijh"
      },
      "outputs": [],
      "source": []
    },
    {
      "cell_type": "code",
      "execution_count": null,
      "id": "uBYd6f4XTihG",
      "metadata": {
        "id": "uBYd6f4XTihG"
      },
      "outputs": [],
      "source": []
    },
    {
      "cell_type": "code",
      "execution_count": null,
      "id": "Dki_tXLlTifF",
      "metadata": {
        "id": "Dki_tXLlTifF"
      },
      "outputs": [],
      "source": []
    },
    {
      "cell_type": "code",
      "execution_count": null,
      "id": "WBWPBusmTic2",
      "metadata": {
        "id": "WBWPBusmTic2"
      },
      "outputs": [],
      "source": []
    },
    {
      "cell_type": "code",
      "execution_count": null,
      "id": "DHJJ89UeTiaU",
      "metadata": {
        "id": "DHJJ89UeTiaU"
      },
      "outputs": [],
      "source": []
    },
    {
      "cell_type": "code",
      "execution_count": null,
      "id": "BgLmAg0NTiXU",
      "metadata": {
        "id": "BgLmAg0NTiXU"
      },
      "outputs": [],
      "source": []
    },
    {
      "cell_type": "markdown",
      "id": "9ac85334e71b8c61",
      "metadata": {
        "id": "9ac85334e71b8c61",
        "jp-MarkdownHeadingCollapsed": true
      },
      "source": [
        "#### Extra Lives & Score Calculation - $1000"
      ]
    },
    {
      "cell_type": "code",
      "execution_count": 39,
      "id": "a0cca985d84a7788",
      "metadata": {
        "colab": {
          "base_uri": "https://localhost:8080/"
        },
        "id": "a0cca985d84a7788",
        "jupyter": {
          "is_executing": true
        },
        "outputId": "ef0900e9-e831-41bb-b270-3f4aa6664b3b"
      },
      "outputs": [
        {
          "output_type": "stream",
          "name": "stdout",
          "text": [
            "((1, 2, 3, 1), [3, 5, 8])\n",
            "((4, 5, 2), [3, 5, 8])\n",
            "((6, 7, 8, 3), [3, 5, 8])\n"
          ]
        }
      ],
      "source": [
        "# What is the output?\n",
        "\n",
        "def modify_values(numbers=(1, 2, 3), data=[]):\n",
        "    data.append(numbers[-1])\n",
        "    numbers = numbers + (len(data),)\n",
        "    return numbers, data\n",
        "\n",
        "result1 = modify_values()\n",
        "result2 = modify_values((4, 5))\n",
        "result3 = modify_values((6, 7, 8))\n",
        "\n",
        "print(result1)\n",
        "print(result2)\n",
        "print(result3)"
      ]
    },
    {
      "cell_type": "markdown",
      "id": "LFvrULF1JXnX",
      "metadata": {
        "id": "LFvrULF1JXnX"
      },
      "source": [
        "[Back to Questions](#scrollTo=g6dLm1Wv5yP6&line=1&uniqifier=1)"
      ]
    },
    {
      "cell_type": "code",
      "execution_count": null,
      "id": "Vr4nlL5ZTlvL",
      "metadata": {
        "id": "Vr4nlL5ZTlvL"
      },
      "outputs": [],
      "source": []
    },
    {
      "cell_type": "code",
      "execution_count": null,
      "id": "fOp7l45MTlrW",
      "metadata": {
        "id": "fOp7l45MTlrW"
      },
      "outputs": [],
      "source": []
    },
    {
      "cell_type": "code",
      "execution_count": null,
      "id": "qm0wwfuETlof",
      "metadata": {
        "id": "qm0wwfuETlof"
      },
      "outputs": [],
      "source": []
    },
    {
      "cell_type": "code",
      "execution_count": null,
      "id": "tlwSPEaQTlkg",
      "metadata": {
        "id": "tlwSPEaQTlkg"
      },
      "outputs": [],
      "source": []
    },
    {
      "cell_type": "code",
      "execution_count": null,
      "id": "lYgBHh2fTlhk",
      "metadata": {
        "id": "lYgBHh2fTlhk"
      },
      "outputs": [],
      "source": []
    },
    {
      "cell_type": "code",
      "execution_count": null,
      "id": "XDyZYUOKTlfO",
      "metadata": {
        "id": "XDyZYUOKTlfO"
      },
      "outputs": [],
      "source": []
    },
    {
      "cell_type": "code",
      "execution_count": null,
      "id": "piiUnET5Tlc7",
      "metadata": {
        "id": "piiUnET5Tlc7"
      },
      "outputs": [],
      "source": []
    },
    {
      "cell_type": "markdown",
      "id": "Pz6SyokR0CUR",
      "metadata": {
        "id": "Pz6SyokR0CUR"
      },
      "source": [
        "\n",
        "\n",
        "---\n",
        "\n",
        "\n",
        "# 🏆 The Squid Game Challenge: The Library of Survival"
      ]
    },
    {
      "cell_type": "markdown",
      "id": "eb3c2aaf-e953-4a8f-8df1-664a33b51337",
      "metadata": {
        "id": "eb3c2aaf-e953-4a8f-8df1-664a33b51337"
      },
      "source": [
        "You are given access to a massive library, you must pass this Test to advance. Fail, and you’re eliminated!"
      ]
    },
    {
      "cell_type": "markdown",
      "id": "QdNmmH1BL3tq",
      "metadata": {
        "id": "QdNmmH1BL3tq"
      },
      "source": [
        "## **Task: Filter and Organize Books by Genre**  \n",
        "\n",
        "### **Function Description**  \n",
        "\n",
        "Write a function **`filter_and_organize_books`** that:  \n",
        "\n",
        "- Takes a **list of book tuples** (`book_list`) and a float (`min_price`, default `10.0`).  \n",
        "  - Each tuple contains: `(title (str), author (str), price (float), genre (str))`.  \n",
        "\n",
        "- **Keeps only books** with `price >= min_price`.  \n",
        "\n",
        "- **Organizes them into a dictionary** `{genre: [book titles]}`, where:  \n",
        "  - **Keys** are genres.  \n",
        "  - **Values** are lists of book titles.  \n",
        "  - A **genre is added only if at least one book meets the price condition**.  \n",
        "\n",
        "- **Returns** the dictionary. The function **must not print anything**.\n",
        "\n",
        "#### **Example Input:**  \n",
        "```python\n",
        "books = [\n",
        "    (\"The Hobbit\", \"J.R.R. Tolkien\", 12.99, \"Fantasy\"),\n",
        "    (\"A Brief History of Time\", \"Stephen Hawking\", 15.50, \"Science\"),\n",
        "    (\"The Great Gatsby\", \"F. Scott Fitzgerald\", 10.99, \"Classic\"),\n",
        "    (\"1984\", \"George Orwell\", 9.99, \"Dystopian\"),\n",
        "    (\"The Catcher in the Rye\", \"J.D. Salinger\", 8.99, \"Classic\"),\n",
        "    (\"Harry Potter\", \"J.K. Rowling\", 20.99, \"Fantasy\"),\n",
        "    (\"The Theory of Everything\", \"Stephen Hawking\", 14.75, \"Science\"),\n",
        "    (\"Brave New World\", \"Aldous Huxley\", 11.50, \"Dystopian\"),\n",
        "]\n",
        "```\n",
        "\n",
        "#### **Function Call:**  \n",
        "```python\n",
        "result = filter_and_organize_books(books, min_price=10.0)\n",
        "print(result)\n",
        "\n",
        "```\n",
        "\n",
        "#### **Expected Output:**  \n",
        "```python\n",
        "{\n",
        "    'Fantasy': ['The Hobbit', 'Harry Potter'],\n",
        "    'Science': ['A Brief History of Time', 'The Theory of Everything'],\n",
        "    'Classic': ['The Great Gatsby'],\n",
        "    'Dystopian': ['Brave New World']\n",
        "}\n",
        "```"
      ]
    },
    {
      "cell_type": "code",
      "execution_count": 40,
      "id": "c0ebef12",
      "metadata": {
        "id": "c0ebef12"
      },
      "outputs": [],
      "source": [
        "book_list = [\n",
        "    (\"The Hobbit\", \"J.R.R. Tolkien\", 12.99, \"Fantasy\"),\n",
        "    (\"A Brief History of Time\", \"Stephen Hawking\", 15.50, \"Science\"),\n",
        "    (\"The Great Gatsby\", \"F. Scott Fitzgerald\", 10.99, \"Classic\"),\n",
        "    (\"1984\", \"George Orwell\", 9.99, \"Dystopian\"),\n",
        "    (\"The Catcher in the Rye\", \"J.D. Salinger\", 8.99, \"Classic\"),\n",
        "    (\"Harry Potter\", \"J.K. Rowling\", 20.99, \"Fantasy\"),\n",
        "    (\"The Theory of Everything\", \"Stephen Hawking\", 14.75, \"Science\"),\n",
        "    (\"Brave New World\", \"Aldous Huxley\", 11.50, \"Dystopian\"),\n",
        "]"
      ]
    },
    {
      "cell_type": "code",
      "execution_count": 41,
      "id": "39a6868a-be34-4788-a6cd-85db0f6fa4fe",
      "metadata": {
        "id": "39a6868a-be34-4788-a6cd-85db0f6fa4fe"
      },
      "outputs": [],
      "source": [
        "def filter_and_organize_books(book_list, min_price=10.0):\n",
        "    '''\n",
        "    (list of tuples, float) -> dict\n",
        "\n",
        "    Filters books based on a minimum price and organizes them by genre.\n",
        "    Only includes books with a price greater than or equal to 'min_price'.\n",
        "\n",
        "    Parameters:\n",
        "    - book_list (list of tuples): Each tuple contains (title, author, price, genre).\n",
        "    - min_price (float, optional): Minimum price to include a book. Default is 10.0.\n",
        "\n",
        "\n",
        "    - Iterate through the book list and check each book's price.\n",
        "    - If the price meets the condition, extract the title and genre.\n",
        "    - Create a new list if the filtered genre is not already present\n",
        "    - Add the book title to the corresponding genre in the dictionary.\n",
        "\n",
        "    Returns:\n",
        "    - dict: A dictionary where keys are genres and values are lists of book titles.\n",
        "\n",
        "    '''\n",
        "\n",
        "    book_dict = {}\n",
        "\n",
        "    for book in book_list:\n",
        "        price = book[2]  # Extract price\n",
        "\n",
        "        if price >= min_price:\n",
        "            title = book[0]  # Extract title\n",
        "            genre = book[3]  # Extract genre\n",
        "\n",
        "            if genre not in book_dict:\n",
        "                book_dict[genre] = []  # Create a new list if genre not present\n",
        "\n",
        "            book_dict[genre].append(title)  # Add book title to the genre list\n",
        "\n",
        "    return book_dict"
      ]
    },
    {
      "cell_type": "code",
      "execution_count": 42,
      "id": "36d82e8b-5ac2-430a-b5e0-dd389b3d5039",
      "metadata": {
        "id": "36d82e8b-5ac2-430a-b5e0-dd389b3d5039",
        "outputId": "105795c7-9643-4e5b-e8d0-f4a24fc4dda5",
        "colab": {
          "base_uri": "https://localhost:8080/"
        }
      },
      "outputs": [
        {
          "output_type": "stream",
          "name": "stdout",
          "text": [
            "{'Fantasy': ['The Hobbit', 'Harry Potter'], 'Science': ['A Brief History of Time', 'The Theory of Everything'], 'Classic': ['The Great Gatsby'], 'Dystopian': ['Brave New World']}\n"
          ]
        }
      ],
      "source": [
        "# Test 1\n",
        "\n",
        "result = filter_and_organize_books(book_list)\n",
        "print(result)"
      ]
    },
    {
      "cell_type": "code",
      "execution_count": 43,
      "id": "acb55977-edb8-4ac9-877a-98982cfae211",
      "metadata": {
        "id": "acb55977-edb8-4ac9-877a-98982cfae211",
        "outputId": "ba759792-d3a4-4479-bede-8e46477358f9",
        "colab": {
          "base_uri": "https://localhost:8080/"
        }
      },
      "outputs": [
        {
          "output_type": "stream",
          "name": "stdout",
          "text": [
            "{'Fantasy': ['The Hobbit', 'Harry Potter'], 'Science': ['A Brief History of Time', 'The Theory of Everything']}\n"
          ]
        }
      ],
      "source": [
        "# Test 2\n",
        "\n",
        "user_defined_min_price = 12.5\n",
        "\n",
        "result = filter_and_organize_books(book_list, user_defined_min_price)\n",
        "print(result)"
      ]
    },
    {
      "cell_type": "markdown",
      "id": "J7BVWduvJaFF",
      "metadata": {
        "id": "J7BVWduvJaFF"
      },
      "source": [
        "[Back to Questions](#scrollTo=g6dLm1Wv5yP6&line=1&uniqifier=1)"
      ]
    },
    {
      "cell_type": "code",
      "execution_count": null,
      "id": "3a50b61c-b3ca-425f-a618-f9efbf0a8694",
      "metadata": {
        "id": "3a50b61c-b3ca-425f-a618-f9efbf0a8694"
      },
      "outputs": [],
      "source": []
    }
  ],
  "metadata": {
    "colab": {
      "provenance": []
    },
    "kernelspec": {
      "display_name": "Python [conda env:base] *",
      "language": "python",
      "name": "conda-base-py"
    },
    "language_info": {
      "codemirror_mode": {
        "name": "ipython",
        "version": 3
      },
      "file_extension": ".py",
      "mimetype": "text/x-python",
      "name": "python",
      "nbconvert_exporter": "python",
      "pygments_lexer": "ipython3",
      "version": "3.12.7"
    }
  },
  "nbformat": 4,
  "nbformat_minor": 5
}