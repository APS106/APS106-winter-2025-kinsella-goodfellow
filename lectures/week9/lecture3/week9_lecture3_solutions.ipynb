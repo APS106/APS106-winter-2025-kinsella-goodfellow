{
  "cells": [
    {
      "cell_type": "markdown",
      "id": "WSGF5MaO5oY6",
      "metadata": {
        "id": "WSGF5MaO5oY6"
      },
      "source": [
        "# APS106 - TERM TEST 2 JEOPARDY"
      ]
    },
    {
      "cell_type": "markdown",
      "id": "g6dLm1Wv5yP6",
      "metadata": {
        "id": "g6dLm1Wv5yP6",
        "jp-MarkdownHeadingCollapsed": true
      },
      "source": [
        "### Table of Contents"
      ]
    },
    {
      "cell_type": "markdown",
      "id": "KdTE2n2c2v6z",
      "metadata": {
        "colab_type": "toc",
        "id": "KdTE2n2c2v6z"
      },
      "source": [
        ">[🎒 Pokémon GO: Catch ‘Em All](#scrollTo=ZbyCI7OszN3l)\n",
        "\n",
        ">>>>[Rearranging Pokémon Stats - $250](#scrollTo=60fbc0c3f365b428)\n",
        "\n",
        ">>>>[Pokémon Power Rankings - $500](#scrollTo=60af9d562d439df1)\n",
        "\n",
        ">>>>[Pokémon Training Boost - $1000](#scrollTo=b5342f01c93fc59d)\n",
        "\n",
        ">[🍄 Mario’s Coin Rush: Collect, Stack, and Win!](#scrollTo=kCUUfYfbzsJS)\n",
        "\n",
        ">>>>[Sorting Power-Ups in Mario’s Inventory - $250](#scrollTo=db1cf9f9c738992b)\n",
        "\n",
        ">>>>[Navigating the Warp Zones - $500](#scrollTo=81d24583a78e8ce7)\n",
        "\n",
        ">>>>[Collecting Coins and Bonus Lives - $1000](#scrollTo=908f98546dfcfe56)\n",
        "\n",
        ">[⛏️ Minecraft: Mastering Resources & Trades](#scrollTo=2pesKr50zzax)\n",
        "\n",
        ">>>>[Managing Your Minecraft Inventor - $250](#scrollTo=1716b911a1689147)\n",
        "\n",
        ">>>>[Resources in Your Chest - $500](#scrollTo=bcded41764f4fd29)\n",
        "\n",
        ">>>>[Trading with Villagers - $1000](#scrollTo=b8f2ec1341fc783e)\n",
        "\n",
        ">[🔥 Super Contra: Power-Up Tactics](#scrollTo=dsWr29Slz_FJ)\n",
        "\n",
        ">>>>[Extra Lives & Score Calculation - $250](#scrollTo=93f463e693949a2a)\n",
        "\n",
        ">>>>[Weapon Loadout Configuration - $500](#scrollTo=93801978e4c66c7b)\n",
        "\n",
        ">>>>[Filtering Enemy Waves & Obstacles - $1000](#scrollTo=9ac85334e71b8c61)\n",
        "\n",
        ">[🏆 The Squid Game Challenge: The Library of Survival](#scrollTo=Pz6SyokR0CUR)\n",
        "\n"
      ]
    },
    {
      "cell_type": "markdown",
      "id": "ZbyCI7OszN3l",
      "metadata": {
        "id": "ZbyCI7OszN3l",
        "jp-MarkdownHeadingCollapsed": true
      },
      "source": [
        "# 🎒 Pokémon GO: Catch ‘Em All"
      ]
    },
    {
      "cell_type": "markdown",
      "id": "60fbc0c3f365b428",
      "metadata": {
        "id": "60fbc0c3f365b428"
      },
      "source": [
        "#### Rearranging Pokémon Stats - $250"
      ]
    },
    {
      "cell_type": "code",
      "execution_count": null,
      "id": "4cc699d4",
      "metadata": {
        "colab": {
          "base_uri": "https://localhost:8080/"
        },
        "id": "4cc699d4",
        "jupyter": {
          "is_executing": true
        },
        "outputId": "0a1ab9be-eb08-4526-fe6b-47e39a7c02fd"
      },
      "outputs": [
        {
          "data": {
            "text/plain": [
              "['Pikachu', 'Squirtle', 'yellow']"
            ]
          },
          "execution_count": 234,
          "metadata": {},
          "output_type": "execute_result"
        }
      ],
      "source": [
        "# What is the output?\n",
        "\n",
        "pokemons = ['Pikachu', 'Charizard', 'Squirtle', 'Gengar']\n",
        "pokemons.append('pink')\n",
        "pokemons[4] = colours[1]\n",
        "pokemons[::2]"
      ]
    },
    {
      "cell_type": "markdown",
      "id": "r6c7cIgz8cJz",
      "metadata": {
        "id": "r6c7cIgz8cJz"
      },
      "source": [
        "[Back to Questions](#scrollTo=g6dLm1Wv5yP6&line=1&uniqifier=1)"
      ]
    },
    {
      "cell_type": "markdown",
      "id": "60af9d562d439df1",
      "metadata": {
        "id": "60af9d562d439df1"
      },
      "source": [
        "#### Pokémon Power Rankings - $500"
      ]
    },
    {
      "cell_type": "code",
      "execution_count": null,
      "id": "5f459630424563b8",
      "metadata": {
        "colab": {
          "base_uri": "https://localhost:8080/"
        },
        "id": "5f459630424563b8",
        "jupyter": {
          "is_executing": true
        },
        "outputId": "3d54d67a-999e-478a-8816-59e742877e50"
      },
      "outputs": [
        {
          "name": "stdout",
          "output_type": "stream",
          "text": [
            "[3000, 400, 60, 33, -50]\n"
          ]
        }
      ],
      "source": [
        "# How would you achieve this output from the below list (hint: 2 steps) -> [3000, 400, 60, 33, -50]?\n",
        "\n",
        "pokemon_power_list = [-50, 60, 400, 3000, 33]\n",
        "pokemon_power_list.sort() # Guess this 1\n",
        "pokemon_power_list.reverse() # Guess this 2\n",
        "print(pokemon_power_list)"
      ]
    },
    {
      "cell_type": "markdown",
      "id": "Afck6Lsa9Jmm",
      "metadata": {
        "id": "Afck6Lsa9Jmm"
      },
      "source": [
        "[Back to Questions](#scrollTo=g6dLm1Wv5yP6&line=1&uniqifier=1)"
      ]
    },
    {
      "cell_type": "markdown",
      "id": "b5342f01c93fc59d",
      "metadata": {
        "id": "b5342f01c93fc59d"
      },
      "source": [
        "#### Pokémon Training Boost - $1000"
      ]
    },
    {
      "cell_type": "code",
      "execution_count": null,
      "id": "o6m2RD-A_fQP",
      "metadata": {
        "colab": {
          "base_uri": "https://localhost:8080/"
        },
        "id": "o6m2RD-A_fQP",
        "outputId": "36411798-5d7b-4a04-bf01-ff979245f4cf"
      },
      "outputs": [
        {
          "data": {
            "text/plain": [
              "[50, 30, 90]"
            ]
          },
          "execution_count": 227,
          "metadata": {},
          "output_type": "execute_result"
        }
      ],
      "source": [
        "# What is the output?\n",
        "\n",
        "pokemon_power_list = [20, 40, 20, 20, 60, 80]\n",
        "new_pokemon_power_list = []\n",
        "\n",
        "for i in range(len(pokemon_power_list)):\n",
        "    if i % 2 == 1:\n",
        "        pokemon_power_list[i] += 10\n",
        "        new_pokemon_power_list.append(pokemon_power_list[i])\n",
        "\n",
        "new_pokemon_power_list"
      ]
    },
    {
      "cell_type": "markdown",
      "id": "Fo5HQCe_9LZJ",
      "metadata": {
        "id": "Fo5HQCe_9LZJ"
      },
      "source": [
        "[Back to Questions](#scrollTo=g6dLm1Wv5yP6&line=1&uniqifier=1)"
      ]
    },
    {
      "cell_type": "markdown",
      "id": "kCUUfYfbzsJS",
      "metadata": {
        "id": "kCUUfYfbzsJS",
        "jp-MarkdownHeadingCollapsed": true
      },
      "source": [
        "\n",
        "\n",
        "---\n",
        "\n",
        "\n",
        "# 🍄 Mario’s Coin Rush: Collect, Stack, and Win!"
      ]
    },
    {
      "cell_type": "markdown",
      "id": "db1cf9f9c738992b",
      "metadata": {
        "id": "db1cf9f9c738992b"
      },
      "source": [
        "#### Sorting Power-Ups in Mario’s Inventory - $250"
      ]
    },
    {
      "cell_type": "code",
      "execution_count": null,
      "id": "6b25f173",
      "metadata": {
        "colab": {
          "base_uri": "https://localhost:8080/",
          "height": 211
        },
        "id": "6b25f173",
        "jupyter": {
          "is_executing": true
        },
        "outputId": "10ba65d8-29fb-4fe4-c149-33db9cf3005e"
      },
      "outputs": [
        {
          "name": "stdout",
          "output_type": "stream",
          "text": [
            "1-Up 5 ['Super Star', 'Mega Mushroom']\n"
          ]
        }
      ],
      "source": [
        "# What is the output?\n",
        "\n",
        "def power_up_info():\n",
        "    power_ups = ('Mushroom', 'Fire Flower', 'Super Star', '1-Up', 'Mega Mushroom')\n",
        "    return sorted(power_ups), len(power_ups)\n",
        "\n",
        "sorted_power_ups, count = power_up_info()\n",
        "a, b, c, d, e = sorted_power_ups\n",
        "cde = [c, d, e]\n",
        "\n",
        "print(a, count, cde[::-2])\n"
      ]
    },
    {
      "cell_type": "markdown",
      "id": "oPP_cZKMIT9K",
      "metadata": {
        "id": "oPP_cZKMIT9K"
      },
      "source": [
        "[Back to Questions](#scrollTo=g6dLm1Wv5yP6&line=1&uniqifier=1)"
      ]
    },
    {
      "cell_type": "markdown",
      "id": "81d24583a78e8ce7",
      "metadata": {
        "id": "81d24583a78e8ce7"
      },
      "source": [
        "#### Navigating the Warp Zones - $500"
      ]
    },
    {
      "cell_type": "code",
      "execution_count": null,
      "id": "a5d4915ff9bb62e0",
      "metadata": {
        "colab": {
          "base_uri": "https://localhost:8080/"
        },
        "id": "a5d4915ff9bb62e0",
        "jupyter": {
          "is_executing": true
        },
        "outputId": "f143b3ba-07ad-4c0d-fb05-5330fa1b4049"
      },
      "outputs": [
        {
          "name": "stdout",
          "output_type": "stream",
          "text": [
            "Underwater\n",
            "Secret Warp\n"
          ]
        }
      ],
      "source": [
        "# This tuple contains the warp zone name, list of levels it connects to, and points earned\n",
        "warp_zones = (\n",
        "    ('Underground', ['Level 1', 'Level 2'], 100),\n",
        "    ('Sky', ['Level 2', 'Level 3'], 200),\n",
        "    ('Castle', ['Level 3', 'Level 4'], 300),\n",
        "    ('Underwater', ['Level 3', 'Level 4', 'Final Level'], 400),\n",
        "    ('Secret Warp', ['Level 4', 'Final Level'], 500)\n",
        ")\n",
        "\n",
        "x = warp_zones[-1][1][-1]\n",
        "for warp in warp_zones:\n",
        "    if x in warp[1]:\n",
        "        print(warp[0])\n",
        "\n",
        "\n",
        "# Options\n",
        "\n",
        "# Underwater\n",
        "# Secret Warp\n",
        "\n",
        "# Level 3\n",
        "# Level 4\n",
        "# Final Level\n",
        "\n",
        "# 100\n",
        "# 200\n",
        "# 300"
      ]
    },
    {
      "cell_type": "markdown",
      "id": "42tC0pbxIUUJ",
      "metadata": {
        "id": "42tC0pbxIUUJ"
      },
      "source": [
        "[Back to Questions](#scrollTo=g6dLm1Wv5yP6&line=1&uniqifier=1)"
      ]
    },
    {
      "cell_type": "markdown",
      "id": "908f98546dfcfe56",
      "metadata": {
        "id": "908f98546dfcfe56"
      },
      "source": [
        "#### Collecting Coins and Bonus Lives - $1000"
      ]
    },
    {
      "cell_type": "code",
      "execution_count": null,
      "id": "2c4d67eda01e802f",
      "metadata": {
        "id": "2c4d67eda01e802f",
        "outputId": "cc467c2d-70c1-47a1-dadb-e69a9ea89c15"
      },
      "outputs": [
        {
          "name": "stdout",
          "output_type": "stream",
          "text": [
            "{'Coin E', 'Coin F', 'Coin D', 'Coin A', 'Coin B', 'Coin H', 'Coin C', 'Coin G'}\n",
            "{'Coin E', 'Coin C'}\n",
            "{'Coin D', 'Coin A', 'Coin B'}\n"
          ]
        }
      ],
      "source": [
        "# Identify which output will give\n",
        "# A. Total collected coins,\n",
        "# B. Coins collected in both worlds,\n",
        "# C. Missed coins\n",
        "\n",
        "def collect_coins():\n",
        "    world_1_coins = {'Coin A', 'Coin B', 'Coin C', 'Coin D', 'Coin E'}\n",
        "    world_2_coins = {'Coin C', 'Coin E', 'Coin F', 'Coin G', 'Coin H'}\n",
        "\n",
        "    x = set()\n",
        "    for coin in world_1_coins | world_2_coins:\n",
        "        x.add(coin)\n",
        "\n",
        "    y = world_1_coins & world_2_coins\n",
        "\n",
        "    z = world_1_coins - world_2_coins\n",
        "\n",
        "    print(x)\n",
        "    print(y)\n",
        "    print(z)\n",
        "\n",
        "collect_coins()\n",
        "\n"
      ]
    },
    {
      "cell_type": "markdown",
      "id": "7o4UihUoHbDb",
      "metadata": {
        "id": "7o4UihUoHbDb"
      },
      "source": [
        "[Back to Questions](#scrollTo=g6dLm1Wv5yP6&line=1&uniqifier=1)"
      ]
    },
    {
      "cell_type": "markdown",
      "id": "2pesKr50zzax",
      "metadata": {
        "id": "2pesKr50zzax"
      },
      "source": [
        "\n",
        "\n",
        "---\n",
        "\n",
        "\n",
        "# ⛏️ Minecraft: Mastering Resources & Trades"
      ]
    },
    {
      "cell_type": "markdown",
      "id": "1716b911a1689147",
      "metadata": {
        "id": "1716b911a1689147",
        "jp-MarkdownHeadingCollapsed": true
      },
      "source": [
        "#### Managing Your Minecraft Inventor - $250"
      ]
    },
    {
      "cell_type": "code",
      "execution_count": null,
      "id": "185a638d",
      "metadata": {
        "id": "185a638d",
        "jupyter": {
          "is_executing": true
        },
        "outputId": "f761fdf7-59f0-4150-fee6-8460bd8096dd"
      },
      "outputs": [
        {
          "name": "stdout",
          "output_type": "stream",
          "text": [
            "dict_values([20, 29, 9000, 10])\n"
          ]
        }
      ],
      "source": [
        "# What is the output?\n",
        "\n",
        "inventory = {'Wood': 45, 'Stone': 101, 'Iron': 29, 'Diamond': 9000}\n",
        "inventory['Gold'] = 10\n",
        "\n",
        "inventory['Stone'] = 20\n",
        "inventory.pop('Wood')\n",
        "\n",
        "print(inventory.values())"
      ]
    },
    {
      "cell_type": "markdown",
      "id": "iKN-D-rLJJ6J",
      "metadata": {
        "id": "iKN-D-rLJJ6J"
      },
      "source": [
        "[Back to Questions](#scrollTo=g6dLm1Wv5yP6&line=1&uniqifier=1)"
      ]
    },
    {
      "cell_type": "markdown",
      "id": "bcded41764f4fd29",
      "metadata": {
        "id": "bcded41764f4fd29",
        "jp-MarkdownHeadingCollapsed": true
      },
      "source": [
        "#### Resources in Your Chest - $500"
      ]
    },
    {
      "cell_type": "code",
      "execution_count": null,
      "id": "d38849b0-1de5-4f3d-b739-778dbf4442d2",
      "metadata": {
        "id": "d38849b0-1de5-4f3d-b739-778dbf4442d2",
        "outputId": "dd4b93ef-0863-4c3e-d485-a22083e798ac"
      },
      "outputs": [
        {
          "name": "stdout",
          "output_type": "stream",
          "text": [
            "Iron 3\n"
          ]
        }
      ],
      "source": [
        "# What does the following code do?\n",
        "\n",
        "resources = ['Iron', 'Gold', 'Iron', 'Diamond', 'Gold', 'Iron']\n",
        "inventory = {}\n",
        "\n",
        "for item in resources:\n",
        "    if item in inventory:\n",
        "        inventory[item] += 1\n",
        "    else:\n",
        "        inventory[item] = 1\n",
        "\n",
        "x = list(inventory.keys())[0]\n",
        "for key, value in inventory.items():\n",
        "    if inventory[key] > inventory[x]:\n",
        "        x = key\n",
        "\n",
        "print(x, inventory[x])\n",
        "\n",
        "\n",
        "# A) Finds the longest word in the string.\n",
        "\n",
        "# B) Counts occurrences of each word and prints the most frequent one.\n",
        "\n",
        "# C) Sorts words alphabetically and prints the first one.\n",
        "\n",
        "# D) Counts the number of unique words and prints the total."
      ]
    },
    {
      "cell_type": "markdown",
      "id": "5hK9tcJrJI60",
      "metadata": {
        "id": "5hK9tcJrJI60"
      },
      "source": [
        "[Back to Questions](#scrollTo=g6dLm1Wv5yP6&line=1&uniqifier=1)"
      ]
    },
    {
      "cell_type": "markdown",
      "id": "b8f2ec1341fc783e",
      "metadata": {
        "id": "b8f2ec1341fc783e",
        "jp-MarkdownHeadingCollapsed": true
      },
      "source": [
        "#### Trading with Villagers - $1000"
      ]
    },
    {
      "cell_type": "code",
      "execution_count": null,
      "id": "7e809e7a01fb95cc",
      "metadata": {
        "id": "7e809e7a01fb95cc",
        "jupyter": {
          "is_executing": true
        }
      },
      "outputs": [],
      "source": [
        "# Only the output of this text file will be shown in the PPT\n",
        "\n",
        "# Writing a dictionary of Minecraft trade items and their counts to a file\n",
        "with open(\"villager_trades.txt\", \"w\") as file:\n",
        "    file.write(str({\n",
        "        'Emerald': 5,\n",
        "        'Gold Ingot': 10,\n",
        "        'Iron Ingot': 3,\n",
        "        'Diamond': 8,\n",
        "        'Redstone': 15\n",
        "    }))"
      ]
    },
    {
      "cell_type": "code",
      "execution_count": null,
      "id": "jrgQLZkQKzJB",
      "metadata": {
        "colab": {
          "base_uri": "https://localhost:8080/"
        },
        "id": "jrgQLZkQKzJB",
        "outputId": "b9124c5c-c1ff-4c5c-ea7c-bdfdec288257"
      },
      "outputs": [
        {
          "name": "stdout",
          "output_type": "stream",
          "text": [
            "Trade Inventory:\n",
            "{'Emerald': 5, 'Gold Ingot': 10, 'Iron Ingot': 3, 'Diamond': 8, 'Redstone': 15}\n",
            "\n",
            "Updated Trade Inventory:\n",
            "{5: 'Emerald', 8: 'Diamond', 15: 'Redstone', 'Gold Ingot': 100}\n"
          ]
        }
      ],
      "source": [
        "# What is the output?\n",
        "\n",
        "with open(\"villager_trades.txt\", \"r\") as file:\n",
        "    data = file.read()\n",
        "    trade_inventory = eval(data)\n",
        "\n",
        "print(\"Trade Inventory:\")\n",
        "print(trade_inventory)\n",
        "\n",
        "removed_item = trade_inventory.pop(\"Gold Ingot\")\n",
        "\n",
        "update_trade_inventory = {}\n",
        "for item, quantity in trade_inventory.items():\n",
        "    update_trade_inventory[quantity] = item\n",
        "\n",
        "update_trade_inventory[\"Gold Ingot\"] = 100\n",
        "\n",
        "removed_item = update_trade_inventory.pop(3)\n",
        "\n",
        "print(\"\\nUpdated Trade Inventory:\")\n",
        "print(update_trade_inventory)"
      ]
    },
    {
      "cell_type": "markdown",
      "id": "1iPN5QduJLnW",
      "metadata": {
        "id": "1iPN5QduJLnW"
      },
      "source": [
        "[Back to Questions](#scrollTo=g6dLm1Wv5yP6&line=1&uniqifier=1)"
      ]
    },
    {
      "cell_type": "markdown",
      "id": "dsWr29Slz_FJ",
      "metadata": {
        "id": "dsWr29Slz_FJ"
      },
      "source": [
        "\n",
        "\n",
        "---\n",
        "\n",
        "\n",
        "\n",
        "# 🔥 Super Contra: Power-Up Tactics"
      ]
    },
    {
      "cell_type": "markdown",
      "id": "93f463e693949a2a",
      "metadata": {
        "id": "93f463e693949a2a",
        "jp-MarkdownHeadingCollapsed": true
      },
      "source": [
        "#### Extra Lives & Score Calculation - $250"
      ]
    },
    {
      "cell_type": "code",
      "execution_count": null,
      "id": "43eed43bed35aeac",
      "metadata": {
        "colab": {
          "base_uri": "https://localhost:8080/"
        },
        "id": "43eed43bed35aeac",
        "jupyter": {
          "is_executing": true
        },
        "outputId": "3c87f64b-c145-4571-d5bf-52e648b934a8"
      },
      "outputs": [
        {
          "name": "stdout",
          "output_type": "stream",
          "text": [
            "False\n"
          ]
        }
      ],
      "source": [
        "# What is the output?\n",
        "\n",
        "lives = [1, 1, 1, 2, 2, 3]\n",
        "\n",
        "def get_score(y=None):\n",
        "    if y is not None:\n",
        "        y = y\n",
        "    else:\n",
        "        y = set(lives)\n",
        "    return sum(y)\n",
        "\n",
        "score1 = get_score([1, 2, 3])\n",
        "score2 = get_score()\n",
        "\n",
        "print(score1 < score2)"
      ]
    },
    {
      "cell_type": "markdown",
      "id": "f5lFYSzyJT8C",
      "metadata": {
        "id": "f5lFYSzyJT8C"
      },
      "source": [
        "[Back to Questions](#scrollTo=g6dLm1Wv5yP6&line=1&uniqifier=1)"
      ]
    },
    {
      "cell_type": "markdown",
      "id": "93801978e4c66c7b",
      "metadata": {
        "id": "93801978e4c66c7b",
        "jp-MarkdownHeadingCollapsed": true
      },
      "source": [
        "#### Weapon Loadout Configuration - $500"
      ]
    },
    {
      "cell_type": "code",
      "execution_count": null,
      "id": "770fd48610020462",
      "metadata": {
        "colab": {
          "base_uri": "https://localhost:8080/"
        },
        "id": "770fd48610020462",
        "outputId": "692a1e57-cda0-4361-f5ce-6284b3360ea7"
      },
      "outputs": [
        {
          "name": "stdout",
          "output_type": "stream",
          "text": [
            "1 Single 10 Single 20\n",
            "2 Single 5 Single 20\n",
            "3 Single 10 Single 15\n",
            "4 Rapid-Fire 10 Rapid-Fire 20\n"
          ]
        }
      ],
      "source": [
        "# What's the output?\n",
        "\n",
        "def equip_weapon(ammo, grenades=10, rockets=20, sep=\" Single \"):\n",
        "    print(ammo, grenades, rockets, sep=sep)\n",
        "\n",
        "equip_weapon(1)\n",
        "equip_weapon(2, 5)\n",
        "equip_weapon(3, rockets=15)\n",
        "equip_weapon(4, sep=\" Rapid-Fire \")"
      ]
    },
    {
      "cell_type": "markdown",
      "id": "pBgXyLZMJV0I",
      "metadata": {
        "id": "pBgXyLZMJV0I"
      },
      "source": [
        "[Back to Questions](#scrollTo=g6dLm1Wv5yP6&line=1&uniqifier=1)"
      ]
    },
    {
      "cell_type": "markdown",
      "id": "9ac85334e71b8c61",
      "metadata": {
        "id": "9ac85334e71b8c61",
        "jp-MarkdownHeadingCollapsed": true
      },
      "source": [
        "#### Filtering Enemy Waves & Obstacles - $1000"
      ]
    },
    {
      "cell_type": "code",
      "execution_count": null,
      "id": "a0cca985d84a7788",
      "metadata": {
        "colab": {
          "base_uri": "https://localhost:8080/"
        },
        "id": "a0cca985d84a7788",
        "jupyter": {
          "is_executing": true
        },
        "outputId": "53d90ac2-fa60-46be-8743-15cd75ab4ad9"
      },
      "outputs": [
        {
          "name": "stdout",
          "output_type": "stream",
          "text": [
            "True\n"
          ]
        }
      ],
      "source": [
        "# What is the output?\n",
        "\n",
        "enemy_types = {\"grunt\", \"tank\", \"turret\", \"boss\", \"droid\", \"sniper\", \"scout\", \"missile\"}\n",
        "obstacles = [\"wall\", \"bunker\", \"minefield\", \"barbed wire\", \"watchtower\", \"traps\", \"spikes\"]\n",
        "\n",
        "battlefield = [\"wall\", \"grunt\", \"tank\", \"bunker\", \"sniper\", \"boulder\", \"boss\", \"watchtower\", \"scout\", \"turret\", \"droid\", \"traps\", \"spikes\", \"missile\", \"barbed wire\"]\n",
        "\n",
        "def f(elements, remove_enemies=True, remove_obstacles=True):\n",
        "    result = []\n",
        "    for e in elements:\n",
        "        if remove_enemies and e in enemy_types:\n",
        "            continue\n",
        "        if remove_obstacles and e in obstacles:\n",
        "            continue\n",
        "        result.append(e)\n",
        "    return result\n",
        "\n",
        "output = f(battlefield)\n",
        "\n",
        "print(f(filtered, remove_obstacles=False) == filtered)"
      ]
    },
    {
      "cell_type": "markdown",
      "id": "LFvrULF1JXnX",
      "metadata": {
        "id": "LFvrULF1JXnX"
      },
      "source": [
        "[Back to Questions](#scrollTo=g6dLm1Wv5yP6&line=1&uniqifier=1)"
      ]
    },
    {
      "cell_type": "markdown",
      "id": "Pz6SyokR0CUR",
      "metadata": {
        "id": "Pz6SyokR0CUR"
      },
      "source": [
        "\n",
        "\n",
        "---\n",
        "\n",
        "\n",
        "# 🏆 The Squid Game Challenge: The Library of Survival"
      ]
    },
    {
      "cell_type": "markdown",
      "id": "eb3c2aaf-e953-4a8f-8df1-664a33b51337",
      "metadata": {
        "id": "eb3c2aaf-e953-4a8f-8df1-664a33b51337"
      },
      "source": [
        "You are given access to a massive library, you must pass this Test to advance. Fail, and you’re eliminated!"
      ]
    },
    {
      "cell_type": "markdown",
      "id": "QdNmmH1BL3tq",
      "metadata": {
        "id": "QdNmmH1BL3tq"
      },
      "source": [
        "### **Task: Filter and Organize Books by Genre**  \n",
        "\n",
        "#### **Task Description:**  \n",
        "You need to **write a function** that:  \n",
        "- Takes a **list of book tuples** and a **minimum price** (`default = 10.0`).\n",
        "  - The input list contains tuples with 4 elements:\n",
        "  - (Title (str), Author (str), Price (float), Genre (str))\n",
        "- Filters books based on the **minimum price condition**.  \n",
        "- Organizes them into a **dictionary**, where:  \n",
        "  - The **key** is the genre.  \n",
        "  - The **value** is a **list of book titles** under that genre.  \n",
        "- **Returns** the dictionary containing books categorized by genre.  \n",
        "\n",
        "\n",
        "### **Expected Output:**  \n",
        "```python\n",
        "{\n",
        "    'Fantasy': ['The Hobbit', 'Harry Potter'],\n",
        "    'Science': ['A Brief History of Time', 'The Theory of Everything'],\n",
        "    'Classic': ['The Great Gatsby'],\n",
        "    'Dystopian': ['Brave New World']\n",
        "}\n",
        "```\n",
        "\n",
        "\n",
        "Finally, call `filter_and_organize_books(scraped_books)`"
      ]
    },
    {
      "cell_type": "code",
      "execution_count": null,
      "id": "c0ebef12",
      "metadata": {
        "id": "c0ebef12"
      },
      "outputs": [],
      "source": [
        "scraped_books = [\n",
        "    (\"The Hobbit\", \"J.R.R. Tolkien\", 12.99, \"Fantasy\"),\n",
        "    (\"A Brief History of Time\", \"Stephen Hawking\", 15.50, \"Science\"),\n",
        "    (\"The Great Gatsby\", \"F. Scott Fitzgerald\", 10.99, \"Classic\"),\n",
        "    (\"1984\", \"George Orwell\", 9.99, \"Dystopian\"),\n",
        "    (\"The Catcher in the Rye\", \"J.D. Salinger\", 8.99, \"Classic\"),\n",
        "    (\"Harry Potter\", \"J.K. Rowling\", 20.99, \"Fantasy\"),\n",
        "    (\"The Theory of Everything\", \"Stephen Hawking\", 14.75, \"Science\"),\n",
        "    (\"Brave New World\", \"Aldous Huxley\", 11.50, \"Dystopian\"),\n",
        "]"
      ]
    },
    {
      "cell_type": "code",
      "execution_count": null,
      "id": "39a6868a-be34-4788-a6cd-85db0f6fa4fe",
      "metadata": {
        "id": "39a6868a-be34-4788-a6cd-85db0f6fa4fe"
      },
      "outputs": [],
      "source": [
        "def filter_and_organize_books(book_list, min_price=10.0):\n",
        "    \"\"\"\n",
        "    Filters books based on a minimum price and organizes them by genre.\n",
        "\n",
        "    Parameters:\n",
        "    - book_list (list of tuples): Each tuple contains (title, author, price, genre).\n",
        "    - min_price (float, optional): Minimum price to include a book. Default is 10.0.\n",
        "\n",
        "    Returns:\n",
        "    - dict: A dictionary where the keys are genres and the values are lists of book titles\n",
        "            that meet the price condition.\n",
        "    \"\"\"\n",
        "\n",
        "    book_dict = {}\n",
        "\n",
        "    for book in book_list:\n",
        "        price = book[2]  # Extract price\n",
        "\n",
        "        if price >= min_price:\n",
        "            title = book[0]  # Extract title\n",
        "            genre = book[3]  # Extract genre\n",
        "\n",
        "            if genre not in book_dict:\n",
        "                book_dict[genre] = []  # Create a new list if genre not present\n",
        "\n",
        "            book_dict[genre].append(title)  # Add book title to the genre list\n",
        "\n",
        "    return book_dict"
      ]
    },
    {
      "cell_type": "code",
      "execution_count": null,
      "id": "36d82e8b-5ac2-430a-b5e0-dd389b3d5039",
      "metadata": {
        "id": "36d82e8b-5ac2-430a-b5e0-dd389b3d5039",
        "outputId": "0bc1018d-06fb-4b9c-8e46-98145dbab6e8"
      },
      "outputs": [
        {
          "name": "stdout",
          "output_type": "stream",
          "text": [
            "Filtered books with user defined minimum price: {'Fantasy': ['The Hobbit', 'Harry Potter'], 'Science': ['A Brief History of Time', 'The Theory of Everything']}\n",
            "\n",
            "Filtered books with default minimum price: {'Fantasy': ['The Hobbit', 'Harry Potter'], 'Science': ['A Brief History of Time', 'The Theory of Everything'], 'Classic': ['The Great Gatsby'], 'Dystopian': ['Brave New World']}\n"
          ]
        }
      ],
      "source": [
        "# Test\n",
        "user_defined_min_price = 12\n",
        "print(\"Filtered books with user defined minimum price:\", filter_books_by_price(scraped_books, user_defined_min_price))\n",
        "print(\"\\nFiltered books with default minimum price:\", filter_books_by_price(scraped_books))"
      ]
    },
    {
      "cell_type": "markdown",
      "id": "J7BVWduvJaFF",
      "metadata": {
        "id": "J7BVWduvJaFF"
      },
      "source": [
        "[Back to Questions](#scrollTo=g6dLm1Wv5yP6&line=1&uniqifier=1)"
      ]
    },
    {
      "cell_type": "code",
      "execution_count": null,
      "id": "abd05abc-1674-4125-880f-972577373793",
      "metadata": {
        "id": "abd05abc-1674-4125-880f-972577373793"
      },
      "outputs": [],
      "source": []
    },
    {
      "cell_type": "markdown",
      "id": "38b36314-6f90-4ec0-8a40-6367985bb7ce",
      "metadata": {
        "id": "38b36314-6f90-4ec0-8a40-6367985bb7ce"
      },
      "source": [
        "# OR"
      ]
    },
    {
      "cell_type": "markdown",
      "id": "8433f064-0dae-4cbf-bf10-c038af9156dc",
      "metadata": {
        "id": "8433f064-0dae-4cbf-bf10-c038af9156dc"
      },
      "source": [
        "### **Algorithm for `generate_email_recommendations`**  \n",
        "\n",
        "#### **Input:**  \n",
        "- `customers`: A list of dictionaries, where each dictionary contains:  \n",
        "  - `\"first_name\"` (string) → Customer’s first name  \n",
        "  - `\"purchases\"` (set) → Set of past purchases  \n",
        "  - `\"email\"` (string) → Customer’s email address  \n",
        "- `set_of_gadgets_in_stock`: A set containing available gadgets  \n",
        "- `email_template` (optional, default: `\"Check out our latest gadgets!\"`): A string used as the base email message  \n",
        "\n",
        "#### **Output:**  \n",
        "- A dictionary where:  \n",
        "  - The **keys** are customer emails  \n",
        "  - The **values** are dictionaries containing:  \n",
        "    - `\"email\"` → The customer's email address  \n",
        "    - `\"email_message\"` → A personalized message with recommendations  \n",
        "\n",
        "\n",
        "### **Steps:**  \n",
        "1. **Iterate through each customer** in `customers`:  \n",
        "   - Extract `\"first_name\"` from the customer dictionary.  \n",
        "   - Extract `\"email\"` from the customer dictionary.  \n",
        "   - Extract `\"purchases\"` (set of past purchases).  \n",
        "3. **Find the intersection** of the customer’s past purchases and `set_of_gadgets_in_stock` to determine the recommended gadgets.  \n",
        "4. **Construct the email message**:  \n",
        "   - Start with `\"Hello \" + first_name + \",\"` (Greeting).  \n",
        "   - Add the `email_template`.  \n",
        "   - Append the `recommendation_set` (converted to a string).  \n",
        "   - End with `\"Thank you\"`.  \n",
        "5. **Store the result in `email_dict`** with the email as the key and a dictionary containing the email and message as the value.  \n",
        "6. **Return `email_dict`** containing all the personalized recommendations."
      ]
    },
    {
      "cell_type": "code",
      "execution_count": null,
      "id": "VJk4o-zZQsxy",
      "metadata": {
        "id": "VJk4o-zZQsxy"
      },
      "outputs": [],
      "source": [
        "customers = [\n",
        "    {\"first_name\": \"Alice\", \"purchases\": {\"iPhone\", \"MacBook\", \"AirPods\"}, \"email\": \"alice@example.com\"},\n",
        "    {\"first_name\": \"Bob\", \"purchases\": {\"Galaxy S21\", \"MacBook\", \"Surface Pro\"}, \"email\": \"bob@example.com\"}\n",
        "]\n",
        "\n",
        "set_of_gadgets_in_stock = {\"MacBook\", \"iPad\", \"Galaxy S21\"}"
      ]
    },
    {
      "cell_type": "code",
      "execution_count": null,
      "id": "eabb96c8-dd63-4794-a6d3-de937bed4d56",
      "metadata": {
        "id": "eabb96c8-dd63-4794-a6d3-de937bed4d56"
      },
      "outputs": [],
      "source": [
        "def generate_email_recommendations(customers, set_of_gadgets_in_stock, email_template=\"Check out our latest gadgets!\"):\n",
        "    \"\"\"\n",
        "    Generates a dictionary of email messages with recommended gadgets.\n",
        "    \"\"\"\n",
        "    email_dict = {}  # Store customer emails and messages\n",
        "\n",
        "    for customer in customers:\n",
        "        first_name = customer[\"first_name\"]\n",
        "        email = customer[\"email\"]\n",
        "        past_purchases = customer[\"purchases\"]\n",
        "\n",
        "        # Find intersection of past purchases and available stock\n",
        "        recommendation_set = past_purchases.intersection(set_of_gadgets_in_stock)\n",
        "\n",
        "        # Create email message\n",
        "        email_message = \"Hello \" + first_name + \",\\n\" + email_template + \"\\n\" + str(recommendation_set) + \"\\nThank you\"\n",
        "\n",
        "        # Store in dictionary\n",
        "        email_dict[email] = {\"email\": email, \"email_message\": email_message}\n",
        "\n",
        "    return email_dict\n"
      ]
    },
    {
      "cell_type": "code",
      "execution_count": null,
      "id": "8cad3913-52bd-4d78-9fea-1f64683739fe",
      "metadata": {
        "id": "8cad3913-52bd-4d78-9fea-1f64683739fe",
        "outputId": "66ebe4d4-a4d5-4cec-9b1c-573ef6c68b0d"
      },
      "outputs": [
        {
          "data": {
            "text/plain": [
              "{'alice@example.com': {'email': 'alice@example.com',\n",
              "  'email_message': \"Hello Alice,\\nCheck out our latest gadgets!\\n{'MacBook'}\\nThank you\"},\n",
              " 'bob@example.com': {'email': 'bob@example.com',\n",
              "  'email_message': \"Hello Bob,\\nCheck out our latest gadgets!\\n{'MacBook', 'Galaxy S21'}\\nThank you\"}}"
            ]
          },
          "execution_count": 163,
          "metadata": {},
          "output_type": "execute_result"
        }
      ],
      "source": [
        "generate_email_recommendations(customers, set_of_gadgets_in_stock)"
      ]
    },
    {
      "cell_type": "code",
      "execution_count": null,
      "id": "3a50b61c-b3ca-425f-a618-f9efbf0a8694",
      "metadata": {
        "id": "3a50b61c-b3ca-425f-a618-f9efbf0a8694"
      },
      "outputs": [],
      "source": []
    }
  ],
  "metadata": {
    "colab": {
      "collapsed_sections": [
        "g6dLm1Wv5yP6",
        "ZbyCI7OszN3l",
        "60fbc0c3f365b428",
        "60af9d562d439df1",
        "b5342f01c93fc59d",
        "kCUUfYfbzsJS",
        "db1cf9f9c738992b",
        "81d24583a78e8ce7",
        "908f98546dfcfe56",
        "2pesKr50zzax",
        "1716b911a1689147",
        "bcded41764f4fd29",
        "b8f2ec1341fc783e",
        "dsWr29Slz_FJ",
        "93f463e693949a2a",
        "93801978e4c66c7b",
        "9ac85334e71b8c61",
        "Pz6SyokR0CUR"
      ],
      "provenance": []
    },
    "kernelspec": {
      "display_name": "Python [conda env:base] *",
      "language": "python",
      "name": "conda-base-py"
    },
    "language_info": {
      "codemirror_mode": {
        "name": "ipython",
        "version": 3
      },
      "file_extension": ".py",
      "mimetype": "text/x-python",
      "name": "python",
      "nbconvert_exporter": "python",
      "pygments_lexer": "ipython3",
      "version": "3.12.7"
    }
  },
  "nbformat": 4,
  "nbformat_minor": 5
}