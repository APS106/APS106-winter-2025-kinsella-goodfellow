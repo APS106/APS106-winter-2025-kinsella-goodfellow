{
 "cells": [
  {
   "cell_type": "markdown",
   "metadata": {},
   "source": [
    "# APS106 - Fundamentals of Computer Programming\n",
    "## Week 6 | Lecture 1 (6.2) - More `for` Loops\n",
    "\n",
    "### Lecture Structure\n",
    "1. [Breakout Session 1](#section1)\n",
    "2. [Using `range()`](#section2)\n",
    "3. [Example 1](#section3)\n",
    "4. [Breakout Session 2](#section4)\n",
    "5. [Nested for Loops](#section5)\n",
    "6. [Turtles](#section6)\n",
    "7. [Grid](#section7)\n",
    "8. [Breakout Session 3](#section8)\n",
    "9. [Advanced Turtles](#section9)"
   ]
  },
  {
   "cell_type": "markdown",
   "metadata": {},
   "source": [
    "<a id='section1'></a>\n",
    "## 1. Breakout Session 1\n",
    "We need to remove all punctuation from the text of each tweet so we can conducted a more detailed analysis. If any of the characters in `punctuations` are in a tweet, we want to replace them with a space `' '`.\n",
    "\n",
    "```python\n",
    "punctuations = '!\"#$%&\\'()*+,-./:;<=>?@[\\\\]^_`{|}~'\n",
    "```"
   ]
  },
  {
   "cell_type": "markdown",
   "metadata": {},
   "source": [
    "First, let's look at two of Dean Yip's tweets."
   ]
  },
  {
   "cell_type": "code",
   "execution_count": null,
   "metadata": {},
   "outputs": [],
   "source": [
    "tweet_1 = \"\"\"\n",
    "Totally agree. - so awesome to see students in person -  \n",
    "and not just students but faculty, staff - and everyone in the  \n",
    "@uoftengineering community -\n",
    "\"\"\"\n",
    "print(tweet_1)"
   ]
  },
  {
   "cell_type": "code",
   "execution_count": null,
   "metadata": {},
   "outputs": [],
   "source": [
    "tweet_2 = \"\"\"\n",
    "great to hear from Prof. Bussman, Chair of @uoftmie \n",
    "about all the stuff that MechE do .... - amazing  \n",
    "breadth of impact... exciting stuff across so many domains\n",
    "\"\"\"\n",
    "print(tweet_2)"
   ]
  },
  {
   "cell_type": "markdown",
   "metadata": {},
   "source": [
    "Hint: `string.replace()`\n",
    "\n",
    "Complete the function below."
   ]
  },
  {
   "cell_type": "code",
   "execution_count": null,
   "metadata": {},
   "outputs": [],
   "source": [
    "def remove_punctuation(string):\n",
    "    \n",
    "    \"\"\"\n",
    "    (str) -> str\n",
    "    Return string with puncutations replaced by a single space.\n",
    "    \"\"\"\n",
    "    \n",
    "    # Set punctuations\n",
    "    punctuations = '!\"#$%&\\'()*+,-./:;<=>?@[\\\\]^_`{|}~'\n",
    "    \n",
    "    # Make string lower case\n",
    "    ...\n",
    "    \n",
    "    # Loop through characters in string and convert punctuations to white space\n",
    "    ...\n",
    "    \n",
    "    return ..."
   ]
  },
  {
   "cell_type": "markdown",
   "metadata": {},
   "source": [
    "Let's test out our function.\n",
    "#### Tweet 1"
   ]
  },
  {
   "cell_type": "code",
   "execution_count": null,
   "metadata": {},
   "outputs": [],
   "source": [
    "print('Original Text')\n",
    "print(tweet_1)\n",
    "print('\\nProcessed Text')\n",
    "print(remove_punctuation(tweet_1))"
   ]
  },
  {
   "cell_type": "markdown",
   "metadata": {},
   "source": [
    "#### Tweet 2"
   ]
  },
  {
   "cell_type": "code",
   "execution_count": null,
   "metadata": {},
   "outputs": [],
   "source": [
    "print('Original Text')\n",
    "print(tweet_2)\n",
    "print('\\nProcessed Text')\n",
    "print(remove_punctuation(tweet_2))"
   ]
  },
  {
   "cell_type": "markdown",
   "metadata": {},
   "source": [
    "<a id='section2'></a>\n",
    "## 2. Using `range()`\n",
    "Python has a built-in function called range() that is useful to use when you want to generate a sequence of numbers. You can type help(range) in the Python interpreter."
   ]
  },
  {
   "cell_type": "code",
   "execution_count": null,
   "metadata": {},
   "outputs": [],
   "source": [
    "help(range)"
   ]
  },
  {
   "cell_type": "markdown",
   "metadata": {},
   "source": [
    "`range()` produces a sequence of numbers starting at start and up to but *not including* stop. Just like in slicing.\n",
    "\n",
    "`range()` is typically used in a for loop to iterate over a sequence of numbers. \n",
    "\n",
    "**What Can You Do with range()?**\n",
    "\n",
    "You can tell `range()` what index to start at if you don't want to start at the default which is 0."
   ]
  },
  {
   "cell_type": "code",
   "execution_count": null,
   "metadata": {},
   "outputs": [],
   "source": [
    "chrome_4 = \"ATGGGCAATCGATGGCCTAATCTCTCTAAG\"\n",
    "\n",
    "for i in range(1, len(chrome_4)):\n",
    "    print(i, chrome_4[i])"
   ]
  },
  {
   "cell_type": "markdown",
   "metadata": {},
   "source": [
    "You can even specify the \"step\" for range: how do you increment the numbers?. The default step size is 1, which means that numbers increment by 1. The example below starts at index 1 and its step size is three (goes to every third index)."
   ]
  },
  {
   "cell_type": "code",
   "execution_count": null,
   "metadata": {},
   "outputs": [],
   "source": [
    "for i in range(1, len(chrome_4), 3):\n",
    "    print(i, chrome_4[i])"
   ]
  },
  {
   "cell_type": "markdown",
   "metadata": {},
   "source": [
    "This also gives us flexibility to process only part of a string. For example, we can print only the first half of the list:"
   ]
  },
  {
   "cell_type": "code",
   "execution_count": null,
   "metadata": {},
   "outputs": [],
   "source": [
    "for i in range(len(chrome_4) // 2):\n",
    "    print(chrome_4[i], end=\" \")"
   ]
  },
  {
   "cell_type": "markdown",
   "metadata": {},
   "source": [
    "More examples"
   ]
  },
  {
   "cell_type": "code",
   "execution_count": null,
   "metadata": {},
   "outputs": [],
   "source": [
    "# Iterate over the numbers 0, 1, 2, 3, and 4\n",
    "for i in range(5):\n",
    "    print (i)"
   ]
  },
  {
   "cell_type": "code",
   "execution_count": null,
   "metadata": {},
   "outputs": [],
   "source": [
    "# Iterate over the numbers 2, 3, and 4\n",
    "for i in range(2, 5):\n",
    "    print (i)"
   ]
  },
  {
   "cell_type": "markdown",
   "metadata": {},
   "source": []
  },
  {
   "cell_type": "code",
   "execution_count": null,
   "metadata": {},
   "outputs": [],
   "source": [
    "# Iterate over the numbers 3, 6, 9, 12, 15, and 18\n",
    "for i in range(3, 20, 3):\n",
    "    print (i)"
   ]
  },
  {
   "cell_type": "markdown",
   "metadata": {},
   "source": [
    "<a id='section3'></a>\n",
    "## 3. Example 1\n",
    "Add up all the even numbers between 1 and 100 using a `for` loop and `range()`.\n",
    "\n",
    "```python\n",
    "1 + 2 + 3 + ... + 98 + 99 + 100\n",
    "```"
   ]
  },
  {
   "cell_type": "code",
   "execution_count": null,
   "metadata": {},
   "outputs": [],
   "source": [
    "total = 0\n",
    "\n",
    "# Write your code here\n",
    "...\n",
    "\n",
    "print('sum(2 + 4 + ... + 96 + 98 + 100) =', total)"
   ]
  },
  {
   "cell_type": "markdown",
   "metadata": {},
   "source": [
    "<a id='section4'></a>\n",
    "## 4. Breakout Session 2\n",
    "Write a function that returns the number of times that a character and the next character are the same.  \n",
    "```python\n",
    "count_adjacent_repeats('abccdeffggh')\n",
    ">>> 3\n",
    "\n",
    "count_adjacent_repeats('lfkdgdwefopkgtrjhhjhhjjj')\n",
    ">>> 4\n",
    "```"
   ]
  },
  {
   "cell_type": "code",
   "execution_count": null,
   "metadata": {},
   "outputs": [],
   "source": [
    "def count_adjacent_repeats(s):\n",
    "    \"\"\"\n",
    "    (str) -> int\n",
    "    Returns the number of times that two consecutive characters are the same.\n",
    "    \"\"\"\n",
    "    # Write your code here\n",
    "    ...\n",
    "\n",
    "    return ..."
   ]
  },
  {
   "cell_type": "markdown",
   "metadata": {},
   "source": []
  },
  {
   "cell_type": "markdown",
   "metadata": {},
   "source": [
    "#### Test 1\n",
    "Answer: `3`"
   ]
  },
  {
   "cell_type": "code",
   "execution_count": null,
   "metadata": {},
   "outputs": [],
   "source": [
    "print(count_adjacent_repeats('abccdeffggh'))"
   ]
  },
  {
   "cell_type": "markdown",
   "metadata": {},
   "source": [
    "#### Test 2\n",
    "Answer: `4`"
   ]
  },
  {
   "cell_type": "code",
   "execution_count": null,
   "metadata": {},
   "outputs": [],
   "source": [
    "print(count_adjacent_repeats('lfkdgdwefopkgtrjhhjhhjjj'))"
   ]
  },
  {
   "cell_type": "markdown",
   "metadata": {},
   "source": [
    "<a id='section5'></a>\n",
    "## 5. Nested `for` Loops"
   ]
  },
  {
   "cell_type": "code",
   "execution_count": null,
   "metadata": {},
   "outputs": [],
   "source": [
    "for i in range(10, 13):\n",
    "    for j in range(1, 5):\n",
    "        print(i, j)"
   ]
  },
  {
   "cell_type": "markdown",
   "metadata": {},
   "source": [
    "What is going on here? Let's add some `print` statements to help jus understand."
   ]
  },
  {
   "cell_type": "code",
   "execution_count": null,
   "metadata": {},
   "outputs": [],
   "source": [
    "for i in range(10, 13):\n",
    "    print(\"Outer loop. i =\", i)\n",
    "    for j in range(1, 5):\n",
    "        print(\"  Inner loop:\", i, j)"
   ]
  },
  {
   "cell_type": "markdown",
   "metadata": {},
   "source": [
    "Notice that when `i` is 10, the inner loop executes in its entirety, and only after `j` has ranged from 1 through 4 is `i` incremented to the value 11."
   ]
  },
  {
   "cell_type": "markdown",
   "metadata": {},
   "source": [
    "<a id='section6'></a>\n",
    "## 6. Turtles\n",
    "There is a built-in turtles packaged called `turtle` with more functionality but it doesn't render in the notebook. We'll use `jupyturtle` for an easy introduction to `Turtle`. I have included it in a custom package called `utils`. \n",
    "\n",
    "<br>\n",
    "<img src=\"images/turtle_image1.png\" alt=\"drawing\" width=\"1000\"/>\n",
    "<br>"
   ]
  },
  {
   "cell_type": "markdown",
   "metadata": {},
   "source": [
    "### Draw A Straight Line"
   ]
  },
  {
   "cell_type": "code",
   "execution_count": null,
   "metadata": {},
   "outputs": [],
   "source": [
    "# Import the Turtle object from the utils module.\n",
    "from utils import Turtle\n",
    "\n",
    "# Instantiate a turtle object\n",
    "turtle = Turtle(delay=1)\n",
    "\n",
    "# Ask the turtle to move forward (to the right) by 50 steps, then 100 steps and finally 50 steps.\n",
    "turtle.forward(50)\n",
    "turtle.forward(100)\n",
    "turtle.forward(50)"
   ]
  },
  {
   "cell_type": "markdown",
   "metadata": {},
   "source": [
    "### Moving Around\n",
    "The turtle starts out at position `(500, 250)`. Top left is `(0, 0)`."
   ]
  },
  {
   "cell_type": "code",
   "execution_count": null,
   "metadata": {},
   "outputs": [],
   "source": [
    "# Instantiate a turtle object\n",
    "turtle = Turtle(delay=1)\n",
    "\n",
    "# Move your turtle\n",
    "turtle.move_to(200, 200)\n",
    "turtle.move_to(200, 400)\n",
    "turtle.move_to(400, 400)\n",
    "turtle.move_to(400, 200)\n",
    "turtle.move_to(200, 200)\n",
    "turtle.move_to(500, 250)"
   ]
  },
  {
   "cell_type": "markdown",
   "metadata": {},
   "source": [
    "### Rotating\n",
    "You can can rotate `.left()` or `.right()` relative to the turtle current bearing."
   ]
  },
  {
   "cell_type": "code",
   "execution_count": null,
   "metadata": {},
   "outputs": [],
   "source": [
    "# Instantiate a turtle object\n",
    "turtle = Turtle(delay=1)\n",
    "\n",
    "# Move your turtle\n",
    "turtle.left(90)\n",
    "turtle.left(90)\n",
    "turtle.right(90)\n",
    "turtle.left(90)\n",
    "turtle.left(90)\n",
    "turtle.right(90)"
   ]
  },
  {
   "cell_type": "markdown",
   "metadata": {},
   "source": [
    "### Draw A Straight Line Pointing North-East"
   ]
  },
  {
   "cell_type": "code",
   "execution_count": null,
   "metadata": {},
   "outputs": [],
   "source": [
    "# Instantiate a turtle object\n",
    "turtle = Turtle(delay=1)\n",
    "\n",
    "# Move your turtle\n",
    "turtle.left(45)\n",
    "turtle.forward(100)"
   ]
  },
  {
   "cell_type": "markdown",
   "metadata": {},
   "source": [
    "### Draw A Circle"
   ]
  },
  {
   "cell_type": "code",
   "execution_count": null,
   "metadata": {},
   "outputs": [],
   "source": [
    "# Instantiate a turtle object\n",
    "turtle = Turtle(delay=0.01) \n",
    "\n",
    "# Move your turtle\n",
    "for _ in range(360):\n",
    "    turtle.forward(2)\n",
    "    turtle.left(1)"
   ]
  },
  {
   "cell_type": "markdown",
   "metadata": {},
   "source": [
    "### Draw A Square"
   ]
  },
  {
   "cell_type": "code",
   "execution_count": null,
   "metadata": {},
   "outputs": [],
   "source": [
    "# Instantiate a turtle object\n",
    "turtle = Turtle(delay=1)\n",
    "\n",
    "# Move your turtle\n",
    "turtle.forward(100)\n",
    "turtle.left(90)\n",
    "turtle.forward(100)\n",
    "turtle.left(90)\n",
    "turtle.forward(100)\n",
    "turtle.left(90)\n",
    "turtle.forward(100)\n",
    "turtle.left(90)"
   ]
  },
  {
   "cell_type": "markdown",
   "metadata": {},
   "source": [
    "### Draw A Triangle"
   ]
  },
  {
   "cell_type": "code",
   "execution_count": null,
   "metadata": {},
   "outputs": [],
   "source": [
    "# Instantiate a turtle object\n",
    "turtle = Turtle(delay=1) \n",
    "\n",
    "# Move your turtle\n",
    "turtle.forward(200)\n",
    "turtle.left(120)\n",
    "turtle.forward(200)\n",
    "turtle.left(120)\n",
    "turtle.forward(200)\n",
    "turtle.left(120)"
   ]
  },
  {
   "cell_type": "markdown",
   "metadata": {},
   "source": [
    "### Draw This Cool Thing"
   ]
  },
  {
   "cell_type": "code",
   "execution_count": null,
   "metadata": {},
   "outputs": [],
   "source": [
    "# Instantiate a turtle object\n",
    "turtle = Turtle(delay=0.1) \n",
    "\n",
    "# Move your turtle\n",
    "for _ in range(18):\n",
    "    turtle.left(20)\n",
    "    for _ in range(3):\n",
    "        turtle.forward(200, 120)"
   ]
  },
  {
   "cell_type": "markdown",
   "metadata": {},
   "source": [
    "<a id='section7'></a>\n",
    "## 7. Draw A Grid\n",
    "We are going to use the function below called `marker` to draw a grid of squares. You don't need to understand whats going on inside the function but you do need to know how it work (read the docstring). The `marker` function will draw a square at position `(x, y)` or size `size`."
   ]
  },
  {
   "cell_type": "code",
   "execution_count": null,
   "metadata": {},
   "outputs": [],
   "source": [
    "def marker(x, y, turtle, size):\n",
    "    \"\"\"\n",
    "    (x, y, Turtle, size) -> None\n",
    "    Draw a square of specified size at coordinate (x,y)\n",
    "    \"\"\"\n",
    "    turtle.jump_to(x, y)\n",
    "    turtle.jump_to(x+size/2, y+size/2)  \n",
    "    turtle.move_to(x-size/2, y+size/2)\n",
    "    turtle.move_to(x-size/2, y-size/2)\n",
    "    turtle.move_to(x+size/2, y-size/2)\n",
    "    turtle.move_to(x+size/2, y+size/2)  \n",
    "    turtle.jump_to(x, y)"
   ]
  },
  {
   "cell_type": "markdown",
   "metadata": {},
   "source": [
    "Now, let's use two nested `for` loops to draw the grid shown below. \n",
    "\n",
    "<br>\n",
    "<img src=\"images/turtle_image2.png\" alt=\"drawing\" width=\"1000\"/>\n",
    "<br>"
   ]
  },
  {
   "cell_type": "code",
   "execution_count": null,
   "metadata": {},
   "outputs": [],
   "source": [
    "# Instantiate a turtle object\n",
    "turtle = Turtle(delay=0.1)\n",
    "\n",
    "# Move your turtle\n",
    "for x in range(100, 901, 100):\n",
    "    for y in range(100, 401, 100):\n",
    "        marker(x, y, turtle, 20)"
   ]
  },
  {
   "cell_type": "markdown",
   "metadata": {},
   "source": [
    "<a id='section8'></a>\n",
    "## 8. Breakout Session 3\n",
    "Using what you learned in the previous section, create the grid pattern in the image below. You should use the previous function `marker(x, y, turtle, size)` below. The function `marker` takes `x` and `y` coodinates, a `turtle` object and a `size`. The `size` controls the size of the box.\n",
    "\n",
    "Using the starter code below, you must:\n",
    "1. Fill in the `x` and `y` for loops to create a grid with `x = 100, 300, 500, 700, 900` and `y = 100, 250, 400`.\n",
    "2. Add an additional `for` loop to create three boxes of sizes `30`, `60`, and `90` at each `(x, y)` grid position.\n",
    "\n",
    "<br>\n",
    "<img src=\"images/turtle_image3.png\" alt=\"drawing\" width=\"1000\"/>\n",
    "<br>"
   ]
  },
  {
   "cell_type": "code",
   "execution_count": null,
   "metadata": {},
   "outputs": [],
   "source": [
    "# Instantiate a turtle object\n",
    "turtle = Turtle(delay=0.05)\n",
    "\n",
    "# Move your turtle\n",
    "for ...:\n",
    "    for ...\n",
    "\n",
    "        ..."
   ]
  },
  {
   "cell_type": "markdown",
   "metadata": {},
   "source": [
    "<a id='section9'></a>\n",
    "## 9. Breakout Session 4\n",
    "Using what you learned in the previous section, create the grid pattern in the image below.\n",
    "\n",
    "<br>\n",
    "<img src=\"images/turtle_image4.png\" alt=\"drawing\" width=\"1000\"/>\n",
    "<br>"
   ]
  },
  {
   "cell_type": "code",
   "execution_count": null,
   "metadata": {},
   "outputs": [],
   "source": [
    "# Instantiate a turtle object\n",
    "turtle = Turtle(delay=0.05)\n",
    "\n",
    "# Move your turtle\n",
    "for ...:\n",
    "    for ...:\n",
    "        \n",
    "        ..."
   ]
  }
 ],
 "metadata": {
  "kernelspec": {
   "display_name": "Python 3 (ipykernel)",
   "language": "python",
   "name": "python3"
  },
  "language_info": {
   "codemirror_mode": {
    "name": "ipython",
    "version": 3
   },
   "file_extension": ".py",
   "mimetype": "text/x-python",
   "name": "python",
   "nbconvert_exporter": "python",
   "pygments_lexer": "ipython3",
   "version": "3.11.5"
  }
 },
 "nbformat": 4,
 "nbformat_minor": 4
}
