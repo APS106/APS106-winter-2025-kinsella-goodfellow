{
 "cells": [
  {
   "metadata": {},
   "cell_type": "markdown",
   "source": [
    "# APS106 - Fundamentals of Computer Programming\n",
    "## Week 6 | Lecture 1 (6.2) - More `for` Loops\n",
    "\n",
    "### Lecture Structure\n",
    "1. [Breakout Session 1](#section1)\n",
    "2. [Using `range()`](#section2)\n",
    "3. [Example 1](#section3)\n",
    "4. [Breakout Session 2](#section4)\n",
    "5. [Nested for Loops](#section5)\n",
    "6. [Turtles](#section6)\n",
    "7. [Grid](#section7)\n",
    "8. [Breakout Session 3](#section8)\n",
    "9. [Advanced Turtles](#section9)"
   ]
  },
  {
   "metadata": {},
   "cell_type": "markdown",
   "source": [
    "<a id='section1'></a>\n",
    "## 1. Breakout Session 1\n",
    "We need to remove all punctuation from the text of each tweet so we can conducted a more detailed analysis. If any of the characters in `punctuations` are in a tweet, we want to replace them with a space `' '`.\n",
    "\n",
    "```python\n",
    "punctuations = '!\"#$%&\\'()*+,-./:;<=>?@[\\\\]^_`{|}~'\n",
    "```"
   ]
  },
  {
   "metadata": {},
   "cell_type": "markdown",
   "source": "First, let's look at two of Dean Yip's tweets."
  },
  {
   "metadata": {},
   "cell_type": "code",
   "outputs": [],
   "execution_count": null,
   "source": [
    "tweet_1 = \"\"\"\n",
    "Totally agree. - so awesome to see students in person -  \n",
    "and not just students but faculty, staff - and everyone in the  \n",
    "@uoftengineering community -\n",
    "\"\"\"\n",
    "print(tweet_1)"
   ]
  },
  {
   "metadata": {},
   "cell_type": "code",
   "outputs": [],
   "execution_count": null,
   "source": [
    "tweet_2 = \"\"\"\n",
    "great to hear from Prof. Bussman, Chair of @uoftmie \n",
    "about all the stuff that MechE do .... - amazing  \n",
    "breadth of impact... exciting stuff across so many domains\n",
    "\"\"\"\n",
    "print(tweet_2)"
   ]
  },
  {
   "metadata": {},
   "cell_type": "markdown",
   "source": [
    "Hint: `string.replace()`\n",
    "\n",
    "Complete the function below."
   ]
  },
  {
   "metadata": {},
   "cell_type": "code",
   "outputs": [],
   "execution_count": null,
   "source": [
    "def remove_punctuation(string):\n",
    "    \n",
    "    \"\"\"\n",
    "    (str) -> str\n",
    "    Return string with puncutations replaced by a single space.\n",
    "    \"\"\"\n",
    "    \n",
    "    # Set punctuations\n",
    "    punctuations = '!\"#$%&\\'()*+,-./:;<=>?@[\\\\]^_`{|}~'\n",
    "    \n",
    "    # Make string lower case\n",
    "    ...\n",
    "    \n",
    "    # Loop through characters in string and convert punctuations to white space\n",
    "    ...\n",
    "    \n",
    "    return ..."
   ]
  },
  {
   "metadata": {},
   "cell_type": "markdown",
   "source": [
    "Let's test out our function.\n",
    "#### Tweet 1"
   ]
  },
  {
   "metadata": {},
   "cell_type": "code",
   "outputs": [],
   "execution_count": null,
   "source": [
    "print('Original Text')\n",
    "print(tweet_1)\n",
    "print('\\nProcessed Text')\n",
    "print(remove_punctuation(tweet_1))"
   ]
  },
  {
   "metadata": {},
   "cell_type": "markdown",
   "source": "#### Tweet 2"
  },
  {
   "metadata": {},
   "cell_type": "code",
   "outputs": [],
   "execution_count": null,
   "source": [
    "print('Original Text')\n",
    "print(tweet_2)\n",
    "print('\\nProcessed Text')\n",
    "print(remove_punctuation(tweet_2))"
   ]
  },
  {
   "metadata": {},
   "cell_type": "markdown",
   "source": [
    "<a id='section2'></a>\n",
    "## 2. Using `range()`\n",
    "Python has a built-in function called range() that is useful to use when you want to generate a sequence of numbers. You can type help(range) in the Python interpreter."
   ]
  },
  {
   "metadata": {},
   "cell_type": "code",
   "outputs": [],
   "execution_count": null,
   "source": "help(range)"
  },
  {
   "metadata": {},
   "cell_type": "markdown",
   "source": [
    "`range()` produces a sequence of numbers starting at start and up to but *not including* stop. Just like in slicing.\n",
    "\n",
    "`range()` is typically used in a for loop to iterate over a sequence of numbers. \n",
    "\n",
    "**What Can You Do with range()?**\n",
    "\n",
    "You can tell `range()` what index to start at if you don't want to start at the default which is 0."
   ]
  },
  {
   "metadata": {},
   "cell_type": "code",
   "outputs": [],
   "execution_count": null,
   "source": [
    "chrome_4 = \"ATGGGCAATCGATGGCCTAATCTCTCTAAG\"\n",
    "\n",
    "for i in range(1, len(chrome_4)):\n",
    "    print(i, chrome_4[i])"
   ]
  },
  {
   "metadata": {},
   "cell_type": "markdown",
   "source": "You can even specify the \"step\" for range: how do you increment the numbers?. The default step size is 1, which means that numbers increment by 1. The example below starts at index 1 and its step size is three (goes to every third index)."
  },
  {
   "metadata": {},
   "cell_type": "code",
   "outputs": [],
   "execution_count": null,
   "source": [
    "for i in range(1, len(chrome_4), 3):\n",
    "    print(i, chrome_4[i])"
   ]
  },
  {
   "metadata": {},
   "cell_type": "markdown",
   "source": "This also gives us flexibility to process only part of a string. For example, we can print only the first half of the list:"
  },
  {
   "metadata": {},
   "cell_type": "code",
   "outputs": [],
   "execution_count": null,
   "source": [
    "for i in range(len(chrome_4) // 2):\n",
    "    print(chrome_4[i], end=\" \")"
   ]
  },
  {
   "metadata": {},
   "cell_type": "markdown",
   "source": "More examples"
  },
  {
   "metadata": {},
   "cell_type": "code",
   "outputs": [],
   "execution_count": null,
   "source": [
    "# Iterate over the numbers 0, 1, 2, 3, and 4\n",
    "for i in range(5):\n",
    "    print (i)"
   ]
  },
  {
   "metadata": {},
   "cell_type": "code",
   "outputs": [],
   "execution_count": null,
   "source": [
    "# Iterate over the numbers 2, 3, and 4\n",
    "for i in range(2, 5):\n",
    "    print (i)"
   ]
  },
  {
   "metadata": {},
   "cell_type": "markdown",
   "source": ""
  },
  {
   "metadata": {},
   "cell_type": "code",
   "outputs": [],
   "execution_count": null,
   "source": [
    "# Iterate over the numbers 3, 6, 9, 12, 15, and 18\n",
    "for i in range(3, 20, 3):\n",
    "    print (i)"
   ]
  },
  {
   "metadata": {},
   "cell_type": "markdown",
   "source": [
    "<a id='section3'></a>\n",
    "## 3. Example 1\n",
    "Add up all the even numbers between 1 and 100 using a `for` loop and `range()`.\n",
    "\n",
    "```python\n",
    "1 + 2 + 3 + ... + 98 + 99 + 100\n",
    "```"
   ]
  },
  {
   "metadata": {},
   "cell_type": "code",
   "outputs": [],
   "execution_count": null,
   "source": [
    "total = 0\n",
    "\n",
    "# Write your code here\n",
    "...\n",
    "\n",
    "print('sum(2 + 4 + ... + 96 + 98 + 100) =', total)"
   ]
  },
  {
   "metadata": {},
   "cell_type": "markdown",
   "source": [
    "<a id='section4'></a>\n",
    "## 4. Breakout Session 2\n",
    "Write a function that returns the number of times that a character and the next character are the same.  \n",
    "```python\n",
    "count_adjacent_repeats('abccdeffggh')\n",
    ">>> 3\n",
    "\n",
    "count_adjacent_repeats('lfkdgdwefopkgtrjhhjhhjjj')\n",
    ">>> 4\n",
    "```"
   ]
  },
  {
   "metadata": {},
   "cell_type": "code",
   "outputs": [],
   "execution_count": null,
   "source": [
    "def count_adjacent_repeats(s):\n",
    "    \"\"\"\n",
    "    (str) -> int\n",
    "    Returns the number of times that two consecutive characters are the same.\n",
    "    \"\"\"\n",
    "    # Write your code here\n",
    "    ...\n",
    "\n",
    "    return ..."
   ]
  },
  {
   "metadata": {},
   "cell_type": "markdown",
   "source": ""
  },
  {
   "metadata": {},
   "cell_type": "markdown",
   "source": [
    "#### Test 1\n",
    "Answer: `3`"
   ]
  },
  {
   "metadata": {},
   "cell_type": "code",
   "outputs": [],
   "execution_count": null,
   "source": "print(count_adjacent_repeats('abccdeffggh'))"
  },
  {
   "metadata": {},
   "cell_type": "markdown",
   "source": [
    "#### Test 2\n",
    "Answer: `4`"
   ]
  },
  {
   "metadata": {},
   "cell_type": "code",
   "outputs": [],
   "execution_count": null,
   "source": "print(count_adjacent_repeats('lfkdgdwefopkgtrjhhjhhjjj'))"
  },
  {
   "metadata": {},
   "cell_type": "markdown",
   "source": [
    "<a id='section5'></a>\n",
    "## 5. Nested `for` Loops"
   ]
  },
  {
   "metadata": {},
   "cell_type": "code",
   "outputs": [],
   "execution_count": null,
   "source": [
    "for i in range(10, 13):\n",
    "    for j in range(1, 5):\n",
    "        print(i, j)"
   ]
  },
  {
   "metadata": {},
   "cell_type": "markdown",
   "source": "What is going on here? Let's add some `print` statements to help jus understand."
  },
  {
   "metadata": {},
   "cell_type": "code",
   "outputs": [],
   "execution_count": null,
   "source": [
    "for i in range(10, 13):\n",
    "    print(\"Outer loop. i =\", i)\n",
    "    for j in range(1, 5):\n",
    "        print(\"  Inner loop:\", i, j)"
   ]
  },
  {
   "metadata": {},
   "cell_type": "markdown",
   "source": "Notice that when `i` is 10, the inner loop executes in its entirety, and only after `j` has ranged from 1 through 4 is `i` incremented to the value 11."
  },
  {
   "metadata": {},
   "cell_type": "markdown",
   "source": [
    "<a id='section6'></a>\n",
    "## 6. Turtles\n",
    "Install the Turtles package `mobilechelonian` that renders in the notebook. "
   ]
  },
  {
   "metadata": {},
   "cell_type": "code",
   "outputs": [],
   "execution_count": null,
   "source": "!pip install mobilechelonian"
  },
  {
   "metadata": {},
   "cell_type": "markdown",
   "source": "There is a built-in turtles packaged called `turtle` with more functionality but it doesn't render in the notebook. We'll use `mobilechelonian` for an easy introduction to `Turtle`."
  },
  {
   "metadata": {},
   "cell_type": "markdown",
   "source": "### Draw A Straight Line"
  },
  {
   "metadata": {},
   "cell_type": "code",
   "outputs": [],
   "execution_count": null,
   "source": [
    "# Import the turtle package for notebooks\n",
    "from mobilechelonian import Turtle\n",
    "\n",
    "# Instantiate a turtle object\n",
    "turtle = Turtle()\n",
    "\n",
    "# Ask the turtle to move forward (to the right) by 100 pixels\n",
    "turtle.forward(400)"
   ]
  },
  {
   "metadata": {},
   "cell_type": "markdown",
   "source": [
    "### Moving Around\n",
    "The turtle starts out at position `(200, 200)`. Top left is `(0, 0)`."
   ]
  },
  {
   "metadata": {},
   "cell_type": "code",
   "outputs": [],
   "execution_count": null,
   "source": [
    "from mobilechelonian import Turtle\n",
    "\n",
    "turtle = Turtle()\n",
    "turtle.speed(10)\n",
    "turtle.setposition(0, 0)\n",
    "turtle.setposition(400, 0)\n",
    "turtle.setposition(400, 400)\n",
    "turtle.setposition(0, 400)\n",
    "turtle.setposition(0, 0)"
   ]
  },
  {
   "metadata": {},
   "cell_type": "markdown",
   "source": [
    "### Rotating\n",
    "You can can rotate `.left()` or `.right()` relative to the turtle current bearing."
   ]
  },
  {
   "metadata": {},
   "cell_type": "code",
   "outputs": [],
   "execution_count": null,
   "source": [
    "from mobilechelonian import Turtle\n",
    "\n",
    "turtle = Turtle()\n",
    "turtle.left(90)\n",
    "turtle.left(90)\n",
    "turtle.right(90)"
   ]
  },
  {
   "metadata": {},
   "cell_type": "markdown",
   "source": "### Draw A Circle"
  },
  {
   "metadata": {},
   "cell_type": "code",
   "outputs": [],
   "execution_count": null,
   "source": [
    "from mobilechelonian import Turtle\n",
    "\n",
    "turtle = Turtle()\n",
    "turtle.speed(10)\n",
    "turtle.circle(30)"
   ]
  },
  {
   "metadata": {},
   "cell_type": "markdown",
   "source": "### Draw A Straight Line Pointing North-East"
  },
  {
   "metadata": {},
   "cell_type": "code",
   "outputs": [],
   "execution_count": null,
   "source": [
    "from mobilechelonian import Turtle\n",
    "\n",
    "turtle = Turtle()\n",
    "turtle.speed(10)\n",
    "turtle.left(45)\n",
    "turtle.forward(100)"
   ]
  },
  {
   "metadata": {},
   "cell_type": "markdown",
   "source": "### Draw A Square"
  },
  {
   "metadata": {},
   "cell_type": "code",
   "outputs": [],
   "execution_count": null,
   "source": [
    "from mobilechelonian import Turtle\n",
    "\n",
    "turtle = Turtle()\n",
    "turtle.speed(10)\n",
    "turtle.forward(100)\n",
    "turtle.left(90)\n",
    "turtle.forward(100)\n",
    "turtle.left(90)\n",
    "turtle.forward(100)\n",
    "turtle.left(90)\n",
    "turtle.forward(100)\n",
    "turtle.left(90)"
   ]
  },
  {
   "metadata": {},
   "cell_type": "markdown",
   "source": "### Draw A Centered Square"
  },
  {
   "metadata": {},
   "cell_type": "code",
   "outputs": [],
   "execution_count": null,
   "source": [
    "from mobilechelonian import Turtle\n",
    "\n",
    "turtle = Turtle()\n",
    "turtle.speed(10)\n",
    "\n",
    "# Get to top left\n",
    "turtle.penup()\n",
    "turtle.forward(50)\n",
    "turtle.left(90)\n",
    "turtle.forward(50)\n",
    "turtle.left(90)\n",
    "turtle.pendown()\n",
    "\n",
    "# Draw square\n",
    "turtle.forward(100)\n",
    "turtle.left(90)\n",
    "turtle.forward(100)\n",
    "turtle.left(90)\n",
    "turtle.forward(100)\n",
    "turtle.left(90)\n",
    "turtle.forward(100)\n",
    "turtle.left(90)"
   ]
  },
  {
   "metadata": {},
   "cell_type": "markdown",
   "source": [
    "<a id='section7'></a>\n",
    "## 7. Grid"
   ]
  },
  {
   "metadata": {},
   "cell_type": "code",
   "outputs": [],
   "execution_count": null,
   "source": [
    "def marker(x, y, turtle, size):\n",
    "    \"\"\"\n",
    "    (x, y, Turtle, size) -> None\n",
    "    Draw a square of specified size at coordinate (x,y)\n",
    "    \"\"\"\n",
    "    turtle.penup()\n",
    "    turtle.setposition(x, y)\n",
    "    turtle.pendown()\n",
    "    turtle.setposition(x+size, y)  \n",
    "    turtle.setposition(x+size, y-size)\n",
    "    turtle.setposition(x, y-size)\n",
    "    turtle.setposition(x, y)"
   ]
  },
  {
   "metadata": {},
   "cell_type": "code",
   "outputs": [],
   "execution_count": null,
   "source": [
    "from mobilechelonian import Turtle\n",
    "\n",
    "turtle = Turtle()\n",
    "turtle.speed(10)\n",
    "\n",
    "for x in range(50, 351, 50):\n",
    "    for y in range(50, 351, 50):\n",
    "\n",
    "        marker(x, y, turtle, 20)"
   ]
  },
  {
   "metadata": {},
   "cell_type": "markdown",
   "source": [
    "<a id='section8'></a>\n",
    "## 8. Breakout Session 3\n",
    "Using what you learned in the previous section, create the grid patter in the image below.\n",
    "<br>\n",
    "<img src=\"images/breakout_3.png\" alt=\"drawing\" width=\"300\"/>\n",
    "<br>\n",
    "You should use the previously function `marker(x, y, turtle, size)` below. The function `marker` takes `x` and `y` coodinates, a `turtle` object and a `size`. The `size` controls the size of the box."
   ]
  },
  {
   "metadata": {},
   "cell_type": "code",
   "outputs": [],
   "execution_count": null,
   "source": [
    "def marker(x, y, turtle, size):\n",
    "    \"\"\"\n",
    "    (x, y, Turtle, size) -> None\n",
    "    Draw a square of specified size at coordinate (x,y)\n",
    "    \"\"\"\n",
    "    turtle.penup()\n",
    "    turtle.setposition(x, y)\n",
    "    turtle.pendown()\n",
    "    turtle.setposition(x+size, y)  \n",
    "    turtle.setposition(x+size, y-size)\n",
    "    turtle.setposition(x, y-size)\n",
    "    turtle.setposition(x, y)"
   ]
  },
  {
   "metadata": {},
   "cell_type": "markdown",
   "source": [
    "Using the starter code below, you must:\n",
    "1. Fill in the `x` and `y` for loops to create a grid with `x = 100, 150, 200, 250, 300` and `y = 100, 150, 200, 250, 300`.\n",
    "2. Add an additional `for` loop to create three boxes of sizes `10`, `20`, and `30` at each `(x, y)` grid position."
   ]
  },
  {
   "metadata": {},
   "cell_type": "code",
   "outputs": [],
   "execution_count": null,
   "source": [
    "from mobilechelonian import Turtle\n",
    "\n",
    "turtle = Turtle()\n",
    "turtle.speed(5)\n",
    "\n",
    "for x ...:\n",
    "    for y ...:\n",
    "        for scale ...:\n",
    "            \n",
    "            marker(x, y, turtle, scale)"
   ]
  },
  {
   "metadata": {},
   "cell_type": "markdown",
   "source": [
    "<a id='section9'></a>\n",
    "## 9. Advanced Turtles\n",
    "Looking for another challenge? Create a function `draw_polygon(x, y, num_sides, side_length)` that draws a polygon at `(x, y)`. "
   ]
  },
  {
   "metadata": {},
   "cell_type": "code",
   "outputs": [],
   "execution_count": null,
   "source": [
    "from mobilechelonian import Turtle\n",
    "\n",
    "def draw_polygon(num_sides, side_length, x=200, y=200):\n",
    "    \n",
    "    \"\"\"\n",
    "    (x, y, num_sides, side_length) -> None\n",
    "    Draw a polygon with given number of sides, side length and origin.\n",
    "    \"\"\"\n",
    "    \n",
    "    # Intialize turtle\n",
    "    turtle = Turtle()\n",
    "    turtle.speed(10)\n",
    "    turtle.penup()\n",
    "    turtle.setposition(x, y)\n",
    "    \n",
    "    # Calculate iterior angle at each vertex\n",
    "    angle = 360.0 // num_sides\n",
    "\n",
    "    # Loop through vertices\n",
    "    turtle.pendown()\n",
    "    for i in range(num_sides): \n",
    "        turtle.forward(side_length) \n",
    "        turtle.left(angle)\n",
    "    turtle.penup()"
   ]
  },
  {
   "metadata": {},
   "cell_type": "markdown",
   "source": "### Test"
  },
  {
   "metadata": {},
   "cell_type": "code",
   "outputs": [],
   "execution_count": null,
   "source": "draw_polygon(num_sides=6, side_length=30, x=100, y=150)"
  },
  {
   "metadata": {},
   "cell_type": "code",
   "outputs": [],
   "execution_count": null,
   "source": ""
  }
 ],
 "metadata": {
  "kernelspec": {
   "display_name": "Python 3",
   "language": "python",
   "name": "python3"
  },
  "language_info": {
   "codemirror_mode": {
    "name": "ipython",
    "version": 3
   },
   "file_extension": ".py",
   "mimetype": "text/x-python",
   "name": "python",
   "nbconvert_exporter": "python",
   "pygments_lexer": "ipython3",
   "version": "3.6.15"
  }
 },
 "nbformat": 4,
 "nbformat_minor": 1
}
