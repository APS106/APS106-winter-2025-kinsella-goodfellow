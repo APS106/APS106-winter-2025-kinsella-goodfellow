{
 "cells": [
  {
   "metadata": {},
   "cell_type": "code",
   "outputs": [],
   "execution_count": null,
   "source": [
    "# APS106 - Fundamentals of Computer Programming\n",
    "## Week 6 | Lecture 1 (6.2) - More `for` Loops\n",
    "\n",
    "### This Week\n",
    "| Lecture | Topics |\n",
    "| --- | --- |\n",
    "| 6.1 | for-loops: `while` is so last month |\n",
    "| **6.2** | **for-loops on indices, nested loops** |\n",
    "| 6.3 | Design Problem: Cryptography |\n",
    "\n",
    "### Lecture Structure\n",
    "1. [Breakout Session 1](#section1)\n",
    "2. [Using `range()`](#section2)\n",
    "3. [Example 1](#section3)\n",
    "4. [Breakout Session 2](#section4)\n",
    "5. [Nested for Loops](#section5)\n",
    "6. [Turtles](#section6)\n",
    "7. [Grid](#section7)\n",
    "8. [Breakout Session 3](#section8)\n",
    "9. [Advanced Turtles](#section9)"
   ],
   "id": "4b833abdf44cad60"
  },
  {
   "metadata": {},
   "cell_type": "markdown",
   "source": [
    "<a id='section1'></a>\n",
    "## 1. Breakout Session 1\n",
    "We need to remove all punctuation from the text of each tweet so we can conducted a more detailed analysis. If any of the characters in `punctuations` are in a tweet, we want to replace them with a space `' '`.\n",
    "\n",
    "```python\n",
    "punctuations = '!\"#$%&\\'()*+,-./:;<=>?@[\\\\]^_`{|}~'\n",
    "```"
   ],
   "id": "1453814a7670bc58"
  },
  {
   "metadata": {},
   "cell_type": "markdown",
   "source": "First, let's look at two of Dean Yip's tweets.",
   "id": "6d0138cda85a80b1"
  },
  {
   "metadata": {},
   "cell_type": "code",
   "outputs": [],
   "execution_count": null,
   "source": [
    "tweet_1 = \"\"\"\n",
    "Totally agree. - so awesome to see students in person -  \n",
    "and not just students but faculty, staff - and everyone in the  \n",
    "@uoftengineering community -\n",
    "\"\"\"\n",
    "print(tweet_1)"
   ],
   "id": "ecb530a728ae59ec"
  },
  {
   "metadata": {},
   "cell_type": "code",
   "outputs": [],
   "execution_count": null,
   "source": [
    "tweet_2 = \"\"\"\n",
    "great to hear from Prof. Bussman, Chair of @uoftmie \n",
    "about all the stuff that MechE do .... - amazing  \n",
    "breadth of impact... exciting stuff across so many domains\n",
    "\"\"\"\n",
    "print(tweet_2)"
   ],
   "id": "8888f412f8ede23a"
  },
  {
   "metadata": {},
   "cell_type": "markdown",
   "source": [
    "Hint: `string.replace()`\n",
    "\n",
    "Complete the function below."
   ],
   "id": "23beba10a7bd2722"
  },
  {
   "metadata": {},
   "cell_type": "code",
   "outputs": [],
   "execution_count": null,
   "source": [
    "def remove_punctuation(string):\n",
    "    \n",
    "    \"\"\"\n",
    "    (str) -> str\n",
    "    Return string with puncutations replaced by a single space.\n",
    "    \"\"\"\n",
    "    \n",
    "    # Set punctuations\n",
    "    punctuations = '!\"#$%&\\'()*+,-./:;<=>?@[\\\\]^_`{|}~'\n",
    "    \n",
    "    # Make string lower case\n",
    "    string = string.lower()\n",
    "    \n",
    "    # Loop through characters in string \n",
    "    for character in string:\n",
    "        \n",
    "        # Check if the character is a punctuations\n",
    "        if character in punctuations:\n",
    "            \n",
    "            # Replace write space with a string\n",
    "            string = string.replace(character, ' ')\n",
    "    \n",
    "    return string"
   ],
   "id": "a44d4484f41f6273"
  },
  {
   "metadata": {},
   "cell_type": "markdown",
   "source": [
    "Let's test out our function.\n",
    "#### Tweet 1"
   ],
   "id": "625643cb9aea1e4b"
  },
  {
   "metadata": {},
   "cell_type": "code",
   "outputs": [],
   "execution_count": null,
   "source": [
    "print('Original Text')\n",
    "print(tweet_1)\n",
    "print('\\nProcessed Text')\n",
    "print(remove_punctuation(tweet_1))"
   ],
   "id": "e23d1c4fd73c5353"
  },
  {
   "metadata": {},
   "cell_type": "markdown",
   "source": "#### Tweet 2",
   "id": "5ceb1aba11511a74"
  },
  {
   "metadata": {},
   "cell_type": "code",
   "outputs": [],
   "execution_count": null,
   "source": [
    "print('Original Text')\n",
    "print(tweet_2)\n",
    "print('\\nProcessed Text')\n",
    "print(remove_punctuation(tweet_2))"
   ],
   "id": "73233f67bd2ae540"
  },
  {
   "metadata": {},
   "cell_type": "markdown",
   "source": [
    "<a id='section2'></a>\n",
    "## 2. Using `range()`\n",
    "Python has a built-in function called range() that is useful to use when you want to generate a sequence of numbers. You can type help(range) in the Python interpreter."
   ],
   "id": "9f5764f88cae5c3c"
  },
  {
   "metadata": {},
   "cell_type": "code",
   "outputs": [],
   "execution_count": null,
   "source": "help(range)",
   "id": "6cd13911050c797e"
  },
  {
   "metadata": {},
   "cell_type": "markdown",
   "source": [
    "`range()` produces a sequence of numbers starting at start and up to but *not including* stop. Just like in slicing.\n",
    "\n",
    "`range()` is typically used in a for loop to iterate over a sequence of numbers. \n",
    "\n",
    "**What Can You Do with range()?**\n",
    "\n",
    "You can tell `range()` what index to start at if you don't want to start at the default which is 0."
   ],
   "id": "1ae1af792e1e467e"
  },
  {
   "metadata": {},
   "cell_type": "code",
   "outputs": [],
   "execution_count": null,
   "source": [
    "chrome_4 = \"ATGGGCAATCGATGGCCTAATCTCTCTAAG\"\n",
    "\n",
    "for i in range(1, len(chrome_4)):\n",
    "    print(i, chrome_4[i])"
   ],
   "id": "4a5f8f71e4d7c66"
  },
  {
   "metadata": {},
   "cell_type": "markdown",
   "source": "You can even specify the \"step\" for range: how do you increment the numbers?. The default step size is 1, which means that numbers increment by 1. The example below starts at index 1 and its step size is three (goes to every third index).",
   "id": "466aba7e6263a0b6"
  },
  {
   "metadata": {},
   "cell_type": "code",
   "outputs": [],
   "execution_count": null,
   "source": [
    "for i in range(1, len(chrome_4), 3):\n",
    "    print(i, chrome_4[i])"
   ],
   "id": "e17512c8985f7aad"
  },
  {
   "metadata": {},
   "cell_type": "markdown",
   "source": "This also gives us flexibility to process only part of a string. For example, we can print only the first half of the list:",
   "id": "2e96d0dd8d2dfdbf"
  },
  {
   "metadata": {},
   "cell_type": "code",
   "outputs": [],
   "execution_count": null,
   "source": [
    "for i in range(len(chrome_4) // 2):\n",
    "    print(chrome_4[i], end=\" \")"
   ],
   "id": "ca1411ec67b5624a"
  },
  {
   "metadata": {},
   "cell_type": "markdown",
   "source": "More examples",
   "id": "7624714e6012d777"
  },
  {
   "metadata": {},
   "cell_type": "code",
   "outputs": [],
   "execution_count": null,
   "source": [
    "# Iterate over the numbers 0, 1, 2, 3, and 4\n",
    "for i in range(5):\n",
    "    print (i)"
   ],
   "id": "9c91f59cf71360e1"
  },
  {
   "metadata": {},
   "cell_type": "code",
   "outputs": [],
   "execution_count": null,
   "source": [
    "# Iterate over the numbers 2, 3, and 4\n",
    "for i in range(2, 5):\n",
    "    print (i)"
   ],
   "id": "39217b790d804efc"
  },
  {
   "metadata": {},
   "cell_type": "code",
   "outputs": [],
   "execution_count": null,
   "source": [
    "# Iterate over the numbers 3, 6, 9, 12, 15, and 18\n",
    "for i in range(3, 20, 3):\n",
    "    print (i)"
   ],
   "id": "86da524232556c71"
  },
  {
   "metadata": {},
   "cell_type": "markdown",
   "source": [
    "<a id='section3'></a>\n",
    "## 3. Example 1\n",
    "Add up all the even numbers between 1 and 100 using a `for` loop and `range()`.\n",
    "\n",
    "```python\n",
    "1 + 2 + 3 + ... + 98 + 99 + 100\n",
    "```\n",
    "\n",
    "Write your code here."
   ],
   "id": "391eafca6bba1bc3"
  },
  {
   "metadata": {},
   "cell_type": "code",
   "outputs": [],
   "execution_count": null,
   "source": [
    "total = 0\n",
    "for number in range(2, 101, 2):\n",
    "    total += number\n",
    "print('sum(2 + 4 + ... + 96 + 98 + 100) =', total)"
   ],
   "id": "e728cda23f383688"
  },
  {
   "metadata": {},
   "cell_type": "markdown",
   "source": [
    "<a id='section4'></a>\n",
    "## 4. Breakout Session 2\n",
    "Write a function that returns the number of times that a character and the next character are the same.  \n",
    "```python\n",
    "count_adjacent_repeats('abccdeffggh')\n",
    ">>> 3\n",
    "\n",
    "count_adjacent_repeats('lfkdgdwefopkgtrjhhjhhjjj')\n",
    ">>> 4\n",
    "```"
   ],
   "id": "be7e2aa6ddf085a3"
  },
  {
   "metadata": {},
   "cell_type": "code",
   "outputs": [],
   "execution_count": null,
   "source": [
    "def count_adjacent_repeats(s):\n",
    "    \"\"\"\n",
    "    (str) -> int\n",
    "    Returns the number of times that two consecutive characters are the same.\n",
    "    \"\"\"\n",
    "    repeats = 0\n",
    "    \n",
    "    for i in range(len(s) - 1):\n",
    "        if s[i] == s[i + 1]:\n",
    "            repeats += 1\n",
    "\n",
    "    return repeats"
   ],
   "id": "328f3d2729c3ddcb"
  },
  {
   "metadata": {},
   "cell_type": "markdown",
   "source": [
    "#### Test 1\n",
    "Answer: `3`"
   ],
   "id": "a956bfe5d1808ae4"
  },
  {
   "metadata": {},
   "cell_type": "code",
   "outputs": [],
   "execution_count": null,
   "source": "print(count_adjacent_repeats('abccdeffggh'))",
   "id": "1eb58a48699f4ea5"
  },
  {
   "metadata": {},
   "cell_type": "markdown",
   "source": [
    "#### Test 2\n",
    "Answer: `4`"
   ],
   "id": "5b9e7eaff6f985a1"
  },
  {
   "metadata": {},
   "cell_type": "code",
   "outputs": [],
   "execution_count": null,
   "source": "print(count_adjacent_repeats('lfkdgdwefopkgtrjhhjhhjjj'))",
   "id": "3c6e331d435a90e2"
  },
  {
   "metadata": {},
   "cell_type": "markdown",
   "source": [
    "<a id='section5'></a>\n",
    "## 5. Nested `for` Loops"
   ],
   "id": "797e44d429dc5557"
  },
  {
   "metadata": {},
   "cell_type": "code",
   "outputs": [],
   "execution_count": null,
   "source": [
    "for i in range(10, 13):\n",
    "    for j in range(1, 5):\n",
    "        print(i, j)"
   ],
   "id": "caaf516e097c44c3"
  },
  {
   "metadata": {},
   "cell_type": "markdown",
   "source": "What is going on here? Let's add some `print` statements to help jus understand.",
   "id": "97d19f6c0462344"
  },
  {
   "metadata": {},
   "cell_type": "code",
   "outputs": [],
   "execution_count": null,
   "source": [
    "for i in range(10, 13):\n",
    "    print(\"Outer loop. i =\", i)\n",
    "    for j in range(1, 5):\n",
    "        print(\"  Inner loop:\", i, j)"
   ],
   "id": "4bae8c390b623f8e"
  },
  {
   "metadata": {},
   "cell_type": "markdown",
   "source": "Notice that when `i` is 10, the inner loop executes in its entirety, and only after `j` has ranged from 1 through 4 is `i` incremented to the value 11.",
   "id": "eb38a84a0538d561"
  },
  {
   "metadata": {},
   "cell_type": "markdown",
   "source": [
    "<a id='section6'></a>\n",
    "## 6. Turtles\n",
    "Install the Turtles package `mobilechelonian` that renders in the notebook. "
   ],
   "id": "364bb17728bee5d6"
  },
  {
   "metadata": {},
   "cell_type": "code",
   "outputs": [],
   "execution_count": null,
   "source": "!pip install mobilechelonian",
   "id": "9e9793bee62aab94"
  },
  {
   "metadata": {},
   "cell_type": "markdown",
   "source": "There is a built-in turtles packaged called `turtle` with more functionality but it doesn't render in the notebook. We'll use `mobilechelonian` for an easy introduction to `Turtle`.",
   "id": "d55868f0e72354fd"
  },
  {
   "metadata": {},
   "cell_type": "markdown",
   "source": "### Draw A Straight Line",
   "id": "6050250e643a4c76"
  },
  {
   "metadata": {},
   "cell_type": "code",
   "outputs": [],
   "execution_count": null,
   "source": [
    "# Import the turtle package for notebooks\n",
    "from mobilechelonian import Turtle\n",
    "\n",
    "# Instantiate a turtle object\n",
    "turtle = Turtle()\n",
    "\n",
    "# Ask the turtle to move forward (to the right) by 100 pixels\n",
    "turtle.forward(400)"
   ],
   "id": "f1afc89bd8a62369"
  },
  {
   "metadata": {},
   "cell_type": "markdown",
   "source": [
    "### Moving Around\n",
    "The turtle starts out at position `(200, 200)`. Top left is `(0, 0)`."
   ],
   "id": "4ad075322a78d503"
  },
  {
   "metadata": {},
   "cell_type": "code",
   "outputs": [],
   "execution_count": null,
   "source": [
    "from mobilechelonian import Turtle\n",
    "\n",
    "turtle = Turtle()\n",
    "turtle.speed(10)\n",
    "turtle.setposition(0, 0)\n",
    "turtle.setposition(400, 0)\n",
    "turtle.setposition(400, 400)\n",
    "turtle.setposition(0, 400)\n",
    "turtle.setposition(0, 0)"
   ],
   "id": "384deac82ad1aa1c"
  },
  {
   "metadata": {},
   "cell_type": "markdown",
   "source": [
    "### Rotating\n",
    "You can can rotate `.left()` or `.right()` relative to the turtle current bearing."
   ],
   "id": "7abf5204456cb885"
  },
  {
   "metadata": {},
   "cell_type": "code",
   "outputs": [],
   "execution_count": null,
   "source": [
    "from mobilechelonian import Turtle\n",
    "\n",
    "turtle = Turtle()\n",
    "turtle.left(90)\n",
    "turtle.left(90)\n",
    "turtle.right(90)"
   ],
   "id": "a0792dc21ca30078"
  },
  {
   "metadata": {},
   "cell_type": "markdown",
   "source": "### Draw A Circle",
   "id": "ef537b27c1d89981"
  },
  {
   "metadata": {},
   "cell_type": "code",
   "outputs": [],
   "execution_count": null,
   "source": [
    "from mobilechelonian import Turtle\n",
    "\n",
    "turtle = Turtle()\n",
    "turtle.speed(10)\n",
    "turtle.circle(30)"
   ],
   "id": "24225523b5624381"
  },
  {
   "metadata": {},
   "cell_type": "markdown",
   "source": "### Draw A Straight Line Pointing North-East",
   "id": "8c0f1ae55374046f"
  },
  {
   "metadata": {},
   "cell_type": "code",
   "outputs": [],
   "execution_count": null,
   "source": [
    "from mobilechelonian import Turtle\n",
    "\n",
    "turtle = Turtle()\n",
    "turtle.speed(10)\n",
    "turtle.left(45)\n",
    "turtle.forward(100)"
   ],
   "id": "8380b9583bcf63f8"
  },
  {
   "metadata": {},
   "cell_type": "markdown",
   "source": "### Draw A Square",
   "id": "67cf70d3c3bee234"
  },
  {
   "metadata": {},
   "cell_type": "code",
   "outputs": [],
   "execution_count": null,
   "source": [
    "from mobilechelonian import Turtle\n",
    "\n",
    "turtle = Turtle()\n",
    "turtle.speed(10)\n",
    "turtle.forward(100)\n",
    "turtle.left(90)\n",
    "turtle.forward(100)\n",
    "turtle.left(90)\n",
    "turtle.forward(100)\n",
    "turtle.left(90)\n",
    "turtle.forward(100)\n",
    "turtle.left(90)"
   ],
   "id": "5302ea09c19b755f"
  },
  {
   "metadata": {},
   "cell_type": "markdown",
   "source": "### Draw A Centered Square",
   "id": "e0175919c0037934"
  },
  {
   "metadata": {},
   "cell_type": "code",
   "outputs": [],
   "execution_count": null,
   "source": [
    "from mobilechelonian import Turtle\n",
    "\n",
    "turtle = Turtle()\n",
    "turtle.speed(10)\n",
    "\n",
    "# Get to top left\n",
    "turtle.penup()\n",
    "turtle.forward(50)\n",
    "turtle.left(90)\n",
    "turtle.forward(50)\n",
    "turtle.left(90)\n",
    "turtle.pendown()\n",
    "\n",
    "# Draw square\n",
    "turtle.forward(100)\n",
    "turtle.left(90)\n",
    "turtle.forward(100)\n",
    "turtle.left(90)\n",
    "turtle.forward(100)\n",
    "turtle.left(90)\n",
    "turtle.forward(100)\n",
    "turtle.left(90)"
   ],
   "id": "ee0aeea18320163e"
  },
  {
   "metadata": {},
   "cell_type": "markdown",
   "source": [
    "<a id='section7'></a>\n",
    "## 7. Grid"
   ],
   "id": "56dd26a93fdc8911"
  },
  {
   "metadata": {},
   "cell_type": "code",
   "outputs": [],
   "execution_count": null,
   "source": [
    "def marker(x, y, turtle, size):\n",
    "    \"\"\"\n",
    "    (x, y, Turtle, size) -> None\n",
    "    Draw a square of specified size at coordinate (x,y)\n",
    "    \"\"\"\n",
    "    turtle.penup()\n",
    "    turtle.setposition(x, y)\n",
    "    turtle.pendown()\n",
    "    turtle.setposition(x+size, y)  \n",
    "    turtle.setposition(x+size, y-size)\n",
    "    turtle.setposition(x, y-size)\n",
    "    turtle.setposition(x, y)"
   ],
   "id": "c8a1ac296e865c91"
  },
  {
   "metadata": {},
   "cell_type": "code",
   "outputs": [],
   "execution_count": null,
   "source": [
    "from mobilechelonian import Turtle\n",
    "\n",
    "turtle = Turtle()\n",
    "turtle.speed(10)\n",
    "\n",
    "for x in range(50, 351, 50):\n",
    "    for y in range(50, 351, 50):\n",
    "\n",
    "        marker(x, y, turtle, 20)"
   ],
   "id": "626daf2667db91e4"
  },
  {
   "metadata": {},
   "cell_type": "markdown",
   "source": [
    "<a id='section8'></a>\n",
    "## 8. Breakout Session 3\n",
    "Using what you learned in the previous section, create the grid patter in the image below.\n",
    "<br>\n",
    "<img src=\"images/breakout_3.png\" alt=\"drawing\" width=\"300\"/>\n",
    "<br>\n",
    "You should use the previously function `marker(x, y, turtle, size)` below. The function `marker` takes `x` and `y` coodinates, a `turtle` object and a `size`. The `size` controls the size of the box."
   ],
   "id": "941774a72a1f226f"
  },
  {
   "metadata": {},
   "cell_type": "code",
   "outputs": [],
   "execution_count": null,
   "source": [
    "def marker(x, y, turtle, size):\n",
    "    \"\"\"\n",
    "    (x, y, Turtle, size) -> None\n",
    "    Draw a square of specified size at coordinate (x,y)\n",
    "    \"\"\"\n",
    "    turtle.penup()\n",
    "    turtle.setposition(x, y)\n",
    "    turtle.pendown()\n",
    "    turtle.setposition(x+size, y)  \n",
    "    turtle.setposition(x+size, y-size)\n",
    "    turtle.setposition(x, y-size)\n",
    "    turtle.setposition(x, y)"
   ],
   "id": "a0657fe39fee79fb"
  },
  {
   "metadata": {},
   "cell_type": "markdown",
   "source": [
    "Using the starter code below, you must:\n",
    "1. Fill in the `x` and `y` for loops to create a grid with `x = 100, 150, 200, 250, 300` and `y = 100, 150, 200, 250, 300`.\n",
    "2. Add an additional `for` loop to create three boxes of sizes `10`, `20`, and `30` at each `(x, y)` grid position."
   ],
   "id": "4590e9506e0a960a"
  },
  {
   "metadata": {},
   "cell_type": "code",
   "outputs": [],
   "execution_count": null,
   "source": [
    "from mobilechelonian import Turtle\n",
    "\n",
    "turtle = Turtle()\n",
    "turtle.speed(5)\n",
    "\n",
    "for x in range(100, 301, 50):\n",
    "    for y in range(100, 301, 50):\n",
    "        for scale in range(10, 31, 10):\n",
    "\n",
    "            marker(x, y, turtle, scale)"
   ],
   "id": "f039c6e9c40ac159"
  },
  {
   "metadata": {},
   "cell_type": "markdown",
   "source": [
    "<a id='section9'></a>\n",
    "## 9. Advanced Turtles\n",
    "Looking for another challenge? Create a function `draw_polygon(x, y, num_sides, side_length)` that draws a polygon at `(x, y)`. "
   ],
   "id": "4a9b4eb7265b1b4b"
  },
  {
   "metadata": {},
   "cell_type": "code",
   "outputs": [],
   "execution_count": null,
   "source": [
    "from mobilechelonian import Turtle\n",
    "\n",
    "def draw_polygon(num_sides, side_length, x=200, y=200):\n",
    "    \n",
    "    \"\"\"\n",
    "    (x, y, num_sides, side_length) -> None\n",
    "    Draw a polygon with given number of sides, side length and origin.\n",
    "    \"\"\"\n",
    "    \n",
    "    # Intialize turtle\n",
    "    turtle = Turtle()\n",
    "    turtle.speed(10)\n",
    "    turtle.penup()\n",
    "    turtle.setposition(x, y)\n",
    "    \n",
    "    # Calculate iterior angle at each vertex\n",
    "    angle = 360.0 // num_sides\n",
    "\n",
    "    # Loop through vertices\n",
    "    turtle.pendown()\n",
    "    for i in range(num_sides): \n",
    "        turtle.forward(side_length) \n",
    "        turtle.left(angle)\n",
    "    turtle.penup()"
   ],
   "id": "3c648ef76ed4ae12"
  },
  {
   "metadata": {},
   "cell_type": "markdown",
   "source": "### Test",
   "id": "9ee76cccb34a2d24"
  },
  {
   "metadata": {},
   "cell_type": "code",
   "outputs": [],
   "execution_count": null,
   "source": "draw_polygon(num_sides=6, side_length=30, x=100, y=150)",
   "id": "1d8ac94f0aac72cf"
  }
 ],
 "metadata": {},
 "nbformat": 5,
 "nbformat_minor": 9
}
