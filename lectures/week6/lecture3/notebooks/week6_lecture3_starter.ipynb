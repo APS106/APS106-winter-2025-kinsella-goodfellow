{
 "cells": [
  {
   "cell_type": "markdown",
   "metadata": {},
   "source": [
    "### APS106 Lecture Notes - Week 7, Design Problem\n",
    "# Cryptography\n",
    "\n",
    "Here is an image of a classic Cryptography pipeline:\n",
    "https://cdn.ttgtmedia.com/rms/onlineImages/security_cissp_cryptography.jpg"
   ]
  },
  {
   "cell_type": "markdown",
   "metadata": {},
   "source": [
    "## Problem Background\n",
    "\n",
    "For thousands of years cryptographers have made secret messages that only the sender and recipient could read. The secret code system (or algorithm) used for encrypting and decrypting messages is called a cipher. Even if the message (today’s equivalent would be a file) were to be captured, it would not help in decoding the message, since only sender and recipient would know the cipher.\n",
    "\n",
    "One of the earliest examples of cryptography is the Caesar cipher which encrypts a message by taking each letter in the message and replacing it with a “shifted” letter. If you shift the letter A by one space, you get the letter B. If you shift the letter A by two spaces, you get the letter C. The Caesar cipher is overly simple and it wouldn’t take much to break the encryption. Even though the Caesar cipher is no longer used, it still makes for a great learning example for cryptography.  "
   ]
  },
  {
   "cell_type": "markdown",
   "metadata": {},
   "source": [
    "# Breakout session 0: Reminder"
   ]
  },
  {
   "cell_type": "markdown",
   "metadata": {},
   "source": [
    "**Capitalization Checker**\n",
    "\n",
    "Write a function `check_capitalization(s)` that takes a sentence as input and checks whether each word in the sentence starts with an uppercase letter.\n",
    "\n",
    "The function should return a list of Boolean values [True or False], where each value corresponds to whether the respective word in the input string is capitalized.\n",
    "\n",
    "* **Example Run:**\n",
    "\n",
    "`check_capitalization(\"Hello World this Is A Test\")`\n",
    "\n",
    "`Output: [True, True, False, True, True, True]`\n",
    "\n",
    "* **Hints:**\n",
    "\n",
    "To complete this task, use the following methods:\n",
    "\n",
    "🔹 split() - to break the sentence into words.\n",
    "\n",
    "🔹 ord() - to check if the first letter of each word is uppercase ('A' to 'Z') using conditional statements.\n",
    "\n",
    "🔹 append() - to store True or False in a list.\n",
    "\n",
    "🔹 for loop - to iterate over each word in the sentence."
   ]
  },
  {
   "cell_type": "code",
   "execution_count": 63,
   "metadata": {},
   "outputs": [
    {
     "name": "stdout",
     "output_type": "stream",
     "text": [
      "evens= []\n",
      "\n",
      "Appended 0 to the list evens.\n",
      "evens= [0]\n",
      "\n",
      "Appended 2 to the list evens.\n",
      "evens= [0, 2]\n",
      "\n",
      "Appended 4 to the list evens.\n",
      "evens= [0, 2, 4]\n",
      "\n",
      "Appended 6 to the list evens.\n",
      "evens= [0, 2, 4, 6]\n",
      "\n",
      "Appended 8 to the list evens.\n",
      "Final output: [0, 2, 4, 6, 8]\n"
     ]
    }
   ],
   "source": [
    "# Let's see how append works:\n",
    "\n",
    "evens = []  # Start with an empty list\n",
    "\n",
    "for i in range(10):  # Loop from 0 to 9\n",
    "    \n",
    "    if i % 2 == 0:   # If the number is divisible by 2,\n",
    "        \n",
    "        print('evens=', evens)\n",
    "        evens.append(i)  # Add i to the list\n",
    "        print('\\nAppended', i, 'to the list evens.')\n",
    "        \n",
    "print('Final output:', evens)"
   ]
  },
  {
   "cell_type": "code",
   "execution_count": 33,
   "metadata": {
    "scrolled": true
   },
   "outputs": [],
   "source": [
    "def check_capitalization(s):\n",
    "    \"\"\"\n",
    "    Checks if each word in the string is capitalized (starts with an uppercase letter).\n",
    "    Returns a dictionary with words as keys and True/False as values.\n",
    "    \"\"\"\n",
    "    words = ...  # Split the input string into separate words\n",
    "    capitalization_status = ...  # Create an empty list for storing results\n",
    "    \n",
    "    for word in words:\n",
    "        if ...\n",
    "            ...\n",
    "        else:\n",
    "            ...\n",
    "    \n",
    "    return ..."
   ]
  },
  {
   "cell_type": "code",
   "execution_count": null,
   "metadata": {},
   "outputs": [],
   "source": [
    "# Test the function\n",
    "sentence = \"Sebastian Ben sina paris rome Toronto Canada\"\n",
    "result = check_capitalization(sentence)\n",
    "print(sentence, '\\n\\n', result)"
   ]
  },
  {
   "cell_type": "code",
   "execution_count": null,
   "metadata": {
    "scrolled": true
   },
   "outputs": [],
   "source": [
    "sentence = \"python is Fun to learn\"\n",
    "result = check_capitalization(sentence)\n",
    "print(sentence, '\\n\\n', result)"
   ]
  },
  {
   "cell_type": "markdown",
   "metadata": {},
   "source": [
    "## Define the Cryptography Problem\n",
    "\n",
    "Given a sensitive message that should NOT be read by others, we would like devise an algorithm to encrypt the message so that only someone with the secret key can access it. \n",
    "\n",
    "There are many options available for encryption ranging from classic methods that are not secure, to more modern ones that are highly mathematical. Since the message being encrypted is not of great importance, and there is little motivation for your friends to try and decrypt it, it makes sense to use an easier implementation, such as the [Caesar cipher](https://en.wikipedia.org/wiki/Caesar_cipher).\n",
    "\n",
    "So, let's define a message and a **key** (the number of spaces that you shift each letter in the message.)"
   ]
  },
  {
   "cell_type": "markdown",
   "metadata": {},
   "source": [
    "## Define Test Cases \n",
    "\n",
    "### Test Case 1: Encryption\n",
    "\n",
    "Message: Meet me at snakes and lattes on Friday at 7pm\n",
    "\n",
    "Key: 10\n",
    "\n",
    "Encoded Message: Wood wo kd cxkuoc kxn vkddoc yx Pbsnki kd 7zw\n",
    "\n",
    "### Test case 2: Decryption\n",
    "\n",
    "Message: Wood wo kd cxkuoc kxn vkddoc yx Pbsnki kd 7zw\n",
    "\n",
    "Key: 10\n",
    "\n",
    "Decrypted Message: Meet me at snakes and lattes on Friday at 7pm\n",
    "\n",
    "\n",
    "### Test case 3: Wrong key\n",
    "\n",
    "Message: Wood wo kd cxkuoc kxn vkddoc yx Pbsnki kd 7zw\n",
    "\n",
    "Key: 9\n",
    "\n",
    "Decrypted Message: Nffu nf bu toblft boe mbuuft po Gsjebz bu 7qn"
   ]
  },
  {
   "cell_type": "markdown",
   "metadata": {},
   "source": [
    "## Generate Creative Solutions\n",
    "\n",
    "The Caesar cipher performs message encryption by taking each letter in the message and replacing it with a **“shifted”** letter. \n",
    "\n",
    "### The Algorithm Plan\n",
    "\n",
    "We really want to write code to do two things: encrypt and decrypt a message. This seems like two algorithms - maybe even two separate programs - and so let's specify their algorithm plans separately. \n",
    "\n",
    "(Something to think about: are they really two separate algorithms? Or are they just one algorithm with, say, different inputs? Let's leave this until later - but perhaps if you get bored you can think about it.)\n",
    "\n",
    "#### Encryption\n",
    "\n",
    "- Prompt user for a message and secret key\n",
    "- Encrypt a message using the Caesar Cipher\n",
    "- Print out encrypted message\n",
    "\n",
    "#### Decryption\n",
    "\n",
    "- Prompt user for the encrypted message and secret key\n",
    "- Decrypt message using secret key\n",
    "- Print message\n",
    "- [Bonus (not discussed here): place the above functionality in a menu that asks the user if she wants to encrypt or decrypt and then prompts her further depending on which she wants to do]\n",
    "\n",
    "To perform a shift we need to think of characters as numbers. For example, we could define the letter ‘a’ as 1, and then ‘b’ as 2, and so forth. This could be implemented using a dictionary data structure. \n",
    "\n",
    "But in a while back we learned that all characters and symbols are already numbered using the ASCII cade. Using ASCII might work just as well and we wouldn’t need to reinvent our own code for the characters.\n",
    "\n",
    "Let's focus on working on the encryption algorothm. Since the decryption part looks similar maybe by the time we get to it we'll have an idea of what to do. \n",
    "\n",
    "### Programming Plan\n",
    "\n",
    "Some of the steps in the Algorithm Plan look pretty straightforward. Some are more difficult.  Let’s get the easy ones out of the way first.\n",
    "\n",
    "1. Implement code to read the message and key.\n",
    "\n",
    "2. Without encrypting it, just write it out.\n",
    "\n",
    "Based on what we already know in python, the above should be (very) easy. Then we only have two things to do:\n",
    "\n",
    "3. Encrypt the message (where do we do this in the code?).\n",
    "\n",
    "4. Figure out decryption.\n"
   ]
  },
  {
   "cell_type": "markdown",
   "metadata": {},
   "source": [
    "## Select a Solution\n",
    "\n",
    "ASCII looks like the way to go."
   ]
  },
  {
   "cell_type": "markdown",
   "metadata": {},
   "source": [
    "## Programming Plan: Step 1: Prompt user for message and key\n",
    "\n",
    "Let’s write the “main” code first even to see how far we get before we have to think."
   ]
  },
  {
   "cell_type": "code",
   "execution_count": null,
   "metadata": {},
   "outputs": [],
   "source": [
    "# Prompt user for a message and secret key\n",
    "message = get_message()\n",
    "key = get_key()\n",
    "\n",
    "# Encrypt a message using the Caesar Cipher\n",
    "\n",
    "# Print message"
   ]
  },
  {
   "cell_type": "markdown",
   "metadata": {},
   "source": [
    "After the second line, I am not really sure what to do. So let’s just leave this as is and see if we can write some functions.\n"
   ]
  },
  {
   "cell_type": "code",
   "execution_count": null,
   "metadata": {},
   "outputs": [],
   "source": [
    "def get_message():\n",
    "    '''\n",
    "    () -> str\n",
    "    Returns the secret message from user input\n",
    "    '''\n",
    "    return ...\n",
    "\n",
    "def get_key():\n",
    "    '''\n",
    "    () -> int\n",
    "    Returns the key from user input as an int\n",
    "    '''\n",
    "    return ...\n",
    "\n",
    "# Prompt user for a message and secret key\n",
    "message = get_message()\n",
    "key = get_key()\n",
    "\n",
    "# Encrypt a message using the Caesar Cipher\n",
    "\n",
    "# Print message\n",
    "print(message)\n",
    "print(key)"
   ]
  },
  {
   "cell_type": "markdown",
   "metadata": {},
   "source": [
    "## Programming Plan: Step 2: Write out the message.\n",
    "\n",
    "Well, we've already done that in Step 1 as part of our tests."
   ]
  },
  {
   "cell_type": "markdown",
   "metadata": {},
   "source": [
    "OK, where are we?\n",
    "\n",
    "What does our Programming Plan say?\n",
    "\n",
    "1. ~~Implement code to read the message and key.~~\n",
    "\n",
    "2. ~~Without encrypting it, just write it out.~~\n",
    "\n",
    "3. Encrypt the message (where do we do this in the code?)\n",
    "\n",
    "4. Figure out decryption."
   ]
  },
  {
   "cell_type": "markdown",
   "metadata": {},
   "source": [
    "## Programming Plan: Step 3: Encrypt the Message\n",
    "\n",
    "Now we have the problem of figuring out how to encrypt the message (which we’ve been avoiding all along). Any ideas?\n",
    "\n",
    "Let’s write a function that initially does nothing except copy unencrypted characters. We know we have to somehow change each character so let's loop through them and just copy them."
   ]
  },
  {
   "cell_type": "code",
   "execution_count": null,
   "metadata": {},
   "outputs": [],
   "source": [
    "def encrypt_message(message, key):\n",
    "    ''' \n",
    "    (str, int) -> str\n",
    "    Returns the encypted message using the Caesar cypher and key\n",
    "    '''\n",
    "    # store the new string\n",
    "    translated = \"\"\n",
    "\n",
    "    for c in message:\n",
    "        # encryption will happen here\n",
    "        ...\n",
    "        \n",
    "    return ...\n",
    "\n",
    "print(encrypt_message(\"this is a string\", 10))"
   ]
  },
  {
   "cell_type": "markdown",
   "metadata": {},
   "source": [
    "We studied chr() and ord().\n"
   ]
  },
  {
   "cell_type": "code",
   "execution_count": 41,
   "metadata": {
    "scrolled": true
   },
   "outputs": [
    {
     "name": "stdout",
     "output_type": "stream",
     "text": [
      "97\n",
      "a\n"
     ]
    }
   ],
   "source": [
    "print(ord('a'))\n",
    "print(chr(97))"
   ]
  },
  {
   "cell_type": "markdown",
   "metadata": {},
   "source": [
    "Leading to something like:"
   ]
  },
  {
   "cell_type": "code",
   "execution_count": null,
   "metadata": {},
   "outputs": [],
   "source": [
    "def encrypt_message(message, key):\n",
    "    ''' \n",
    "    Returns the encypted message using the Caesar cypher\n",
    "    '''\n",
    "    # store the new string\n",
    "    translated = \"\"\n",
    "    \n",
    "    for c in message:\n",
    "        num = ...\n",
    "        num += ...\n",
    "        symbol = ...\n",
    "        translated += ...\n",
    "        \n",
    "    return translated\n",
    "\n",
    "print(encrypt_message(\"this is a string\", 20))"
   ]
  },
  {
   "cell_type": "markdown",
   "metadata": {},
   "source": [
    "So what is going on?\n",
    "\n",
    "When a letter plus its offset goes beyond 'z', we want it to wrap around and start again from 'a'. \n",
    "\n",
    "How do we make the letters wrap around?\n",
    "\n",
    "And what do we want to do with non-letters (like spaces and punctuation)? Maybe we can encypt them too, but now we are going to have to investigate more about ASCII, especially since ASCII represents non-printing characters (like `\\t`). So let's just assume that we only want to modify letters."
   ]
  },
  {
   "cell_type": "markdown",
   "metadata": {
    "pycharm": {
     "name": "#%% md\n"
    }
   },
   "source": [
    "HINT: To check for non-letters, look up the string method '.isalpha()'!"
   ]
  },
  {
   "cell_type": "markdown",
   "metadata": {
    "pycharm": {
     "name": "#%% md\n"
    }
   },
   "source": [
    "# Breakout session 1 for Encrypting the message: ASCII value wrap-around using if-statements"
   ]
  },
  {
   "cell_type": "markdown",
   "metadata": {
    "pycharm": {
     "name": "#%% md\n"
    }
   },
   "source": [
    "Modify the function `encrypt_message` below to check for non letters and handle letter shifts beyond 'a' to 'z' using if statements. The function should:\n",
    "\n",
    "* Shift each letter by a given key value.\n",
    "\n",
    "* Ensure that if a letter goes beyond 'z', it wraps around to the start of the alphabet.\n",
    "\n",
    "* Ensure that if a letter goes before 'a' (in case of negative shifts), it wraps around to the end.\n",
    "\n",
    "* Leave non-letter characters unchanged (e.g., spaces, punctuations).\n",
    "\n",
    "**Example of Wrap-Around (Forward Shift):**\n",
    "\n",
    "If we shift 'y' by 3, the ASCII values would look like:\n",
    "```\n",
    "ord('y') = 121\n",
    "121 + 3 = 124 (which is beyond 'z' → 122)\n",
    "So, we subtract 26 (total number of letters in the alphabet) to wrap back:\n",
    "124 - 26 = 98 → 'b'\n",
    "So 'y' becomes 'b'.\n",
    "```\n",
    "\n",
    "**Example of Wrap-Around (Backward Shift):**\n",
    "\n",
    "If we shift 'c' by -5, the ASCII values would look like:\n",
    "```\n",
    "ord('c') = 99\n",
    "99 - 5 = 94 (which is before 'a' → 97)\n",
    "So, we add 26 to wrap back:\n",
    "94 + 26 = 120 → 'x'\n",
    "So 'c' becomes 'x'.\n",
    "```\n",
    "## Task Instructions\n",
    "\n",
    "Modify the function encrypt_message() to:\n",
    "\n",
    "* Convert each letter into its ASCII value using ord().\n",
    "\n",
    "* Add the shift key to move forward or backward.\n",
    "\n",
    "* Use if statements to wrap around when exceeding 'z' or going below 'a'.\n",
    "\n",
    "* Convert the number back into a letter using chr().\n",
    "\n",
    "* Preserve spaces and punctuation by leaving them unchanged."
   ]
  },
  {
   "cell_type": "code",
   "execution_count": null,
   "metadata": {},
   "outputs": [],
   "source": [
    "def encrypt_message(message, key):\n",
    "    ''' \n",
    "    Returns the encypted message using the Caesar cypher\n",
    "    '''\n",
    "    translated = \"\"\n",
    "    for c in message:\n",
    "        \n",
    "        if ...:\n",
    "            # do the conversion\n",
    "            num = ...\n",
    "            num += ...\n",
    "            \n",
    "            # check if we are out-of-bounds\n",
    "            if num > ...:\n",
    "                ...\n",
    "            elif num < ...:\n",
    "                ...\n",
    "                \n",
    "            symbol = ...\n",
    "            \n",
    "        else:\n",
    "            symbol = ...\n",
    "            \n",
    "        translated += symbol\n",
    "\n",
    "    return translated\n",
    "\n",
    "print(encrypt_message(\"this is a string.\", 20))"
   ]
  },
  {
   "cell_type": "markdown",
   "metadata": {},
   "source": [
    "The spaces and the period are not encypted but the letters are. Good.\n",
    "\n",
    "We also only want to translate characters and take into account capital vs. lower case. How can we do that?"
   ]
  },
  {
   "cell_type": "markdown",
   "metadata": {
    "pycharm": {
     "name": "#%% md\n"
    }
   },
   "source": [
    "# Breakout session 2 for Encrypting the message: Creating functions and accounting for capital letters vs. lower case"
   ]
  },
  {
   "cell_type": "markdown",
   "metadata": {
    "pycharm": {
     "name": "#%% md\n"
    }
   },
   "source": [
    " Write a new function `wrap_around` that takes in each letter of our input string from the user and the cipher  from the user, check if it is an upper case or lowercase letter, and shift it."
   ]
  },
  {
   "cell_type": "code",
   "execution_count": null,
   "metadata": {
    "pycharm": {
     "name": "#%%\n"
    }
   },
   "outputs": [],
   "source": [
    "def wrap_around (c, key):\n",
    "    '''\n",
    "    (str, int) -> str\n",
    "    Returns the shifted letter from the original letter and key\n",
    "    '''\n",
    "    # use the body of the previous section with small additions (one line of code)\n",
    "    ...\n",
    "    ...\n",
    "    ...\n",
    "\n",
    "    return ..."
   ]
  },
  {
   "cell_type": "code",
   "execution_count": null,
   "metadata": {},
   "outputs": [],
   "source": [
    "def encrypt_message(message, shift):\n",
    "    ''' \n",
    "    Returns the encypted message using the Caesar cypher\n",
    "    '''\n",
    "    translated = \"\"\n",
    "    for letter in message:\n",
    "\n",
    "        sym = wrap_around(letter, shift)\n",
    "        translated += sym\n",
    "\n",
    "    return translated\n",
    "\n",
    "print(encrypt_message(\"This is a string.\", 20))"
   ]
  },
  {
   "cell_type": "markdown",
   "metadata": {},
   "source": [
    "So, is this working? How can we tell? We need to know some encypted versions (like in our tests.) So let's look at the test we created:\n",
    "\n",
    "Message: Meet me at snakes and lattes on Friday at 7pm\n",
    "\n",
    "Key: 10\n",
    "\n",
    "Encoded Message: Wood wo kd cxkuoc kxn vkddoc yx Pbsnki kd 7zw"
   ]
  },
  {
   "cell_type": "code",
   "execution_count": null,
   "metadata": {},
   "outputs": [],
   "source": [
    "print(encrypt_message(\"Meet me at snakes and lattes on Friday at 7pm\", 10))"
   ]
  },
  {
   "cell_type": "markdown",
   "metadata": {},
   "source": [
    "Let's put it all together."
   ]
  },
  {
   "cell_type": "code",
   "execution_count": null,
   "metadata": {
    "pycharm": {
     "name": "#%%\n"
    },
    "scrolled": true
   },
   "outputs": [],
   "source": [
    "def get_message():\n",
    "    '''\n",
    "    () -> str\n",
    "    Returns the secret message from user input\n",
    "    '''\n",
    "    return input(\"Enter the secret message: \")\n",
    "\n",
    "\n",
    "def get_key():\n",
    "    '''\n",
    "    () -> str\n",
    "    Returns the key from user input\n",
    "    '''\n",
    "    return int(input(\"Enter the key: \"))\n",
    "\n",
    "\n",
    "def wrap_around (c, key):\n",
    "    '''\n",
    "    (str, int) -> str\n",
    "    Returns the shifted letter from the original letter and key\n",
    "    '''\n",
    "    if c.isalpha():\n",
    "\n",
    "        # do the conversion\n",
    "        num = ord(c)\n",
    "        num += key\n",
    "\n",
    "        # check lower case\n",
    "        if c.islower():\n",
    "            # check if we are out-of-bounds\n",
    "            if num > ord('z'):\n",
    "                num -= 26\n",
    "            elif num < ord('a'):\n",
    "                num += 26\n",
    "        else:\n",
    "            # check if we are out-of-bounds\n",
    "            if num > ord('Z'):\n",
    "                num -= 26\n",
    "            elif num < ord('A'):\n",
    "                num += 26\n",
    "        symbol = chr(num)\n",
    "    else:\n",
    "        symbol = c\n",
    "\n",
    "    return symbol\n",
    "\n",
    "\n",
    "def encrypt_message(message, shift):\n",
    "    ''' Returns the encypted message using the Caesar cypher'''\n",
    "    translated = \"\"\n",
    "    for l in message:\n",
    "        sym = wrap_around(l, shift)\n",
    "        translated += sym\n",
    "    return translated\n",
    "\n",
    "\n",
    "# Prompt user for a message and secret key\n",
    "message = get_message()\n",
    "key = get_key()\n",
    "\n",
    "# Encrypt a message using the Caesar Cipher\n",
    "encrypted_message = encrypt_message(message, key)\n",
    "\n",
    "# Print message\n",
    "print(encrypted_message)"
   ]
  },
  {
   "cell_type": "markdown",
   "metadata": {},
   "source": [
    "Let's return to the Programming Plan\n",
    "\n",
    "1. ~~Implement code to read the message and key.~~\n",
    "\n",
    "2. ~~Without encrypting it, just write it out.~~\n",
    "\n",
    "3. ~~Encrypt the message (where do we do this in the code?)~~\n",
    "\n",
    "4. Figure out decryption.\n",
    "\n",
    "Wait! What about decryption?\n",
    "\n",
    "..."
   ]
  },
  {
   "cell_type": "markdown",
   "metadata": {},
   "source": [
    "# Breakout session 3: A Bit Smarter Function\n",
    "\n",
    "Define a new function that also accepts mode (encryption/decryption) from the user."
   ]
  },
  {
   "cell_type": "code",
   "execution_count": 45,
   "metadata": {},
   "outputs": [],
   "source": [
    "def smart_cryptor(message, shift, mode='e'):\n",
    "    # Use use the body of the encrypt_message function above with small additions (if\" statements) \n",
    "    ...\n",
    "    return translated"
   ]
  },
  {
   "cell_type": "code",
   "execution_count": null,
   "metadata": {},
   "outputs": [],
   "source": [
    "# Prompt user for a message and secret key\n",
    "message = get_message()\n",
    "key = get_key()\n",
    "mode = input('Mode? (e) encryption/ (d) decryption:')\n",
    "\n",
    "# Encrypt a message using the Caesar Cipher\n",
    "encrypted_message = smart_cryptor(message, key, mode)\n",
    "\n",
    "# Print message\n",
    "print(encrypted_message)"
   ]
  }
 ],
 "metadata": {
  "kernelspec": {
   "display_name": "Python 3 (ipykernel)",
   "language": "python",
   "name": "python3"
  },
  "language_info": {
   "codemirror_mode": {
    "name": "ipython",
    "version": 3
   },
   "file_extension": ".py",
   "mimetype": "text/x-python",
   "name": "python",
   "nbconvert_exporter": "python",
   "pygments_lexer": "ipython3",
   "version": "3.11.4"
  },
  "vscode": {
   "interpreter": {
    "hash": "cce653f866f2e7eb05dbf1ed36e80dc192bd71c44f134e803aafa0a192c2edfd"
   }
  }
 },
 "nbformat": 4,
 "nbformat_minor": 1
}
