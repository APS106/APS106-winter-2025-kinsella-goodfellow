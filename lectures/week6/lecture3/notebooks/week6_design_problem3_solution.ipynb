{
 "cells": [
  {
   "attachments": {},
   "cell_type": "markdown",
   "metadata": {
    "collapsed": true
   },
   "source": [
    "# APS106 - Fundamentals of Computer Programming\n",
    "## Week 6 | Lecture 3 (6.3) - MadLibs\n",
    "\n",
    "### Lecture Structure\n",
    "1. [Define the Problem](#section1)\n",
    "2. [Define Test Cases](#section2)\n",
    "3. [Generate Many Creative Solutions](#section3)\n",
    "4. [Select a Solution](#section4)\n",
    "5. [Implement the Solution](#section5)\n",
    "    - [Programming Step 1](#section5a)\n",
    "    - [Programming Step 2](#section5b)\n",
    "    - [Programming Step 3](#section5c)\n",
    "    - [Programming Step 4](#section5d)\n",
    "    - [Bonus](#section5e)\n",
    "6. [Perform Final Testing](#section6)"
   ]
  },
  {
   "cell_type": "markdown",
   "metadata": {},
   "source": [
    "<a id='section1'></a>\n",
    "## 1. Define the Problem\n",
    "We have learned up to now, we would like to develop a simple Madlib game. Internally the game will be provided with sample stories with certain words removed. The player will be repeatedly prompted for new words that match certain grammatical or descriptive requirements. Once all the words have been entered, the story will be output for everyone to read and enjoy.\n",
    "\n",
    "It would be great if the sample stories would be randomly generated each time we run the game or if we had a library of stories that we could read in. These are a bit beyond our abilities at the moment so for now, let’s go with some “hard-coded” story."
   ]
  },
  {
   "attachments": {},
   "cell_type": "markdown",
   "metadata": {},
   "source": [
    "<a id='section2'></a>\n",
    "## 2. Define Test Cases\n",
    "\n",
    "We will do this towards the end - at the moment, there is still a lot of initial processing we want to do! At a minimum, we want to make "
   ]
  },
  {
   "cell_type": "markdown",
   "metadata": {},
   "source": [
    "<a id='section3'></a>\n",
    "## 3. Generate Many Creative Solutions\n",
    "Things to consider:\n",
    "-\tStoring a long story in a form that can easily be modified\n",
    "-\tPrompting the user for words\n",
    "-\tReplacing the words in the story with the ones entered by the user\n",
    "-\tDisplaying the story\n",
    "\n",
    "An obvious approach is to store the story as a string. However, how are we going to modify the story? (Strings are immutable!) How do we represent the words we want to replace with the user’s input?\n",
    "\n",
    "We talked about the `replace` method this week. It allows you to find and replace sub-strings. So that seems promising. \n",
    "\n",
    "How are we going to represent missing words? One idea (which has some weaknesses) is to use unusual characters to represent the blanks. For example, we could store the blanks in the story between curly braces.\n",
    "\n",
    "`This is the {season} of our discount tent.`\n",
    "\n",
    "The idea is that we want to replace all the words inside curly braces.\n",
    "\n",
    "What about a Programming Plan?\n",
    "\n",
    "1.\twrite a story and display a story. Notice we are doing the first and last thing in the algorithm but since they should be pretty easy it’s not a bad idea. This way we get a “working” program right away – but of course it only does part of what we want to do.\n",
    "2. change the story to write the word identifiers in curly braces\n",
    "3.\treplace one word: prompt user for one of the word identifiers and then replace it in the string\n",
    "4.\trepeat the code in step 3 for the other word identifiers. Since we’ve done it for one word identifier, it should be easy to do it for the rest (you don’t know about loops yet so just do the simplest thing you can think of)\n",
    "\n",
    "And remember: you should not proceed to the next step until you are sure that the previous steps are working. Test as you go!"
   ]
  },
  {
   "cell_type": "markdown",
   "metadata": {},
   "source": [
    "<a id='section4'></a>\n",
    "## 4. Select a Solution\n",
    "It seems we only have one option. Let’s try it out and see if we run into problems.\n",
    "\n",
    "(In reality, we should probably think more about how to represent the blanks. There might be a much better solution that we haven't thought of.)"
   ]
  },
  {
   "cell_type": "markdown",
   "metadata": {},
   "source": [
    "<a id='section5'></a>\n",
    "## 5. Implement the Solution\n",
    "Start working through the programming plan.\n",
    "<a id='section5a'></a>\n",
    "### Programming Step 1: Write a story and display a story."
   ]
  },
  {
   "cell_type": "code",
   "execution_count": 1,
   "metadata": {},
   "outputs": [],
   "source": [
    "original_story = \"\"\"\n",
    "Once upon a time, there was a silly person who loved to wear a hat on their head everywhere they went. \n",
    "One day, they were walking down the street when they spotted a stray cat meowing loudly. Feeling sorry \n",
    "for the poor animal, they decided to take it home with them.\n",
    "\n",
    "As they were walking home, the person suddenly realized that they had left the oven on and ran back \n",
    "to their house as fast as they could. When they finally arrived home, they found their roommate coding on \n",
    "their computer.\n",
    "\n",
    "The person decided to take a break from their hectic day and join their roommate in learning how to code. \n",
    "They pulled up the online course APS106 and began to work on the exercises together. By the end of the day, \n",
    "they had learned how to write a basic program and were feeling pretty proud of themselves.\n",
    "\n",
    "From that day forward, the person continued to wear their silly hat everywhere they went, but now they \n",
    "had a new passion for coding thanks to their roommate and their unexpected encounter with the stray cat. The end.\n",
    "\"\"\""
   ]
  },
  {
   "attachments": {},
   "cell_type": "markdown",
   "metadata": {},
   "source": [
    "<a id='section5b'></a>\n",
    "### Programming Step 2: Re-write the story with word identifiers.\n",
    "## Breakout Session\n",
    "Again, this might seem like an easy step (and maybe it could have been done as part of Step 1). On the other hand, if programming is a series of easy steps, then the whole thing is easy!\n",
    "\n",
    "Here's our story again with the words we want to replace highlighted. In your code, we want the bolded words replaced to be more general terms and in curly braces, for example, **cat** becomes `{animal}`.\n",
    "\n",
    "#### Original Story with Bolded Words\n",
    "\n",
    "Once upon a time, there was a silly person who loved to wear a **hat** on their head everywhere they went. \n",
    "One day, they were walking down the street when they spotted a stray **cat** meowing loudly. Feeling sorry \n",
    "for the poor animal, they decided to take it home with them.\n",
    "\n",
    "As they were walking home, the person suddenly realized that they had left the oven on and **ran** back \n",
    "to their house as fast as they could. When they finally arrived home, they found their roommate **coding** on \n",
    "their computer.\n",
    "\n",
    "The person decided to take a break from their hectic day and join their roommate in learning how to code. \n",
    "They pulled up the online course **APS106** and began to work on the exercises together. By the end of the day, \n",
    "they had learned how to write a basic program and were feeling pretty proud of themselves.\n",
    "\n",
    "From that day forward, the person continued to wear their silly **hat** everywhere they went, but now they \n",
    "had a new passion for **coding** thanks to their roommate and their unexpected encounter with the stray **cat**. The end."
   ]
  },
  {
   "cell_type": "code",
   "execution_count": 3,
   "metadata": {},
   "outputs": [
    {
     "name": "stdout",
     "output_type": "stream",
     "text": [
      "\n",
      "Once upon a time, there was a silly person who loved to wear a {clothing} on their head everywhere they went. \n",
      "One day, they were walking down the street when they spotted a stray {animal} meowing loudly. Feeling sorry \n",
      "for the poor animal, they decided to take it home with them.\n",
      "\n",
      "As they were walking home, the person suddenly realized that they had left the oven on and {action -ing} back \n",
      "to their house as fast as they could. When they finally arrived home, they found their roommate {action -ing} on \n",
      "their computer.\n",
      "\n",
      "The person decided to take a break from their hectic day and join their roommate in learning how to code. \n",
      "They pulled up the online course {class name} and began to work on the exercises together. By the end of the day, \n",
      "they had learned how to write a basic program and were feeling pretty proud of themselves.\n",
      "\n",
      "From that day forward, the person continued to wear their silly {clothing} everywhere they went, but now they \n",
      "had a new passion for {action -ing} thanks to their roommate and their unexpected encounter with the stray {animal}. The end.\n",
      "\n"
     ]
    }
   ],
   "source": [
    "# original story\n",
    "original_story = \"\"\"\n",
    "Once upon a time, there was a silly person who loved to wear a hat on their head everywhere they went. \n",
    "One day, they were walking down the street when they spotted a stray cat meowing loudly. Feeling sorry \n",
    "for the poor animal, they decided to take it home with them.\n",
    "\n",
    "As they were walking home, the person suddenly realized that they had left the oven on and ran back \n",
    "to their house as fast as they could. When they finally arrived home, they found their roommate coding on \n",
    "their computer.\n",
    "\n",
    "The person decided to take a break from their hectic day and join their roommate in learning how to code. \n",
    "They pulled up the online course APS106 and began to work on the exercises together. By the end of the day, \n",
    "they had learned how to write a basic program and were feeling pretty proud of themselves.\n",
    "\n",
    "From that day forward, the person continued to wear their silly hat everywhere they went, but now they \n",
    "had a new passion for coding thanks to their roommate and their unexpected encounter with the stray cat. The end.\n",
    "\"\"\"\n",
    "\n",
    "# write your code here to change the bolded words into place-holders with curly braces\n",
    "original_story = original_story.replace(' hat',' {clothing}')\n",
    "original_story = original_story.replace('cat','{animal}')\n",
    "original_story = original_story.replace('ran','{action -ing}')\n",
    "original_story = original_story.replace('coding', '{action -ing}')\n",
    "original_story = original_story.replace('APS106','{class name}')\n",
    "\n",
    "# print result\n",
    "print(original_story)"
   ]
  },
  {
   "cell_type": "markdown",
   "metadata": {},
   "source": [
    "<a id='section5c'></a>\n",
    "### Programming Step 3: Replace one word: prompt user for one of the word identifiers and then replace it in the string.\n",
    "## Breakout Session"
   ]
  },
  {
   "cell_type": "code",
   "execution_count": 4,
   "metadata": {},
   "outputs": [
    {
     "name": "stdout",
     "output_type": "stream",
     "text": [
      "\n",
      "Once upon a time, there was a silly person who loved to wear a {clothing} on their head everywhere they went. \n",
      "One day, they were walking down the street when they spotted a stray cat meowing loudly. Feeling sorry \n",
      "for the poor animal, they decided to take it home with them.\n",
      "\n",
      "As they were walking home, the person suddenly realized that they had left the oven on and {action -ing} back \n",
      "to their house as fast as they could. When they finally arrived home, they found their roommate {action -ing} on \n",
      "their computer.\n",
      "\n",
      "The person decided to take a break from their hectic day and join their roommate in learning how to code. \n",
      "They pulled up the online course {class name} and began to work on the exercises together. By the end of the day, \n",
      "they had learned how to write a basic program and were feeling pretty proud of themselves.\n",
      "\n",
      "From that day forward, the person continued to wear their silly {clothing} everywhere they went, but now they \n",
      "had a new passion for {action -ing} thanks to their roommate and their unexpected encounter with the stray cat. The end.\n",
      "\n"
     ]
    }
   ],
   "source": [
    "# original story\n",
    "original_story = \"\"\"\n",
    "Once upon a time, there was a silly person who loved to wear a {clothing} on their head everywhere they went. \n",
    "One day, they were walking down the street when they spotted a stray {animal} meowing loudly. Feeling sorry \n",
    "for the poor animal, they decided to take it home with them.\n",
    "\n",
    "As they were walking home, the person suddenly realized that they had left the oven on and {action -ing} back \n",
    "to their house as fast as they could. When they finally arrived home, they found their roommate {action -ing} on \n",
    "their computer.\n",
    "\n",
    "The person decided to take a break from their hectic day and join their roommate in learning how to code. \n",
    "They pulled up the online course {class name} and began to work on the exercises together. By the end of the day, \n",
    "they had learned how to write a basic program and were feeling pretty proud of themselves.\n",
    "\n",
    "From that day forward, the person continued to wear their silly {clothing} everywhere they went, but now they \n",
    "had a new passion for {action -ing} thanks to their roommate and their unexpected encounter with the stray {animal}. The end.\n",
    "\"\"\"\n",
    "\n",
    "# Get user input for noun 1 value\n",
    "animal = input(\"Give me an animal: \")\n",
    "\n",
    "# Replace {noun 1} in the text with what the user specified\n",
    "original_story = original_story.replace('{animal}', animal)\n",
    "\n",
    "# print out result\n",
    "print(original_story)"
   ]
  },
  {
   "cell_type": "markdown",
   "metadata": {},
   "source": [
    "### Improve the solution\n",
    "OK, seems to work. But the code we wrote is very specific for the animal. And notice that we need the string “animal” in both the `input` statement and the `replace` statement (albeit inside {}). If we introduce another variable, we can write more flexible code.\n",
    "\n",
    "**Notice what we are doing here. Just because the code \"works\" doesn't mean there does not exist a better solution to the design problem. As you do the steps in the programming plan, you should still be thinking about the big picture.**"
   ]
  },
  {
   "cell_type": "code",
   "execution_count": 5,
   "metadata": {},
   "outputs": [
    {
     "name": "stdout",
     "output_type": "stream",
     "text": [
      "\n",
      "Once upon a time, there was a silly person who loved to wear a {clothing} on their head everywhere they went. \n",
      "One day, they were walking down the street when they spotted a stray cat meowing loudly. Feeling sorry \n",
      "for the poor animal, they decided to take it home with them.\n",
      "\n",
      "As they were walking home, the person suddenly realized that they had left the oven on and {action -ing} back \n",
      "to their house as fast as they could. When they finally arrived home, they found their roommate {action -ing} on \n",
      "their computer.\n",
      "\n",
      "The person decided to take a break from their hectic day and join their roommate in learning how to code. \n",
      "They pulled up the online course {class name} and began to work on the exercises together. By the end of the day, \n",
      "they had learned how to write a basic program and were feeling pretty proud of themselves.\n",
      "\n",
      "From that day forward, the person continued to wear their silly {clothing} everywhere they went, but now they \n",
      "had a new passion for {action -ing} thanks to their roommate and their unexpected encounter with the stray cat. The end.\n",
      "\n"
     ]
    }
   ],
   "source": [
    "# original story\n",
    "original_story = \"\"\"\n",
    "Once upon a time, there was a silly person who loved to wear a {clothing} on their head everywhere they went. \n",
    "One day, they were walking down the street when they spotted a stray {animal} meowing loudly. Feeling sorry \n",
    "for the poor animal, they decided to take it home with them.\n",
    "\n",
    "As they were walking home, the person suddenly realized that they had left the oven on and {action -ing} back \n",
    "to their house as fast as they could. When they finally arrived home, they found their roommate {action -ing} on \n",
    "their computer.\n",
    "\n",
    "The person decided to take a break from their hectic day and join their roommate in learning how to code. \n",
    "They pulled up the online course {class name} and began to work on the exercises together. By the end of the day, \n",
    "they had learned how to write a basic program and were feeling pretty proud of themselves.\n",
    "\n",
    "From that day forward, the person continued to wear their silly {clothing} everywhere they went, but now they \n",
    "had a new passion for {action -ing} thanks to their roommate and their unexpected encounter with the stray {animal}. The end.\n",
    "\"\"\"\n",
    "\n",
    "# second try : replace one word with more general code\n",
    "word_to_replace = '{animal}'\n",
    "\n",
    "# Get user input for noun 1 value, with some more generic cod\n",
    "replacer = input(\"Give me a \" + word_to_replace[1:-1] + \": \" )\n",
    "\n",
    "# Replace {noun 1} in the text with what the user specified\n",
    "original_story = original_story.replace(word_to_replace, replacer)\n",
    "\n",
    "# print out result\n",
    "print(original_story)"
   ]
  },
  {
   "cell_type": "markdown",
   "metadata": {},
   "source": [
    "<a id='section5d'></a>\n",
    "### Programming Step 4: Repeat the code in step 3 for the other word identifiers.\n",
    "## Breakout Session"
   ]
  },
  {
   "cell_type": "code",
   "execution_count": 6,
   "metadata": {},
   "outputs": [
    {
     "name": "stdout",
     "output_type": "stream",
     "text": [
      "\n",
      "Once upon a time, there was a silly person who loved to wear a shoes on their head everywhere they went. \n",
      "One day, they were walking down the street when they spotted a stray cat meowing loudly. Feeling sorry \n",
      "for the poor animal, they decided to take it home with them.\n",
      "\n",
      "As they were walking home, the person suddenly realized that they had left the oven on and jogging back \n",
      "to their house as fast as they could. When they finally arrived home, they found their roommate drawing on \n",
      "their computer.\n",
      "\n",
      "The person decided to take a break from their hectic day and join their roommate in learning how to code. \n",
      "They pulled up the online course CME259 and began to work on the exercises together. By the end of the day, \n",
      "they had learned how to write a basic program and were feeling pretty proud of themselves.\n",
      "\n",
      "From that day forward, the person continued to wear their silly shoes everywhere they went, but now they \n",
      "had a new passion for drawing thanks to their roommate and their unexpected encounter with the stray cat. The end.\n",
      "\n"
     ]
    }
   ],
   "source": [
    "original_story = \"\"\"\n",
    "Once upon a time, there was a silly person who loved to wear a {clothing} on their head everywhere they went. \n",
    "One day, they were walking down the street when they spotted a stray {animal} meowing loudly. Feeling sorry \n",
    "for the poor animal, they decided to take it home with them.\n",
    "\n",
    "As they were walking home, the person suddenly realized that they had left the oven on and {action -ing} back \n",
    "to their house as fast as they could. When they finally arrived home, they found their roommate {action -ing #2} on \n",
    "their computer.\n",
    "\n",
    "The person decided to take a break from their hectic day and join their roommate in learning how to code. \n",
    "They pulled up the online course {class name} and began to work on the exercises together. By the end of the day, \n",
    "they had learned how to write a basic program and were feeling pretty proud of themselves.\n",
    "\n",
    "From that day forward, the person continued to wear their silly {clothing} everywhere they went, but now they \n",
    "had a new passion for {action -ing #2} thanks to their roommate and their unexpected encounter with the stray {animal}. The end.\n",
    "\"\"\"\n",
    "\n",
    "# second try: replace one word with more general code\n",
    "# replace animal\n",
    "word_to_replace = '{animal}'\n",
    "replacer = input('Give me a ' + word_to_replace[1:-1] + ': ')\n",
    "original_story = original_story.replace(word_to_replace, replacer)\n",
    "\n",
    "\n",
    "# replace clothing\n",
    "word_to_replace = '{clothing}'\n",
    "replacer = input('Give me a ' + word_to_replace[1:-1] + ': ')\n",
    "original_story = original_story.replace(word_to_replace, replacer)\n",
    "\n",
    "# replace animal\n",
    "word_to_replace = '{action -ing}'\n",
    "replacer = input('Give me a ' + word_to_replace[1:-1] + ': ')\n",
    "original_story = original_story.replace(word_to_replace, replacer)\n",
    "\n",
    "# replace animal\n",
    "word_to_replace = '{class name}'\n",
    "replacer = input('Give me a ' + word_to_replace[1:-1] + ': ')\n",
    "original_story = original_story.replace(word_to_replace, replacer)\n",
    "\n",
    "# replace animal\n",
    "word_to_replace = '{action -ing #2}'\n",
    "replacer = input('Give me a ' + word_to_replace[1:-1] + ': ')\n",
    "original_story = original_story.replace(word_to_replace, replacer)\n",
    "\n",
    "print(original_story)"
   ]
  },
  {
   "cell_type": "markdown",
   "metadata": {},
   "source": [
    "### Improve the solution\n",
    "## Breakout Session\n",
    "That's an awful lot of repeated code. Your spidey senses should be tingling. \n",
    "\n",
    "Be lazy -- write as little code as you can. You should be very suspicious of repeating almost identical lines of code. It almost always means you can write better, shorter code. </div>\n",
    "\n",
    "Can we do better?"
   ]
  },
  {
   "cell_type": "code",
   "execution_count": 7,
   "metadata": {},
   "outputs": [
    {
     "name": "stdout",
     "output_type": "stream",
     "text": [
      "\n",
      "Once upon a time, there was a silly person who loved to wear a skirt on their head everywhere they went. \n",
      "One day, they were walking down the street when they spotted a stray cat meowing loudly. Feeling sorry \n",
      "for the poor animal, they decided to take it home with them.\n",
      "\n",
      "As they were walking home, the person suddenly realized that they had left the oven on and running back \n",
      "to their house as fast as they could. When they finally arrived home, they found their roommate talking on \n",
      "their computer.\n",
      "\n",
      "The person decided to take a break from their hectic day and join their roommate in learning how to code. \n",
      "They pulled up the online course Foundations of Metaphysics and began to work on the exercises together. By the end of the day, \n",
      "they had learned how to write a basic program and were feeling pretty proud of themselves.\n",
      "\n",
      "From that day forward, the person continued to wear their silly skirt everywhere they went, but now they \n",
      "had a new passion for talking thanks to their roommate and their unexpected encounter with the stray cat. The end.\n",
      "\n"
     ]
    }
   ],
   "source": [
    "original_story = \"\"\"\n",
    "Once upon a time, there was a silly person who loved to wear a {clothing} on their head everywhere they went. \n",
    "One day, they were walking down the street when they spotted a stray {animal} meowing loudly. Feeling sorry \n",
    "for the poor animal, they decided to take it home with them.\n",
    "\n",
    "As they were walking home, the person suddenly realized that they had left the oven on and {action -ing} back \n",
    "to their house as fast as they could. When they finally arrived home, they found their roommate {action -ing #2} on \n",
    "their computer.\n",
    "\n",
    "The person decided to take a break from their hectic day and join their roommate in learning how to code. \n",
    "They pulled up the online course {class name} and began to work on the exercises together. By the end of the day, \n",
    "they had learned how to write a basic program and were feeling pretty proud of themselves.\n",
    "\n",
    "From that day forward, the person continued to wear their silly {clothing} everywhere they went, but now they \n",
    "had a new passion for {action -ing #2} thanks to their roommate and their unexpected encounter with the stray {animal}. The end.\n",
    "\"\"\"\n",
    "\n",
    "# third try: add a function\n",
    "\n",
    "def replace_template(word_to_replace, story):\n",
    "    replacer = input('Enter an ' + word_to_replace[1:-1] + ': ')\n",
    "    return story.replace(word_to_replace, replacer)\n",
    " \n",
    "# replace animal\n",
    "word_to_replace = '{animal}'\n",
    "original_story = replace_template(word_to_replace, original_story)\n",
    "\n",
    "\n",
    "# replace clothing\n",
    "word_to_replace = '{clothing}'\n",
    "original_story = replace_template(word_to_replace, original_story)\n",
    "\n",
    "# replace animal\n",
    "word_to_replace = '{action -ing}'\n",
    "original_story = replace_template(word_to_replace, original_story)\n",
    "\n",
    "# replace animal\n",
    "word_to_replace = '{class name}'\n",
    "original_story = replace_template(word_to_replace, original_story)\n",
    "\n",
    "# replace animal\n",
    "word_to_replace = '{action -ing #2}'\n",
    "original_story = replace_template(word_to_replace, original_story)\n",
    "\n",
    "print(original_story)"
   ]
  },
  {
   "cell_type": "markdown",
   "metadata": {},
   "source": [
    "<a id='section5e'></a>\n",
    "### Bonus\n",
    "The code still has a bunch of very similar lines. What would you do to get rid of that repeated code?\n",
    "\n",
    "We already have seen that we can use loops to repeatedly execute some code. But a `while` loop would be pretty awkward in this case and we haven't yet seen a key data structure that would make all of this a bit easier: a list.\n",
    "\n",
    "So as a hint of something we will see after reading week, here's another version of the code - you don't have to be worried that you do not know this yet."
   ]
  },
  {
   "cell_type": "code",
   "execution_count": 4,
   "metadata": {},
   "outputs": [
    {
     "name": "stdout",
     "output_type": "stream",
     "text": [
      "\n",
      "Once upon a time, there was a silly person who loved to wear a skirt on their head everywhere they went. \n",
      "One day, they were walking down the street when they spotted a stray cat meowing loudly. Feeling sorry \n",
      "for the poor animal, they decided to take it home with them.\n",
      "\n",
      "As they were walking home, the person suddenly realized that they had left the oven on and {action -ing} back \n",
      "to their house as fast as they could. When they finally arrived home, they found their roommate running on \n",
      "their computer.\n",
      "\n",
      "The person decided to take a break from their hectic day and join their roommate in learning how to code. \n",
      "They pulled up the online course cme and began to work on the exercises together. By the end of the day, \n",
      "they had learned how to write a basic program and were feeling pretty proud of themselves.\n",
      "\n",
      "From that day forward, the person continued to wear their silly skirt everywhere they went, but now they \n",
      "had a new passion for running thanks to their roommate and their unexpected encounter with the stray cat. The end.\n",
      "\n"
     ]
    }
   ],
   "source": [
    "original_story = \"\"\"\n",
    "Once upon a time, there was a silly person who loved to wear a {clothing} on their head everywhere they went. \n",
    "One day, they were walking down the street when they spotted a stray {animal} meowing loudly. Feeling sorry \n",
    "for the poor animal, they decided to take it home with them.\n",
    "\n",
    "As they were walking home, the person suddenly realized that they had left the oven on and {action -ing} back \n",
    "to their house as fast as they could. When they finally arrived home, they found their roommate {action -ing #2} on \n",
    "their computer.\n",
    "\n",
    "The person decided to take a break from their hectic day and join their roommate in learning how to code. \n",
    "They pulled up the online course {class name} and began to work on the exercises together. By the end of the day, \n",
    "they had learned how to write a basic program and were feeling pretty proud of themselves.\n",
    "\n",
    "From that day forward, the person continued to wear their silly {clothing} everywhere they went, but now they \n",
    "had a new passion for {action -ing #2} thanks to their roommate and their unexpected encounter with the stray {animal}. The end.\n",
    "\"\"\"\n",
    "\n",
    "def replace_template(word_to_replace, story):\n",
    "    replacer = input('Enter an ' + word_to_replace[1:-1] + ': ')\n",
    "    return story.replace(word_to_replace, replacer)\n",
    "\n",
    "# A solution with a list and a loop\n",
    "\n",
    "# A list of the words that we want to replace (you don't know about lists yet)\n",
    "templates = ['{animal}','{clothing}', '{action-ing}', '{action -ing #2}', '{class name}']\n",
    "\n",
    "# A for-loop \n",
    "for word_to_replace in templates:\n",
    "    original_story = replace_template(word_to_replace, original_story)\n",
    "\n",
    "print(original_story)"
   ]
  },
  {
   "cell_type": "markdown",
   "metadata": {},
   "source": [
    "<a id='section6'></a>\n",
    "## 6. Perform Final Testing\n",
    "Evaluation of all the test cases to make sure the code is working."
   ]
  },
  {
   "cell_type": "code",
   "execution_count": 9,
   "metadata": {},
   "outputs": [],
   "source": [
    "original_story = \"\"\"\n",
    "Once upon a time, there was a silly person who loved to wear a {clothing} on their head everywhere they went. \n",
    "One day, they were walking down the street when they spotted a stray {animal} meowing loudly. Feeling sorry \n",
    "for the poor animal, they decided to take it home with them.\n",
    "\n",
    "As they were walking home, the person suddenly realized that they had left the oven on and {action -ing} back \n",
    "to their house as fast as they could. When they finally arrived home, they found their roommate {action -ing #2} on \n",
    "their computer.\n",
    "\n",
    "The person decided to take a break from their hectic day and join their roommate in learning how to code. \n",
    "They pulled up the online course {class name} and began to work on the exercises together. By the end of the day, \n",
    "they had learned how to write a basic program and were feeling pretty proud of themselves.\n",
    "\n",
    "From that day forward, the person continued to wear their silly {clothing} everywhere they went, but now they \n",
    "had a new passion for {action -ing #2} thanks to their roommate and their unexpected encounter with the stray {animal}. The end.\n",
    "\"\"\""
   ]
  },
  {
   "cell_type": "code",
   "execution_count": 8,
   "metadata": {},
   "outputs": [
    {
     "name": "stdout",
     "output_type": "stream",
     "text": [
      "\n",
      "Once upon a time, there was a silly person who loved to wear a skirt on their head everywhere they went. \n",
      "One day, they were walking down the street when they spotted a stray {animal} meowing loudly. Feeling sorry \n",
      "for the poor animal, they decided to take it home with them.\n",
      "\n",
      "As they were walking home, the person suddenly realized that they had left the oven on and {action -ing} back \n",
      "to their house as fast as they could. When they finally arrived home, they found their roommate {action -ing #2} on \n",
      "their computer.\n",
      "\n",
      "The person decided to take a break from their hectic day and join their roommate in learning how to code. \n",
      "They pulled up the online course {class name} and began to work on the exercises together. By the end of the day, \n",
      "they had learned how to write a basic program and were feeling pretty proud of themselves.\n",
      "\n",
      "From that day forward, the person continued to wear their silly skirt everywhere they went, but now they \n",
      "had a new passion for {action -ing #2} thanks to their roommate and their unexpected encounter with the stray {animal}. The end.\n",
      "\n",
      "Word at: 64\n"
     ]
    }
   ],
   "source": [
    "# replace {clothing} with skirt, expect to see skirt in the story (perhaps the find function can help?)\n",
    "def replace_template(word_to_replace, story):\n",
    "    replacer = input('Enter an ' + word_to_replace[1:-1] + ': ')\n",
    "    return story.replace(word_to_replace, replacer)\n",
    "\n",
    "word_to_replace = '{clothing}'\n",
    "original_story = replace_template(word_to_replace, original_story)\n",
    "print(original_story)\n",
    "\n",
    "print(\"Word at: \" + str(original_story.find('skirt')))"
   ]
  },
  {
   "cell_type": "code",
   "execution_count": 10,
   "metadata": {},
   "outputs": [
    {
     "name": "stdout",
     "output_type": "stream",
     "text": [
      "\n",
      "Once upon a time, there was a silly person who loved to wear a {clothing} on their head everywhere they went. \n",
      "One day, they were walking down the street when they spotted a stray {animal} meowing loudly. Feeling sorry \n",
      "for the poor animal, they decided to take it home with them.\n",
      "\n",
      "As they were walking home, the person suddenly realized that they had left the oven on and {action -ing} back \n",
      "to their house as fast as they could. When they finally arrived home, they found their roommate {action -ing #2} on \n",
      "their computer.\n",
      "\n",
      "The person decided to take a break from their hectic day and join their roommate in learning how to code. \n",
      "They pulled up the online course {class name} and began to work on the exercises together. By the end of the day, \n",
      "they had learned how to write a basic program and were feeling pretty proud of themselves.\n",
      "\n",
      "From that day forward, the person continued to wear their silly {clothing} everywhere they went, but now they \n",
      "had a new passion for {action -ing #2} thanks to their roommate and their unexpected encounter with the stray {animal}. The end.\n",
      "\n",
      "Word at: -1\n"
     ]
    }
   ],
   "source": [
    "# replace {pants} in the story, should get an error\n",
    "def replace_template(word_to_replace, story):\n",
    "    replacer = input('Enter an ' + word_to_replace[1:-1] + ': ')\n",
    "    return story.replace(word_to_replace, replacer)\n",
    "\n",
    "word_to_replace = '{pants}'\n",
    "original_story = replace_template(word_to_replace, original_story)\n",
    "print(original_story)\n",
    "\n",
    "print(\"Word at: \" + str(original_story.find('pants')))"
   ]
  },
  {
   "cell_type": "code",
   "execution_count": null,
   "metadata": {},
   "outputs": [],
   "source": []
  }
 ],
 "metadata": {
  "kernelspec": {
   "display_name": "base",
   "language": "python",
   "name": "python3"
  },
  "language_info": {
   "codemirror_mode": {
    "name": "ipython",
    "version": 3
   },
   "file_extension": ".py",
   "mimetype": "text/x-python",
   "name": "python",
   "nbconvert_exporter": "python",
   "pygments_lexer": "ipython3",
   "version": "3.8.5"
  },
  "vscode": {
   "interpreter": {
    "hash": "cce653f866f2e7eb05dbf1ed36e80dc192bd71c44f134e803aafa0a192c2edfd"
   }
  }
 },
 "nbformat": 4,
 "nbformat_minor": 1
}
