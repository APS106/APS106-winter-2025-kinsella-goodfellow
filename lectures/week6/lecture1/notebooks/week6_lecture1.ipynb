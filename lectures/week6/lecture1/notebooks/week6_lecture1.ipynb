{
 "cells": [
  {
   "cell_type": "markdown",
   "metadata": {},
   "source": [
    "# APS106 - Fundamentals of Computer Programming\n",
    "## Week 6 | Lecture 1 (6.1) - `for` Loops\n",
    "\n",
    "### Lecture Structure\n",
    "1. [Your first `for` loop!](#section1)\n",
    "2. [`for` vs `while`](#section2)\n",
    "3. [Breakout Session 1](#section3)\n",
    "4. [Breakout Session 2](#section4)"
   ]
  },
  {
   "cell_type": "markdown",
   "metadata": {},
   "source": [
    "<a id='section1'></a>\n",
    "## 1. Your first `for` loop!\n",
    "Create a `for` loop that print each character in your name."
   ]
  },
  {
   "cell_type": "code",
   "execution_count": 45,
   "metadata": {},
   "outputs": [
    {
     "ename": "TypeError",
     "evalue": "'bool' object is not iterable",
     "output_type": "error",
     "traceback": [
      "\u001b[1;31m---------------------------------------------------------------------------\u001b[0m",
      "\u001b[1;31mTypeError\u001b[0m                                 Traceback (most recent call last)",
      "Cell \u001b[1;32mIn[45], line 1\u001b[0m\n\u001b[1;32m----> 1\u001b[0m \u001b[38;5;28;01mfor\u001b[39;00m char \u001b[38;5;129;01min\u001b[39;00m \u001b[38;5;28;01mTrue\u001b[39;00m:\n\u001b[0;32m      2\u001b[0m     \u001b[38;5;28mprint\u001b[39m(char)\n",
      "\u001b[1;31mTypeError\u001b[0m: 'bool' object is not iterable"
     ]
    }
   ],
   "source": [
    "\n",
    "\n",
    "for char in True:\n",
    "    print(char)"
   ]
  },
  {
   "cell_type": "code",
   "execution_count": 42,
   "metadata": {},
   "outputs": [
    {
     "name": "stdout",
     "output_type": "stream",
     "text": [
      "n\n"
     ]
    }
   ],
   "source": [
    "print(character)"
   ]
  },
  {
   "cell_type": "markdown",
   "metadata": {},
   "source": [
    "<a id='section2'></a>\n",
    "## 2. `for` vs `while`\n",
    "Problem: You have had your DNA sequenced and each of your chromosomes is represented by a string of nucleotides: adenine (A), thymine (T), guanine (G), and cytosine (C). Each nucleotide is represented by its corresponding letter. For example:\n",
    " \n",
    "```python\n",
    "chrome_4 = \"ATGGGCAATCGATGGCCTAATCTCTCTAAG\"\n",
    "```\n",
    "\n",
    "Create a function `my_count` to count the number of occurences of a given letter in the seequence.\n",
    "\n",
    "### `while` Loop Approach\n",
    "First, let's use a `while` loop that we leaved in Week 4. Let's create a DNA sequence for testing."
   ]
  },
  {
   "cell_type": "code",
   "execution_count": 47,
   "metadata": {},
   "outputs": [
    {
     "name": "stdout",
     "output_type": "stream",
     "text": [
      "30\n"
     ]
    }
   ],
   "source": [
    "chrome_4 = \"ATGGGCAATCGATGGCCTAATCTCTCTAAG\"\n",
    "print(len(chrome_4))"
   ]
  },
  {
   "cell_type": "markdown",
   "metadata": {},
   "source": [
    "Let's just look at how to print out each character."
   ]
  },
  {
   "cell_type": "code",
   "execution_count": 48,
   "metadata": {},
   "outputs": [
    {
     "name": "stdout",
     "output_type": "stream",
     "text": [
      "0 A\n",
      "1 T\n",
      "2 G\n",
      "3 G\n",
      "4 G\n",
      "5 C\n",
      "6 A\n",
      "7 A\n",
      "8 T\n",
      "9 C\n",
      "10 G\n",
      "11 A\n",
      "12 T\n",
      "13 G\n",
      "14 G\n",
      "15 C\n",
      "16 C\n",
      "17 T\n",
      "18 A\n",
      "19 A\n",
      "20 T\n",
      "21 C\n",
      "22 T\n",
      "23 C\n",
      "24 T\n",
      "25 C\n",
      "26 T\n",
      "27 A\n",
      "28 A\n",
      "29 G\n"
     ]
    }
   ],
   "source": [
    "# Write your code here\n",
    "i = 0\n",
    "\n",
    "while i < len(chrome_4):\n",
    "    \n",
    "    print(i, chrome_4[i])\n",
    "    \n",
    "    # Increment i\n",
    "    i += 1"
   ]
  },
  {
   "cell_type": "markdown",
   "metadata": {},
   "source": [
    "Next, let's count the number of occurences for the letter `'A'`."
   ]
  },
  {
   "cell_type": "code",
   "execution_count": 50,
   "metadata": {},
   "outputs": [
    {
     "name": "stdout",
     "output_type": "stream",
     "text": [
      "A 8\n"
     ]
    }
   ],
   "source": [
    "# Write your code here\n",
    "i = 0\n",
    "counter = 0\n",
    "\n",
    "# While not at the end of the sequence\n",
    "while i < len(chrome_4):\n",
    "    \n",
    "    # If adenine (A), increment counter\n",
    "    if chrome_4[i] == 'A':\n",
    "        counter += 1\n",
    "    \n",
    "    # Increment i\n",
    "    i += 1\n",
    "    \n",
    "print('A', counter)"
   ]
  },
  {
   "cell_type": "markdown",
   "metadata": {},
   "source": [
    "### `for` Loop Approach\n",
    "Now, let's try it using a for loop."
   ]
  },
  {
   "cell_type": "code",
   "execution_count": 51,
   "metadata": {},
   "outputs": [
    {
     "name": "stdout",
     "output_type": "stream",
     "text": [
      "A 8\n"
     ]
    }
   ],
   "source": [
    "# Write your code here\n",
    "counter = 0\n",
    "\n",
    "for item in chrome_4:\n",
    "    \n",
    "    # If adenine (A), increment counter\n",
    "    if item == 'A':\n",
    "        counter += 1\n",
    "        \n",
    "print('A', counter)"
   ]
  },
  {
   "cell_type": "markdown",
   "metadata": {},
   "source": [
    "Laslty, let's wrap it in a function we can use for other letters."
   ]
  },
  {
   "cell_type": "code",
   "execution_count": 52,
   "metadata": {},
   "outputs": [
    {
     "name": "stdout",
     "output_type": "stream",
     "text": [
      "A 8\n",
      "C 7\n",
      "W 0\n"
     ]
    }
   ],
   "source": [
    "# Write your code here\n",
    "def my_count(target, letter):\n",
    "    \"\"\"\n",
    "    (str, str) -> int\n",
    "    Returns the number of times that letter appears in target\n",
    "    \"\"\"\n",
    "    counter = 0\n",
    "\n",
    "    for item in target:\n",
    "\n",
    "        # If adenine (A), increment counter\n",
    "        if item == letter:\n",
    "            counter += 1\n",
    "\n",
    "    return counter\n",
    "\n",
    "print(\"A\", my_count(chrome_4, 'A'))\n",
    "print(\"C\", my_count(chrome_4, 'C'))\n",
    "print(\"W\", my_count(chrome_4, 'W'))"
   ]
  },
  {
   "cell_type": "markdown",
   "metadata": {},
   "source": [
    "<a id='section3'></a>\n",
    "## 3. Breakout Session 1\n",
    "Write a function that takes in a string and returns the number of vowels (`a,e,i,o,u`) in the string.\n",
    "\n",
    "Hint: The `in` operator can be very helpful here."
   ]
  },
  {
   "cell_type": "code",
   "execution_count": 53,
   "metadata": {},
   "outputs": [
    {
     "name": "stdout",
     "output_type": "stream",
     "text": [
      "yes\n"
     ]
    }
   ],
   "source": [
    "if 'a' in 'abc':\n",
    "    print(\"yes\")\n",
    "else:\n",
    "    print('no')"
   ]
  },
  {
   "cell_type": "code",
   "execution_count": 54,
   "metadata": {},
   "outputs": [
    {
     "name": "stdout",
     "output_type": "stream",
     "text": [
      "no\n"
     ]
    }
   ],
   "source": [
    "if 'w' in 'abc':\n",
    "    print(\"yes\")\n",
    "else:\n",
    "    print('no')"
   ]
  },
  {
   "cell_type": "markdown",
   "metadata": {},
   "source": [
    "Fill in the code below with your solution."
   ]
  },
  {
   "cell_type": "code",
   "execution_count": 62,
   "metadata": {},
   "outputs": [],
   "source": [
    "def count_vowels(s):\n",
    "    \"\"\"\n",
    "    (str) -> int\n",
    "    Return the number of vowles in s.\n",
    "    \"\"\"\n",
    "    # Write your code here\n",
    "    counter = 0\n",
    "    s = s.lower()\n",
    "    for item in s:\n",
    "        \n",
    "        if item in 'aeiou':\n",
    "            counter += 1\n",
    "            \n",
    "    return counter"
   ]
  },
  {
   "cell_type": "markdown",
   "metadata": {},
   "source": [
    "**Test 1** Answer: `5`"
   ]
  },
  {
   "cell_type": "code",
   "execution_count": 63,
   "metadata": {},
   "outputs": [
    {
     "name": "stdout",
     "output_type": "stream",
     "text": [
      "5\n"
     ]
    }
   ],
   "source": [
    "vowel_count = count_vowels('Happy Anniversary!')\n",
    "print(vowel_count)"
   ]
  },
  {
   "cell_type": "markdown",
   "metadata": {},
   "source": [
    "**Test 2** Answer: `0`"
   ]
  },
  {
   "cell_type": "code",
   "execution_count": 59,
   "metadata": {},
   "outputs": [
    {
     "name": "stdout",
     "output_type": "stream",
     "text": [
      "0\n"
     ]
    }
   ],
   "source": [
    "vowel_count = count_vowels('xyz')\n",
    "print(vowel_count)"
   ]
  },
  {
   "cell_type": "markdown",
   "metadata": {},
   "source": [
    "<a id='section4'></a>\n",
    "## 4. Breakout Session 2\n",
    "Write a function to return the unique non-numeric characters in a string.\n",
    "\n",
    "Hint: The `.isnumeric()` string method might be helpful."
   ]
  },
  {
   "cell_type": "code",
   "execution_count": 64,
   "metadata": {},
   "outputs": [
    {
     "data": {
      "text/plain": [
       "True"
      ]
     },
     "execution_count": 64,
     "metadata": {},
     "output_type": "execute_result"
    }
   ],
   "source": [
    "'3'.isnumeric()"
   ]
  },
  {
   "cell_type": "code",
   "execution_count": 66,
   "metadata": {},
   "outputs": [
    {
     "data": {
      "text/plain": [
       "False"
      ]
     },
     "execution_count": 66,
     "metadata": {},
     "output_type": "execute_result"
    }
   ],
   "source": [
    "'23.456'.isnumeric()"
   ]
  },
  {
   "cell_type": "markdown",
   "metadata": {},
   "source": [
    "Fill in the code below with your solution."
   ]
  },
  {
   "cell_type": "code",
   "execution_count": 93,
   "metadata": {},
   "outputs": [],
   "source": [
    "def find_chars(s):\n",
    "    \"\"\"\n",
    "    (str) -> str\n",
    "    Return a concatentation of all unique seperators in s.\n",
    "    \"\"\"\n",
    "    # Write your code here\n",
    "    sep = ''\n",
    "    for item in s:\n",
    "        \n",
    "        if item.isnumeric() != True and item not in sep: \n",
    "            sep += item\n",
    "    \n",
    "    return sep"
   ]
  },
  {
   "cell_type": "code",
   "execution_count": 99,
   "metadata": {},
   "outputs": [],
   "source": [
    "var= '' + ','"
   ]
  },
  {
   "cell_type": "code",
   "execution_count": 100,
   "metadata": {},
   "outputs": [
    {
     "name": "stdout",
     "output_type": "stream",
     "text": [
      ",-\n"
     ]
    }
   ],
   "source": [
    "var += '-'\n",
    "print(var)"
   ]
  },
  {
   "cell_type": "markdown",
   "metadata": {},
   "source": [
    "**Test 1** Answer: `,-;:`"
   ]
  },
  {
   "cell_type": "code",
   "execution_count": 94,
   "metadata": {},
   "outputs": [
    {
     "name": "stdout",
     "output_type": "stream",
     "text": [
      ",-;:\n"
     ]
    }
   ],
   "source": [
    "print(find_chars('23,613-23;2:45'))"
   ]
  },
  {
   "cell_type": "markdown",
   "metadata": {},
   "source": [
    "**Test 2** Answer: `-`"
   ]
  },
  {
   "cell_type": "code",
   "execution_count": 90,
   "metadata": {},
   "outputs": [
    {
     "name": "stdout",
     "output_type": "stream",
     "text": [
      "-\n"
     ]
    }
   ],
   "source": [
    "print(find_chars('613-555-3224'))"
   ]
  },
  {
   "cell_type": "code",
   "execution_count": null,
   "metadata": {},
   "outputs": [],
   "source": []
  }
 ],
 "metadata": {
  "kernelspec": {
   "display_name": "Python 3 (ipykernel)",
   "language": "python",
   "name": "python3"
  },
  "language_info": {
   "codemirror_mode": {
    "name": "ipython",
    "version": 3
   },
   "file_extension": ".py",
   "mimetype": "text/x-python",
   "name": "python",
   "nbconvert_exporter": "python",
   "pygments_lexer": "ipython3",
   "version": "3.11.5"
  }
 },
 "nbformat": 4,
 "nbformat_minor": 4
}
