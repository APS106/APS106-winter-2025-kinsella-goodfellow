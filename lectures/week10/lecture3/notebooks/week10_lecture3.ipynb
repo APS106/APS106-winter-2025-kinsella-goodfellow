{
 "cells": [
  {
   "metadata": {},
   "cell_type": "code",
   "outputs": [],
   "execution_count": null,
   "source": [
    "# APS106 - Fundamentals of Computer Programming\n",
    "## Week 10 | Lecture 3 (10.3) - classes in classes, functions, and collections\n",
    "\n",
    "### Lecture Structure\n",
    "1. [Point Class](#section1)\n",
    "2. [Calling Methods](#section2)\n",
    "3. [Add Midpoint Method to Point Class](#section3)\n",
    "4. [Variable Declarations Are Optional](#section4)\n",
    "5. [Objects as Data Attributes of Classes](#section5)\n",
    "6. [Objects In Collections](#section6)\n",
    "7. [Printing Attribute Information](#section7)\n",
    "8. [Breakout Session 1](#section8)\n",
    "9. [Patient Class](#section9)"
   ],
   "id": "5f50945f8e787829"
  },
  {
   "metadata": {},
   "cell_type": "markdown",
   "source": [
    "<a id='section1'></a>\n",
    "## 1. Point Class\n",
    "Let's revisit our `Point` class from last lecture."
   ],
   "id": "12f4462240e56d41"
  },
  {
   "metadata": {},
   "cell_type": "code",
   "outputs": [],
   "execution_count": null,
   "source": [
    "import math\n",
    "\n",
    "class Point:\n",
    "    \n",
    "    \"\"\"A class that represents and manipulates 2D points\"\"\"\n",
    "    \n",
    "    def __init__(self, x=0, y=0):\n",
    "        \"\"\" \n",
    "        (Point, float, float) -> None\n",
    "        Initializes a new point at (0, 0)\n",
    "        \"\"\"\n",
    "        self.x = x\n",
    "        self.y = y\n",
    "        \n",
    "    def calculate_distance_to_point(self, other_point):\n",
    "        \"\"\"\n",
    "        (Point, Point) -> float\n",
    "        Calculates the Euclidean distance between self and other point\n",
    "        \"\"\"\n",
    "        return math.sqrt((self.x - other_point.x)**2 + (self.y - other_point.y)**2)"
   ],
   "id": "959cb4de91f908c8"
  },
  {
   "metadata": {},
   "cell_type": "markdown",
   "source": "This is how create an instance of the `Point` class.",
   "id": "8c43daa1ed21135c"
  },
  {
   "metadata": {},
   "cell_type": "code",
   "outputs": [],
   "execution_count": null,
   "source": "point1 = Point(10, 10)",
   "id": "df09db4256bc8691"
  },
  {
   "metadata": {},
   "cell_type": "markdown",
   "source": "We can print the attributes of `Point`.",
   "id": "e96b9e6426630da8"
  },
  {
   "metadata": {},
   "cell_type": "code",
   "outputs": [],
   "execution_count": null,
   "source": "print(point1.x, point1.y)",
   "id": "cffe4c5a6a10b857"
  },
  {
   "metadata": {},
   "cell_type": "markdown",
   "source": "We can use the method `calculate_distance_to_point()` to calculate the distance between two points.",
   "id": "a4d8b6fc7e43dba0"
  },
  {
   "metadata": {},
   "cell_type": "code",
   "outputs": [],
   "execution_count": null,
   "source": "point2 = Point(5, 5)",
   "id": "d89eada18275fa50"
  },
  {
   "metadata": {},
   "cell_type": "code",
   "outputs": [],
   "execution_count": null,
   "source": "point1.calculate_distance_to_point(point2)",
   "id": "e668c3d7282dfe8c"
  },
  {
   "metadata": {},
   "cell_type": "markdown",
   "source": [
    "### Add Method\n",
    "Add a new method to calculate the Euclidean Distance to Origin `(0, 0)`."
   ],
   "id": "8655bdb8ce6a7904"
  },
  {
   "metadata": {},
   "cell_type": "code",
   "outputs": [],
   "execution_count": null,
   "source": [
    "import math\n",
    "\n",
    "class Point:\n",
    "    \n",
    "    \"\"\"A class that represents and manipulates 2D points\"\"\"\n",
    "    \n",
    "    def __init__(self, x=0, y=0):\n",
    "        \"\"\" \n",
    "        (Point, float, float) -> None\n",
    "        Initializes a new point at (0, 0)\n",
    "        \"\"\"\n",
    "        self.x = x\n",
    "        self.y = y\n",
    "        \n",
    "    def calculate_distance_to_point(self, other_point):\n",
    "        \"\"\"\n",
    "        (Point, Point) -> float\n",
    "        Calculates the Euclidean distance between self and other point\n",
    "        \"\"\"\n",
    "        return (math.sqrt((self.x - other_point.x)**2 + \n",
    "                          (self.y - other_point.y)**2))\n",
    "    \n",
    "    def calculate_distance_to_origin(self):\n",
    "        \"\"\"\n",
    "        (Point) -> float\n",
    "        Calculates the Euclidean distance between self and origin\n",
    "        \"\"\"\n",
    "        return self.calculate_distance_to_point(Point())"
   ],
   "id": "be8d51d0d753ba71"
  },
  {
   "metadata": {},
   "cell_type": "markdown",
   "source": "Let's try it!",
   "id": "18d30d1612802b36"
  },
  {
   "metadata": {},
   "cell_type": "code",
   "outputs": [],
   "execution_count": null,
   "source": [
    "point1 = Point(8, 15)\n",
    "print(point1.calculate_distance_to_origin())"
   ],
   "id": "4d834ac941f063e1"
  },
  {
   "metadata": {},
   "cell_type": "markdown",
   "source": "We can also collect these object in various Python collections like lists.",
   "id": "b5466aaa38e95f43"
  },
  {
   "metadata": {},
   "cell_type": "code",
   "outputs": [],
   "execution_count": null,
   "source": [
    "p = Point(3, 4)\n",
    "print(p.x)\n",
    "print(p.y)\n",
    "print(p.calculate_distance_to_origin())"
   ],
   "id": "6d0e57e9619644a0"
  },
  {
   "metadata": {},
   "cell_type": "code",
   "outputs": [],
   "execution_count": null,
   "source": [
    "q = Point(5, 12)\n",
    "print(q.x)\n",
    "print(q.y)\n",
    "print(q.calculate_distance_to_origin())"
   ],
   "id": "edc28f464703c8de"
  },
  {
   "metadata": {},
   "cell_type": "code",
   "outputs": [],
   "execution_count": null,
   "source": [
    "r = Point()\n",
    "print(r.x)\n",
    "print(r.y)\n",
    "print(r.calculate_distance_to_origin())"
   ],
   "id": "95a2e663beef8655"
  },
  {
   "metadata": {},
   "cell_type": "code",
   "outputs": [],
   "execution_count": null,
   "source": [
    "point_list = [p, q, r]\n",
    "point_list"
   ],
   "id": "97ab68e76721a298"
  },
  {
   "metadata": {},
   "cell_type": "markdown",
   "source": "Interesting, eh? More on this later.",
   "id": "e37b54588bfe8ac2"
  },
  {
   "metadata": {},
   "cell_type": "markdown",
   "source": [
    "<a id='section2'></a>\n",
    "## 2. Calling Methods\n",
    "Let's create an instance of the `Point` class."
   ],
   "id": "243ecb35f82e8c0c"
  },
  {
   "metadata": {},
   "cell_type": "code",
   "outputs": [],
   "execution_count": null,
   "source": "point = Point(8, 15)",
   "id": "b8eef61923e52ee7"
  },
  {
   "metadata": {},
   "cell_type": "markdown",
   "source": [
    "### Method 1\n",
    "One way to call methods is to access the method through the class name and pass in the object."
   ],
   "id": "dd082c9446c42066"
  },
  {
   "metadata": {},
   "cell_type": "code",
   "outputs": [],
   "execution_count": null,
   "source": "Point.calculate_distance_to_origin()",
   "id": "cea097c7c7674a5a"
  },
  {
   "metadata": {},
   "cell_type": "markdown",
   "source": "When we call a method in this way, `self` is not automatically passed as the first argument.",
   "id": "f0745b054f145b40"
  },
  {
   "metadata": {},
   "cell_type": "code",
   "outputs": [],
   "execution_count": null,
   "source": "Point.calculate_distance_to_origin(point)",
   "id": "314a22cbf3871a82"
  },
  {
   "metadata": {},
   "cell_type": "markdown",
   "source": "We can do something similar with methods we are familiar with.",
   "id": "62edb041a2009079"
  },
  {
   "metadata": {},
   "cell_type": "code",
   "outputs": [],
   "execution_count": null,
   "source": "str.capitalize(\"hello world\")",
   "id": "8407f49d342c6b07"
  },
  {
   "metadata": {},
   "cell_type": "markdown",
   "source": [
    "### Method 2\n",
    "The other way to call methods is to use object-oriented syntax."
   ],
   "id": "1b0eaae895bcdd46"
  },
  {
   "metadata": {},
   "cell_type": "code",
   "outputs": [],
   "execution_count": null,
   "source": "point.calculate_distance_to_origin(point, point)",
   "id": "9949b72d06f8dd74"
  },
  {
   "metadata": {},
   "cell_type": "markdown",
   "source": "In this case, because I am calling the method from an instance of the class, the `self` argument is automatically passed.",
   "id": "fe612b9b9df38469"
  },
  {
   "metadata": {},
   "cell_type": "code",
   "outputs": [],
   "execution_count": null,
   "source": "point.calculate_distance_to_origin()",
   "id": "1815bc3a4971d23e"
  },
  {
   "metadata": {},
   "cell_type": "markdown",
   "source": "This is how we could called the `capitalize` method from a string object (an instance of the `str` class).",
   "id": "211bd3f43751c5fa"
  },
  {
   "metadata": {},
   "cell_type": "code",
   "outputs": [],
   "execution_count": null,
   "source": [
    "my_string = \"hello world\"\n",
    "my_string.capitalize()"
   ],
   "id": "a460134670608a2e"
  },
  {
   "metadata": {},
   "cell_type": "markdown",
   "source": [
    "Personally, I always use the OO way of doing it.\n",
    "\n",
    "### self as an argument.\n",
    "Lastly, you'll notice that we don't have to pass `self` as an argument even though it is a parameter in the method. Python automatically passes it for us.\n",
    "\n",
    "```python\n",
    "def calculate_distance_to_origin(self):\n",
    "    \"\"\"\n",
    "    (Point) -> float\n",
    "    Calculates the Euclidean distance between self and origin\n",
    "    \"\"\"\n",
    "    return self.calculate_distance_to_point(Point(0, 0))\n",
    "```"
   ],
   "id": "b4b7d2de35198b3e"
  },
  {
   "metadata": {},
   "cell_type": "code",
   "outputs": [],
   "execution_count": null,
   "source": "point.calculate_distance_to_origin()",
   "id": "2f5317e9409b0b25"
  },
  {
   "metadata": {},
   "cell_type": "markdown",
   "source": "And what happens is we don't include `self` as a parameter when defining the class.",
   "id": "55b1e37c8ac31a86"
  },
  {
   "metadata": {},
   "cell_type": "code",
   "outputs": [],
   "execution_count": null,
   "source": [
    "import math\n",
    "\n",
    "class Point:\n",
    "    \n",
    "    \"\"\"A class that represents and manipulates 2D points\"\"\"\n",
    "    \n",
    "    def __init__(self, x=0, y=0):\n",
    "        \"\"\" \n",
    "        (Point, float, float) -> None\n",
    "        Initializes a new point at (0, 0)\n",
    "        \"\"\"\n",
    "        self.x = x\n",
    "        self.y = y\n",
    "        \n",
    "    def calculate_distance_to_point(self, other_point):\n",
    "        \"\"\"\n",
    "        (Point, Point) -> float\n",
    "        Calculates the Euclidean distance between self and other point\n",
    "        \"\"\"\n",
    "        return (math.sqrt((self.x - other_point.x)**2 + \n",
    "                          (self.y - other_point.y)**2))\n",
    "    \n",
    "    def calculate_distance_to_origin(self):\n",
    "        \"\"\"\n",
    "        (Point) -> float\n",
    "        Calculates the Euclidean distance between self and origin\n",
    "        \"\"\"\n",
    "        return self.calculate_distance_to_point(Point(0, 0))"
   ],
   "id": "112421c2447ae084"
  },
  {
   "metadata": {},
   "cell_type": "markdown",
   "source": "We do not get an effor when difining the class or when we create an instance of the class.",
   "id": "f69c75a872f966ac"
  },
  {
   "metadata": {},
   "cell_type": "code",
   "outputs": [],
   "execution_count": null,
   "source": "point = Point(8, 15)",
   "id": "747ab226e5005cce"
  },
  {
   "metadata": {},
   "cell_type": "code",
   "outputs": [],
   "execution_count": null,
   "source": "point.calculate_distance_to_origin()",
   "id": "c0e9d08cc5fd8362"
  },
  {
   "metadata": {},
   "cell_type": "markdown",
   "source": "But we do when I call the method. Also, notice that I recreated the `point` instance so that the methods would be up to date.",
   "id": "2ad886d35e8a8ff"
  },
  {
   "metadata": {},
   "cell_type": "markdown",
   "source": [
    "<a id='section3'></a>\n",
    "## 3. Add Midpoint Method to Point Class\n",
    "Let's start by defining our `Point` class again."
   ],
   "id": "4656ffe7077f8b92"
  },
  {
   "metadata": {},
   "cell_type": "code",
   "outputs": [],
   "execution_count": null,
   "source": [
    "import math\n",
    "\n",
    "class Point:\n",
    "    \n",
    "    \"\"\"A class that represents and manipulates 2D points\"\"\"\n",
    "    \n",
    "    def __init__(self, x=0, y=0):\n",
    "        \"\"\" \n",
    "        (Point, float, float) -> None\n",
    "        Initializes a new point at (0, 0)\n",
    "        \"\"\"\n",
    "        self.x = x\n",
    "        self.y = y\n",
    "        \n",
    "    def calculate_distance_to_point(self, other_point):\n",
    "        \"\"\"\n",
    "        (Point, Point) -> float\n",
    "        Calculates the Euclidean distance between self and other point\n",
    "        \"\"\"\n",
    "        return (math.sqrt((self.x - other_point.x)**2 + \n",
    "                          (self.y - other_point.y)**2))\n",
    "    \n",
    "    def calculate_distance_to_origin(self):\n",
    "        \"\"\"\n",
    "        (Point) -> float\n",
    "        Calculates the Euclidean distance between self and origin\n",
    "        \"\"\"\n",
    "        return self.calculate_distance_to_point(Point(0, 0))"
   ],
   "id": "2792cfb1170ad6e2"
  },
  {
   "metadata": {},
   "cell_type": "markdown",
   "source": [
    "#### Create a Function\n",
    "First we’ll write this as a regular function."
   ],
   "id": "b5f8ee7136a5a728"
  },
  {
   "metadata": {},
   "cell_type": "code",
   "outputs": [],
   "execution_count": null,
   "source": [
    "def calculate_midpoint(point_1, point_2):\n",
    "    \"\"\" \n",
    "    (Point, Point) -> Point\n",
    "    Returns the midpoint of points point_1 and point_2 \n",
    "    \"\"\"\n",
    "    midpoint_x = (point_1.x + point_2.x) / 2\n",
    "    midpoint_y = (point_1.y + point_2.y) / 2\n",
    "    return Point(midpoint_x, midpoint_y)"
   ],
   "id": "5d38ccc30f8b9b9c"
  },
  {
   "metadata": {},
   "cell_type": "markdown",
   "source": "Let's try it out!",
   "id": "c89e685dd584f3cd"
  },
  {
   "metadata": {},
   "cell_type": "code",
   "outputs": [],
   "execution_count": null,
   "source": [
    "p1 = Point(3, 4)\n",
    "p2 = Point(5, 12)\n",
    "midpoint = calculate_midpoint(p1, p2)\n",
    "print(midpoint.x, midpoint.y)"
   ],
   "id": "754921815d624eb7"
  },
  {
   "metadata": {},
   "cell_type": "markdown",
   "source": [
    "#### Create a Function\n",
    "Let's do this as a method instead. Suppose we have a Point object, and wish to find the midpoint halfway between it and some other target point."
   ],
   "id": "30ff33beba94fc78"
  },
  {
   "metadata": {},
   "cell_type": "code",
   "outputs": [],
   "execution_count": null,
   "source": [
    "import math\n",
    "\n",
    "class Point:\n",
    "    \n",
    "    \"\"\"A class that represents and manipulates 2D points\"\"\"\n",
    "    \n",
    "    def __init__(self, x=0, y=0):\n",
    "        \"\"\" \n",
    "        (Point, float, float) -> None\n",
    "        Initializes a new point at (0, 0)\n",
    "        \"\"\"\n",
    "        self.x = x\n",
    "        self.y = y\n",
    "        \n",
    "    def calculate_distance_to_point(self, other_point):\n",
    "        \"\"\"\n",
    "        (Point, Point) -> float\n",
    "        Calculates the Euclidean distance between self and other point\n",
    "        \"\"\"\n",
    "        return (math.sqrt((self.x - other_point.x)**2 + \n",
    "                          (self.y - other_point.y)**2))\n",
    "    \n",
    "    def calculate_distance_to_origin(self):\n",
    "        \"\"\"\n",
    "        (Point) -> float\n",
    "        Calculates the Euclidean distance between self and origin\n",
    "        \"\"\"\n",
    "        return self.calculate_distance_to_point(Point(0, 0))\n",
    "    \n",
    "    def calculate_midpoint(self, other_point):\n",
    "        \"\"\"\n",
    "        (Point, Point) -> Point\n",
    "        Calculates the midpoint between self and other point\n",
    "        \"\"\"\n",
    "        midpoint_x = (self.x + other_point.x) / 2\n",
    "        midpoint_y = (self.y + other_point.y) / 2\n",
    "        return Point(midpoint_x, midpoint_y)"
   ],
   "id": "ea8b98901e97fcb1"
  },
  {
   "metadata": {},
   "cell_type": "markdown",
   "source": "Let's try it out.",
   "id": "3c28a3c5ee9dc9cc"
  },
  {
   "metadata": {},
   "cell_type": "code",
   "outputs": [],
   "execution_count": null,
   "source": [
    "point1 = Point(3, 4)\n",
    "point2 = Point(5, 12)\n",
    "point1.calculate_midpoint(point2)"
   ],
   "id": "9c12a8262fd907f2"
  },
  {
   "metadata": {},
   "cell_type": "markdown",
   "source": "hmmmmmm, why is the point not (x, y)? Remember, we return an instance of `Point`.",
   "id": "4c1cda1cccb92ff6"
  },
  {
   "metadata": {},
   "cell_type": "code",
   "outputs": [],
   "execution_count": null,
   "source": [
    "midpoint = point1.calculate_midpoint(point2)\n",
    "print(midpoint.x, midpoint.y)"
   ],
   "id": "f6c07b97e37598f4"
  },
  {
   "metadata": {},
   "cell_type": "markdown",
   "source": [
    "<a id='section4'></a>\n",
    "## 4. Variable Declarations Are Optional\n",
    "#### Option 1"
   ],
   "id": "b8a901ef253f2997"
  },
  {
   "metadata": {},
   "cell_type": "code",
   "outputs": [],
   "execution_count": null,
   "source": [
    "p1 = Point(3, 4)\n",
    "p2 = Point(5, 12)\n",
    "p3 = p1.calculate_midpoint(p2)\n",
    "print(p3.x, p3.y)"
   ],
   "id": "b0d890b4e01ec384"
  },
  {
   "metadata": {},
   "cell_type": "markdown",
   "source": "#### Option 2",
   "id": "e2a95090781944c8"
  },
  {
   "metadata": {},
   "cell_type": "code",
   "outputs": [],
   "execution_count": null,
   "source": [
    "p3 = Point(3, 4).calculate_midpoint(Point(5, 12))\n",
    "print(p3.x, p3.y)"
   ],
   "id": "c7f9ab29ca64f0bb"
  },
  {
   "metadata": {},
   "cell_type": "markdown",
   "source": [
    "<a id='section5'></a>\n",
    "## 5. Objects as Data Attributes of Classes\n",
    "Ok, let's start of again by redefining out `Point` class."
   ],
   "id": "dd02581f6babd21f"
  },
  {
   "metadata": {},
   "cell_type": "code",
   "outputs": [],
   "execution_count": null,
   "source": [
    "import math\n",
    "\n",
    "class Point:\n",
    "    \n",
    "    \"\"\"A class that represents and manipulates 2D points\"\"\"\n",
    "    \n",
    "    def __init__(self, x=0, y=0):\n",
    "        \"\"\" \n",
    "        (Point, float, float) -> None\n",
    "        Initializes a new point at (0, 0)\n",
    "        \"\"\"\n",
    "        self.x = x\n",
    "        self.y = y\n",
    "        \n",
    "    def calculate_distance_to_point(self, other_point):\n",
    "        \"\"\"\n",
    "        (Point, Point) -> float\n",
    "        Calculates the Euclidean distance between self and other point\n",
    "        \"\"\"\n",
    "        return (math.sqrt((self.x - other_point.x)**2 + \n",
    "                          (self.y - other_point.y)**2))\n",
    "    \n",
    "    def calculate_distance_to_origin(self):\n",
    "        \"\"\"\n",
    "        (Point) -> float\n",
    "        Calculates the Euclidean distance between self and origin\n",
    "        \"\"\"\n",
    "        return self.calculate_distance_to_point(Point(0, 0))\n",
    "    \n",
    "    def calculate_midpoint(self, other_point):\n",
    "        \"\"\"\n",
    "        (Point, Point) -> Point\n",
    "        Calculates the midpoint between self and other point\n",
    "        \"\"\"\n",
    "        x_midpoint = (self.x + other_point.x) / 2\n",
    "        y_midpoint = (self.y + other_point.y) / 2\n",
    "        return Point(x_midpoint, y_midpoint)"
   ],
   "id": "241910aa7f5e22d2"
  },
  {
   "metadata": {},
   "cell_type": "markdown",
   "source": [
    "### Square Class\n",
    "Let's define ou `Square` class.\n",
    "- **Parameters**\n",
    "    - x1 (lower left point, x)\n",
    "    - y1 (lower left point, y)\n",
    "    - x2 (upper right point, x)\n",
    "    - y2 (upper right point, y)\n",
    "- **Attributes**\n",
    "    - Lower left point\n",
    "    - Upper right point\n",
    "- **Methods**\n",
    "    - Calculate area\n",
    "    - Calculate centre\n",
    "    \n",
    "Ok, let's start with the constructor to take our inputs `x1, y1, x2, y2` and assigns them to class attributes."
   ],
   "id": "8eb9a3fd6cd74a3d"
  },
  {
   "metadata": {},
   "cell_type": "code",
   "outputs": [],
   "execution_count": null,
   "source": [
    "class Square:\n",
    "    \n",
    "    \"\"\"A square represent by 2 Points: lower left and upper right.\"\"\"\n",
    "    \n",
    "    def __init__(self, x1, y1, x2, y2):\n",
    "        \n",
    "        \"\"\"\n",
    "        (Square, number, number, number, number) -> None\n",
    "        Initializes a point with (x1,y1) as lower left corner and \n",
    "        (x2,y2) as upper-right corner. All default to zeros.\n",
    "        \"\"\"\n",
    "        self.x1 = x1\n",
    "        self.y1 = y1\n",
    "        self.x2 = x2\n",
    "        self.y2 = y2"
   ],
   "id": "c9e52f5e9564c460"
  },
  {
   "metadata": {},
   "cell_type": "markdown",
   "source": "Ok, the next thing we need to do is create the attributes `lower_left` and `upper_right`, which are instances of the `Point` class.",
   "id": "63b5f2ffab24b2d7"
  },
  {
   "metadata": {},
   "cell_type": "code",
   "outputs": [],
   "execution_count": null,
   "source": [
    "class Square:\n",
    "    \n",
    "    \"\"\"A square represent by 2 Points: lower left and upper right.\"\"\"\n",
    "    \n",
    "    def __init__(self, x1=0, y1=0, x2=0, y2=0):\n",
    "        \n",
    "        \"\"\"\n",
    "        (Square, number, number, number, number) -> None\n",
    "        Initializes a point with (x1,y1) as lower left corner and \n",
    "        (x2,y2) as upper-right corner. All default to zeros.\n",
    "        \"\"\"\n",
    "        self.x1 = x1\n",
    "        self.y1 = y1\n",
    "        self.x2 = x2\n",
    "        self.y2 = y2\n",
    "        self.lower_left = Point(self.x1, self.y1)\n",
    "        self.upper_right = Point(self.x2, self.y2)"
   ],
   "id": "bfc463edbc3bbdce"
  },
  {
   "metadata": {},
   "cell_type": "markdown",
   "source": [
    "Looking at the code above, its clear that the attributes `x1, y1, x2, y2` are redundant and can be accessed via `self.lower_left` and `self.upper_right`.\n",
    "\n",
    "Therefore, it is not always necessary to assign all input parameters to attributes.\n",
    "\n",
    "Let's remove these attribues."
   ],
   "id": "c6516a6bcfee439c"
  },
  {
   "metadata": {},
   "cell_type": "code",
   "outputs": [],
   "execution_count": null,
   "source": [
    "class Square:\n",
    "    \n",
    "    \"\"\"A square represent by 2 Points: lower left and upper right.\"\"\"\n",
    "    \n",
    "    def __init__(self, x1=0, y1=0, x2=0, y2=0):\n",
    "        \n",
    "        \"\"\"\n",
    "        (Square, number, number, number, number) -> None\n",
    "        Initializes a point with (x1, y1) as lower left corner and \n",
    "        (x2, y2) as upper-right corner. All default to zeros.\n",
    "        \"\"\"\n",
    "        self.lower_left = Point(x1, y1)\n",
    "        self.upper_right = Point(x2, y2)"
   ],
   "id": "82145e3368873266"
  },
  {
   "metadata": {},
   "cell_type": "markdown",
   "source": "Let's create an instance.",
   "id": "6f642bd46be48a8a"
  },
  {
   "metadata": {},
   "cell_type": "code",
   "outputs": [],
   "execution_count": null,
   "source": [
    "square = Square(0, 0, 5, 5)\n",
    "print(square.lower_left.x, square.lower_left.y)\n",
    "print(square.upper_right.x, square.upper_right.y)"
   ],
   "id": "89807d52b108dbe9"
  },
  {
   "metadata": {},
   "cell_type": "markdown",
   "source": "#### Area Method",
   "id": "5c4f3a6cee91c323"
  },
  {
   "metadata": {},
   "cell_type": "code",
   "outputs": [],
   "execution_count": null,
   "source": [
    "class Square:\n",
    "    \n",
    "    \"\"\"A square represent by 2 Points: lower left and upper right.\"\"\"\n",
    "    \n",
    "    def __init__(self, x1=0, y1=0, x2=0, y2=0):\n",
    "        \"\"\"\n",
    "        (Square, number, number, number, number) -> None\n",
    "        Initializes a point with (x1, y1) as lower left corner and \n",
    "        (x2, y2) as upper-right corner. All default to zeros.\n",
    "        \"\"\"\n",
    "        self.lower_left = Point(x1, y1)\n",
    "        self.upper_right = Point(x2, y2)\n",
    "        \n",
    "    def area(self):\n",
    "        \"\"\"\n",
    "        (Square) -> number\n",
    "        Returns the area of the square\n",
    "        \"\"\"\n",
    "        return (self.upper_right.x - self.lower_left.x) * (self.upper_right.y - self.lower_left.y)"
   ],
   "id": "a591f70f2bce8234"
  },
  {
   "metadata": {},
   "cell_type": "markdown",
   "source": "Let's try the `.area()` method.",
   "id": "72d00e27dd33f843"
  },
  {
   "metadata": {},
   "cell_type": "code",
   "outputs": [],
   "execution_count": null,
   "source": [
    "square = Square(0, 0, 5, 5)\n",
    "square.area()"
   ],
   "id": "68116399fe39a15c"
  },
  {
   "metadata": {},
   "cell_type": "markdown",
   "source": "#### Centre Method",
   "id": "f4a3072df416c7b0"
  },
  {
   "metadata": {},
   "cell_type": "code",
   "outputs": [],
   "execution_count": null,
   "source": [
    "class Square:\n",
    "    \n",
    "    \"\"\"A square represent by 2 Points: lower left and upper right.\"\"\"\n",
    "    \n",
    "    def __init__(self, x1=0, y1=0, x2=0, y2=0):\n",
    "        \"\"\"\n",
    "        (Square, number, number, number, number) -> None\n",
    "        Initializes a point with (x1, y1) as lower left corner and \n",
    "        (x2, y2) as upper-right corner. All default to zeros.\n",
    "        \"\"\"\n",
    "        self.lower_left = Point(x1, y1)\n",
    "        self.upper_right = Point(x2, y2)\n",
    "        \n",
    "    def area(self):\n",
    "        \"\"\"\n",
    "        (Square) -> number\n",
    "        Returns the area of the square\n",
    "        \"\"\"\n",
    "        return ((self.upper_right.x - self.lower_left.x) *\n",
    "                (self.upper_right.y - self.lower_left.y))\n",
    "    \n",
    "    def centre(self):\n",
    "        \"\"\"\n",
    "        (Square) -> Point\n",
    "        Returns the Point in the middle of the square\n",
    "        \"\"\"\n",
    "        return self.lower_left.calculate_midpoint(self.upper_right)"
   ],
   "id": "fab301d4b9491e28"
  },
  {
   "metadata": {},
   "cell_type": "markdown",
   "source": "Let's try the `.centre()` method.",
   "id": "ef314f7810f0afd0"
  },
  {
   "metadata": {},
   "cell_type": "code",
   "outputs": [],
   "execution_count": null,
   "source": [
    "square = Square(0, 0, 5, 5)\n",
    "print(square.centre().x, square.centre().y)"
   ],
   "id": "9be77cd46f0d6adc"
  },
  {
   "metadata": {},
   "cell_type": "markdown",
   "source": [
    "How are we able to access an attribute of a method?\n",
    "\n",
    "```python\n",
    "square.centre().x\n",
    "```\n",
    "\n",
    "Remember, `square.centre()` returns an instance of `Point`, which has attributes we can access."
   ],
   "id": "ef80b464d21574cd"
  },
  {
   "metadata": {},
   "cell_type": "markdown",
   "source": [
    "<a id='section6'></a>\n",
    "## 6. Objects In Collections\n",
    "Of course, you can put objects in lists, tuples, etc."
   ],
   "id": "3f0b2278d94b5d51"
  },
  {
   "metadata": {},
   "cell_type": "code",
   "outputs": [],
   "execution_count": null,
   "source": "points = [Point(), Point(25, 25), Point(50, 50), Point(-34, 21)]",
   "id": "c4838d29ee7cf13c"
  },
  {
   "metadata": {},
   "cell_type": "markdown",
   "source": "Print the distance between sequential pairs of points in `points`.",
   "id": "6cc92bc440067178"
  },
  {
   "metadata": {},
   "cell_type": "code",
   "outputs": [],
   "execution_count": null,
   "source": [
    "for i in range(len(points)-1):\n",
    "    print(points[i].calculate_distance_to_point(points[i + 1]))"
   ],
   "id": "86c4137cb85de111"
  },
  {
   "metadata": {},
   "cell_type": "markdown",
   "source": "What about dictionaries?",
   "id": "a8b3e46f80b7f8af"
  },
  {
   "metadata": {},
   "cell_type": "code",
   "outputs": [],
   "execution_count": null,
   "source": [
    "my_points = {'origin': Point(0, 0)}\n",
    "print(my_points['origin'].x, my_points['origin'].y)"
   ],
   "id": "3d7522f85fb379fe"
  },
  {
   "metadata": {},
   "cell_type": "markdown",
   "source": [
    "<a id='section7'></a>\n",
    "## 7. Printing Attribute Information\n",
    "For our `Point` class, let's say we want to print out the `(x, y)` coordinate of a point and avoid having to do this."
   ],
   "id": "bcf666c2f0d2cb4b"
  },
  {
   "metadata": {},
   "cell_type": "code",
   "outputs": [],
   "execution_count": null,
   "source": [
    "point = Point(3, 4)\n",
    "print(p.x, p.y)"
   ],
   "id": "e2f3d9e9ac2532f2"
  },
  {
   "metadata": {},
   "cell_type": "markdown",
   "source": "Let's add a method called `print_point()`.",
   "id": "1019d460b355cf5c"
  },
  {
   "metadata": {},
   "cell_type": "code",
   "outputs": [],
   "execution_count": null,
   "source": [
    "import math\n",
    "\n",
    "class Point:\n",
    "    \n",
    "    \"\"\"A class that represents and manipulates 2D points\"\"\"\n",
    "    \n",
    "    def __init__(self, x=0, y=0):\n",
    "        \"\"\" \n",
    "        (Point, float, float) -> None\n",
    "        Initializes a new point at (0, 0)\n",
    "        \"\"\"\n",
    "        self.x = x\n",
    "        self.y = y\n",
    "        \n",
    "    def calculate_distance_to_point(self, other_point):\n",
    "        \"\"\"\n",
    "        (Point, Point) -> float\n",
    "        Calculates the Euclidean distance between self and other point\n",
    "        \"\"\"\n",
    "        return (math.sqrt((self.x - other_point.x)**2 + \n",
    "                          (self.y - other_point.y)**2))\n",
    "    \n",
    "    def calculate_distance_to_origin(self):\n",
    "        \"\"\"\n",
    "        (Point) -> float\n",
    "        Calculates the Euclidean distance between self and origin\n",
    "        \"\"\"\n",
    "        return self.calculate_distance_to_point(Point(0, 0))\n",
    "    \n",
    "    def calculate_midpoint(self, other_point):\n",
    "        \"\"\"\n",
    "        (Point, Point) -> Point\n",
    "        Calculates the midpoint between self and other point\n",
    "        \"\"\"\n",
    "        x_midpoint = (self.x + other_point.x) / 2\n",
    "        y_midpoint = (self.y + other_point.y) / 2\n",
    "        return Point(x_midpoint, y_midpoint)\n",
    "    \n",
    "    def print_point(...):\n",
    "        \"\"\"\n",
    "        (...) -> ...\n",
    "        Prints the (x, y) coordinate for the point.\n",
    "        \"\"\"\n",
    "        ..."
   ],
   "id": "8dcd82dc079321ba"
  },
  {
   "metadata": {},
   "cell_type": "markdown",
   "source": "Let's try printing the point.",
   "id": "a70b71fd18b9794d"
  },
  {
   "metadata": {},
   "cell_type": "code",
   "outputs": [],
   "execution_count": null,
   "source": [
    "point = Point(3, 4)\n",
    "point.print_point()"
   ],
   "id": "67aab5917d8dfcf3"
  },
  {
   "metadata": {},
   "cell_type": "markdown",
   "source": [
    "<a id='section8'></a>\n",
    "## 8. Breakout Session 1\n",
    "Let's great a create a class to represent a basic student profile.\n",
    "\n",
    "### Problem 1: Create the `__init__` method\n",
    "You must create the following attribute:\n",
    "- `name` (User inputs as a paramter)\n",
    "- `age` (User inputs as a paramter)\n",
    "- `major` (User inputs as a paramter)\n",
    "- `gpa` (User inputs as a paramter)\n",
    "- `courses` (Initialize as an empty list)"
   ],
   "id": "7021821f05715c57"
  },
  {
   "metadata": {},
   "cell_type": "code",
   "outputs": [],
   "execution_count": null,
   "source": "class ...",
   "id": "c5936ca7e3c5e253"
  },
  {
   "metadata": {},
   "cell_type": "markdown",
   "source": "Let's try it out.",
   "id": "3aae82d7c9463701"
  },
  {
   "metadata": {},
   "cell_type": "code",
   "outputs": [],
   "execution_count": null,
   "source": "seb = Student('Sebastian Goodfellow', 39, 'Mineral Engineering', 2.7)",
   "id": "81eed867adc0b2b6"
  },
  {
   "metadata": {},
   "cell_type": "markdown",
   "source": [
    "### Problem 2: Create a method `update_gpa`\n",
    "Create a method `update_gpa` that takes a new gpa as input and updates the `gpa` attribute with this value."
   ],
   "id": "21fd3aa22c8cf14d"
  },
  {
   "metadata": {},
   "cell_type": "code",
   "outputs": [],
   "execution_count": null,
   "source": [
    "class Student:\n",
    "    \n",
    "    def __init__(self, name, age, major, gpa):\n",
    "        self.name = name\n",
    "        self.age = age\n",
    "        self.major = major\n",
    "        self.gpa = gpa\n",
    "        self.courses = []\n",
    "\n",
    "    def ..."
   ],
   "id": "cc2f170ce406a79e"
  },
  {
   "metadata": {},
   "cell_type": "markdown",
   "source": "Let's try it out.",
   "id": "b8e167bc04015bb1"
  },
  {
   "metadata": {},
   "cell_type": "code",
   "outputs": [],
   "execution_count": null,
   "source": [
    "seb = Student('Sebastian Goodfellow', 39, 'Mineral Engineering', 2.7)\n",
    "seb.update_gpa(4.0)\n",
    "print(seb.gpa)"
   ],
   "id": "577d5ca0d6126120"
  },
  {
   "metadata": {},
   "cell_type": "markdown",
   "source": [
    "### Problem 3: Create a method `display_profile`\n",
    "Create a method `display_profile` prints out a students information in the following format.\n",
    "```python \n",
    "Name: Sebastian Goodfellow\n",
    "Age: 39\n",
    "Major: Mineral Engineering\n",
    "GPA: 2.7\n",
    "```"
   ],
   "id": "129218f6140c29a0"
  },
  {
   "metadata": {},
   "cell_type": "code",
   "outputs": [],
   "execution_count": null,
   "source": [
    "class Student:\n",
    "    \n",
    "    def __init__(self, name, age, major, gpa):\n",
    "        self.name = name\n",
    "        self.age = age\n",
    "        self.major = major\n",
    "        self.gpa = gpa\n",
    "        self.courses = []\n",
    "\n",
    "    def update_gpa(self, new_gpa):\n",
    "        self.gpa = new_gpa\n",
    "\n",
    "    def ..."
   ],
   "id": "32292198b6044443"
  },
  {
   "metadata": {},
   "cell_type": "markdown",
   "source": "Let's try it out.",
   "id": "b2dd989ffdc4ab85"
  },
  {
   "metadata": {},
   "cell_type": "code",
   "outputs": [],
   "execution_count": null,
   "source": [
    "seb = Student('Sebastian Goodfellow', 39, 'Mineral Engineering', 2.7)\n",
    "seb.display_profile()"
   ],
   "id": "5ec30cd73e7aee7c"
  },
  {
   "metadata": {},
   "cell_type": "markdown",
   "source": [
    "### Problem 4: Create a method `check_risk`\n",
    "Create a method `check_risk` that returns a student's risk level given their GPA following the following thresholds.\n",
    "\n",
    "- GPA >= 3.5 - `\"Low\"`\n",
    "- GPA >= 3.0 - `\"Medium\"`\n",
    "- GPA >= 2.5 - `\"High\"`\n",
    "- GPA < 2.5 - `\"Very High\"`"
   ],
   "id": "4dc1d733c605d16b"
  },
  {
   "metadata": {},
   "cell_type": "code",
   "outputs": [],
   "execution_count": null,
   "source": [
    "class Student:\n",
    "    \n",
    "    def __init__(self, name, age, major, gpa):\n",
    "        \n",
    "        self.name = name\n",
    "        self.age = age\n",
    "        self.major = major\n",
    "        self.gpa = gpa\n",
    "        self.courses = []\n",
    "\n",
    "    def update_gpa(self, new_gpa):\n",
    "        self.gpa = new_gpa\n",
    "\n",
    "    def display_profile(self):\n",
    "        print(\"Name:\", self.name)\n",
    "        print(\"Age:\", self.age)\n",
    "        print(\"Major:\", self.major)\n",
    "        print(\"GPA:\", self.gpa)\n",
    "\n",
    "    def ..."
   ],
   "id": "a2b715bd422d1d6b"
  },
  {
   "metadata": {},
   "cell_type": "markdown",
   "source": "Let's try it out.",
   "id": "97a76b9c21cc5c19"
  },
  {
   "metadata": {},
   "cell_type": "code",
   "outputs": [],
   "execution_count": null,
   "source": [
    "seb = Student('Sebastian Goodfellow', 39, 'Mineral Engineering', 2.7)\n",
    "print(seb.check_risk())"
   ],
   "id": "5658fe9dd5ce3454"
  },
  {
   "metadata": {},
   "cell_type": "markdown",
   "source": [
    "### Problem 5: Create a method `enroll_course`\n",
    "Create a method `enroll_course` that takes a new course code as a string (`\"APS106\"`) and adds it to the `courses` attribute."
   ],
   "id": "d5d15e935cc44c6d"
  },
  {
   "metadata": {},
   "cell_type": "code",
   "outputs": [],
   "execution_count": null,
   "source": [
    "class Student:\n",
    "    \n",
    "    def __init__(self, name, age, major, gpa):\n",
    "        \n",
    "        self.name = name\n",
    "        self.age = age\n",
    "        self.major = major\n",
    "        self.gpa = gpa\n",
    "        self.courses = []\n",
    "\n",
    "    def update_gpa(self, new_gpa):\n",
    "        self.gpa = new_gpa\n",
    "\n",
    "    def display_profile(self):\n",
    "        print(\"Name:\", self.name)\n",
    "        print(\"Age:\", self.age)\n",
    "        print(\"Major:\", self.major)\n",
    "        print(\"GPA:\", self.gpa)\n",
    "\n",
    "    def check_risk(self):\n",
    "        if self.gpa >= 3.5:\n",
    "            return \"Low\"\n",
    "        elif self.gpa >= 3.0:\n",
    "            return \"Medium\"\n",
    "        elif self.gpa >= 2.5:\n",
    "            return \"High\"\n",
    "        else:\n",
    "            return \"Very High\"\n",
    "        \n",
    "    def ..."
   ],
   "id": "4dcd76cbd61359dd"
  },
  {
   "metadata": {},
   "cell_type": "markdown",
   "source": "Let's try it out.",
   "id": "877b3067a9418c51"
  },
  {
   "metadata": {},
   "cell_type": "code",
   "outputs": [],
   "execution_count": null,
   "source": [
    "seb = Student('Sebastian Goodfellow', 39, 'Mineral Engineering', 2.7)\n",
    "seb.enroll_course('APS106')\n",
    "seb.enroll_course('CIV100')\n",
    "seb.enroll_course('MIE100')\n",
    "print(seb.courses)"
   ],
   "id": "6b7284ede5cf423d"
  },
  {
   "metadata": {},
   "cell_type": "markdown",
   "source": [
    "### Problem 6: Create a method `display_courses`\n",
    "Create a method `display_courses` that print out the student's courses in the following format.\n",
    "```python\n",
    "Courses enrolled:\n",
    "- APS106\n",
    "- CIV100\n",
    "- MIE100\n",
    "```"
   ],
   "id": "35966c2646fc1d0f"
  },
  {
   "metadata": {},
   "cell_type": "code",
   "outputs": [],
   "execution_count": null,
   "source": [
    "class Student:\n",
    "    \n",
    "    def __init__(self, name, age, major, gpa):\n",
    "        \n",
    "        self.name = name\n",
    "        self.age = age\n",
    "        self.major = major\n",
    "        self.gpa = gpa\n",
    "        self.courses = []\n",
    "\n",
    "    def update_gpa(self, new_gpa):\n",
    "        self.gpa = new_gpa\n",
    "\n",
    "    def display_profile(self):\n",
    "        print(\"Name:\", self.name)\n",
    "        print(\"Age:\", self.age)\n",
    "        print(\"Major:\", self.major)\n",
    "        print(\"GPA:\", self.gpa)\n",
    "\n",
    "    def check_risk(self):\n",
    "        if self.gpa >= 3.5:\n",
    "            return \"Low\"\n",
    "        elif self.gpa >= 3.0:\n",
    "            return \"Medium\"\n",
    "        elif self.gpa >= 2.5:\n",
    "            return \"High\"\n",
    "        else:\n",
    "            return \"Very High\"\n",
    "        \n",
    "    def enroll_course(self, course):\n",
    "        self.courses.append(course)\n",
    "        \n",
    "    def ..."
   ],
   "id": "ba6d4f0297aa37a4"
  },
  {
   "metadata": {},
   "cell_type": "markdown",
   "source": "Let's try it out.",
   "id": "c692712396af46f4"
  },
  {
   "metadata": {},
   "cell_type": "code",
   "outputs": [],
   "execution_count": null,
   "source": [
    "seb = Student('Sebastian Goodfellow', 39, 'Mineral Engineering', 2.7)\n",
    "seb.enroll_course('APS106')\n",
    "seb.enroll_course('CIV100')\n",
    "seb.enroll_course('MIE100')\n",
    "seb.display_courses()"
   ],
   "id": "21d408f5f7181557"
  },
  {
   "metadata": {},
   "cell_type": "markdown",
   "source": [
    "<a id='section9'></a>\n",
    "## 9. Patient Class"
   ],
   "id": "207c079a5f232481"
  },
  {
   "metadata": {},
   "cell_type": "code",
   "outputs": [],
   "execution_count": null,
   "source": [
    "class PatientData:\n",
    "    \"\"\"A class that stores and manipulates patient data.\"\"\"\n",
    "    \n",
    "    def __init__(self):\n",
    "        \"\"\"\n",
    "        (PatientData) -> None\n",
    "        Initializes patient data to 0\n",
    "        \"\"\"\n",
    "        self.height_cm = 0\n",
    "        self.weight_kg = 0\n",
    "        \n",
    "    def print_data(self):\n",
    "        \"\"\"\n",
    "        (PatientData) -> None\n",
    "        Print patient height and weight.\n",
    "        \"\"\"\n",
    "        print(self.height_cm, \"cm,\", self.weight_kg, \"kg\")"
   ],
   "id": "32c80fa258d5c0f1"
  },
  {
   "metadata": {},
   "cell_type": "markdown",
   "source": "Let's create a measurement.",
   "id": "bf96b7552f462ff9"
  },
  {
   "metadata": {},
   "cell_type": "code",
   "outputs": [],
   "execution_count": null,
   "source": "seb_good = PatientData()",
   "id": "c71058df2237c8a3"
  },
  {
   "metadata": {},
   "cell_type": "markdown",
   "source": "Next, show an updating of the patient data.",
   "id": "3518e23beb17b4"
  },
  {
   "metadata": {},
   "cell_type": "code",
   "outputs": [],
   "execution_count": null,
   "source": [
    "print('Patient data (before):')\n",
    "seb_good.print_data()"
   ],
   "id": "2f83b4b5bb9bf16e"
  },
  {
   "metadata": {},
   "cell_type": "code",
   "outputs": [],
   "execution_count": null,
   "source": [
    "seb_good.height_cm = 155\n",
    "seb_good.weight_kg = 52\n",
    "\n",
    "print('Patient data (after):')\n",
    "seb_good.print_data()"
   ],
   "id": "8a872fa56b167667"
  },
  {
   "metadata": {},
   "cell_type": "markdown",
   "source": [
    "#### Something is missing!\n",
    "`PatientData` does not contain any identifying information about the actual patient, just their height and weight. \n",
    "\n",
    "In a real system, we would probably want to know who the patient is.\n",
    "\n",
    "Also imagine that we want to keep medical records and so their may be multiple instances of `PatientData` for the same patient. You might get weighed and measured every year by your doctor.\n",
    "\n",
    "Given these two points (need to know who the patient is and want to record multiple instances of `PatientData`, how do you want to re-design `PatientData`?\n",
    "\n",
    "#### Create a `Patient` Class"
   ],
   "id": "536093235d024234"
  },
  {
   "metadata": {},
   "cell_type": "code",
   "outputs": [],
   "execution_count": null,
   "source": [
    "class Patient:\n",
    "    \n",
    "    \"\"\"\n",
    "    A class that stores identifying and contact information \n",
    "    about a patient.\n",
    "    \"\"\"\n",
    "    \n",
    "    def __init__(self, name, family_name):\n",
    "        \"\"\"\n",
    "        (Patient, str, str) -> None\n",
    "        Initialized patient information.\n",
    "        \"\"\"\n",
    "        self.name = name\n",
    "        self.family_name = family_name\n",
    "        self.cell_number = \"\"\n",
    "        self.OHIP_number = \"\""
   ],
   "id": "3b6ba588b9ef5749"
  },
  {
   "metadata": {},
   "cell_type": "markdown",
   "source": "#### Update the `PatientData` Class",
   "id": "d02a6b5e78221b5e"
  },
  {
   "metadata": {},
   "cell_type": "code",
   "outputs": [],
   "execution_count": null,
   "source": [
    "class PatientData:\n",
    "    \n",
    "    \"\"\"A class that stores and manipulates patient data.\"\"\"\n",
    "    \n",
    "    def __init__(self, patient, date_of_measurements):\n",
    "        ''' (PatientData, Patient. tuple) -> None\n",
    "        Initializes patient with data of 0\n",
    "        '''\n",
    "        self.patient = patient\n",
    "        self.date_of_measurements = date_of_measurements\n",
    "        self.height_cm = 0\n",
    "        self.weight_kg = 0\n",
    "\n",
    "    def print_data(self):\n",
    "        ''' \n",
    "        (PatientData) -> None\n",
    "        Print the object\n",
    "        '''        \n",
    "        print(self.patient.name, \n",
    "              self.patient.family_name, \":\", \n",
    "              self.height_cm, \"cm,\", \n",
    "              self.weight_kg, \"kg\", \n",
    "              self.date_of_measurements)"
   ],
   "id": "798a2c9207e76c"
  },
  {
   "metadata": {},
   "cell_type": "markdown",
   "source": [
    "Ok, now let's use `PatientData` and `Patient` to simulate 3 doctor appointments over 3 years.\n",
    "\n",
    "##### Year 1\n",
    "The new patient has their data input into the medical records system at the doctor's office."
   ],
   "id": "d5e05480aa5a2db3"
  },
  {
   "metadata": {},
   "cell_type": "code",
   "outputs": [],
   "execution_count": null,
   "source": "seb_good = Patient('Seb', 'Good')",
   "id": "5f136b6ed542b1e0"
  },
  {
   "metadata": {},
   "cell_type": "markdown",
   "source": "They also initialize a list to collect all of Seb's measurements over time.",
   "id": "527f6df3337a79ff"
  },
  {
   "metadata": {},
   "cell_type": "code",
   "outputs": [],
   "execution_count": null,
   "source": "measurements = []",
   "id": "665e6f980abc997a"
  },
  {
   "metadata": {},
   "cell_type": "markdown",
   "source": "At the first appointment on `(1, 3, 2019)`, the doctor takes Seb's weight and height.",
   "id": "f8ad16320dcc1ca7"
  },
  {
   "metadata": {},
   "cell_type": "code",
   "outputs": [],
   "execution_count": null,
   "source": [
    "measurement = PatientData(seb_good, (1, 3, 2019))\n",
    "measurement.height_cm = 154\n",
    "measurement.weight_kg = 70"
   ],
   "id": "b0759bc31824bc41"
  },
  {
   "metadata": {},
   "cell_type": "markdown",
   "source": "Add the measurements to Seb's list of measurements.",
   "id": "9f0fac4bd0629011"
  },
  {
   "metadata": {},
   "cell_type": "code",
   "outputs": [],
   "execution_count": null,
   "source": "measurements.append(measurement)",
   "id": "b4090f235c9e3d55"
  },
  {
   "metadata": {},
   "cell_type": "markdown",
   "source": [
    "##### Year 2\n",
    "At the second appointment on `(2, 6, 2020)`, the doctor takes Seb's weight and height."
   ],
   "id": "355c70c6393df6ab"
  },
  {
   "metadata": {},
   "cell_type": "code",
   "outputs": [],
   "execution_count": null,
   "source": [
    "measurement = PatientData(seb_good, (2, 6, 2020))\n",
    "measurement.height_cm = 154\n",
    "measurement.weight_kg = 72"
   ],
   "id": "6184dae29a663172"
  },
  {
   "metadata": {},
   "cell_type": "markdown",
   "source": "Add the measurements to Seb's list of measurements.",
   "id": "ccfd1814a4dfe129"
  },
  {
   "metadata": {},
   "cell_type": "code",
   "outputs": [],
   "execution_count": null,
   "source": "measurements.append(measurement)",
   "id": "258a86d52b726e88"
  },
  {
   "metadata": {},
   "cell_type": "markdown",
   "source": [
    "##### Year 3\n",
    "At the third appointment on `(10, 9, 2022)`, the doctor takes Seb's weight and height."
   ],
   "id": "d1e4795b629d33d3"
  },
  {
   "metadata": {},
   "cell_type": "code",
   "outputs": [],
   "execution_count": null,
   "source": [
    "measurement = PatientData(seb_good, (10, 9, 2021))\n",
    "measurement.height_cm = 154\n",
    "measurement.weight_kg = 71"
   ],
   "id": "dffa1ec29e7a2fde"
  },
  {
   "metadata": {},
   "cell_type": "markdown",
   "source": "Add the measurements to Seb's list of measurements.",
   "id": "937f0acb9a27adb3"
  },
  {
   "metadata": {},
   "cell_type": "code",
   "outputs": [],
   "execution_count": null,
   "source": "measurements.append(measurement)",
   "id": "6f5ed0e3ce1875e8"
  },
  {
   "metadata": {},
   "cell_type": "markdown",
   "source": "##### Print Records",
   "id": "1a9dfb976178be91"
  },
  {
   "metadata": {},
   "cell_type": "code",
   "outputs": [],
   "execution_count": null,
   "source": [
    "for measurement in measurements:\n",
    "    measurement.print_data()"
   ],
   "id": "c8f78ef9b8c112ad"
  }
 ],
 "metadata": {},
 "nbformat": 5,
 "nbformat_minor": 9
}
