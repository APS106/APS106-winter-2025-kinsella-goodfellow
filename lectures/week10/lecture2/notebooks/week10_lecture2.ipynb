{
 "cells": [
  {
   "cell_type": "markdown",
   "metadata": {
    "collapsed": true,
    "jupyter": {
     "outputs_hidden": true
    }
   },
   "source": [
    "# APS106 - Fundamentals of Computer Programming\n",
    "## Week 10 | Lecture 2 (10.2) - objects, classes, and methods\n",
    "\n",
    "### Lecture Structure\n",
    "1. [Object In Python](#section1)\n",
    "2. [Write A Simple Class](#section2)\n",
    "3. [Self...](#section3)\n",
    "4. [Write A Point Class: Constructor](#section4)\n",
    "5. [Write A Point Class: Methods](#section5)\n",
    "6. [Bank Account Class](#section6)\n",
    "7. [Breakout Session 1](#section7)"
   ]
  },
  {
   "cell_type": "markdown",
   "metadata": {},
   "source": [
    "<a id='section1'></a>\n",
    "## 1. Object In Python\n",
    "Ok, so eveything is an object in Python? Yes, check this out.\n",
    "\n",
    "Let's say we have two variables `a` and `b` that we want to add together."
   ]
  },
  {
   "cell_type": "code",
   "execution_count": 1,
   "metadata": {},
   "outputs": [
    {
     "data": {
      "text/plain": [
       "11"
      ]
     },
     "execution_count": 1,
     "metadata": {},
     "output_type": "execute_result"
    }
   ],
   "source": [
    "a = 5\n",
    "b = 6\n",
    "a + b"
   ]
  },
  {
   "cell_type": "markdown",
   "metadata": {},
   "source": [
    "`a` and `b` are integers and the `+` operator is actually pointing to a integer method (function) called `__add__()`."
   ]
  },
  {
   "cell_type": "code",
   "execution_count": 2,
   "metadata": {},
   "outputs": [
    {
     "data": {
      "text/plain": [
       "11"
      ]
     },
     "execution_count": 2,
     "metadata": {},
     "output_type": "execute_result"
    }
   ],
   "source": [
    "a.__add__(b)"
   ]
  },
  {
   "cell_type": "markdown",
   "metadata": {},
   "source": [
    "Now, this might seem a bit funny, but it will make sense soon."
   ]
  },
  {
   "cell_type": "markdown",
   "metadata": {},
   "source": [
    "<a id='section2'></a>\n",
    "## 2. Write A Simple Class\n",
    "Ok, let's write a `Student` class with the following attribute,\n",
    "- `name`: `str`\n",
    "- `age`: `int`\n",
    "- `courses`: `list`\n",
    "\n",
    "and the following methods.\n",
    "- `enroll`: Add a course (`str`) to `courses`.\n",
    "- `show_courses`: Print `courses`."
   ]
  },
  {
   "cell_type": "code",
   "execution_count": 3,
   "metadata": {},
   "outputs": [],
   "source": [
    "class Student:\n",
    "\n",
    "    def __init__(self, name, age):\n",
    "        self.name = name\n",
    "        self.age = age\n",
    "        self.courses = []\n",
    "\n",
    "    def enroll(self, course):\n",
    "        self.courses.append(course)\n",
    "\n",
    "    def show_courses(self):\n",
    "        print('My courses are:', self.courses) "
   ]
  },
  {
   "cell_type": "code",
   "execution_count": 4,
   "metadata": {},
   "outputs": [
    {
     "name": "stdout",
     "output_type": "stream",
     "text": [
      "My courses are: ['Biology', 'Chemistry']\n",
      "My courses are: ['English']\n"
     ]
    }
   ],
   "source": [
    "# Creating a student object\n",
    "student1 = Student(\"Bob\", 22)\n",
    "student1.enroll(\"Biology\")\n",
    "student1.enroll(\"Chemistry\")\n",
    "\n",
    "# Creating another student object\n",
    "student2 = Student(\"Carol\", 19)\n",
    "student2.enroll(\"English\")\n",
    "\n",
    "# Demonstrating functionality\n",
    "student1.show_courses()\n",
    "student2.show_courses()"
   ]
  },
  {
   "cell_type": "markdown",
   "metadata": {},
   "source": [
    "<a id='section3'></a>\n",
    "## 3. Self...\n",
    "What is `self` in Python classes? Think of `self` as a placeholder for the object itself. \n",
    "\n",
    "Imagine you have a class called Student. When you create a student like:"
   ]
  },
  {
   "cell_type": "code",
   "execution_count": null,
   "metadata": {},
   "outputs": [],
   "source": [
    "student1 = Student(\"Bob\", 22)"
   ]
  },
  {
   "cell_type": "markdown",
   "metadata": {},
   "source": [
    "`student1` is an object created from the `Student` class.\n",
    "\n",
    "Now, whenever you want to access attributes (like the student's `name` or `age`) or actions (methods) related to this particular student, Python needs to know which student you're talking about. The keyword `self` makes this clear.\n",
    "\n",
    "Let's simplify:"
   ]
  },
  {
   "cell_type": "code",
   "execution_count": null,
   "metadata": {},
   "outputs": [],
   "source": [
    "class Student:\n",
    "    \n",
    "    def __init__(self, name):\n",
    "        self.name = name\n",
    "    \n",
    "    def say_hello(self):\n",
    "        print(\"Hello! My name is \" + self.name)"
   ]
  },
  {
   "cell_type": "markdown",
   "metadata": {},
   "source": [
    "When you call:"
   ]
  },
  {
   "cell_type": "code",
   "execution_count": null,
   "metadata": {},
   "outputs": [],
   "source": [
    "student1 = Student(\"Bob\")\n",
    "student1.say_hello()"
   ]
  },
  {
   "cell_type": "markdown",
   "metadata": {},
   "source": [
    "Here's what happens step by step:\n",
    "- Python sees: `student1.say_hello()`\n",
    "- It goes to the class definition and runs the `say_hello()` method.\n",
    "- The keyword `self` automatically becomes `student1`.\n",
    "- So when the method says self.name, it means `student1.name`, which is \"Bob\".\n",
    "`self` is just Python’s way of saying `\"I'm talking about THIS specific object.\"`."
   ]
  },
  {
   "cell_type": "markdown",
   "metadata": {},
   "source": [
    "<a id='section4'></a>\n",
    "## 4. Write A Point Class: Constructor\n",
    "First, let's write the `Point` class and have it initialize to the origin `(0, 0)`."
   ]
  },
  {
   "cell_type": "code",
   "execution_count": 5,
   "metadata": {},
   "outputs": [],
   "source": [
    "class Point:\n",
    "    \n",
    "    \"\"\"A class that represents and manipulates 2D points\"\"\"\n",
    "    \n",
    "    def __init__(self):\n",
    "        \"\"\" \n",
    "        (Point) -> None\n",
    "        Initializes a new point at (0, 0)\n",
    "        \"\"\"\n",
    "        self.x = 0\n",
    "        self.y = 0"
   ]
  },
  {
   "cell_type": "markdown",
   "metadata": {},
   "source": [
    "Next, let's create an instance of the `Point` class. This is sometimes called initialization."
   ]
  },
  {
   "cell_type": "code",
   "execution_count": 6,
   "metadata": {},
   "outputs": [
    {
     "name": "stdout",
     "output_type": "stream",
     "text": [
      "0 0\n"
     ]
    }
   ],
   "source": [
    "p1 = Point()\n",
    "print(p1.x, p1.y)"
   ]
  },
  {
   "cell_type": "markdown",
   "metadata": {},
   "source": [
    "### The Constructor\n",
    "An instantiation operation automatically calls the `__init__` method defined in the class definition. The `__init__` method, commonly known as a **\"constructor\"**, is responsible for setting up the initial state of the new instance. \n",
    "\n",
    "Let's modify our constructor to show that it does automatically run when a new instance is initialized."
   ]
  },
  {
   "cell_type": "code",
   "execution_count": 8,
   "metadata": {},
   "outputs": [],
   "source": [
    "class Point:\n",
    "    \n",
    "    \"\"\"A class that represents and manipulates 2D points\"\"\"\n",
    "    \n",
    "    def __init__(self):\n",
    "        \"\"\" \n",
    "        (Point) -> None\n",
    "        Initializes a new point at (0, 0)\n",
    "        \"\"\"\n",
    "        self.x = 0\n",
    "        self.y = 0\n",
    "        \n",
    "        print('The constructor has been called')"
   ]
  },
  {
   "cell_type": "code",
   "execution_count": 9,
   "metadata": {},
   "outputs": [
    {
     "name": "stdout",
     "output_type": "stream",
     "text": [
      "The constructor has been called\n"
     ]
    }
   ],
   "source": [
    "p1 = Point()"
   ]
  },
  {
   "cell_type": "markdown",
   "metadata": {},
   "source": [
    "Let's try initializing multiple instances of the `Point` class."
   ]
  },
  {
   "cell_type": "code",
   "execution_count": 10,
   "metadata": {},
   "outputs": [
    {
     "name": "stdout",
     "output_type": "stream",
     "text": [
      "The constructor has been called\n",
      "0 0\n",
      "The constructor has been called\n",
      "0 0\n"
     ]
    }
   ],
   "source": [
    "# Instantiate an object of type Point\n",
    "my_point = Point()\n",
    "print(my_point.x, my_point.y)\n",
    "\n",
    "# Make a second point\n",
    "second_point = Point()\n",
    "print(second_point.x, second_point.y)"
   ]
  },
  {
   "cell_type": "markdown",
   "metadata": {},
   "source": [
    "#### Is a contructor necesary?\n",
    "Technically it is not necessary. You use a contructor to set up the initial state of an object. \n",
    "\n",
    "If there is not data that the user needs to input (arguments) or no attributes to initialize, then you can skip the constructor."
   ]
  },
  {
   "cell_type": "code",
   "execution_count": 11,
   "metadata": {},
   "outputs": [],
   "source": [
    "class Point:\n",
    "    \n",
    "    \"A class that represents and manipulates 2D points\"\"\"\n",
    "    \n",
    "    def method1(self):\n",
    "        print('You called method1')\n",
    "    \n",
    "    def method2(self):\n",
    "        print('You called method2')"
   ]
  },
  {
   "cell_type": "code",
   "execution_count": 12,
   "metadata": {},
   "outputs": [
    {
     "name": "stdout",
     "output_type": "stream",
     "text": [
      "You called method1\n",
      "You called method2\n"
     ]
    }
   ],
   "source": [
    "my_point = Point()\n",
    "\n",
    "my_point.method1()\n",
    "my_point.method2()"
   ]
  },
  {
   "cell_type": "markdown",
   "metadata": {},
   "source": [
    "### Attributes\n",
    "As seen below, our `Point` class has two attributes (`x` and `y`). These attributes are assigned during initialization (construction), however, we can change them."
   ]
  },
  {
   "cell_type": "code",
   "execution_count": 13,
   "metadata": {},
   "outputs": [],
   "source": [
    "class Point:\n",
    "    \n",
    "    \"\"\"A class that represents and manipulates 2D points\"\"\"\n",
    "    \n",
    "    def __init__(self):\n",
    "        \"\"\" \n",
    "        (Point) -> None\n",
    "        Initializes a new point at (0, 0)\n",
    "        \"\"\"\n",
    "        self.x = 0\n",
    "        self.y = 0"
   ]
  },
  {
   "cell_type": "markdown",
   "metadata": {},
   "source": [
    "Let's initialize another point."
   ]
  },
  {
   "cell_type": "code",
   "execution_count": 14,
   "metadata": {},
   "outputs": [
    {
     "name": "stdout",
     "output_type": "stream",
     "text": [
      "0 0\n"
     ]
    }
   ],
   "source": [
    "p = Point()\n",
    "print(p.x, p.y)"
   ]
  },
  {
   "cell_type": "markdown",
   "metadata": {},
   "source": [
    "Next, let's update the attributes `x` and `y` for the `Point` instance `p`."
   ]
  },
  {
   "cell_type": "code",
   "execution_count": 15,
   "metadata": {},
   "outputs": [
    {
     "name": "stdout",
     "output_type": "stream",
     "text": [
      "2 4\n"
     ]
    }
   ],
   "source": [
    "p.x = 2\n",
    "p.y = 4\n",
    "print(p.x, p.y)"
   ]
  },
  {
   "cell_type": "markdown",
   "metadata": {},
   "source": [
    "### A More Convinient Constructor\n",
    "We may not always want the point to initialize to position `(0, 0)`. We can update our constructor to initialize to any point."
   ]
  },
  {
   "cell_type": "code",
   "execution_count": 16,
   "metadata": {},
   "outputs": [],
   "source": [
    "class Point:\n",
    "    \n",
    "    \"\"\"A class that represents and manipulates 2D points\"\"\"\n",
    "    \n",
    "    def __init__(self, x=0, y=0):\n",
    "        \"\"\" \n",
    "        (Point, float, float) -> None\n",
    "        Initializes a new point at (0, 0)\n",
    "        \"\"\"\n",
    "        self.x = x\n",
    "        self.y = y"
   ]
  },
  {
   "cell_type": "code",
   "execution_count": 17,
   "metadata": {},
   "outputs": [
    {
     "name": "stdout",
     "output_type": "stream",
     "text": [
      "0 0\n"
     ]
    }
   ],
   "source": [
    "p = Point()\n",
    "print(p.x, p.y)"
   ]
  },
  {
   "cell_type": "code",
   "execution_count": 18,
   "metadata": {},
   "outputs": [
    {
     "name": "stdout",
     "output_type": "stream",
     "text": [
      "8 15\n"
     ]
    }
   ],
   "source": [
    "q = Point(8, 15)\n",
    "print(q.x, q.y)"
   ]
  },
  {
   "cell_type": "markdown",
   "metadata": {},
   "source": [
    "<a id='section5'></a>\n",
    "## 5. Write A Point Class: Methods\n",
    "Ok, we have our `Point` class from earlier."
   ]
  },
  {
   "cell_type": "code",
   "execution_count": 20,
   "metadata": {},
   "outputs": [],
   "source": [
    "class Point:\n",
    "    \n",
    "    \"\"\"A class that represents and manipulates 2D points\"\"\"\n",
    "    \n",
    "    def __init__(self, x=0, y=0):\n",
    "        \"\"\" \n",
    "        (Point, float, float) -> None\n",
    "        Initializes a new point at (0, 0)\n",
    "        \"\"\"\n",
    "        self.x = x\n",
    "        self.y = y"
   ]
  },
  {
   "cell_type": "markdown",
   "metadata": {},
   "source": [
    "Lets create two instances of `Point` at (8, 15) and (2, 4)."
   ]
  },
  {
   "cell_type": "code",
   "execution_count": 27,
   "metadata": {},
   "outputs": [
    {
     "name": "stdout",
     "output_type": "stream",
     "text": [
      "8 15\n"
     ]
    }
   ],
   "source": [
    "point1 = Point(8, 15)\n",
    "print(point1.x, point1.y)"
   ]
  },
  {
   "cell_type": "code",
   "execution_count": 28,
   "metadata": {},
   "outputs": [
    {
     "name": "stdout",
     "output_type": "stream",
     "text": [
      "2 4\n"
     ]
    }
   ],
   "source": [
    "point2 = Point(2, 4)\n",
    "print(point2.x, point2.y)"
   ]
  },
  {
   "cell_type": "markdown",
   "metadata": {},
   "source": [
    "Now, let's try an call the method to calculate the distance between two point.\n",
    "\n",
    "Do you think this will work?"
   ]
  },
  {
   "cell_type": "code",
   "execution_count": 23,
   "metadata": {},
   "outputs": [
    {
     "ename": "AttributeError",
     "evalue": "'Point' object has no attribute 'calculate_distance_to_point'",
     "output_type": "error",
     "traceback": [
      "\u001b[1;31m---------------------------------------------------------------------------\u001b[0m",
      "\u001b[1;31mAttributeError\u001b[0m                            Traceback (most recent call last)",
      "Cell \u001b[1;32mIn[23], line 1\u001b[0m\n\u001b[1;32m----> 1\u001b[0m point1\u001b[38;5;241m.\u001b[39mcalculate_distance_to_point(point2)\n",
      "\u001b[1;31mAttributeError\u001b[0m: 'Point' object has no attribute 'calculate_distance_to_point'"
     ]
    }
   ],
   "source": [
    "point1.calculate_distance_to_point(point2)"
   ]
  },
  {
   "cell_type": "markdown",
   "metadata": {},
   "source": [
    "#### Method 1: Euclidean Distance Between Two Points\n",
    "Ok, so we need to add this method. Let's `import math` so we can use the square root function."
   ]
  },
  {
   "cell_type": "code",
   "execution_count": 26,
   "metadata": {},
   "outputs": [],
   "source": [
    "import math\n",
    "\n",
    "class Point:\n",
    "    \n",
    "    \"\"\"A class that represents and manipulates 2D points\"\"\"\n",
    "    \n",
    "    def __init__(self, x=0, y=0):\n",
    "        \"\"\" \n",
    "        (Point, float, float) -> None\n",
    "        Initializes a new point at (0, 0)\n",
    "        \"\"\"\n",
    "        self.x = x\n",
    "        self.y = y\n",
    "        \n",
    "    def calculate_distance_to_point(self, other_point):\n",
    "        \"\"\"\n",
    "        (Point, Point) -> float\n",
    "        Calculates the Euclidean distance between self and other point\n",
    "        \"\"\"\n",
    "        return math.sqrt((self.x - other_point.x)**2 + (self.y - other_point.y)**2)"
   ]
  },
  {
   "cell_type": "markdown",
   "metadata": {},
   "source": [
    "Ok, let's give it a try."
   ]
  },
  {
   "cell_type": "code",
   "execution_count": 29,
   "metadata": {},
   "outputs": [
    {
     "data": {
      "text/plain": [
       "12.529964086141668"
      ]
     },
     "execution_count": 29,
     "metadata": {},
     "output_type": "execute_result"
    }
   ],
   "source": [
    "point1.calculate_distance_to_point(point2)"
   ]
  },
  {
   "cell_type": "markdown",
   "metadata": {},
   "source": [
    "Any ideas why this didn't work?"
   ]
  },
  {
   "cell_type": "code",
   "execution_count": 30,
   "metadata": {},
   "outputs": [
    {
     "name": "stdout",
     "output_type": "stream",
     "text": [
      "12.529964086141668\n"
     ]
    }
   ],
   "source": [
    "point1 = Point(8, 15)\n",
    "point2 = Point(2, 4)\n",
    "\n",
    "print(point1.calculate_distance_to_point(point2))"
   ]
  },
  {
   "cell_type": "markdown",
   "metadata": {},
   "source": [
    "<a id='section6'></a>\n",
    "## 6. Bank Account Class\n",
    "Let’s highlight the value of encapsulation with a bank Account class.\n",
    "\n",
    "**Attributes**\n",
    "- Account owner’s name.\n",
    "- Current account balance.\n",
    "\n",
    "**Methods**\n",
    "- Deposit money.\n",
    "- Withdraw money.\n",
    "- Print account balance.\n",
    "\n",
    "### Create Account Class\n",
    "#### Create a Constructor\n",
    "Let's start by building a constructor to initialize our class with the following attributes.\n",
    "- Account owner’s name.\n",
    "- Current account balance."
   ]
  },
  {
   "cell_type": "code",
   "execution_count": 31,
   "metadata": {},
   "outputs": [],
   "source": [
    "class Account:\n",
    "    \n",
    "    \"\"\"A class that represents a personal bank account.\"\"\"\n",
    "    \n",
    "    def __init__(self, name, balance):\n",
    "        \"\"\"\n",
    "        (Account, str, float) -> None\n",
    "        Initializes a new bank account.\n",
    "        \"\"\"\n",
    "        self.name = name\n",
    "        self.balance = balance"
   ]
  },
  {
   "cell_type": "markdown",
   "metadata": {},
   "source": [
    "Let's create a few accounts and print their attributes."
   ]
  },
  {
   "cell_type": "code",
   "execution_count": 32,
   "metadata": {},
   "outputs": [
    {
     "name": "stdout",
     "output_type": "stream",
     "text": [
      "Sebastian 500\n",
      "Ben 1000\n"
     ]
    }
   ],
   "source": [
    "sebs_account = Account('Sebastian', 500)\n",
    "print(sebs_account.name, sebs_account.balance)\n",
    "\n",
    "bens_account = Account('Ben', 1000)\n",
    "print(bens_account.name, bens_account.balance)"
   ]
  },
  {
   "cell_type": "markdown",
   "metadata": {},
   "source": [
    "#### Create a method to deposit money"
   ]
  },
  {
   "cell_type": "code",
   "execution_count": 33,
   "metadata": {},
   "outputs": [],
   "source": [
    "class Account:\n",
    "    \n",
    "    \"\"\"A class that represents a personal bank account.\"\"\"\n",
    "    \n",
    "    def __init__(self, name, balance):\n",
    "        \"\"\"\n",
    "        (Account, str, number) -> None\n",
    "        Initializes a new bank account.\n",
    "        \"\"\"\n",
    "        self.name = name\n",
    "        self.balance = balance\n",
    "        \n",
    "    def deposit(self, amount):\n",
    "        \"\"\"\n",
    "        (Account, number) -> None\n",
    "        Adds amount to balance.\n",
    "        \"\"\"\n",
    "        self.balance += amount"
   ]
  },
  {
   "cell_type": "markdown",
   "metadata": {},
   "source": [
    "Let's create an account to test out new method."
   ]
  },
  {
   "cell_type": "code",
   "execution_count": 34,
   "metadata": {},
   "outputs": [],
   "source": [
    "sebs_account = Account('Sebastian', 500)"
   ]
  },
  {
   "cell_type": "markdown",
   "metadata": {},
   "source": [
    "Now, let's add 500 dollars to my account."
   ]
  },
  {
   "cell_type": "code",
   "execution_count": 35,
   "metadata": {},
   "outputs": [],
   "source": [
    "sebs_account.deposit(500)"
   ]
  },
  {
   "cell_type": "markdown",
   "metadata": {},
   "source": [
    "And let's print out the balance."
   ]
  },
  {
   "cell_type": "code",
   "execution_count": 36,
   "metadata": {},
   "outputs": [
    {
     "name": "stdout",
     "output_type": "stream",
     "text": [
      "1000\n"
     ]
    }
   ],
   "source": [
    "print(sebs_account.balance)"
   ]
  },
  {
   "cell_type": "markdown",
   "metadata": {},
   "source": [
    "It worked!"
   ]
  },
  {
   "cell_type": "markdown",
   "metadata": {},
   "source": [
    "#### Create a method to withdraw money"
   ]
  },
  {
   "cell_type": "code",
   "execution_count": 37,
   "metadata": {},
   "outputs": [],
   "source": [
    "class Account:\n",
    "    \n",
    "    \"\"\"A class that represents a personal bank account.\"\"\"\n",
    "    \n",
    "    def __init__(self, name, balance):\n",
    "        \"\"\"\n",
    "        (Account, str, number) -> None\n",
    "        Initializes a new bank account.\n",
    "        \"\"\"\n",
    "        self.name = name\n",
    "        self.balance = balance\n",
    "        \n",
    "    def deposit(self, amount):\n",
    "        \"\"\"\n",
    "        (Account, number) -> None\n",
    "        Adds amount to balance.\n",
    "        \"\"\"\n",
    "        self.balance += amount\n",
    "            \n",
    "    def withdraw(self, amount):\n",
    "        \"\"\"\n",
    "        (Account, number) -> None\n",
    "        Subtracts amount from balance.\n",
    "        \"\"\"\n",
    "        self.balance -= amount"
   ]
  },
  {
   "cell_type": "markdown",
   "metadata": {},
   "source": [
    "Let's create an account to test out new method."
   ]
  },
  {
   "cell_type": "code",
   "execution_count": 38,
   "metadata": {},
   "outputs": [],
   "source": [
    "sebs_account = Account('Sebastian', 500)"
   ]
  },
  {
   "cell_type": "markdown",
   "metadata": {},
   "source": [
    "Now, let's subtract 500 dollars from my account :(."
   ]
  },
  {
   "cell_type": "code",
   "execution_count": 39,
   "metadata": {},
   "outputs": [],
   "source": [
    "sebs_account.withdraw(500)"
   ]
  },
  {
   "cell_type": "markdown",
   "metadata": {},
   "source": [
    "And let's print out the balance."
   ]
  },
  {
   "cell_type": "code",
   "execution_count": 40,
   "metadata": {},
   "outputs": [
    {
     "name": "stdout",
     "output_type": "stream",
     "text": [
      "0\n"
     ]
    }
   ],
   "source": [
    "print(sebs_account.balance)"
   ]
  },
  {
   "cell_type": "markdown",
   "metadata": {},
   "source": [
    "It worked!"
   ]
  },
  {
   "cell_type": "markdown",
   "metadata": {},
   "source": [
    "#### Create a method to print the account balance"
   ]
  },
  {
   "cell_type": "code",
   "execution_count": 41,
   "metadata": {},
   "outputs": [],
   "source": [
    "class Account:\n",
    "    \n",
    "    \"\"\"A class that represents a personal bank account.\"\"\"\n",
    "    \n",
    "    def __init__(self, name, balance):\n",
    "        \"\"\"\n",
    "        (Account, str, number) -> None\n",
    "        Initializes a new bank account.\n",
    "        \"\"\"\n",
    "        self.name = name\n",
    "        self.balance = balance\n",
    "        \n",
    "    def deposit(self, amount):\n",
    "        \"\"\"\n",
    "        (Account, number) -> None\n",
    "        Adds amount to balance.\n",
    "        \"\"\"\n",
    "        self.balance += amount\n",
    "            \n",
    "    def withdraw(self, amount):\n",
    "        \"\"\"\n",
    "        (Account, number) -> None\n",
    "        Subtracts amount from balance.\n",
    "        \"\"\"\n",
    "        self.balance -= amount\n",
    "        \n",
    "    def print_balance(self):\n",
    "        \"\"\"\n",
    "        (Account) -> None\n",
    "        Prints the account balance.\n",
    "        \"\"\"\n",
    "        print('You balance is: $' + str(self.balance)) "
   ]
  },
  {
   "cell_type": "markdown",
   "metadata": {},
   "source": [
    "Let's create an account to test out new method."
   ]
  },
  {
   "cell_type": "code",
   "execution_count": 42,
   "metadata": {},
   "outputs": [],
   "source": [
    "sebs_account = Account('Sebastian', 500)"
   ]
  },
  {
   "cell_type": "markdown",
   "metadata": {},
   "source": [
    "Now, let's use our new method to print the account balance."
   ]
  },
  {
   "cell_type": "code",
   "execution_count": 43,
   "metadata": {},
   "outputs": [
    {
     "name": "stdout",
     "output_type": "stream",
     "text": [
      "You balance is: $500\n"
     ]
    }
   ],
   "source": [
    "sebs_account.print_balance()"
   ]
  },
  {
   "cell_type": "markdown",
   "metadata": {},
   "source": [
    "Lastly, we can use this new print methods in the deposit and withdraw methods."
   ]
  },
  {
   "cell_type": "code",
   "execution_count": 44,
   "metadata": {},
   "outputs": [],
   "source": [
    "class Account:\n",
    "    \n",
    "    \"\"\"A class that represents a personal bank account.\"\"\"\n",
    "    \n",
    "    def __init__(self, name, balance):\n",
    "        \"\"\"\n",
    "        (Account, str, number) -> None\n",
    "        Initializes a new bank account.\n",
    "        \"\"\"\n",
    "        self.name = name\n",
    "        self.balance = balance\n",
    "        \n",
    "    def deposit(self, amount):\n",
    "        \"\"\"\n",
    "        (Account, number) -> None\n",
    "        Adds amount to balance.\n",
    "        \"\"\"\n",
    "        self.balance += amount\n",
    "        self.print_balance()\n",
    "            \n",
    "    def withdraw(self, amount):\n",
    "        \"\"\"\n",
    "        (Account, number) -> None\n",
    "        Subtracts amount from balance.\n",
    "        \"\"\"\n",
    "        self.balance -= amount\n",
    "        self.print_balance()\n",
    "        \n",
    "    def print_balance(self):\n",
    "        \"\"\"\n",
    "        (Account) -> None\n",
    "        Prints the account balance.\n",
    "        \"\"\"\n",
    "        print(\"Account balance is ${}.\".format(self.balance))"
   ]
  },
  {
   "cell_type": "markdown",
   "metadata": {},
   "source": [
    "Let's create an account to test out new method."
   ]
  },
  {
   "cell_type": "code",
   "execution_count": 45,
   "metadata": {},
   "outputs": [],
   "source": [
    "sebs_account = Account('Sebastian', 500)"
   ]
  },
  {
   "cell_type": "markdown",
   "metadata": {},
   "source": [
    "Now, let's add 500 dollars to my account."
   ]
  },
  {
   "cell_type": "code",
   "execution_count": 46,
   "metadata": {},
   "outputs": [
    {
     "name": "stdout",
     "output_type": "stream",
     "text": [
      "Account balance is $1000.\n"
     ]
    }
   ],
   "source": [
    "sebs_account.deposit(500)"
   ]
  },
  {
   "cell_type": "markdown",
   "metadata": {},
   "source": [
    "It printed the balance out after I deposited the money."
   ]
  },
  {
   "cell_type": "markdown",
   "metadata": {},
   "source": [
    "#### Testing\n",
    "Let's test our `Class` with some different examples and see if the outputs make sense.\n",
    "##### Example 1"
   ]
  },
  {
   "cell_type": "code",
   "execution_count": 47,
   "metadata": {},
   "outputs": [
    {
     "name": "stdout",
     "output_type": "stream",
     "text": [
      "Account balance is $1500.\n",
      "Account balance is $-3500.\n"
     ]
    }
   ],
   "source": [
    "sebs_account = Account('Sebastian', 500)\n",
    "sebs_account.deposit(1000)\n",
    "sebs_account.withdraw(5000)"
   ]
  },
  {
   "cell_type": "markdown",
   "metadata": {},
   "source": [
    "Hmmmm, this shouldn't be possible."
   ]
  },
  {
   "cell_type": "markdown",
   "metadata": {},
   "source": [
    "##### Example 2"
   ]
  },
  {
   "cell_type": "code",
   "execution_count": 48,
   "metadata": {},
   "outputs": [
    {
     "name": "stdout",
     "output_type": "stream",
     "text": [
      "Account balance is $400.\n"
     ]
    }
   ],
   "source": [
    "sebs_account = Account('Sebastian', 500)\n",
    "sebs_account.deposit(-100)"
   ]
  },
  {
   "cell_type": "markdown",
   "metadata": {},
   "source": [
    "Hmmmm, this shouldn't be possible.\n",
    "\n",
    "Something else that is not recorded is a record of all the transactions."
   ]
  },
  {
   "cell_type": "markdown",
   "metadata": {},
   "source": [
    "### Make improvements\n",
    "1. Record a list of transactions.\n",
    "2. Can't deposit negative amounts.\n",
    "3. Can't withdraw a negative amount or an amount great than the balance. (**Breakout Session 1**)"
   ]
  },
  {
   "cell_type": "markdown",
   "metadata": {},
   "source": [
    "#### 1. Record a list of transactions\n",
    "1. In Constructor: Create a new attribute in the contructor called `transactions` and set it equal to an empty list.\n",
    "2. In `deposit` method: After money is deposited, append a `tuple` to `transactions` (e.g. `('deposit', 240)`).\n",
    "3. In `withdraw` method: After money is withdrawn, append a `tuple` to `transactions` (e.g. `('withdraw', 370)`).\n",
    "\n",
    "The `transactions` attribute should look like this:\n",
    "```python\n",
    ">>> print(sebs_account.transactions)\n",
    "[('deposit', 240), ('deposit', 20), ('withdraw', 670), ('deposit', 10), ...]\n",
    "```\n",
    "\n",
    "Look for `...` to guide you to where you need to write your code."
   ]
  },
  {
   "cell_type": "code",
   "execution_count": 53,
   "metadata": {},
   "outputs": [],
   "source": [
    "class Account:\n",
    "    \n",
    "    \"\"\"A class that represents a personal bank account.\"\"\"\n",
    "    \n",
    "    def __init__(self, name, balance):\n",
    "        \"\"\"\n",
    "        (self, str, number) -> None\n",
    "        Initializes a new bank account.\n",
    "        \"\"\"\n",
    "        self.name = name\n",
    "        self.balance = balance\n",
    "        self.transactions = []\n",
    "        \n",
    "    def deposit(self, amount):\n",
    "        \"\"\"\n",
    "        (Account, number) -> None\n",
    "        Adds amount to balance.\n",
    "        \"\"\"\n",
    "        self.balance += amount\n",
    "        self.transactions.append(('deposit', amount))\n",
    "        self.print_balance()\n",
    "            \n",
    "    def withdraw(self, amount):\n",
    "        \"\"\"\n",
    "        (Account, number) -> None\n",
    "        Subtracts amount from balance.\n",
    "        \"\"\"\n",
    "        self.balance -= amount\n",
    "        self.transactions.append(('withdraw', amount))\n",
    "        self.print_balance()\n",
    "        \n",
    "    def print_balance(self):\n",
    "        \"\"\"\n",
    "        (Account) -> None\n",
    "        Prints the account balance.\n",
    "        \"\"\"\n",
    "        print(\"Account balance is ${}.\".format(self.balance))\n",
    "        \n",
    "    def print_transactions(self):\n",
    "        \"\"\"\n",
    "        (Account) -> None\n",
    "        Prints all transactions.\n",
    "        \"\"\"\n",
    "        for transaction_type, amount in self.transactions:\n",
    "            print('{}: ${}'.format(transaction_type.capitalize(), amount))"
   ]
  },
  {
   "cell_type": "markdown",
   "metadata": {},
   "source": [
    "Let's create an account to test out new method."
   ]
  },
  {
   "cell_type": "code",
   "execution_count": 54,
   "metadata": {},
   "outputs": [
    {
     "name": "stdout",
     "output_type": "stream",
     "text": [
      "Account balance is $300.\n",
      "Account balance is $200.\n",
      "Account balance is $1200.\n",
      "Account balance is $1252.\n",
      "Account balance is $1242.\n",
      "Account balance is $1340.\n",
      "Account balance is $1796.\n"
     ]
    }
   ],
   "source": [
    "sebs_account = Account('Sebastian', 500)\n",
    "sebs_account.withdraw(200)\n",
    "sebs_account.withdraw(100)\n",
    "sebs_account.deposit(1000)\n",
    "sebs_account.deposit(52)\n",
    "sebs_account.withdraw(10)\n",
    "sebs_account.deposit(98)\n",
    "sebs_account.deposit(456)"
   ]
  },
  {
   "cell_type": "markdown",
   "metadata": {},
   "source": [
    "Now, let's print out transactions."
   ]
  },
  {
   "cell_type": "code",
   "execution_count": 55,
   "metadata": {},
   "outputs": [
    {
     "name": "stdout",
     "output_type": "stream",
     "text": [
      "Withdraw: $200\n",
      "Withdraw: $100\n",
      "Deposit: $1000\n",
      "Deposit: $52\n",
      "Withdraw: $10\n",
      "Deposit: $98\n",
      "Deposit: $456\n"
     ]
    }
   ],
   "source": [
    "sebs_account.print_transactions()"
   ]
  },
  {
   "cell_type": "markdown",
   "metadata": {},
   "source": [
    "And we can look at the attribute."
   ]
  },
  {
   "cell_type": "code",
   "execution_count": 56,
   "metadata": {},
   "outputs": [
    {
     "name": "stdout",
     "output_type": "stream",
     "text": [
      "[('withdraw', 200), ('withdraw', 100), ('deposit', 1000), ('deposit', 52), ('withdraw', 10), ('deposit', 98), ('deposit', 456)]\n"
     ]
    }
   ],
   "source": [
    "print(sebs_account.transactions)"
   ]
  },
  {
   "cell_type": "markdown",
   "metadata": {},
   "source": [
    "#### 2. Can't deposit negative amounts"
   ]
  },
  {
   "cell_type": "code",
   "execution_count": null,
   "metadata": {},
   "outputs": [],
   "source": [
    "class Account:\n",
    "    \n",
    "    \"\"\"A class that represents a personal bank account.\"\"\"\n",
    "    \n",
    "    def __init__(self, name, balance):\n",
    "        \"\"\"\n",
    "        (Account, str, number) -> None\n",
    "        Initializes a new bank account.\n",
    "        \"\"\"\n",
    "        self.name = name\n",
    "        self.balance = balance\n",
    "        self.transactions = []\n",
    "        \n",
    "    def deposit(self, amount):\n",
    "        \"\"\"\n",
    "        (Account, number) -> None\n",
    "        Adds amount to balance.\n",
    "        \"\"\"\n",
    "        if amount > 0:\n",
    "            self.balance += amount\n",
    "            self.transactions.append(('deposit', amount))\n",
    "            self.print_balance()\n",
    "        ...\n",
    "            \n",
    "    def withdraw(self, amount):\n",
    "        \"\"\"\n",
    "        (Account, number) -> None\n",
    "        Subtracts amount from balance.\n",
    "        \"\"\"\n",
    "        self.balance -= amount\n",
    "        self.transactions.append(('withdraw', amount))\n",
    "        self.print_balance()\n",
    "        \n",
    "    def print_balance(self):\n",
    "        \"\"\"\n",
    "        (Account) -> None\n",
    "        Prints the account balance.\n",
    "        \"\"\"\n",
    "        print(\"Account balance is ${}.\".format(self.balance))\n",
    "        \n",
    "    def print_transactions(self):\n",
    "        \"\"\"\n",
    "        (Account) -> None\n",
    "        Prints all transactions.\n",
    "        \"\"\"\n",
    "        for transaction_type, amount in self.transactions:\n",
    "            print('{}: ${}'.format(transaction_type.capitalize(), amount))"
   ]
  },
  {
   "cell_type": "markdown",
   "metadata": {},
   "source": [
    "Let's create an account to test out new method."
   ]
  },
  {
   "cell_type": "code",
   "execution_count": null,
   "metadata": {},
   "outputs": [],
   "source": [
    "sebs_account = Account('Sebastian', 500)"
   ]
  },
  {
   "cell_type": "markdown",
   "metadata": {},
   "source": [
    "Now, let's add -500 dollars to my account."
   ]
  },
  {
   "cell_type": "code",
   "execution_count": null,
   "metadata": {},
   "outputs": [],
   "source": [
    "sebs_account.deposit(-500)"
   ]
  },
  {
   "cell_type": "markdown",
   "metadata": {},
   "source": [
    "<a id='section7'></a>\n",
    "## Breakout Session 1\n",
    "#### 3. Can't withdraw a negative amount or an amount great than the balance"
   ]
  },
  {
   "cell_type": "code",
   "execution_count": null,
   "metadata": {},
   "outputs": [],
   "source": [
    "class Account:\n",
    "    \n",
    "    \"\"\"A class that represents a personal bank account.\"\"\"\n",
    "    \n",
    "    def __init__(self, name, balance):\n",
    "        \"\"\"\n",
    "        (Account, str, number) -> None\n",
    "        Initializes a new bank account.\n",
    "        \"\"\"\n",
    "        self.name = name\n",
    "        self.balance = balance\n",
    "        self.transactions = []\n",
    "        \n",
    "    def deposit(self, amount):\n",
    "        \"\"\"\n",
    "        (Account, number) -> None\n",
    "        Adds amount to balance.\n",
    "        \"\"\"\n",
    "        if amount > 0:\n",
    "            self.balance += amount\n",
    "            self.transactions.append(('deposit', amount))\n",
    "            self.print_balance()\n",
    "        else:\n",
    "            print(\"You can't deposit a negative amount\")\n",
    "            \n",
    "    def withdraw(self, amount):\n",
    "        \"\"\"\n",
    "        (Account, number) -> None\n",
    "        Subtracts amount from balance.\n",
    "        \"\"\"\n",
    "        ...\n",
    "        self.balance -= amount\n",
    "        self.transactions.append(('withdraw', amount))\n",
    "        self.print_balance()\n",
    "        ...\n",
    "        \n",
    "    def print_balance(self):\n",
    "        \"\"\"\n",
    "        (Account) -> None\n",
    "        Prints the account balance.\n",
    "        \"\"\"\n",
    "        print(\"Account balance is ${}.\".format(self.balance))\n",
    "        \n",
    "    def print_transactions(self):\n",
    "        \"\"\"\n",
    "        (Account) -> None\n",
    "        Prints all transactions.\n",
    "        \"\"\"\n",
    "        for transaction_type, amount in self.transactions:\n",
    "            print('{}: ${}'.format(transaction_type.capitalize(), amount))"
   ]
  },
  {
   "cell_type": "markdown",
   "metadata": {},
   "source": [
    "Let's create an account to test out new method."
   ]
  },
  {
   "cell_type": "code",
   "execution_count": null,
   "metadata": {},
   "outputs": [],
   "source": [
    "sebs_account = Account('Sebastian', 500)"
   ]
  },
  {
   "cell_type": "markdown",
   "metadata": {},
   "source": [
    "Now, let's add -500 dollars to my account."
   ]
  },
  {
   "cell_type": "code",
   "execution_count": null,
   "metadata": {},
   "outputs": [],
   "source": [
    "sebs_account.withdraw(1000)"
   ]
  }
 ],
 "metadata": {
  "kernelspec": {
   "display_name": "Python 3 (ipykernel)",
   "language": "python",
   "name": "python3"
  },
  "language_info": {
   "codemirror_mode": {
    "name": "ipython",
    "version": 3
   },
   "file_extension": ".py",
   "mimetype": "text/x-python",
   "name": "python",
   "nbconvert_exporter": "python",
   "pygments_lexer": "ipython3",
   "version": "3.11.5"
  }
 },
 "nbformat": 4,
 "nbformat_minor": 4
}
