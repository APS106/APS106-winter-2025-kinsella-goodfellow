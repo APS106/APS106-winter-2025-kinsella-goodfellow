{
 "cells": [
  {
   "metadata": {},
   "cell_type": "markdown",
   "source": [
    "# APS106 - Fundamentals of Computer Programming\n",
    "## Week 10 | Lecture 2 (10.2) - objects, classes, and methods\n",
    "\n",
    "### Lecture Structure\n",
    "1. [Object In Python](#section1)\n",
    "2. [Write A Simple Class](#section2)\n",
    "3. [Self...](#section3)\n",
    "4. [Write A Point Class: Constructor](#section4)\n",
    "5. [Write A Point Class: Methods](#section5)\n",
    "6. [Bank Account Class](#section6)\n",
    "7. [Breakout Session 1](#section7)"
   ]
  },
  {
   "metadata": {},
   "cell_type": "markdown",
   "source": [
    "<a id='section1'></a>\n",
    "## 1. Object In Python\n",
    "Ok, so eveything is an object in Python? Yes, check this out.\n",
    "\n",
    "Let's say we have two variables `a` and `b` that we want to add together."
   ]
  },
  {
   "metadata": {},
   "cell_type": "code",
   "outputs": [],
   "execution_count": null,
   "source": [
    "a = 5\n",
    "b = 6\n",
    "a + b"
   ]
  },
  {
   "metadata": {},
   "cell_type": "markdown",
   "source": "`a` and `b` are integers and the `+` operator is actually pointing to a integer method (function) called `__add__()`."
  },
  {
   "metadata": {},
   "cell_type": "code",
   "outputs": [],
   "execution_count": null,
   "source": "a.__add__(b)"
  },
  {
   "metadata": {},
   "cell_type": "markdown",
   "source": "Now, this might seem a bit funny, but it will make sense soon."
  },
  {
   "metadata": {},
   "cell_type": "markdown",
   "source": [
    "<a id='section2'></a>\n",
    "## 2. Write A Simple Class\n",
    "Ok, let's write a `Student` class with the following attribute,\n",
    "- `name`: `str`\n",
    "- `age`: `int`\n",
    "- `courses`: `list`\n",
    "\n",
    "and the following methods.\n",
    "- `enroll`: Add a course (`str`) to `courses`.\n",
    "- `show_courses`: Print `courses`."
   ]
  },
  {
   "metadata": {},
   "cell_type": "code",
   "outputs": [],
   "execution_count": null,
   "source": [
    "class Student:\n",
    "\n",
    "    def __init__(self, name, age):\n",
    "        self.name = name\n",
    "        self.age = age\n",
    "        self.courses = []\n",
    "\n",
    "    def enroll(self, course):\n",
    "        self.courses.append(course)\n",
    "\n",
    "    def show_courses(self):\n",
    "        print(\"Your courses are:\", self.courses)"
   ]
  },
  {
   "metadata": {},
   "cell_type": "code",
   "outputs": [],
   "execution_count": null,
   "source": [
    "# Creating a student object\n",
    "student1 = Student(\"Bob\", 22)\n",
    "student1.enroll(\"Biology\")\n",
    "student1.enroll(\"Chemistry\")\n",
    "\n",
    "# Creating another student object\n",
    "student2 = Student(\"Carol\", 19)\n",
    "student2.enroll(\"English\")\n",
    "\n",
    "# Demonstrating functionality\n",
    "student1.show_courses()\n",
    "student2.show_courses()"
   ]
  },
  {
   "metadata": {},
   "cell_type": "markdown",
   "source": [
    "<a id='section3'></a>\n",
    "## 3. Self...\n",
    "What is `self` in Python classes? Think of `self` as a placeholder for the object itself. \n",
    "\n",
    "Imagine you have a class called Student. When you create a student like:"
   ]
  },
  {
   "metadata": {},
   "cell_type": "code",
   "outputs": [],
   "execution_count": null,
   "source": "student1 = Student(\"Bob\", 22)"
  },
  {
   "metadata": {},
   "cell_type": "markdown",
   "source": [
    "`student1` is an object created from the `Student` class.\n",
    "\n",
    "Now, whenever you want to access attributes (like the student's `name` or `age`) or actions (methods) related to this particular student, Python needs to know which student you're talking about. The keyword `self` makes this clear.\n",
    "\n",
    "Let's simplify:"
   ]
  },
  {
   "metadata": {},
   "cell_type": "code",
   "outputs": [],
   "execution_count": null,
   "source": [
    "class Student:\n",
    "    \n",
    "    def __init__(self, name):\n",
    "        self.name = name\n",
    "    \n",
    "    def say_hello(self):\n",
    "        print(\"Hello! My name is \" + self.name)"
   ]
  },
  {
   "metadata": {},
   "cell_type": "markdown",
   "source": "When you call:"
  },
  {
   "metadata": {},
   "cell_type": "code",
   "outputs": [],
   "execution_count": null,
   "source": [
    "student1 = Student(\"Bob\")\n",
    "student1.say_hello()"
   ]
  },
  {
   "metadata": {},
   "cell_type": "markdown",
   "source": [
    "Here's what happens step by step:\n",
    "- Python sees: `student1.say_hello()`\n",
    "- It goes to the class definition and runs the `say_hello()` method.\n",
    "- The keyword `self` automatically becomes `student1`.\n",
    "- So when the method says self.name, it means `student1.name`, which is \"Bob\".\n",
    "`self` is just Python’s way of saying `\"I'm talking about THIS specific object.\"`."
   ]
  },
  {
   "metadata": {},
   "cell_type": "markdown",
   "source": [
    "<a id='section4'></a>\n",
    "## 4. Write A Point Class: Constructor\n",
    "First, let's write the `Point` class and have it initialize to the origin `(0, 0)`."
   ]
  },
  {
   "metadata": {},
   "cell_type": "code",
   "outputs": [],
   "execution_count": null,
   "source": [
    "class Point:\n",
    "    \n",
    "    \"\"\"A class that represents and manipulates 2D points\"\"\"\n",
    "    \n",
    "    def __init__(self):\n",
    "        \"\"\" \n",
    "        (Point) -> None\n",
    "        Initializes a new point at (0, 0)\n",
    "        \"\"\"\n",
    "        self.x = 0\n",
    "        self.y = 0"
   ]
  },
  {
   "metadata": {},
   "cell_type": "markdown",
   "source": "Next, let's create an instance of the `Point` class. This is sometimes called initialization."
  },
  {
   "metadata": {},
   "cell_type": "code",
   "outputs": [],
   "execution_count": null,
   "source": [
    "p1 = Point()\n",
    "print(p1.x, p1.y)"
   ]
  },
  {
   "metadata": {},
   "cell_type": "markdown",
   "source": [
    "### The Constructor\n",
    "An instantiation operation automatically calls the `__init__` method defined in the class definition. The `__init__` method, commonly known as a **\"constructor\"**, is responsible for setting up the initial state of the new instance. \n",
    "\n",
    "Let's modify our constructor to show that it does automatically run when a new instance is initialized."
   ]
  },
  {
   "metadata": {},
   "cell_type": "code",
   "outputs": [],
   "execution_count": null,
   "source": [
    "class Point:\n",
    "    \n",
    "    \"\"\"A class that represents and manipulates 2D points\"\"\"\n",
    "    \n",
    "    def __init__(self):\n",
    "        \"\"\" \n",
    "        (Point) -> None\n",
    "        Initializes a new point at (0, 0)\n",
    "        \"\"\"\n",
    "        self.x = 0\n",
    "        self.y = 0\n",
    "        \n",
    "        print('The constructor has been called')"
   ]
  },
  {
   "metadata": {},
   "cell_type": "code",
   "outputs": [],
   "execution_count": null,
   "source": "p1 = Point()"
  },
  {
   "metadata": {},
   "cell_type": "markdown",
   "source": "Let's try initializing multiple instances of the `Point` class."
  },
  {
   "metadata": {},
   "cell_type": "code",
   "outputs": [],
   "execution_count": null,
   "source": [
    "# Instantiate an object of type Point\n",
    "my_point = Point()\n",
    "print(my_point.x, my_point.y)\n",
    "\n",
    "# Make a second point\n",
    "second_point = Point()\n",
    "print(second_point.x, second_point.y)"
   ]
  },
  {
   "metadata": {},
   "cell_type": "markdown",
   "source": [
    "#### Is a contructor necesary?\n",
    "Technically it is not necessary. You use a contructor to set up the initial state of an object. \n",
    "\n",
    "If there is not data that the user needs to input (arguments) or no attributes to initialize, then you can skip the constructor."
   ]
  },
  {
   "metadata": {},
   "cell_type": "code",
   "outputs": [],
   "execution_count": null,
   "source": [
    "class Point:\n",
    "    \n",
    "    \"\"\"A class that represents and manipulates 2D points\"\"\"\n",
    "    \n",
    "    def method1(self):\n",
    "        print('You called method1')\n",
    "    \n",
    "    def method2(self):\n",
    "        print('You called method2')"
   ]
  },
  {
   "metadata": {},
   "cell_type": "code",
   "outputs": [],
   "execution_count": null,
   "source": [
    "my_point = Point()\n",
    "\n",
    "my_point.method1()\n",
    "my_point.method2()"
   ]
  },
  {
   "metadata": {},
   "cell_type": "markdown",
   "source": [
    "### Attributes\n",
    "As seen below, our `Point` class has two attributes (`x` and `y`). These attributes are assigned during initialization (construction), however, we can change them."
   ]
  },
  {
   "metadata": {},
   "cell_type": "code",
   "outputs": [],
   "execution_count": null,
   "source": [
    "class Point:\n",
    "    \n",
    "    \"\"\"A class that represents and manipulates 2D points\"\"\"\n",
    "    \n",
    "    def __init__(self):\n",
    "        \"\"\" \n",
    "        (Point) -> None\n",
    "        Initializes a new point at (0, 0)\n",
    "        \"\"\"\n",
    "        self.x = 0\n",
    "        self.y = 0"
   ]
  },
  {
   "metadata": {},
   "cell_type": "markdown",
   "source": "Let's initialize another point."
  },
  {
   "metadata": {},
   "cell_type": "code",
   "outputs": [],
   "execution_count": null,
   "source": [
    "p = Point()\n",
    "print(p.x, p.y)"
   ]
  },
  {
   "metadata": {},
   "cell_type": "markdown",
   "source": "Next, let's update the attributes `x` and `y` for the `Point` instance `p`."
  },
  {
   "metadata": {},
   "cell_type": "code",
   "outputs": [],
   "execution_count": null,
   "source": [
    "p.x = 2\n",
    "p.y = 4\n",
    "print(p.x, p.y)"
   ]
  },
  {
   "metadata": {},
   "cell_type": "markdown",
   "source": [
    "### A More Convinient Constructor\n",
    "We may not always want the point to initialize to position `(0, 0)`. We can update our constructor to initialize to any point."
   ]
  },
  {
   "metadata": {},
   "cell_type": "code",
   "outputs": [],
   "execution_count": null,
   "source": [
    "class Point:\n",
    "    \n",
    "    \"\"\"A class that represents and manipulates 2D points\"\"\"\n",
    "    \n",
    "    def __init__(self, x=0, y=0):\n",
    "        \"\"\" \n",
    "        (Point, float, float) -> None\n",
    "        Initializes a new point at (0, 0)\n",
    "        \"\"\"\n",
    "        self.x = x\n",
    "        self.y = y"
   ]
  },
  {
   "metadata": {},
   "cell_type": "code",
   "outputs": [],
   "execution_count": null,
   "source": [
    "p = Point()\n",
    "print(p.x, p.y)"
   ]
  },
  {
   "metadata": {},
   "cell_type": "code",
   "outputs": [],
   "execution_count": null,
   "source": [
    "q = Point(8, 15)\n",
    "print(q.x, q.y)"
   ]
  },
  {
   "metadata": {},
   "cell_type": "markdown",
   "source": [
    "<a id='section5'></a>\n",
    "## 5. Write A Point Class: Methods\n",
    "Ok, we have our `Point` class from earlier."
   ]
  },
  {
   "metadata": {},
   "cell_type": "code",
   "outputs": [],
   "execution_count": null,
   "source": [
    "class Point:\n",
    "    \n",
    "    \"\"\"A class that represents and manipulates 2D points\"\"\"\n",
    "    \n",
    "    def __init__(self, x=0, y=0):\n",
    "        \"\"\" \n",
    "        (Point, float, float) -> None\n",
    "        Initializes a new point at (0, 0)\n",
    "        \"\"\"\n",
    "        self.x = x\n",
    "        self.y = y"
   ]
  },
  {
   "metadata": {},
   "cell_type": "markdown",
   "source": "Lets create two instances of `Point` at (8, 15) and (2, 4)."
  },
  {
   "metadata": {},
   "cell_type": "code",
   "outputs": [],
   "execution_count": null,
   "source": [
    "point1 = Point(8, 15)\n",
    "print(point1.x, point1.y)"
   ]
  },
  {
   "metadata": {},
   "cell_type": "code",
   "outputs": [],
   "execution_count": null,
   "source": [
    "point2 = Point(2, 4)\n",
    "print(point2.x, point2.y)"
   ]
  },
  {
   "metadata": {},
   "cell_type": "markdown",
   "source": [
    "Now, let's try an call the method to calculate the distance between two point.\n",
    "\n",
    "Do you think this will work?"
   ]
  },
  {
   "metadata": {},
   "cell_type": "code",
   "outputs": [],
   "execution_count": null,
   "source": "point1.calculate_distance_to_point(point2)"
  },
  {
   "metadata": {},
   "cell_type": "markdown",
   "source": [
    "#### Method 1: Euclidean Distance Between Two Points\n",
    "Ok, so we need to add this method. Let's `import math` so we can use the square root function."
   ]
  },
  {
   "metadata": {},
   "cell_type": "code",
   "outputs": [],
   "execution_count": null,
   "source": [
    "import math\n",
    "\n",
    "class Point:\n",
    "    \n",
    "    \"\"\"A class that represents and manipulates 2D points\"\"\"\n",
    "    \n",
    "    def __init__(self, x=0, y=0):\n",
    "        \"\"\" \n",
    "        (Point, float, float) -> None\n",
    "        Initializes a new point at (0, 0)\n",
    "        \"\"\"\n",
    "        self.x = x\n",
    "        self.y = y\n",
    "        \n",
    "    def calculate_distance_to_point(self, other_point):\n",
    "        \"\"\"\n",
    "        (Point, Point) -> float\n",
    "        Calculates the Euclidean distance between self and other point\n",
    "        \"\"\"\n",
    "        return math.sqrt((self.x - other_point.x)**2 + (self.y - other_point.y)**2)"
   ]
  },
  {
   "metadata": {},
   "cell_type": "markdown",
   "source": "Ok, let's give it a try."
  },
  {
   "metadata": {},
   "cell_type": "code",
   "outputs": [],
   "execution_count": null,
   "source": "point1.calculate_distance_to_point(point2)"
  },
  {
   "metadata": {},
   "cell_type": "markdown",
   "source": "Any ideas why this didn't work?"
  },
  {
   "metadata": {},
   "cell_type": "code",
   "outputs": [],
   "execution_count": null,
   "source": [
    "point1 = Point(8, 15)\n",
    "point2 = Point(2, 4)\n",
    "\n",
    "print(point1.calculate_distance_to_point(point2))"
   ]
  },
  {
   "metadata": {},
   "cell_type": "markdown",
   "source": [
    "<a id='section6'></a>\n",
    "## 6. Bank Account Class\n",
    "Let’s highlight the value of encapsulation with a bank Account class.\n",
    "\n",
    "**Attributes**\n",
    "- Account owner’s name.\n",
    "- Current account balance.\n",
    "\n",
    "**Methods**\n",
    "- Deposit money.\n",
    "- Withdraw money.\n",
    "- Print account balance.\n",
    "\n",
    "### Create Account Class\n",
    "#### Create a Constructor\n",
    "Let's start by building a constructor to initialize our class with the following attributes.\n",
    "- Account owner’s name.\n",
    "- Current account balance."
   ]
  },
  {
   "metadata": {},
   "cell_type": "code",
   "outputs": [],
   "execution_count": null,
   "source": [
    "class Account:\n",
    "    \n",
    "    \"\"\"A class that represents a personal bank account.\"\"\"\n",
    "    \n",
    "    def __init__(self, name, balance):\n",
    "        \"\"\"\n",
    "        (self, str, number) -> None\n",
    "        Initializes a new bank account.\n",
    "        \"\"\"\n",
    "        self.name = name\n",
    "        self.balance = balance"
   ]
  },
  {
   "metadata": {},
   "cell_type": "markdown",
   "source": "Let's create a few accounts and print their attributes."
  },
  {
   "metadata": {},
   "cell_type": "code",
   "outputs": [],
   "execution_count": null,
   "source": [
    "sebs_account = Account('Sebastian', 500)\n",
    "print(sebs_account.name, sebs_account.balance)\n",
    "\n",
    "bens_account = Account('Ben', 1000)\n",
    "print(bens_account.name, bens_account.balance)"
   ]
  },
  {
   "metadata": {},
   "cell_type": "markdown",
   "source": "#### Create a method to deposit money"
  },
  {
   "metadata": {},
   "cell_type": "code",
   "outputs": [],
   "execution_count": null,
   "source": [
    "class Account:\n",
    "    \n",
    "    \"\"\"A class that represents a personal bank account.\"\"\"\n",
    "    \n",
    "    def __init__(self, name, balance):\n",
    "        \"\"\"\n",
    "        (Account, str, number) -> None\n",
    "        Initializes a new bank account.\n",
    "        \"\"\"\n",
    "        self.name = name\n",
    "        self.balance = balance\n",
    "        \n",
    "    def deposit(self, amount):\n",
    "        \"\"\"\n",
    "        (self, number) -> None\n",
    "        Adds amount to balance.\n",
    "        \"\"\"\n",
    "        self.balance += amount"
   ]
  },
  {
   "metadata": {},
   "cell_type": "markdown",
   "source": "Let's create an account to test out new method."
  },
  {
   "metadata": {},
   "cell_type": "code",
   "outputs": [],
   "execution_count": null,
   "source": "sebs_account = Account('Sebastian', 500)"
  },
  {
   "metadata": {},
   "cell_type": "markdown",
   "source": "Now, let's add 500 dollars to my account."
  },
  {
   "metadata": {},
   "cell_type": "code",
   "outputs": [],
   "execution_count": null,
   "source": "sebs_account.deposit(500)"
  },
  {
   "metadata": {},
   "cell_type": "markdown",
   "source": "And let's print out the balance."
  },
  {
   "metadata": {},
   "cell_type": "code",
   "outputs": [],
   "execution_count": null,
   "source": "print(sebs_account.balance)"
  },
  {
   "metadata": {},
   "cell_type": "markdown",
   "source": "It worked!"
  },
  {
   "metadata": {},
   "cell_type": "markdown",
   "source": "#### Create a method to withdraw money"
  },
  {
   "metadata": {},
   "cell_type": "code",
   "outputs": [],
   "execution_count": null,
   "source": [
    "class Account:\n",
    "    \n",
    "    \"\"\"A class that represents a personal bank account.\"\"\"\n",
    "    \n",
    "    def __init__(self, name, balance):\n",
    "        \"\"\"\n",
    "        (Account, str, number) -> None\n",
    "        Initializes a new bank account.\n",
    "        \"\"\"\n",
    "        self.name = name\n",
    "        self.balance = balance\n",
    "        \n",
    "    def deposit(self, amount):\n",
    "        \"\"\"\n",
    "        (Account, number) -> None\n",
    "        Adds amount to balance.\n",
    "        \"\"\"\n",
    "        self.balance += amount\n",
    "            \n",
    "    def withdraw(self, amount):\n",
    "        \"\"\"\n",
    "        (self, number) -> None\n",
    "        Subtracts amount from balance.\n",
    "        \"\"\"\n",
    "        self.balance -= amount"
   ]
  },
  {
   "metadata": {},
   "cell_type": "markdown",
   "source": "Let's create an account to test out new method."
  },
  {
   "metadata": {},
   "cell_type": "code",
   "outputs": [],
   "execution_count": null,
   "source": "sebs_account = Account('Sebastian', 500)"
  },
  {
   "metadata": {},
   "cell_type": "markdown",
   "source": "Now, let's subtract 500 dollars from my account :(."
  },
  {
   "metadata": {},
   "cell_type": "code",
   "outputs": [],
   "execution_count": null,
   "source": "sebs_account.withdraw(500)"
  },
  {
   "metadata": {},
   "cell_type": "markdown",
   "source": "And let's print out the balance."
  },
  {
   "metadata": {},
   "cell_type": "code",
   "outputs": [],
   "execution_count": null,
   "source": "print(sebs_account.balance)"
  },
  {
   "metadata": {},
   "cell_type": "markdown",
   "source": "It worked!"
  },
  {
   "metadata": {},
   "cell_type": "markdown",
   "source": "#### Create a method to print the account balance"
  },
  {
   "metadata": {},
   "cell_type": "code",
   "outputs": [],
   "execution_count": null,
   "source": [
    "class Account:\n",
    "    \n",
    "    \"\"\"A class that represents a personal bank account.\"\"\"\n",
    "    \n",
    "    def __init__(self, name, balance):\n",
    "        \"\"\"\n",
    "        (Account, str, number) -> None\n",
    "        Initializes a new bank account.\n",
    "        \"\"\"\n",
    "        self.name = name\n",
    "        self.balance = balance\n",
    "        \n",
    "    def deposit(self, amount):\n",
    "        \"\"\"\n",
    "        (Account, number) -> None\n",
    "        Adds amount to balance.\n",
    "        \"\"\"\n",
    "        self.balance += amount\n",
    "            \n",
    "    def withdraw(self, amount):\n",
    "        \"\"\"\n",
    "        (Account, number) -> None\n",
    "        Subtracts amount from balance.\n",
    "        \"\"\"\n",
    "        self.balance -= amount\n",
    "        \n",
    "    def print_balance(self):\n",
    "        \"\"\"\n",
    "        (self) -> None\n",
    "        Prints the account balance.\n",
    "        \"\"\"\n",
    "        print(\"Your balance is: $\" + str(self.balance))"
   ]
  },
  {
   "metadata": {},
   "cell_type": "markdown",
   "source": "Let's create an account to test out new method."
  },
  {
   "metadata": {},
   "cell_type": "code",
   "outputs": [],
   "execution_count": null,
   "source": "sebs_account = Account('Sebastian', 500)"
  },
  {
   "metadata": {},
   "cell_type": "markdown",
   "source": "Now, let's use our new method to print the account balance."
  },
  {
   "metadata": {},
   "cell_type": "code",
   "outputs": [],
   "execution_count": null,
   "source": "sebs_account.print_balance()"
  },
  {
   "metadata": {},
   "cell_type": "markdown",
   "source": "Lastly, we can use this new print methods in the deposit and withdraw methods."
  },
  {
   "metadata": {},
   "cell_type": "code",
   "outputs": [],
   "execution_count": null,
   "source": [
    "class Account:\n",
    "    \n",
    "    \"\"\"A class that represents a personal bank account.\"\"\"\n",
    "    \n",
    "    def __init__(self, name, balance):\n",
    "        \"\"\"\n",
    "        (Account, str, number) -> None\n",
    "        Initializes a new bank account.\n",
    "        \"\"\"\n",
    "        self.name = name\n",
    "        self.balance = balance\n",
    "        \n",
    "    def deposit(self, amount):\n",
    "        \"\"\"\n",
    "        (Account, number) -> None\n",
    "        Adds amount to balance.\n",
    "        \"\"\"\n",
    "        self.balance += amount\n",
    "        self.print_balance()\n",
    "            \n",
    "    def withdraw(self, amount):\n",
    "        \"\"\"\n",
    "        (Account, number) -> None\n",
    "        Subtracts amount from balance.\n",
    "        \"\"\"\n",
    "        self.balance -= amount\n",
    "        self.print_balance()\n",
    "        \n",
    "    def print_balance(self):\n",
    "        \"\"\"\n",
    "        (Account) -> None\n",
    "        Prints the account balance.\n",
    "        \"\"\"\n",
    "        print(\"Account balance is ${}.\".format(self.balance))"
   ]
  },
  {
   "metadata": {},
   "cell_type": "markdown",
   "source": "Let's create an account to test out new method."
  },
  {
   "metadata": {},
   "cell_type": "code",
   "outputs": [],
   "execution_count": null,
   "source": "sebs_account = Account('Sebastian', 500)"
  },
  {
   "metadata": {},
   "cell_type": "markdown",
   "source": "Now, let's add 500 dollars to my account."
  },
  {
   "metadata": {},
   "cell_type": "code",
   "outputs": [],
   "execution_count": null,
   "source": "sebs_account.deposit(500)"
  },
  {
   "metadata": {},
   "cell_type": "markdown",
   "source": "It printed the balance out after I deposited the money."
  },
  {
   "metadata": {},
   "cell_type": "markdown",
   "source": [
    "#### Testing\n",
    "Let's test our `Class` with some different examples and see if the outputs make sense.\n",
    "##### Example 1"
   ]
  },
  {
   "metadata": {},
   "cell_type": "code",
   "outputs": [],
   "execution_count": null,
   "source": [
    "sebs_account = Account('Sebastian', 500)\n",
    "sebs_account.deposit(1000)\n",
    "sebs_account.withdraw(5000)"
   ]
  },
  {
   "metadata": {},
   "cell_type": "markdown",
   "source": "Hmmmm, this shouldn't be possible."
  },
  {
   "metadata": {},
   "cell_type": "markdown",
   "source": "##### Example 2"
  },
  {
   "metadata": {},
   "cell_type": "code",
   "outputs": [],
   "execution_count": null,
   "source": [
    "sebs_account = Account('Sebastian', 500)\n",
    "sebs_account.deposit(-100)"
   ]
  },
  {
   "metadata": {},
   "cell_type": "markdown",
   "source": [
    "Hmmmm, this shouldn't be possible.\n",
    "\n",
    "Something else that is not recorded is a record of all the transactions."
   ]
  },
  {
   "metadata": {},
   "cell_type": "markdown",
   "source": [
    "### Make improvements\n",
    "1. Record a list of transactions.\n",
    "2. Can't deposit negative amounts.\n",
    "3. Can't withdraw a negative amount or an amount great than the balance. (**Breakout Session 1**)"
   ]
  },
  {
   "metadata": {},
   "cell_type": "markdown",
   "source": [
    "#### 1. Record a list of transactions\n",
    "1. In Constructor: Create a new attribute in the contructor called `transactions` and set it equal to an empty list.\n",
    "2. In `deposit` method: After money is deposited, append a `tuple` to `transactions` (e.g. `('deposit', 240)`).\n",
    "3. In `withdraw` method: After money is withdrawn, append a `tuple` to `transactions` (e.g. `('withdraw', 370)`).\n",
    "\n",
    "The `transactions` attribute should look like this:\n",
    "```python\n",
    ">>> print(sebs_account.transactions)\n",
    "[('deposit', 240), ('deposit', 20), ('withdraw', 670), ('deposit', 10), ...]\n",
    "```\n",
    "\n",
    "Look for `...` to guide you to where you need to write your code."
   ]
  },
  {
   "metadata": {},
   "cell_type": "code",
   "outputs": [],
   "execution_count": null,
   "source": [
    "class Account:\n",
    "    \n",
    "    \"\"\"A class that represents a personal bank account.\"\"\"\n",
    "    \n",
    "    def __init__(self, name, balance):\n",
    "        \"\"\"\n",
    "        (self, str, number) -> None\n",
    "        Initializes a new bank account.\n",
    "        \"\"\"\n",
    "        self.name = name\n",
    "        self.balance = balance\n",
    "        self.transactions = []\n",
    "        \n",
    "    def deposit(self, amount):\n",
    "        \"\"\"\n",
    "        (Account, number) -> None\n",
    "        Adds amount to balance.\n",
    "        \"\"\"\n",
    "        self.balance += amount\n",
    "        self.transactions.append(('deposit', amount))\n",
    "        self.print_balance()\n",
    "            \n",
    "    def withdraw(self, amount):\n",
    "        \"\"\"\n",
    "        (Account, number) -> None\n",
    "        Subtracts amount from balance.\n",
    "        \"\"\"\n",
    "        self.balance -= amount\n",
    "        self.transactions.append(('withdraw', amount))\n",
    "        self.print_balance()\n",
    "        \n",
    "    def print_balance(self):\n",
    "        \"\"\"\n",
    "        (Account) -> None\n",
    "        Prints the account balance.\n",
    "        \"\"\"\n",
    "        print(\"Account balance is ${}.\".format(self.balance))\n",
    "        \n",
    "    def print_transactions(self):\n",
    "        \"\"\"\n",
    "        (Account) -> None\n",
    "        Prints all transactions.\n",
    "        \"\"\"\n",
    "        for transaction_type, amount in self.transactions:\n",
    "            print('{}: ${}'.format(transaction_type.capitalize(), amount))"
   ]
  },
  {
   "metadata": {},
   "cell_type": "markdown",
   "source": "Let's create an account to test out new method."
  },
  {
   "metadata": {},
   "cell_type": "code",
   "outputs": [],
   "execution_count": null,
   "source": [
    "sebs_account = Account('Sebastian', 500)\n",
    "sebs_account.withdraw(200)\n",
    "sebs_account.withdraw(100)\n",
    "sebs_account.deposit(1000)\n",
    "sebs_account.deposit(52)\n",
    "sebs_account.withdraw(10)\n",
    "sebs_account.deposit(98)\n",
    "sebs_account.deposit(456)"
   ]
  },
  {
   "metadata": {},
   "cell_type": "markdown",
   "source": "Now, let's print out transactions."
  },
  {
   "metadata": {},
   "cell_type": "code",
   "outputs": [],
   "execution_count": null,
   "source": "sebs_account.print_transactions()"
  },
  {
   "metadata": {},
   "cell_type": "markdown",
   "source": "And we can look at the attribute."
  },
  {
   "metadata": {},
   "cell_type": "code",
   "outputs": [],
   "execution_count": null,
   "source": "print(sebs_account.transactions)"
  },
  {
   "metadata": {},
   "cell_type": "markdown",
   "source": "#### 2. Can't deposit negative amounts"
  },
  {
   "metadata": {},
   "cell_type": "code",
   "outputs": [],
   "execution_count": null,
   "source": [
    "class Account:\n",
    "    \n",
    "    \"\"\"A class that represents a personal bank account.\"\"\"\n",
    "    \n",
    "    def __init__(self, name, balance):\n",
    "        \"\"\"\n",
    "        (Account, str, number) -> None\n",
    "        Initializes a new bank account.\n",
    "        \"\"\"\n",
    "        self.name = name\n",
    "        self.balance = balance\n",
    "        self.transactions = []\n",
    "        \n",
    "    def deposit(self, amount):\n",
    "        \"\"\"\n",
    "        (Account, number) -> None\n",
    "        Adds amount to balance.\n",
    "        \"\"\"\n",
    "        if amount > 0:\n",
    "            self.balance += amount\n",
    "            self.transactions.append(('deposit', amount))\n",
    "            self.print_balance()\n",
    "        else:\n",
    "            print(\"You cannot deposit a negative amount\")\n",
    "            \n",
    "    def withdraw(self, amount):\n",
    "        \"\"\"\n",
    "        (Account, number) -> None\n",
    "        Subtracts amount from balance.\n",
    "        \"\"\"\n",
    "        self.balance -= amount\n",
    "        self.transactions.append(('withdraw', amount))\n",
    "        self.print_balance()\n",
    "        \n",
    "    def print_balance(self):\n",
    "        \"\"\"\n",
    "        (Account) -> None\n",
    "        Prints the account balance.\n",
    "        \"\"\"\n",
    "        print(\"Account balance is ${}.\".format(self.balance))\n",
    "        \n",
    "    def print_transactions(self):\n",
    "        \"\"\"\n",
    "        (Account) -> None\n",
    "        Prints all transactions.\n",
    "        \"\"\"\n",
    "        for transaction_type, amount in self.transactions:\n",
    "            print('{}: ${}'.format(transaction_type.capitalize(), amount))"
   ]
  },
  {
   "metadata": {},
   "cell_type": "markdown",
   "source": "Let's create an account to test out new method."
  },
  {
   "metadata": {},
   "cell_type": "code",
   "outputs": [],
   "execution_count": null,
   "source": "sebs_account = Account('Sebastian', 500)"
  },
  {
   "metadata": {},
   "cell_type": "markdown",
   "source": "Now, let's add -500 dollars to my account."
  },
  {
   "metadata": {},
   "cell_type": "code",
   "outputs": [],
   "execution_count": null,
   "source": "sebs_account.deposit(-500)"
  },
  {
   "metadata": {},
   "cell_type": "code",
   "outputs": [],
   "execution_count": null,
   "source": "sebs_account.balance"
  },
  {
   "metadata": {},
   "cell_type": "markdown",
   "source": [
    "<a id='section7'></a>\n",
    "## Breakout Session 1\n",
    "#### 3. Can't withdraw a negative amount or an amount great than the balance"
   ]
  },
  {
   "metadata": {},
   "cell_type": "code",
   "outputs": [],
   "execution_count": null,
   "source": [
    "class Account:\n",
    "    \n",
    "    \"\"\"A class that represents a personal bank account.\"\"\"\n",
    "    \n",
    "    def __init__(self, name, balance):\n",
    "        \"\"\"\n",
    "        (Account, str, number) -> None\n",
    "        Initializes a new bank account.\n",
    "        \"\"\"\n",
    "        self.name = name\n",
    "        self.balance = balance\n",
    "        self.transactions = []\n",
    "        \n",
    "    def deposit(self, amount):\n",
    "        \"\"\"\n",
    "        (Account, number) -> None\n",
    "        Adds amount to balance.\n",
    "        \"\"\"\n",
    "        if amount > 0:\n",
    "            self.balance += amount\n",
    "            self.transactions.append(('deposit', amount))\n",
    "            self.print_balance()\n",
    "        else:\n",
    "            print(\"You can't deposit a negative amount\")\n",
    "            \n",
    "    def withdraw(self, amount):\n",
    "        \"\"\"\n",
    "        (Account, number) -> None\n",
    "        Subtracts amount from balance.\n",
    "        \"\"\"\n",
    "        if amount <= self.balance and amount > 0:\n",
    "            self.balance -= amount\n",
    "            self.transactions.append(('withdraw', amount))\n",
    "            self.print_balance()\n",
    "        else:\n",
    "            print(\"you cannot wirthdraw more than you balance or a negative amount\")\n",
    "        \n",
    "    def print_balance(self):\n",
    "        \"\"\"\n",
    "        (Account) -> None\n",
    "        Prints the account balance.\n",
    "        \"\"\"\n",
    "        print(\"Account balance is ${}.\".format(self.balance))\n",
    "        \n",
    "    def print_transactions(self):\n",
    "        \"\"\"\n",
    "        (Account) -> None\n",
    "        Prints all transactions.\n",
    "        \"\"\"\n",
    "        for transaction_type, amount in self.transactions:\n",
    "            print('{}: ${}'.format(transaction_type.capitalize(), amount))"
   ]
  },
  {
   "metadata": {},
   "cell_type": "markdown",
   "source": "Let's create an account to test out new method."
  },
  {
   "metadata": {},
   "cell_type": "code",
   "outputs": [],
   "execution_count": null,
   "source": "sebs_account = Account('Sebastian', 500)"
  },
  {
   "metadata": {},
   "cell_type": "markdown",
   "source": "Now, let's add -500 dollars to my account."
  },
  {
   "metadata": {},
   "cell_type": "code",
   "outputs": [],
   "execution_count": null,
   "source": "sebs_account.withdraw(1000)"
  },
  {
   "metadata": {},
   "cell_type": "code",
   "outputs": [],
   "execution_count": null,
   "source": ""
  }
 ],
 "metadata": {
  "kernelspec": {
   "display_name": "Python 3 (ipykernel)",
   "language": "python",
   "name": "python3"
  },
  "language_info": {
   "codemirror_mode": {
    "name": "ipython",
    "version": 3
   },
   "file_extension": ".py",
   "mimetype": "text/x-python",
   "name": "python",
   "nbconvert_exporter": "python",
   "pygments_lexer": "ipython3",
   "version": "3.11.5"
  }
 },
 "nbformat": 4,
 "nbformat_minor": 4
}
