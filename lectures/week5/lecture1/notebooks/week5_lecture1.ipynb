{
 "cells": [
  {
   "cell_type": "markdown",
   "metadata": {
    "collapsed": true
   },
   "source": [
    "# APS106 - Fundamentals of Computer Programming\n",
    "## Week 5 | Lecture 1 (5.1) - Debugging\n",
    "\n",
    "### This Week\n",
    "| Lecture | Topics | Reading |\n",
    "| --- | --- | --- | \n",
    "| 5.1 | Debugging | |\n",
    "| 5.2 | Objects & Strings: Operators and Methods | Chapter 7 |\n",
    "| 5.3 | Strings: Conversions, Indexing, Slicing, and Immutability | Chapter 7 | \n",
    "\n",
    "### Lecture Structure\n",
    "1. [Breakout Session 1](#section1)\n",
    "2. [Breakout Session 2](#section2)\n",
    "3. [Breakout Session 3](#section3)\n",
    "4. [Breakout Session 4](#section4)\n",
    "5. [Breakout Session 5](#section5)"
   ]
  },
  {
   "cell_type": "markdown",
   "metadata": {},
   "source": [
    "<a id='section1'></a>\n",
    "## 1. Breakout Session 1\n",
    "Write a program that will average 3 numeric exam grades, return an average test score, a corresponding letter grade, and a message stating whether the student is passing."
   ]
  },
  {
   "cell_type": "code",
   "execution_count": 62,
   "metadata": {
    "scrolled": true
   },
   "outputs": [
    {
     "ename": "SyntaxError",
     "evalue": "unmatched ')' (3262460166.py, line 3)",
     "output_type": "error",
     "traceback": [
      "\u001b[0;36m  File \u001b[0;32m\"/var/folders/mn/8vlvqnvd1gl1d04y6pbyzbhh0000gn/T/ipykernel_74151/3262460166.py\"\u001b[0;36m, line \u001b[0;32m3\u001b[0m\n\u001b[0;31m    exam_two = input(\"Input exam grade two: \"))\u001b[0m\n\u001b[0m                                              ^\u001b[0m\n\u001b[0;31mSyntaxError\u001b[0m\u001b[0;31m:\u001b[0m unmatched ')'\n"
     ]
    }
   ],
   "source": [
    "exam_one = int(input(\"Input exam grade one: \"))\n",
    "\n",
    "exam_two = input(\"Input exam grade two: \"))\n",
    "\n",
    "exam_3 = str(input(\"Input exam grade three: \"))\n",
    "\n",
    "sum = exam_one + exam_two + exam_3\n",
    "\n",
    "avg = sum / 3\n",
    "\n",
    "if avg >= 90:\n",
    "    letter_grade = \"A\"\n",
    "elif avg > 80 and avg < 90\n",
    "    letter_grade = \"A\"\n",
    "elif avg > 69 and avg < 80: \n",
    "    letter_grade = \"C'\n",
    "elif avg <= 69 and avg >= 65:\n",
    "    letter_grade = \"D\"\n",
    "elif:\n",
    "    letter_grade = \"F\"\n",
    "\n",
    "print(\"Exam 1: \" + str(exam_one))\n",
    "print(\"Exam 2: \" + str(exam_two))\n",
    "print(\"Exam 3: \" + str(exam_3))\n",
    "print(\"Average: \" + str(avg))\n",
    "print(\"Grade: \" + letter_grade)\n",
    "\n",
    "if letter-grade is \"F\":\n",
    "    print \"Student is failing.\"\n",
    "else:\n",
    "    print \"Student is passing.\""
   ]
  },
  {
   "cell_type": "markdown",
   "metadata": {},
   "source": [
    "<a id='section2'></a>\n",
    "## 2. Breakout Session 2\n",
    "You are going shopping for meat and milk, but there is tax. You buy 3.00 dollars of milk and 4.00 dollars of meat, and the tax rate is 13%. Print out the total value of your groceries (you don't need to print the dollar sign).\n",
    "\n",
    "**Remember**, it's important to know what the expected output is! Do it by hand (or with your phone calculator) first!"
   ]
  },
  {
   "cell_type": "code",
   "execution_count": 47,
   "metadata": {},
   "outputs": [
    {
     "ename": "TypeError",
     "evalue": "can't multiply sequence by non-int of type 'float'",
     "output_type": "error",
     "traceback": [
      "\u001b[0;31m---------------------------------------------------------------------------\u001b[0m",
      "\u001b[0;31mTypeError\u001b[0m                                 Traceback (most recent call last)",
      "\u001b[0;32m/var/folders/mn/8vlvqnvd1gl1d04y6pbyzbhh0000gn/T/ipykernel_74151/2036911974.py\u001b[0m in \u001b[0;36m<module>\u001b[0;34m\u001b[0m\n\u001b[1;32m      1\u001b[0m \u001b[0mmeat_price\u001b[0m \u001b[0;34m=\u001b[0m \u001b[0;34m'$4.00'\u001b[0m\u001b[0;34m\u001b[0m\u001b[0;34m\u001b[0m\u001b[0m\n\u001b[0;32m----> 2\u001b[0;31m \u001b[0mmeat_tax\u001b[0m \u001b[0;34m=\u001b[0m \u001b[0;36m0.13\u001b[0m \u001b[0;34m*\u001b[0m \u001b[0mmilk_price\u001b[0m\u001b[0;34m\u001b[0m\u001b[0;34m\u001b[0m\u001b[0m\n\u001b[0m\u001b[1;32m      3\u001b[0m \u001b[0mmilk_price\u001b[0m \u001b[0;34m=\u001b[0m \u001b[0;34m'$2.00'\u001b[0m\u001b[0;34m\u001b[0m\u001b[0;34m\u001b[0m\u001b[0m\n\u001b[1;32m      4\u001b[0m \u001b[0mmilk_tax\u001b[0m \u001b[0;34m=\u001b[0m \u001b[0;36m0.13\u001b[0m \u001b[0;34m*\u001b[0m \u001b[0mmilk_price\u001b[0m\u001b[0;34m\u001b[0m\u001b[0;34m\u001b[0m\u001b[0m\n\u001b[1;32m      5\u001b[0m \u001b[0mprint\u001b[0m\u001b[0;34m(\u001b[0m\u001b[0mmeat_tax\u001b[0m \u001b[0;34m+\u001b[0m \u001b[0mmeat_price\u001b[0m \u001b[0;34m+\u001b[0m \u001b[0mmilk_tax\u001b[0m \u001b[0;34m+\u001b[0m \u001b[0mmeat_price\u001b[0m\u001b[0;34m)\u001b[0m\u001b[0;34m\u001b[0m\u001b[0;34m\u001b[0m\u001b[0m\n",
      "\u001b[0;31mTypeError\u001b[0m: can't multiply sequence by non-int of type 'float'"
     ]
    }
   ],
   "source": [
    "meat_price = '$4.00'\n",
    "meat_tax = 0.13 * milk_price\n",
    "milk_price = '$2.00'\n",
    "milk_tax = 0.13 * milk_price\n",
    "print(meat_tax + meat_price + milk_tax + meat_price)"
   ]
  },
  {
   "cell_type": "markdown",
   "metadata": {},
   "source": [
    "<a id='section3'></a>\n",
    "## 3. Breakout Session 3\n",
    "Imagine we are running a space station. Your job is to evaluate the station's code and fix any errors. \n",
    "\n",
    "You must:\n",
    "- Launch the shuttle only if the fuel, crew and computer all check out OK.\n",
    "- If a check fails, print that information to the console and scrub the launch.\n",
    "- If all checks are successful, print a countdown to launch in the console."
   ]
  },
  {
   "cell_type": "code",
   "execution_count": 52,
   "metadata": {},
   "outputs": [
    {
     "ename": "SyntaxError",
     "evalue": "unmatched ')' (1924649175.py, line 10)",
     "output_type": "error",
     "traceback": [
      "\u001b[0;36m  File \u001b[0;32m\"/var/folders/mn/8vlvqnvd1gl1d04y6pbyzbhh0000gn/T/ipykernel_74151/1924649175.py\"\u001b[0;36m, line \u001b[0;32m10\u001b[0m\n\u001b[0;31m    print('WARNING: Insufficient fuel!'))\u001b[0m\n\u001b[0m                                        ^\u001b[0m\n\u001b[0;31mSyntaxError\u001b[0m\u001b[0;31m:\u001b[0m unmatched ')'\n"
     ]
    }
   ],
   "source": [
    "launch_ready = False\n",
    "fuel_level = 17000\n",
    "crew_status = True\n",
    "computer_status = 'green'\n",
    "\n",
    "if fuel_level >= 20000:\n",
    "    print('Fuel Level Cleared.')\n",
    "    lunch_ready == True\n",
    "else:\n",
    "    print('WARNING: Insufficient fuel!'))\n",
    "    \n",
    "if crew_status is True and computerstatus == 'green':\n",
    "    print('Crew and computer cleared.')\n",
    "    launch_ready == True\n",
    "else:\n",
    "    print('WARNING: Crew or computer not ready!')\n",
    "    \n",
    "if launch_ready is True:\n",
    "    print('10, 9, 8, 7, 6, 5, 4, 3, 2, 1...')\n",
    "    print('Liftoff!')\n",
    "else:\n",
    "    print('Launch cancelled.')"
   ]
  },
  {
   "cell_type": "markdown",
   "metadata": {},
   "source": [
    "<a id='section4'></a>\n",
    "## 4. Breakout Session 4\n",
    "Create an algorithm that estimates the square root of a value.  Use it to find a good approximation of the square root of 200. If your result is x, x^2 should NOT be greater than 200"
   ]
  },
  {
   "cell_type": "code",
   "execution_count": 45,
   "metadata": {},
   "outputs": [
    {
     "name": "stdout",
     "output_type": "stream",
     "text": [
      "15\n",
      "225\n"
     ]
    }
   ],
   "source": [
    "x = 0\n",
    "while x^2 < 200:  #while x^2 is less than 200\n",
    "    x = x + 1   #increase x by 1\n",
    "print(x)"
   ]
  },
  {
   "cell_type": "markdown",
   "metadata": {},
   "source": [
    "<a id='section5'></a>\n",
    "## 5. Breakout Session 5\n",
    "Calculation of the deflection of a beam. Find and correct the errors in the following code.  The complete formula can be found in Week 1 Lecture 3."
   ]
  },
  {
   "cell_type": "code",
   "execution_count": 46,
   "metadata": {
    "scrolled": true
   },
   "outputs": [
    {
     "ename": "SyntaxError",
     "evalue": "invalid syntax (1155739092.py, line 6)",
     "output_type": "error",
     "traceback": [
      "\u001b[0;36m  File \u001b[0;32m\"/var/folders/mn/8vlvqnvd1gl1d04y6pbyzbhh0000gn/T/ipykernel_74151/1155739092.py\"\u001b[0;36m, line \u001b[0;32m6\u001b[0m\n\u001b[0;31m    delta_max = Pa**2/6*E*I*(3l-a)\u001b[0m\n\u001b[0m                              ^\u001b[0m\n\u001b[0;31mSyntaxError\u001b[0m\u001b[0;31m:\u001b[0m invalid syntax\n"
     ]
    }
   ],
   "source": [
    "P = 100           # Force applied in Newtons\n",
    "a = 6             # Distance in m to the force\n",
    "l = 13            # Total length of beam\n",
    "E = 2.0685e11     # Young’s modulus in Pa\n",
    "I = 0.005208      # Moment of inertia in m^4\n",
    "delta_max = Pa**2/6*E*I*(3l-a)"
   ]
  }
 ],
 "metadata": {
  "kernelspec": {
   "display_name": "Python 3 (ipykernel)",
   "language": "python",
   "name": "python3"
  },
  "language_info": {
   "codemirror_mode": {
    "name": "ipython",
    "version": 3
   },
   "file_extension": ".py",
   "mimetype": "text/x-python",
   "name": "python",
   "nbconvert_exporter": "python",
   "pygments_lexer": "ipython3",
   "version": "3.9.7"
  }
 },
 "nbformat": 4,
 "nbformat_minor": 1
}
