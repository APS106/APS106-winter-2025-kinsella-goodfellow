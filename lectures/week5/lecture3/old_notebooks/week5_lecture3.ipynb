{
 "cells": [
  {
   "metadata": {},
   "cell_type": "markdown",
   "source": "#### 🎸 \"Things and Strings\" 🎵 - $250",
   "id": "60fbc0c3f365b428"
  },
  {
   "cell_type": "code",
   "id": "4cc699d4",
   "metadata": {
    "jupyter": {
     "is_executing": true
    }
   },
   "source": [
    "# What is the output?\n",
    "\n",
    "string_a = \"What a lovely day today!\"\n",
    "print(string_a[5:-5])"
   ],
   "outputs": [],
   "execution_count": null
  },
  {
   "metadata": {},
   "cell_type": "markdown",
   "source": "#### 🎸 \"Things and Strings\" 🎵 - $500",
   "id": "60af9d562d439df1"
  },
  {
   "metadata": {
    "jupyter": {
     "is_executing": true
    }
   },
   "cell_type": "code",
   "source": [
    "# What is the output?\n",
    "\n",
    "string_b = \"Going to do awesome on my midterm!\"\n",
    "string_b = string_b.upper()\n",
    "string_b.lower()\n",
    "string_b = string_b[5:0:-2]\n",
    "print(string_b)"
   ],
   "id": "5f459630424563b8",
   "outputs": [],
   "execution_count": null
  },
  {
   "metadata": {},
   "cell_type": "markdown",
   "source": "#### 🎸 \"Things and Strings\" 🎵 - $1000",
   "id": "b5342f01c93fc59d"
  },
  {
   "metadata": {
    "jupyter": {
     "is_executing": true
    }
   },
   "cell_type": "code",
   "source": [
    "# Provide the print statement that will give this output?\n",
    "\n",
    "my_name = \"Joseph\"\n",
    "for i in range(len(my_name)):\n",
    "    print(my_name[i])"
   ],
   "id": "6d7220a4a6b6b1a3",
   "outputs": [],
   "execution_count": null
  },
  {
   "metadata": {},
   "cell_type": "markdown",
   "source": "#### 🔄 Time to compare and get loopy 🔁 - $250",
   "id": "908f98546dfcfe56"
  },
  {
   "metadata": {},
   "cell_type": "code",
   "outputs": [],
   "execution_count": null,
   "source": [
    "# What are the values of var1 and var2 after the following code segment is executed and the while loop finished?\n",
    "\n",
    "var1 = 0;\n",
    "var2 = 2;\n",
    "\n",
    "while ((var2!=0)) and ((var1 / var2) >= 0)):\n",
    "    var1 = var1 + 1;\n",
    "    var2 = var2 - 1;"
   ],
   "id": "2c4d67eda01e802f"
  },
  {
   "metadata": {},
   "cell_type": "markdown",
   "source": "#### 🔄 Time to compare and get loopy 🔁 - $500",
   "id": "81d24583a78e8ce7"
  },
  {
   "metadata": {
    "jupyter": {
     "is_executing": true
    }
   },
   "cell_type": "code",
   "source": [
    "# what is the output?\n",
    "\n",
    "print(\"John\" > \"Jhon\")\n",
    "print(\"Emma\" < \"Emm\")"
   ],
   "id": "a5d4915ff9bb62e0",
   "outputs": [],
   "execution_count": null
  },
  {
   "metadata": {},
   "cell_type": "markdown",
   "source": "#### 🔄 Time to compare and get loopy 🔁 - $1000",
   "id": "db1cf9f9c738992b"
  },
  {
   "cell_type": "code",
   "id": "6b25f173",
   "metadata": {
    "jupyter": {
     "is_executing": true
    }
   },
   "source": [
    "# The following code contains an infinite loop. Which is the best explanation for why the loop does not terminate?\n",
    "\n",
    "n = 10\n",
    "answer = 1\n",
    "while n > 0:\n",
    "    answer = answer + n\n",
    "    n = n + 1\n",
    "print (answer)"
   ],
   "outputs": [],
   "execution_count": null
  },
  {
   "metadata": {},
   "cell_type": "markdown",
   "source": "#### 🤖 To AND OR NOT to AND 🧠 - $250",
   "id": "bcded41764f4fd29"
  },
  {
   "cell_type": "code",
   "execution_count": 11,
   "id": "9abcb1bc",
   "metadata": {},
   "outputs": [
    {
     "name": "stdout",
     "output_type": "stream",
     "text": [
      "50\n"
     ]
    }
   ],
   "source": [
    "# What is the output?\n",
    "\n",
    "x = 100\n",
    "y = 50\n",
    "print (x and y)"
   ]
  },
  {
   "metadata": {},
   "cell_type": "markdown",
   "source": "#### 🤖 To AND OR NOT to AND 🧠 - $500",
   "id": "1716b911a1689147"
  },
  {
   "cell_type": "code",
   "id": "185a638d",
   "metadata": {
    "jupyter": {
     "is_executing": true
    }
   },
   "source": [
    "# What is the output?\n",
    "\n",
    "x = 10\n",
    "y = 50\n",
    "if x ** 2 > 100 and y < 100:\n",
    "    print (x,y)"
   ],
   "outputs": [],
   "execution_count": null
  },
  {
   "metadata": {},
   "cell_type": "markdown",
   "source": "#### 🤖 To AND OR NOT to AND 🧠 - $1000",
   "id": "b8f2ec1341fc783e"
  },
  {
   "metadata": {
    "jupyter": {
     "is_executing": true
    }
   },
   "cell_type": "code",
   "source": [
    "# Which of the following evaluates to True when a is equal to b or when a is equal to 5?\n",
    "\n",
    "a = ...\n",
    "b = ...\n",
    "print(a == b == 5)\n",
    "print(a = b or a = 5)\n",
    "print(a == b or a == 5)\n",
    "print(a = b and a = 5)\n",
    "print(a == b or a == 5)"
   ],
   "id": "7e809e7a01fb95cc",
   "outputs": [],
   "execution_count": null
  },
  {
   "metadata": {},
   "cell_type": "markdown",
   "source": "#### 🎭 Get func-y with it 🎶 - $250",
   "id": "706a38985873a9ea"
  },
  {
   "metadata": {
    "jupyter": {
     "is_executing": true
    }
   },
   "cell_type": "code",
   "source": [
    "# What is the outcome of executing the code above?\n",
    "\n",
    "def power3(num):\n",
    "    print(num**3)\n",
    "\n",
    "result1 = power3(5)\n",
    "result2 = result1 + 1"
   ],
   "id": "574809ddb519f9c4",
   "outputs": [],
   "execution_count": null
  },
  {
   "metadata": {},
   "cell_type": "markdown",
   "source": "#### 🎭 Get func-y with it 🎶 - $500",
   "id": "c6686c151de1ea2"
  },
  {
   "metadata": {
    "jupyter": {
     "is_executing": true
    }
   },
   "cell_type": "code",
   "source": [
    "# What is the output?\n",
    "\n",
    "def howbig(n):\n",
    "    if n > 190:\n",
    "        return \"It's huge.\"\n",
    "    elif n > 160:\n",
    "        return \"It's pretty big.\"\n",
    "    else:\n",
    "        return \"It's not so big.\"\n",
    "\n",
    "print(howbig(195))"
   ],
   "id": "597b6e97d4dab2a8",
   "outputs": [],
   "execution_count": null
  },
  {
   "metadata": {},
   "cell_type": "markdown",
   "source": "#### 🎭 Get func-y with it 🎶 - $1000",
   "id": "45b8cf94db492a72"
  },
  {
   "metadata": {},
   "cell_type": "code",
   "outputs": [],
   "execution_count": null,
   "source": [
    "# What could be the missing function body from the options:\n",
    "\n",
    "def whatlocation(country):\n",
    "    # print(country)\n",
    "    # return country\n",
    "\n",
    "location = whatlocation('Canada')\n",
    "print(location)"
   ],
   "id": "6ad06fdd4938dfdf"
  },
  {
   "metadata": {},
   "cell_type": "markdown",
   "source": "#### Err-ing on the side of caution - $250",
   "id": "93f463e693949a2a"
  },
  {
   "metadata": {
    "jupyter": {
     "is_executing": true
    }
   },
   "cell_type": "code",
   "source": [
    "# A program runs and during running is asked to divide by zero, the program crashes. This is an example of?\n",
    "\n",
    "print(4/0)"
   ],
   "id": "43eed43bed35aeac",
   "outputs": [],
   "execution_count": null
  },
  {
   "metadata": {},
   "cell_type": "markdown",
   "source": "#### Err-ing on the side of caution - $500",
   "id": "93801978e4c66c7b"
  },
  {
   "metadata": {},
   "cell_type": "code",
   "outputs": [],
   "execution_count": null,
   "source": [
    "# What will the output be from the following code?\n",
    "\n",
    "print(9/3)"
   ],
   "id": "770fd48610020462"
  },
  {
   "metadata": {},
   "cell_type": "markdown",
   "source": "#### Err-ing on the side of caution - $1000",
   "id": "9ac85334e71b8c61"
  },
  {
   "metadata": {
    "jupyter": {
     "is_executing": true
    }
   },
   "cell_type": "code",
   "source": [
    "# A user inputs \"Ottawa\" and receives the response \"You are ignorant\". What kind of error is that?\n",
    "\n",
    "ans = input(\"The capital of Canada is? \")\n",
    "if ans == \"Ottawa\":\n",
    "    print(\"You are wise\")\n",
    "else:\n",
    "    print(\"You are ignorant\")"
   ],
   "id": "a0cca985d84a7788",
   "outputs": [],
   "execution_count": null
  },
  {
   "metadata": {},
   "cell_type": "markdown",
   "source": "#### States of Matter",
   "id": "f8419438ffdc5d94"
  },
  {
   "cell_type": "code",
   "execution_count": null,
   "id": "c0ebef12",
   "metadata": {},
   "outputs": [],
   "source": [
    "# Water exists in three states- solid, liquid, and gaseous. \n",
    "# Based on the temperature of the water given as an integer in the input, \n",
    "# determine the state of water. The temperature will be given in \n",
    "# Celsius degrees.\n",
    "\n",
    "# use any one of these three\n",
    "\n",
    "def water_phase_1(temp):\n",
    "    '''\n",
    "    (number) -> string\n",
    "    Returns a string corresponding to the state of water at temp degrees\n",
    "    celsius\n",
    "    '''\n",
    "    if temp > 100:\n",
    "        return \"Steam\"\n",
    "    elif temp > 0:\n",
    "        return \"Liquid\"\n",
    "    else:\n",
    "        return \"Ice, ice, baby\"\n",
    "    \n",
    "def water_phase_2(temp):\n",
    "    '''\n",
    "    (number) -> string\n",
    "    Returns a string corresponding to the state of water at temp degrees\n",
    "    celsius\n",
    "    '''\n",
    "    \n",
    "    if temp <= 0:\n",
    "        return \"Ice, ice, baby\"\n",
    "    elif degrees <= 100:\n",
    "        return \"Liquid\"\n",
    "    else:\n",
    "        return \"Steam\"\n",
    "\n",
    "def water_phase_3(temp):\n",
    "    '''\n",
    "    (number) -> string\n",
    "    Returns a string corresponding to the state of water at temp degrees\n",
    "    celsius\n",
    "    '''\n",
    "    \n",
    "    state = \"Ice, ice, baby\"\n",
    "    if degrees > 100:\n",
    "        state = \"Steam\"\n",
    "    elif degrees > 0:\n",
    "        state = \"Liquid\"\n",
    "    # why don't I need an else?\n",
    "    \n",
    "    return state\n",
    "    \n",
    "\n",
    "degrees = int(input(\"Enter a temperature in Celsius: \"))\n",
    "\n",
    "print(water_phase_1(degrees))\n",
    "print(water_phase_2(degrees))\n",
    "print(water_phase_3(degrees))\n"
   ]
  }
 ],
 "metadata": {
  "kernelspec": {
   "display_name": "Python 3 (ipykernel)",
   "language": "python",
   "name": "python3"
  },
  "language_info": {
   "codemirror_mode": {
    "name": "ipython",
    "version": 3
   },
   "file_extension": ".py",
   "mimetype": "text/x-python",
   "name": "python",
   "nbconvert_exporter": "python",
   "pygments_lexer": "ipython3",
   "version": "3.8.12"
  }
 },
 "nbformat": 4,
 "nbformat_minor": 5
}
