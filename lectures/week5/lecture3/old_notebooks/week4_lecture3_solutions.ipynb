{
 "cells": [
  {
   "cell_type": "code",
   "execution_count": null,
   "id": "5f6a34ca",
   "metadata": {},
   "outputs": [],
   "source": [
    "var1 = 0;\n",
    "var2 = 2;\n",
    "\n",
    "while((var2!=0) and ((var1 / var2) >= 0)):\n",
    "    var1 = var1 + 1\n",
    "    var2 = var2 - 1\n",
    "\n",
    "print (var1, var2)"
   ]
  },
  {
   "cell_type": "code",
   "execution_count": null,
   "id": "d02795a8",
   "metadata": {},
   "outputs": [],
   "source": [
    "x = 100\n",
    "y = 50\n",
    "print (x and y)"
   ]
  },
  {
   "cell_type": "code",
   "execution_count": null,
   "id": "2f8dc0b8",
   "metadata": {},
   "outputs": [],
   "source": [
    "x = 10\n",
    "y = 50\n",
    "if x ** 2 > 100 and y < 100:\n",
    "    print (x,y)"
   ]
  },
  {
   "cell_type": "code",
   "execution_count": null,
   "id": "41b09951",
   "metadata": {},
   "outputs": [],
   "source": [
    "def f(n):\n",
    "    return n-3\n",
    "\n",
    "x = 4\n",
    "while x > 0:\n",
    "    x = f(x)"
   ]
  },
  {
   "cell_type": "code",
   "execution_count": null,
   "id": "ebc557ac",
   "metadata": {},
   "outputs": [],
   "source": [
    "x = 0\n",
    "while x < 10:\n",
    "    x *= 2\n",
    "    x -= 1"
   ]
  },
  {
   "cell_type": "code",
   "execution_count": null,
   "id": "a89e8a11",
   "metadata": {},
   "outputs": [],
   "source": [
    "counter = 1\n",
    "time = 60 * counter\n",
    "counter += 1\n",
    "time = 60 * counter\n",
    "time"
   ]
  },
  {
   "cell_type": "code",
   "execution_count": 1,
   "id": "438d478d",
   "metadata": {},
   "outputs": [
    {
     "data": {
      "text/plain": [
       "6"
      ]
     },
     "execution_count": 1,
     "metadata": {},
     "output_type": "execute_result"
    }
   ],
   "source": [
    "length = 3\n",
    "height = 2\n",
    "area = length * height\n",
    "height = 4\n",
    "area"
   ]
  },
  {
   "cell_type": "code",
   "execution_count": null,
   "id": "d52ccef9",
   "metadata": {},
   "outputs": [],
   "source": [
    "grade1 = 50\n",
    "grade2 = 100\n",
    "\n",
    "if grade2 >= 50:\n",
    "    print('You passed a course with grade: ', grade2)\n",
    "elif grade1 >= 50:\n",
    "    print('You passed a course with grade: ', grade1)"
   ]
  },
  {
   "cell_type": "code",
   "execution_count": null,
   "id": "9198eecb",
   "metadata": {},
   "outputs": [],
   "source": [
    "def f(n):\n",
    "    return 3 - n\n",
    "\n",
    "def g(n):\n",
    "    return 5 * n\n",
    "\n",
    "def h(n):\n",
    "    return 2 * n\n",
    "\n",
    "def doto(value, func):\n",
    "    if func == \"f\":\n",
    "        return f(value)\n",
    "    elif func == \"g\":\n",
    "        return g(value)\n",
    "    return h(value)\n",
    "\n",
    "print(doto(doto(2, \"g\"), \"r\") + doto(2, \"f\"))"
   ]
  },
  {
   "cell_type": "code",
   "execution_count": null,
   "id": "15262984",
   "metadata": {},
   "outputs": [],
   "source": []
  },
  {
   "cell_type": "code",
   "execution_count": null,
   "id": "298251a3",
   "metadata": {},
   "outputs": [],
   "source": []
  },
  {
   "cell_type": "code",
   "execution_count": null,
   "id": "1ca15c89",
   "metadata": {},
   "outputs": [],
   "source": []
  },
  {
   "cell_type": "code",
   "execution_count": null,
   "id": "3c12edb4",
   "metadata": {},
   "outputs": [],
   "source": []
  },
  {
   "cell_type": "code",
   "execution_count": null,
   "id": "4e0604bd",
   "metadata": {},
   "outputs": [],
   "source": []
  },
  {
   "cell_type": "code",
   "execution_count": null,
   "id": "44c9d64e",
   "metadata": {},
   "outputs": [],
   "source": []
  },
  {
   "cell_type": "code",
   "execution_count": null,
   "id": "d5b81fb0",
   "metadata": {},
   "outputs": [],
   "source": []
  },
  {
   "cell_type": "code",
   "execution_count": null,
   "id": "337f34e6",
   "metadata": {},
   "outputs": [],
   "source": [
    "# Write a function that evaluates tanh-1(x) from the series\n",
    "#\n",
    "# tanh-1(x) = x + x3/3 + x5/5 + x7/7 + x9/9 + ...\n",
    "#\n",
    "# where x < 1.0 and x > -1.0.  The function should take x and, epsilon, \n",
    "# and return the estimate when the absolute value of the next term is the \n",
    "# series is less than epsilon. \n",
    "\n",
    "\n",
    "def estimate_tanh_inv(x, epsilon):\n",
    "    '''(float, int) -> float\n",
    "    Returns an estimate of tanh^-1 based on the series:\n",
    "    tanh-1(x) = x + x3/3 + x5/5 + x7/7 + x9/9 + ...\n",
    "    Stops when the estimate is with next item is the series is less than\n",
    "    or equal to epsilon\n",
    "    '''\n",
    "    tanh_inv = 0\n",
    "    term = x\n",
    "    num = 3\n",
    "    while abs(term) > epsilon:\n",
    "        #print(term, num)\n",
    "        tanh_inv += term\n",
    "        term = x**num/num\n",
    "        num += 2\n",
    "        \n",
    "    return tanh_inv\n",
    "\n",
    "x = -2\n",
    "while x < -1.0 or x > 1.0:\n",
    "    x = float(input(\"Enter x between -1 and 1: \"))\n",
    "    eps = float(input(\"Enter epsilon: \"))\n",
    "\n",
    "tanh_inv = estimate_tanh_inv(x,eps)\n",
    "print(\"tanh-1(\", x, \") = \", tanh_inv, sep=\"\")\n",
    "\n"
   ]
  },
  {
   "cell_type": "code",
   "execution_count": null,
   "id": "2498fadf",
   "metadata": {},
   "outputs": [],
   "source": []
  }
 ],
 "metadata": {
  "kernelspec": {
   "display_name": "Python 3 (ipykernel)",
   "language": "python",
   "name": "python3"
  },
  "language_info": {
   "codemirror_mode": {
    "name": "ipython",
    "version": 3
   },
   "file_extension": ".py",
   "mimetype": "text/x-python",
   "name": "python",
   "nbconvert_exporter": "python",
   "pygments_lexer": "ipython3",
   "version": "3.11.6"
  }
 },
 "nbformat": 4,
 "nbformat_minor": 5
}
