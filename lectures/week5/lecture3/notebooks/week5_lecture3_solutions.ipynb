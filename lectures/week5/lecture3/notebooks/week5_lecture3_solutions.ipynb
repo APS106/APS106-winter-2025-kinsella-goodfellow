{
  "cells": [
    {
      "cell_type": "markdown",
      "source": [
        "# APS106 - MIDTERM REVIEW\n"
      ],
      "metadata": {
        "id": "WSGF5MaO5oY6"
      },
      "id": "WSGF5MaO5oY6"
    },
    {
      "cell_type": "markdown",
      "source": [
        "### Table of Contents"
      ],
      "metadata": {
        "id": "g6dLm1Wv5yP6"
      },
      "id": "g6dLm1Wv5yP6"
    },
    {
      "cell_type": "markdown",
      "source": [
        ">[🌀 STRANGER STRINGS](#scrollTo=ZbyCI7OszN3l)\n",
        "\n",
        ">>>>[🧪 Hawkins Lab Experiment - $250](#scrollTo=60fbc0c3f365b428)\n",
        "\n",
        ">>>>[📡 Dustin’s Secret Transmission - $500](#scrollTo=60af9d562d439df1)\n",
        "\n",
        ">>>>[🎭 Not everyone is who they seem - $1000](#scrollTo=b5342f01c93fc59d)\n",
        "\n",
        ">[🎮 Loop Wars](#scrollTo=kCUUfYfbzsJS)\n",
        "\n",
        ">>>>[💀 Loops of the Sith - $250](#scrollTo=db1cf9f9c738992b)\n",
        "\n",
        ">>>>[⚡ Descent into Darkness - $500](#scrollTo=81d24583a78e8ce7)\n",
        "\n",
        ">>>>[⚔️ \"Battle of Loops: The Files of Fate\" - $1000](#scrollTo=908f98546dfcfe56)\n",
        "\n",
        ">[🤖 The Boolean Identity](#scrollTo=2pesKr50zzax)\n",
        "\n",
        ">>>>[🕶 Agent Smith’s Logic Trap - $250](#scrollTo=1716b911a1689147)\n",
        "\n",
        ">>>>[💊 The Pill Dillema - $500](#scrollTo=bcded41764f4fd29)\n",
        "\n",
        ">>>>[☝️ The One Condition - $1000](#scrollTo=b8f2ec1341fc783e)\n",
        "\n",
        ">[🦇 The Batcode Rises](#scrollTo=G1ttEqpPz3bY)\n",
        "\n",
        ">>>>[💪 True power of the Dark Knight - $250](#scrollTo=706a38985873a9ea)\n",
        "\n",
        ">>>>[🃏 The Dark Knight’s Moral Code - $500](#scrollTo=c6686c151de1ea2)\n",
        "\n",
        ">>>>[🌉 WHERE IS HE?! - $1000](#scrollTo=45b8cf94db492a72)\n",
        "\n",
        ">[🔍 Mission: Code Extraction](#scrollTo=dsWr29Slz_FJ)\n",
        "\n",
        ">>>>[⌚ Timer Reset - $250](#scrollTo=93f463e693949a2a)\n",
        "\n",
        ">>>>[💣 The Countdown Protocol - $500](#scrollTo=93801978e4c66c7b)\n",
        "\n",
        ">>>>[🪤 The Loop Trap - $1000](#scrollTo=9ac85334e71b8c61)\n",
        "\n",
        ">[🏆 Final Jeopardy](#scrollTo=Pz6SyokR0CUR)\n",
        "\n",
        ">>>>[🌊 Mastering the ocean's flow](#scrollTo=f8419438ffdc5d94)\n",
        "\n"
      ],
      "metadata": {
        "colab_type": "toc",
        "id": "KdTE2n2c2v6z"
      },
      "id": "KdTE2n2c2v6z"
    },
    {
      "cell_type": "markdown",
      "source": [
        "# 🌀 STRANGER STRINGS\n"
      ],
      "metadata": {
        "id": "ZbyCI7OszN3l"
      },
      "id": "ZbyCI7OszN3l"
    },
    {
      "metadata": {
        "id": "60fbc0c3f365b428"
      },
      "cell_type": "markdown",
      "source": [
        "#### 🧪 Hawkins Lab Experiment - $250"
      ],
      "id": "60fbc0c3f365b428"
    },
    {
      "cell_type": "code",
      "id": "4cc699d4",
      "metadata": {
        "jupyter": {
          "is_executing": true
        },
        "id": "4cc699d4",
        "colab": {
          "base_uri": "https://localhost:8080/"
        },
        "outputId": "0a1ab9be-eb08-4526-fe6b-47e39a7c02fd"
      },
      "source": [
        "# What is the output?\n",
        "\n",
        "experiment_log = \"SUBJECT ELEVEN - TELEKINESIS TEST\"\n",
        "print(experiment_log[8:-19])\n",
        "\n",
        "print(\"Full Log:\", experiment_log)\n",
        "print(\"Extracted Subject:\", experiment_log[8:-19])"
      ],
      "outputs": [
        {
          "output_type": "stream",
          "name": "stdout",
          "text": [
            "ELEVEN\n",
            "Full Log: SUBJECT ELEVEN - TELEKINESIS TEST\n",
            "Extracted Subject: ELEVEN\n"
          ]
        }
      ],
      "execution_count": 14
    },
    {
      "cell_type": "markdown",
      "source": [
        "[Back to Questions](#scrollTo=g6dLm1Wv5yP6&line=1&uniqifier=1)"
      ],
      "metadata": {
        "id": "r6c7cIgz8cJz"
      },
      "id": "r6c7cIgz8cJz"
    },
    {
      "metadata": {
        "id": "60af9d562d439df1"
      },
      "cell_type": "markdown",
      "source": [
        "#### 📡 Dustin’s Secret Transmission - $500"
      ],
      "id": "60af9d562d439df1"
    },
    {
      "metadata": {
        "jupyter": {
          "is_executing": true
        },
        "id": "5f459630424563b8",
        "colab": {
          "base_uri": "https://localhost:8080/"
        },
        "outputId": "3d54d67a-999e-478a-8816-59e742877e50"
      },
      "cell_type": "code",
      "source": [
        "# What is the output?\n",
        "\n",
        "radio_signal = \"Nobody normal ever accomplished anything meaningful in this world.\"\n",
        "# print(\"Trasnmission Received:\", radio_signal)\n",
        "radio_signal = radio_signal.lower()\n",
        "radio_signal = radio_signal.upper()\n",
        "radio_signal = radio_signal[15:4:-4]\n",
        "\n",
        "# print(\"Trasnmission Decoded:\", radio_signal)\n",
        "print(radio_signal)"
      ],
      "id": "5f459630424563b8",
      "outputs": [
        {
          "output_type": "stream",
          "name": "stdout",
          "text": [
            "VAN\n"
          ]
        }
      ],
      "execution_count": 11
    },
    {
      "cell_type": "markdown",
      "source": [
        "[Back to Questions](#scrollTo=g6dLm1Wv5yP6&line=1&uniqifier=1)"
      ],
      "metadata": {
        "id": "Afck6Lsa9Jmm"
      },
      "id": "Afck6Lsa9Jmm"
    },
    {
      "metadata": {
        "id": "b5342f01c93fc59d"
      },
      "cell_type": "markdown",
      "source": [
        "#### 🎭 Not everyone is who they seem - $1000"
      ],
      "id": "b5342f01c93fc59d"
    },
    {
      "cell_type": "code",
      "source": [
        "# What is the output?\n",
        "\n",
        "# print(\"Vecna's identity test - Is this the real Vecna or an impostor?\")\n",
        "print(\"Vecna\" > \"VecNA\")\n",
        "\n",
        "# print(\"\\nThe Mind Flayer's disguise - Can you spot the difference?\")\n",
        "print(\"Mind~Flayer\" < \"Mind-Flayer\")\n",
        "\n",
        "# print(\"\\nAre these symbols really the same?\")\n",
        "print(\"Is 'N' the same as 'n'?\", ord(\"N\"), \"vs\", ord(\"n\"))\n",
        "print(\"Is '~' the same as '-'?\", ord(\"~\"), \"vs\", ord(\"-\"))"
      ],
      "metadata": {
        "id": "o6m2RD-A_fQP",
        "colab": {
          "base_uri": "https://localhost:8080/"
        },
        "outputId": "36411798-5d7b-4a04-bf01-ff979245f4cf"
      },
      "id": "o6m2RD-A_fQP",
      "execution_count": 3,
      "outputs": [
        {
          "output_type": "stream",
          "name": "stdout",
          "text": [
            "True\n",
            "False\n",
            "Is 'N' the same as 'n'? 78 vs 110\n",
            "Is '~' the same as '-'? 126 vs 45\n"
          ]
        }
      ]
    },
    {
      "cell_type": "markdown",
      "source": [
        "[Back to Questions](#scrollTo=g6dLm1Wv5yP6&line=1&uniqifier=1)"
      ],
      "metadata": {
        "id": "Fo5HQCe_9LZJ"
      },
      "id": "Fo5HQCe_9LZJ"
    },
    {
      "cell_type": "markdown",
      "source": [
        "\n",
        "\n",
        "---\n",
        "\n",
        "\n",
        "# 🎮 Loop Wars"
      ],
      "metadata": {
        "id": "kCUUfYfbzsJS"
      },
      "id": "kCUUfYfbzsJS"
    },
    {
      "metadata": {
        "id": "db1cf9f9c738992b"
      },
      "cell_type": "markdown",
      "source": [
        "#### 💀 Loops of the Sith - $250"
      ],
      "id": "db1cf9f9c738992b"
    },
    {
      "cell_type": "code",
      "id": "6b25f173",
      "metadata": {
        "jupyter": {
          "is_executing": true
        },
        "id": "6b25f173",
        "colab": {
          "base_uri": "https://localhost:8080/",
          "height": 211
        },
        "outputId": "10ba65d8-29fb-4fe4-c149-33db9cf3005e"
      },
      "source": [
        "# Verbally explain what happens in the following piece of code:\n",
        "\n",
        "# The Sith's hunger for power is limitless...\n",
        "\n",
        "sith_power = 10\n",
        "dark_energy = 1\n",
        "\n",
        "while sith_power > 0:\n",
        "    dark_energy += sith_power  # Absorbing more power\n",
        "    sith_power = sith_power + 1  # Uh oh... the Dark Side is growing stronger\n",
        "\n",
        "print(\"This will never stop... Sith power is infinite!\")\n",
        "print(dark_energy)"
      ],
      "outputs": [
        {
          "output_type": "error",
          "ename": "KeyboardInterrupt",
          "evalue": "",
          "traceback": [
            "\u001b[0;31m---------------------------------------------------------------------------\u001b[0m",
            "\u001b[0;31mKeyboardInterrupt\u001b[0m                         Traceback (most recent call last)",
            "\u001b[0;32m<ipython-input-1-8019561fbd62>\u001b[0m in \u001b[0;36m<cell line: 0>\u001b[0;34m()\u001b[0m\n\u001b[1;32m      6\u001b[0m \u001b[0mdark_energy\u001b[0m \u001b[0;34m=\u001b[0m \u001b[0;36m1\u001b[0m\u001b[0;34m\u001b[0m\u001b[0;34m\u001b[0m\u001b[0m\n\u001b[1;32m      7\u001b[0m \u001b[0;34m\u001b[0m\u001b[0m\n\u001b[0;32m----> 8\u001b[0;31m \u001b[0;32mwhile\u001b[0m \u001b[0msith_power\u001b[0m \u001b[0;34m>\u001b[0m \u001b[0;36m0\u001b[0m\u001b[0;34m:\u001b[0m\u001b[0;34m\u001b[0m\u001b[0;34m\u001b[0m\u001b[0m\n\u001b[0m\u001b[1;32m      9\u001b[0m     \u001b[0mdark_energy\u001b[0m \u001b[0;34m+=\u001b[0m \u001b[0msith_power\u001b[0m  \u001b[0;31m# Absorbing more power\u001b[0m\u001b[0;34m\u001b[0m\u001b[0;34m\u001b[0m\u001b[0m\n\u001b[1;32m     10\u001b[0m     \u001b[0msith_power\u001b[0m \u001b[0;34m=\u001b[0m \u001b[0msith_power\u001b[0m \u001b[0;34m+\u001b[0m \u001b[0;36m1\u001b[0m  \u001b[0;31m# Uh oh... the Dark Side is growing stronger\u001b[0m\u001b[0;34m\u001b[0m\u001b[0;34m\u001b[0m\u001b[0m\n",
            "\u001b[0;31mKeyboardInterrupt\u001b[0m: "
          ]
        }
      ],
      "execution_count": 1
    },
    {
      "cell_type": "markdown",
      "source": [
        "[Back to Questions](#scrollTo=g6dLm1Wv5yP6&line=1&uniqifier=1)"
      ],
      "metadata": {
        "id": "oPP_cZKMIT9K"
      },
      "id": "oPP_cZKMIT9K"
    },
    {
      "metadata": {
        "id": "81d24583a78e8ce7"
      },
      "cell_type": "markdown",
      "source": [
        "#### ⚡ Descent into Darkness - $500"
      ],
      "id": "81d24583a78e8ce7"
    },
    {
      "metadata": {
        "jupyter": {
          "is_executing": true
        },
        "id": "a5d4915ff9bb62e0",
        "colab": {
          "base_uri": "https://localhost:8080/"
        },
        "outputId": "f143b3ba-07ad-4c0d-fb05-5330fa1b4049"
      },
      "cell_type": "code",
      "source": [
        "# Provide the print statement that will give this output?\n",
        "\n",
        "sith_name = \"VADER\"\n",
        "i = 0\n",
        "\n",
        "# A loop with too much power… always leads to the dark side!\n",
        "while i < len(sith_name):\n",
        "    print('\\t'*(i) + sith_name[i])\n",
        "    i += 1"
      ],
      "id": "a5d4915ff9bb62e0",
      "outputs": [
        {
          "output_type": "stream",
          "name": "stdout",
          "text": [
            "V\n",
            "\tA\n",
            "\t\tD\n",
            "\t\t\tE\n",
            "\t\t\t\tR\n"
          ]
        }
      ],
      "execution_count": 1
    },
    {
      "cell_type": "markdown",
      "source": [
        "[Back to Questions](#scrollTo=g6dLm1Wv5yP6&line=1&uniqifier=1)"
      ],
      "metadata": {
        "id": "42tC0pbxIUUJ"
      },
      "id": "42tC0pbxIUUJ"
    },
    {
      "metadata": {
        "id": "908f98546dfcfe56"
      },
      "cell_type": "markdown",
      "source": [
        "#### ⚔️ \"Battle of Loops: The Files of Fate\" - $1000"
      ],
      "id": "908f98546dfcfe56"
    },
    {
      "metadata": {
        "id": "2c4d67eda01e802f"
      },
      "cell_type": "code",
      "outputs": [],
      "execution_count": 4,
      "source": [
        "# What will the contents of the file look like?\n",
        "\n",
        "# The endless war of loops... Who will win?\n",
        "\n",
        "file = open(\"battle_log.txt\", \"w\")\n",
        "\n",
        "power_level = 1\n",
        "while power_level <= 5:  # The battle continues for 5 rounds\n",
        "    file.write(\"Round \"+ str(power_level) + \": The Jedi and Sith clash!\\n\")\n",
        "    power_level += 1  # Power grows\n",
        "\n",
        "file.close()"
      ],
      "id": "2c4d67eda01e802f"
    },
    {
      "cell_type": "markdown",
      "source": [
        "[Back to Questions](#scrollTo=g6dLm1Wv5yP6&line=1&uniqifier=1)"
      ],
      "metadata": {
        "id": "7o4UihUoHbDb"
      },
      "id": "7o4UihUoHbDb"
    },
    {
      "cell_type": "markdown",
      "source": [
        "\n",
        "\n",
        "---\n",
        "\n",
        "\n",
        "# 🤖 The Boolean Identity"
      ],
      "metadata": {
        "id": "2pesKr50zzax"
      },
      "id": "2pesKr50zzax"
    },
    {
      "metadata": {
        "id": "1716b911a1689147"
      },
      "cell_type": "markdown",
      "source": [
        "#### 🕶 Agent Smith’s Logic Trap - $250"
      ],
      "id": "1716b911a1689147"
    },
    {
      "cell_type": "code",
      "id": "185a638d",
      "metadata": {
        "jupyter": {
          "is_executing": true
        },
        "id": "185a638d"
      },
      "source": [
        "# What is the output?\n",
        "\n",
        "neo_choice = 10\n",
        "morpheus_signal = 25\n",
        "if neo_choice**2 > 100 and morpheus_signal < 50:\n",
        "    print(\"Welcome to the real world.\")"
      ],
      "outputs": [],
      "execution_count": 5
    },
    {
      "cell_type": "markdown",
      "source": [
        "[Back to Questions](#scrollTo=g6dLm1Wv5yP6&line=1&uniqifier=1)"
      ],
      "metadata": {
        "id": "iKN-D-rLJJ6J"
      },
      "id": "iKN-D-rLJJ6J"
    },
    {
      "metadata": {
        "id": "bcded41764f4fd29"
      },
      "cell_type": "markdown",
      "source": [
        "#### 💊 The Pill Dillema - $500"
      ],
      "id": "bcded41764f4fd29"
    },
    {
      "cell_type": "code",
      "execution_count": 2,
      "id": "9abcb1bc",
      "metadata": {
        "id": "9abcb1bc",
        "colab": {
          "base_uri": "https://localhost:8080/"
        },
        "outputId": "b4f40e28-55ce-4d56-bd5b-79c9716e7711"
      },
      "outputs": [
        {
          "output_type": "stream",
          "name": "stdout",
          "text": [
            "Red pill\n"
          ]
        }
      ],
      "source": [
        "# What is the output?\n",
        "\n",
        "def f():\n",
        "    return False\n",
        "\n",
        "x = 2\n",
        "\n",
        "if f() and x > 3:\n",
        "    print(\"Blue pill\")\n",
        "elif x <= 2 or f():\n",
        "    print(\"Red pill\")\n",
        "    if 2 + x > 4 and f():\n",
        "        f()"
      ]
    },
    {
      "cell_type": "markdown",
      "source": [
        "[Back to Questions](#scrollTo=g6dLm1Wv5yP6&line=1&uniqifier=1)"
      ],
      "metadata": {
        "id": "5hK9tcJrJI60"
      },
      "id": "5hK9tcJrJI60"
    },
    {
      "metadata": {
        "id": "b8f2ec1341fc783e"
      },
      "cell_type": "markdown",
      "source": [
        "#### ☝️ The One Condition - $1000"
      ],
      "id": "b8f2ec1341fc783e"
    },
    {
      "metadata": {
        "jupyter": {
          "is_executing": true
        },
        "collapsed": true,
        "id": "7e809e7a01fb95cc"
      },
      "cell_type": "code",
      "source": [
        "# Which Boolean condition will evaluate True when matrix == \"real_world\" or matrix == \"illusion\"?\n",
        "\n",
        "matrix = \"real_world\""
      ],
      "id": "7e809e7a01fb95cc",
      "outputs": [],
      "execution_count": 7
    },
    {
      "cell_type": "code",
      "source": [
        "print(matrix == \"real_world\" == \"illusion\")"
      ],
      "metadata": {
        "id": "jrgQLZkQKzJB",
        "colab": {
          "base_uri": "https://localhost:8080/"
        },
        "outputId": "b9124c5c-c1ff-4c5c-ea7c-bdfdec288257"
      },
      "id": "jrgQLZkQKzJB",
      "execution_count": 8,
      "outputs": [
        {
          "output_type": "stream",
          "name": "stdout",
          "text": [
            "False\n"
          ]
        }
      ]
    },
    {
      "cell_type": "code",
      "source": [
        "print(matrix = \"real_world\" or matrix = \"illusion\")"
      ],
      "metadata": {
        "id": "LvmbXpWjK2UE"
      },
      "id": "LvmbXpWjK2UE",
      "execution_count": null,
      "outputs": []
    },
    {
      "cell_type": "code",
      "source": [
        "print(matrix == \"real_world\" or matrix == \"illusion\")"
      ],
      "metadata": {
        "id": "OKY4-ZlOK3VQ",
        "colab": {
          "base_uri": "https://localhost:8080/"
        },
        "outputId": "1c1d58ab-bc1b-46fd-e20a-46dae4b91d7d"
      },
      "id": "OKY4-ZlOK3VQ",
      "execution_count": 9,
      "outputs": [
        {
          "output_type": "stream",
          "name": "stdout",
          "text": [
            "True\n"
          ]
        }
      ]
    },
    {
      "cell_type": "code",
      "source": [
        "print(matrix = \"real_world\" and matrix = \"illusion\")"
      ],
      "metadata": {
        "id": "Pw6y58zqK4M7"
      },
      "id": "Pw6y58zqK4M7",
      "execution_count": null,
      "outputs": []
    },
    {
      "cell_type": "code",
      "source": [
        "print(matrix == \"real_world\" and matrix == \"illusion\")"
      ],
      "metadata": {
        "id": "Xyb3UsysK5By",
        "colab": {
          "base_uri": "https://localhost:8080/"
        },
        "outputId": "dba0110d-af65-4c56-9d71-8cc3c4b821c1"
      },
      "id": "Xyb3UsysK5By",
      "execution_count": 10,
      "outputs": [
        {
          "output_type": "stream",
          "name": "stdout",
          "text": [
            "False\n"
          ]
        }
      ]
    },
    {
      "cell_type": "markdown",
      "source": [
        "[Back to Questions](#scrollTo=g6dLm1Wv5yP6&line=1&uniqifier=1)"
      ],
      "metadata": {
        "id": "1iPN5QduJLnW"
      },
      "id": "1iPN5QduJLnW"
    },
    {
      "cell_type": "markdown",
      "source": [
        "\n",
        "\n",
        "---\n",
        "\n",
        "\n",
        "# 🦇 The Batcode Rises"
      ],
      "metadata": {
        "id": "G1ttEqpPz3bY"
      },
      "id": "G1ttEqpPz3bY"
    },
    {
      "metadata": {
        "id": "706a38985873a9ea"
      },
      "cell_type": "markdown",
      "source": [
        "#### 💪 True power of the Dark Knight - $250"
      ],
      "id": "706a38985873a9ea"
    },
    {
      "metadata": {
        "jupyter": {
          "is_executing": true
        },
        "id": "574809ddb519f9c4",
        "colab": {
          "base_uri": "https://localhost:8080/",
          "height": 228
        },
        "outputId": "5d6f6ffd-a094-4e64-a7b1-9706b2d31d68"
      },
      "cell_type": "code",
      "source": [
        "# What is the outcome of executing the code above?\n",
        "\n",
        "def dark_knight_power(num):\n",
        "    \"\"\"The Dark Knight rises... to the power of 3.\"\"\"\n",
        "    print(num**3)\n",
        "\n",
        "# The Dark Knight tests his might\n",
        "bat_signal1 = dark_knight_power(5)\n",
        "bat_signal2 = bat_signal1 + 1\n",
        "\n",
        "print(bat_signal1, bat_signal2)\n",
        "\n",
        "# But justice never rests..."
      ],
      "id": "574809ddb519f9c4",
      "outputs": [
        {
          "output_type": "stream",
          "name": "stdout",
          "text": [
            "125\n"
          ]
        },
        {
          "output_type": "error",
          "ename": "TypeError",
          "evalue": "unsupported operand type(s) for +: 'NoneType' and 'int'",
          "traceback": [
            "\u001b[0;31m---------------------------------------------------------------------------\u001b[0m",
            "\u001b[0;31mTypeError\u001b[0m                                 Traceback (most recent call last)",
            "\u001b[0;32m<ipython-input-15-6e6101c90461>\u001b[0m in \u001b[0;36m<cell line: 0>\u001b[0;34m()\u001b[0m\n\u001b[1;32m      7\u001b[0m \u001b[0;31m# The Dark Knight tests his might\u001b[0m\u001b[0;34m\u001b[0m\u001b[0;34m\u001b[0m\u001b[0m\n\u001b[1;32m      8\u001b[0m \u001b[0mbat_signal1\u001b[0m \u001b[0;34m=\u001b[0m \u001b[0mdark_knight_power\u001b[0m\u001b[0;34m(\u001b[0m\u001b[0;36m5\u001b[0m\u001b[0;34m)\u001b[0m\u001b[0;34m\u001b[0m\u001b[0;34m\u001b[0m\u001b[0m\n\u001b[0;32m----> 9\u001b[0;31m \u001b[0mbat_signal2\u001b[0m \u001b[0;34m=\u001b[0m \u001b[0mbat_signal1\u001b[0m \u001b[0;34m+\u001b[0m \u001b[0;36m1\u001b[0m\u001b[0;34m\u001b[0m\u001b[0;34m\u001b[0m\u001b[0m\n\u001b[0m\u001b[1;32m     10\u001b[0m \u001b[0;34m\u001b[0m\u001b[0m\n\u001b[1;32m     11\u001b[0m \u001b[0mprint\u001b[0m\u001b[0;34m(\u001b[0m\u001b[0mbat_signal1\u001b[0m\u001b[0;34m,\u001b[0m \u001b[0mbat_signal2\u001b[0m\u001b[0;34m)\u001b[0m\u001b[0;34m\u001b[0m\u001b[0;34m\u001b[0m\u001b[0m\n",
            "\u001b[0;31mTypeError\u001b[0m: unsupported operand type(s) for +: 'NoneType' and 'int'"
          ]
        }
      ],
      "execution_count": 15
    },
    {
      "cell_type": "markdown",
      "source": [
        "[Back to Questions](#scrollTo=g6dLm1Wv5yP6&line=1&uniqifier=1)"
      ],
      "metadata": {
        "id": "sfBi7y0oJN1D"
      },
      "id": "sfBi7y0oJN1D"
    },
    {
      "metadata": {
        "id": "c6686c151de1ea2"
      },
      "cell_type": "markdown",
      "source": [
        "#### 🃏 The Dark Knight’s Moral Code - $500"
      ],
      "id": "c6686c151de1ea2"
    },
    {
      "metadata": {
        "jupyter": {
          "is_executing": true
        },
        "id": "597b6e97d4dab2a8",
        "colab": {
          "base_uri": "https://localhost:8080/"
        },
        "outputId": "da2fbfde-e362-4a1d-fe76-78185f357365"
      },
      "cell_type": "code",
      "source": [
        "# What is the output?\n",
        "\n",
        "def batman_or_joker(score):\n",
        "    if score > 90:\n",
        "        return \"You're Batman.\"\n",
        "    elif score > 50:\n",
        "        return \"You're Two-Face.\"\n",
        "    else:\n",
        "        return \"You're Joker.\"\n",
        "\n",
        "print(batman_or_joker(85))"
      ],
      "id": "597b6e97d4dab2a8",
      "outputs": [
        {
          "output_type": "stream",
          "name": "stdout",
          "text": [
            "You're Two-Face.\n"
          ]
        }
      ],
      "execution_count": 10
    },
    {
      "cell_type": "markdown",
      "source": [
        "[Back to Questions](#scrollTo=g6dLm1Wv5yP6&line=1&uniqifier=1)"
      ],
      "metadata": {
        "id": "vtt4INVbJPiM"
      },
      "id": "vtt4INVbJPiM"
    },
    {
      "metadata": {
        "id": "45b8cf94db492a72"
      },
      "cell_type": "markdown",
      "source": [
        "#### 🌉 WHERE IS HE?! - $1000"
      ],
      "id": "45b8cf94db492a72"
    },
    {
      "cell_type": "code",
      "source": [
        "# 1. The Dark Knight-Themed Function\n",
        "\n",
        "def where_is_batman(city):\n",
        "    \"\"\"Gotham needs to know where he is...\"\"\"\n",
        "    print(\"Gotham\")\n",
        "    return \"Gotham\""
      ],
      "metadata": {
        "id": "qynUsaXWPtBx"
      },
      "id": "qynUsaXWPtBx",
      "execution_count": 6,
      "outputs": []
    },
    {
      "cell_type": "code",
      "source": [
        "bat_signal = where_is_batman('Gotham')"
      ],
      "metadata": {
        "id": "hBzYX4rYPvNT",
        "colab": {
          "base_uri": "https://localhost:8080/"
        },
        "outputId": "a072bd3c-de6d-49ed-ea33-d70701c249e5"
      },
      "id": "hBzYX4rYPvNT",
      "execution_count": 7,
      "outputs": [
        {
          "output_type": "stream",
          "name": "stdout",
          "text": [
            "Gotham\n"
          ]
        }
      ]
    },
    {
      "cell_type": "code",
      "source": [
        "print(bat_signal)"
      ],
      "metadata": {
        "id": "TNnOXGd4PwtT",
        "colab": {
          "base_uri": "https://localhost:8080/"
        },
        "outputId": "b5081078-6a78-4d29-898e-f7db0aed81b8"
      },
      "id": "TNnOXGd4PwtT",
      "execution_count": 8,
      "outputs": [
        {
          "output_type": "stream",
          "name": "stdout",
          "text": [
            "Gotham\n"
          ]
        }
      ]
    },
    {
      "cell_type": "markdown",
      "source": [
        "[Back to Questions](#scrollTo=g6dLm1Wv5yP6&line=1&uniqifier=1)"
      ],
      "metadata": {
        "id": "ORkJsYpAJR59"
      },
      "id": "ORkJsYpAJR59"
    },
    {
      "cell_type": "markdown",
      "source": [
        "\n",
        "\n",
        "---\n",
        "\n",
        "\n",
        "\n",
        "# 🔍 Mission: Code Extraction"
      ],
      "metadata": {
        "id": "dsWr29Slz_FJ"
      },
      "id": "dsWr29Slz_FJ"
    },
    {
      "metadata": {
        "id": "93f463e693949a2a"
      },
      "cell_type": "markdown",
      "source": [
        "#### ⌚ Timer Reset - $250"
      ],
      "id": "93f463e693949a2a"
    },
    {
      "metadata": {
        "jupyter": {
          "is_executing": true
        },
        "id": "43eed43bed35aeac",
        "colab": {
          "base_uri": "https://localhost:8080/"
        },
        "outputId": "3c87f64b-c145-4571-d5bf-52e648b934a8"
      },
      "cell_type": "code",
      "source": [
        "# What is the output?\n",
        "\n",
        "counter = 1\n",
        "time = 60 * counter\n",
        "\n",
        "counter += 1\n",
        "time = 60 * counter\n",
        "\n",
        "print(time)"
      ],
      "id": "43eed43bed35aeac",
      "outputs": [
        {
          "output_type": "stream",
          "name": "stdout",
          "text": [
            "120\n"
          ]
        }
      ],
      "execution_count": 11
    },
    {
      "cell_type": "markdown",
      "source": [
        "[Back to Questions](#scrollTo=g6dLm1Wv5yP6&line=1&uniqifier=1)"
      ],
      "metadata": {
        "id": "f5lFYSzyJT8C"
      },
      "id": "f5lFYSzyJT8C"
    },
    {
      "metadata": {
        "id": "93801978e4c66c7b"
      },
      "cell_type": "markdown",
      "source": [
        "#### 💣 The Countdown Protocol - $500"
      ],
      "id": "93801978e4c66c7b"
    },
    {
      "metadata": {
        "id": "770fd48610020462",
        "colab": {
          "base_uri": "https://localhost:8080/"
        },
        "outputId": "692a1e57-cda0-4361-f5ce-6284b3360ea7"
      },
      "cell_type": "code",
      "outputs": [
        {
          "output_type": "stream",
          "name": "stdout",
          "text": [
            "Calling function f..\n",
            "Executing function f...\n",
            "Calling function f..\n",
            "Executing function f...\n"
          ]
        }
      ],
      "execution_count": 12,
      "source": [
        "# How many times is the function f executed?\n",
        "\n",
        "def f(n):\n",
        "    print(\"Executing function f...\")\n",
        "    return n - 3\n",
        "\n",
        "x = 4\n",
        "while x > 0:\n",
        "    print(\"Calling function f..\")\n",
        "    x = f(x)"
      ],
      "id": "770fd48610020462"
    },
    {
      "cell_type": "markdown",
      "source": [
        "[Back to Questions](#scrollTo=g6dLm1Wv5yP6&line=1&uniqifier=1)"
      ],
      "metadata": {
        "id": "pBgXyLZMJV0I"
      },
      "id": "pBgXyLZMJV0I"
    },
    {
      "metadata": {
        "id": "9ac85334e71b8c61"
      },
      "cell_type": "markdown",
      "source": [
        "#### 🪤 The Loop Trap - $1000"
      ],
      "id": "9ac85334e71b8c61"
    },
    {
      "metadata": {
        "jupyter": {
          "is_executing": true
        },
        "id": "a0cca985d84a7788",
        "colab": {
          "base_uri": "https://localhost:8080/"
        },
        "outputId": "53d90ac2-fa60-46be-8743-15cd75ab4ad9"
      },
      "cell_type": "code",
      "source": [
        "# what will the code print?\n",
        "\n",
        "i = 0\n",
        "j = 6\n",
        "\n",
        "while 0 < j < 10:\n",
        "\n",
        "    print(i, end=\" \")\n",
        "\n",
        "    if j % 3 == 0:\n",
        "        j = j // 2\n",
        "    elif j % 2 == 0:\n",
        "        j = j * 2\n",
        "    else:\n",
        "        j = j + 1\n",
        "\n",
        "    i += 1\n",
        "    print(j)"
      ],
      "id": "a0cca985d84a7788",
      "outputs": [
        {
          "output_type": "stream",
          "name": "stdout",
          "text": [
            "0 3\n",
            "1 1\n",
            "2 2\n",
            "3 4\n",
            "4 8\n",
            "5 16\n"
          ]
        }
      ],
      "execution_count": 4
    },
    {
      "cell_type": "markdown",
      "source": [
        "[Back to Questions](#scrollTo=g6dLm1Wv5yP6&line=1&uniqifier=1)"
      ],
      "metadata": {
        "id": "LFvrULF1JXnX"
      },
      "id": "LFvrULF1JXnX"
    },
    {
      "cell_type": "markdown",
      "source": [
        "\n",
        "\n",
        "---\n",
        "\n",
        "\n",
        "# 🏆 Final Jeopardy"
      ],
      "metadata": {
        "id": "Pz6SyokR0CUR"
      },
      "id": "Pz6SyokR0CUR"
    },
    {
      "metadata": {
        "id": "f8419438ffdc5d94"
      },
      "cell_type": "markdown",
      "source": [
        "#### 🌊 Mastering the ocean's flow"
      ],
      "id": "f8419438ffdc5d94"
    },
    {
      "cell_type": "markdown",
      "source": [
        "On Pandora, water changes depending on the environment.\n",
        "\n",
        "1.   At freezing temperatures, it becomes solid ice. ❄\n",
        "2.   When the temperature is normal, it flows gently. 🌊\n",
        "3.   When it’s too hot, it turns into steam. ☁\n",
        "\n",
        "📌 Your task:\n",
        "\n",
        "Determine the state of Pandora’s water based on its temperature.\n",
        "Write a program using a function that prompts the user for a temperature and prints out whether Pandora’s water is ice, liquid, or steam based on the temperature."
      ],
      "metadata": {
        "id": "QdNmmH1BL3tq"
      },
      "id": "QdNmmH1BL3tq"
    },
    {
      "cell_type": "code",
      "execution_count": 12,
      "id": "c0ebef12",
      "metadata": {
        "id": "c0ebef12",
        "colab": {
          "base_uri": "https://localhost:8080/"
        },
        "outputId": "834947a4-fd0a-4531-b801-199c8c48bc98"
      },
      "outputs": [
        {
          "output_type": "stream",
          "name": "stdout",
          "text": [
            "Enter a water temperature in Celsius: 54\n",
            "Flowing like the ocean of the Metkayina 🌊\n"
          ]
        }
      ],
      "source": [
        "def way_of_water_1():\n",
        "    '''\n",
        "    () -> None\n",
        "    Returns the state of water on Pandora at temp degrees Celsius.\n",
        "    '''\n",
        "\n",
        "    temp = int(input(\"Enter a water temperature in Celsius: \"))\n",
        "\n",
        "    if temp > 100:\n",
        "        print(\"Rising like the mist above the Spirit Tree ☁️\")\n",
        "    elif temp > 0:\n",
        "        print(\"Flowing like the ocean of the Metkayina 🌊\")\n",
        "    else:\n",
        "        print(\"Frozen like the ice cliffs of Pandora ❄️\")\n",
        "\n",
        "way_of_water_1()"
      ]
    },
    {
      "cell_type": "code",
      "source": [
        "def way_of_water_2():\n",
        "    '''\n",
        "    () -> None\n",
        "    Returns the state of water on Pandora at temp degrees Celsius.\n",
        "    '''\n",
        "\n",
        "    temp = int(input(\"Enter a water temperature in Celsius: \"))\n",
        "\n",
        "    if temp <= 0:\n",
        "        print(\"Frozen like the ice cliffs of Pandora ❄️\")\n",
        "    elif temp <= 100:\n",
        "        print(\"Flowing like the ocean of the Metkayina 🌊\")\n",
        "    else:\n",
        "        print(\"Rising like the mist above the Spirit Tree ☁️\")\n",
        "\n",
        "way_of_water_2()"
      ],
      "metadata": {
        "colab": {
          "base_uri": "https://localhost:8080/"
        },
        "id": "IgencKa4lstN",
        "outputId": "4946cbf2-928b-400b-e2a7-bb78e36bcb9a"
      },
      "id": "IgencKa4lstN",
      "execution_count": 14,
      "outputs": [
        {
          "output_type": "stream",
          "name": "stdout",
          "text": [
            "Enter a water temperature in Celsius: -100\n",
            "Frozen like the ice cliffs of Pandora ❄️\n"
          ]
        }
      ]
    },
    {
      "cell_type": "markdown",
      "source": [
        "[Back to Questions](#scrollTo=g6dLm1Wv5yP6&line=1&uniqifier=1)"
      ],
      "metadata": {
        "id": "J7BVWduvJaFF"
      },
      "id": "J7BVWduvJaFF"
    },
    {
      "cell_type": "code",
      "source": [],
      "metadata": {
        "id": "VJk4o-zZQsxy"
      },
      "id": "VJk4o-zZQsxy",
      "execution_count": null,
      "outputs": []
    }
  ],
  "metadata": {
    "kernelspec": {
      "display_name": "Python 3 (ipykernel)",
      "language": "python",
      "name": "python3"
    },
    "language_info": {
      "codemirror_mode": {
        "name": "ipython",
        "version": 3
      },
      "file_extension": ".py",
      "mimetype": "text/x-python",
      "name": "python",
      "nbconvert_exporter": "python",
      "pygments_lexer": "ipython3",
      "version": "3.8.12"
    },
    "colab": {
      "provenance": [],
      "collapsed_sections": [
        "g6dLm1Wv5yP6",
        "ZbyCI7OszN3l",
        "60fbc0c3f365b428",
        "60af9d562d439df1",
        "b5342f01c93fc59d",
        "kCUUfYfbzsJS",
        "db1cf9f9c738992b",
        "81d24583a78e8ce7",
        "908f98546dfcfe56",
        "2pesKr50zzax",
        "1716b911a1689147",
        "bcded41764f4fd29",
        "b8f2ec1341fc783e",
        "G1ttEqpPz3bY",
        "706a38985873a9ea",
        "c6686c151de1ea2",
        "45b8cf94db492a72",
        "dsWr29Slz_FJ",
        "93f463e693949a2a",
        "93801978e4c66c7b",
        "9ac85334e71b8c61",
        "f8419438ffdc5d94"
      ]
    }
  },
  "nbformat": 4,
  "nbformat_minor": 5
}