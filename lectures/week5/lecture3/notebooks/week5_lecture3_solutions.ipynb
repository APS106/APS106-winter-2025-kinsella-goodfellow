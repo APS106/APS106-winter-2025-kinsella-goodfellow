{
  "cells": [
    {
      "cell_type": "markdown",
      "source": [
        "# APS106 - MIDTERM REVIEW\n"
      ],
      "metadata": {
        "id": "WSGF5MaO5oY6"
      },
      "id": "WSGF5MaO5oY6"
    },
    {
      "cell_type": "markdown",
      "source": [
        "### Table of Contents"
      ],
      "metadata": {
        "id": "g6dLm1Wv5yP6"
      },
      "id": "g6dLm1Wv5yP6"
    },
    {
      "cell_type": "markdown",
      "source": [
        ">[🌀 STRANGER STRINGS](#scrollTo=ZbyCI7OszN3l)\n",
        "\n",
        ">>>>[🧪 Hawkins Lab Experiment - $250](#scrollTo=60fbc0c3f365b428)\n",
        "\n",
        ">>>>[📡 Dustin’s Secret Transmission - $500](#scrollTo=60af9d562d439df1)\n",
        "\n",
        ">>>>[🎭 Not everyone is who they seem - $1000](#scrollTo=b5342f01c93fc59d)\n",
        "\n",
        ">[🎮 Loop Wars](#scrollTo=kCUUfYfbzsJS)\n",
        "\n",
        ">>>>[💀 Loops of the Sith - $250](#scrollTo=db1cf9f9c738992b)\n",
        "\n",
        ">>>>[⚡ Descent into Darkness - $500](#scrollTo=81d24583a78e8ce7)\n",
        "\n",
        ">>>>[⚔️ \"Battle of Loops: The Files of Fate\" - $1000](#scrollTo=908f98546dfcfe56)\n",
        "\n",
        ">[🤖 The Boolean Identity](#scrollTo=2pesKr50zzax)\n",
        "\n",
        ">>>>[🕶 Agent Smith’s Logic Trap - $250](#scrollTo=1716b911a1689147)\n",
        "\n",
        ">>>>[💊 The Pill Dillema - $500](#scrollTo=bcded41764f4fd29)\n",
        "\n",
        ">>>>[☝️ The One Condition - $1000](#scrollTo=b8f2ec1341fc783e)\n",
        "\n",
        ">[🦇 The Batcode Rises](#scrollTo=G1ttEqpPz3bY)\n",
        "\n",
        ">>>>[💪 True power of the Dark Knight - $250](#scrollTo=706a38985873a9ea)\n",
        "\n",
        ">>>>[🃏 The Dark Knight’s Moral Code - $500](#scrollTo=c6686c151de1ea2)\n",
        "\n",
        ">>>>[🌉 WHERE IS HE?! - $1000](#scrollTo=45b8cf94db492a72)\n",
        "\n",
        ">[🔍 Mission: Code Extraction](#scrollTo=dsWr29Slz_FJ)\n",
        "\n",
        ">>>>[⌚ Timer Reset - $250](#scrollTo=93f463e693949a2a)\n",
        "\n",
        ">>>>[💣 The Countdown Protocol - $500](#scrollTo=93801978e4c66c7b)\n",
        "\n",
        ">>>>[🪤 The Loop Trap - $1000](#scrollTo=9ac85334e71b8c61)\n",
        "\n",
        ">[🏆 Final Jeopardy](#scrollTo=Pz6SyokR0CUR)\n",
        "\n",
        ">>>>[🌊 Mastering the ocean's flow](#scrollTo=f8419438ffdc5d94)\n",
        "\n"
      ],
      "metadata": {
        "colab_type": "toc",
        "id": "KdTE2n2c2v6z"
      },
      "id": "KdTE2n2c2v6z"
    },
    {
      "cell_type": "markdown",
      "source": [
        "# 🌀 STRANGER STRINGS\n"
      ],
      "metadata": {
        "id": "ZbyCI7OszN3l"
      },
      "id": "ZbyCI7OszN3l"
    },
    {
      "metadata": {
        "id": "60fbc0c3f365b428"
      },
      "cell_type": "markdown",
      "source": [
        "#### 🧪 Hawkins Lab Experiment - $250"
      ],
      "id": "60fbc0c3f365b428"
    },
    {
      "cell_type": "code",
      "id": "4cc699d4",
      "metadata": {
        "jupyter": {
          "is_executing": true
        },
        "id": "4cc699d4",
        "colab": {
          "base_uri": "https://localhost:8080/"
        },
        "outputId": "5a429d26-494c-4f81-be35-8901156c0591"
      },
      "source": [
        "# What is the output?\n",
        "\n",
        "experiment_log = \"SUBJECT ELEVEN - TELEKINESIS TEST\"\n",
        "print(experiment_log[8:-19])\n",
        "\n",
        "# print(\"Full Log:\", experiment_log)\n",
        "# print(\"Extracted Subject:\", experiment_log[8:-19])"
      ],
      "outputs": [
        {
          "output_type": "stream",
          "name": "stdout",
          "text": [
            "ELEVEN\n"
          ]
        }
      ],
      "execution_count": 54
    },
    {
      "cell_type": "markdown",
      "source": [
        "[Back to Questions](#scrollTo=g6dLm1Wv5yP6&line=1&uniqifier=1)"
      ],
      "metadata": {
        "id": "r6c7cIgz8cJz"
      },
      "id": "r6c7cIgz8cJz"
    },
    {
      "cell_type": "code",
      "source": [],
      "metadata": {
        "id": "R0XDqYRY6ClL"
      },
      "id": "R0XDqYRY6ClL",
      "execution_count": null,
      "outputs": []
    },
    {
      "cell_type": "code",
      "source": [],
      "metadata": {
        "id": "c_1wTZ29_DPU"
      },
      "id": "c_1wTZ29_DPU",
      "execution_count": null,
      "outputs": []
    },
    {
      "cell_type": "code",
      "source": [],
      "metadata": {
        "id": "csEsCzFn_DM1"
      },
      "id": "csEsCzFn_DM1",
      "execution_count": null,
      "outputs": []
    },
    {
      "cell_type": "code",
      "source": [],
      "metadata": {
        "id": "dG_Ip7yr_DKM"
      },
      "id": "dG_Ip7yr_DKM",
      "execution_count": null,
      "outputs": []
    },
    {
      "cell_type": "code",
      "source": [],
      "metadata": {
        "id": "g4egcIIK6Ciy"
      },
      "id": "g4egcIIK6Ciy",
      "execution_count": null,
      "outputs": []
    },
    {
      "cell_type": "code",
      "source": [],
      "metadata": {
        "id": "opafceKy6CdJ"
      },
      "id": "opafceKy6CdJ",
      "execution_count": null,
      "outputs": []
    },
    {
      "cell_type": "code",
      "source": [],
      "metadata": {
        "id": "kMqo88ZX6Caq"
      },
      "id": "kMqo88ZX6Caq",
      "execution_count": null,
      "outputs": []
    },
    {
      "cell_type": "code",
      "source": [],
      "metadata": {
        "id": "Oc7dQlgX6CX0"
      },
      "id": "Oc7dQlgX6CX0",
      "execution_count": null,
      "outputs": []
    },
    {
      "cell_type": "code",
      "source": [],
      "metadata": {
        "id": "GQCFvIKA6CUo"
      },
      "id": "GQCFvIKA6CUo",
      "execution_count": null,
      "outputs": []
    },
    {
      "metadata": {
        "id": "60af9d562d439df1"
      },
      "cell_type": "markdown",
      "source": [
        "#### 📡 Dustin’s Secret Transmission - $500"
      ],
      "id": "60af9d562d439df1"
    },
    {
      "metadata": {
        "jupyter": {
          "is_executing": true
        },
        "id": "5f459630424563b8",
        "colab": {
          "base_uri": "https://localhost:8080/"
        },
        "outputId": "12f118c9-f27e-4aad-cd3f-75d3da17ce92"
      },
      "cell_type": "code",
      "source": [
        "# What is the output?\n",
        "\n",
        "radio_signal = \"Nobody normal ever accomplished anything meaningful in this world.\"\n",
        "# print(\"Trasnmission Received:\", radio_signal)\n",
        "radio_signal = radio_signal.lower()\n",
        "radio_signal = radio_signal.upper()\n",
        "radio_signal = radio_signal[15:4:-4]\n",
        "\n",
        "# print(\"Trasnmission Decoded:\", radio_signal)\n",
        "print(radio_signal)"
      ],
      "id": "5f459630424563b8",
      "outputs": [
        {
          "output_type": "stream",
          "name": "stdout",
          "text": [
            "VAN\n"
          ]
        }
      ],
      "execution_count": 55
    },
    {
      "cell_type": "markdown",
      "source": [
        "[Back to Questions](#scrollTo=g6dLm1Wv5yP6&line=1&uniqifier=1)"
      ],
      "metadata": {
        "id": "Afck6Lsa9Jmm"
      },
      "id": "Afck6Lsa9Jmm"
    },
    {
      "cell_type": "code",
      "source": [],
      "metadata": {
        "id": "1y5U-DtX_CTl"
      },
      "id": "1y5U-DtX_CTl",
      "execution_count": null,
      "outputs": []
    },
    {
      "cell_type": "code",
      "source": [],
      "metadata": {
        "id": "T1GRD_4n_CQ3"
      },
      "id": "T1GRD_4n_CQ3",
      "execution_count": null,
      "outputs": []
    },
    {
      "cell_type": "code",
      "source": [],
      "metadata": {
        "id": "J9rCbDE39NnI"
      },
      "id": "J9rCbDE39NnI",
      "execution_count": null,
      "outputs": []
    },
    {
      "cell_type": "code",
      "source": [],
      "metadata": {
        "id": "kyBRNzVv9ORm"
      },
      "id": "kyBRNzVv9ORm",
      "execution_count": null,
      "outputs": []
    },
    {
      "cell_type": "code",
      "source": [],
      "metadata": {
        "id": "lRTEbpRu9OPH"
      },
      "id": "lRTEbpRu9OPH",
      "execution_count": null,
      "outputs": []
    },
    {
      "cell_type": "code",
      "source": [],
      "metadata": {
        "id": "SvsLO2fs9OMx"
      },
      "id": "SvsLO2fs9OMx",
      "execution_count": null,
      "outputs": []
    },
    {
      "cell_type": "code",
      "source": [],
      "metadata": {
        "id": "PYDFe75R9OKS"
      },
      "id": "PYDFe75R9OKS",
      "execution_count": null,
      "outputs": []
    },
    {
      "cell_type": "code",
      "source": [],
      "metadata": {
        "id": "p8MwI9Ls9OHl"
      },
      "id": "p8MwI9Ls9OHl",
      "execution_count": null,
      "outputs": []
    },
    {
      "metadata": {
        "id": "b5342f01c93fc59d"
      },
      "cell_type": "markdown",
      "source": [
        "#### 🎭 Not everyone is who they seem - $1000"
      ],
      "id": "b5342f01c93fc59d"
    },
    {
      "cell_type": "code",
      "source": [
        "# What is the output?\n",
        "\n",
        "# print(\"Vecna's identity test - Is this the real Vecna or an impostor?\")\n",
        "print(\"Vecna\" > \"VecNA\")\n",
        "\n",
        "# print(\"\\nThe Mind Flayer's disguise - Can you spot the difference?\")\n",
        "print(\"Mind~Flayer\" < \"Mind-Flayer\")\n",
        "\n",
        "# print(\"\\nAre these symbols really the same?\")\n",
        "# print(\"Is 'N' the same as 'n'?\", ord(\"N\"), \"vs\", ord(\"n\"))\n",
        "# print(\"Is '~' the same as '-'?\", ord(\"~\"), \"vs\", ord(\"-\"))"
      ],
      "metadata": {
        "id": "o6m2RD-A_fQP",
        "colab": {
          "base_uri": "https://localhost:8080/"
        },
        "outputId": "455fa3d8-050e-47e4-afb8-6baf705a2747"
      },
      "id": "o6m2RD-A_fQP",
      "execution_count": 56,
      "outputs": [
        {
          "output_type": "stream",
          "name": "stdout",
          "text": [
            "True\n",
            "False\n"
          ]
        }
      ]
    },
    {
      "cell_type": "markdown",
      "source": [
        "[Back to Questions](#scrollTo=g6dLm1Wv5yP6&line=1&uniqifier=1)"
      ],
      "metadata": {
        "id": "Fo5HQCe_9LZJ"
      },
      "id": "Fo5HQCe_9LZJ"
    },
    {
      "cell_type": "code",
      "source": [],
      "metadata": {
        "id": "gnhdvVO9_BXL"
      },
      "id": "gnhdvVO9_BXL",
      "execution_count": null,
      "outputs": []
    },
    {
      "cell_type": "code",
      "source": [],
      "metadata": {
        "id": "TERVEwlj_BUj"
      },
      "id": "TERVEwlj_BUj",
      "execution_count": null,
      "outputs": []
    },
    {
      "cell_type": "code",
      "source": [],
      "metadata": {
        "id": "u9k1hfaI_BRl"
      },
      "id": "u9k1hfaI_BRl",
      "execution_count": null,
      "outputs": []
    },
    {
      "cell_type": "code",
      "source": [],
      "metadata": {
        "id": "qYsY1Sex_BOm"
      },
      "id": "qYsY1Sex_BOm",
      "execution_count": null,
      "outputs": []
    },
    {
      "cell_type": "code",
      "source": [],
      "metadata": {
        "id": "8LgG4YmC_BMB"
      },
      "id": "8LgG4YmC_BMB",
      "execution_count": null,
      "outputs": []
    },
    {
      "cell_type": "code",
      "source": [],
      "metadata": {
        "id": "9ylCFSfv_BJh"
      },
      "id": "9ylCFSfv_BJh",
      "execution_count": null,
      "outputs": []
    },
    {
      "cell_type": "code",
      "source": [],
      "metadata": {
        "id": "w1cgeRTj_BG1"
      },
      "id": "w1cgeRTj_BG1",
      "execution_count": null,
      "outputs": []
    },
    {
      "cell_type": "code",
      "source": [],
      "metadata": {
        "id": "KVnBBGjm_BA2"
      },
      "id": "KVnBBGjm_BA2",
      "execution_count": null,
      "outputs": []
    },
    {
      "cell_type": "code",
      "source": [],
      "metadata": {
        "id": "Z_nA31U__A9y"
      },
      "id": "Z_nA31U__A9y",
      "execution_count": null,
      "outputs": []
    },
    {
      "cell_type": "markdown",
      "source": [
        "\n",
        "\n",
        "---\n",
        "\n",
        "\n",
        "# 🎮 Loop Wars"
      ],
      "metadata": {
        "id": "kCUUfYfbzsJS"
      },
      "id": "kCUUfYfbzsJS"
    },
    {
      "metadata": {
        "id": "db1cf9f9c738992b"
      },
      "cell_type": "markdown",
      "source": [
        "#### 💀 Loops of the Sith - $250"
      ],
      "id": "db1cf9f9c738992b"
    },
    {
      "cell_type": "code",
      "id": "6b25f173",
      "metadata": {
        "jupyter": {
          "is_executing": true
        },
        "id": "6b25f173",
        "colab": {
          "base_uri": "https://localhost:8080/",
          "height": 211
        },
        "outputId": "8fe64d19-8a04-42aa-cdf9-ede0116ce967"
      },
      "source": [
        "# Verbally explain what happens in the following piece of code:\n",
        "\n",
        "# The Sith's hunger for power is limitless...\n",
        "\n",
        "sith_power = 10\n",
        "dark_energy = 1\n",
        "\n",
        "while sith_power > 0:\n",
        "    dark_energy += sith_power  # Absorbing more power\n",
        "    sith_power = sith_power + 1  # Uh oh... the Dark Side is growing stronger\n",
        "\n",
        "print(\"This will never stop... Sith power is infinite!\")\n",
        "print(dark_energy)"
      ],
      "outputs": [
        {
          "output_type": "error",
          "ename": "KeyboardInterrupt",
          "evalue": "",
          "traceback": [
            "\u001b[0;31m---------------------------------------------------------------------------\u001b[0m",
            "\u001b[0;31mKeyboardInterrupt\u001b[0m                         Traceback (most recent call last)",
            "\u001b[0;32m<ipython-input-57-8019561fbd62>\u001b[0m in \u001b[0;36m<cell line: 0>\u001b[0;34m()\u001b[0m\n\u001b[1;32m      6\u001b[0m \u001b[0mdark_energy\u001b[0m \u001b[0;34m=\u001b[0m \u001b[0;36m1\u001b[0m\u001b[0;34m\u001b[0m\u001b[0;34m\u001b[0m\u001b[0m\n\u001b[1;32m      7\u001b[0m \u001b[0;34m\u001b[0m\u001b[0m\n\u001b[0;32m----> 8\u001b[0;31m \u001b[0;32mwhile\u001b[0m \u001b[0msith_power\u001b[0m \u001b[0;34m>\u001b[0m \u001b[0;36m0\u001b[0m\u001b[0;34m:\u001b[0m\u001b[0;34m\u001b[0m\u001b[0;34m\u001b[0m\u001b[0m\n\u001b[0m\u001b[1;32m      9\u001b[0m     \u001b[0mdark_energy\u001b[0m \u001b[0;34m+=\u001b[0m \u001b[0msith_power\u001b[0m  \u001b[0;31m# Absorbing more power\u001b[0m\u001b[0;34m\u001b[0m\u001b[0;34m\u001b[0m\u001b[0m\n\u001b[1;32m     10\u001b[0m     \u001b[0msith_power\u001b[0m \u001b[0;34m=\u001b[0m \u001b[0msith_power\u001b[0m \u001b[0;34m+\u001b[0m \u001b[0;36m1\u001b[0m  \u001b[0;31m# Uh oh... the Dark Side is growing stronger\u001b[0m\u001b[0;34m\u001b[0m\u001b[0;34m\u001b[0m\u001b[0m\n",
            "\u001b[0;31mKeyboardInterrupt\u001b[0m: "
          ]
        }
      ],
      "execution_count": 57
    },
    {
      "cell_type": "markdown",
      "source": [
        "[Back to Questions](#scrollTo=g6dLm1Wv5yP6&line=1&uniqifier=1)"
      ],
      "metadata": {
        "id": "oPP_cZKMIT9K"
      },
      "id": "oPP_cZKMIT9K"
    },
    {
      "cell_type": "code",
      "source": [],
      "metadata": {
        "id": "3RLtgizQIVSq"
      },
      "id": "3RLtgizQIVSq",
      "execution_count": null,
      "outputs": []
    },
    {
      "cell_type": "code",
      "source": [],
      "metadata": {
        "id": "74A7fw1nIVQT"
      },
      "id": "74A7fw1nIVQT",
      "execution_count": null,
      "outputs": []
    },
    {
      "cell_type": "code",
      "source": [],
      "metadata": {
        "id": "TIXMBvFxIVOA"
      },
      "id": "TIXMBvFxIVOA",
      "execution_count": null,
      "outputs": []
    },
    {
      "cell_type": "code",
      "source": [],
      "metadata": {
        "id": "G9x8gUw4IVBN"
      },
      "id": "G9x8gUw4IVBN",
      "execution_count": null,
      "outputs": []
    },
    {
      "cell_type": "code",
      "source": [],
      "metadata": {
        "id": "l66tc7y2IU-y"
      },
      "id": "l66tc7y2IU-y",
      "execution_count": null,
      "outputs": []
    },
    {
      "cell_type": "code",
      "source": [],
      "metadata": {
        "id": "AmarZasTIU8P"
      },
      "id": "AmarZasTIU8P",
      "execution_count": null,
      "outputs": []
    },
    {
      "cell_type": "code",
      "source": [],
      "metadata": {
        "id": "M7WIxychIU5x"
      },
      "id": "M7WIxychIU5x",
      "execution_count": null,
      "outputs": []
    },
    {
      "cell_type": "code",
      "source": [],
      "metadata": {
        "id": "nnbOH9T9IU3u"
      },
      "id": "nnbOH9T9IU3u",
      "execution_count": null,
      "outputs": []
    },
    {
      "cell_type": "code",
      "source": [],
      "metadata": {
        "id": "2nDgdVItIU1F"
      },
      "id": "2nDgdVItIU1F",
      "execution_count": null,
      "outputs": []
    },
    {
      "cell_type": "code",
      "source": [],
      "metadata": {
        "id": "ztq8ddtKIUy3"
      },
      "id": "ztq8ddtKIUy3",
      "execution_count": null,
      "outputs": []
    },
    {
      "cell_type": "code",
      "source": [],
      "metadata": {
        "id": "kpLHsANZIUwZ"
      },
      "id": "kpLHsANZIUwZ",
      "execution_count": null,
      "outputs": []
    },
    {
      "metadata": {
        "id": "81d24583a78e8ce7"
      },
      "cell_type": "markdown",
      "source": [
        "#### ⚡ Descent into Darkness - $500"
      ],
      "id": "81d24583a78e8ce7"
    },
    {
      "metadata": {
        "jupyter": {
          "is_executing": true
        },
        "id": "a5d4915ff9bb62e0",
        "colab": {
          "base_uri": "https://localhost:8080/"
        },
        "outputId": "7d0e568f-f6e6-4666-f456-90bef5f11e79"
      },
      "cell_type": "code",
      "source": [
        "# Provide the print statement that will give this output?\n",
        "\n",
        "sith_name = \"VADER\"\n",
        "i = 0\n",
        "\n",
        "# A loop with too much power… always leads to the dark side!\n",
        "while i < len(sith_name):\n",
        "    print('\\t'*(i) + sith_name[i])\n",
        "    i += 1"
      ],
      "id": "a5d4915ff9bb62e0",
      "outputs": [
        {
          "output_type": "stream",
          "name": "stdout",
          "text": [
            "V\n",
            "\tA\n",
            "\t\tD\n",
            "\t\t\tE\n",
            "\t\t\t\tR\n"
          ]
        }
      ],
      "execution_count": 58
    },
    {
      "cell_type": "markdown",
      "source": [
        "[Back to Questions](#scrollTo=g6dLm1Wv5yP6&line=1&uniqifier=1)"
      ],
      "metadata": {
        "id": "42tC0pbxIUUJ"
      },
      "id": "42tC0pbxIUUJ"
    },
    {
      "cell_type": "code",
      "source": [],
      "metadata": {
        "id": "Ak2jqaztIP3F"
      },
      "id": "Ak2jqaztIP3F",
      "execution_count": null,
      "outputs": []
    },
    {
      "cell_type": "code",
      "source": [],
      "metadata": {
        "id": "2yMiRT8GIP03"
      },
      "id": "2yMiRT8GIP03",
      "execution_count": null,
      "outputs": []
    },
    {
      "cell_type": "code",
      "source": [],
      "metadata": {
        "id": "9LX3cZHvIPyf"
      },
      "id": "9LX3cZHvIPyf",
      "execution_count": null,
      "outputs": []
    },
    {
      "cell_type": "code",
      "source": [],
      "metadata": {
        "id": "A2xKeFCGIPwN"
      },
      "id": "A2xKeFCGIPwN",
      "execution_count": null,
      "outputs": []
    },
    {
      "cell_type": "code",
      "source": [],
      "metadata": {
        "id": "hb3tl1ihIPtt"
      },
      "id": "hb3tl1ihIPtt",
      "execution_count": null,
      "outputs": []
    },
    {
      "cell_type": "code",
      "source": [],
      "metadata": {
        "id": "MEKZc4nFIPrM"
      },
      "id": "MEKZc4nFIPrM",
      "execution_count": null,
      "outputs": []
    },
    {
      "cell_type": "code",
      "source": [],
      "metadata": {
        "id": "Jt4KiIuxIPo_"
      },
      "id": "Jt4KiIuxIPo_",
      "execution_count": null,
      "outputs": []
    },
    {
      "cell_type": "code",
      "source": [],
      "metadata": {
        "id": "Z4WZSmocIPmf"
      },
      "id": "Z4WZSmocIPmf",
      "execution_count": null,
      "outputs": []
    },
    {
      "cell_type": "code",
      "source": [],
      "metadata": {
        "id": "2zGhWlvIIPjx"
      },
      "id": "2zGhWlvIIPjx",
      "execution_count": null,
      "outputs": []
    },
    {
      "cell_type": "code",
      "source": [],
      "metadata": {
        "id": "IVgjwRmKIPhT"
      },
      "id": "IVgjwRmKIPhT",
      "execution_count": null,
      "outputs": []
    },
    {
      "metadata": {
        "id": "908f98546dfcfe56"
      },
      "cell_type": "markdown",
      "source": [
        "#### ⚔️ \"Battle of Loops: The Files of Fate\" - $1000"
      ],
      "id": "908f98546dfcfe56"
    },
    {
      "metadata": {
        "id": "2c4d67eda01e802f"
      },
      "cell_type": "code",
      "outputs": [],
      "execution_count": 59,
      "source": [
        "# What will the contents of the file look like?\n",
        "\n",
        "# The endless war of loops... Who will win?\n",
        "\n",
        "file = open(\"battle_log.txt\", \"w\")\n",
        "\n",
        "power_level = 1\n",
        "while power_level <= 5:  # The battle continues for 5 rounds\n",
        "    file.write(\"Round \"+ str(power_level) + \": The Jedi and Sith clash!\\n\")\n",
        "    power_level += 1  # Power grows\n",
        "\n",
        "file.close()"
      ],
      "id": "2c4d67eda01e802f"
    },
    {
      "cell_type": "markdown",
      "source": [
        "[Back to Questions](#scrollTo=g6dLm1Wv5yP6&line=1&uniqifier=1)"
      ],
      "metadata": {
        "id": "7o4UihUoHbDb"
      },
      "id": "7o4UihUoHbDb"
    },
    {
      "cell_type": "code",
      "source": [],
      "metadata": {
        "id": "v1YulLtBHVNl"
      },
      "id": "v1YulLtBHVNl",
      "execution_count": null,
      "outputs": []
    },
    {
      "cell_type": "code",
      "source": [],
      "metadata": {
        "id": "ohGpzFQjHVLX"
      },
      "id": "ohGpzFQjHVLX",
      "execution_count": null,
      "outputs": []
    },
    {
      "cell_type": "code",
      "source": [],
      "metadata": {
        "id": "-lA8AUPIHVI_"
      },
      "id": "-lA8AUPIHVI_",
      "execution_count": null,
      "outputs": []
    },
    {
      "cell_type": "code",
      "source": [],
      "metadata": {
        "id": "7klrojRPHVGy"
      },
      "id": "7klrojRPHVGy",
      "execution_count": null,
      "outputs": []
    },
    {
      "cell_type": "code",
      "source": [],
      "metadata": {
        "id": "uLEA-q48HVEa"
      },
      "id": "uLEA-q48HVEa",
      "execution_count": null,
      "outputs": []
    },
    {
      "cell_type": "code",
      "source": [],
      "metadata": {
        "id": "aARqRrRVHVCM"
      },
      "id": "aARqRrRVHVCM",
      "execution_count": null,
      "outputs": []
    },
    {
      "cell_type": "code",
      "source": [],
      "metadata": {
        "id": "SizwdDjFHU_0"
      },
      "id": "SizwdDjFHU_0",
      "execution_count": null,
      "outputs": []
    },
    {
      "cell_type": "code",
      "source": [],
      "metadata": {
        "id": "C31awNexHU9e"
      },
      "id": "C31awNexHU9e",
      "execution_count": null,
      "outputs": []
    },
    {
      "cell_type": "code",
      "source": [],
      "metadata": {
        "id": "6o9NK2Y2HU7P"
      },
      "id": "6o9NK2Y2HU7P",
      "execution_count": null,
      "outputs": []
    },
    {
      "cell_type": "code",
      "source": [],
      "metadata": {
        "id": "EWVKOewsHU4i"
      },
      "id": "EWVKOewsHU4i",
      "execution_count": null,
      "outputs": []
    },
    {
      "cell_type": "markdown",
      "source": [
        "\n",
        "\n",
        "---\n",
        "\n",
        "\n",
        "# 🤖 The Boolean Identity"
      ],
      "metadata": {
        "id": "2pesKr50zzax"
      },
      "id": "2pesKr50zzax"
    },
    {
      "metadata": {
        "id": "1716b911a1689147"
      },
      "cell_type": "markdown",
      "source": [
        "#### 🕶 Agent Smith’s Logic Trap - $250"
      ],
      "id": "1716b911a1689147"
    },
    {
      "cell_type": "code",
      "id": "185a638d",
      "metadata": {
        "jupyter": {
          "is_executing": true
        },
        "id": "185a638d"
      },
      "source": [
        "# What is the output?\n",
        "\n",
        "neo_choice = 10\n",
        "morpheus_signal = 25\n",
        "if neo_choice**2 > 100 and morpheus_signal < 50:\n",
        "    print(\"Welcome to the real world.\")"
      ],
      "outputs": [],
      "execution_count": 60
    },
    {
      "cell_type": "markdown",
      "source": [
        "[Back to Questions](#scrollTo=g6dLm1Wv5yP6&line=1&uniqifier=1)"
      ],
      "metadata": {
        "id": "iKN-D-rLJJ6J"
      },
      "id": "iKN-D-rLJJ6J"
    },
    {
      "cell_type": "code",
      "source": [],
      "metadata": {
        "id": "ebwjdFNAJK1p"
      },
      "id": "ebwjdFNAJK1p",
      "execution_count": null,
      "outputs": []
    },
    {
      "cell_type": "code",
      "source": [],
      "metadata": {
        "id": "MUgzIr1QJKzU"
      },
      "id": "MUgzIr1QJKzU",
      "execution_count": null,
      "outputs": []
    },
    {
      "cell_type": "code",
      "source": [],
      "metadata": {
        "id": "X2EB7bYBJKxD"
      },
      "id": "X2EB7bYBJKxD",
      "execution_count": null,
      "outputs": []
    },
    {
      "cell_type": "code",
      "source": [],
      "metadata": {
        "id": "2USmLdtvJKut"
      },
      "id": "2USmLdtvJKut",
      "execution_count": null,
      "outputs": []
    },
    {
      "cell_type": "code",
      "source": [],
      "metadata": {
        "id": "QVlnlJxpJKsX"
      },
      "id": "QVlnlJxpJKsX",
      "execution_count": null,
      "outputs": []
    },
    {
      "cell_type": "code",
      "source": [],
      "metadata": {
        "id": "UHmMwZAoJKqF"
      },
      "id": "UHmMwZAoJKqF",
      "execution_count": null,
      "outputs": []
    },
    {
      "cell_type": "code",
      "source": [],
      "metadata": {
        "id": "VjRkwl8kJKnk"
      },
      "id": "VjRkwl8kJKnk",
      "execution_count": null,
      "outputs": []
    },
    {
      "cell_type": "code",
      "source": [],
      "metadata": {
        "id": "hTsKhBN8JKlT"
      },
      "id": "hTsKhBN8JKlT",
      "execution_count": null,
      "outputs": []
    },
    {
      "cell_type": "code",
      "source": [],
      "metadata": {
        "id": "Z6OUeWwBJKi9"
      },
      "id": "Z6OUeWwBJKi9",
      "execution_count": null,
      "outputs": []
    },
    {
      "cell_type": "code",
      "source": [],
      "metadata": {
        "id": "7td4X9iVJKgS"
      },
      "id": "7td4X9iVJKgS",
      "execution_count": null,
      "outputs": []
    },
    {
      "metadata": {
        "id": "bcded41764f4fd29"
      },
      "cell_type": "markdown",
      "source": [
        "#### 💊 The Pill Dillema - $500"
      ],
      "id": "bcded41764f4fd29"
    },
    {
      "cell_type": "code",
      "execution_count": 61,
      "id": "9abcb1bc",
      "metadata": {
        "id": "9abcb1bc",
        "colab": {
          "base_uri": "https://localhost:8080/"
        },
        "outputId": "c9a39e9f-c494-45af-d345-7913ebdc246f"
      },
      "outputs": [
        {
          "output_type": "stream",
          "name": "stdout",
          "text": [
            "Red pill\n"
          ]
        }
      ],
      "source": [
        "# What is the output?\n",
        "\n",
        "def f():\n",
        "    return False\n",
        "\n",
        "x = 2\n",
        "\n",
        "if f() and x > 3:\n",
        "    print(\"Blue pill\")\n",
        "elif x <= 2 or f():\n",
        "    print(\"Red pill\")\n",
        "    if 2 + x > 4 and f():\n",
        "        f()"
      ]
    },
    {
      "cell_type": "markdown",
      "source": [
        "[Back to Questions](#scrollTo=g6dLm1Wv5yP6&line=1&uniqifier=1)"
      ],
      "metadata": {
        "id": "5hK9tcJrJI60"
      },
      "id": "5hK9tcJrJI60"
    },
    {
      "cell_type": "code",
      "source": [
        "# Python evaluates and by checking truthy and falsy values\n",
        "# Doesn't just return True or False - it returns the last evaluated truthy value.\n",
        "\n",
        "red_pill = 0\n",
        "blue_pill = 101\n",
        "print(red_pill and blue_pill)"
      ],
      "metadata": {
        "id": "UTCS6vkyJHJz"
      },
      "id": "UTCS6vkyJHJz",
      "execution_count": null,
      "outputs": []
    },
    {
      "cell_type": "code",
      "source": [],
      "metadata": {
        "id": "UfQJ8ByTJHGz"
      },
      "id": "UfQJ8ByTJHGz",
      "execution_count": null,
      "outputs": []
    },
    {
      "cell_type": "code",
      "source": [],
      "metadata": {
        "id": "ukBw1_zGJHEd"
      },
      "id": "ukBw1_zGJHEd",
      "execution_count": null,
      "outputs": []
    },
    {
      "cell_type": "code",
      "source": [],
      "metadata": {
        "id": "s7JKdp1TJHBv"
      },
      "id": "s7JKdp1TJHBv",
      "execution_count": null,
      "outputs": []
    },
    {
      "cell_type": "code",
      "source": [],
      "metadata": {
        "id": "TnkgP-0_JG85"
      },
      "id": "TnkgP-0_JG85",
      "execution_count": null,
      "outputs": []
    },
    {
      "cell_type": "code",
      "source": [],
      "metadata": {
        "id": "EP-sFjnhJG6T"
      },
      "id": "EP-sFjnhJG6T",
      "execution_count": null,
      "outputs": []
    },
    {
      "cell_type": "code",
      "source": [],
      "metadata": {
        "id": "ajFXaMBfJG3l"
      },
      "id": "ajFXaMBfJG3l",
      "execution_count": null,
      "outputs": []
    },
    {
      "cell_type": "code",
      "source": [],
      "metadata": {
        "id": "NOzR3KpSJG05"
      },
      "id": "NOzR3KpSJG05",
      "execution_count": null,
      "outputs": []
    },
    {
      "cell_type": "code",
      "source": [],
      "metadata": {
        "id": "kKCKdnRsJGya"
      },
      "id": "kKCKdnRsJGya",
      "execution_count": null,
      "outputs": []
    },
    {
      "cell_type": "code",
      "source": [],
      "metadata": {
        "id": "UpifEympJGvT"
      },
      "id": "UpifEympJGvT",
      "execution_count": null,
      "outputs": []
    },
    {
      "metadata": {
        "id": "b8f2ec1341fc783e"
      },
      "cell_type": "markdown",
      "source": [
        "#### ☝️ The One Condition - $1000"
      ],
      "id": "b8f2ec1341fc783e"
    },
    {
      "metadata": {
        "jupyter": {
          "is_executing": true
        },
        "collapsed": true,
        "id": "7e809e7a01fb95cc"
      },
      "cell_type": "code",
      "source": [
        "# Which Boolean condition will evaluate True when matrix == \"real_world\" or matrix == \"illusion\"?\n",
        "\n",
        "matrix = \"real_world\""
      ],
      "id": "7e809e7a01fb95cc",
      "outputs": [],
      "execution_count": null
    },
    {
      "cell_type": "code",
      "source": [
        "print(matrix == \"real_world\" == \"illusion\")"
      ],
      "metadata": {
        "id": "jrgQLZkQKzJB"
      },
      "id": "jrgQLZkQKzJB",
      "execution_count": null,
      "outputs": []
    },
    {
      "cell_type": "code",
      "source": [
        "print(matrix = \"real_world\" or matrix = \"illusion\")"
      ],
      "metadata": {
        "id": "LvmbXpWjK2UE"
      },
      "id": "LvmbXpWjK2UE",
      "execution_count": null,
      "outputs": []
    },
    {
      "cell_type": "code",
      "source": [
        "print(matrix == \"real_world\" or matrix == \"illusion\")"
      ],
      "metadata": {
        "id": "OKY4-ZlOK3VQ"
      },
      "id": "OKY4-ZlOK3VQ",
      "execution_count": null,
      "outputs": []
    },
    {
      "cell_type": "code",
      "source": [
        "print(matrix = \"real_world\" and matrix = \"illusion\")"
      ],
      "metadata": {
        "id": "Pw6y58zqK4M7"
      },
      "id": "Pw6y58zqK4M7",
      "execution_count": null,
      "outputs": []
    },
    {
      "cell_type": "code",
      "source": [
        "print(matrix == \"real_world\" and matrix == \"illusion\")"
      ],
      "metadata": {
        "id": "Xyb3UsysK5By"
      },
      "id": "Xyb3UsysK5By",
      "execution_count": null,
      "outputs": []
    },
    {
      "cell_type": "markdown",
      "source": [
        "[Back to Questions](#scrollTo=g6dLm1Wv5yP6&line=1&uniqifier=1)"
      ],
      "metadata": {
        "id": "1iPN5QduJLnW"
      },
      "id": "1iPN5QduJLnW"
    },
    {
      "cell_type": "code",
      "source": [],
      "metadata": {
        "id": "55OVhRRjJMZl"
      },
      "id": "55OVhRRjJMZl",
      "execution_count": null,
      "outputs": []
    },
    {
      "cell_type": "code",
      "source": [],
      "metadata": {
        "id": "VFDFtCmlJMXV"
      },
      "id": "VFDFtCmlJMXV",
      "execution_count": null,
      "outputs": []
    },
    {
      "cell_type": "code",
      "source": [],
      "metadata": {
        "id": "qbnoQzUIJMU4"
      },
      "id": "qbnoQzUIJMU4",
      "execution_count": null,
      "outputs": []
    },
    {
      "cell_type": "code",
      "source": [],
      "metadata": {
        "id": "bFlwvra_JMS0"
      },
      "id": "bFlwvra_JMS0",
      "execution_count": null,
      "outputs": []
    },
    {
      "cell_type": "code",
      "source": [],
      "metadata": {
        "id": "Qo5m66ZvJMRF"
      },
      "id": "Qo5m66ZvJMRF",
      "execution_count": null,
      "outputs": []
    },
    {
      "cell_type": "code",
      "source": [],
      "metadata": {
        "id": "778qdZMPJMOK"
      },
      "id": "778qdZMPJMOK",
      "execution_count": null,
      "outputs": []
    },
    {
      "cell_type": "code",
      "source": [],
      "metadata": {
        "id": "owzrmmzjJMLY"
      },
      "id": "owzrmmzjJMLY",
      "execution_count": null,
      "outputs": []
    },
    {
      "cell_type": "code",
      "source": [],
      "metadata": {
        "id": "r76N_JNDJMIu"
      },
      "id": "r76N_JNDJMIu",
      "execution_count": null,
      "outputs": []
    },
    {
      "cell_type": "code",
      "source": [],
      "metadata": {
        "id": "sQ5FiasIJMGP"
      },
      "id": "sQ5FiasIJMGP",
      "execution_count": null,
      "outputs": []
    },
    {
      "cell_type": "code",
      "source": [],
      "metadata": {
        "id": "kFzMRLUtJMDp"
      },
      "id": "kFzMRLUtJMDp",
      "execution_count": null,
      "outputs": []
    },
    {
      "cell_type": "code",
      "source": [],
      "metadata": {
        "id": "fOv04QtPJMBA"
      },
      "id": "fOv04QtPJMBA",
      "execution_count": null,
      "outputs": []
    },
    {
      "cell_type": "markdown",
      "source": [
        "\n",
        "\n",
        "---\n",
        "\n",
        "\n",
        "# 🦇 The Batcode Rises"
      ],
      "metadata": {
        "id": "G1ttEqpPz3bY"
      },
      "id": "G1ttEqpPz3bY"
    },
    {
      "metadata": {
        "id": "706a38985873a9ea"
      },
      "cell_type": "markdown",
      "source": [
        "#### 💪 True power of the Dark Knight - $250"
      ],
      "id": "706a38985873a9ea"
    },
    {
      "metadata": {
        "jupyter": {
          "is_executing": true
        },
        "id": "574809ddb519f9c4",
        "colab": {
          "base_uri": "https://localhost:8080/",
          "height": 228
        },
        "outputId": "5e4a3ec9-4cbc-4411-fde5-b2d263c187bc"
      },
      "cell_type": "code",
      "source": [
        "# What is the outcome of executing the code above?\n",
        "\n",
        "def dark_knight_power(num):\n",
        "    \"\"\"The Dark Knight rises... to the power of 3.\"\"\"\n",
        "    print(num**3)\n",
        "\n",
        "# The Dark Knight tests his might\n",
        "bat_signal1 = dark_knight_power(5)\n",
        "bat_signal2 = bat_signal1 + 1\n",
        "\n",
        "print(\"Gotham's power level: \", bat_signal2)\n",
        "\n",
        "# But justice never rests..."
      ],
      "id": "574809ddb519f9c4",
      "outputs": [
        {
          "output_type": "stream",
          "name": "stdout",
          "text": [
            "125\n"
          ]
        },
        {
          "output_type": "error",
          "ename": "TypeError",
          "evalue": "unsupported operand type(s) for +: 'NoneType' and 'int'",
          "traceback": [
            "\u001b[0;31m---------------------------------------------------------------------------\u001b[0m",
            "\u001b[0;31mTypeError\u001b[0m                                 Traceback (most recent call last)",
            "\u001b[0;32m<ipython-input-40-4028243e1db3>\u001b[0m in \u001b[0;36m<cell line: 0>\u001b[0;34m()\u001b[0m\n\u001b[1;32m      7\u001b[0m \u001b[0;31m# The Dark Knight tests his might\u001b[0m\u001b[0;34m\u001b[0m\u001b[0;34m\u001b[0m\u001b[0m\n\u001b[1;32m      8\u001b[0m \u001b[0mbat_signal1\u001b[0m \u001b[0;34m=\u001b[0m \u001b[0mdark_knight_power\u001b[0m\u001b[0;34m(\u001b[0m\u001b[0;36m5\u001b[0m\u001b[0;34m)\u001b[0m\u001b[0;34m\u001b[0m\u001b[0;34m\u001b[0m\u001b[0m\n\u001b[0;32m----> 9\u001b[0;31m \u001b[0mbat_signal2\u001b[0m \u001b[0;34m=\u001b[0m \u001b[0mbat_signal1\u001b[0m \u001b[0;34m+\u001b[0m \u001b[0;36m1\u001b[0m\u001b[0;34m\u001b[0m\u001b[0;34m\u001b[0m\u001b[0m\n\u001b[0m\u001b[1;32m     10\u001b[0m \u001b[0;34m\u001b[0m\u001b[0m\n\u001b[1;32m     11\u001b[0m \u001b[0mprint\u001b[0m\u001b[0;34m(\u001b[0m\u001b[0;34m\"Gotham's power level: \"\u001b[0m\u001b[0;34m,\u001b[0m \u001b[0mbat_signal2\u001b[0m\u001b[0;34m)\u001b[0m\u001b[0;34m\u001b[0m\u001b[0;34m\u001b[0m\u001b[0m\n",
            "\u001b[0;31mTypeError\u001b[0m: unsupported operand type(s) for +: 'NoneType' and 'int'"
          ]
        }
      ],
      "execution_count": 40
    },
    {
      "cell_type": "markdown",
      "source": [
        "[Back to Questions](#scrollTo=g6dLm1Wv5yP6&line=1&uniqifier=1)"
      ],
      "metadata": {
        "id": "sfBi7y0oJN1D"
      },
      "id": "sfBi7y0oJN1D"
    },
    {
      "cell_type": "code",
      "source": [],
      "metadata": {
        "id": "nKbKRbpwJOmB"
      },
      "id": "nKbKRbpwJOmB",
      "execution_count": null,
      "outputs": []
    },
    {
      "cell_type": "code",
      "source": [],
      "metadata": {
        "id": "y1OF-foQJOjn"
      },
      "id": "y1OF-foQJOjn",
      "execution_count": null,
      "outputs": []
    },
    {
      "cell_type": "code",
      "source": [],
      "metadata": {
        "id": "BV3wDefFJOhI"
      },
      "id": "BV3wDefFJOhI",
      "execution_count": null,
      "outputs": []
    },
    {
      "cell_type": "code",
      "source": [],
      "metadata": {
        "id": "i66ZLQ6yJOe9"
      },
      "id": "i66ZLQ6yJOe9",
      "execution_count": null,
      "outputs": []
    },
    {
      "cell_type": "code",
      "source": [],
      "metadata": {
        "id": "F9sna3NeJOcj"
      },
      "id": "F9sna3NeJOcj",
      "execution_count": null,
      "outputs": []
    },
    {
      "cell_type": "code",
      "source": [],
      "metadata": {
        "id": "zMaCesgAJOaM"
      },
      "id": "zMaCesgAJOaM",
      "execution_count": null,
      "outputs": []
    },
    {
      "cell_type": "code",
      "source": [],
      "metadata": {
        "id": "sMSSNjqtJOXu"
      },
      "id": "sMSSNjqtJOXu",
      "execution_count": null,
      "outputs": []
    },
    {
      "cell_type": "code",
      "source": [],
      "metadata": {
        "id": "qNGazC56JOVQ"
      },
      "id": "qNGazC56JOVQ",
      "execution_count": null,
      "outputs": []
    },
    {
      "metadata": {
        "id": "c6686c151de1ea2"
      },
      "cell_type": "markdown",
      "source": [
        "#### 🃏 The Dark Knight’s Moral Code - $500"
      ],
      "id": "c6686c151de1ea2"
    },
    {
      "metadata": {
        "jupyter": {
          "is_executing": true
        },
        "id": "597b6e97d4dab2a8",
        "colab": {
          "base_uri": "https://localhost:8080/"
        },
        "outputId": "089df57b-d231-44dc-b23f-57d5415e88cf"
      },
      "cell_type": "code",
      "source": [
        "# What is the output?\n",
        "\n",
        "def batman_or_joker(score):\n",
        "    if score > 90:\n",
        "        return \"You're Batman.\"\n",
        "    elif score > 50:\n",
        "        return \"You're Two-Face.\"\n",
        "    else:\n",
        "        return \"You're Joker.\"\n",
        "\n",
        "print(batman_or_joker(85))"
      ],
      "id": "597b6e97d4dab2a8",
      "outputs": [
        {
          "output_type": "stream",
          "name": "stdout",
          "text": [
            "You're Two-Face.\n"
          ]
        }
      ],
      "execution_count": 62
    },
    {
      "cell_type": "markdown",
      "source": [
        "[Back to Questions](#scrollTo=g6dLm1Wv5yP6&line=1&uniqifier=1)"
      ],
      "metadata": {
        "id": "vtt4INVbJPiM"
      },
      "id": "vtt4INVbJPiM"
    },
    {
      "cell_type": "code",
      "source": [],
      "metadata": {
        "id": "bkKt2m3zJQaB"
      },
      "id": "bkKt2m3zJQaB",
      "execution_count": null,
      "outputs": []
    },
    {
      "cell_type": "code",
      "source": [],
      "metadata": {
        "id": "1Y3evGRSJQXn"
      },
      "id": "1Y3evGRSJQXn",
      "execution_count": null,
      "outputs": []
    },
    {
      "cell_type": "code",
      "source": [],
      "metadata": {
        "id": "UZWWStnpJQVc"
      },
      "id": "UZWWStnpJQVc",
      "execution_count": null,
      "outputs": []
    },
    {
      "cell_type": "code",
      "source": [],
      "metadata": {
        "id": "oyIMY8K1JQTO"
      },
      "id": "oyIMY8K1JQTO",
      "execution_count": null,
      "outputs": []
    },
    {
      "cell_type": "code",
      "source": [],
      "metadata": {
        "id": "Fst4A6fsJQQw"
      },
      "id": "Fst4A6fsJQQw",
      "execution_count": null,
      "outputs": []
    },
    {
      "cell_type": "code",
      "source": [],
      "metadata": {
        "id": "lHTWpdcgJQOG"
      },
      "id": "lHTWpdcgJQOG",
      "execution_count": null,
      "outputs": []
    },
    {
      "cell_type": "code",
      "source": [],
      "metadata": {
        "id": "dVdwVrpHJQLv"
      },
      "id": "dVdwVrpHJQLv",
      "execution_count": null,
      "outputs": []
    },
    {
      "cell_type": "code",
      "source": [],
      "metadata": {
        "id": "6YM6Z7xcJQJo"
      },
      "id": "6YM6Z7xcJQJo",
      "execution_count": null,
      "outputs": []
    },
    {
      "cell_type": "code",
      "source": [],
      "metadata": {
        "id": "Hi8jitu6JQHJ"
      },
      "id": "Hi8jitu6JQHJ",
      "execution_count": null,
      "outputs": []
    },
    {
      "metadata": {
        "id": "45b8cf94db492a72"
      },
      "cell_type": "markdown",
      "source": [
        "#### 🌉 WHERE IS HE?! - $1000"
      ],
      "id": "45b8cf94db492a72"
    },
    {
      "cell_type": "code",
      "source": [
        "# 1. The Dark Knight-Themed Function\n",
        "\n",
        "def where_is_batman(city):\n",
        "    \"\"\"Gotham needs to know where he is...\"\"\"\n",
        "    print(\"Gotham\")\n",
        "    return \"Gotham\""
      ],
      "metadata": {
        "id": "qynUsaXWPtBx"
      },
      "id": "qynUsaXWPtBx",
      "execution_count": 63,
      "outputs": []
    },
    {
      "cell_type": "code",
      "source": [
        "bat_signal = where_is_batman('Gotham')"
      ],
      "metadata": {
        "id": "hBzYX4rYPvNT",
        "colab": {
          "base_uri": "https://localhost:8080/"
        },
        "outputId": "5b9014e3-51ec-4b93-e2be-a7cca7efc1c8"
      },
      "id": "hBzYX4rYPvNT",
      "execution_count": 64,
      "outputs": [
        {
          "output_type": "stream",
          "name": "stdout",
          "text": [
            "Gotham\n"
          ]
        }
      ]
    },
    {
      "cell_type": "code",
      "source": [
        "print(bat_signal)"
      ],
      "metadata": {
        "id": "TNnOXGd4PwtT",
        "colab": {
          "base_uri": "https://localhost:8080/"
        },
        "outputId": "884e47d9-266c-40e8-98d9-57265114ee72"
      },
      "id": "TNnOXGd4PwtT",
      "execution_count": 65,
      "outputs": [
        {
          "output_type": "stream",
          "name": "stdout",
          "text": [
            "Gotham\n"
          ]
        }
      ]
    },
    {
      "cell_type": "markdown",
      "source": [
        "[Back to Questions](#scrollTo=g6dLm1Wv5yP6&line=1&uniqifier=1)"
      ],
      "metadata": {
        "id": "ORkJsYpAJR59"
      },
      "id": "ORkJsYpAJR59"
    },
    {
      "cell_type": "code",
      "source": [],
      "metadata": {
        "id": "UNI22edIJSs9"
      },
      "id": "UNI22edIJSs9",
      "execution_count": null,
      "outputs": []
    },
    {
      "cell_type": "code",
      "source": [],
      "metadata": {
        "id": "Pqx7kqiuJSq3"
      },
      "id": "Pqx7kqiuJSq3",
      "execution_count": null,
      "outputs": []
    },
    {
      "cell_type": "code",
      "source": [],
      "metadata": {
        "id": "84juE7-KJSon"
      },
      "id": "84juE7-KJSon",
      "execution_count": null,
      "outputs": []
    },
    {
      "cell_type": "code",
      "source": [],
      "metadata": {
        "id": "nn3fNOZaJSl5"
      },
      "id": "nn3fNOZaJSl5",
      "execution_count": null,
      "outputs": []
    },
    {
      "cell_type": "code",
      "source": [],
      "metadata": {
        "id": "x-N8DM_GJSjK"
      },
      "id": "x-N8DM_GJSjK",
      "execution_count": null,
      "outputs": []
    },
    {
      "cell_type": "code",
      "source": [],
      "metadata": {
        "id": "KYehdTyyJSgz"
      },
      "id": "KYehdTyyJSgz",
      "execution_count": null,
      "outputs": []
    },
    {
      "cell_type": "code",
      "source": [],
      "metadata": {
        "id": "MKWFWqDDJSeU"
      },
      "id": "MKWFWqDDJSeU",
      "execution_count": null,
      "outputs": []
    },
    {
      "cell_type": "code",
      "source": [],
      "metadata": {
        "id": "lgJ98SlWJSbm"
      },
      "id": "lgJ98SlWJSbm",
      "execution_count": null,
      "outputs": []
    },
    {
      "cell_type": "markdown",
      "source": [
        "\n",
        "\n",
        "---\n",
        "\n",
        "\n",
        "\n",
        "# 🔍 Mission: Code Extraction"
      ],
      "metadata": {
        "id": "dsWr29Slz_FJ"
      },
      "id": "dsWr29Slz_FJ"
    },
    {
      "metadata": {
        "id": "93f463e693949a2a"
      },
      "cell_type": "markdown",
      "source": [
        "#### ⌚ Timer Reset - $250"
      ],
      "id": "93f463e693949a2a"
    },
    {
      "metadata": {
        "jupyter": {
          "is_executing": true
        },
        "id": "43eed43bed35aeac",
        "colab": {
          "base_uri": "https://localhost:8080/"
        },
        "outputId": "a04dffe5-3ab7-4b39-f646-8d5d4e2ebb98"
      },
      "cell_type": "code",
      "source": [
        "# What is the output?\n",
        "\n",
        "counter = 1\n",
        "time = 60 * counter\n",
        "\n",
        "counter += 1\n",
        "time = 60 * counter\n",
        "\n",
        "print(time)"
      ],
      "id": "43eed43bed35aeac",
      "outputs": [
        {
          "output_type": "stream",
          "name": "stdout",
          "text": [
            "120\n"
          ]
        }
      ],
      "execution_count": 66
    },
    {
      "cell_type": "markdown",
      "source": [
        "[Back to Questions](#scrollTo=g6dLm1Wv5yP6&line=1&uniqifier=1)"
      ],
      "metadata": {
        "id": "f5lFYSzyJT8C"
      },
      "id": "f5lFYSzyJT8C"
    },
    {
      "cell_type": "code",
      "source": [],
      "metadata": {
        "id": "l_RLojRfJU60"
      },
      "id": "l_RLojRfJU60",
      "execution_count": null,
      "outputs": []
    },
    {
      "cell_type": "code",
      "source": [],
      "metadata": {
        "id": "oi6ONcnjJU4u"
      },
      "id": "oi6ONcnjJU4u",
      "execution_count": null,
      "outputs": []
    },
    {
      "cell_type": "code",
      "source": [],
      "metadata": {
        "id": "-pLp91KTJU2i"
      },
      "id": "-pLp91KTJU2i",
      "execution_count": null,
      "outputs": []
    },
    {
      "cell_type": "code",
      "source": [],
      "metadata": {
        "id": "ZfM7Mx_hJU0T"
      },
      "id": "ZfM7Mx_hJU0T",
      "execution_count": null,
      "outputs": []
    },
    {
      "cell_type": "code",
      "source": [],
      "metadata": {
        "id": "9nzPAZyZJUx7"
      },
      "id": "9nzPAZyZJUx7",
      "execution_count": null,
      "outputs": []
    },
    {
      "cell_type": "code",
      "source": [],
      "metadata": {
        "id": "c0vJNELqJUvg"
      },
      "id": "c0vJNELqJUvg",
      "execution_count": null,
      "outputs": []
    },
    {
      "cell_type": "code",
      "source": [],
      "metadata": {
        "id": "8XWDc2ipJUtF"
      },
      "id": "8XWDc2ipJUtF",
      "execution_count": null,
      "outputs": []
    },
    {
      "cell_type": "code",
      "source": [],
      "metadata": {
        "id": "OUxPSQcKJUq5"
      },
      "id": "OUxPSQcKJUq5",
      "execution_count": null,
      "outputs": []
    },
    {
      "cell_type": "code",
      "source": [],
      "metadata": {
        "id": "F031xOYmJUoL"
      },
      "id": "F031xOYmJUoL",
      "execution_count": null,
      "outputs": []
    },
    {
      "metadata": {
        "id": "93801978e4c66c7b"
      },
      "cell_type": "markdown",
      "source": [
        "#### 💣 The Countdown Protocol - $500"
      ],
      "id": "93801978e4c66c7b"
    },
    {
      "metadata": {
        "id": "770fd48610020462",
        "colab": {
          "base_uri": "https://localhost:8080/"
        },
        "outputId": "f8054ea3-522a-4fef-e7d0-25eee60ba53b"
      },
      "cell_type": "code",
      "outputs": [
        {
          "output_type": "stream",
          "name": "stdout",
          "text": [
            "Calling function f..\n",
            "Executing function f...\n",
            "Calling function f..\n",
            "Executing function f...\n"
          ]
        }
      ],
      "execution_count": 67,
      "source": [
        "# How many times is the function f executed?\n",
        "\n",
        "def f(n):\n",
        "    print(\"Executing function f...\")\n",
        "    return n - 3\n",
        "\n",
        "x = 4\n",
        "while x > 0:\n",
        "    print(\"Calling function f..\")\n",
        "    x = f(x)"
      ],
      "id": "770fd48610020462"
    },
    {
      "cell_type": "markdown",
      "source": [
        "[Back to Questions](#scrollTo=g6dLm1Wv5yP6&line=1&uniqifier=1)"
      ],
      "metadata": {
        "id": "pBgXyLZMJV0I"
      },
      "id": "pBgXyLZMJV0I"
    },
    {
      "cell_type": "code",
      "source": [],
      "metadata": {
        "id": "lhY90SETJWY7"
      },
      "id": "lhY90SETJWY7",
      "execution_count": null,
      "outputs": []
    },
    {
      "cell_type": "code",
      "source": [],
      "metadata": {
        "id": "L3ZvjI4oJWWl"
      },
      "id": "L3ZvjI4oJWWl",
      "execution_count": null,
      "outputs": []
    },
    {
      "cell_type": "code",
      "source": [],
      "metadata": {
        "id": "z-QSiLZyJWUW"
      },
      "id": "z-QSiLZyJWUW",
      "execution_count": null,
      "outputs": []
    },
    {
      "cell_type": "code",
      "source": [],
      "metadata": {
        "id": "PHkcZpTeJWSK"
      },
      "id": "PHkcZpTeJWSK",
      "execution_count": null,
      "outputs": []
    },
    {
      "cell_type": "code",
      "source": [],
      "metadata": {
        "id": "EQX_eYeFJWP6"
      },
      "id": "EQX_eYeFJWP6",
      "execution_count": null,
      "outputs": []
    },
    {
      "cell_type": "code",
      "source": [],
      "metadata": {
        "id": "ZB3zO01nJWNa"
      },
      "id": "ZB3zO01nJWNa",
      "execution_count": null,
      "outputs": []
    },
    {
      "cell_type": "code",
      "source": [],
      "metadata": {
        "id": "w5kUkgGYJWK-"
      },
      "id": "w5kUkgGYJWK-",
      "execution_count": null,
      "outputs": []
    },
    {
      "metadata": {
        "id": "9ac85334e71b8c61"
      },
      "cell_type": "markdown",
      "source": [
        "#### 🪤 The Loop Trap - $1000"
      ],
      "id": "9ac85334e71b8c61"
    },
    {
      "metadata": {
        "jupyter": {
          "is_executing": true
        },
        "id": "a0cca985d84a7788",
        "colab": {
          "base_uri": "https://localhost:8080/"
        },
        "outputId": "d365a55f-f182-40f7-a5af-9be5ec5beb78"
      },
      "cell_type": "code",
      "source": [
        "# what will the code print?\n",
        "\n",
        "i = 0\n",
        "j = 6\n",
        "\n",
        "while 0 < j < 10:\n",
        "\n",
        "    print(i, end=\" \")\n",
        "\n",
        "    if j % 3 == 0:\n",
        "        j = j // 2\n",
        "    elif j % 2 == 0:\n",
        "        j = j * 2\n",
        "    else:\n",
        "        j = j + 1\n",
        "\n",
        "    i += 1\n",
        "    print(j)"
      ],
      "id": "a0cca985d84a7788",
      "outputs": [
        {
          "output_type": "stream",
          "name": "stdout",
          "text": [
            "0 3\n",
            "1 1\n",
            "2 2\n",
            "3 4\n",
            "4 8\n",
            "5 16\n"
          ]
        }
      ],
      "execution_count": 68
    },
    {
      "cell_type": "markdown",
      "source": [
        "[Back to Questions](#scrollTo=g6dLm1Wv5yP6&line=1&uniqifier=1)"
      ],
      "metadata": {
        "id": "LFvrULF1JXnX"
      },
      "id": "LFvrULF1JXnX"
    },
    {
      "cell_type": "code",
      "source": [],
      "metadata": {
        "id": "K9Xny0aUJYMB"
      },
      "id": "K9Xny0aUJYMB",
      "execution_count": null,
      "outputs": []
    },
    {
      "cell_type": "code",
      "source": [],
      "metadata": {
        "id": "LZ2mqo2rJYJo"
      },
      "id": "LZ2mqo2rJYJo",
      "execution_count": null,
      "outputs": []
    },
    {
      "cell_type": "code",
      "source": [],
      "metadata": {
        "id": "IEjyiMVsJYHV"
      },
      "id": "IEjyiMVsJYHV",
      "execution_count": null,
      "outputs": []
    },
    {
      "cell_type": "code",
      "source": [],
      "metadata": {
        "id": "-kE_2Y7eJYEz"
      },
      "id": "-kE_2Y7eJYEz",
      "execution_count": null,
      "outputs": []
    },
    {
      "cell_type": "code",
      "source": [],
      "metadata": {
        "id": "hSZIHK6DJYCa"
      },
      "id": "hSZIHK6DJYCa",
      "execution_count": null,
      "outputs": []
    },
    {
      "cell_type": "code",
      "source": [],
      "metadata": {
        "id": "sV1wuOIbJX_7"
      },
      "id": "sV1wuOIbJX_7",
      "execution_count": null,
      "outputs": []
    },
    {
      "cell_type": "code",
      "source": [],
      "metadata": {
        "id": "_-bGHwEZJX9N"
      },
      "id": "_-bGHwEZJX9N",
      "execution_count": null,
      "outputs": []
    },
    {
      "cell_type": "markdown",
      "source": [
        "\n",
        "\n",
        "---\n",
        "\n",
        "\n",
        "# 🏆 Final Jeopardy"
      ],
      "metadata": {
        "id": "Pz6SyokR0CUR"
      },
      "id": "Pz6SyokR0CUR"
    },
    {
      "metadata": {
        "id": "f8419438ffdc5d94"
      },
      "cell_type": "markdown",
      "source": [
        "#### 🌊 Mastering the ocean's flow"
      ],
      "id": "f8419438ffdc5d94"
    },
    {
      "cell_type": "markdown",
      "source": [
        "On Pandora, water changes depending on the environment.\n",
        "\n",
        "1.   At freezing temperatures, it becomes solid ice. ❄\n",
        "2.   When the temperature is normal, it flows gently. 🌊\n",
        "3.   When it’s too hot, it turns into steam. ☁\n",
        "\n",
        "📌 Your task:\n",
        "\n",
        "Determine the state of Pandora’s water based on its temperature.\n",
        "Write a program using a function that prompts the user for a temperature and prints out whether Pandora’s water is ice, liquid, or steam based on the temperature."
      ],
      "metadata": {
        "id": "QdNmmH1BL3tq"
      },
      "id": "QdNmmH1BL3tq"
    },
    {
      "cell_type": "code",
      "execution_count": 69,
      "id": "c0ebef12",
      "metadata": {
        "id": "c0ebef12",
        "colab": {
          "base_uri": "https://localhost:8080/"
        },
        "outputId": "5d37a070-152b-42bf-dba5-dd035db8f593"
      },
      "outputs": [
        {
          "output_type": "stream",
          "name": "stdout",
          "text": [
            "Enter a water temperature in Celsius: 54\n",
            "Flowing like the ocean of the Metkayina 🌊\n"
          ]
        }
      ],
      "source": [
        "def way_of_water_1(temp):\n",
        "    '''\n",
        "    (number) -> string\n",
        "    Returns the state of water on Pandora at temp degrees Celsius.\n",
        "    '''\n",
        "    if temp > 100:\n",
        "        return \"Rising like the mist above the Spirit Tree ☁️\"\n",
        "    elif temp > 0:\n",
        "        return \"Flowing like the ocean of the Metkayina 🌊\"\n",
        "    else:\n",
        "        return \"Frozen like the ice cliffs of Pandora ❄️\"\n",
        "\n",
        "\n",
        "degrees = int(input(\"Enter a water temperature in Celsius: \"))\n",
        "\n",
        "print(way_of_water_1(degrees))"
      ]
    },
    {
      "cell_type": "code",
      "source": [
        "def way_of_water_2(temp):\n",
        "    '''\n",
        "    (number) -> string\n",
        "    Returns the state of water on Pandora at temp degrees Celsius.\n",
        "    '''\n",
        "\n",
        "    if temp <= 0:\n",
        "        return \"Frozen like the ice cliffs of Pandora ❄️\"\n",
        "    elif temp <= 100:\n",
        "        return \"Flowing like the ocean of the Metkayina 🌊\"\n",
        "    else:\n",
        "        return \"Rising like the mist above the Spirit Tree ☁️\"\n",
        "\n",
        "\n",
        "degrees = int(input(\"Enter a water temperature in Celsius: \"))\n",
        "\n",
        "print(way_of_water_2(degrees))"
      ],
      "metadata": {
        "colab": {
          "base_uri": "https://localhost:8080/"
        },
        "id": "IgencKa4lstN",
        "outputId": "7da5002c-5d53-4a53-cfd5-59184fc4c529"
      },
      "id": "IgencKa4lstN",
      "execution_count": 50,
      "outputs": [
        {
          "output_type": "stream",
          "name": "stdout",
          "text": [
            "Enter a water temperature in Celsius: -65\n",
            "Frozen like the ice cliffs of Pandora ❄️\n"
          ]
        }
      ]
    },
    {
      "cell_type": "code",
      "source": [
        "def way_of_water_3(temp):\n",
        "    '''\n",
        "    (number) -> string\n",
        "    Returns the state of water on Pandora at temp degrees Celsius.\n",
        "    '''\n",
        "\n",
        "    state = \"Frozen like the ice cliffs of Pandora ❄️\"\n",
        "    if temp > 100:\n",
        "        state = \"Rising like the mist above the Spirit Tree ☁️\"\n",
        "    elif temp > 0:\n",
        "        state = \"Flowing like the ocean of the Metkayina 🌊\"\n",
        "\n",
        "    return state\n",
        "\n",
        "\n",
        "degrees = int(input(\"Enter a water temperature in Celsius: \"))\n",
        "\n",
        "print(way_of_water_3(degrees))"
      ],
      "metadata": {
        "colab": {
          "base_uri": "https://localhost:8080/"
        },
        "id": "6ng6vl0-lxol",
        "outputId": "f2d126a1-2f43-4d27-fd8b-20d7194df8d0"
      },
      "id": "6ng6vl0-lxol",
      "execution_count": 53,
      "outputs": [
        {
          "output_type": "stream",
          "name": "stdout",
          "text": [
            "Enter a water temperature in Celsius: 101\n",
            "Rising like the mist above the Spirit Tree ☁️\n"
          ]
        }
      ]
    },
    {
      "cell_type": "markdown",
      "source": [
        "[Back to Questions](#scrollTo=g6dLm1Wv5yP6&line=1&uniqifier=1)"
      ],
      "metadata": {
        "id": "J7BVWduvJaFF"
      },
      "id": "J7BVWduvJaFF"
    },
    {
      "cell_type": "code",
      "source": [],
      "metadata": {
        "id": "3z2zZ0BDjeSp"
      },
      "id": "3z2zZ0BDjeSp",
      "execution_count": null,
      "outputs": []
    }
  ],
  "metadata": {
    "kernelspec": {
      "display_name": "Python 3 (ipykernel)",
      "language": "python",
      "name": "python3"
    },
    "language_info": {
      "codemirror_mode": {
        "name": "ipython",
        "version": 3
      },
      "file_extension": ".py",
      "mimetype": "text/x-python",
      "name": "python",
      "nbconvert_exporter": "python",
      "pygments_lexer": "ipython3",
      "version": "3.8.12"
    },
    "colab": {
      "provenance": [],
      "collapsed_sections": [
        "ZbyCI7OszN3l",
        "60fbc0c3f365b428",
        "60af9d562d439df1",
        "b5342f01c93fc59d",
        "kCUUfYfbzsJS",
        "db1cf9f9c738992b",
        "81d24583a78e8ce7",
        "2pesKr50zzax",
        "1716b911a1689147",
        "bcded41764f4fd29",
        "b8f2ec1341fc783e",
        "G1ttEqpPz3bY",
        "706a38985873a9ea",
        "c6686c151de1ea2",
        "45b8cf94db492a72",
        "dsWr29Slz_FJ",
        "93f463e693949a2a",
        "93801978e4c66c7b",
        "9ac85334e71b8c61",
        "Pz6SyokR0CUR",
        "f8419438ffdc5d94"
      ]
    }
  },
  "nbformat": 4,
  "nbformat_minor": 5
}