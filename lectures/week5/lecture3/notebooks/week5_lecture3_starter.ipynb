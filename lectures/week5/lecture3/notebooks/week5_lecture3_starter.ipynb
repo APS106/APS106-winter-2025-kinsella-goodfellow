{
 "cells": [
  {
   "metadata": {
    "id": "60fbc0c3f365b428"
   },
   "cell_type": "markdown",
   "source": [
    "#### The Upside Down - $250"
   ],
   "id": "60fbc0c3f365b428"
  },
  {
   "cell_type": "code",
   "id": "4cc699d4",
   "metadata": {
    "jupyter": {
     "is_executing": true
    },
    "id": "4cc699d4"
   },
   "source": [
    "# What is the output?\n",
    "\n",
    "message = \"THE UPSIDE DOWN\"\n",
    "print(message[4:-4])"
   ],
   "outputs": [],
   "execution_count": null
  },
  {
   "metadata": {
    "id": "60af9d562d439df1"
   },
   "cell_type": "markdown",
   "source": [
    "#### Dustin’s Secret Transmission - $500"
   ],
   "id": "60af9d562d439df1"
  },
  {
   "metadata": {
    "jupyter": {
     "is_executing": true
    },
    "id": "5f459630424563b8"
   },
   "cell_type": "code",
   "source": [
    "# What is the output?\n",
    "\n",
    "radio_signal = \"Nobody normal ever accomplished anything meaningful in this world.\"\n",
    "radio_signal = radio_signal.lower()\n",
    "radio_signal = radio_signal.upper()\n",
    "radio_signal = radio_signal[15:4:-4]\n",
    "print(radio_signal)"
   ],
   "id": "5f459630424563b8",
   "outputs": [],
   "execution_count": null
  },
  {
   "metadata": {
    "id": "b5342f01c93fc59d"
   },
   "cell_type": "markdown",
   "source": [
    "#### Cracking Eleven’s Code - $1000"
   ],
   "id": "b5342f01c93fc59d"
  },
  {
   "metadata": {
    "jupyter": {
     "is_executing": true
    },
    "id": "6d7220a4a6b6b1a3"
   },
   "cell_type": "code",
   "source": [
    "# Provide the print statement that will give this output?\n",
    "\n",
    "my_name = \"MIRKWOOD\"\n",
    "for i in range(len(my_name)):\n",
    "    ..."
   ],
   "id": "6d7220a4a6b6b1a3",
   "outputs": [],
   "execution_count": null
  },
  {
   "metadata": {
    "id": "908f98546dfcfe56"
   },
   "cell_type": "markdown",
   "source": [
    "#### The Loop Awakens - $250"
   ],
   "id": "908f98546dfcfe56"
  },
  {
   "metadata": {
    "id": "2c4d67eda01e802f"
   },
   "cell_type": "code",
   "outputs": [],
   "execution_count": null,
   "source": [
    "# What are the values of var1 and var2 after the following code segment\n",
    "# is executed and the while loop finished?\n",
    "\n",
    "var1 = 0;\n",
    "var2 = 2;\n",
    "\n",
    "while ((var2!=0) and ((var1 / var2) >= 0)):\n",
    "    var1 = var1 + 1;\n",
    "    var2 = var2 - 1;\n",
    "\n",
    "print(var1, var2)"
   ],
   "id": "2c4d67eda01e802f"
  },
  {
   "metadata": {
    "id": "81d24583a78e8ce7"
   },
   "cell_type": "markdown",
   "source": [
    "#### Duel of Strings - $500"
   ],
   "id": "81d24583a78e8ce7"
  },
  {
   "metadata": {
    "jupyter": {
     "is_executing": true
    },
    "id": "a5d4915ff9bb62e0"
   },
   "cell_type": "code",
   "source": [
    "# what is the output?\n",
    "\n",
    "print(\"Yoda\" > \"YodA\")\n",
    "print(\"Obi-Wan\" < \"Obi\")"
   ],
   "id": "a5d4915ff9bb62e0",
   "outputs": [],
   "execution_count": null
  },
  {
   "metadata": {
    "id": "db1cf9f9c738992b"
   },
   "cell_type": "markdown",
   "source": [
    "#### Darth Debugger - $1000"
   ],
   "id": "db1cf9f9c738992b"
  },
  {
   "cell_type": "code",
   "id": "6b25f173",
   "metadata": {
    "jupyter": {
     "is_executing": true
    },
    "id": "6b25f173"
   },
   "source": [
    "# Verbally explain what happens in the following piece of code:\n",
    "\n",
    "n = 10\n",
    "answer = 1\n",
    "while n > 0:\n",
    "    answer = answer + n\n",
    "    n = n + 1\n",
    "print (answer)"
   ],
   "outputs": [],
   "execution_count": null
  },
  {
   "metadata": {
    "id": "bcded41764f4fd29"
   },
   "cell_type": "markdown",
   "source": [
    "#### Red Pill OR Blue Pill - $250"
   ],
   "id": "bcded41764f4fd29"
  },
  {
   "cell_type": "code",
   "execution_count": null,
   "id": "9abcb1bc",
   "metadata": {
    "id": "9abcb1bc"
   },
   "outputs": [],
   "source": [
    "# What is the output?\n",
    "\n",
    "red_pill = 100\n",
    "blue_pill = 101\n",
    "print(red_pill and blue_pill)"
   ]
  },
  {
   "metadata": {
    "id": "1716b911a1689147"
   },
   "cell_type": "markdown",
   "source": [
    "#### Agent Smith’s Logic Trap - $500"
   ],
   "id": "1716b911a1689147"
  },
  {
   "cell_type": "code",
   "id": "185a638d",
   "metadata": {
    "jupyter": {
     "is_executing": true
    },
    "id": "185a638d"
   },
   "source": [
    "# What is the output?\n",
    "\n",
    "neo_choice = 10\n",
    "morpheus_signal = 25\n",
    "if neo_choice**2 > 100 and morpheus_signal < 50:\n",
    "    print(\"Welcome to the real world.\")"
   ],
   "outputs": [],
   "execution_count": null
  },
  {
   "metadata": {
    "id": "b8f2ec1341fc783e"
   },
   "cell_type": "markdown",
   "source": [
    "#### The One Condition - $1000"
   ],
   "id": "b8f2ec1341fc783e"
  },
  {
   "metadata": {
    "jupyter": {
     "is_executing": true
    },
    "collapsed": true,
    "id": "7e809e7a01fb95cc"
   },
   "cell_type": "code",
   "source": [
    "# Which Boolean condition will evaluate True when matrix == \"real_world\" or matrix == \"illusion\"?\n",
    "\n",
    "matrix = \"real_world\"\n",
    "print(matrix == \"real_world\" == \"illusion\")\n",
    "print(matrix = \"real_world\" or matrix = \"illusion\")\n",
    "print(matrix == \"real_world\" or matrix == \"illusion\")\n",
    "print(matrix = \"real_world\" and matrix = \"illusion\")\n",
    "print(matrix == \"real_world\" and matrix == \"illusion\")"
   ],
   "id": "7e809e7a01fb95cc",
   "outputs": [],
   "execution_count": null
  },
  {
   "metadata": {
    "id": "706a38985873a9ea"
   },
   "cell_type": "markdown",
   "source": [
    "#### True power of the Dark Knight - $250"
   ],
   "id": "706a38985873a9ea"
  },
  {
   "metadata": {
    "jupyter": {
     "is_executing": true
    },
    "id": "574809ddb519f9c4"
   },
   "cell_type": "code",
   "source": [
    "# What is the outcome of executing the code above?\n",
    "\n",
    "def dark_knight_power(num):\n",
    "    \"\"\"The Dark Knight rises... to the power of 3.\"\"\"\n",
    "    print(num**3)\n",
    "\n",
    "# The Dark Knight tests his might\n",
    "bat_signal1 = dark_knight_power(5)\n",
    "bat_signal2 = bat_signal1 + 1\n",
    "\n",
    "print(f\"Gotham's power level: {bat_signal2}\")\n",
    "\n",
    "# But justice never rests..."
   ],
   "id": "574809ddb519f9c4",
   "outputs": [],
   "execution_count": null
  },
  {
   "metadata": {
    "id": "c6686c151de1ea2"
   },
   "cell_type": "markdown",
   "source": [
    "#### Get func-y with it - $500"
   ],
   "id": "c6686c151de1ea2"
  },
  {
   "metadata": {
    "jupyter": {
     "is_executing": true
    },
    "id": "597b6e97d4dab2a8"
   },
   "cell_type": "code",
   "source": [
    "# What is the output?\n",
    "\n",
    "def batman_or_joker(score):\n",
    "    if score > 90:\n",
    "        return \"You're Batman.\"\n",
    "    elif score > 50:\n",
    "        return \"You're Two-Face.\"\n",
    "    else:\n",
    "        return \"You're Joker.\"\n",
    "\n",
    "print(batman_or_joker(85))"
   ],
   "id": "597b6e97d4dab2a8",
   "outputs": [],
   "execution_count": null
  },
  {
   "metadata": {
    "id": "45b8cf94db492a72"
   },
   "cell_type": "markdown",
   "source": [
    "#### It's All Part of the Plan - $1000"
   ],
   "id": "45b8cf94db492a72"
  },
  {
   "cell_type": "code",
   "source": [
    "# 1. The Dark Knight-Themed Function\n",
    "\n",
    "def where_is_batman(city):\n",
    "    \"\"\"Gotham needs to know where he is...\"\"\"\n",
    "    print(\"Gotham\")\n",
    "    return \"Gotham\""
   ],
   "metadata": {
    "id": "qynUsaXWPtBx"
   },
   "id": "qynUsaXWPtBx",
   "execution_count": null,
   "outputs": []
  },
  {
   "cell_type": "code",
   "source": [
    "bat_signal = where_is_batman('Gotham')"
   ],
   "metadata": {
    "id": "hBzYX4rYPvNT"
   },
   "id": "hBzYX4rYPvNT",
   "execution_count": null,
   "outputs": []
  },
  {
   "cell_type": "code",
   "source": [
    "print(bat_signal)"
   ],
   "metadata": {
    "id": "TNnOXGd4PwtT"
   },
   "id": "TNnOXGd4PwtT",
   "execution_count": null,
   "outputs": []
  },
  {
   "metadata": {
    "id": "93f463e693949a2a"
   },
   "cell_type": "markdown",
   "source": [
    "#### Operation Divide & Fall - $250"
   ],
   "id": "93f463e693949a2a"
  },
  {
   "metadata": {
    "jupyter": {
     "is_executing": true
    },
    "id": "43eed43bed35aeac"
   },
   "cell_type": "code",
   "source": [
    "# A program runs and during running is asked to divide by zero, the program crashes.\n",
    "# This is an example of?\n",
    "\n",
    "secret_code = 1524312837\n",
    "print(secret_code / 0)"
   ],
   "id": "43eed43bed35aeac",
   "outputs": [],
   "execution_count": null
  },
  {
   "metadata": {
    "id": "93801978e4c66c7b"
   },
   "cell_type": "markdown",
   "source": [
    "#### Undercover syntax - $500"
   ],
   "id": "93801978e4c66c7b"
  },
  {
   "metadata": {
    "id": "770fd48610020462"
   },
   "cell_type": "code",
   "outputs": [],
   "execution_count": null,
   "source": [
    "# What will the output be from the following code?\n",
    "\n",
    "agent_status = 9\n",
    "print(agent_status / 3)"
   ],
   "id": "770fd48610020462"
  },
  {
   "metadata": {
    "id": "9ac85334e71b8c61"
   },
   "cell_type": "markdown",
   "source": [
    "#### The Disavowed Input - $1000"
   ],
   "id": "9ac85334e71b8c61"
  },
  {
   "metadata": {
    "jupyter": {
     "is_executing": true
    },
    "id": "a0cca985d84a7788"
   },
   "cell_type": "code",
   "source": [
    "# A hacker inputs \"ethanhunt\" and receives the response \"Intruder Detected! Self-destruct in 5 seconds.\".  What kind of error is that?\n",
    "\n",
    "access_code = input(\"Enter IMF override key: \")\n",
    "if access_code == \"EthanHunt\":\n",
    "    print(\"Mission Authorized!\")\n",
    "else:\n",
    "    print(\"Intruder Detected! Self-destruct in 5 seconds.\")"
   ],
   "id": "a0cca985d84a7788",
   "outputs": [],
   "execution_count": null
  },
  {
   "metadata": {
    "id": "f8419438ffdc5d94"
   },
   "cell_type": "markdown",
   "source": [
    "#### Mastering the ocean's flow"
   ],
   "id": "f8419438ffdc5d94"
  },
  {
   "cell_type": "code",
   "id": "c0ebef12",
   "metadata": {
    "id": "c0ebef12",
    "jupyter": {
     "is_executing": true
    }
   },
   "source": [
    "# On Pandora, water changes depending on the environment.\n",
    "# At freezing temperatures, it becomes solid ice.\n",
    "# When the temperature is normal, it flows gently.\n",
    "# When it’s too hot, it turns into steam.\n",
    "\n",
    "# Your task:\n",
    "# Determine the state of Pandora’s water based on its temperature.\n",
    "# Write a function that determines whether Pandora’s water is ice, liquid, or steam based on temperature.\n",
    "\n",
    "# use any one of these three\n",
    "\n",
    "def way_of_water(temp):\n",
    "    '''\n",
    "    (number) -> string\n",
    "    Returns the state of water on Pandora at temp degrees Celsius.\n",
    "    '''\n",
    "    if temp > 100:\n",
    "        return \"Rising like the mist above the Spirit Tree ☁️\"\n",
    "    elif temp > 0:\n",
    "        return \"Flowing like the ocean of the Metkayina 🌊\"\n",
    "    else:\n",
    "        return \"Frozen like the ice cliffs of Pandora ❄️\"\n",
    "\n",
    "\n",
    "degrees = int(input(\"Enter a water temperature in Celsius: \"))\n",
    "\n",
    "print(way_of_water(degrees))"
   ],
   "outputs": [],
   "execution_count": null
  },
  {
   "cell_type": "code",
   "source": [],
   "metadata": {
    "id": "3z2zZ0BDjeSp"
   },
   "id": "3z2zZ0BDjeSp",
   "execution_count": null,
   "outputs": []
  }
 ],
 "metadata": {
  "kernelspec": {
   "display_name": "Python 3 (ipykernel)",
   "language": "python",
   "name": "python3"
  },
  "language_info": {
   "codemirror_mode": {
    "name": "ipython",
    "version": 3
   },
   "file_extension": ".py",
   "mimetype": "text/x-python",
   "name": "python",
   "nbconvert_exporter": "python",
   "pygments_lexer": "ipython3",
   "version": "3.8.12"
  },
  "colab": {
   "provenance": []
  }
 },
 "nbformat": 4,
 "nbformat_minor": 5
}
