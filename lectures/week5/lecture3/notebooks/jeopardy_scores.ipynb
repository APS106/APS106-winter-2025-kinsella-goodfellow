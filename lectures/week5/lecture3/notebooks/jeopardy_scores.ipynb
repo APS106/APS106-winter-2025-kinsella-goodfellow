{
 "cells": [
  {
   "metadata": {},
   "cell_type": "markdown",
   "source": [
    "# APS106 - Fundamentals of Computer Programming\n",
    "## Week 4 | Lecture 3 (4.3) - Jeopardy"
   ],
   "id": "6dddb142b7bf4a3e"
  },
  {
   "metadata": {},
   "cell_type": "code",
   "outputs": [],
   "execution_count": null,
   "source": "import utils",
   "id": "d6d15c25a9582254"
  },
  {
   "metadata": {},
   "cell_type": "code",
   "outputs": [],
   "execution_count": null,
   "source": [
    "scores = {\n",
    "    'mechanical': sum([]),\n",
    "    'chemical': sum([1000, 500, -1000, 500, 1000, 500, 250]),\n",
    "    'civil': sum([1000, -1000, -1000, -500, 500, 250, 250]),\n",
    "    'mineral': sum([-1000, 1000, -500, -500, -250]),\n",
    "    'materials': sum([]),\n",
    "    'industrial': sum([-1000, 500, 250]),\n",
    "    'track1': sum([500, 250])\n",
    "}\n",
    "\n",
    "utils.plot_scores(scores)"
   ],
   "id": "e0afdf5f0c68f702"
  },
  {
   "metadata": {},
   "cell_type": "code",
   "outputs": [],
   "execution_count": null,
   "source": "",
   "id": "312be35ecb235ad5"
  }
 ],
 "metadata": {
  "kernelspec": {
   "display_name": "Python 3 (ipykernel)",
   "language": "python",
   "name": "python3"
  },
  "language_info": {
   "codemirror_mode": {
    "name": "ipython",
    "version": 3
   },
   "file_extension": ".py",
   "mimetype": "text/x-python",
   "name": "python",
   "nbconvert_exporter": "python",
   "pygments_lexer": "ipython3",
   "version": "3.10.13"
  }
 },
 "nbformat": 4,
 "nbformat_minor": 5
}
