{
 "cells": [
  {
   "cell_type": "code",
   "execution_count": 4,
   "id": "4cc699d4",
   "metadata": {},
   "outputs": [
    {
     "name": "stdout",
     "output_type": "stream",
     "text": [
      "9\n"
     ]
    }
   ],
   "source": [
    "# \"Hello World\" - 250\n",
    "x = 17//3\n",
    "y = 9%5\n",
    "print(x+y)"
   ]
  },
  {
   "cell_type": "code",
   "execution_count": 4,
   "id": "7463369e",
   "metadata": {},
   "outputs": [
    {
     "name": "stdout",
     "output_type": "stream",
     "text": [
      "My name is Seb and I teach APS106\n",
      "My name is Ben and I teach APS106\n"
     ]
    }
   ],
   "source": [
    "# \"Hello World\" - 500\n",
    "x = \"Seb\"\n",
    "y = \"Ben\"\n",
    "print(\"My name\", \"is\", x, \"and I teach APS106\")\n",
    "print(\"My name is\", y, \"and\", \"I\", \"teach\", \"APS106\")"
   ]
  },
  {
   "cell_type": "code",
   "execution_count": 8,
   "id": "7a78c441",
   "metadata": {},
   "outputs": [
    {
     "name": "stdout",
     "output_type": "stream",
     "text": [
      "2 0\n"
     ]
    }
   ],
   "source": [
    "# \"Time to compare and get loopy\" - 250\n",
    "var1 = 0;\n",
    "var2 = 2;\n",
    "\n",
    "while((var2!=0) and ((var1 / var2) >= 0)):\n",
    "    var1 = var1 + 1\n",
    "    var2 = var2 - 1\n",
    "\n",
    "print (var1, var2)"
   ]
  },
  {
   "cell_type": "code",
   "execution_count": 10,
   "id": "ffe580d1",
   "metadata": {},
   "outputs": [
    {
     "name": "stdout",
     "output_type": "stream",
     "text": [
      "True\n",
      "False\n"
     ]
    }
   ],
   "source": [
    "# \"Time to compare and get loopy\" - 500\n",
    "print (\"John\" > \"Jhon\")\n",
    "print (\"Emma\" < \"Emm\")"
   ]
  },
  {
   "cell_type": "code",
   "execution_count": null,
   "id": "6b25f173",
   "metadata": {},
   "outputs": [],
   "source": [
    "# \"Time to compare and get loopy\" - 1000\n",
    "n = 10\n",
    "answer = 1\n",
    "while n > 0:\n",
    "    answer = answer + n\n",
    "    n = n + 1\n",
    "print (answer)"
   ]
  },
  {
   "cell_type": "code",
   "execution_count": 11,
   "id": "9abcb1bc",
   "metadata": {},
   "outputs": [
    {
     "name": "stdout",
     "output_type": "stream",
     "text": [
      "50\n"
     ]
    }
   ],
   "source": [
    "x = 100\n",
    "y = 50\n",
    "print (x and y)"
   ]
  },
  {
   "cell_type": "code",
   "execution_count": 12,
   "id": "185a638d",
   "metadata": {},
   "outputs": [],
   "source": [
    "x = 10\n",
    "y = 50\n",
    "if x ** 2 > 100 and y < 100:\n",
    "    print (x,y)"
   ]
  },
  {
   "cell_type": "code",
   "execution_count": 16,
   "id": "4101cade",
   "metadata": {},
   "outputs": [
    {
     "name": "stdout",
     "output_type": "stream",
     "text": [
      "3.0\n"
     ]
    }
   ],
   "source": [
    "print(9/3)"
   ]
  },
  {
   "cell_type": "code",
   "execution_count": 17,
   "id": "e892dec5",
   "metadata": {},
   "outputs": [],
   "source": [
    "## Long answer"
   ]
  },
  {
   "cell_type": "code",
   "execution_count": null,
   "id": "c0ebef12",
   "metadata": {},
   "outputs": [],
   "source": [
    "# Water exists in three states- solid, liquid, and gaseous. \n",
    "# Based on the temperature of the water given as an integer in the input, \n",
    "# determine the state of water. The temperature will be given in \n",
    "# Celsius degrees.\n",
    "\n",
    "# use any one of these three\n",
    "\n",
    "def water_phase_1(temp):\n",
    "    '''\n",
    "    (number) -> string\n",
    "    Returns a string corresponding to the state of water at temp degrees\n",
    "    celsius\n",
    "    '''\n",
    "    if temp > 100:\n",
    "        return \"Steam\"\n",
    "    elif temp > 0:\n",
    "        return \"Liquid\"\n",
    "    else:\n",
    "        return \"Ice, ice, baby\"\n",
    "    \n",
    "def water_phase_2(temp):\n",
    "    '''\n",
    "    (number) -> string\n",
    "    Returns a string corresponding to the state of water at temp degrees\n",
    "    celsius\n",
    "    '''\n",
    "    \n",
    "    if temp <= 0:\n",
    "        return \"Ice, ice, baby\"\n",
    "    elif degrees <= 100:\n",
    "        return \"Liquid\"\n",
    "    else:\n",
    "        return \"Steam\"\n",
    "\n",
    "def water_phase_3(temp):\n",
    "    '''\n",
    "    (number) -> string\n",
    "    Returns a string corresponding to the state of water at temp degrees\n",
    "    celsius\n",
    "    '''\n",
    "    \n",
    "    state = \"Ice, ice, baby\"\n",
    "    if degrees > 100:\n",
    "        state = \"Steam\"\n",
    "    elif degrees > 0:\n",
    "        state = \"Liquid\"\n",
    "    # why don't I need an else?\n",
    "    \n",
    "    return state\n",
    "    \n",
    "\n",
    "degrees = int(input(\"Enter a temperature in Celsius: \"))\n",
    "\n",
    "print(water_phase_1(degrees))\n",
    "print(water_phase_2(degrees))\n",
    "print(water_phase_3(degrees))\n"
   ]
  }
 ],
 "metadata": {
  "kernelspec": {
   "display_name": "Python 3 (ipykernel)",
   "language": "python",
   "name": "python3"
  },
  "language_info": {
   "codemirror_mode": {
    "name": "ipython",
    "version": 3
   },
   "file_extension": ".py",
   "mimetype": "text/x-python",
   "name": "python",
   "nbconvert_exporter": "python",
   "pygments_lexer": "ipython3",
   "version": "3.8.12"
  }
 },
 "nbformat": 4,
 "nbformat_minor": 5
}