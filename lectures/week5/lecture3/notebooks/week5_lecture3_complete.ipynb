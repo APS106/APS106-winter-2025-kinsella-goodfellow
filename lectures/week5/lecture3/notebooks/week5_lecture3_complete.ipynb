{
  "cells": [
    {
      "metadata": {
        "id": "60fbc0c3f365b428"
      },
      "cell_type": "markdown",
      "source": [
        "#### The Upside Down - $250"
      ],
      "id": "60fbc0c3f365b428"
    },
    {
      "cell_type": "code",
      "id": "4cc699d4",
      "metadata": {
        "jupyter": {
          "is_executing": true
        },
        "colab": {
          "base_uri": "https://localhost:8080/"
        },
        "id": "4cc699d4",
        "outputId": "1098272d-6348-4d3e-cece-c4f7d0d4fd86"
      },
      "source": [
        "# What is the output?\n",
        "\n",
        "message = \"THE UPSIDE DOWN\"\n",
        "print(message[4:-4])"
      ],
      "outputs": [
        {
          "output_type": "stream",
          "name": "stdout",
          "text": [
            "UPSIDE \n"
          ]
        }
      ],
      "execution_count": 40
    },
    {
      "metadata": {
        "id": "60af9d562d439df1"
      },
      "cell_type": "markdown",
      "source": [
        "#### Dustin’s Secret Transmission - $500"
      ],
      "id": "60af9d562d439df1"
    },
    {
      "metadata": {
        "jupyter": {
          "is_executing": true
        },
        "colab": {
          "base_uri": "https://localhost:8080/"
        },
        "id": "5f459630424563b8",
        "outputId": "662c53f0-f039-4481-cbe8-0c12e22e2a5d"
      },
      "cell_type": "code",
      "source": [
        "# What is the output?\n",
        "\n",
        "radio_signal = \"Nobody normal ever accomplished anything meaningful in this world.\"\n",
        "radio_signal = radio_signal.lower()\n",
        "radio_signal = radio_signal.upper()\n",
        "radio_signal = radio_signal[15:4:-4]\n",
        "print(radio_signal)"
      ],
      "id": "5f459630424563b8",
      "outputs": [
        {
          "output_type": "stream",
          "name": "stdout",
          "text": [
            "VAN\n"
          ]
        }
      ],
      "execution_count": 41
    },
    {
      "metadata": {
        "id": "b5342f01c93fc59d"
      },
      "cell_type": "markdown",
      "source": [
        "#### Cracking Eleven’s Code - $1000"
      ],
      "id": "b5342f01c93fc59d"
    },
    {
      "metadata": {
        "jupyter": {
          "is_executing": true
        },
        "colab": {
          "base_uri": "https://localhost:8080/"
        },
        "id": "6d7220a4a6b6b1a3",
        "outputId": "72262633-e5ba-4b17-e37c-91327e7f3d86"
      },
      "cell_type": "code",
      "source": [
        "# Provide the print statement that will give this output?\n",
        "\n",
        "my_name = \"MIRKWOOD\"\n",
        "for i in range(len(my_name)):\n",
        "    print(' '*(i*8) + my_name[i])"
      ],
      "id": "6d7220a4a6b6b1a3",
      "outputs": [
        {
          "output_type": "stream",
          "name": "stdout",
          "text": [
            "M\n",
            "        I\n",
            "                R\n",
            "                        K\n",
            "                                W\n",
            "                                        O\n",
            "                                                O\n",
            "                                                        D\n"
          ]
        }
      ],
      "execution_count": 42
    },
    {
      "metadata": {
        "id": "908f98546dfcfe56"
      },
      "cell_type": "markdown",
      "source": [
        "#### The Loop Awakens - $250"
      ],
      "id": "908f98546dfcfe56"
    },
    {
      "metadata": {
        "colab": {
          "base_uri": "https://localhost:8080/"
        },
        "id": "2c4d67eda01e802f",
        "outputId": "4e6e59e3-c5e5-42da-eaee-9f2528f0f95d"
      },
      "cell_type": "code",
      "outputs": [
        {
          "output_type": "stream",
          "name": "stdout",
          "text": [
            "2 0\n"
          ]
        }
      ],
      "execution_count": 43,
      "source": [
        "# What are the values of var1 and var2 after the following code segment\n",
        "# is executed and the while loop finished?\n",
        "\n",
        "var1 = 0;\n",
        "var2 = 2;\n",
        "\n",
        "while ((var2!=0) and ((var1 / var2) >= 0)):\n",
        "    var1 = var1 + 1;\n",
        "    var2 = var2 - 1;\n",
        "\n",
        "print(var1, var2)"
      ],
      "id": "2c4d67eda01e802f"
    },
    {
      "metadata": {
        "id": "81d24583a78e8ce7"
      },
      "cell_type": "markdown",
      "source": [
        "#### Duel of Strings - $500"
      ],
      "id": "81d24583a78e8ce7"
    },
    {
      "metadata": {
        "jupyter": {
          "is_executing": true
        },
        "colab": {
          "base_uri": "https://localhost:8080/"
        },
        "id": "a5d4915ff9bb62e0",
        "outputId": "8938c0f0-73fe-479e-ccf8-4bd3c2078cfd"
      },
      "cell_type": "code",
      "source": [
        "# what is the output?\n",
        "\n",
        "print(\"Yoda\" > \"YodA\")\n",
        "print(\"Obi-Wan\" < \"Obi\")"
      ],
      "id": "a5d4915ff9bb62e0",
      "outputs": [
        {
          "output_type": "stream",
          "name": "stdout",
          "text": [
            "True\n",
            "False\n"
          ]
        }
      ],
      "execution_count": 44
    },
    {
      "metadata": {
        "id": "db1cf9f9c738992b"
      },
      "cell_type": "markdown",
      "source": [
        "#### Darth Debugger - $1000"
      ],
      "id": "db1cf9f9c738992b"
    },
    {
      "cell_type": "code",
      "id": "6b25f173",
      "metadata": {
        "jupyter": {
          "is_executing": true
        },
        "colab": {
          "base_uri": "https://localhost:8080/",
          "height": 211
        },
        "id": "6b25f173",
        "outputId": "a6b5ee42-a9d5-4bcd-8fd2-99848f8d7dbb"
      },
      "source": [
        "# Verbally explain what happens in the following piece of code:\n",
        "\n",
        "n = 10\n",
        "answer = 1\n",
        "while n > 0:\n",
        "    answer = answer + n\n",
        "    n = n + 1\n",
        "print (answer)"
      ],
      "outputs": [
        {
          "output_type": "error",
          "ename": "KeyboardInterrupt",
          "evalue": "",
          "traceback": [
            "\u001b[0;31m---------------------------------------------------------------------------\u001b[0m",
            "\u001b[0;31mKeyboardInterrupt\u001b[0m                         Traceback (most recent call last)",
            "\u001b[0;32m<ipython-input-56-625ae9f62d9c>\u001b[0m in \u001b[0;36m<cell line: 0>\u001b[0;34m()\u001b[0m\n\u001b[1;32m      3\u001b[0m \u001b[0mn\u001b[0m \u001b[0;34m=\u001b[0m \u001b[0;36m10\u001b[0m\u001b[0;34m\u001b[0m\u001b[0;34m\u001b[0m\u001b[0m\n\u001b[1;32m      4\u001b[0m \u001b[0manswer\u001b[0m \u001b[0;34m=\u001b[0m \u001b[0;36m1\u001b[0m\u001b[0;34m\u001b[0m\u001b[0;34m\u001b[0m\u001b[0m\n\u001b[0;32m----> 5\u001b[0;31m \u001b[0;32mwhile\u001b[0m \u001b[0mn\u001b[0m \u001b[0;34m>\u001b[0m \u001b[0;36m0\u001b[0m\u001b[0;34m:\u001b[0m\u001b[0;34m\u001b[0m\u001b[0;34m\u001b[0m\u001b[0m\n\u001b[0m\u001b[1;32m      6\u001b[0m     \u001b[0manswer\u001b[0m \u001b[0;34m=\u001b[0m \u001b[0manswer\u001b[0m \u001b[0;34m+\u001b[0m \u001b[0mn\u001b[0m\u001b[0;34m\u001b[0m\u001b[0;34m\u001b[0m\u001b[0m\n\u001b[1;32m      7\u001b[0m     \u001b[0mn\u001b[0m \u001b[0;34m=\u001b[0m \u001b[0mn\u001b[0m \u001b[0;34m+\u001b[0m \u001b[0;36m1\u001b[0m\u001b[0;34m\u001b[0m\u001b[0;34m\u001b[0m\u001b[0m\n",
            "\u001b[0;31mKeyboardInterrupt\u001b[0m: "
          ]
        }
      ],
      "execution_count": 56
    },
    {
      "metadata": {
        "id": "bcded41764f4fd29"
      },
      "cell_type": "markdown",
      "source": [
        "#### Red Pill OR Blue Pill - $250"
      ],
      "id": "bcded41764f4fd29"
    },
    {
      "cell_type": "code",
      "execution_count": 45,
      "id": "9abcb1bc",
      "metadata": {
        "colab": {
          "base_uri": "https://localhost:8080/"
        },
        "id": "9abcb1bc",
        "outputId": "1a63428b-a442-45f0-86b2-d4097b592993"
      },
      "outputs": [
        {
          "output_type": "stream",
          "name": "stdout",
          "text": [
            "101\n"
          ]
        }
      ],
      "source": [
        "# What is the output?\n",
        "\n",
        "red_pill = 100\n",
        "blue_pill = 101\n",
        "print(red_pill and blue_pill)"
      ]
    },
    {
      "metadata": {
        "id": "1716b911a1689147"
      },
      "cell_type": "markdown",
      "source": [
        "#### Agent Smith’s Logic Trap - $500"
      ],
      "id": "1716b911a1689147"
    },
    {
      "cell_type": "code",
      "id": "185a638d",
      "metadata": {
        "jupyter": {
          "is_executing": true
        },
        "id": "185a638d"
      },
      "source": [
        "# What is the output?\n",
        "\n",
        "neo_choice = 10\n",
        "morpheus_signal = 25\n",
        "if neo_choice**2 > 100 and morpheus_signal < 50:\n",
        "    print(\"Welcome to the real world.\")"
      ],
      "outputs": [],
      "execution_count": 46
    },
    {
      "metadata": {
        "id": "b8f2ec1341fc783e"
      },
      "cell_type": "markdown",
      "source": [
        "#### The One Condition - $1000"
      ],
      "id": "b8f2ec1341fc783e"
    },
    {
      "metadata": {
        "jupyter": {
          "is_executing": true
        },
        "colab": {
          "base_uri": "https://localhost:8080/"
        },
        "collapsed": true,
        "id": "7e809e7a01fb95cc",
        "outputId": "f0cedf62-1959-4a11-fb50-275e0bbe6168"
      },
      "cell_type": "code",
      "source": [
        "# Which Boolean condition will evaluate True when matrix == \"real_world\" or matrix == \"illusion\"?\n",
        "\n",
        "matrix = \"real_world\"\n",
        "print(matrix == \"real_world\" == \"illusion\")\n",
        "print(matrix = \"real_world\" or matrix = \"illusion\")\n",
        "print(matrix == \"real_world\" or matrix == \"illusion\")\n",
        "print(matrix = \"real_world\" and matrix = \"illusion\")\n",
        "print(matrix == \"real_world\" and matrix == \"illusion\")"
      ],
      "id": "7e809e7a01fb95cc",
      "outputs": [
        {
          "output_type": "stream",
          "name": "stdout",
          "text": [
            "False\n",
            "True\n",
            "False\n"
          ]
        }
      ],
      "execution_count": 18
    },
    {
      "metadata": {
        "id": "706a38985873a9ea"
      },
      "cell_type": "markdown",
      "source": [
        "#### True power of the Dark Knight - $250"
      ],
      "id": "706a38985873a9ea"
    },
    {
      "metadata": {
        "jupyter": {
          "is_executing": true
        },
        "colab": {
          "base_uri": "https://localhost:8080/",
          "height": 228
        },
        "id": "574809ddb519f9c4",
        "outputId": "f9a67988-2c7a-4acc-b8dc-8460794fe5c3"
      },
      "cell_type": "code",
      "source": [
        "# What is the outcome of executing the code above?\n",
        "\n",
        "def dark_knight_power(num):\n",
        "    \"\"\"The Dark Knight rises... to the power of 3.\"\"\"\n",
        "    print(num**3)\n",
        "\n",
        "# The Dark Knight tests his might\n",
        "bat_signal1 = dark_knight_power(5)\n",
        "bat_signal2 = bat_signal1 + 1\n",
        "\n",
        "print(f\"Gotham's power level: {bat_signal2}\")\n",
        "\n",
        "# But justice never rests..."
      ],
      "id": "574809ddb519f9c4",
      "outputs": [
        {
          "output_type": "stream",
          "name": "stdout",
          "text": [
            "125\n"
          ]
        },
        {
          "output_type": "error",
          "ename": "TypeError",
          "evalue": "unsupported operand type(s) for +: 'NoneType' and 'int'",
          "traceback": [
            "\u001b[0;31m---------------------------------------------------------------------------\u001b[0m",
            "\u001b[0;31mTypeError\u001b[0m                                 Traceback (most recent call last)",
            "\u001b[0;32m<ipython-input-57-b83b2b169835>\u001b[0m in \u001b[0;36m<cell line: 0>\u001b[0;34m()\u001b[0m\n\u001b[1;32m      7\u001b[0m \u001b[0;31m# The Dark Knight tests his might\u001b[0m\u001b[0;34m\u001b[0m\u001b[0;34m\u001b[0m\u001b[0m\n\u001b[1;32m      8\u001b[0m \u001b[0mbat_signal1\u001b[0m \u001b[0;34m=\u001b[0m \u001b[0mdark_knight_power\u001b[0m\u001b[0;34m(\u001b[0m\u001b[0;36m5\u001b[0m\u001b[0;34m)\u001b[0m\u001b[0;34m\u001b[0m\u001b[0;34m\u001b[0m\u001b[0m\n\u001b[0;32m----> 9\u001b[0;31m \u001b[0mbat_signal2\u001b[0m \u001b[0;34m=\u001b[0m \u001b[0mbat_signal1\u001b[0m \u001b[0;34m+\u001b[0m \u001b[0;36m1\u001b[0m\u001b[0;34m\u001b[0m\u001b[0;34m\u001b[0m\u001b[0m\n\u001b[0m\u001b[1;32m     10\u001b[0m \u001b[0;34m\u001b[0m\u001b[0m\n\u001b[1;32m     11\u001b[0m \u001b[0mprint\u001b[0m\u001b[0;34m(\u001b[0m\u001b[0;34mf\"Gotham's power level: {bat_signal2}\"\u001b[0m\u001b[0;34m)\u001b[0m\u001b[0;34m\u001b[0m\u001b[0;34m\u001b[0m\u001b[0m\n",
            "\u001b[0;31mTypeError\u001b[0m: unsupported operand type(s) for +: 'NoneType' and 'int'"
          ]
        }
      ],
      "execution_count": 57
    },
    {
      "metadata": {
        "id": "c6686c151de1ea2"
      },
      "cell_type": "markdown",
      "source": [
        "#### Get func-y with it - $500"
      ],
      "id": "c6686c151de1ea2"
    },
    {
      "metadata": {
        "jupyter": {
          "is_executing": true
        },
        "colab": {
          "base_uri": "https://localhost:8080/"
        },
        "id": "597b6e97d4dab2a8",
        "outputId": "e2209a26-4fe3-4ffe-bfef-818ccb333207"
      },
      "cell_type": "code",
      "source": [
        "# What is the output?\n",
        "\n",
        "def batman_or_joker(score):\n",
        "    if score > 90:\n",
        "        return \"You're Batman.\"\n",
        "    elif score > 50:\n",
        "        return \"You're Two-Face.\"\n",
        "    else:\n",
        "        return \"You're Joker.\"\n",
        "\n",
        "print(batman_or_joker(85))"
      ],
      "id": "597b6e97d4dab2a8",
      "outputs": [
        {
          "output_type": "stream",
          "name": "stdout",
          "text": [
            "You're Two-Face.\n"
          ]
        }
      ],
      "execution_count": 47
    },
    {
      "metadata": {
        "id": "45b8cf94db492a72"
      },
      "cell_type": "markdown",
      "source": [
        "#### It's All Part of the Plan - $1000"
      ],
      "id": "45b8cf94db492a72"
    },
    {
      "cell_type": "code",
      "source": [
        "# 1. The Dark Knight-Themed Function\n",
        "\n",
        "def where_is_batman(city):\n",
        "    \"\"\"Gotham needs to know where he is...\"\"\"\n",
        "    print(\"Gotham\")\n",
        "    return \"Gotham\""
      ],
      "metadata": {
        "id": "qynUsaXWPtBx"
      },
      "id": "qynUsaXWPtBx",
      "execution_count": 50,
      "outputs": []
    },
    {
      "cell_type": "code",
      "source": [
        "bat_signal = where_is_batman('Gotham')"
      ],
      "metadata": {
        "colab": {
          "base_uri": "https://localhost:8080/"
        },
        "id": "hBzYX4rYPvNT",
        "outputId": "58a4bebb-c46d-4e3d-893f-5b05e51d6882"
      },
      "id": "hBzYX4rYPvNT",
      "execution_count": 51,
      "outputs": [
        {
          "output_type": "stream",
          "name": "stdout",
          "text": [
            "Gotham\n"
          ]
        }
      ]
    },
    {
      "cell_type": "code",
      "source": [
        "print(bat_signal)"
      ],
      "metadata": {
        "colab": {
          "base_uri": "https://localhost:8080/"
        },
        "id": "TNnOXGd4PwtT",
        "outputId": "cf33dc0c-3170-43c8-f221-2c30f4c71fcb"
      },
      "id": "TNnOXGd4PwtT",
      "execution_count": 52,
      "outputs": [
        {
          "output_type": "stream",
          "name": "stdout",
          "text": [
            "Gotham\n"
          ]
        }
      ]
    },
    {
      "metadata": {
        "id": "93f463e693949a2a"
      },
      "cell_type": "markdown",
      "source": [
        "#### Operation Divide & Fall - $250"
      ],
      "id": "93f463e693949a2a"
    },
    {
      "metadata": {
        "jupyter": {
          "is_executing": true
        },
        "colab": {
          "base_uri": "https://localhost:8080/",
          "height": 176
        },
        "id": "43eed43bed35aeac",
        "outputId": "8f19e8d1-0012-4f1c-c38f-3e808e175375"
      },
      "cell_type": "code",
      "source": [
        "# A program runs and during running is asked to divide by zero, the program crashes.\n",
        "# This is an example of?\n",
        "\n",
        "secret_code = 1524312837\n",
        "print(secret_code / 0)"
      ],
      "id": "43eed43bed35aeac",
      "outputs": [
        {
          "output_type": "error",
          "ename": "ZeroDivisionError",
          "evalue": "division by zero",
          "traceback": [
            "\u001b[0;31m---------------------------------------------------------------------------\u001b[0m",
            "\u001b[0;31mZeroDivisionError\u001b[0m                         Traceback (most recent call last)",
            "\u001b[0;32m<ipython-input-58-ddabc1154aac>\u001b[0m in \u001b[0;36m<cell line: 0>\u001b[0;34m()\u001b[0m\n\u001b[1;32m      3\u001b[0m \u001b[0;34m\u001b[0m\u001b[0m\n\u001b[1;32m      4\u001b[0m \u001b[0msecret_code\u001b[0m \u001b[0;34m=\u001b[0m \u001b[0;36m1524312837\u001b[0m\u001b[0;34m\u001b[0m\u001b[0;34m\u001b[0m\u001b[0m\n\u001b[0;32m----> 5\u001b[0;31m \u001b[0mprint\u001b[0m\u001b[0;34m(\u001b[0m\u001b[0msecret_code\u001b[0m \u001b[0;34m/\u001b[0m \u001b[0;36m0\u001b[0m\u001b[0;34m)\u001b[0m\u001b[0;34m\u001b[0m\u001b[0;34m\u001b[0m\u001b[0m\n\u001b[0m",
            "\u001b[0;31mZeroDivisionError\u001b[0m: division by zero"
          ]
        }
      ],
      "execution_count": 58
    },
    {
      "metadata": {
        "id": "93801978e4c66c7b"
      },
      "cell_type": "markdown",
      "source": [
        "#### Undercover syntax - $500"
      ],
      "id": "93801978e4c66c7b"
    },
    {
      "metadata": {
        "colab": {
          "base_uri": "https://localhost:8080/"
        },
        "id": "770fd48610020462",
        "outputId": "138bf235-2749-43b1-a4d8-ec2a4a74f3d3"
      },
      "cell_type": "code",
      "outputs": [
        {
          "output_type": "stream",
          "name": "stdout",
          "text": [
            "3.0\n"
          ]
        }
      ],
      "execution_count": 53,
      "source": [
        "# What will the output be from the following code?\n",
        "\n",
        "agent_status = 9\n",
        "print(agent_status / 3)"
      ],
      "id": "770fd48610020462"
    },
    {
      "metadata": {
        "id": "9ac85334e71b8c61"
      },
      "cell_type": "markdown",
      "source": [
        "#### The Disavowed Input - $1000"
      ],
      "id": "9ac85334e71b8c61"
    },
    {
      "metadata": {
        "jupyter": {
          "is_executing": true
        },
        "colab": {
          "base_uri": "https://localhost:8080/"
        },
        "id": "a0cca985d84a7788",
        "outputId": "1feaa504-a5d7-461f-a7d4-82a08a2f583e"
      },
      "cell_type": "code",
      "source": [
        "# A hacker inputs \"ethanhunt\" and receives the response \"Intruder Detected! Self-destruct in 5 seconds.\".  What kind of error is that?\n",
        "\n",
        "access_code = input(\"Enter IMF override key: \")\n",
        "if access_code == \"EthanHunt\":\n",
        "    print(\"Mission Authorized!\")\n",
        "else:\n",
        "    print(\"Intruder Detected! Self-destruct in 5 seconds.\")"
      ],
      "id": "a0cca985d84a7788",
      "outputs": [
        {
          "output_type": "stream",
          "name": "stdout",
          "text": [
            "Enter IMF override key: ethanhunt\n",
            "Intruder Detected! Self-destruct in 5 seconds.\n"
          ]
        }
      ],
      "execution_count": 55
    },
    {
      "metadata": {
        "id": "f8419438ffdc5d94"
      },
      "cell_type": "markdown",
      "source": [
        "#### Mastering the ocean's flow"
      ],
      "id": "f8419438ffdc5d94"
    },
    {
      "cell_type": "code",
      "execution_count": 39,
      "id": "c0ebef12",
      "metadata": {
        "colab": {
          "base_uri": "https://localhost:8080/"
        },
        "id": "c0ebef12",
        "outputId": "50857d3e-9aee-406e-9873-d6d4bf616cc6"
      },
      "outputs": [
        {
          "output_type": "stream",
          "name": "stdout",
          "text": [
            "Enter a water temperature in Celsius: 0\n",
            "Frozen like the ice cliffs of Pandora ❄️\n",
            "Frozen like the ice cliffs of Pandora ❄️\n",
            "Frozen like the ice cliffs of Pandora ❄️\n"
          ]
        }
      ],
      "source": [
        "# On Pandora, water changes depending on the environment.\n",
        "# At freezing temperatures, it becomes solid ice.\n",
        "# When the temperature is normal, it flows gently.\n",
        "# When it’s too hot, it turns into steam.\n",
        "\n",
        "# Your task:\n",
        "# Determine the state of Pandora’s water based on its temperature.\n",
        "# Write a function that determines whether Pandora’s water is ice, liquid, or steam based on temperature.\n",
        "\n",
        "# use any one of these three\n",
        "\n",
        "def way_of_water_1(temp):\n",
        "    '''\n",
        "    (number) -> string\n",
        "    Returns the state of water on Pandora at temp degrees Celsius.\n",
        "    '''\n",
        "    if temp > 100:\n",
        "        return \"Rising like the mist above the Spirit Tree ☁️\"\n",
        "    elif temp > 0:\n",
        "        return \"Flowing like the ocean of the Metkayina 🌊\"\n",
        "    else:\n",
        "        return \"Frozen like the ice cliffs of Pandora ❄️\"\n",
        "\n",
        "\n",
        "def way_of_water_2(temp):\n",
        "    '''\n",
        "    (number) -> string\n",
        "    Returns the state of water on Pandora at temp degrees Celsius.\n",
        "    '''\n",
        "\n",
        "    if temp <= 0:\n",
        "        return \"Frozen like the ice cliffs of Pandora ❄️\"\n",
        "    elif temp <= 100:\n",
        "        return \"Flowing like the ocean of the Metkayina 🌊\"\n",
        "    else:\n",
        "        return \"Rising like the mist above the Spirit Tree ☁️\"\n",
        "\n",
        "\n",
        "def way_of_water_3(temp):\n",
        "    '''\n",
        "    (number) -> string\n",
        "    Returns the state of water on Pandora at temp degrees Celsius.\n",
        "    '''\n",
        "\n",
        "    state = \"Frozen like the ice cliffs of Pandora ❄️\"\n",
        "    if temp > 100:\n",
        "        state = \"Rising like the mist above the Spirit Tree ☁️\"\n",
        "    elif temp > 0:\n",
        "        state = \"Flowing like the ocean of the Metkayina 🌊\"\n",
        "\n",
        "    return state\n",
        "\n",
        "\n",
        "degrees = int(input(\"Enter a water temperature in Celsius: \"))\n",
        "\n",
        "print(way_of_water_1(degrees))\n",
        "print(way_of_water_2(degrees))\n",
        "print(way_of_water_3(degrees))\n"
      ]
    },
    {
      "cell_type": "code",
      "source": [],
      "metadata": {
        "id": "3z2zZ0BDjeSp"
      },
      "id": "3z2zZ0BDjeSp",
      "execution_count": null,
      "outputs": []
    }
  ],
  "metadata": {
    "kernelspec": {
      "display_name": "Python 3 (ipykernel)",
      "language": "python",
      "name": "python3"
    },
    "language_info": {
      "codemirror_mode": {
        "name": "ipython",
        "version": 3
      },
      "file_extension": ".py",
      "mimetype": "text/x-python",
      "name": "python",
      "nbconvert_exporter": "python",
      "pygments_lexer": "ipython3",
      "version": "3.8.12"
    },
    "colab": {
      "provenance": []
    }
  },
  "nbformat": 4,
  "nbformat_minor": 5
}